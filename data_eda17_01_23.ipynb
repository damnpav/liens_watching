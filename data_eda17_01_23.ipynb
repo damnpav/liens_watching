{
 "cells": [
  {
   "cell_type": "code",
   "execution_count": 1,
   "metadata": {
    "collapsed": true,
    "pycharm": {
     "name": "#%%\n"
    }
   },
   "outputs": [],
   "source": [
    "import pandas as pd\n",
    "from pandas_profiling import ProfileReport"
   ]
  },
  {
   "cell_type": "code",
   "execution_count": 20,
   "outputs": [],
   "source": [
    "import ast"
   ],
   "metadata": {
    "collapsed": false,
    "pycharm": {
     "name": "#%%\n"
    }
   }
  },
  {
   "cell_type": "code",
   "execution_count": 2,
   "outputs": [],
   "source": [
    "import numpy as np"
   ],
   "metadata": {
    "collapsed": false,
    "pycharm": {
     "name": "#%%\n"
    }
   }
  },
  {
   "cell_type": "code",
   "execution_count": 3,
   "outputs": [],
   "source": [
    "from datetime import datetime as dt"
   ],
   "metadata": {
    "collapsed": false,
    "pycharm": {
     "name": "#%%\n"
    }
   }
  },
  {
   "cell_type": "code",
   "execution_count": 23,
   "outputs": [],
   "source": [
    "from tqdm import tqdm"
   ],
   "metadata": {
    "collapsed": false,
    "pycharm": {
     "name": "#%%\n"
    }
   }
  },
  {
   "cell_type": "code",
   "execution_count": 4,
   "outputs": [],
   "source": [
    "import re"
   ],
   "metadata": {
    "collapsed": false,
    "pycharm": {
     "name": "#%%\n"
    }
   }
  },
  {
   "cell_type": "code",
   "execution_count": 44,
   "outputs": [],
   "source": [
    "lien_df = pd.read_csv(r'/Users/dp_user/PycharmProjects/portal_da/data/refined_df_00_09_17_01_2023.csv', sep=';')"
   ],
   "metadata": {
    "collapsed": false,
    "pycharm": {
     "name": "#%%\n"
    }
   }
  },
  {
   "cell_type": "code",
   "execution_count": 45,
   "outputs": [],
   "source": [
    "lien_df['views'] = lien_df['views'].apply(lambda x: re.sub('\\D+', '', str(x)))"
   ],
   "metadata": {
    "collapsed": false,
    "pycharm": {
     "name": "#%%\n"
    }
   }
  },
  {
   "cell_type": "code",
   "execution_count": 46,
   "outputs": [],
   "source": [
    "lien_df['views'] = lien_df['views'].apply(pd.to_numeric)"
   ],
   "metadata": {
    "collapsed": false,
    "pycharm": {
     "name": "#%%\n"
    }
   }
  },
  {
   "cell_type": "code",
   "execution_count": 72,
   "outputs": [],
   "source": [
    "lien_profile = ProfileReport(lien_df, title=\"Lien Data Profiling Report\")"
   ],
   "metadata": {
    "collapsed": false,
    "pycharm": {
     "name": "#%%\n"
    }
   }
  },
  {
   "cell_type": "code",
   "execution_count": 73,
   "outputs": [
    {
     "data": {
      "text/plain": "Summarize dataset:   0%|          | 0/5 [00:00<?, ?it/s]",
      "application/vnd.jupyter.widget-view+json": {
       "version_major": 2,
       "version_minor": 0,
       "model_id": "71de6a930d3c4c8f937073e35258c6b0"
      }
     },
     "metadata": {},
     "output_type": "display_data"
    },
    {
     "data": {
      "text/plain": "Generate report structure:   0%|          | 0/1 [00:00<?, ?it/s]",
      "application/vnd.jupyter.widget-view+json": {
       "version_major": 2,
       "version_minor": 0,
       "model_id": "e869761d70994325b7369d11f3b5f115"
      }
     },
     "metadata": {},
     "output_type": "display_data"
    },
    {
     "data": {
      "text/plain": "Render HTML:   0%|          | 0/1 [00:00<?, ?it/s]",
      "application/vnd.jupyter.widget-view+json": {
       "version_major": 2,
       "version_minor": 0,
       "model_id": "c1ce730cc10b45f090bf3b7396dd12b7"
      }
     },
     "metadata": {},
     "output_type": "display_data"
    },
    {
     "data": {
      "text/plain": "Export report to file:   0%|          | 0/1 [00:00<?, ?it/s]",
      "application/vnd.jupyter.widget-view+json": {
       "version_major": 2,
       "version_minor": 0,
       "model_id": "270966c0127948c5b7508584cb8926f0"
      }
     },
     "metadata": {},
     "output_type": "display_data"
    }
   ],
   "source": [
    "lien_profile.to_file(\"lien_profile.html\")"
   ],
   "metadata": {
    "collapsed": false,
    "pycharm": {
     "name": "#%%\n"
    }
   }
  },
  {
   "cell_type": "code",
   "execution_count": 35,
   "outputs": [],
   "source": [
    "# окей, есть репорт, надо попробовать что то из него вытащить\n",
    "# основная проблема, что нет корреляций хороших\n",
    "# надо что то искать в днях простоя объекта и в геолокации\n",
    "# корреляции между днем простоя и ценой тоже нет => надо уходить в геолокацию\n",
    "# TODO - надо еще добавить факт аукциона - эта тема тоже не работает, в общем надо генерит\n",
    "# и также похоже фича seller залетает норм"
   ],
   "metadata": {
    "collapsed": false,
    "pycharm": {
     "name": "#%%\n"
    }
   }
  },
  {
   "cell_type": "code",
   "execution_count": 55,
   "outputs": [],
   "source": [],
   "metadata": {
    "collapsed": false,
    "pycharm": {
     "name": "#%%\n"
    }
   }
  },
  {
   "cell_type": "code",
   "execution_count": 40,
   "outputs": [],
   "source": [
    "date_exmpl = '15 ноября 2022'"
   ],
   "metadata": {
    "collapsed": false,
    "pycharm": {
     "name": "#%%\n"
    }
   }
  },
  {
   "cell_type": "code",
   "execution_count": 8,
   "outputs": [
    {
     "data": {
      "text/plain": "'ru_RU.UTF-8'"
     },
     "execution_count": 8,
     "metadata": {},
     "output_type": "execute_result"
    }
   ],
   "source": [
    "import locale\n",
    "locale.setlocale(locale.LC_TIME, 'ru_RU.UTF-8')"
   ],
   "metadata": {
    "collapsed": false,
    "pycharm": {
     "name": "#%%\n"
    }
   }
  },
  {
   "cell_type": "code",
   "execution_count": 43,
   "outputs": [
    {
     "data": {
      "text/plain": "Timestamp('2022-11-15 00:00:00')"
     },
     "execution_count": 43,
     "metadata": {},
     "output_type": "execute_result"
    }
   ],
   "source": [
    "pd.to_datetime(date_exmpl, format='%d %B %Y')"
   ],
   "metadata": {
    "collapsed": false,
    "pycharm": {
     "name": "#%%\n"
    }
   }
  },
  {
   "cell_type": "code",
   "execution_count": 46,
   "outputs": [
    {
     "data": {
      "text/plain": "63.03648428177084"
     },
     "execution_count": 46,
     "metadata": {},
     "output_type": "execute_result"
    }
   ],
   "source": [
    "(dt.now() - pd.to_datetime(date_exmpl, format='%d %B %Y')).total_seconds()/60/60/24"
   ],
   "metadata": {
    "collapsed": false,
    "pycharm": {
     "name": "#%%\n"
    }
   }
  },
  {
   "cell_type": "code",
   "execution_count": 49,
   "outputs": [
    {
     "data": {
      "text/plain": "     asset_id   views publication_date                      contact_name  \\\n0    814114.0  1535.0   15 ноября 2022            Контактный Центр Банка   \n1    814114.0  1535.0   15 ноября 2022            Контактный Центр Банка   \n2    641505.0  2311.0    31 марта 2022        Гаас Александра Георгиевна   \n3    169347.0   466.0   18 апреля 2022            Брюнель Ева Жисленовна   \n4    899895.0  1286.0     25 июня 2022  Плесняев Александр Александрович   \n..        ...     ...              ...                               ...   \n844  691104.0   269.0      20 мая 2021            Коваленко Александр Ан   \n845  630263.0   279.0      20 мая 2021            Коваленко Александр Ан   \n846  177552.0   281.0      20 мая 2021            Коваленко Александр Ан   \n847  841885.0   610.0      11 мая 2021          Нуриев Эдуард Рамзилович   \n848  419254.0   461.0   22 апреля 2021        Самойленко Денис Сергеевич   \n\n                          seller_name    square  price_value  \\\n0                      Банк ВТБ (ПАО)       NaN   48700000.0   \n1                      Банк ВТБ (ПАО)       NaN   48700000.0   \n2                     Физическое лицо   25111.0  145500000.0   \n3                     Физическое лицо   50574.0    4500000.0   \n4    Плесняев Александр Александрович  504500.0   23450000.0   \n..                                ...       ...          ...   \n844               АО \"Россельхозбанк\"    1527.0   10709963.0   \n845               АО \"Россельхозбанк\"    1321.0    9265136.0   \n846               АО \"Россельхозбанк\"    1676.0   11755032.0   \n847               АО \"Россельхозбанк\"  150100.0     226651.0   \n848                      ПАО Сбербанк   10000.0    8270000.0   \n\n                           cadastral_geocode  \\\n0                                        NaN   \n1                                        NaN   \n2     [51.94720028246027, 84.88831594503662]   \n3     [56.77190698765615, 38.88962726762723]   \n4    [55.73199800626753, 35.340751735565306]   \n..                                       ...   \n844   [56.21913602478085, 38.82900562858026]   \n845  [56.220926330893064, 38.83048310378695]   \n846    [56.21983629294916, 38.8300820194728]   \n847  [55.822853130025955, 52.73092958759532]   \n848   [57.14073651577907, 33.14393000643601]   \n\n                              region_geocode  \n0                   [55.6711507, 37.2727963]  \n1                   [55.6711507, 37.2727963]  \n2                   [51.9931851, 84.9819571]  \n3           [56.80208355, 38.64899133747492]  \n4                    [55.506478, 36.0213092]  \n..                                       ...  \n844          [56.1345574, 38.85192758087219]  \n845          [56.1345574, 38.85192758087219]  \n846          [56.1345574, 38.85192758087219]  \n847  [55.682141200000004, 52.09069161386946]  \n848                 [57.1557583, 33.1013213]  \n\n[849 rows x 9 columns]",
      "text/html": "<div>\n<style scoped>\n    .dataframe tbody tr th:only-of-type {\n        vertical-align: middle;\n    }\n\n    .dataframe tbody tr th {\n        vertical-align: top;\n    }\n\n    .dataframe thead th {\n        text-align: right;\n    }\n</style>\n<table border=\"1\" class=\"dataframe\">\n  <thead>\n    <tr style=\"text-align: right;\">\n      <th></th>\n      <th>asset_id</th>\n      <th>views</th>\n      <th>publication_date</th>\n      <th>contact_name</th>\n      <th>seller_name</th>\n      <th>square</th>\n      <th>price_value</th>\n      <th>cadastral_geocode</th>\n      <th>region_geocode</th>\n    </tr>\n  </thead>\n  <tbody>\n    <tr>\n      <th>0</th>\n      <td>814114.0</td>\n      <td>1535.0</td>\n      <td>15 ноября 2022</td>\n      <td>Контактный Центр Банка</td>\n      <td>Банк ВТБ (ПАО)</td>\n      <td>NaN</td>\n      <td>48700000.0</td>\n      <td>NaN</td>\n      <td>[55.6711507, 37.2727963]</td>\n    </tr>\n    <tr>\n      <th>1</th>\n      <td>814114.0</td>\n      <td>1535.0</td>\n      <td>15 ноября 2022</td>\n      <td>Контактный Центр Банка</td>\n      <td>Банк ВТБ (ПАО)</td>\n      <td>NaN</td>\n      <td>48700000.0</td>\n      <td>NaN</td>\n      <td>[55.6711507, 37.2727963]</td>\n    </tr>\n    <tr>\n      <th>2</th>\n      <td>641505.0</td>\n      <td>2311.0</td>\n      <td>31 марта 2022</td>\n      <td>Гаас Александра Георгиевна</td>\n      <td>Физическое лицо</td>\n      <td>25111.0</td>\n      <td>145500000.0</td>\n      <td>[51.94720028246027, 84.88831594503662]</td>\n      <td>[51.9931851, 84.9819571]</td>\n    </tr>\n    <tr>\n      <th>3</th>\n      <td>169347.0</td>\n      <td>466.0</td>\n      <td>18 апреля 2022</td>\n      <td>Брюнель Ева Жисленовна</td>\n      <td>Физическое лицо</td>\n      <td>50574.0</td>\n      <td>4500000.0</td>\n      <td>[56.77190698765615, 38.88962726762723]</td>\n      <td>[56.80208355, 38.64899133747492]</td>\n    </tr>\n    <tr>\n      <th>4</th>\n      <td>899895.0</td>\n      <td>1286.0</td>\n      <td>25 июня 2022</td>\n      <td>Плесняев Александр Александрович</td>\n      <td>Плесняев Александр Александрович</td>\n      <td>504500.0</td>\n      <td>23450000.0</td>\n      <td>[55.73199800626753, 35.340751735565306]</td>\n      <td>[55.506478, 36.0213092]</td>\n    </tr>\n    <tr>\n      <th>...</th>\n      <td>...</td>\n      <td>...</td>\n      <td>...</td>\n      <td>...</td>\n      <td>...</td>\n      <td>...</td>\n      <td>...</td>\n      <td>...</td>\n      <td>...</td>\n    </tr>\n    <tr>\n      <th>844</th>\n      <td>691104.0</td>\n      <td>269.0</td>\n      <td>20 мая 2021</td>\n      <td>Коваленко Александр Ан</td>\n      <td>АО \"Россельхозбанк\"</td>\n      <td>1527.0</td>\n      <td>10709963.0</td>\n      <td>[56.21913602478085, 38.82900562858026]</td>\n      <td>[56.1345574, 38.85192758087219]</td>\n    </tr>\n    <tr>\n      <th>845</th>\n      <td>630263.0</td>\n      <td>279.0</td>\n      <td>20 мая 2021</td>\n      <td>Коваленко Александр Ан</td>\n      <td>АО \"Россельхозбанк\"</td>\n      <td>1321.0</td>\n      <td>9265136.0</td>\n      <td>[56.220926330893064, 38.83048310378695]</td>\n      <td>[56.1345574, 38.85192758087219]</td>\n    </tr>\n    <tr>\n      <th>846</th>\n      <td>177552.0</td>\n      <td>281.0</td>\n      <td>20 мая 2021</td>\n      <td>Коваленко Александр Ан</td>\n      <td>АО \"Россельхозбанк\"</td>\n      <td>1676.0</td>\n      <td>11755032.0</td>\n      <td>[56.21983629294916, 38.8300820194728]</td>\n      <td>[56.1345574, 38.85192758087219]</td>\n    </tr>\n    <tr>\n      <th>847</th>\n      <td>841885.0</td>\n      <td>610.0</td>\n      <td>11 мая 2021</td>\n      <td>Нуриев Эдуард Рамзилович</td>\n      <td>АО \"Россельхозбанк\"</td>\n      <td>150100.0</td>\n      <td>226651.0</td>\n      <td>[55.822853130025955, 52.73092958759532]</td>\n      <td>[55.682141200000004, 52.09069161386946]</td>\n    </tr>\n    <tr>\n      <th>848</th>\n      <td>419254.0</td>\n      <td>461.0</td>\n      <td>22 апреля 2021</td>\n      <td>Самойленко Денис Сергеевич</td>\n      <td>ПАО Сбербанк</td>\n      <td>10000.0</td>\n      <td>8270000.0</td>\n      <td>[57.14073651577907, 33.14393000643601]</td>\n      <td>[57.1557583, 33.1013213]</td>\n    </tr>\n  </tbody>\n</table>\n<p>849 rows × 9 columns</p>\n</div>"
     },
     "execution_count": 49,
     "metadata": {},
     "output_type": "execute_result"
    }
   ],
   "source": [
    "lien_df"
   ],
   "metadata": {
    "collapsed": false,
    "pycharm": {
     "name": "#%%\n"
    }
   }
  },
  {
   "cell_type": "code",
   "execution_count": 9,
   "outputs": [],
   "source": [
    "def get_day_delta(x):\n",
    "    try:\n",
    "        day_delta = (dt.now() - pd.to_datetime(str(x), format='%d %B %Y')).total_seconds()/60/60/24\n",
    "    except:\n",
    "        day_delta = np.NaN\n",
    "    return day_delta"
   ],
   "metadata": {
    "collapsed": false,
    "pycharm": {
     "name": "#%%\n"
    }
   }
  },
  {
   "cell_type": "code",
   "execution_count": 47,
   "outputs": [],
   "source": [
    "lien_df['shown_by_days'] = lien_df['publication_date'].apply(lambda x: get_day_delta(x))"
   ],
   "metadata": {
    "collapsed": false,
    "pycharm": {
     "name": "#%%\n"
    }
   }
  },
  {
   "cell_type": "code",
   "execution_count": 53,
   "outputs": [
    {
     "data": {
      "text/plain": "     asset_id   views publication_date                      contact_name  \\\n0    814114.0  1535.0   15 ноября 2022            Контактный Центр Банка   \n1    814114.0  1535.0   15 ноября 2022            Контактный Центр Банка   \n2    641505.0  2311.0    31 марта 2022        Гаас Александра Георгиевна   \n3    169347.0   466.0   18 апреля 2022            Брюнель Ева Жисленовна   \n4    899895.0  1286.0     25 июня 2022  Плесняев Александр Александрович   \n..        ...     ...              ...                               ...   \n844  691104.0   269.0      20 мая 2021            Коваленко Александр Ан   \n845  630263.0   279.0      20 мая 2021            Коваленко Александр Ан   \n846  177552.0   281.0      20 мая 2021            Коваленко Александр Ан   \n847  841885.0   610.0      11 мая 2021          Нуриев Эдуард Рамзилович   \n848  419254.0   461.0   22 апреля 2021        Самойленко Денис Сергеевич   \n\n                          seller_name    square  price_value  \\\n0                      Банк ВТБ (ПАО)       NaN   48700000.0   \n1                      Банк ВТБ (ПАО)       NaN   48700000.0   \n2                     Физическое лицо   25111.0  145500000.0   \n3                     Физическое лицо   50574.0    4500000.0   \n4    Плесняев Александр Александрович  504500.0   23450000.0   \n..                                ...       ...          ...   \n844               АО \"Россельхозбанк\"    1527.0   10709963.0   \n845               АО \"Россельхозбанк\"    1321.0    9265136.0   \n846               АО \"Россельхозбанк\"    1676.0   11755032.0   \n847               АО \"Россельхозбанк\"  150100.0     226651.0   \n848                      ПАО Сбербанк   10000.0    8270000.0   \n\n                           cadastral_geocode  \\\n0                                        NaN   \n1                                        NaN   \n2     [51.94720028246027, 84.88831594503662]   \n3     [56.77190698765615, 38.88962726762723]   \n4    [55.73199800626753, 35.340751735565306]   \n..                                       ...   \n844   [56.21913602478085, 38.82900562858026]   \n845  [56.220926330893064, 38.83048310378695]   \n846    [56.21983629294916, 38.8300820194728]   \n847  [55.822853130025955, 52.73092958759532]   \n848   [57.14073651577907, 33.14393000643601]   \n\n                              region_geocode  shown_by_days  \n0                   [55.6711507, 37.2727963]      63.038917  \n1                   [55.6711507, 37.2727963]      63.038917  \n2                   [51.9931851, 84.9819571]     292.038917  \n3           [56.80208355, 38.64899133747492]     274.038917  \n4                    [55.506478, 36.0213092]     206.038917  \n..                                       ...            ...  \n844          [56.1345574, 38.85192758087219]     607.038918  \n845          [56.1345574, 38.85192758087219]     607.038918  \n846          [56.1345574, 38.85192758087219]     607.038918  \n847  [55.682141200000004, 52.09069161386946]     616.038918  \n848                 [57.1557583, 33.1013213]     635.038918  \n\n[849 rows x 10 columns]",
      "text/html": "<div>\n<style scoped>\n    .dataframe tbody tr th:only-of-type {\n        vertical-align: middle;\n    }\n\n    .dataframe tbody tr th {\n        vertical-align: top;\n    }\n\n    .dataframe thead th {\n        text-align: right;\n    }\n</style>\n<table border=\"1\" class=\"dataframe\">\n  <thead>\n    <tr style=\"text-align: right;\">\n      <th></th>\n      <th>asset_id</th>\n      <th>views</th>\n      <th>publication_date</th>\n      <th>contact_name</th>\n      <th>seller_name</th>\n      <th>square</th>\n      <th>price_value</th>\n      <th>cadastral_geocode</th>\n      <th>region_geocode</th>\n      <th>shown_by_days</th>\n    </tr>\n  </thead>\n  <tbody>\n    <tr>\n      <th>0</th>\n      <td>814114.0</td>\n      <td>1535.0</td>\n      <td>15 ноября 2022</td>\n      <td>Контактный Центр Банка</td>\n      <td>Банк ВТБ (ПАО)</td>\n      <td>NaN</td>\n      <td>48700000.0</td>\n      <td>NaN</td>\n      <td>[55.6711507, 37.2727963]</td>\n      <td>63.038917</td>\n    </tr>\n    <tr>\n      <th>1</th>\n      <td>814114.0</td>\n      <td>1535.0</td>\n      <td>15 ноября 2022</td>\n      <td>Контактный Центр Банка</td>\n      <td>Банк ВТБ (ПАО)</td>\n      <td>NaN</td>\n      <td>48700000.0</td>\n      <td>NaN</td>\n      <td>[55.6711507, 37.2727963]</td>\n      <td>63.038917</td>\n    </tr>\n    <tr>\n      <th>2</th>\n      <td>641505.0</td>\n      <td>2311.0</td>\n      <td>31 марта 2022</td>\n      <td>Гаас Александра Георгиевна</td>\n      <td>Физическое лицо</td>\n      <td>25111.0</td>\n      <td>145500000.0</td>\n      <td>[51.94720028246027, 84.88831594503662]</td>\n      <td>[51.9931851, 84.9819571]</td>\n      <td>292.038917</td>\n    </tr>\n    <tr>\n      <th>3</th>\n      <td>169347.0</td>\n      <td>466.0</td>\n      <td>18 апреля 2022</td>\n      <td>Брюнель Ева Жисленовна</td>\n      <td>Физическое лицо</td>\n      <td>50574.0</td>\n      <td>4500000.0</td>\n      <td>[56.77190698765615, 38.88962726762723]</td>\n      <td>[56.80208355, 38.64899133747492]</td>\n      <td>274.038917</td>\n    </tr>\n    <tr>\n      <th>4</th>\n      <td>899895.0</td>\n      <td>1286.0</td>\n      <td>25 июня 2022</td>\n      <td>Плесняев Александр Александрович</td>\n      <td>Плесняев Александр Александрович</td>\n      <td>504500.0</td>\n      <td>23450000.0</td>\n      <td>[55.73199800626753, 35.340751735565306]</td>\n      <td>[55.506478, 36.0213092]</td>\n      <td>206.038917</td>\n    </tr>\n    <tr>\n      <th>...</th>\n      <td>...</td>\n      <td>...</td>\n      <td>...</td>\n      <td>...</td>\n      <td>...</td>\n      <td>...</td>\n      <td>...</td>\n      <td>...</td>\n      <td>...</td>\n      <td>...</td>\n    </tr>\n    <tr>\n      <th>844</th>\n      <td>691104.0</td>\n      <td>269.0</td>\n      <td>20 мая 2021</td>\n      <td>Коваленко Александр Ан</td>\n      <td>АО \"Россельхозбанк\"</td>\n      <td>1527.0</td>\n      <td>10709963.0</td>\n      <td>[56.21913602478085, 38.82900562858026]</td>\n      <td>[56.1345574, 38.85192758087219]</td>\n      <td>607.038918</td>\n    </tr>\n    <tr>\n      <th>845</th>\n      <td>630263.0</td>\n      <td>279.0</td>\n      <td>20 мая 2021</td>\n      <td>Коваленко Александр Ан</td>\n      <td>АО \"Россельхозбанк\"</td>\n      <td>1321.0</td>\n      <td>9265136.0</td>\n      <td>[56.220926330893064, 38.83048310378695]</td>\n      <td>[56.1345574, 38.85192758087219]</td>\n      <td>607.038918</td>\n    </tr>\n    <tr>\n      <th>846</th>\n      <td>177552.0</td>\n      <td>281.0</td>\n      <td>20 мая 2021</td>\n      <td>Коваленко Александр Ан</td>\n      <td>АО \"Россельхозбанк\"</td>\n      <td>1676.0</td>\n      <td>11755032.0</td>\n      <td>[56.21983629294916, 38.8300820194728]</td>\n      <td>[56.1345574, 38.85192758087219]</td>\n      <td>607.038918</td>\n    </tr>\n    <tr>\n      <th>847</th>\n      <td>841885.0</td>\n      <td>610.0</td>\n      <td>11 мая 2021</td>\n      <td>Нуриев Эдуард Рамзилович</td>\n      <td>АО \"Россельхозбанк\"</td>\n      <td>150100.0</td>\n      <td>226651.0</td>\n      <td>[55.822853130025955, 52.73092958759532]</td>\n      <td>[55.682141200000004, 52.09069161386946]</td>\n      <td>616.038918</td>\n    </tr>\n    <tr>\n      <th>848</th>\n      <td>419254.0</td>\n      <td>461.0</td>\n      <td>22 апреля 2021</td>\n      <td>Самойленко Денис Сергеевич</td>\n      <td>ПАО Сбербанк</td>\n      <td>10000.0</td>\n      <td>8270000.0</td>\n      <td>[57.14073651577907, 33.14393000643601]</td>\n      <td>[57.1557583, 33.1013213]</td>\n      <td>635.038918</td>\n    </tr>\n  </tbody>\n</table>\n<p>849 rows × 10 columns</p>\n</div>"
     },
     "execution_count": 53,
     "metadata": {},
     "output_type": "execute_result"
    }
   ],
   "source": [
    "lien_df"
   ],
   "metadata": {
    "collapsed": false,
    "pycharm": {
     "name": "#%%\n"
    }
   }
  },
  {
   "cell_type": "code",
   "execution_count": 56,
   "outputs": [],
   "source": [
    "new_keys_df = pd.read_excel('/Users/dp_user/PycharmProjects/portal_da/data/new_keys_15_01_23.xlsx')"
   ],
   "metadata": {
    "collapsed": false,
    "pycharm": {
     "name": "#%%\n"
    }
   }
  },
  {
   "cell_type": "code",
   "execution_count": 60,
   "outputs": [],
   "source": [
    "buf_df = new_keys_df.loc[new_keys_df['links'].str.contains('842168')]"
   ],
   "metadata": {
    "collapsed": false,
    "pycharm": {
     "name": "#%%\n"
    }
   }
  },
  {
   "cell_type": "code",
   "execution_count": 69,
   "outputs": [
    {
     "data": {
      "text/plain": "\"753    ['general.authorized_to_toggle_favorite']\""
     },
     "execution_count": 69,
     "metadata": {},
     "output_type": "execute_result"
    }
   ],
   "source": [
    "buf_df['new_keys'].to_string()"
   ],
   "metadata": {
    "collapsed": false,
    "pycharm": {
     "name": "#%%\n"
    }
   }
  },
  {
   "cell_type": "code",
   "execution_count": null,
   "outputs": [],
   "source": [],
   "metadata": {
    "collapsed": false,
    "pycharm": {
     "name": "#%%\n"
    }
   }
  },
  {
   "cell_type": "code",
   "execution_count": 59,
   "outputs": [
    {
     "data": {
      "text/plain": "array([\"['general.authorized_to_toggle_favorite', 'general.credits']\",\n       \"['general.authorized_to_toggle_favorite']\",\n       \"['general.authorized_to_toggle_favorite', 'general.trade_id', 'general.credits']\",\n       \"['general.featured_personal_assets', 'general.featured_business_assets', 'general.recommended_assets']\",\n       \"['general.trade_id', 'general.authorized_to_toggle_favorite']\"],\n      dtype=object)"
     },
     "execution_count": 59,
     "metadata": {},
     "output_type": "execute_result"
    }
   ],
   "source": [
    "new_keys_df['new_keys'].unique()"
   ],
   "metadata": {
    "collapsed": false,
    "pycharm": {
     "name": "#%%\n"
    }
   }
  },
  {
   "cell_type": "code",
   "execution_count": 11,
   "outputs": [],
   "source": [
    "def append_trades(x):\n",
    "    buf_df = new_keys_df.loc[new_keys_df['links'].str.contains(str(x).replace('.0', ''))].copy()\n",
    "    if 'trade' in buf_df['new_keys'].to_string():\n",
    "        return 1\n",
    "    else:\n",
    "        return 0"
   ],
   "metadata": {
    "collapsed": false,
    "pycharm": {
     "name": "#%%\n"
    }
   }
  },
  {
   "cell_type": "code",
   "execution_count": 75,
   "outputs": [],
   "source": [
    "lien_df['trades'] = lien_df['asset_id'].apply(lambda x: append_trades(x))"
   ],
   "metadata": {
    "collapsed": false,
    "pycharm": {
     "name": "#%%\n"
    }
   }
  },
  {
   "cell_type": "code",
   "execution_count": 87,
   "outputs": [
    {
     "data": {
      "text/plain": "Empty DataFrame\nColumns: [asset_id, views, publication_date, contact_name, seller_name, square, price_value, cadastral_geocode, region_geocode, shown_by_days, trades, credits]\nIndex: []",
      "text/html": "<div>\n<style scoped>\n    .dataframe tbody tr th:only-of-type {\n        vertical-align: middle;\n    }\n\n    .dataframe tbody tr th {\n        vertical-align: top;\n    }\n\n    .dataframe thead th {\n        text-align: right;\n    }\n</style>\n<table border=\"1\" class=\"dataframe\">\n  <thead>\n    <tr style=\"text-align: right;\">\n      <th></th>\n      <th>asset_id</th>\n      <th>views</th>\n      <th>publication_date</th>\n      <th>contact_name</th>\n      <th>seller_name</th>\n      <th>square</th>\n      <th>price_value</th>\n      <th>cadastral_geocode</th>\n      <th>region_geocode</th>\n      <th>shown_by_days</th>\n      <th>trades</th>\n      <th>credits</th>\n    </tr>\n  </thead>\n  <tbody>\n  </tbody>\n</table>\n</div>"
     },
     "execution_count": 87,
     "metadata": {},
     "output_type": "execute_result"
    }
   ],
   "source": [
    "lien_df.loc[lien_df['credits']==1]"
   ],
   "metadata": {
    "collapsed": false,
    "pycharm": {
     "name": "#%%\n"
    }
   }
  },
  {
   "cell_type": "code",
   "execution_count": 85,
   "outputs": [],
   "source": [
    "def append_credits(x):\n",
    "    buf_df = new_keys_df.loc[new_keys_df['links'].str.contains(str(x).replace('.0', ''))].copy()\n",
    "    if 'credit' in buf_df['new_keys'].to_string():\n",
    "        return 1\n",
    "    else:\n",
    "        return 0"
   ],
   "metadata": {
    "collapsed": false,
    "pycharm": {
     "name": "#%%\n"
    }
   }
  },
  {
   "cell_type": "code",
   "execution_count": 86,
   "outputs": [],
   "source": [
    "lien_df['credits'] = lien_df['asset_id'].apply(lambda x: append_credits(x))"
   ],
   "metadata": {
    "collapsed": false,
    "pycharm": {
     "name": "#%%\n"
    }
   }
  },
  {
   "cell_type": "code",
   "execution_count": null,
   "outputs": [],
   "source": [],
   "metadata": {
    "collapsed": false,
    "pycharm": {
     "name": "#%%\n",
     "is_executing": true
    }
   }
  },
  {
   "cell_type": "markdown",
   "source": [
    "### 17.01.23 Добавим дистанцию между точками"
   ],
   "metadata": {
    "collapsed": false,
    "pycharm": {
     "name": "#%% md\n"
    }
   }
  },
  {
   "cell_type": "code",
   "execution_count": 14,
   "outputs": [
    {
     "name": "stdout",
     "output_type": "stream",
     "text": [
      "279.35290160430094\n"
     ]
    }
   ],
   "source": [
    "import geopy.distance\n",
    "\n",
    "coords_1 = (52.2296756, 21.0122287)\n",
    "coords_2 = (52.406374, 16.9251681)\n",
    "\n",
    "print (geopy.distance.geodesic(coords_1, coords_2).km)"
   ],
   "metadata": {
    "collapsed": false,
    "pycharm": {
     "name": "#%%\n"
    }
   }
  },
  {
   "cell_type": "code",
   "execution_count": 15,
   "outputs": [
    {
     "data": {
      "text/plain": "     asset_id   views publication_date                      contact_name  \\\n0    814114.0  1535.0   15 ноября 2022            Контактный Центр Банка   \n1    814114.0  1535.0   15 ноября 2022            Контактный Центр Банка   \n2    641505.0  2311.0    31 марта 2022        Гаас Александра Георгиевна   \n3    169347.0   466.0   18 апреля 2022            Брюнель Ева Жисленовна   \n4    899895.0  1286.0     25 июня 2022  Плесняев Александр Александрович   \n..        ...     ...              ...                               ...   \n844  691104.0   269.0      20 мая 2021            Коваленко Александр Ан   \n845  630263.0   279.0      20 мая 2021            Коваленко Александр Ан   \n846  177552.0   281.0      20 мая 2021            Коваленко Александр Ан   \n847  841885.0   610.0      11 мая 2021          Нуриев Эдуард Рамзилович   \n848  419254.0   461.0   22 апреля 2021        Самойленко Денис Сергеевич   \n\n                          seller_name    square  price_value  \\\n0                      Банк ВТБ (ПАО)       NaN   48700000.0   \n1                      Банк ВТБ (ПАО)       NaN   48700000.0   \n2                     Физическое лицо   25111.0  145500000.0   \n3                     Физическое лицо   50574.0    4500000.0   \n4    Плесняев Александр Александрович  504500.0   23450000.0   \n..                                ...       ...          ...   \n844               АО \"Россельхозбанк\"    1527.0   10709963.0   \n845               АО \"Россельхозбанк\"    1321.0    9265136.0   \n846               АО \"Россельхозбанк\"    1676.0   11755032.0   \n847               АО \"Россельхозбанк\"  150100.0     226651.0   \n848                      ПАО Сбербанк   10000.0    8270000.0   \n\n                           cadastral_geocode  \\\n0                                        NaN   \n1                                        NaN   \n2     [51.94720028246027, 84.88831594503662]   \n3     [56.77190698765615, 38.88962726762723]   \n4    [55.73199800626753, 35.340751735565306]   \n..                                       ...   \n844   [56.21913602478085, 38.82900562858026]   \n845  [56.220926330893064, 38.83048310378695]   \n846    [56.21983629294916, 38.8300820194728]   \n847  [55.822853130025955, 52.73092958759532]   \n848   [57.14073651577907, 33.14393000643601]   \n\n                              region_geocode  shown_by_days  \n0                   [55.6711507, 37.2727963]      63.779060  \n1                   [55.6711507, 37.2727963]      63.779060  \n2                   [51.9931851, 84.9819571]     292.779060  \n3           [56.80208355, 38.64899133747492]     274.779060  \n4                    [55.506478, 36.0213092]     206.779060  \n..                                       ...            ...  \n844          [56.1345574, 38.85192758087219]     607.779061  \n845          [56.1345574, 38.85192758087219]     607.779061  \n846          [56.1345574, 38.85192758087219]     607.779061  \n847  [55.682141200000004, 52.09069161386946]     616.779061  \n848                 [57.1557583, 33.1013213]     635.779061  \n\n[849 rows x 10 columns]",
      "text/html": "<div>\n<style scoped>\n    .dataframe tbody tr th:only-of-type {\n        vertical-align: middle;\n    }\n\n    .dataframe tbody tr th {\n        vertical-align: top;\n    }\n\n    .dataframe thead th {\n        text-align: right;\n    }\n</style>\n<table border=\"1\" class=\"dataframe\">\n  <thead>\n    <tr style=\"text-align: right;\">\n      <th></th>\n      <th>asset_id</th>\n      <th>views</th>\n      <th>publication_date</th>\n      <th>contact_name</th>\n      <th>seller_name</th>\n      <th>square</th>\n      <th>price_value</th>\n      <th>cadastral_geocode</th>\n      <th>region_geocode</th>\n      <th>shown_by_days</th>\n    </tr>\n  </thead>\n  <tbody>\n    <tr>\n      <th>0</th>\n      <td>814114.0</td>\n      <td>1535.0</td>\n      <td>15 ноября 2022</td>\n      <td>Контактный Центр Банка</td>\n      <td>Банк ВТБ (ПАО)</td>\n      <td>NaN</td>\n      <td>48700000.0</td>\n      <td>NaN</td>\n      <td>[55.6711507, 37.2727963]</td>\n      <td>63.779060</td>\n    </tr>\n    <tr>\n      <th>1</th>\n      <td>814114.0</td>\n      <td>1535.0</td>\n      <td>15 ноября 2022</td>\n      <td>Контактный Центр Банка</td>\n      <td>Банк ВТБ (ПАО)</td>\n      <td>NaN</td>\n      <td>48700000.0</td>\n      <td>NaN</td>\n      <td>[55.6711507, 37.2727963]</td>\n      <td>63.779060</td>\n    </tr>\n    <tr>\n      <th>2</th>\n      <td>641505.0</td>\n      <td>2311.0</td>\n      <td>31 марта 2022</td>\n      <td>Гаас Александра Георгиевна</td>\n      <td>Физическое лицо</td>\n      <td>25111.0</td>\n      <td>145500000.0</td>\n      <td>[51.94720028246027, 84.88831594503662]</td>\n      <td>[51.9931851, 84.9819571]</td>\n      <td>292.779060</td>\n    </tr>\n    <tr>\n      <th>3</th>\n      <td>169347.0</td>\n      <td>466.0</td>\n      <td>18 апреля 2022</td>\n      <td>Брюнель Ева Жисленовна</td>\n      <td>Физическое лицо</td>\n      <td>50574.0</td>\n      <td>4500000.0</td>\n      <td>[56.77190698765615, 38.88962726762723]</td>\n      <td>[56.80208355, 38.64899133747492]</td>\n      <td>274.779060</td>\n    </tr>\n    <tr>\n      <th>4</th>\n      <td>899895.0</td>\n      <td>1286.0</td>\n      <td>25 июня 2022</td>\n      <td>Плесняев Александр Александрович</td>\n      <td>Плесняев Александр Александрович</td>\n      <td>504500.0</td>\n      <td>23450000.0</td>\n      <td>[55.73199800626753, 35.340751735565306]</td>\n      <td>[55.506478, 36.0213092]</td>\n      <td>206.779060</td>\n    </tr>\n    <tr>\n      <th>...</th>\n      <td>...</td>\n      <td>...</td>\n      <td>...</td>\n      <td>...</td>\n      <td>...</td>\n      <td>...</td>\n      <td>...</td>\n      <td>...</td>\n      <td>...</td>\n      <td>...</td>\n    </tr>\n    <tr>\n      <th>844</th>\n      <td>691104.0</td>\n      <td>269.0</td>\n      <td>20 мая 2021</td>\n      <td>Коваленко Александр Ан</td>\n      <td>АО \"Россельхозбанк\"</td>\n      <td>1527.0</td>\n      <td>10709963.0</td>\n      <td>[56.21913602478085, 38.82900562858026]</td>\n      <td>[56.1345574, 38.85192758087219]</td>\n      <td>607.779061</td>\n    </tr>\n    <tr>\n      <th>845</th>\n      <td>630263.0</td>\n      <td>279.0</td>\n      <td>20 мая 2021</td>\n      <td>Коваленко Александр Ан</td>\n      <td>АО \"Россельхозбанк\"</td>\n      <td>1321.0</td>\n      <td>9265136.0</td>\n      <td>[56.220926330893064, 38.83048310378695]</td>\n      <td>[56.1345574, 38.85192758087219]</td>\n      <td>607.779061</td>\n    </tr>\n    <tr>\n      <th>846</th>\n      <td>177552.0</td>\n      <td>281.0</td>\n      <td>20 мая 2021</td>\n      <td>Коваленко Александр Ан</td>\n      <td>АО \"Россельхозбанк\"</td>\n      <td>1676.0</td>\n      <td>11755032.0</td>\n      <td>[56.21983629294916, 38.8300820194728]</td>\n      <td>[56.1345574, 38.85192758087219]</td>\n      <td>607.779061</td>\n    </tr>\n    <tr>\n      <th>847</th>\n      <td>841885.0</td>\n      <td>610.0</td>\n      <td>11 мая 2021</td>\n      <td>Нуриев Эдуард Рамзилович</td>\n      <td>АО \"Россельхозбанк\"</td>\n      <td>150100.0</td>\n      <td>226651.0</td>\n      <td>[55.822853130025955, 52.73092958759532]</td>\n      <td>[55.682141200000004, 52.09069161386946]</td>\n      <td>616.779061</td>\n    </tr>\n    <tr>\n      <th>848</th>\n      <td>419254.0</td>\n      <td>461.0</td>\n      <td>22 апреля 2021</td>\n      <td>Самойленко Денис Сергеевич</td>\n      <td>ПАО Сбербанк</td>\n      <td>10000.0</td>\n      <td>8270000.0</td>\n      <td>[57.14073651577907, 33.14393000643601]</td>\n      <td>[57.1557583, 33.1013213]</td>\n      <td>635.779061</td>\n    </tr>\n  </tbody>\n</table>\n<p>849 rows × 10 columns</p>\n</div>"
     },
     "execution_count": 15,
     "metadata": {},
     "output_type": "execute_result"
    }
   ],
   "source": [
    "lien_df"
   ],
   "metadata": {
    "collapsed": false,
    "pycharm": {
     "name": "#%%\n"
    }
   }
  },
  {
   "cell_type": "code",
   "execution_count": 22,
   "outputs": [
    {
     "data": {
      "text/plain": "51.94720028246027"
     },
     "execution_count": 22,
     "metadata": {},
     "output_type": "execute_result"
    }
   ],
   "source": [
    "ast.literal_eval(lien_df['cadastral_geocode'][2])[0]"
   ],
   "metadata": {
    "collapsed": false,
    "pycharm": {
     "name": "#%%\n"
    }
   }
  },
  {
   "cell_type": "code",
   "execution_count": 63,
   "outputs": [],
   "source": [
    "coords_1 = [56.77190698765615, 38.88962726762723]\n",
    "coords_2 = [56.80208355, 38.64899133747492]"
   ],
   "metadata": {
    "collapsed": false,
    "pycharm": {
     "name": "#%%\n"
    }
   }
  },
  {
   "cell_type": "code",
   "execution_count": 65,
   "outputs": [
    {
     "name": "stdout",
     "output_type": "stream",
     "text": [
      "15.086411613545867\n"
     ]
    }
   ],
   "source": [
    "print (geopy.distance.geodesic(coords_1, coords_2).km)  # считает хорошо!"
   ],
   "metadata": {
    "collapsed": false,
    "pycharm": {
     "name": "#%%\n"
    }
   }
  },
  {
   "cell_type": "code",
   "execution_count": 41,
   "outputs": [
    {
     "ename": "TypeError",
     "evalue": "'generator' object is not subscriptable",
     "output_type": "error",
     "traceback": [
      "\u001B[0;31m---------------------------------------------------------------------------\u001B[0m",
      "\u001B[0;31mTypeError\u001B[0m                                 Traceback (most recent call last)",
      "Input \u001B[0;32mIn [41]\u001B[0m, in \u001B[0;36m<cell line: 2>\u001B[0;34m()\u001B[0m\n\u001B[1;32m      1\u001B[0m lien_df[\u001B[38;5;124m'\u001B[39m\u001B[38;5;124mgeo_distance\u001B[39m\u001B[38;5;124m'\u001B[39m] \u001B[38;5;241m=\u001B[39m \u001B[38;5;124m'\u001B[39m\u001B[38;5;124m'\u001B[39m\n\u001B[0;32m----> 2\u001B[0m \u001B[38;5;28;01mfor\u001B[39;00m index, row \u001B[38;5;129;01min\u001B[39;00m tqdm(\u001B[43mlien_df\u001B[49m\u001B[38;5;241;43m.\u001B[39;49m\u001B[43miterrows\u001B[49m\u001B[43m(\u001B[49m\u001B[43m)\u001B[49m\u001B[43m[\u001B[49m\u001B[43m:\u001B[49m\u001B[38;5;241;43m3\u001B[39;49m\u001B[43m]\u001B[49m):\n\u001B[1;32m      3\u001B[0m     \u001B[38;5;28;01mif\u001B[39;00m (\u001B[38;5;124m'\u001B[39m\u001B[38;5;124m[\u001B[39m\u001B[38;5;124m'\u001B[39m \u001B[38;5;129;01min\u001B[39;00m \u001B[38;5;28mstr\u001B[39m(row[\u001B[38;5;124m'\u001B[39m\u001B[38;5;124mcadastral_geocode\u001B[39m\u001B[38;5;124m'\u001B[39m])) \u001B[38;5;129;01mand\u001B[39;00m (\u001B[38;5;124m'\u001B[39m\u001B[38;5;124m[\u001B[39m\u001B[38;5;124m'\u001B[39m \u001B[38;5;129;01min\u001B[39;00m \u001B[38;5;28mstr\u001B[39m(row[\u001B[38;5;124m'\u001B[39m\u001B[38;5;124mregion_geocode\u001B[39m\u001B[38;5;124m'\u001B[39m])):\n\u001B[1;32m      4\u001B[0m         cadastral_list \u001B[38;5;241m=\u001B[39m ast\u001B[38;5;241m.\u001B[39mliteral_eval(row[\u001B[38;5;124m'\u001B[39m\u001B[38;5;124mcadastral_geocode\u001B[39m\u001B[38;5;124m'\u001B[39m])  \u001B[38;5;66;03m# какая-то здесь проблема - решить\u001B[39;00m\n",
      "\u001B[0;31mTypeError\u001B[0m: 'generator' object is not subscriptable"
     ]
    }
   ],
   "source": [
    "lien_df['geo_distance'] = ''\n",
    "for index, row in tqdm(lien_df.iterrows()):\n",
    "    if ('[' in str(row['cadastral_geocode'])) and ('[' in str(row['region_geocode'])):\n",
    "        cadastral_list = ast.literal_eval(row['cadastral_geocode'])  # какая-то здесь проблема - решить\n",
    "        region_list = ast.literal_eval(row['region_geocode'])\n",
    "        coords_1 = (cadastral_list[0], cadastral_list[1])\n",
    "        coords_2 = (region_list[0], region_list[1])\n",
    "        geo_distance = geopy.distance.geodesic(coords_1, coords_2).km\n",
    "        row['geo_distance'] = geo_distance"
   ],
   "metadata": {
    "collapsed": false,
    "pycharm": {
     "name": "#%%\n"
    }
   }
  },
  {
   "cell_type": "code",
   "execution_count": 37,
   "outputs": [
    {
     "data": {
      "text/plain": "     asset_id   views publication_date                      contact_name  \\\n0    814114.0  1535.0   15 ноября 2022            Контактный Центр Банка   \n1    814114.0  1535.0   15 ноября 2022            Контактный Центр Банка   \n2    641505.0  2311.0    31 марта 2022        Гаас Александра Георгиевна   \n3    169347.0   466.0   18 апреля 2022            Брюнель Ева Жисленовна   \n4    899895.0  1286.0     25 июня 2022  Плесняев Александр Александрович   \n..        ...     ...              ...                               ...   \n844  691104.0   269.0      20 мая 2021            Коваленко Александр Ан   \n845  630263.0   279.0      20 мая 2021            Коваленко Александр Ан   \n846  177552.0   281.0      20 мая 2021            Коваленко Александр Ан   \n847  841885.0   610.0      11 мая 2021          Нуриев Эдуард Рамзилович   \n848  419254.0   461.0   22 апреля 2021        Самойленко Денис Сергеевич   \n\n                          seller_name    square  price_value  \\\n0                      Банк ВТБ (ПАО)       NaN   48700000.0   \n1                      Банк ВТБ (ПАО)       NaN   48700000.0   \n2                     Физическое лицо   25111.0  145500000.0   \n3                     Физическое лицо   50574.0    4500000.0   \n4    Плесняев Александр Александрович  504500.0   23450000.0   \n..                                ...       ...          ...   \n844               АО \"Россельхозбанк\"    1527.0   10709963.0   \n845               АО \"Россельхозбанк\"    1321.0    9265136.0   \n846               АО \"Россельхозбанк\"    1676.0   11755032.0   \n847               АО \"Россельхозбанк\"  150100.0     226651.0   \n848                      ПАО Сбербанк   10000.0    8270000.0   \n\n                           cadastral_geocode  \\\n0                                        NaN   \n1                                        NaN   \n2     [51.94720028246027, 84.88831594503662]   \n3     [56.77190698765615, 38.88962726762723]   \n4    [55.73199800626753, 35.340751735565306]   \n..                                       ...   \n844   [56.21913602478085, 38.82900562858026]   \n845  [56.220926330893064, 38.83048310378695]   \n846    [56.21983629294916, 38.8300820194728]   \n847  [55.822853130025955, 52.73092958759532]   \n848   [57.14073651577907, 33.14393000643601]   \n\n                              region_geocode  shown_by_days geo_distance  \n0                   [55.6711507, 37.2727963]      63.779060               \n1                   [55.6711507, 37.2727963]      63.779060               \n2                   [51.9931851, 84.9819571]     292.779060               \n3           [56.80208355, 38.64899133747492]     274.779060               \n4                    [55.506478, 36.0213092]     206.779060               \n..                                       ...            ...          ...  \n844          [56.1345574, 38.85192758087219]     607.779061               \n845          [56.1345574, 38.85192758087219]     607.779061               \n846          [56.1345574, 38.85192758087219]     607.779061               \n847  [55.682141200000004, 52.09069161386946]     616.779061               \n848                 [57.1557583, 33.1013213]     635.779061               \n\n[849 rows x 11 columns]",
      "text/html": "<div>\n<style scoped>\n    .dataframe tbody tr th:only-of-type {\n        vertical-align: middle;\n    }\n\n    .dataframe tbody tr th {\n        vertical-align: top;\n    }\n\n    .dataframe thead th {\n        text-align: right;\n    }\n</style>\n<table border=\"1\" class=\"dataframe\">\n  <thead>\n    <tr style=\"text-align: right;\">\n      <th></th>\n      <th>asset_id</th>\n      <th>views</th>\n      <th>publication_date</th>\n      <th>contact_name</th>\n      <th>seller_name</th>\n      <th>square</th>\n      <th>price_value</th>\n      <th>cadastral_geocode</th>\n      <th>region_geocode</th>\n      <th>shown_by_days</th>\n      <th>geo_distance</th>\n    </tr>\n  </thead>\n  <tbody>\n    <tr>\n      <th>0</th>\n      <td>814114.0</td>\n      <td>1535.0</td>\n      <td>15 ноября 2022</td>\n      <td>Контактный Центр Банка</td>\n      <td>Банк ВТБ (ПАО)</td>\n      <td>NaN</td>\n      <td>48700000.0</td>\n      <td>NaN</td>\n      <td>[55.6711507, 37.2727963]</td>\n      <td>63.779060</td>\n      <td></td>\n    </tr>\n    <tr>\n      <th>1</th>\n      <td>814114.0</td>\n      <td>1535.0</td>\n      <td>15 ноября 2022</td>\n      <td>Контактный Центр Банка</td>\n      <td>Банк ВТБ (ПАО)</td>\n      <td>NaN</td>\n      <td>48700000.0</td>\n      <td>NaN</td>\n      <td>[55.6711507, 37.2727963]</td>\n      <td>63.779060</td>\n      <td></td>\n    </tr>\n    <tr>\n      <th>2</th>\n      <td>641505.0</td>\n      <td>2311.0</td>\n      <td>31 марта 2022</td>\n      <td>Гаас Александра Георгиевна</td>\n      <td>Физическое лицо</td>\n      <td>25111.0</td>\n      <td>145500000.0</td>\n      <td>[51.94720028246027, 84.88831594503662]</td>\n      <td>[51.9931851, 84.9819571]</td>\n      <td>292.779060</td>\n      <td></td>\n    </tr>\n    <tr>\n      <th>3</th>\n      <td>169347.0</td>\n      <td>466.0</td>\n      <td>18 апреля 2022</td>\n      <td>Брюнель Ева Жисленовна</td>\n      <td>Физическое лицо</td>\n      <td>50574.0</td>\n      <td>4500000.0</td>\n      <td>[56.77190698765615, 38.88962726762723]</td>\n      <td>[56.80208355, 38.64899133747492]</td>\n      <td>274.779060</td>\n      <td></td>\n    </tr>\n    <tr>\n      <th>4</th>\n      <td>899895.0</td>\n      <td>1286.0</td>\n      <td>25 июня 2022</td>\n      <td>Плесняев Александр Александрович</td>\n      <td>Плесняев Александр Александрович</td>\n      <td>504500.0</td>\n      <td>23450000.0</td>\n      <td>[55.73199800626753, 35.340751735565306]</td>\n      <td>[55.506478, 36.0213092]</td>\n      <td>206.779060</td>\n      <td></td>\n    </tr>\n    <tr>\n      <th>...</th>\n      <td>...</td>\n      <td>...</td>\n      <td>...</td>\n      <td>...</td>\n      <td>...</td>\n      <td>...</td>\n      <td>...</td>\n      <td>...</td>\n      <td>...</td>\n      <td>...</td>\n      <td>...</td>\n    </tr>\n    <tr>\n      <th>844</th>\n      <td>691104.0</td>\n      <td>269.0</td>\n      <td>20 мая 2021</td>\n      <td>Коваленко Александр Ан</td>\n      <td>АО \"Россельхозбанк\"</td>\n      <td>1527.0</td>\n      <td>10709963.0</td>\n      <td>[56.21913602478085, 38.82900562858026]</td>\n      <td>[56.1345574, 38.85192758087219]</td>\n      <td>607.779061</td>\n      <td></td>\n    </tr>\n    <tr>\n      <th>845</th>\n      <td>630263.0</td>\n      <td>279.0</td>\n      <td>20 мая 2021</td>\n      <td>Коваленко Александр Ан</td>\n      <td>АО \"Россельхозбанк\"</td>\n      <td>1321.0</td>\n      <td>9265136.0</td>\n      <td>[56.220926330893064, 38.83048310378695]</td>\n      <td>[56.1345574, 38.85192758087219]</td>\n      <td>607.779061</td>\n      <td></td>\n    </tr>\n    <tr>\n      <th>846</th>\n      <td>177552.0</td>\n      <td>281.0</td>\n      <td>20 мая 2021</td>\n      <td>Коваленко Александр Ан</td>\n      <td>АО \"Россельхозбанк\"</td>\n      <td>1676.0</td>\n      <td>11755032.0</td>\n      <td>[56.21983629294916, 38.8300820194728]</td>\n      <td>[56.1345574, 38.85192758087219]</td>\n      <td>607.779061</td>\n      <td></td>\n    </tr>\n    <tr>\n      <th>847</th>\n      <td>841885.0</td>\n      <td>610.0</td>\n      <td>11 мая 2021</td>\n      <td>Нуриев Эдуард Рамзилович</td>\n      <td>АО \"Россельхозбанк\"</td>\n      <td>150100.0</td>\n      <td>226651.0</td>\n      <td>[55.822853130025955, 52.73092958759532]</td>\n      <td>[55.682141200000004, 52.09069161386946]</td>\n      <td>616.779061</td>\n      <td></td>\n    </tr>\n    <tr>\n      <th>848</th>\n      <td>419254.0</td>\n      <td>461.0</td>\n      <td>22 апреля 2021</td>\n      <td>Самойленко Денис Сергеевич</td>\n      <td>ПАО Сбербанк</td>\n      <td>10000.0</td>\n      <td>8270000.0</td>\n      <td>[57.14073651577907, 33.14393000643601]</td>\n      <td>[57.1557583, 33.1013213]</td>\n      <td>635.779061</td>\n      <td></td>\n    </tr>\n  </tbody>\n</table>\n<p>849 rows × 11 columns</p>\n</div>"
     },
     "execution_count": 37,
     "metadata": {},
     "output_type": "execute_result"
    }
   ],
   "source": [
    "lien_df"
   ],
   "metadata": {
    "collapsed": false,
    "pycharm": {
     "name": "#%%\n"
    }
   }
  },
  {
   "cell_type": "code",
   "execution_count": 42,
   "outputs": [],
   "source": [
    "del lien_df"
   ],
   "metadata": {
    "collapsed": false,
    "pycharm": {
     "name": "#%%\n"
    }
   }
  },
  {
   "cell_type": "code",
   "execution_count": 53,
   "outputs": [],
   "source": [
    "buf_df = lien_df[['asset_id', 'cadastral_geocode', 'region_geocode']].copy()"
   ],
   "metadata": {
    "collapsed": false,
    "pycharm": {
     "name": "#%%\n"
    }
   }
  },
  {
   "cell_type": "code",
   "execution_count": 54,
   "outputs": [],
   "source": [
    "buf_df = buf_df.dropna()\n",
    "buf_df = buf_df.loc[(~buf_df['cadastral_geocode'].str.contains('bool'))&(~buf_df['region_geocode'].str.contains('bool'))]"
   ],
   "metadata": {
    "collapsed": false,
    "pycharm": {
     "name": "#%%\n"
    }
   }
  },
  {
   "cell_type": "code",
   "execution_count": 55,
   "outputs": [],
   "source": [
    "buf_df['cadastral_geocode'] = buf_df['cadastral_geocode'].apply(ast.literal_eval)"
   ],
   "metadata": {
    "collapsed": false,
    "pycharm": {
     "name": "#%%\n"
    }
   }
  },
  {
   "cell_type": "code",
   "execution_count": 56,
   "outputs": [],
   "source": [
    "buf_df['region_geocode'] = buf_df['region_geocode'].apply(ast.literal_eval)"
   ],
   "metadata": {
    "collapsed": false,
    "pycharm": {
     "name": "#%%\n"
    }
   }
  },
  {
   "cell_type": "code",
   "execution_count": 66,
   "outputs": [
    {
     "ename": "ValueError",
     "evalue": "When creating a Point from sequence, it must not have more than 3 items.",
     "output_type": "error",
     "traceback": [
      "\u001B[0;31m---------------------------------------------------------------------------\u001B[0m",
      "\u001B[0;31mValueError\u001B[0m                                Traceback (most recent call last)",
      "Input \u001B[0;32mIn [66]\u001B[0m, in \u001B[0;36m<cell line: 1>\u001B[0;34m()\u001B[0m\n\u001B[0;32m----> 1\u001B[0m buf_df[\u001B[38;5;124m'\u001B[39m\u001B[38;5;124mdistance\u001B[39m\u001B[38;5;124m'\u001B[39m] \u001B[38;5;241m=\u001B[39m \u001B[43mgeopy\u001B[49m\u001B[38;5;241;43m.\u001B[39;49m\u001B[43mdistance\u001B[49m\u001B[38;5;241;43m.\u001B[39;49m\u001B[43mgeodesic\u001B[49m\u001B[43m(\u001B[49m\u001B[43mbuf_df\u001B[49m\u001B[43m[\u001B[49m\u001B[38;5;124;43m'\u001B[39;49m\u001B[38;5;124;43mcadastral_geocode\u001B[39;49m\u001B[38;5;124;43m'\u001B[39;49m\u001B[43m]\u001B[49m\u001B[43m,\u001B[49m\u001B[43m \u001B[49m\u001B[43mbuf_df\u001B[49m\u001B[43m[\u001B[49m\u001B[38;5;124;43m'\u001B[39;49m\u001B[38;5;124;43mregion_geocode\u001B[39;49m\u001B[38;5;124;43m'\u001B[39;49m\u001B[43m]\u001B[49m\u001B[43m)\u001B[49m\u001B[38;5;241m.\u001B[39mkm\n",
      "File \u001B[0;32m~/PycharmProjects/portal_da/venv/lib/python3.8/site-packages/geopy/distance.py:540\u001B[0m, in \u001B[0;36mgeodesic.__init__\u001B[0;34m(self, *args, **kwargs)\u001B[0m\n\u001B[1;32m    538\u001B[0m \u001B[38;5;28mself\u001B[39m\u001B[38;5;241m.\u001B[39mset_ellipsoid(kwargs\u001B[38;5;241m.\u001B[39mpop(\u001B[38;5;124m'\u001B[39m\u001B[38;5;124mellipsoid\u001B[39m\u001B[38;5;124m'\u001B[39m, \u001B[38;5;124m'\u001B[39m\u001B[38;5;124mWGS-84\u001B[39m\u001B[38;5;124m'\u001B[39m))\n\u001B[1;32m    539\u001B[0m major, minor, f \u001B[38;5;241m=\u001B[39m \u001B[38;5;28mself\u001B[39m\u001B[38;5;241m.\u001B[39mELLIPSOID\n\u001B[0;32m--> 540\u001B[0m \u001B[38;5;28;43msuper\u001B[39;49m\u001B[43m(\u001B[49m\u001B[43m)\u001B[49m\u001B[38;5;241;43m.\u001B[39;49m\u001B[38;5;21;43m__init__\u001B[39;49m\u001B[43m(\u001B[49m\u001B[38;5;241;43m*\u001B[39;49m\u001B[43margs\u001B[49m\u001B[43m,\u001B[49m\u001B[43m \u001B[49m\u001B[38;5;241;43m*\u001B[39;49m\u001B[38;5;241;43m*\u001B[39;49m\u001B[43mkwargs\u001B[49m\u001B[43m)\u001B[49m\n",
      "File \u001B[0;32m~/PycharmProjects/portal_da/venv/lib/python3.8/site-packages/geopy/distance.py:276\u001B[0m, in \u001B[0;36mDistance.__init__\u001B[0;34m(self, *args, **kwargs)\u001B[0m\n\u001B[1;32m    274\u001B[0m \u001B[38;5;28;01melif\u001B[39;00m \u001B[38;5;28mlen\u001B[39m(args) \u001B[38;5;241m>\u001B[39m \u001B[38;5;241m1\u001B[39m:\n\u001B[1;32m    275\u001B[0m     \u001B[38;5;28;01mfor\u001B[39;00m a, b \u001B[38;5;129;01min\u001B[39;00m util\u001B[38;5;241m.\u001B[39mpairwise(args):\n\u001B[0;32m--> 276\u001B[0m         kilometers \u001B[38;5;241m+\u001B[39m\u001B[38;5;241m=\u001B[39m \u001B[38;5;28;43mself\u001B[39;49m\u001B[38;5;241;43m.\u001B[39;49m\u001B[43mmeasure\u001B[49m\u001B[43m(\u001B[49m\u001B[43ma\u001B[49m\u001B[43m,\u001B[49m\u001B[43m \u001B[49m\u001B[43mb\u001B[49m\u001B[43m)\u001B[49m\n\u001B[1;32m    278\u001B[0m kilometers \u001B[38;5;241m+\u001B[39m\u001B[38;5;241m=\u001B[39m units\u001B[38;5;241m.\u001B[39mkilometers(\u001B[38;5;241m*\u001B[39m\u001B[38;5;241m*\u001B[39mkwargs)\n\u001B[1;32m    279\u001B[0m \u001B[38;5;28mself\u001B[39m\u001B[38;5;241m.\u001B[39m__kilometers \u001B[38;5;241m=\u001B[39m kilometers\n",
      "File \u001B[0;32m~/PycharmProjects/portal_da/venv/lib/python3.8/site-packages/geopy/distance.py:556\u001B[0m, in \u001B[0;36mgeodesic.measure\u001B[0;34m(self, a, b)\u001B[0m\n\u001B[1;32m    555\u001B[0m \u001B[38;5;28;01mdef\u001B[39;00m \u001B[38;5;21mmeasure\u001B[39m(\u001B[38;5;28mself\u001B[39m, a, b):\n\u001B[0;32m--> 556\u001B[0m     a, b \u001B[38;5;241m=\u001B[39m \u001B[43mPoint\u001B[49m\u001B[43m(\u001B[49m\u001B[43ma\u001B[49m\u001B[43m)\u001B[49m, Point(b)\n\u001B[1;32m    557\u001B[0m     _ensure_same_altitude(a, b)\n\u001B[1;32m    558\u001B[0m     lat1, lon1 \u001B[38;5;241m=\u001B[39m a\u001B[38;5;241m.\u001B[39mlatitude, a\u001B[38;5;241m.\u001B[39mlongitude\n",
      "File \u001B[0;32m~/PycharmProjects/portal_da/venv/lib/python3.8/site-packages/geopy/point.py:175\u001B[0m, in \u001B[0;36mPoint.__new__\u001B[0;34m(cls, latitude, longitude, altitude)\u001B[0m\n\u001B[1;32m    171\u001B[0m             \u001B[38;5;28;01mraise\u001B[39;00m \u001B[38;5;167;01mTypeError\u001B[39;00m(\n\u001B[1;32m    172\u001B[0m                 \u001B[38;5;124m\"\u001B[39m\u001B[38;5;124mFailed to create Point instance from \u001B[39m\u001B[38;5;132;01m%r\u001B[39;00m\u001B[38;5;124m.\u001B[39m\u001B[38;5;124m\"\u001B[39m \u001B[38;5;241m%\u001B[39m (arg,)\n\u001B[1;32m    173\u001B[0m             )\n\u001B[1;32m    174\u001B[0m         \u001B[38;5;28;01melse\u001B[39;00m:\n\u001B[0;32m--> 175\u001B[0m             \u001B[38;5;28;01mreturn\u001B[39;00m \u001B[38;5;28;43mcls\u001B[39;49m\u001B[38;5;241;43m.\u001B[39;49m\u001B[43mfrom_sequence\u001B[49m\u001B[43m(\u001B[49m\u001B[43mseq\u001B[49m\u001B[43m)\u001B[49m\n\u001B[1;32m    177\u001B[0m \u001B[38;5;28;01mif\u001B[39;00m single_arg:\n\u001B[1;32m    178\u001B[0m     \u001B[38;5;28;01mraise\u001B[39;00m \u001B[38;5;167;01mValueError\u001B[39;00m(\n\u001B[1;32m    179\u001B[0m         \u001B[38;5;124m'\u001B[39m\u001B[38;5;124mA single number has been passed to the Point \u001B[39m\u001B[38;5;124m'\u001B[39m\n\u001B[1;32m    180\u001B[0m         \u001B[38;5;124m'\u001B[39m\u001B[38;5;124mconstructor. This is probably a mistake, because \u001B[39m\u001B[38;5;124m'\u001B[39m\n\u001B[0;32m   (...)\u001B[0m\n\u001B[1;32m    184\u001B[0m         \u001B[38;5;124m'\u001B[39m\u001B[38;5;124mto get rid of this error.\u001B[39m\u001B[38;5;124m'\u001B[39m\n\u001B[1;32m    185\u001B[0m     )\n",
      "File \u001B[0;32m~/PycharmProjects/portal_da/venv/lib/python3.8/site-packages/geopy/point.py:470\u001B[0m, in \u001B[0;36mPoint.from_sequence\u001B[0;34m(cls, seq)\u001B[0m\n\u001B[1;32m    468\u001B[0m args \u001B[38;5;241m=\u001B[39m \u001B[38;5;28mtuple\u001B[39m(islice(seq, \u001B[38;5;241m4\u001B[39m))\n\u001B[1;32m    469\u001B[0m \u001B[38;5;28;01mif\u001B[39;00m \u001B[38;5;28mlen\u001B[39m(args) \u001B[38;5;241m>\u001B[39m \u001B[38;5;241m3\u001B[39m:\n\u001B[0;32m--> 470\u001B[0m     \u001B[38;5;28;01mraise\u001B[39;00m \u001B[38;5;167;01mValueError\u001B[39;00m(\u001B[38;5;124m'\u001B[39m\u001B[38;5;124mWhen creating a Point from sequence, it \u001B[39m\u001B[38;5;124m'\u001B[39m\n\u001B[1;32m    471\u001B[0m                      \u001B[38;5;124m'\u001B[39m\u001B[38;5;124mmust not have more than 3 items.\u001B[39m\u001B[38;5;124m'\u001B[39m)\n\u001B[1;32m    472\u001B[0m \u001B[38;5;28;01mreturn\u001B[39;00m \u001B[38;5;28mcls\u001B[39m(\u001B[38;5;241m*\u001B[39margs)\n",
      "\u001B[0;31mValueError\u001B[0m: When creating a Point from sequence, it must not have more than 3 items."
     ]
    }
   ],
   "source": [
    "buf_df['distance'] = geopy.distance.geodesic(buf_df['cadastral_geocode'], buf_df['region_geocode']).km"
   ],
   "metadata": {
    "collapsed": false,
    "pycharm": {
     "name": "#%%\n"
    }
   }
  },
  {
   "cell_type": "code",
   "execution_count": 68,
   "outputs": [],
   "source": [
    "buf_df['distance'] = buf_df.apply(lambda x: geopy.distance.geodesic(x['cadastral_geocode'], x['region_geocode']).km, axis=1)"
   ],
   "metadata": {
    "collapsed": false,
    "pycharm": {
     "name": "#%%\n"
    }
   }
  },
  {
   "cell_type": "code",
   "execution_count": 69,
   "outputs": [
    {
     "data": {
      "text/plain": "     asset_id                        cadastral_geocode  \\\n2    641505.0   [51.94720028246027, 84.88831594503662]   \n3    169347.0   [56.77190698765615, 38.88962726762723]   \n4    899895.0  [55.73199800626753, 35.340751735565306]   \n5    269183.0    [55.7008175028533, 37.02131098410721]   \n6    621582.0   [47.34721090904763, 39.57702065464689]   \n..        ...                                      ...   \n844  691104.0   [56.21913602478085, 38.82900562858026]   \n845  630263.0  [56.220926330893064, 38.83048310378695]   \n846  177552.0    [56.21983629294916, 38.8300820194728]   \n847  841885.0  [55.822853130025955, 52.73092958759532]   \n848  419254.0   [57.14073651577907, 33.14393000643601]   \n\n                              region_geocode   distance  \n2                   [51.9931851, 84.9819571]   8.221511  \n3           [56.80208355, 38.64899133747492]  15.086412  \n4                    [55.506478, 36.0213092]  49.688507  \n5                   [55.6711507, 37.2727963]  16.159018  \n6    [47.370534899999996, 39.46597632166487]   8.780511  \n..                                       ...        ...  \n844          [56.1345574, 38.85192758087219]   9.524407  \n845          [56.1345574, 38.85192758087219]   9.708539  \n846          [56.1345574, 38.85192758087219]   9.591824  \n847  [55.682141200000004, 52.09069161386946]  43.145711  \n848                 [57.1557583, 33.1013213]   3.074139  \n\n[304 rows x 4 columns]",
      "text/html": "<div>\n<style scoped>\n    .dataframe tbody tr th:only-of-type {\n        vertical-align: middle;\n    }\n\n    .dataframe tbody tr th {\n        vertical-align: top;\n    }\n\n    .dataframe thead th {\n        text-align: right;\n    }\n</style>\n<table border=\"1\" class=\"dataframe\">\n  <thead>\n    <tr style=\"text-align: right;\">\n      <th></th>\n      <th>asset_id</th>\n      <th>cadastral_geocode</th>\n      <th>region_geocode</th>\n      <th>distance</th>\n    </tr>\n  </thead>\n  <tbody>\n    <tr>\n      <th>2</th>\n      <td>641505.0</td>\n      <td>[51.94720028246027, 84.88831594503662]</td>\n      <td>[51.9931851, 84.9819571]</td>\n      <td>8.221511</td>\n    </tr>\n    <tr>\n      <th>3</th>\n      <td>169347.0</td>\n      <td>[56.77190698765615, 38.88962726762723]</td>\n      <td>[56.80208355, 38.64899133747492]</td>\n      <td>15.086412</td>\n    </tr>\n    <tr>\n      <th>4</th>\n      <td>899895.0</td>\n      <td>[55.73199800626753, 35.340751735565306]</td>\n      <td>[55.506478, 36.0213092]</td>\n      <td>49.688507</td>\n    </tr>\n    <tr>\n      <th>5</th>\n      <td>269183.0</td>\n      <td>[55.7008175028533, 37.02131098410721]</td>\n      <td>[55.6711507, 37.2727963]</td>\n      <td>16.159018</td>\n    </tr>\n    <tr>\n      <th>6</th>\n      <td>621582.0</td>\n      <td>[47.34721090904763, 39.57702065464689]</td>\n      <td>[47.370534899999996, 39.46597632166487]</td>\n      <td>8.780511</td>\n    </tr>\n    <tr>\n      <th>...</th>\n      <td>...</td>\n      <td>...</td>\n      <td>...</td>\n      <td>...</td>\n    </tr>\n    <tr>\n      <th>844</th>\n      <td>691104.0</td>\n      <td>[56.21913602478085, 38.82900562858026]</td>\n      <td>[56.1345574, 38.85192758087219]</td>\n      <td>9.524407</td>\n    </tr>\n    <tr>\n      <th>845</th>\n      <td>630263.0</td>\n      <td>[56.220926330893064, 38.83048310378695]</td>\n      <td>[56.1345574, 38.85192758087219]</td>\n      <td>9.708539</td>\n    </tr>\n    <tr>\n      <th>846</th>\n      <td>177552.0</td>\n      <td>[56.21983629294916, 38.8300820194728]</td>\n      <td>[56.1345574, 38.85192758087219]</td>\n      <td>9.591824</td>\n    </tr>\n    <tr>\n      <th>847</th>\n      <td>841885.0</td>\n      <td>[55.822853130025955, 52.73092958759532]</td>\n      <td>[55.682141200000004, 52.09069161386946]</td>\n      <td>43.145711</td>\n    </tr>\n    <tr>\n      <th>848</th>\n      <td>419254.0</td>\n      <td>[57.14073651577907, 33.14393000643601]</td>\n      <td>[57.1557583, 33.1013213]</td>\n      <td>3.074139</td>\n    </tr>\n  </tbody>\n</table>\n<p>304 rows × 4 columns</p>\n</div>"
     },
     "execution_count": 69,
     "metadata": {},
     "output_type": "execute_result"
    }
   ],
   "source": [
    "buf_df"
   ],
   "metadata": {
    "collapsed": false,
    "pycharm": {
     "name": "#%%\n"
    }
   }
  },
  {
   "cell_type": "code",
   "execution_count": 70,
   "outputs": [],
   "source": [
    "lien_df = lien_df.merge(buf_df[['asset_id', 'distance']], on='asset_id', how='left')"
   ],
   "metadata": {
    "collapsed": false,
    "pycharm": {
     "name": "#%%\n"
    }
   }
  },
  {
   "cell_type": "code",
   "execution_count": 71,
   "outputs": [
    {
     "data": {
      "text/plain": "     asset_id   views publication_date                      contact_name  \\\n0    814114.0  1535.0   15 ноября 2022            Контактный Центр Банка   \n1    814114.0  1535.0   15 ноября 2022            Контактный Центр Банка   \n2    641505.0  2311.0    31 марта 2022        Гаас Александра Георгиевна   \n3    169347.0   466.0   18 апреля 2022            Брюнель Ева Жисленовна   \n4    899895.0  1286.0     25 июня 2022  Плесняев Александр Александрович   \n..        ...     ...              ...                               ...   \n844  691104.0   269.0      20 мая 2021            Коваленко Александр Ан   \n845  630263.0   279.0      20 мая 2021            Коваленко Александр Ан   \n846  177552.0   281.0      20 мая 2021            Коваленко Александр Ан   \n847  841885.0   610.0      11 мая 2021          Нуриев Эдуард Рамзилович   \n848  419254.0   461.0   22 апреля 2021        Самойленко Денис Сергеевич   \n\n                          seller_name    square  price_value  \\\n0                      Банк ВТБ (ПАО)       NaN   48700000.0   \n1                      Банк ВТБ (ПАО)       NaN   48700000.0   \n2                     Физическое лицо   25111.0  145500000.0   \n3                     Физическое лицо   50574.0    4500000.0   \n4    Плесняев Александр Александрович  504500.0   23450000.0   \n..                                ...       ...          ...   \n844               АО \"Россельхозбанк\"    1527.0   10709963.0   \n845               АО \"Россельхозбанк\"    1321.0    9265136.0   \n846               АО \"Россельхозбанк\"    1676.0   11755032.0   \n847               АО \"Россельхозбанк\"  150100.0     226651.0   \n848                      ПАО Сбербанк   10000.0    8270000.0   \n\n                           cadastral_geocode  \\\n0                                        NaN   \n1                                        NaN   \n2     [51.94720028246027, 84.88831594503662]   \n3     [56.77190698765615, 38.88962726762723]   \n4    [55.73199800626753, 35.340751735565306]   \n..                                       ...   \n844   [56.21913602478085, 38.82900562858026]   \n845  [56.220926330893064, 38.83048310378695]   \n846    [56.21983629294916, 38.8300820194728]   \n847  [55.822853130025955, 52.73092958759532]   \n848   [57.14073651577907, 33.14393000643601]   \n\n                              region_geocode  shown_by_days   distance  \n0                   [55.6711507, 37.2727963]      63.900436        NaN  \n1                   [55.6711507, 37.2727963]      63.900436        NaN  \n2                   [51.9931851, 84.9819571]     292.900436   8.221511  \n3           [56.80208355, 38.64899133747492]     274.900436  15.086412  \n4                    [55.506478, 36.0213092]     206.900436  49.688507  \n..                                       ...            ...        ...  \n844          [56.1345574, 38.85192758087219]     607.900437   9.524407  \n845          [56.1345574, 38.85192758087219]     607.900437   9.708539  \n846          [56.1345574, 38.85192758087219]     607.900437   9.591824  \n847  [55.682141200000004, 52.09069161386946]     616.900437  43.145711  \n848                 [57.1557583, 33.1013213]     635.900437   3.074139  \n\n[849 rows x 11 columns]",
      "text/html": "<div>\n<style scoped>\n    .dataframe tbody tr th:only-of-type {\n        vertical-align: middle;\n    }\n\n    .dataframe tbody tr th {\n        vertical-align: top;\n    }\n\n    .dataframe thead th {\n        text-align: right;\n    }\n</style>\n<table border=\"1\" class=\"dataframe\">\n  <thead>\n    <tr style=\"text-align: right;\">\n      <th></th>\n      <th>asset_id</th>\n      <th>views</th>\n      <th>publication_date</th>\n      <th>contact_name</th>\n      <th>seller_name</th>\n      <th>square</th>\n      <th>price_value</th>\n      <th>cadastral_geocode</th>\n      <th>region_geocode</th>\n      <th>shown_by_days</th>\n      <th>distance</th>\n    </tr>\n  </thead>\n  <tbody>\n    <tr>\n      <th>0</th>\n      <td>814114.0</td>\n      <td>1535.0</td>\n      <td>15 ноября 2022</td>\n      <td>Контактный Центр Банка</td>\n      <td>Банк ВТБ (ПАО)</td>\n      <td>NaN</td>\n      <td>48700000.0</td>\n      <td>NaN</td>\n      <td>[55.6711507, 37.2727963]</td>\n      <td>63.900436</td>\n      <td>NaN</td>\n    </tr>\n    <tr>\n      <th>1</th>\n      <td>814114.0</td>\n      <td>1535.0</td>\n      <td>15 ноября 2022</td>\n      <td>Контактный Центр Банка</td>\n      <td>Банк ВТБ (ПАО)</td>\n      <td>NaN</td>\n      <td>48700000.0</td>\n      <td>NaN</td>\n      <td>[55.6711507, 37.2727963]</td>\n      <td>63.900436</td>\n      <td>NaN</td>\n    </tr>\n    <tr>\n      <th>2</th>\n      <td>641505.0</td>\n      <td>2311.0</td>\n      <td>31 марта 2022</td>\n      <td>Гаас Александра Георгиевна</td>\n      <td>Физическое лицо</td>\n      <td>25111.0</td>\n      <td>145500000.0</td>\n      <td>[51.94720028246027, 84.88831594503662]</td>\n      <td>[51.9931851, 84.9819571]</td>\n      <td>292.900436</td>\n      <td>8.221511</td>\n    </tr>\n    <tr>\n      <th>3</th>\n      <td>169347.0</td>\n      <td>466.0</td>\n      <td>18 апреля 2022</td>\n      <td>Брюнель Ева Жисленовна</td>\n      <td>Физическое лицо</td>\n      <td>50574.0</td>\n      <td>4500000.0</td>\n      <td>[56.77190698765615, 38.88962726762723]</td>\n      <td>[56.80208355, 38.64899133747492]</td>\n      <td>274.900436</td>\n      <td>15.086412</td>\n    </tr>\n    <tr>\n      <th>4</th>\n      <td>899895.0</td>\n      <td>1286.0</td>\n      <td>25 июня 2022</td>\n      <td>Плесняев Александр Александрович</td>\n      <td>Плесняев Александр Александрович</td>\n      <td>504500.0</td>\n      <td>23450000.0</td>\n      <td>[55.73199800626753, 35.340751735565306]</td>\n      <td>[55.506478, 36.0213092]</td>\n      <td>206.900436</td>\n      <td>49.688507</td>\n    </tr>\n    <tr>\n      <th>...</th>\n      <td>...</td>\n      <td>...</td>\n      <td>...</td>\n      <td>...</td>\n      <td>...</td>\n      <td>...</td>\n      <td>...</td>\n      <td>...</td>\n      <td>...</td>\n      <td>...</td>\n      <td>...</td>\n    </tr>\n    <tr>\n      <th>844</th>\n      <td>691104.0</td>\n      <td>269.0</td>\n      <td>20 мая 2021</td>\n      <td>Коваленко Александр Ан</td>\n      <td>АО \"Россельхозбанк\"</td>\n      <td>1527.0</td>\n      <td>10709963.0</td>\n      <td>[56.21913602478085, 38.82900562858026]</td>\n      <td>[56.1345574, 38.85192758087219]</td>\n      <td>607.900437</td>\n      <td>9.524407</td>\n    </tr>\n    <tr>\n      <th>845</th>\n      <td>630263.0</td>\n      <td>279.0</td>\n      <td>20 мая 2021</td>\n      <td>Коваленко Александр Ан</td>\n      <td>АО \"Россельхозбанк\"</td>\n      <td>1321.0</td>\n      <td>9265136.0</td>\n      <td>[56.220926330893064, 38.83048310378695]</td>\n      <td>[56.1345574, 38.85192758087219]</td>\n      <td>607.900437</td>\n      <td>9.708539</td>\n    </tr>\n    <tr>\n      <th>846</th>\n      <td>177552.0</td>\n      <td>281.0</td>\n      <td>20 мая 2021</td>\n      <td>Коваленко Александр Ан</td>\n      <td>АО \"Россельхозбанк\"</td>\n      <td>1676.0</td>\n      <td>11755032.0</td>\n      <td>[56.21983629294916, 38.8300820194728]</td>\n      <td>[56.1345574, 38.85192758087219]</td>\n      <td>607.900437</td>\n      <td>9.591824</td>\n    </tr>\n    <tr>\n      <th>847</th>\n      <td>841885.0</td>\n      <td>610.0</td>\n      <td>11 мая 2021</td>\n      <td>Нуриев Эдуард Рамзилович</td>\n      <td>АО \"Россельхозбанк\"</td>\n      <td>150100.0</td>\n      <td>226651.0</td>\n      <td>[55.822853130025955, 52.73092958759532]</td>\n      <td>[55.682141200000004, 52.09069161386946]</td>\n      <td>616.900437</td>\n      <td>43.145711</td>\n    </tr>\n    <tr>\n      <th>848</th>\n      <td>419254.0</td>\n      <td>461.0</td>\n      <td>22 апреля 2021</td>\n      <td>Самойленко Денис Сергеевич</td>\n      <td>ПАО Сбербанк</td>\n      <td>10000.0</td>\n      <td>8270000.0</td>\n      <td>[57.14073651577907, 33.14393000643601]</td>\n      <td>[57.1557583, 33.1013213]</td>\n      <td>635.900437</td>\n      <td>3.074139</td>\n    </tr>\n  </tbody>\n</table>\n<p>849 rows × 11 columns</p>\n</div>"
     },
     "execution_count": 71,
     "metadata": {},
     "output_type": "execute_result"
    }
   ],
   "source": [
    "lien_df  # добавили дистанцию"
   ],
   "metadata": {
    "collapsed": false,
    "pycharm": {
     "name": "#%%\n"
    }
   }
  },
  {
   "cell_type": "code",
   "execution_count": 74,
   "outputs": [],
   "source": [
    "# дистанция также не зашла"
   ],
   "metadata": {
    "collapsed": false,
    "pycharm": {
     "name": "#%%\n"
    }
   }
  },
  {
   "cell_type": "code",
   "execution_count": 75,
   "outputs": [],
   "source": [],
   "metadata": {
    "collapsed": false,
    "pycharm": {
     "name": "#%%\n"
    }
   }
  },
  {
   "cell_type": "code",
   "execution_count": 76,
   "outputs": [],
   "source": [
    "# что еще прикручиваем:"
   ],
   "metadata": {
    "collapsed": false,
    "pycharm": {
     "name": "#%%\n"
    }
   }
  },
  {
   "cell_type": "markdown",
   "source": [
    "Подкрутить население в регионе\n",
    "Врп региона\n",
    "Преступность региона\n",
    "Партию в регионе\n",
    "Отдаленность от Москвы"
   ],
   "metadata": {
    "collapsed": false,
    "pycharm": {
     "name": "#%% md\n"
    }
   }
  }
 ],
 "metadata": {
  "kernelspec": {
   "name": "portal_da",
   "language": "python",
   "display_name": "portal_da"
  },
  "language_info": {
   "codemirror_mode": {
    "name": "ipython",
    "version": 2
   },
   "file_extension": ".py",
   "mimetype": "text/x-python",
   "name": "python",
   "nbconvert_exporter": "python",
   "pygments_lexer": "ipython2",
   "version": "2.7.6"
  }
 },
 "nbformat": 4,
 "nbformat_minor": 0
}