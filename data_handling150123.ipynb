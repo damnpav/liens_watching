{
 "cells": [
  {
   "cell_type": "markdown",
   "source": [
    "# Необходимо распаковать данные из файлов - 15-01-23"
   ],
   "metadata": {
    "collapsed": false,
    "pycharm": {
     "name": "#%% md\n"
    }
   }
  },
  {
   "cell_type": "code",
   "execution_count": 22,
   "outputs": [],
   "source": [
    "import pandas as pd\n",
    "import numpy as np\n",
    "import ast"
   ],
   "metadata": {
    "collapsed": false,
    "pycharm": {
     "name": "#%%\n"
    }
   }
  },
  {
   "cell_type": "code",
   "execution_count": 150,
   "outputs": [],
   "source": [
    "pd.options.display.float_format = '{:.2f}'.format"
   ],
   "metadata": {
    "collapsed": false,
    "pycharm": {
     "name": "#%%\n"
    }
   }
  },
  {
   "cell_type": "code",
   "execution_count": 3,
   "outputs": [],
   "source": [
    "links_df = pd.read_excel(r'data/links_results_15_01_23.xlsx')"
   ],
   "metadata": {
    "collapsed": false,
    "pycharm": {
     "name": "#%%\n"
    }
   }
  },
  {
   "cell_type": "code",
   "execution_count": 19,
   "outputs": [
    {
     "data": {
      "text/plain": "                                                 links asset_id  \\\n0    https://portal-da.ru/objects/814114-zemlya-pod...   814114   \n1    https://portal-da.ru/objects/814114-zemlya-pod...   814114   \n2    https://portal-da.ru/objects/641505-zemlya-pod...   641505   \n3    https://portal-da.ru/objects/169347-zemelnyy-u...   169347   \n4    https://portal-da.ru/objects/899895-zemlya-pod...   899895   \n..                                                 ...      ...   \n844  https://portal-da.ru/objects/691104-zemlya-pod...   691104   \n845  https://portal-da.ru/objects/630263-zemlya-pod...   630263   \n846  https://portal-da.ru/objects/177552-zemlya-pod...   177552   \n847  https://portal-da.ru/objects/841885-zemlya-pod...   841885   \n848  https://portal-da.ru/objects/419254-zemelnyy-u...   419254   \n\n                                               contact  \\\n0    {\"name\":\"Контактный Центр Банка\",\"email\":\"zalo...   \n1    {\"name\":\"Контактный Центр Банка\",\"email\":\"zalo...   \n2    {\"name\":\"Гаас Александра Георгиевна\",\"email\":\"...   \n3    {\"name\":\"Брюнель Ева Жисленовна\",\"email\":\"bryu...   \n4    {\"name\":\"Плесняев Александр Александрович\",\"em...   \n..                                                 ...   \n844  {\"name\":\"Коваленко Александр Ан\",\"email\":\"kova...   \n845  {\"name\":\"Коваленко Александр Ан\",\"email\":\"kova...   \n846  {\"name\":\"Коваленко Александр Ан\",\"email\":\"kova...   \n847  {\"name\":\"Нуриев Эдуард Рамзилович\",\"email\":\"ln...   \n848  {\"name\":\"Самойленко Денис Сергеевич\",\"email\":\"...   \n\n                                                seller  \\\n0         {\"name\":\"Банк ВТБ (ПАО)\",\"assets_count\":603}   \n1         {\"name\":\"Банк ВТБ (ПАО)\",\"assets_count\":603}   \n2          {\"name\":\"Физическое лицо\",\"assets_count\":0}   \n3          {\"name\":\"Физическое лицо\",\"assets_count\":0}   \n4    {\"name\":\"Плесняев Александр Александрович\",\"as...   \n..                                                 ...   \n844  {\"name\":\"АО \\\"Россельхозбанк\\\"\",\"assets_count\"...   \n845  {\"name\":\"АО \\\"Россельхозбанк\\\"\",\"assets_count\"...   \n846  {\"name\":\"АО \\\"Россельхозбанк\\\"\",\"assets_count\"...   \n847  {\"name\":\"АО \\\"Россельхозбанк\\\"\",\"assets_count\"...   \n848        {\"name\":\"ПАО Сбербанк\",\"assets_count\":3244}   \n\n                                       specific_fields           price  \\\n0                                                   []    \"48,7 млн ₽\"   \n1                                                   []    \"48,7 млн ₽\"   \n2    [{\"name\":\"Площадь\",\"value\":\"251.11 сот.\",\"fiel...   \"145,5 млн ₽\"   \n3    [{\"name\":\"Площадь\",\"value\":\"505.74 сот.\",\"fiel...     \"4,5 млн ₽\"   \n4    [{\"name\":\"Площадь\",\"value\":\"5045 сот.\",\"field\"...   \"23,45 млн ₽\"   \n..                                                 ...             ...   \n844  [{\"name\":\"Площадь\",\"value\":\"15.27 сот.\",\"field...  \"107 099,63 ₽\"   \n845  [{\"name\":\"Площадь\",\"value\":\"13.21 сот.\",\"field...   \"92 651,36 ₽\"   \n846  [{\"name\":\"Площадь\",\"value\":\"16.76 сот.\",\"field...  \"117 550,32 ₽\"   \n847  [{\"name\":\"Площадь\",\"value\":\"1501 сот.\",\"field\"...     \"226 651 ₽\"   \n848  [{\"name\":\"Площадь\",\"value\":\"100 сот.\",\"field\":...    \"8,27 млн ₽\"   \n\n             views                                         region_str  \\\n0    1535 просмотр  Российская Федерация, Московская область, Один...   \n1    1535 просмотр  Российская Федерация, Московская область, Один...   \n2    2311 просмотр  Российская Федерация, Алтайский край, г Белоку...   \n3     466 просмотр  Российская Федерация, Ярославская область, Пер...   \n4    1286 просмотр  Российская Федерация, Московская область, г Мо...   \n..             ...                                                ...   \n844   269 просмотр  Российская Федерация, Владимирская область, Ки...   \n845   279 просмотр  Российская Федерация, Владимирская область, Ки...   \n846   281 просмотр  Российская Федерация, Владимирская область, Ки...   \n847   610 просмотр        Российская Федерация, Татарстан, Тукаевский   \n848   461 просмотр  Российская Федерация, Тверская область, г Оста...   \n\n    publication_date  \n0     15 ноября 2022  \n1     15 ноября 2022  \n2      31 марта 2022  \n3     18 апреля 2022  \n4       25 июня 2022  \n..               ...  \n844      20 мая 2021  \n845      20 мая 2021  \n846      20 мая 2021  \n847      11 мая 2021  \n848   22 апреля 2021  \n\n[849 rows x 9 columns]",
      "text/html": "<div>\n<style scoped>\n    .dataframe tbody tr th:only-of-type {\n        vertical-align: middle;\n    }\n\n    .dataframe tbody tr th {\n        vertical-align: top;\n    }\n\n    .dataframe thead th {\n        text-align: right;\n    }\n</style>\n<table border=\"1\" class=\"dataframe\">\n  <thead>\n    <tr style=\"text-align: right;\">\n      <th></th>\n      <th>links</th>\n      <th>asset_id</th>\n      <th>contact</th>\n      <th>seller</th>\n      <th>specific_fields</th>\n      <th>price</th>\n      <th>views</th>\n      <th>region_str</th>\n      <th>publication_date</th>\n    </tr>\n  </thead>\n  <tbody>\n    <tr>\n      <th>0</th>\n      <td>https://portal-da.ru/objects/814114-zemlya-pod...</td>\n      <td>814114</td>\n      <td>{\"name\":\"Контактный Центр Банка\",\"email\":\"zalo...</td>\n      <td>{\"name\":\"Банк ВТБ (ПАО)\",\"assets_count\":603}</td>\n      <td>[]</td>\n      <td>\"48,7 млн ₽\"</td>\n      <td>1535 просмотр</td>\n      <td>Российская Федерация, Московская область, Один...</td>\n      <td>15 ноября 2022</td>\n    </tr>\n    <tr>\n      <th>1</th>\n      <td>https://portal-da.ru/objects/814114-zemlya-pod...</td>\n      <td>814114</td>\n      <td>{\"name\":\"Контактный Центр Банка\",\"email\":\"zalo...</td>\n      <td>{\"name\":\"Банк ВТБ (ПАО)\",\"assets_count\":603}</td>\n      <td>[]</td>\n      <td>\"48,7 млн ₽\"</td>\n      <td>1535 просмотр</td>\n      <td>Российская Федерация, Московская область, Один...</td>\n      <td>15 ноября 2022</td>\n    </tr>\n    <tr>\n      <th>2</th>\n      <td>https://portal-da.ru/objects/641505-zemlya-pod...</td>\n      <td>641505</td>\n      <td>{\"name\":\"Гаас Александра Георгиевна\",\"email\":\"...</td>\n      <td>{\"name\":\"Физическое лицо\",\"assets_count\":0}</td>\n      <td>[{\"name\":\"Площадь\",\"value\":\"251.11 сот.\",\"fiel...</td>\n      <td>\"145,5 млн ₽\"</td>\n      <td>2311 просмотр</td>\n      <td>Российская Федерация, Алтайский край, г Белоку...</td>\n      <td>31 марта 2022</td>\n    </tr>\n    <tr>\n      <th>3</th>\n      <td>https://portal-da.ru/objects/169347-zemelnyy-u...</td>\n      <td>169347</td>\n      <td>{\"name\":\"Брюнель Ева Жисленовна\",\"email\":\"bryu...</td>\n      <td>{\"name\":\"Физическое лицо\",\"assets_count\":0}</td>\n      <td>[{\"name\":\"Площадь\",\"value\":\"505.74 сот.\",\"fiel...</td>\n      <td>\"4,5 млн ₽\"</td>\n      <td>466 просмотр</td>\n      <td>Российская Федерация, Ярославская область, Пер...</td>\n      <td>18 апреля 2022</td>\n    </tr>\n    <tr>\n      <th>4</th>\n      <td>https://portal-da.ru/objects/899895-zemlya-pod...</td>\n      <td>899895</td>\n      <td>{\"name\":\"Плесняев Александр Александрович\",\"em...</td>\n      <td>{\"name\":\"Плесняев Александр Александрович\",\"as...</td>\n      <td>[{\"name\":\"Площадь\",\"value\":\"5045 сот.\",\"field\"...</td>\n      <td>\"23,45 млн ₽\"</td>\n      <td>1286 просмотр</td>\n      <td>Российская Федерация, Московская область, г Мо...</td>\n      <td>25 июня 2022</td>\n    </tr>\n    <tr>\n      <th>...</th>\n      <td>...</td>\n      <td>...</td>\n      <td>...</td>\n      <td>...</td>\n      <td>...</td>\n      <td>...</td>\n      <td>...</td>\n      <td>...</td>\n      <td>...</td>\n    </tr>\n    <tr>\n      <th>844</th>\n      <td>https://portal-da.ru/objects/691104-zemlya-pod...</td>\n      <td>691104</td>\n      <td>{\"name\":\"Коваленко Александр Ан\",\"email\":\"kova...</td>\n      <td>{\"name\":\"АО \\\"Россельхозбанк\\\"\",\"assets_count\"...</td>\n      <td>[{\"name\":\"Площадь\",\"value\":\"15.27 сот.\",\"field...</td>\n      <td>\"107 099,63 ₽\"</td>\n      <td>269 просмотр</td>\n      <td>Российская Федерация, Владимирская область, Ки...</td>\n      <td>20 мая 2021</td>\n    </tr>\n    <tr>\n      <th>845</th>\n      <td>https://portal-da.ru/objects/630263-zemlya-pod...</td>\n      <td>630263</td>\n      <td>{\"name\":\"Коваленко Александр Ан\",\"email\":\"kova...</td>\n      <td>{\"name\":\"АО \\\"Россельхозбанк\\\"\",\"assets_count\"...</td>\n      <td>[{\"name\":\"Площадь\",\"value\":\"13.21 сот.\",\"field...</td>\n      <td>\"92 651,36 ₽\"</td>\n      <td>279 просмотр</td>\n      <td>Российская Федерация, Владимирская область, Ки...</td>\n      <td>20 мая 2021</td>\n    </tr>\n    <tr>\n      <th>846</th>\n      <td>https://portal-da.ru/objects/177552-zemlya-pod...</td>\n      <td>177552</td>\n      <td>{\"name\":\"Коваленко Александр Ан\",\"email\":\"kova...</td>\n      <td>{\"name\":\"АО \\\"Россельхозбанк\\\"\",\"assets_count\"...</td>\n      <td>[{\"name\":\"Площадь\",\"value\":\"16.76 сот.\",\"field...</td>\n      <td>\"117 550,32 ₽\"</td>\n      <td>281 просмотр</td>\n      <td>Российская Федерация, Владимирская область, Ки...</td>\n      <td>20 мая 2021</td>\n    </tr>\n    <tr>\n      <th>847</th>\n      <td>https://portal-da.ru/objects/841885-zemlya-pod...</td>\n      <td>841885</td>\n      <td>{\"name\":\"Нуриев Эдуард Рамзилович\",\"email\":\"ln...</td>\n      <td>{\"name\":\"АО \\\"Россельхозбанк\\\"\",\"assets_count\"...</td>\n      <td>[{\"name\":\"Площадь\",\"value\":\"1501 сот.\",\"field\"...</td>\n      <td>\"226 651 ₽\"</td>\n      <td>610 просмотр</td>\n      <td>Российская Федерация, Татарстан, Тукаевский</td>\n      <td>11 мая 2021</td>\n    </tr>\n    <tr>\n      <th>848</th>\n      <td>https://portal-da.ru/objects/419254-zemelnyy-u...</td>\n      <td>419254</td>\n      <td>{\"name\":\"Самойленко Денис Сергеевич\",\"email\":\"...</td>\n      <td>{\"name\":\"ПАО Сбербанк\",\"assets_count\":3244}</td>\n      <td>[{\"name\":\"Площадь\",\"value\":\"100 сот.\",\"field\":...</td>\n      <td>\"8,27 млн ₽\"</td>\n      <td>461 просмотр</td>\n      <td>Российская Федерация, Тверская область, г Оста...</td>\n      <td>22 апреля 2021</td>\n    </tr>\n  </tbody>\n</table>\n<p>849 rows × 9 columns</p>\n</div>"
     },
     "execution_count": 19,
     "metadata": {},
     "output_type": "execute_result"
    }
   ],
   "source": [
    "links_df"
   ],
   "metadata": {
    "collapsed": false,
    "pycharm": {
     "name": "#%%\n"
    }
   }
  },
  {
   "cell_type": "code",
   "execution_count": 7,
   "outputs": [],
   "source": [
    "links_df.columns = [x.replace('general.', '') for x in links_df.columns]"
   ],
   "metadata": {
    "collapsed": false,
    "pycharm": {
     "name": "#%%\n"
    }
   }
  },
  {
   "cell_type": "code",
   "execution_count": 9,
   "outputs": [],
   "source": [
    "links_df['asset_id'] = links_df['asset_id'].apply(lambda x: str(x).replace('\"', ''))"
   ],
   "metadata": {
    "collapsed": false,
    "pycharm": {
     "name": "#%%\n"
    }
   }
  },
  {
   "cell_type": "code",
   "execution_count": 17,
   "outputs": [
    {
     "data": {
      "text/plain": "{'name': 'Контактный Центр Банка',\n 'email': 'zalognpa@vtb.ru',\n 'avatar': 'https://portal-da.ru/default/user.png',\n 'phone_link': 'https://portal-da.ru/api/v2/assets/814114/phone.json'}"
     },
     "execution_count": 17,
     "metadata": {},
     "output_type": "execute_result"
    }
   ],
   "source": [
    "ast.literal_eval(links_df['contact'][0])"
   ],
   "metadata": {
    "collapsed": false,
    "pycharm": {
     "name": "#%%\n"
    }
   }
  },
  {
   "cell_type": "code",
   "execution_count": 23,
   "outputs": [],
   "source": [
    "links_df['contact_name'] = links_df['contact'].apply(lambda x: ast.literal_eval(x)['name'] if pd.notnull(x) else np.NaN)"
   ],
   "metadata": {
    "collapsed": false,
    "pycharm": {
     "name": "#%%\n"
    }
   }
  },
  {
   "cell_type": "code",
   "execution_count": 25,
   "outputs": [],
   "source": [
    "links_df['contact_email'] = links_df['contact'].apply(lambda x: ast.literal_eval(x)['email'] if pd.notnull(x) else np.NaN)"
   ],
   "metadata": {
    "collapsed": false,
    "pycharm": {
     "name": "#%%\n"
    }
   }
  },
  {
   "cell_type": "code",
   "execution_count": 28,
   "outputs": [],
   "source": [
    "links_df['seller_name'] = links_df['seller'].apply(lambda x: ast.literal_eval(x)['name'] if pd.notnull(x) else np.NaN)"
   ],
   "metadata": {
    "collapsed": false,
    "pycharm": {
     "name": "#%%\n"
    }
   }
  },
  {
   "cell_type": "code",
   "execution_count": 29,
   "outputs": [
    {
     "data": {
      "text/plain": "                                                 links asset_id  \\\n0    https://portal-da.ru/objects/814114-zemlya-pod...   814114   \n1    https://portal-da.ru/objects/814114-zemlya-pod...   814114   \n2    https://portal-da.ru/objects/641505-zemlya-pod...   641505   \n3    https://portal-da.ru/objects/169347-zemelnyy-u...   169347   \n4    https://portal-da.ru/objects/899895-zemlya-pod...   899895   \n..                                                 ...      ...   \n844  https://portal-da.ru/objects/691104-zemlya-pod...   691104   \n845  https://portal-da.ru/objects/630263-zemlya-pod...   630263   \n846  https://portal-da.ru/objects/177552-zemlya-pod...   177552   \n847  https://portal-da.ru/objects/841885-zemlya-pod...   841885   \n848  https://portal-da.ru/objects/419254-zemelnyy-u...   419254   \n\n                                               contact  \\\n0    {\"name\":\"Контактный Центр Банка\",\"email\":\"zalo...   \n1    {\"name\":\"Контактный Центр Банка\",\"email\":\"zalo...   \n2    {\"name\":\"Гаас Александра Георгиевна\",\"email\":\"...   \n3    {\"name\":\"Брюнель Ева Жисленовна\",\"email\":\"bryu...   \n4    {\"name\":\"Плесняев Александр Александрович\",\"em...   \n..                                                 ...   \n844  {\"name\":\"Коваленко Александр Ан\",\"email\":\"kova...   \n845  {\"name\":\"Коваленко Александр Ан\",\"email\":\"kova...   \n846  {\"name\":\"Коваленко Александр Ан\",\"email\":\"kova...   \n847  {\"name\":\"Нуриев Эдуард Рамзилович\",\"email\":\"ln...   \n848  {\"name\":\"Самойленко Денис Сергеевич\",\"email\":\"...   \n\n                                                seller  \\\n0         {\"name\":\"Банк ВТБ (ПАО)\",\"assets_count\":603}   \n1         {\"name\":\"Банк ВТБ (ПАО)\",\"assets_count\":603}   \n2          {\"name\":\"Физическое лицо\",\"assets_count\":0}   \n3          {\"name\":\"Физическое лицо\",\"assets_count\":0}   \n4    {\"name\":\"Плесняев Александр Александрович\",\"as...   \n..                                                 ...   \n844  {\"name\":\"АО \\\"Россельхозбанк\\\"\",\"assets_count\"...   \n845  {\"name\":\"АО \\\"Россельхозбанк\\\"\",\"assets_count\"...   \n846  {\"name\":\"АО \\\"Россельхозбанк\\\"\",\"assets_count\"...   \n847  {\"name\":\"АО \\\"Россельхозбанк\\\"\",\"assets_count\"...   \n848        {\"name\":\"ПАО Сбербанк\",\"assets_count\":3244}   \n\n                                       specific_fields           price  \\\n0                                                   []    \"48,7 млн ₽\"   \n1                                                   []    \"48,7 млн ₽\"   \n2    [{\"name\":\"Площадь\",\"value\":\"251.11 сот.\",\"fiel...   \"145,5 млн ₽\"   \n3    [{\"name\":\"Площадь\",\"value\":\"505.74 сот.\",\"fiel...     \"4,5 млн ₽\"   \n4    [{\"name\":\"Площадь\",\"value\":\"5045 сот.\",\"field\"...   \"23,45 млн ₽\"   \n..                                                 ...             ...   \n844  [{\"name\":\"Площадь\",\"value\":\"15.27 сот.\",\"field...  \"107 099,63 ₽\"   \n845  [{\"name\":\"Площадь\",\"value\":\"13.21 сот.\",\"field...   \"92 651,36 ₽\"   \n846  [{\"name\":\"Площадь\",\"value\":\"16.76 сот.\",\"field...  \"117 550,32 ₽\"   \n847  [{\"name\":\"Площадь\",\"value\":\"1501 сот.\",\"field\"...     \"226 651 ₽\"   \n848  [{\"name\":\"Площадь\",\"value\":\"100 сот.\",\"field\":...    \"8,27 млн ₽\"   \n\n             views                                         region_str  \\\n0    1535 просмотр  Российская Федерация, Московская область, Один...   \n1    1535 просмотр  Российская Федерация, Московская область, Один...   \n2    2311 просмотр  Российская Федерация, Алтайский край, г Белоку...   \n3     466 просмотр  Российская Федерация, Ярославская область, Пер...   \n4    1286 просмотр  Российская Федерация, Московская область, г Мо...   \n..             ...                                                ...   \n844   269 просмотр  Российская Федерация, Владимирская область, Ки...   \n845   279 просмотр  Российская Федерация, Владимирская область, Ки...   \n846   281 просмотр  Российская Федерация, Владимирская область, Ки...   \n847   610 просмотр        Российская Федерация, Татарстан, Тукаевский   \n848   461 просмотр  Российская Федерация, Тверская область, г Оста...   \n\n    publication_date                      contact_name  \\\n0     15 ноября 2022            Контактный Центр Банка   \n1     15 ноября 2022            Контактный Центр Банка   \n2      31 марта 2022        Гаас Александра Георгиевна   \n3     18 апреля 2022            Брюнель Ева Жисленовна   \n4       25 июня 2022  Плесняев Александр Александрович   \n..               ...                               ...   \n844      20 мая 2021            Коваленко Александр Ан   \n845      20 мая 2021            Коваленко Александр Ан   \n846      20 мая 2021            Коваленко Александр Ан   \n847      11 мая 2021          Нуриев Эдуард Рамзилович   \n848   22 апреля 2021        Самойленко Денис Сергеевич   \n\n                     contact_email                       seller_name  \n0                  zalognpa@vtb.ru                    Банк ВТБ (ПАО)  \n1                  zalognpa@vtb.ru                    Банк ВТБ (ПАО)  \n2              gaas-ag@sberbank.ru                   Физическое лицо  \n3          bryunel.e.z@sberbank.ru                   Физическое лицо  \n4             aplesnyaev@gmail.com  Плесняев Александр Александрович  \n..                             ...                               ...  \n844  kovalenkoaan@vladimir.rshb.ru               АО \"Россельхозбанк\"  \n845  kovalenkoaan@vladimir.rshb.ru               АО \"Россельхозбанк\"  \n846  kovalenkoaan@vladimir.rshb.ru               АО \"Россельхозбанк\"  \n847          lnugaev@kazan.rshb.ru               АО \"Россельхозбанк\"  \n848       dssamoylenko@sberbank.ru                      ПАО Сбербанк  \n\n[849 rows x 12 columns]",
      "text/html": "<div>\n<style scoped>\n    .dataframe tbody tr th:only-of-type {\n        vertical-align: middle;\n    }\n\n    .dataframe tbody tr th {\n        vertical-align: top;\n    }\n\n    .dataframe thead th {\n        text-align: right;\n    }\n</style>\n<table border=\"1\" class=\"dataframe\">\n  <thead>\n    <tr style=\"text-align: right;\">\n      <th></th>\n      <th>links</th>\n      <th>asset_id</th>\n      <th>contact</th>\n      <th>seller</th>\n      <th>specific_fields</th>\n      <th>price</th>\n      <th>views</th>\n      <th>region_str</th>\n      <th>publication_date</th>\n      <th>contact_name</th>\n      <th>contact_email</th>\n      <th>seller_name</th>\n    </tr>\n  </thead>\n  <tbody>\n    <tr>\n      <th>0</th>\n      <td>https://portal-da.ru/objects/814114-zemlya-pod...</td>\n      <td>814114</td>\n      <td>{\"name\":\"Контактный Центр Банка\",\"email\":\"zalo...</td>\n      <td>{\"name\":\"Банк ВТБ (ПАО)\",\"assets_count\":603}</td>\n      <td>[]</td>\n      <td>\"48,7 млн ₽\"</td>\n      <td>1535 просмотр</td>\n      <td>Российская Федерация, Московская область, Один...</td>\n      <td>15 ноября 2022</td>\n      <td>Контактный Центр Банка</td>\n      <td>zalognpa@vtb.ru</td>\n      <td>Банк ВТБ (ПАО)</td>\n    </tr>\n    <tr>\n      <th>1</th>\n      <td>https://portal-da.ru/objects/814114-zemlya-pod...</td>\n      <td>814114</td>\n      <td>{\"name\":\"Контактный Центр Банка\",\"email\":\"zalo...</td>\n      <td>{\"name\":\"Банк ВТБ (ПАО)\",\"assets_count\":603}</td>\n      <td>[]</td>\n      <td>\"48,7 млн ₽\"</td>\n      <td>1535 просмотр</td>\n      <td>Российская Федерация, Московская область, Один...</td>\n      <td>15 ноября 2022</td>\n      <td>Контактный Центр Банка</td>\n      <td>zalognpa@vtb.ru</td>\n      <td>Банк ВТБ (ПАО)</td>\n    </tr>\n    <tr>\n      <th>2</th>\n      <td>https://portal-da.ru/objects/641505-zemlya-pod...</td>\n      <td>641505</td>\n      <td>{\"name\":\"Гаас Александра Георгиевна\",\"email\":\"...</td>\n      <td>{\"name\":\"Физическое лицо\",\"assets_count\":0}</td>\n      <td>[{\"name\":\"Площадь\",\"value\":\"251.11 сот.\",\"fiel...</td>\n      <td>\"145,5 млн ₽\"</td>\n      <td>2311 просмотр</td>\n      <td>Российская Федерация, Алтайский край, г Белоку...</td>\n      <td>31 марта 2022</td>\n      <td>Гаас Александра Георгиевна</td>\n      <td>gaas-ag@sberbank.ru</td>\n      <td>Физическое лицо</td>\n    </tr>\n    <tr>\n      <th>3</th>\n      <td>https://portal-da.ru/objects/169347-zemelnyy-u...</td>\n      <td>169347</td>\n      <td>{\"name\":\"Брюнель Ева Жисленовна\",\"email\":\"bryu...</td>\n      <td>{\"name\":\"Физическое лицо\",\"assets_count\":0}</td>\n      <td>[{\"name\":\"Площадь\",\"value\":\"505.74 сот.\",\"fiel...</td>\n      <td>\"4,5 млн ₽\"</td>\n      <td>466 просмотр</td>\n      <td>Российская Федерация, Ярославская область, Пер...</td>\n      <td>18 апреля 2022</td>\n      <td>Брюнель Ева Жисленовна</td>\n      <td>bryunel.e.z@sberbank.ru</td>\n      <td>Физическое лицо</td>\n    </tr>\n    <tr>\n      <th>4</th>\n      <td>https://portal-da.ru/objects/899895-zemlya-pod...</td>\n      <td>899895</td>\n      <td>{\"name\":\"Плесняев Александр Александрович\",\"em...</td>\n      <td>{\"name\":\"Плесняев Александр Александрович\",\"as...</td>\n      <td>[{\"name\":\"Площадь\",\"value\":\"5045 сот.\",\"field\"...</td>\n      <td>\"23,45 млн ₽\"</td>\n      <td>1286 просмотр</td>\n      <td>Российская Федерация, Московская область, г Мо...</td>\n      <td>25 июня 2022</td>\n      <td>Плесняев Александр Александрович</td>\n      <td>aplesnyaev@gmail.com</td>\n      <td>Плесняев Александр Александрович</td>\n    </tr>\n    <tr>\n      <th>...</th>\n      <td>...</td>\n      <td>...</td>\n      <td>...</td>\n      <td>...</td>\n      <td>...</td>\n      <td>...</td>\n      <td>...</td>\n      <td>...</td>\n      <td>...</td>\n      <td>...</td>\n      <td>...</td>\n      <td>...</td>\n    </tr>\n    <tr>\n      <th>844</th>\n      <td>https://portal-da.ru/objects/691104-zemlya-pod...</td>\n      <td>691104</td>\n      <td>{\"name\":\"Коваленко Александр Ан\",\"email\":\"kova...</td>\n      <td>{\"name\":\"АО \\\"Россельхозбанк\\\"\",\"assets_count\"...</td>\n      <td>[{\"name\":\"Площадь\",\"value\":\"15.27 сот.\",\"field...</td>\n      <td>\"107 099,63 ₽\"</td>\n      <td>269 просмотр</td>\n      <td>Российская Федерация, Владимирская область, Ки...</td>\n      <td>20 мая 2021</td>\n      <td>Коваленко Александр Ан</td>\n      <td>kovalenkoaan@vladimir.rshb.ru</td>\n      <td>АО \"Россельхозбанк\"</td>\n    </tr>\n    <tr>\n      <th>845</th>\n      <td>https://portal-da.ru/objects/630263-zemlya-pod...</td>\n      <td>630263</td>\n      <td>{\"name\":\"Коваленко Александр Ан\",\"email\":\"kova...</td>\n      <td>{\"name\":\"АО \\\"Россельхозбанк\\\"\",\"assets_count\"...</td>\n      <td>[{\"name\":\"Площадь\",\"value\":\"13.21 сот.\",\"field...</td>\n      <td>\"92 651,36 ₽\"</td>\n      <td>279 просмотр</td>\n      <td>Российская Федерация, Владимирская область, Ки...</td>\n      <td>20 мая 2021</td>\n      <td>Коваленко Александр Ан</td>\n      <td>kovalenkoaan@vladimir.rshb.ru</td>\n      <td>АО \"Россельхозбанк\"</td>\n    </tr>\n    <tr>\n      <th>846</th>\n      <td>https://portal-da.ru/objects/177552-zemlya-pod...</td>\n      <td>177552</td>\n      <td>{\"name\":\"Коваленко Александр Ан\",\"email\":\"kova...</td>\n      <td>{\"name\":\"АО \\\"Россельхозбанк\\\"\",\"assets_count\"...</td>\n      <td>[{\"name\":\"Площадь\",\"value\":\"16.76 сот.\",\"field...</td>\n      <td>\"117 550,32 ₽\"</td>\n      <td>281 просмотр</td>\n      <td>Российская Федерация, Владимирская область, Ки...</td>\n      <td>20 мая 2021</td>\n      <td>Коваленко Александр Ан</td>\n      <td>kovalenkoaan@vladimir.rshb.ru</td>\n      <td>АО \"Россельхозбанк\"</td>\n    </tr>\n    <tr>\n      <th>847</th>\n      <td>https://portal-da.ru/objects/841885-zemlya-pod...</td>\n      <td>841885</td>\n      <td>{\"name\":\"Нуриев Эдуард Рамзилович\",\"email\":\"ln...</td>\n      <td>{\"name\":\"АО \\\"Россельхозбанк\\\"\",\"assets_count\"...</td>\n      <td>[{\"name\":\"Площадь\",\"value\":\"1501 сот.\",\"field\"...</td>\n      <td>\"226 651 ₽\"</td>\n      <td>610 просмотр</td>\n      <td>Российская Федерация, Татарстан, Тукаевский</td>\n      <td>11 мая 2021</td>\n      <td>Нуриев Эдуард Рамзилович</td>\n      <td>lnugaev@kazan.rshb.ru</td>\n      <td>АО \"Россельхозбанк\"</td>\n    </tr>\n    <tr>\n      <th>848</th>\n      <td>https://portal-da.ru/objects/419254-zemelnyy-u...</td>\n      <td>419254</td>\n      <td>{\"name\":\"Самойленко Денис Сергеевич\",\"email\":\"...</td>\n      <td>{\"name\":\"ПАО Сбербанк\",\"assets_count\":3244}</td>\n      <td>[{\"name\":\"Площадь\",\"value\":\"100 сот.\",\"field\":...</td>\n      <td>\"8,27 млн ₽\"</td>\n      <td>461 просмотр</td>\n      <td>Российская Федерация, Тверская область, г Оста...</td>\n      <td>22 апреля 2021</td>\n      <td>Самойленко Денис Сергеевич</td>\n      <td>dssamoylenko@sberbank.ru</td>\n      <td>ПАО Сбербанк</td>\n    </tr>\n  </tbody>\n</table>\n<p>849 rows × 12 columns</p>\n</div>"
     },
     "execution_count": 29,
     "metadata": {},
     "output_type": "execute_result"
    }
   ],
   "source": [
    "links_df"
   ],
   "metadata": {
    "collapsed": false,
    "pycharm": {
     "name": "#%%\n"
    }
   }
  },
  {
   "cell_type": "code",
   "execution_count": 31,
   "outputs": [
    {
     "data": {
      "text/plain": "'[{\"name\":\"Площадь\",\"value\":\"251.11 сот.\",\"field\":\"area\"},{\"name\":\"Кадастровый номер\",\"value\":\"22:64:020203:645\",\"field\":\"cadastral_number\"}]'"
     },
     "execution_count": 31,
     "metadata": {},
     "output_type": "execute_result"
    }
   ],
   "source": [
    "links_df['specific_fields'][2]"
   ],
   "metadata": {
    "collapsed": false,
    "pycharm": {
     "name": "#%%\n"
    }
   }
  },
  {
   "cell_type": "code",
   "execution_count": 33,
   "outputs": [],
   "source": [
    "buf_el = ast.literal_eval(links_df['specific_fields'][2])"
   ],
   "metadata": {
    "collapsed": false,
    "pycharm": {
     "name": "#%%\n"
    }
   }
  },
  {
   "cell_type": "code",
   "execution_count": 38,
   "outputs": [
    {
     "data": {
      "text/plain": "[{'name': 'Площадь', 'value': '251.11 сот.', 'field': 'area'},\n {'name': 'Кадастровый номер',\n  'value': '22:64:020203:645',\n  'field': 'cadastral_number'}]"
     },
     "execution_count": 38,
     "metadata": {},
     "output_type": "execute_result"
    }
   ],
   "source": [
    "buf_el"
   ],
   "metadata": {
    "collapsed": false,
    "pycharm": {
     "name": "#%%\n"
    }
   }
  },
  {
   "cell_type": "code",
   "execution_count": null,
   "outputs": [],
   "source": [],
   "metadata": {
    "collapsed": false,
    "pycharm": {
     "name": "#%%\n",
     "is_executing": true
    }
   }
  },
  {
   "cell_type": "code",
   "execution_count": 107,
   "outputs": [],
   "source": [
    "def handle_specific_fields(x):\n",
    "    \"\"\"\n",
    "    Function to apply to specific_fields section\n",
    "    :param x: row\n",
    "    :return: new dataframe with values from specific fields\n",
    "    \"\"\"\n",
    "    buf_el = ast.literal_eval(x)\n",
    "    return_values = {}\n",
    "\n",
    "    for el in buf_el:\n",
    "        return_values[el['field']] = el['value']\n",
    "    return return_values"
   ],
   "metadata": {
    "collapsed": false,
    "pycharm": {
     "name": "#%%\n"
    }
   }
  },
  {
   "cell_type": "code",
   "execution_count": 109,
   "outputs": [],
   "source": [
    "applied_df = links_df.loc[links_df['specific_fields'].str.len()>3].apply(lambda row: handle_specific_fields(row.specific_fields), axis='columns', result_type='expand')\n",
    "links_df = pd.concat([links_df, applied_df], axis=1)"
   ],
   "metadata": {
    "collapsed": false,
    "pycharm": {
     "name": "#%%\n"
    }
   }
  },
  {
   "cell_type": "code",
   "execution_count": 126,
   "outputs": [
    {
     "data": {
      "text/plain": "                                                 links asset_id  \\\n0    https://portal-da.ru/objects/814114-zemlya-pod...   814114   \n1    https://portal-da.ru/objects/814114-zemlya-pod...   814114   \n2    https://portal-da.ru/objects/641505-zemlya-pod...   641505   \n3    https://portal-da.ru/objects/169347-zemelnyy-u...   169347   \n4    https://portal-da.ru/objects/899895-zemlya-pod...   899895   \n..                                                 ...      ...   \n844  https://portal-da.ru/objects/691104-zemlya-pod...   691104   \n845  https://portal-da.ru/objects/630263-zemlya-pod...   630263   \n846  https://portal-da.ru/objects/177552-zemlya-pod...   177552   \n847  https://portal-da.ru/objects/841885-zemlya-pod...   841885   \n848  https://portal-da.ru/objects/419254-zemelnyy-u...   419254   \n\n                                               contact  \\\n0    {\"name\":\"Контактный Центр Банка\",\"email\":\"zalo...   \n1    {\"name\":\"Контактный Центр Банка\",\"email\":\"zalo...   \n2    {\"name\":\"Гаас Александра Георгиевна\",\"email\":\"...   \n3    {\"name\":\"Брюнель Ева Жисленовна\",\"email\":\"bryu...   \n4    {\"name\":\"Плесняев Александр Александрович\",\"em...   \n..                                                 ...   \n844  {\"name\":\"Коваленко Александр Ан\",\"email\":\"kova...   \n845  {\"name\":\"Коваленко Александр Ан\",\"email\":\"kova...   \n846  {\"name\":\"Коваленко Александр Ан\",\"email\":\"kova...   \n847  {\"name\":\"Нуриев Эдуард Рамзилович\",\"email\":\"ln...   \n848  {\"name\":\"Самойленко Денис Сергеевич\",\"email\":\"...   \n\n                                                seller  \\\n0         {\"name\":\"Банк ВТБ (ПАО)\",\"assets_count\":603}   \n1         {\"name\":\"Банк ВТБ (ПАО)\",\"assets_count\":603}   \n2          {\"name\":\"Физическое лицо\",\"assets_count\":0}   \n3          {\"name\":\"Физическое лицо\",\"assets_count\":0}   \n4    {\"name\":\"Плесняев Александр Александрович\",\"as...   \n..                                                 ...   \n844  {\"name\":\"АО \\\"Россельхозбанк\\\"\",\"assets_count\"...   \n845  {\"name\":\"АО \\\"Россельхозбанк\\\"\",\"assets_count\"...   \n846  {\"name\":\"АО \\\"Россельхозбанк\\\"\",\"assets_count\"...   \n847  {\"name\":\"АО \\\"Россельхозбанк\\\"\",\"assets_count\"...   \n848        {\"name\":\"ПАО Сбербанк\",\"assets_count\":3244}   \n\n                                       specific_fields           price  \\\n0                                                   []    \"48,7 млн ₽\"   \n1                                                   []    \"48,7 млн ₽\"   \n2    [{\"name\":\"Площадь\",\"value\":\"251.11 сот.\",\"fiel...   \"145,5 млн ₽\"   \n3    [{\"name\":\"Площадь\",\"value\":\"505.74 сот.\",\"fiel...     \"4,5 млн ₽\"   \n4    [{\"name\":\"Площадь\",\"value\":\"5045 сот.\",\"field\"...   \"23,45 млн ₽\"   \n..                                                 ...             ...   \n844  [{\"name\":\"Площадь\",\"value\":\"15.27 сот.\",\"field...  \"107 099,63 ₽\"   \n845  [{\"name\":\"Площадь\",\"value\":\"13.21 сот.\",\"field...   \"92 651,36 ₽\"   \n846  [{\"name\":\"Площадь\",\"value\":\"16.76 сот.\",\"field...  \"117 550,32 ₽\"   \n847  [{\"name\":\"Площадь\",\"value\":\"1501 сот.\",\"field\"...     \"226 651 ₽\"   \n848  [{\"name\":\"Площадь\",\"value\":\"100 сот.\",\"field\":...    \"8,27 млн ₽\"   \n\n             views                                         region_str  \\\n0    1535 просмотр  Российская Федерация, Московская область, Один...   \n1    1535 просмотр  Российская Федерация, Московская область, Один...   \n2    2311 просмотр  Российская Федерация, Алтайский край, г Белоку...   \n3     466 просмотр  Российская Федерация, Ярославская область, Пер...   \n4    1286 просмотр  Российская Федерация, Московская область, г Мо...   \n..             ...                                                ...   \n844   269 просмотр  Российская Федерация, Владимирская область, Ки...   \n845   279 просмотр  Российская Федерация, Владимирская область, Ки...   \n846   281 просмотр  Российская Федерация, Владимирская область, Ки...   \n847   610 просмотр        Российская Федерация, Татарстан, Тукаевский   \n848   461 просмотр  Российская Федерация, Тверская область, г Оста...   \n\n    publication_date                      contact_name  \\\n0     15 ноября 2022            Контактный Центр Банка   \n1     15 ноября 2022            Контактный Центр Банка   \n2      31 марта 2022        Гаас Александра Георгиевна   \n3     18 апреля 2022            Брюнель Ева Жисленовна   \n4       25 июня 2022  Плесняев Александр Александрович   \n..               ...                               ...   \n844      20 мая 2021            Коваленко Александр Ан   \n845      20 мая 2021            Коваленко Александр Ан   \n846      20 мая 2021            Коваленко Александр Ан   \n847      11 мая 2021          Нуриев Эдуард Рамзилович   \n848   22 апреля 2021        Самойленко Денис Сергеевич   \n\n                     contact_email                       seller_name  \\\n0                  zalognpa@vtb.ru                    Банк ВТБ (ПАО)   \n1                  zalognpa@vtb.ru                    Банк ВТБ (ПАО)   \n2              gaas-ag@sberbank.ru                   Физическое лицо   \n3          bryunel.e.z@sberbank.ru                   Физическое лицо   \n4             aplesnyaev@gmail.com  Плесняев Александр Александрович   \n..                             ...                               ...   \n844  kovalenkoaan@vladimir.rshb.ru               АО \"Россельхозбанк\"   \n845  kovalenkoaan@vladimir.rshb.ru               АО \"Россельхозбанк\"   \n846  kovalenkoaan@vladimir.rshb.ru               АО \"Россельхозбанк\"   \n847          lnugaev@kazan.rshb.ru               АО \"Россельхозбанк\"   \n848       dssamoylenko@sberbank.ru                      ПАО Сбербанк   \n\n            area   cadastral_number  \n0            NaN                NaN  \n1            NaN                NaN  \n2    251.11 сот.   22:64:020203:645  \n3    505.74 сот.  76:11:000000:1098  \n4      5045 сот.  50:18:0050302:572  \n..           ...                ...  \n844   15.27 сот.   33:02:021015:562  \n845   13.21 сот.   33:02:021015:561  \n846   16.76 сот.   33:02:021015:560  \n847    1501 сот.   16:39:131301:430  \n848     100 сот.    69:45:0080238:9  \n\n[849 rows x 14 columns]",
      "text/html": "<div>\n<style scoped>\n    .dataframe tbody tr th:only-of-type {\n        vertical-align: middle;\n    }\n\n    .dataframe tbody tr th {\n        vertical-align: top;\n    }\n\n    .dataframe thead th {\n        text-align: right;\n    }\n</style>\n<table border=\"1\" class=\"dataframe\">\n  <thead>\n    <tr style=\"text-align: right;\">\n      <th></th>\n      <th>links</th>\n      <th>asset_id</th>\n      <th>contact</th>\n      <th>seller</th>\n      <th>specific_fields</th>\n      <th>price</th>\n      <th>views</th>\n      <th>region_str</th>\n      <th>publication_date</th>\n      <th>contact_name</th>\n      <th>contact_email</th>\n      <th>seller_name</th>\n      <th>area</th>\n      <th>cadastral_number</th>\n    </tr>\n  </thead>\n  <tbody>\n    <tr>\n      <th>0</th>\n      <td>https://portal-da.ru/objects/814114-zemlya-pod...</td>\n      <td>814114</td>\n      <td>{\"name\":\"Контактный Центр Банка\",\"email\":\"zalo...</td>\n      <td>{\"name\":\"Банк ВТБ (ПАО)\",\"assets_count\":603}</td>\n      <td>[]</td>\n      <td>\"48,7 млн ₽\"</td>\n      <td>1535 просмотр</td>\n      <td>Российская Федерация, Московская область, Один...</td>\n      <td>15 ноября 2022</td>\n      <td>Контактный Центр Банка</td>\n      <td>zalognpa@vtb.ru</td>\n      <td>Банк ВТБ (ПАО)</td>\n      <td>NaN</td>\n      <td>NaN</td>\n    </tr>\n    <tr>\n      <th>1</th>\n      <td>https://portal-da.ru/objects/814114-zemlya-pod...</td>\n      <td>814114</td>\n      <td>{\"name\":\"Контактный Центр Банка\",\"email\":\"zalo...</td>\n      <td>{\"name\":\"Банк ВТБ (ПАО)\",\"assets_count\":603}</td>\n      <td>[]</td>\n      <td>\"48,7 млн ₽\"</td>\n      <td>1535 просмотр</td>\n      <td>Российская Федерация, Московская область, Один...</td>\n      <td>15 ноября 2022</td>\n      <td>Контактный Центр Банка</td>\n      <td>zalognpa@vtb.ru</td>\n      <td>Банк ВТБ (ПАО)</td>\n      <td>NaN</td>\n      <td>NaN</td>\n    </tr>\n    <tr>\n      <th>2</th>\n      <td>https://portal-da.ru/objects/641505-zemlya-pod...</td>\n      <td>641505</td>\n      <td>{\"name\":\"Гаас Александра Георгиевна\",\"email\":\"...</td>\n      <td>{\"name\":\"Физическое лицо\",\"assets_count\":0}</td>\n      <td>[{\"name\":\"Площадь\",\"value\":\"251.11 сот.\",\"fiel...</td>\n      <td>\"145,5 млн ₽\"</td>\n      <td>2311 просмотр</td>\n      <td>Российская Федерация, Алтайский край, г Белоку...</td>\n      <td>31 марта 2022</td>\n      <td>Гаас Александра Георгиевна</td>\n      <td>gaas-ag@sberbank.ru</td>\n      <td>Физическое лицо</td>\n      <td>251.11 сот.</td>\n      <td>22:64:020203:645</td>\n    </tr>\n    <tr>\n      <th>3</th>\n      <td>https://portal-da.ru/objects/169347-zemelnyy-u...</td>\n      <td>169347</td>\n      <td>{\"name\":\"Брюнель Ева Жисленовна\",\"email\":\"bryu...</td>\n      <td>{\"name\":\"Физическое лицо\",\"assets_count\":0}</td>\n      <td>[{\"name\":\"Площадь\",\"value\":\"505.74 сот.\",\"fiel...</td>\n      <td>\"4,5 млн ₽\"</td>\n      <td>466 просмотр</td>\n      <td>Российская Федерация, Ярославская область, Пер...</td>\n      <td>18 апреля 2022</td>\n      <td>Брюнель Ева Жисленовна</td>\n      <td>bryunel.e.z@sberbank.ru</td>\n      <td>Физическое лицо</td>\n      <td>505.74 сот.</td>\n      <td>76:11:000000:1098</td>\n    </tr>\n    <tr>\n      <th>4</th>\n      <td>https://portal-da.ru/objects/899895-zemlya-pod...</td>\n      <td>899895</td>\n      <td>{\"name\":\"Плесняев Александр Александрович\",\"em...</td>\n      <td>{\"name\":\"Плесняев Александр Александрович\",\"as...</td>\n      <td>[{\"name\":\"Площадь\",\"value\":\"5045 сот.\",\"field\"...</td>\n      <td>\"23,45 млн ₽\"</td>\n      <td>1286 просмотр</td>\n      <td>Российская Федерация, Московская область, г Мо...</td>\n      <td>25 июня 2022</td>\n      <td>Плесняев Александр Александрович</td>\n      <td>aplesnyaev@gmail.com</td>\n      <td>Плесняев Александр Александрович</td>\n      <td>5045 сот.</td>\n      <td>50:18:0050302:572</td>\n    </tr>\n    <tr>\n      <th>...</th>\n      <td>...</td>\n      <td>...</td>\n      <td>...</td>\n      <td>...</td>\n      <td>...</td>\n      <td>...</td>\n      <td>...</td>\n      <td>...</td>\n      <td>...</td>\n      <td>...</td>\n      <td>...</td>\n      <td>...</td>\n      <td>...</td>\n      <td>...</td>\n    </tr>\n    <tr>\n      <th>844</th>\n      <td>https://portal-da.ru/objects/691104-zemlya-pod...</td>\n      <td>691104</td>\n      <td>{\"name\":\"Коваленко Александр Ан\",\"email\":\"kova...</td>\n      <td>{\"name\":\"АО \\\"Россельхозбанк\\\"\",\"assets_count\"...</td>\n      <td>[{\"name\":\"Площадь\",\"value\":\"15.27 сот.\",\"field...</td>\n      <td>\"107 099,63 ₽\"</td>\n      <td>269 просмотр</td>\n      <td>Российская Федерация, Владимирская область, Ки...</td>\n      <td>20 мая 2021</td>\n      <td>Коваленко Александр Ан</td>\n      <td>kovalenkoaan@vladimir.rshb.ru</td>\n      <td>АО \"Россельхозбанк\"</td>\n      <td>15.27 сот.</td>\n      <td>33:02:021015:562</td>\n    </tr>\n    <tr>\n      <th>845</th>\n      <td>https://portal-da.ru/objects/630263-zemlya-pod...</td>\n      <td>630263</td>\n      <td>{\"name\":\"Коваленко Александр Ан\",\"email\":\"kova...</td>\n      <td>{\"name\":\"АО \\\"Россельхозбанк\\\"\",\"assets_count\"...</td>\n      <td>[{\"name\":\"Площадь\",\"value\":\"13.21 сот.\",\"field...</td>\n      <td>\"92 651,36 ₽\"</td>\n      <td>279 просмотр</td>\n      <td>Российская Федерация, Владимирская область, Ки...</td>\n      <td>20 мая 2021</td>\n      <td>Коваленко Александр Ан</td>\n      <td>kovalenkoaan@vladimir.rshb.ru</td>\n      <td>АО \"Россельхозбанк\"</td>\n      <td>13.21 сот.</td>\n      <td>33:02:021015:561</td>\n    </tr>\n    <tr>\n      <th>846</th>\n      <td>https://portal-da.ru/objects/177552-zemlya-pod...</td>\n      <td>177552</td>\n      <td>{\"name\":\"Коваленко Александр Ан\",\"email\":\"kova...</td>\n      <td>{\"name\":\"АО \\\"Россельхозбанк\\\"\",\"assets_count\"...</td>\n      <td>[{\"name\":\"Площадь\",\"value\":\"16.76 сот.\",\"field...</td>\n      <td>\"117 550,32 ₽\"</td>\n      <td>281 просмотр</td>\n      <td>Российская Федерация, Владимирская область, Ки...</td>\n      <td>20 мая 2021</td>\n      <td>Коваленко Александр Ан</td>\n      <td>kovalenkoaan@vladimir.rshb.ru</td>\n      <td>АО \"Россельхозбанк\"</td>\n      <td>16.76 сот.</td>\n      <td>33:02:021015:560</td>\n    </tr>\n    <tr>\n      <th>847</th>\n      <td>https://portal-da.ru/objects/841885-zemlya-pod...</td>\n      <td>841885</td>\n      <td>{\"name\":\"Нуриев Эдуард Рамзилович\",\"email\":\"ln...</td>\n      <td>{\"name\":\"АО \\\"Россельхозбанк\\\"\",\"assets_count\"...</td>\n      <td>[{\"name\":\"Площадь\",\"value\":\"1501 сот.\",\"field\"...</td>\n      <td>\"226 651 ₽\"</td>\n      <td>610 просмотр</td>\n      <td>Российская Федерация, Татарстан, Тукаевский</td>\n      <td>11 мая 2021</td>\n      <td>Нуриев Эдуард Рамзилович</td>\n      <td>lnugaev@kazan.rshb.ru</td>\n      <td>АО \"Россельхозбанк\"</td>\n      <td>1501 сот.</td>\n      <td>16:39:131301:430</td>\n    </tr>\n    <tr>\n      <th>848</th>\n      <td>https://portal-da.ru/objects/419254-zemelnyy-u...</td>\n      <td>419254</td>\n      <td>{\"name\":\"Самойленко Денис Сергеевич\",\"email\":\"...</td>\n      <td>{\"name\":\"ПАО Сбербанк\",\"assets_count\":3244}</td>\n      <td>[{\"name\":\"Площадь\",\"value\":\"100 сот.\",\"field\":...</td>\n      <td>\"8,27 млн ₽\"</td>\n      <td>461 просмотр</td>\n      <td>Российская Федерация, Тверская область, г Оста...</td>\n      <td>22 апреля 2021</td>\n      <td>Самойленко Денис Сергеевич</td>\n      <td>dssamoylenko@sberbank.ru</td>\n      <td>ПАО Сбербанк</td>\n      <td>100 сот.</td>\n      <td>69:45:0080238:9</td>\n    </tr>\n  </tbody>\n</table>\n<p>849 rows × 14 columns</p>\n</div>"
     },
     "execution_count": 126,
     "metadata": {},
     "output_type": "execute_result"
    }
   ],
   "source": [
    "links_df"
   ],
   "metadata": {
    "collapsed": false,
    "pycharm": {
     "name": "#%%\n"
    }
   }
  },
  {
   "cell_type": "code",
   "execution_count": 111,
   "outputs": [],
   "source": [
    "# преобразование цены к строковому виду"
   ],
   "metadata": {
    "collapsed": false,
    "pycharm": {
     "name": "#%%\n"
    }
   }
  },
  {
   "cell_type": "code",
   "execution_count": 112,
   "outputs": [
    {
     "data": {
      "text/plain": "463"
     },
     "execution_count": 112,
     "metadata": {},
     "output_type": "execute_result"
    }
   ],
   "source": [
    "links_df['price'].nunique()"
   ],
   "metadata": {
    "collapsed": false,
    "pycharm": {
     "name": "#%%\n"
    }
   }
  },
  {
   "cell_type": "code",
   "execution_count": 127,
   "outputs": [],
   "source": [
    "price_str = links_df['price'][9]"
   ],
   "metadata": {
    "collapsed": false,
    "pycharm": {
     "name": "#%%\n"
    }
   }
  },
  {
   "cell_type": "code",
   "execution_count": 128,
   "outputs": [
    {
     "data": {
      "text/plain": "'\"103 200 ₽\"'"
     },
     "execution_count": 128,
     "metadata": {},
     "output_type": "execute_result"
    }
   ],
   "source": [
    "price_str"
   ],
   "metadata": {
    "collapsed": false,
    "pycharm": {
     "name": "#%%\n"
    }
   }
  },
  {
   "cell_type": "code",
   "execution_count": null,
   "outputs": [],
   "source": [
    "# кейс для млн"
   ],
   "metadata": {
    "collapsed": false,
    "pycharm": {
     "name": "#%%\n",
     "is_executing": true
    }
   }
  },
  {
   "cell_type": "code",
   "execution_count": 122,
   "outputs": [
    {
     "data": {
      "text/plain": "23450000.0"
     },
     "execution_count": 122,
     "metadata": {},
     "output_type": "execute_result"
    }
   ],
   "source": [
    "float(price_str.lower().replace('млн', '').replace('₽', '').replace(' ', '').replace('\"', '').replace(',', '.'))*1_000_000"
   ],
   "metadata": {
    "collapsed": false,
    "pycharm": {
     "name": "#%%\n"
    }
   }
  },
  {
   "cell_type": "code",
   "execution_count": null,
   "outputs": [],
   "source": [
    "# кейс для рублей"
   ],
   "metadata": {
    "collapsed": false,
    "pycharm": {
     "name": "#%%\n",
     "is_executing": true
    }
   }
  },
  {
   "cell_type": "code",
   "execution_count": 131,
   "outputs": [
    {
     "data": {
      "text/plain": "103200.0"
     },
     "execution_count": 131,
     "metadata": {},
     "output_type": "execute_result"
    }
   ],
   "source": [
    "float(price_str.replace(' ', '').replace('₽', '').replace('\"', ''))"
   ],
   "metadata": {
    "collapsed": false,
    "pycharm": {
     "name": "#%%\n"
    }
   }
  },
  {
   "cell_type": "code",
   "execution_count": 156,
   "outputs": [],
   "source": [
    "def extract_price(x):\n",
    "    x = str(x).lower()\n",
    "    if 'млн' in x:\n",
    "        return float(x.lower().replace('млн', '').replace('₽', '').replace(' ', '').replace('\"', '').replace(',', '.'))*1_000_000\n",
    "    elif 'млрд' in x:\n",
    "        return float(x.lower().replace('млрд', '').replace('₽', '').replace(' ', '').replace('\"', '').replace(',', '.'))*1_000_000_000\n",
    "    else:\n",
    "        return float(x.replace(' ', '').replace('₽', '').replace('\"', '').replace(',', ''))"
   ],
   "metadata": {
    "collapsed": false,
    "pycharm": {
     "name": "#%%\n"
    }
   }
  },
  {
   "cell_type": "code",
   "execution_count": 224,
   "outputs": [],
   "source": [
    "applied_df = pd.DataFrame()\n",
    "applied_df['price_value'] = links_df.loc[links_df['price'].str.len()>3, 'price'].apply(lambda x: extract_price(x))\n",
    "links_df = pd.concat([links_df, applied_df], axis=1)"
   ],
   "metadata": {
    "collapsed": false,
    "pycharm": {
     "name": "#%%\n"
    }
   }
  },
  {
   "cell_type": "code",
   "execution_count": 225,
   "outputs": [
    {
     "data": {
      "text/plain": "              price  price_value\n0      \"48,7 млн ₽\"  48700000.00\n1      \"48,7 млн ₽\"  48700000.00\n2     \"145,5 млн ₽\" 145500000.00\n3       \"4,5 млн ₽\"   4500000.00\n4     \"23,45 млн ₽\"  23450000.00\n..              ...          ...\n844  \"107 099,63 ₽\"  10709963.00\n845   \"92 651,36 ₽\"   9265136.00\n846  \"117 550,32 ₽\"  11755032.00\n847     \"226 651 ₽\"    226651.00\n848    \"8,27 млн ₽\"   8270000.00\n\n[849 rows x 2 columns]",
      "text/html": "<div>\n<style scoped>\n    .dataframe tbody tr th:only-of-type {\n        vertical-align: middle;\n    }\n\n    .dataframe tbody tr th {\n        vertical-align: top;\n    }\n\n    .dataframe thead th {\n        text-align: right;\n    }\n</style>\n<table border=\"1\" class=\"dataframe\">\n  <thead>\n    <tr style=\"text-align: right;\">\n      <th></th>\n      <th>price</th>\n      <th>price_value</th>\n    </tr>\n  </thead>\n  <tbody>\n    <tr>\n      <th>0</th>\n      <td>\"48,7 млн ₽\"</td>\n      <td>48700000.00</td>\n    </tr>\n    <tr>\n      <th>1</th>\n      <td>\"48,7 млн ₽\"</td>\n      <td>48700000.00</td>\n    </tr>\n    <tr>\n      <th>2</th>\n      <td>\"145,5 млн ₽\"</td>\n      <td>145500000.00</td>\n    </tr>\n    <tr>\n      <th>3</th>\n      <td>\"4,5 млн ₽\"</td>\n      <td>4500000.00</td>\n    </tr>\n    <tr>\n      <th>4</th>\n      <td>\"23,45 млн ₽\"</td>\n      <td>23450000.00</td>\n    </tr>\n    <tr>\n      <th>...</th>\n      <td>...</td>\n      <td>...</td>\n    </tr>\n    <tr>\n      <th>844</th>\n      <td>\"107 099,63 ₽\"</td>\n      <td>10709963.00</td>\n    </tr>\n    <tr>\n      <th>845</th>\n      <td>\"92 651,36 ₽\"</td>\n      <td>9265136.00</td>\n    </tr>\n    <tr>\n      <th>846</th>\n      <td>\"117 550,32 ₽\"</td>\n      <td>11755032.00</td>\n    </tr>\n    <tr>\n      <th>847</th>\n      <td>\"226 651 ₽\"</td>\n      <td>226651.00</td>\n    </tr>\n    <tr>\n      <th>848</th>\n      <td>\"8,27 млн ₽\"</td>\n      <td>8270000.00</td>\n    </tr>\n  </tbody>\n</table>\n<p>849 rows × 2 columns</p>\n</div>"
     },
     "execution_count": 225,
     "metadata": {},
     "output_type": "execute_result"
    }
   ],
   "source": [
    "links_df[['price', 'price_value']]"
   ],
   "metadata": {
    "collapsed": false,
    "pycharm": {
     "name": "#%%\n"
    }
   }
  },
  {
   "cell_type": "code",
   "execution_count": 161,
   "outputs": [
    {
     "data": {
      "text/plain": "Index(['links', 'asset_id', 'contact', 'seller', 'specific_fields', 'price',\n       'views', 'region_str', 'publication_date', 'contact_name',\n       'contact_email', 'seller_name', 'area', 'cadastral_number',\n       'price_value'],\n      dtype='object')"
     },
     "execution_count": 161,
     "metadata": {},
     "output_type": "execute_result"
    }
   ],
   "source": [
    "links_df.columns"
   ],
   "metadata": {
    "collapsed": false,
    "pycharm": {
     "name": "#%%\n"
    }
   }
  },
  {
   "cell_type": "code",
   "execution_count": 162,
   "outputs": [
    {
     "data": {
      "text/plain": "0                    NaN\n1                    NaN\n2       22:64:020203:645\n3      76:11:000000:1098\n4      50:18:0050302:572\n             ...        \n844     33:02:021015:562\n845     33:02:021015:561\n846     33:02:021015:560\n847     16:39:131301:430\n848      69:45:0080238:9\nName: cadastral_number, Length: 849, dtype: object"
     },
     "execution_count": 162,
     "metadata": {},
     "output_type": "execute_result"
    }
   ],
   "source": [
    "links_df['cadastral_number']"
   ],
   "metadata": {
    "collapsed": false,
    "pycharm": {
     "name": "#%%\n"
    }
   }
  },
  {
   "cell_type": "code",
   "execution_count": null,
   "outputs": [],
   "source": [],
   "metadata": {
    "collapsed": false,
    "pycharm": {
     "name": "#%%\n",
     "is_executing": true
    }
   }
  },
  {
   "cell_type": "markdown",
   "source": [
    "### попробуем извлечь инфу из кадастра"
   ],
   "metadata": {
    "collapsed": false,
    "pycharm": {
     "name": "#%% md\n"
    }
   }
  },
  {
   "cell_type": "code",
   "execution_count": 164,
   "outputs": [],
   "source": [
    "from rosreestr2coord import Area"
   ],
   "metadata": {
    "collapsed": false,
    "pycharm": {
     "name": "#%%\n"
    }
   }
  },
  {
   "cell_type": "code",
   "execution_count": 216,
   "outputs": [],
   "source": [
    "def get_kadastr_data(kadastr_str):\n",
    "    \"\"\"\n",
    "    Function to load kadastr info\n",
    "    :param kadastr_str: string with kadastr code\n",
    "    :return:\n",
    "    \"\"\"\n",
    "    try:\n",
    "        area = Area(kadastr_str, with_log=False)\n",
    "        area_json = area.get_center_xy()[0][0][0]\n",
    "    except Exception as e:\n",
    "        area_json = str(e)\n",
    "    return area_json"
   ],
   "metadata": {
    "collapsed": false,
    "pycharm": {
     "name": "#%%\n"
    }
   }
  },
  {
   "cell_type": "code",
   "execution_count": 212,
   "outputs": [],
   "source": [
    "from tqdm.auto import tqdm\n",
    "tqdm.pandas()"
   ],
   "metadata": {
    "collapsed": false,
    "pycharm": {
     "name": "#%%\n"
    }
   }
  },
  {
   "cell_type": "code",
   "execution_count": 219,
   "outputs": [],
   "source": [
    "# cadastral_buf = links_df.loc[links_df['cadastral_number'].str.len()>3, 'cadastral_number'].to_frame().copy()\n",
    "# cadastral_buf['kadastral_info'] = cadastral_buf['cadastral_number'].progress_apply(lambda x: get_kadastr_data(x))"
   ],
   "metadata": {
    "collapsed": false,
    "pycharm": {
     "name": "#%%\n"
    }
   }
  },
  {
   "cell_type": "code",
   "execution_count": 226,
   "outputs": [
    {
     "data": {
      "text/plain": "  0%|          | 0/379 [00:00<?, ?it/s]",
      "application/vnd.jupyter.widget-view+json": {
       "version_major": 2,
       "version_minor": 0,
       "model_id": "8cdb1b66c31d48d0b053d3a0a24888e1"
      }
     },
     "metadata": {},
     "output_type": "display_data"
    },
    {
     "name": "stderr",
     "output_type": "stream",
     "text": [
      "Exception in thread Thread-311:\n",
      "Traceback (most recent call last):\n",
      "  File \"/Library/Developer/CommandLineTools/Library/Frameworks/Python3.framework/Versions/3.8/lib/python3.8/threading.py\", line 932, in _bootstrap_inner\n",
      "    self.run()\n",
      "  File \"/Library/Developer/CommandLineTools/Library/Frameworks/Python3.framework/Versions/3.8/lib/python3.8/threading.py\", line 870, in run\n",
      "    self._target(*self._args, **self._kwargs)\n",
      "  File \"/Users/dp_user/PycharmProjects/portal_da/venv/lib/python3.8/site-packages/rosreestr2coord/merge_tiles.py\", line 37, in task_wrapper\n",
      "    result.put(target(*args))\n",
      "  File \"/Users/dp_user/PycharmProjects/portal_da/venv/lib/python3.8/site-packages/rosreestr2coord/merge_tiles.py\", line 331, in fetch_tile\n",
      "    img = self.get_image(x, y)\n",
      "  File \"/Users/dp_user/PycharmProjects/portal_da/venv/lib/python3.8/site-packages/rosreestr2coord/merge_tiles.py\", line 469, in get_image\n",
      "    data = self._load_image_data(meta_url, cache_path)\n",
      "  File \"/Users/dp_user/PycharmProjects/portal_da/venv/lib/python3.8/site-packages/rosreestr2coord/merge_tiles.py\", line 483, in _load_image_data\n",
      "    data = json.loads(response.decode(\"utf-8\"))\n",
      "AttributeError: 'bool' object has no attribute 'decode'\n",
      "Exception in thread Thread-315:\n",
      "Traceback (most recent call last):\n",
      "  File \"/Library/Developer/CommandLineTools/Library/Frameworks/Python3.framework/Versions/3.8/lib/python3.8/threading.py\", line 932, in _bootstrap_inner\n",
      "    self.run()\n",
      "  File \"/Library/Developer/CommandLineTools/Library/Frameworks/Python3.framework/Versions/3.8/lib/python3.8/threading.py\", line 870, in run\n",
      "    self._target(*self._args, **self._kwargs)\n",
      "  File \"/Users/dp_user/PycharmProjects/portal_da/venv/lib/python3.8/site-packages/rosreestr2coord/merge_tiles.py\", line 37, in task_wrapper\n",
      "    result.put(target(*args))\n",
      "  File \"/Users/dp_user/PycharmProjects/portal_da/venv/lib/python3.8/site-packages/rosreestr2coord/merge_tiles.py\", line 331, in fetch_tile\n",
      "    img = self.get_image(x, y)\n",
      "  File \"/Users/dp_user/PycharmProjects/portal_da/venv/lib/python3.8/site-packages/rosreestr2coord/merge_tiles.py\", line 469, in get_image\n",
      "    data = self._load_image_data(meta_url, cache_path)\n",
      "  File \"/Users/dp_user/PycharmProjects/portal_da/venv/lib/python3.8/site-packages/rosreestr2coord/merge_tiles.py\", line 483, in _load_image_data\n",
      "    data = json.loads(response.decode(\"utf-8\"))\n",
      "AttributeError: 'bool' object has no attribute 'decode'\n",
      "Exception in thread Thread-316:\n",
      "Traceback (most recent call last):\n",
      "  File \"/Library/Developer/CommandLineTools/Library/Frameworks/Python3.framework/Versions/3.8/lib/python3.8/threading.py\", line 932, in _bootstrap_inner\n",
      "    self.run()\n",
      "  File \"/Library/Developer/CommandLineTools/Library/Frameworks/Python3.framework/Versions/3.8/lib/python3.8/threading.py\", line 870, in run\n",
      "    self._target(*self._args, **self._kwargs)\n",
      "  File \"/Users/dp_user/PycharmProjects/portal_da/venv/lib/python3.8/site-packages/rosreestr2coord/merge_tiles.py\", line 37, in task_wrapper\n",
      "    result.put(target(*args))\n",
      "  File \"/Users/dp_user/PycharmProjects/portal_da/venv/lib/python3.8/site-packages/rosreestr2coord/merge_tiles.py\", line 331, in fetch_tile\n",
      "    img = self.get_image(x, y)\n",
      "  File \"/Users/dp_user/PycharmProjects/portal_da/venv/lib/python3.8/site-packages/rosreestr2coord/merge_tiles.py\", line 469, in get_image\n",
      "    data = self._load_image_data(meta_url, cache_path)\n",
      "  File \"/Users/dp_user/PycharmProjects/portal_da/venv/lib/python3.8/site-packages/rosreestr2coord/merge_tiles.py\", line 483, in _load_image_data\n",
      "    data = json.loads(response.decode(\"utf-8\"))\n",
      "AttributeError: 'bool' object has no attribute 'decode'\n",
      "Exception in thread Thread-320:\n",
      "Traceback (most recent call last):\n",
      "  File \"/Library/Developer/CommandLineTools/Library/Frameworks/Python3.framework/Versions/3.8/lib/python3.8/threading.py\", line 932, in _bootstrap_inner\n",
      "    self.run()\n",
      "  File \"/Library/Developer/CommandLineTools/Library/Frameworks/Python3.framework/Versions/3.8/lib/python3.8/threading.py\", line 870, in run\n",
      "    self._target(*self._args, **self._kwargs)\n",
      "  File \"/Users/dp_user/PycharmProjects/portal_da/venv/lib/python3.8/site-packages/rosreestr2coord/merge_tiles.py\", line 37, in task_wrapper\n",
      "    result.put(target(*args))\n",
      "  File \"/Users/dp_user/PycharmProjects/portal_da/venv/lib/python3.8/site-packages/rosreestr2coord/merge_tiles.py\", line 331, in fetch_tile\n",
      "    img = self.get_image(x, y)\n",
      "  File \"/Users/dp_user/PycharmProjects/portal_da/venv/lib/python3.8/site-packages/rosreestr2coord/merge_tiles.py\", line 469, in get_image\n",
      "    data = self._load_image_data(meta_url, cache_path)\n",
      "  File \"/Users/dp_user/PycharmProjects/portal_da/venv/lib/python3.8/site-packages/rosreestr2coord/merge_tiles.py\", line 483, in _load_image_data\n",
      "    data = json.loads(response.decode(\"utf-8\"))\n",
      "AttributeError: 'bool' object has no attribute 'decode'\n",
      "Exception in thread Thread-321:\n",
      "Traceback (most recent call last):\n",
      "  File \"/Library/Developer/CommandLineTools/Library/Frameworks/Python3.framework/Versions/3.8/lib/python3.8/threading.py\", line 932, in _bootstrap_inner\n",
      "    self.run()\n",
      "  File \"/Library/Developer/CommandLineTools/Library/Frameworks/Python3.framework/Versions/3.8/lib/python3.8/threading.py\", line 870, in run\n",
      "    self._target(*self._args, **self._kwargs)\n",
      "  File \"/Users/dp_user/PycharmProjects/portal_da/venv/lib/python3.8/site-packages/rosreestr2coord/merge_tiles.py\", line 37, in task_wrapper\n",
      "    result.put(target(*args))\n",
      "  File \"/Users/dp_user/PycharmProjects/portal_da/venv/lib/python3.8/site-packages/rosreestr2coord/merge_tiles.py\", line 331, in fetch_tile\n",
      "    img = self.get_image(x, y)\n",
      "  File \"/Users/dp_user/PycharmProjects/portal_da/venv/lib/python3.8/site-packages/rosreestr2coord/merge_tiles.py\", line 469, in get_image\n",
      "    data = self._load_image_data(meta_url, cache_path)\n",
      "  File \"/Users/dp_user/PycharmProjects/portal_da/venv/lib/python3.8/site-packages/rosreestr2coord/merge_tiles.py\", line 483, in _load_image_data\n",
      "    data = json.loads(response.decode(\"utf-8\"))\n",
      "AttributeError: 'bool' object has no attribute 'decode'\n",
      "Exception in thread Thread-322:\n",
      "Traceback (most recent call last):\n",
      "  File \"/Library/Developer/CommandLineTools/Library/Frameworks/Python3.framework/Versions/3.8/lib/python3.8/threading.py\", line 932, in _bootstrap_inner\n",
      "    self.run()\n",
      "  File \"/Library/Developer/CommandLineTools/Library/Frameworks/Python3.framework/Versions/3.8/lib/python3.8/threading.py\", line 870, in run\n",
      "    self._target(*self._args, **self._kwargs)\n",
      "  File \"/Users/dp_user/PycharmProjects/portal_da/venv/lib/python3.8/site-packages/rosreestr2coord/merge_tiles.py\", line 37, in task_wrapper\n",
      "    result.put(target(*args))\n",
      "  File \"/Users/dp_user/PycharmProjects/portal_da/venv/lib/python3.8/site-packages/rosreestr2coord/merge_tiles.py\", line 331, in fetch_tile\n",
      "    img = self.get_image(x, y)\n",
      "  File \"/Users/dp_user/PycharmProjects/portal_da/venv/lib/python3.8/site-packages/rosreestr2coord/merge_tiles.py\", line 469, in get_image\n",
      "    data = self._load_image_data(meta_url, cache_path)\n",
      "  File \"/Users/dp_user/PycharmProjects/portal_da/venv/lib/python3.8/site-packages/rosreestr2coord/merge_tiles.py\", line 483, in _load_image_data\n",
      "    data = json.loads(response.decode(\"utf-8\"))\n",
      "AttributeError: 'bool' object has no attribute 'decode'\n",
      "Exception in thread Thread-323:\n",
      "Traceback (most recent call last):\n",
      "  File \"/Library/Developer/CommandLineTools/Library/Frameworks/Python3.framework/Versions/3.8/lib/python3.8/threading.py\", line 932, in _bootstrap_inner\n",
      "    self.run()\n",
      "  File \"/Library/Developer/CommandLineTools/Library/Frameworks/Python3.framework/Versions/3.8/lib/python3.8/threading.py\", line 870, in run\n",
      "    self._target(*self._args, **self._kwargs)\n",
      "  File \"/Users/dp_user/PycharmProjects/portal_da/venv/lib/python3.8/site-packages/rosreestr2coord/merge_tiles.py\", line 37, in task_wrapper\n",
      "    result.put(target(*args))\n",
      "  File \"/Users/dp_user/PycharmProjects/portal_da/venv/lib/python3.8/site-packages/rosreestr2coord/merge_tiles.py\", line 331, in fetch_tile\n",
      "    img = self.get_image(x, y)\n",
      "  File \"/Users/dp_user/PycharmProjects/portal_da/venv/lib/python3.8/site-packages/rosreestr2coord/merge_tiles.py\", line 469, in get_image\n",
      "    data = self._load_image_data(meta_url, cache_path)\n",
      "  File \"/Users/dp_user/PycharmProjects/portal_da/venv/lib/python3.8/site-packages/rosreestr2coord/merge_tiles.py\", line 483, in _load_image_data\n",
      "    data = json.loads(response.decode(\"utf-8\"))\n",
      "AttributeError: 'bool' object has no attribute 'decode'\n",
      "Exception in thread Thread-324:\n",
      "Traceback (most recent call last):\n",
      "  File \"/Library/Developer/CommandLineTools/Library/Frameworks/Python3.framework/Versions/3.8/lib/python3.8/threading.py\", line 932, in _bootstrap_inner\n",
      "    self.run()\n",
      "  File \"/Library/Developer/CommandLineTools/Library/Frameworks/Python3.framework/Versions/3.8/lib/python3.8/threading.py\", line 870, in run\n",
      "    self._target(*self._args, **self._kwargs)\n",
      "  File \"/Users/dp_user/PycharmProjects/portal_da/venv/lib/python3.8/site-packages/rosreestr2coord/merge_tiles.py\", line 37, in task_wrapper\n",
      "    result.put(target(*args))\n",
      "  File \"/Users/dp_user/PycharmProjects/portal_da/venv/lib/python3.8/site-packages/rosreestr2coord/merge_tiles.py\", line 331, in fetch_tile\n",
      "    img = self.get_image(x, y)\n",
      "  File \"/Users/dp_user/PycharmProjects/portal_da/venv/lib/python3.8/site-packages/rosreestr2coord/merge_tiles.py\", line 469, in get_image\n",
      "    data = self._load_image_data(meta_url, cache_path)\n",
      "  File \"/Users/dp_user/PycharmProjects/portal_da/venv/lib/python3.8/site-packages/rosreestr2coord/merge_tiles.py\", line 483, in _load_image_data\n",
      "    data = json.loads(response.decode(\"utf-8\"))\n",
      "AttributeError: 'bool' object has no attribute 'decode'\n",
      "Exception in thread Thread-326:\n",
      "Traceback (most recent call last):\n",
      "  File \"/Library/Developer/CommandLineTools/Library/Frameworks/Python3.framework/Versions/3.8/lib/python3.8/threading.py\", line 932, in _bootstrap_inner\n",
      "    self.run()\n",
      "  File \"/Library/Developer/CommandLineTools/Library/Frameworks/Python3.framework/Versions/3.8/lib/python3.8/threading.py\", line 870, in run\n",
      "    self._target(*self._args, **self._kwargs)\n",
      "  File \"/Users/dp_user/PycharmProjects/portal_da/venv/lib/python3.8/site-packages/rosreestr2coord/merge_tiles.py\", line 37, in task_wrapper\n",
      "    result.put(target(*args))\n",
      "  File \"/Users/dp_user/PycharmProjects/portal_da/venv/lib/python3.8/site-packages/rosreestr2coord/merge_tiles.py\", line 331, in fetch_tile\n",
      "    img = self.get_image(x, y)\n",
      "  File \"/Users/dp_user/PycharmProjects/portal_da/venv/lib/python3.8/site-packages/rosreestr2coord/merge_tiles.py\", line 469, in get_image\n",
      "    data = self._load_image_data(meta_url, cache_path)\n",
      "  File \"/Users/dp_user/PycharmProjects/portal_da/venv/lib/python3.8/site-packages/rosreestr2coord/merge_tiles.py\", line 483, in _load_image_data\n",
      "    data = json.loads(response.decode(\"utf-8\"))\n",
      "AttributeError: 'bool' object has no attribute 'decode'\n",
      "Exception in thread Thread-329:\n",
      "Traceback (most recent call last):\n",
      "  File \"/Library/Developer/CommandLineTools/Library/Frameworks/Python3.framework/Versions/3.8/lib/python3.8/threading.py\", line 932, in _bootstrap_inner\n",
      "    self.run()\n",
      "  File \"/Library/Developer/CommandLineTools/Library/Frameworks/Python3.framework/Versions/3.8/lib/python3.8/threading.py\", line 870, in run\n",
      "    self._target(*self._args, **self._kwargs)\n",
      "  File \"/Users/dp_user/PycharmProjects/portal_da/venv/lib/python3.8/site-packages/rosreestr2coord/merge_tiles.py\", line 37, in task_wrapper\n",
      "    result.put(target(*args))\n",
      "  File \"/Users/dp_user/PycharmProjects/portal_da/venv/lib/python3.8/site-packages/rosreestr2coord/merge_tiles.py\", line 331, in fetch_tile\n",
      "    img = self.get_image(x, y)\n",
      "  File \"/Users/dp_user/PycharmProjects/portal_da/venv/lib/python3.8/site-packages/rosreestr2coord/merge_tiles.py\", line 469, in get_image\n",
      "    data = self._load_image_data(meta_url, cache_path)\n",
      "  File \"/Users/dp_user/PycharmProjects/portal_da/venv/lib/python3.8/site-packages/rosreestr2coord/merge_tiles.py\", line 483, in _load_image_data\n",
      "    data = json.loads(response.decode(\"utf-8\"))\n",
      "AttributeError: 'bool' object has no attribute 'decode'\n",
      "Exception in thread Thread-330:\n",
      "Traceback (most recent call last):\n",
      "  File \"/Library/Developer/CommandLineTools/Library/Frameworks/Python3.framework/Versions/3.8/lib/python3.8/threading.py\", line 932, in _bootstrap_inner\n",
      "    self.run()\n",
      "  File \"/Library/Developer/CommandLineTools/Library/Frameworks/Python3.framework/Versions/3.8/lib/python3.8/threading.py\", line 870, in run\n",
      "    self._target(*self._args, **self._kwargs)\n",
      "  File \"/Users/dp_user/PycharmProjects/portal_da/venv/lib/python3.8/site-packages/rosreestr2coord/merge_tiles.py\", line 37, in task_wrapper\n",
      "    result.put(target(*args))\n",
      "  File \"/Users/dp_user/PycharmProjects/portal_da/venv/lib/python3.8/site-packages/rosreestr2coord/merge_tiles.py\", line 331, in fetch_tile\n",
      "    img = self.get_image(x, y)\n",
      "  File \"/Users/dp_user/PycharmProjects/portal_da/venv/lib/python3.8/site-packages/rosreestr2coord/merge_tiles.py\", line 469, in get_image\n",
      "    data = self._load_image_data(meta_url, cache_path)\n",
      "  File \"/Users/dp_user/PycharmProjects/portal_da/venv/lib/python3.8/site-packages/rosreestr2coord/merge_tiles.py\", line 483, in _load_image_data\n",
      "    data = json.loads(response.decode(\"utf-8\"))\n",
      "AttributeError: 'bool' object has no attribute 'decode'\n",
      "Exception in thread Thread-338:\n",
      "Traceback (most recent call last):\n",
      "  File \"/Library/Developer/CommandLineTools/Library/Frameworks/Python3.framework/Versions/3.8/lib/python3.8/threading.py\", line 932, in _bootstrap_inner\n",
      "    self.run()\n",
      "  File \"/Library/Developer/CommandLineTools/Library/Frameworks/Python3.framework/Versions/3.8/lib/python3.8/threading.py\", line 870, in run\n",
      "    self._target(*self._args, **self._kwargs)\n",
      "  File \"/Users/dp_user/PycharmProjects/portal_da/venv/lib/python3.8/site-packages/rosreestr2coord/merge_tiles.py\", line 37, in task_wrapper\n",
      "    result.put(target(*args))\n",
      "  File \"/Users/dp_user/PycharmProjects/portal_da/venv/lib/python3.8/site-packages/rosreestr2coord/merge_tiles.py\", line 331, in fetch_tile\n",
      "    img = self.get_image(x, y)\n",
      "  File \"/Users/dp_user/PycharmProjects/portal_da/venv/lib/python3.8/site-packages/rosreestr2coord/merge_tiles.py\", line 469, in get_image\n",
      "    data = self._load_image_data(meta_url, cache_path)\n",
      "  File \"/Users/dp_user/PycharmProjects/portal_da/venv/lib/python3.8/site-packages/rosreestr2coord/merge_tiles.py\", line 483, in _load_image_data\n",
      "    data = json.loads(response.decode(\"utf-8\"))\n",
      "AttributeError: 'bool' object has no attribute 'decode'\n",
      "Exception in thread Thread-339:\n",
      "Traceback (most recent call last):\n",
      "  File \"/Library/Developer/CommandLineTools/Library/Frameworks/Python3.framework/Versions/3.8/lib/python3.8/threading.py\", line 932, in _bootstrap_inner\n",
      "    self.run()\n",
      "  File \"/Library/Developer/CommandLineTools/Library/Frameworks/Python3.framework/Versions/3.8/lib/python3.8/threading.py\", line 870, in run\n",
      "    self._target(*self._args, **self._kwargs)\n",
      "  File \"/Users/dp_user/PycharmProjects/portal_da/venv/lib/python3.8/site-packages/rosreestr2coord/merge_tiles.py\", line 37, in task_wrapper\n",
      "    result.put(target(*args))\n",
      "  File \"/Users/dp_user/PycharmProjects/portal_da/venv/lib/python3.8/site-packages/rosreestr2coord/merge_tiles.py\", line 331, in fetch_tile\n",
      "    img = self.get_image(x, y)\n",
      "  File \"/Users/dp_user/PycharmProjects/portal_da/venv/lib/python3.8/site-packages/rosreestr2coord/merge_tiles.py\", line 469, in get_image\n",
      "    data = self._load_image_data(meta_url, cache_path)\n",
      "  File \"/Users/dp_user/PycharmProjects/portal_da/venv/lib/python3.8/site-packages/rosreestr2coord/merge_tiles.py\", line 483, in _load_image_data\n",
      "    data = json.loads(response.decode(\"utf-8\"))\n",
      "AttributeError: 'bool' object has no attribute 'decode'\n",
      "Exception in thread Thread-341:\n",
      "Traceback (most recent call last):\n",
      "  File \"/Library/Developer/CommandLineTools/Library/Frameworks/Python3.framework/Versions/3.8/lib/python3.8/threading.py\", line 932, in _bootstrap_inner\n",
      "    self.run()\n",
      "  File \"/Library/Developer/CommandLineTools/Library/Frameworks/Python3.framework/Versions/3.8/lib/python3.8/threading.py\", line 870, in run\n",
      "    self._target(*self._args, **self._kwargs)\n",
      "  File \"/Users/dp_user/PycharmProjects/portal_da/venv/lib/python3.8/site-packages/rosreestr2coord/merge_tiles.py\", line 37, in task_wrapper\n",
      "    result.put(target(*args))\n",
      "  File \"/Users/dp_user/PycharmProjects/portal_da/venv/lib/python3.8/site-packages/rosreestr2coord/merge_tiles.py\", line 331, in fetch_tile\n",
      "    img = self.get_image(x, y)\n",
      "  File \"/Users/dp_user/PycharmProjects/portal_da/venv/lib/python3.8/site-packages/rosreestr2coord/merge_tiles.py\", line 469, in get_image\n",
      "    data = self._load_image_data(meta_url, cache_path)\n",
      "  File \"/Users/dp_user/PycharmProjects/portal_da/venv/lib/python3.8/site-packages/rosreestr2coord/merge_tiles.py\", line 483, in _load_image_data\n",
      "    data = json.loads(response.decode(\"utf-8\"))\n",
      "AttributeError: 'bool' object has no attribute 'decode'\n",
      "Exception in thread Thread-342:\n",
      "Traceback (most recent call last):\n",
      "  File \"/Library/Developer/CommandLineTools/Library/Frameworks/Python3.framework/Versions/3.8/lib/python3.8/threading.py\", line 932, in _bootstrap_inner\n",
      "    self.run()\n",
      "  File \"/Library/Developer/CommandLineTools/Library/Frameworks/Python3.framework/Versions/3.8/lib/python3.8/threading.py\", line 870, in run\n",
      "    self._target(*self._args, **self._kwargs)\n",
      "  File \"/Users/dp_user/PycharmProjects/portal_da/venv/lib/python3.8/site-packages/rosreestr2coord/merge_tiles.py\", line 37, in task_wrapper\n",
      "    result.put(target(*args))\n",
      "  File \"/Users/dp_user/PycharmProjects/portal_da/venv/lib/python3.8/site-packages/rosreestr2coord/merge_tiles.py\", line 331, in fetch_tile\n",
      "    img = self.get_image(x, y)\n",
      "  File \"/Users/dp_user/PycharmProjects/portal_da/venv/lib/python3.8/site-packages/rosreestr2coord/merge_tiles.py\", line 469, in get_image\n",
      "    data = self._load_image_data(meta_url, cache_path)\n",
      "  File \"/Users/dp_user/PycharmProjects/portal_da/venv/lib/python3.8/site-packages/rosreestr2coord/merge_tiles.py\", line 483, in _load_image_data\n",
      "    data = json.loads(response.decode(\"utf-8\"))\n",
      "AttributeError: 'bool' object has no attribute 'decode'\n",
      "Exception in thread Thread-344:\n",
      "Traceback (most recent call last):\n",
      "  File \"/Library/Developer/CommandLineTools/Library/Frameworks/Python3.framework/Versions/3.8/lib/python3.8/threading.py\", line 932, in _bootstrap_inner\n",
      "    self.run()\n",
      "  File \"/Library/Developer/CommandLineTools/Library/Frameworks/Python3.framework/Versions/3.8/lib/python3.8/threading.py\", line 870, in run\n",
      "    self._target(*self._args, **self._kwargs)\n",
      "  File \"/Users/dp_user/PycharmProjects/portal_da/venv/lib/python3.8/site-packages/rosreestr2coord/merge_tiles.py\", line 37, in task_wrapper\n",
      "    result.put(target(*args))\n",
      "  File \"/Users/dp_user/PycharmProjects/portal_da/venv/lib/python3.8/site-packages/rosreestr2coord/merge_tiles.py\", line 331, in fetch_tile\n",
      "    img = self.get_image(x, y)\n",
      "  File \"/Users/dp_user/PycharmProjects/portal_da/venv/lib/python3.8/site-packages/rosreestr2coord/merge_tiles.py\", line 469, in get_image\n",
      "    data = self._load_image_data(meta_url, cache_path)\n",
      "  File \"/Users/dp_user/PycharmProjects/portal_da/venv/lib/python3.8/site-packages/rosreestr2coord/merge_tiles.py\", line 483, in _load_image_data\n",
      "    data = json.loads(response.decode(\"utf-8\"))\n",
      "AttributeError: 'bool' object has no attribute 'decode'\n",
      "Exception in thread Thread-346:\n",
      "Traceback (most recent call last):\n",
      "  File \"/Library/Developer/CommandLineTools/Library/Frameworks/Python3.framework/Versions/3.8/lib/python3.8/threading.py\", line 932, in _bootstrap_inner\n",
      "    self.run()\n",
      "  File \"/Library/Developer/CommandLineTools/Library/Frameworks/Python3.framework/Versions/3.8/lib/python3.8/threading.py\", line 870, in run\n",
      "    self._target(*self._args, **self._kwargs)\n",
      "  File \"/Users/dp_user/PycharmProjects/portal_da/venv/lib/python3.8/site-packages/rosreestr2coord/merge_tiles.py\", line 37, in task_wrapper\n",
      "    result.put(target(*args))\n",
      "  File \"/Users/dp_user/PycharmProjects/portal_da/venv/lib/python3.8/site-packages/rosreestr2coord/merge_tiles.py\", line 331, in fetch_tile\n",
      "    img = self.get_image(x, y)\n",
      "  File \"/Users/dp_user/PycharmProjects/portal_da/venv/lib/python3.8/site-packages/rosreestr2coord/merge_tiles.py\", line 469, in get_image\n",
      "    data = self._load_image_data(meta_url, cache_path)\n",
      "  File \"/Users/dp_user/PycharmProjects/portal_da/venv/lib/python3.8/site-packages/rosreestr2coord/merge_tiles.py\", line 483, in _load_image_data\n",
      "    data = json.loads(response.decode(\"utf-8\"))\n",
      "AttributeError: 'bool' object has no attribute 'decode'\n",
      "Exception in thread Thread-348:\n",
      "Traceback (most recent call last):\n",
      "  File \"/Library/Developer/CommandLineTools/Library/Frameworks/Python3.framework/Versions/3.8/lib/python3.8/threading.py\", line 932, in _bootstrap_inner\n",
      "    self.run()\n",
      "  File \"/Library/Developer/CommandLineTools/Library/Frameworks/Python3.framework/Versions/3.8/lib/python3.8/threading.py\", line 870, in run\n",
      "    self._target(*self._args, **self._kwargs)\n",
      "  File \"/Users/dp_user/PycharmProjects/portal_da/venv/lib/python3.8/site-packages/rosreestr2coord/merge_tiles.py\", line 37, in task_wrapper\n",
      "    result.put(target(*args))\n",
      "  File \"/Users/dp_user/PycharmProjects/portal_da/venv/lib/python3.8/site-packages/rosreestr2coord/merge_tiles.py\", line 331, in fetch_tile\n",
      "    img = self.get_image(x, y)\n",
      "  File \"/Users/dp_user/PycharmProjects/portal_da/venv/lib/python3.8/site-packages/rosreestr2coord/merge_tiles.py\", line 469, in get_image\n",
      "    data = self._load_image_data(meta_url, cache_path)\n",
      "  File \"/Users/dp_user/PycharmProjects/portal_da/venv/lib/python3.8/site-packages/rosreestr2coord/merge_tiles.py\", line 483, in _load_image_data\n",
      "    data = json.loads(response.decode(\"utf-8\"))\n",
      "AttributeError: 'bool' object has no attribute 'decode'\n",
      "Exception in thread Thread-353:\n",
      "Traceback (most recent call last):\n",
      "  File \"/Library/Developer/CommandLineTools/Library/Frameworks/Python3.framework/Versions/3.8/lib/python3.8/threading.py\", line 932, in _bootstrap_inner\n",
      "    self.run()\n",
      "  File \"/Library/Developer/CommandLineTools/Library/Frameworks/Python3.framework/Versions/3.8/lib/python3.8/threading.py\", line 870, in run\n",
      "    self._target(*self._args, **self._kwargs)\n",
      "  File \"/Users/dp_user/PycharmProjects/portal_da/venv/lib/python3.8/site-packages/rosreestr2coord/merge_tiles.py\", line 37, in task_wrapper\n",
      "    result.put(target(*args))\n",
      "  File \"/Users/dp_user/PycharmProjects/portal_da/venv/lib/python3.8/site-packages/rosreestr2coord/merge_tiles.py\", line 331, in fetch_tile\n",
      "    img = self.get_image(x, y)\n",
      "  File \"/Users/dp_user/PycharmProjects/portal_da/venv/lib/python3.8/site-packages/rosreestr2coord/merge_tiles.py\", line 469, in get_image\n",
      "    data = self._load_image_data(meta_url, cache_path)\n",
      "  File \"/Users/dp_user/PycharmProjects/portal_da/venv/lib/python3.8/site-packages/rosreestr2coord/merge_tiles.py\", line 483, in _load_image_data\n",
      "    data = json.loads(response.decode(\"utf-8\"))\n",
      "AttributeError: 'bool' object has no attribute 'decode'\n",
      "Exception in thread Thread-355:\n",
      "Traceback (most recent call last):\n",
      "  File \"/Library/Developer/CommandLineTools/Library/Frameworks/Python3.framework/Versions/3.8/lib/python3.8/threading.py\", line 932, in _bootstrap_inner\n",
      "    self.run()\n",
      "  File \"/Library/Developer/CommandLineTools/Library/Frameworks/Python3.framework/Versions/3.8/lib/python3.8/threading.py\", line 870, in run\n",
      "    self._target(*self._args, **self._kwargs)\n",
      "  File \"/Users/dp_user/PycharmProjects/portal_da/venv/lib/python3.8/site-packages/rosreestr2coord/merge_tiles.py\", line 37, in task_wrapper\n",
      "    result.put(target(*args))\n",
      "  File \"/Users/dp_user/PycharmProjects/portal_da/venv/lib/python3.8/site-packages/rosreestr2coord/merge_tiles.py\", line 331, in fetch_tile\n",
      "    img = self.get_image(x, y)\n",
      "  File \"/Users/dp_user/PycharmProjects/portal_da/venv/lib/python3.8/site-packages/rosreestr2coord/merge_tiles.py\", line 469, in get_image\n",
      "    data = self._load_image_data(meta_url, cache_path)\n",
      "  File \"/Users/dp_user/PycharmProjects/portal_da/venv/lib/python3.8/site-packages/rosreestr2coord/merge_tiles.py\", line 483, in _load_image_data\n",
      "    data = json.loads(response.decode(\"utf-8\"))\n",
      "AttributeError: 'bool' object has no attribute 'decode'\n",
      "Exception in thread Thread-356:\n",
      "Traceback (most recent call last):\n",
      "  File \"/Library/Developer/CommandLineTools/Library/Frameworks/Python3.framework/Versions/3.8/lib/python3.8/threading.py\", line 932, in _bootstrap_inner\n",
      "    self.run()\n",
      "  File \"/Library/Developer/CommandLineTools/Library/Frameworks/Python3.framework/Versions/3.8/lib/python3.8/threading.py\", line 870, in run\n",
      "    self._target(*self._args, **self._kwargs)\n",
      "  File \"/Users/dp_user/PycharmProjects/portal_da/venv/lib/python3.8/site-packages/rosreestr2coord/merge_tiles.py\", line 37, in task_wrapper\n",
      "    result.put(target(*args))\n",
      "  File \"/Users/dp_user/PycharmProjects/portal_da/venv/lib/python3.8/site-packages/rosreestr2coord/merge_tiles.py\", line 331, in fetch_tile\n",
      "    img = self.get_image(x, y)\n",
      "  File \"/Users/dp_user/PycharmProjects/portal_da/venv/lib/python3.8/site-packages/rosreestr2coord/merge_tiles.py\", line 469, in get_image\n",
      "    data = self._load_image_data(meta_url, cache_path)\n",
      "  File \"/Users/dp_user/PycharmProjects/portal_da/venv/lib/python3.8/site-packages/rosreestr2coord/merge_tiles.py\", line 483, in _load_image_data\n",
      "    data = json.loads(response.decode(\"utf-8\"))\n",
      "AttributeError: 'bool' object has no attribute 'decode'\n",
      "Exception in thread Thread-358:\n",
      "Traceback (most recent call last):\n",
      "  File \"/Library/Developer/CommandLineTools/Library/Frameworks/Python3.framework/Versions/3.8/lib/python3.8/threading.py\", line 932, in _bootstrap_inner\n",
      "    self.run()\n",
      "  File \"/Library/Developer/CommandLineTools/Library/Frameworks/Python3.framework/Versions/3.8/lib/python3.8/threading.py\", line 870, in run\n",
      "    self._target(*self._args, **self._kwargs)\n",
      "  File \"/Users/dp_user/PycharmProjects/portal_da/venv/lib/python3.8/site-packages/rosreestr2coord/merge_tiles.py\", line 37, in task_wrapper\n",
      "    result.put(target(*args))\n",
      "  File \"/Users/dp_user/PycharmProjects/portal_da/venv/lib/python3.8/site-packages/rosreestr2coord/merge_tiles.py\", line 331, in fetch_tile\n",
      "    img = self.get_image(x, y)\n",
      "  File \"/Users/dp_user/PycharmProjects/portal_da/venv/lib/python3.8/site-packages/rosreestr2coord/merge_tiles.py\", line 469, in get_image\n",
      "    data = self._load_image_data(meta_url, cache_path)\n",
      "  File \"/Users/dp_user/PycharmProjects/portal_da/venv/lib/python3.8/site-packages/rosreestr2coord/merge_tiles.py\", line 483, in _load_image_data\n",
      "    data = json.loads(response.decode(\"utf-8\"))\n",
      "AttributeError: 'bool' object has no attribute 'decode'\n",
      "Exception in thread Thread-360:\n",
      "Traceback (most recent call last):\n",
      "  File \"/Library/Developer/CommandLineTools/Library/Frameworks/Python3.framework/Versions/3.8/lib/python3.8/threading.py\", line 932, in _bootstrap_inner\n",
      "    self.run()\n",
      "  File \"/Library/Developer/CommandLineTools/Library/Frameworks/Python3.framework/Versions/3.8/lib/python3.8/threading.py\", line 870, in run\n",
      "    self._target(*self._args, **self._kwargs)\n",
      "  File \"/Users/dp_user/PycharmProjects/portal_da/venv/lib/python3.8/site-packages/rosreestr2coord/merge_tiles.py\", line 37, in task_wrapper\n",
      "    result.put(target(*args))\n",
      "  File \"/Users/dp_user/PycharmProjects/portal_da/venv/lib/python3.8/site-packages/rosreestr2coord/merge_tiles.py\", line 331, in fetch_tile\n",
      "    img = self.get_image(x, y)\n",
      "  File \"/Users/dp_user/PycharmProjects/portal_da/venv/lib/python3.8/site-packages/rosreestr2coord/merge_tiles.py\", line 469, in get_image\n",
      "    data = self._load_image_data(meta_url, cache_path)\n",
      "  File \"/Users/dp_user/PycharmProjects/portal_da/venv/lib/python3.8/site-packages/rosreestr2coord/merge_tiles.py\", line 483, in _load_image_data\n",
      "    data = json.loads(response.decode(\"utf-8\"))\n",
      "AttributeError: 'bool' object has no attribute 'decode'\n",
      "Exception in thread Thread-363:\n",
      "Traceback (most recent call last):\n",
      "  File \"/Library/Developer/CommandLineTools/Library/Frameworks/Python3.framework/Versions/3.8/lib/python3.8/threading.py\", line 932, in _bootstrap_inner\n",
      "    self.run()\n",
      "  File \"/Library/Developer/CommandLineTools/Library/Frameworks/Python3.framework/Versions/3.8/lib/python3.8/threading.py\", line 870, in run\n",
      "    self._target(*self._args, **self._kwargs)\n",
      "  File \"/Users/dp_user/PycharmProjects/portal_da/venv/lib/python3.8/site-packages/rosreestr2coord/merge_tiles.py\", line 37, in task_wrapper\n",
      "    result.put(target(*args))\n",
      "  File \"/Users/dp_user/PycharmProjects/portal_da/venv/lib/python3.8/site-packages/rosreestr2coord/merge_tiles.py\", line 331, in fetch_tile\n",
      "    img = self.get_image(x, y)\n",
      "  File \"/Users/dp_user/PycharmProjects/portal_da/venv/lib/python3.8/site-packages/rosreestr2coord/merge_tiles.py\", line 469, in get_image\n",
      "    data = self._load_image_data(meta_url, cache_path)\n",
      "  File \"/Users/dp_user/PycharmProjects/portal_da/venv/lib/python3.8/site-packages/rosreestr2coord/merge_tiles.py\", line 483, in _load_image_data\n",
      "    data = json.loads(response.decode(\"utf-8\"))\n",
      "AttributeError: 'bool' object has no attribute 'decode'\n",
      "Exception in thread Thread-366:\n",
      "Traceback (most recent call last):\n",
      "  File \"/Library/Developer/CommandLineTools/Library/Frameworks/Python3.framework/Versions/3.8/lib/python3.8/threading.py\", line 932, in _bootstrap_inner\n",
      "    self.run()\n",
      "  File \"/Library/Developer/CommandLineTools/Library/Frameworks/Python3.framework/Versions/3.8/lib/python3.8/threading.py\", line 870, in run\n",
      "    self._target(*self._args, **self._kwargs)\n",
      "  File \"/Users/dp_user/PycharmProjects/portal_da/venv/lib/python3.8/site-packages/rosreestr2coord/merge_tiles.py\", line 37, in task_wrapper\n",
      "    result.put(target(*args))\n",
      "  File \"/Users/dp_user/PycharmProjects/portal_da/venv/lib/python3.8/site-packages/rosreestr2coord/merge_tiles.py\", line 331, in fetch_tile\n",
      "    img = self.get_image(x, y)\n",
      "  File \"/Users/dp_user/PycharmProjects/portal_da/venv/lib/python3.8/site-packages/rosreestr2coord/merge_tiles.py\", line 469, in get_image\n",
      "    data = self._load_image_data(meta_url, cache_path)\n",
      "  File \"/Users/dp_user/PycharmProjects/portal_da/venv/lib/python3.8/site-packages/rosreestr2coord/merge_tiles.py\", line 483, in _load_image_data\n",
      "    data = json.loads(response.decode(\"utf-8\"))\n",
      "AttributeError: 'bool' object has no attribute 'decode'\n",
      "Exception in thread Thread-369:\n",
      "Traceback (most recent call last):\n",
      "  File \"/Library/Developer/CommandLineTools/Library/Frameworks/Python3.framework/Versions/3.8/lib/python3.8/threading.py\", line 932, in _bootstrap_inner\n",
      "    self.run()\n",
      "  File \"/Library/Developer/CommandLineTools/Library/Frameworks/Python3.framework/Versions/3.8/lib/python3.8/threading.py\", line 870, in run\n",
      "    self._target(*self._args, **self._kwargs)\n",
      "  File \"/Users/dp_user/PycharmProjects/portal_da/venv/lib/python3.8/site-packages/rosreestr2coord/merge_tiles.py\", line 37, in task_wrapper\n",
      "    result.put(target(*args))\n",
      "  File \"/Users/dp_user/PycharmProjects/portal_da/venv/lib/python3.8/site-packages/rosreestr2coord/merge_tiles.py\", line 331, in fetch_tile\n",
      "    img = self.get_image(x, y)\n",
      "  File \"/Users/dp_user/PycharmProjects/portal_da/venv/lib/python3.8/site-packages/rosreestr2coord/merge_tiles.py\", line 469, in get_image\n",
      "    data = self._load_image_data(meta_url, cache_path)\n",
      "  File \"/Users/dp_user/PycharmProjects/portal_da/venv/lib/python3.8/site-packages/rosreestr2coord/merge_tiles.py\", line 483, in _load_image_data\n",
      "    data = json.loads(response.decode(\"utf-8\"))\n",
      "AttributeError: 'bool' object has no attribute 'decode'\n",
      "Exception in thread Thread-370:\n",
      "Traceback (most recent call last):\n",
      "  File \"/Library/Developer/CommandLineTools/Library/Frameworks/Python3.framework/Versions/3.8/lib/python3.8/threading.py\", line 932, in _bootstrap_inner\n",
      "    self.run()\n",
      "  File \"/Library/Developer/CommandLineTools/Library/Frameworks/Python3.framework/Versions/3.8/lib/python3.8/threading.py\", line 870, in run\n",
      "    self._target(*self._args, **self._kwargs)\n",
      "  File \"/Users/dp_user/PycharmProjects/portal_da/venv/lib/python3.8/site-packages/rosreestr2coord/merge_tiles.py\", line 37, in task_wrapper\n",
      "    result.put(target(*args))\n",
      "  File \"/Users/dp_user/PycharmProjects/portal_da/venv/lib/python3.8/site-packages/rosreestr2coord/merge_tiles.py\", line 331, in fetch_tile\n",
      "    img = self.get_image(x, y)\n",
      "  File \"/Users/dp_user/PycharmProjects/portal_da/venv/lib/python3.8/site-packages/rosreestr2coord/merge_tiles.py\", line 469, in get_image\n",
      "    data = self._load_image_data(meta_url, cache_path)\n",
      "  File \"/Users/dp_user/PycharmProjects/portal_da/venv/lib/python3.8/site-packages/rosreestr2coord/merge_tiles.py\", line 483, in _load_image_data\n",
      "    data = json.loads(response.decode(\"utf-8\"))\n",
      "AttributeError: 'bool' object has no attribute 'decode'\n",
      "Exception in thread Thread-371:\n",
      "Traceback (most recent call last):\n",
      "  File \"/Library/Developer/CommandLineTools/Library/Frameworks/Python3.framework/Versions/3.8/lib/python3.8/threading.py\", line 932, in _bootstrap_inner\n",
      "    self.run()\n",
      "  File \"/Library/Developer/CommandLineTools/Library/Frameworks/Python3.framework/Versions/3.8/lib/python3.8/threading.py\", line 870, in run\n",
      "    self._target(*self._args, **self._kwargs)\n",
      "  File \"/Users/dp_user/PycharmProjects/portal_da/venv/lib/python3.8/site-packages/rosreestr2coord/merge_tiles.py\", line 37, in task_wrapper\n",
      "    result.put(target(*args))\n",
      "  File \"/Users/dp_user/PycharmProjects/portal_da/venv/lib/python3.8/site-packages/rosreestr2coord/merge_tiles.py\", line 331, in fetch_tile\n",
      "    img = self.get_image(x, y)\n",
      "  File \"/Users/dp_user/PycharmProjects/portal_da/venv/lib/python3.8/site-packages/rosreestr2coord/merge_tiles.py\", line 469, in get_image\n",
      "    data = self._load_image_data(meta_url, cache_path)\n",
      "  File \"/Users/dp_user/PycharmProjects/portal_da/venv/lib/python3.8/site-packages/rosreestr2coord/merge_tiles.py\", line 483, in _load_image_data\n",
      "    data = json.loads(response.decode(\"utf-8\"))\n",
      "AttributeError: 'bool' object has no attribute 'decode'\n",
      "Exception in thread Thread-375:\n",
      "Traceback (most recent call last):\n",
      "  File \"/Library/Developer/CommandLineTools/Library/Frameworks/Python3.framework/Versions/3.8/lib/python3.8/threading.py\", line 932, in _bootstrap_inner\n",
      "    self.run()\n",
      "  File \"/Library/Developer/CommandLineTools/Library/Frameworks/Python3.framework/Versions/3.8/lib/python3.8/threading.py\", line 870, in run\n",
      "    self._target(*self._args, **self._kwargs)\n",
      "  File \"/Users/dp_user/PycharmProjects/portal_da/venv/lib/python3.8/site-packages/rosreestr2coord/merge_tiles.py\", line 37, in task_wrapper\n",
      "    result.put(target(*args))\n",
      "  File \"/Users/dp_user/PycharmProjects/portal_da/venv/lib/python3.8/site-packages/rosreestr2coord/merge_tiles.py\", line 331, in fetch_tile\n",
      "    img = self.get_image(x, y)\n",
      "  File \"/Users/dp_user/PycharmProjects/portal_da/venv/lib/python3.8/site-packages/rosreestr2coord/merge_tiles.py\", line 469, in get_image\n",
      "    data = self._load_image_data(meta_url, cache_path)\n",
      "  File \"/Users/dp_user/PycharmProjects/portal_da/venv/lib/python3.8/site-packages/rosreestr2coord/merge_tiles.py\", line 483, in _load_image_data\n",
      "    data = json.loads(response.decode(\"utf-8\"))\n",
      "AttributeError: 'bool' object has no attribute 'decode'\n",
      "Exception in thread Thread-379:\n",
      "Traceback (most recent call last):\n",
      "  File \"/Library/Developer/CommandLineTools/Library/Frameworks/Python3.framework/Versions/3.8/lib/python3.8/threading.py\", line 932, in _bootstrap_inner\n",
      "    self.run()\n",
      "  File \"/Library/Developer/CommandLineTools/Library/Frameworks/Python3.framework/Versions/3.8/lib/python3.8/threading.py\", line 870, in run\n",
      "    self._target(*self._args, **self._kwargs)\n",
      "  File \"/Users/dp_user/PycharmProjects/portal_da/venv/lib/python3.8/site-packages/rosreestr2coord/merge_tiles.py\", line 37, in task_wrapper\n",
      "    result.put(target(*args))\n",
      "  File \"/Users/dp_user/PycharmProjects/portal_da/venv/lib/python3.8/site-packages/rosreestr2coord/merge_tiles.py\", line 331, in fetch_tile\n",
      "    img = self.get_image(x, y)\n",
      "  File \"/Users/dp_user/PycharmProjects/portal_da/venv/lib/python3.8/site-packages/rosreestr2coord/merge_tiles.py\", line 469, in get_image\n",
      "    data = self._load_image_data(meta_url, cache_path)\n",
      "  File \"/Users/dp_user/PycharmProjects/portal_da/venv/lib/python3.8/site-packages/rosreestr2coord/merge_tiles.py\", line 483, in _load_image_data\n",
      "    data = json.loads(response.decode(\"utf-8\"))\n",
      "AttributeError: 'bool' object has no attribute 'decode'\n",
      "Exception in thread Thread-384:\n",
      "Traceback (most recent call last):\n",
      "  File \"/Library/Developer/CommandLineTools/Library/Frameworks/Python3.framework/Versions/3.8/lib/python3.8/threading.py\", line 932, in _bootstrap_inner\n",
      "    self.run()\n",
      "  File \"/Library/Developer/CommandLineTools/Library/Frameworks/Python3.framework/Versions/3.8/lib/python3.8/threading.py\", line 870, in run\n",
      "    self._target(*self._args, **self._kwargs)\n",
      "  File \"/Users/dp_user/PycharmProjects/portal_da/venv/lib/python3.8/site-packages/rosreestr2coord/merge_tiles.py\", line 37, in task_wrapper\n",
      "    result.put(target(*args))\n",
      "  File \"/Users/dp_user/PycharmProjects/portal_da/venv/lib/python3.8/site-packages/rosreestr2coord/merge_tiles.py\", line 331, in fetch_tile\n",
      "    img = self.get_image(x, y)\n",
      "  File \"/Users/dp_user/PycharmProjects/portal_da/venv/lib/python3.8/site-packages/rosreestr2coord/merge_tiles.py\", line 469, in get_image\n",
      "    data = self._load_image_data(meta_url, cache_path)\n",
      "  File \"/Users/dp_user/PycharmProjects/portal_da/venv/lib/python3.8/site-packages/rosreestr2coord/merge_tiles.py\", line 483, in _load_image_data\n",
      "    data = json.loads(response.decode(\"utf-8\"))\n",
      "AttributeError: 'bool' object has no attribute 'decode'\n",
      "Exception in thread Thread-387:\n",
      "Traceback (most recent call last):\n",
      "  File \"/Library/Developer/CommandLineTools/Library/Frameworks/Python3.framework/Versions/3.8/lib/python3.8/threading.py\", line 932, in _bootstrap_inner\n",
      "    self.run()\n",
      "  File \"/Library/Developer/CommandLineTools/Library/Frameworks/Python3.framework/Versions/3.8/lib/python3.8/threading.py\", line 870, in run\n",
      "    self._target(*self._args, **self._kwargs)\n",
      "  File \"/Users/dp_user/PycharmProjects/portal_da/venv/lib/python3.8/site-packages/rosreestr2coord/merge_tiles.py\", line 37, in task_wrapper\n",
      "    result.put(target(*args))\n",
      "  File \"/Users/dp_user/PycharmProjects/portal_da/venv/lib/python3.8/site-packages/rosreestr2coord/merge_tiles.py\", line 331, in fetch_tile\n",
      "    img = self.get_image(x, y)\n",
      "  File \"/Users/dp_user/PycharmProjects/portal_da/venv/lib/python3.8/site-packages/rosreestr2coord/merge_tiles.py\", line 469, in get_image\n",
      "    data = self._load_image_data(meta_url, cache_path)\n",
      "  File \"/Users/dp_user/PycharmProjects/portal_da/venv/lib/python3.8/site-packages/rosreestr2coord/merge_tiles.py\", line 483, in _load_image_data\n",
      "    data = json.loads(response.decode(\"utf-8\"))\n",
      "AttributeError: 'bool' object has no attribute 'decode'\n",
      "Exception in thread Thread-389:\n",
      "Traceback (most recent call last):\n",
      "  File \"/Library/Developer/CommandLineTools/Library/Frameworks/Python3.framework/Versions/3.8/lib/python3.8/threading.py\", line 932, in _bootstrap_inner\n",
      "    self.run()\n",
      "  File \"/Library/Developer/CommandLineTools/Library/Frameworks/Python3.framework/Versions/3.8/lib/python3.8/threading.py\", line 870, in run\n",
      "    self._target(*self._args, **self._kwargs)\n",
      "  File \"/Users/dp_user/PycharmProjects/portal_da/venv/lib/python3.8/site-packages/rosreestr2coord/merge_tiles.py\", line 37, in task_wrapper\n",
      "    result.put(target(*args))\n",
      "  File \"/Users/dp_user/PycharmProjects/portal_da/venv/lib/python3.8/site-packages/rosreestr2coord/merge_tiles.py\", line 331, in fetch_tile\n",
      "    img = self.get_image(x, y)\n",
      "  File \"/Users/dp_user/PycharmProjects/portal_da/venv/lib/python3.8/site-packages/rosreestr2coord/merge_tiles.py\", line 469, in get_image\n",
      "    data = self._load_image_data(meta_url, cache_path)\n",
      "  File \"/Users/dp_user/PycharmProjects/portal_da/venv/lib/python3.8/site-packages/rosreestr2coord/merge_tiles.py\", line 483, in _load_image_data\n",
      "    data = json.loads(response.decode(\"utf-8\"))\n",
      "AttributeError: 'bool' object has no attribute 'decode'\n",
      "Exception in thread Exception in thread Thread-393:\n",
      "Traceback (most recent call last):\n",
      "  File \"/Library/Developer/CommandLineTools/Library/Frameworks/Python3.framework/Versions/3.8/lib/python3.8/threading.py\", line 932, in _bootstrap_inner\n",
      "Thread-390:\n",
      "Traceback (most recent call last):\n",
      "  File \"/Library/Developer/CommandLineTools/Library/Frameworks/Python3.framework/Versions/3.8/lib/python3.8/threading.py\", line 932, in _bootstrap_inner\n",
      "    self.run()\n",
      "  File \"/Library/Developer/CommandLineTools/Library/Frameworks/Python3.framework/Versions/3.8/lib/python3.8/threading.py\", line 870, in run\n",
      "    self.run()\n",
      "  File \"/Library/Developer/CommandLineTools/Library/Frameworks/Python3.framework/Versions/3.8/lib/python3.8/threading.py\", line 870, in run\n",
      "    self._target(*self._args, **self._kwargs)\n",
      "  File \"/Users/dp_user/PycharmProjects/portal_da/venv/lib/python3.8/site-packages/rosreestr2coord/merge_tiles.py\", line 37, in task_wrapper\n",
      "    self._target(*self._args, **self._kwargs)\n",
      "  File \"/Users/dp_user/PycharmProjects/portal_da/venv/lib/python3.8/site-packages/rosreestr2coord/merge_tiles.py\", line 37, in task_wrapper\n",
      "    result.put(target(*args))\n",
      "  File \"/Users/dp_user/PycharmProjects/portal_da/venv/lib/python3.8/site-packages/rosreestr2coord/merge_tiles.py\", line 331, in fetch_tile\n",
      "    result.put(target(*args))\n",
      "  File \"/Users/dp_user/PycharmProjects/portal_da/venv/lib/python3.8/site-packages/rosreestr2coord/merge_tiles.py\", line 331, in fetch_tile\n",
      "    img = self.get_image(x, y)\n",
      "  File \"/Users/dp_user/PycharmProjects/portal_da/venv/lib/python3.8/site-packages/rosreestr2coord/merge_tiles.py\", line 469, in get_image\n",
      "    img = self.get_image(x, y)\n",
      "  File \"/Users/dp_user/PycharmProjects/portal_da/venv/lib/python3.8/site-packages/rosreestr2coord/merge_tiles.py\", line 469, in get_image\n",
      "    data = self._load_image_data(meta_url, cache_path)\n",
      "  File \"/Users/dp_user/PycharmProjects/portal_da/venv/lib/python3.8/site-packages/rosreestr2coord/merge_tiles.py\", line 483, in _load_image_data\n",
      "    data = self._load_image_data(meta_url, cache_path)\n",
      "  File \"/Users/dp_user/PycharmProjects/portal_da/venv/lib/python3.8/site-packages/rosreestr2coord/merge_tiles.py\", line 483, in _load_image_data\n",
      "    data = json.loads(response.decode(\"utf-8\"))\n",
      "AttributeError: 'bool' object has no attribute 'decode'\n",
      "    data = json.loads(response.decode(\"utf-8\"))\n",
      "AttributeError: 'bool' object has no attribute 'decode'\n",
      "Exception in thread Thread-395:\n",
      "Traceback (most recent call last):\n",
      "  File \"/Library/Developer/CommandLineTools/Library/Frameworks/Python3.framework/Versions/3.8/lib/python3.8/threading.py\", line 932, in _bootstrap_inner\n",
      "    self.run()\n",
      "  File \"/Library/Developer/CommandLineTools/Library/Frameworks/Python3.framework/Versions/3.8/lib/python3.8/threading.py\", line 870, in run\n",
      "    self._target(*self._args, **self._kwargs)\n",
      "  File \"/Users/dp_user/PycharmProjects/portal_da/venv/lib/python3.8/site-packages/rosreestr2coord/merge_tiles.py\", line 37, in task_wrapper\n",
      "    result.put(target(*args))\n",
      "  File \"/Users/dp_user/PycharmProjects/portal_da/venv/lib/python3.8/site-packages/rosreestr2coord/merge_tiles.py\", line 331, in fetch_tile\n",
      "    img = self.get_image(x, y)\n",
      "  File \"/Users/dp_user/PycharmProjects/portal_da/venv/lib/python3.8/site-packages/rosreestr2coord/merge_tiles.py\", line 469, in get_image\n",
      "    data = self._load_image_data(meta_url, cache_path)\n",
      "  File \"/Users/dp_user/PycharmProjects/portal_da/venv/lib/python3.8/site-packages/rosreestr2coord/merge_tiles.py\", line 483, in _load_image_data\n",
      "    data = json.loads(response.decode(\"utf-8\"))\n",
      "AttributeError: 'bool' object has no attribute 'decode'\n",
      "Exception in thread Thread-396:\n",
      "Traceback (most recent call last):\n",
      "  File \"/Library/Developer/CommandLineTools/Library/Frameworks/Python3.framework/Versions/3.8/lib/python3.8/threading.py\", line 932, in _bootstrap_inner\n",
      "    self.run()\n",
      "  File \"/Library/Developer/CommandLineTools/Library/Frameworks/Python3.framework/Versions/3.8/lib/python3.8/threading.py\", line 870, in run\n",
      "    self._target(*self._args, **self._kwargs)\n",
      "  File \"/Users/dp_user/PycharmProjects/portal_da/venv/lib/python3.8/site-packages/rosreestr2coord/merge_tiles.py\", line 37, in task_wrapper\n",
      "    result.put(target(*args))\n",
      "  File \"/Users/dp_user/PycharmProjects/portal_da/venv/lib/python3.8/site-packages/rosreestr2coord/merge_tiles.py\", line 331, in fetch_tile\n",
      "    img = self.get_image(x, y)\n",
      "  File \"/Users/dp_user/PycharmProjects/portal_da/venv/lib/python3.8/site-packages/rosreestr2coord/merge_tiles.py\", line 469, in get_image\n",
      "    data = self._load_image_data(meta_url, cache_path)\n",
      "  File \"/Users/dp_user/PycharmProjects/portal_da/venv/lib/python3.8/site-packages/rosreestr2coord/merge_tiles.py\", line 483, in _load_image_data\n",
      "    data = json.loads(response.decode(\"utf-8\"))\n",
      "AttributeError: 'bool' object has no attribute 'decode'\n",
      "Exception in thread Thread-399:\n",
      "Traceback (most recent call last):\n",
      "  File \"/Library/Developer/CommandLineTools/Library/Frameworks/Python3.framework/Versions/3.8/lib/python3.8/threading.py\", line 932, in _bootstrap_inner\n",
      "    self.run()\n",
      "  File \"/Library/Developer/CommandLineTools/Library/Frameworks/Python3.framework/Versions/3.8/lib/python3.8/threading.py\", line 870, in run\n",
      "    self._target(*self._args, **self._kwargs)\n",
      "  File \"/Users/dp_user/PycharmProjects/portal_da/venv/lib/python3.8/site-packages/rosreestr2coord/merge_tiles.py\", line 37, in task_wrapper\n",
      "    result.put(target(*args))\n",
      "  File \"/Users/dp_user/PycharmProjects/portal_da/venv/lib/python3.8/site-packages/rosreestr2coord/merge_tiles.py\", line 331, in fetch_tile\n",
      "    img = self.get_image(x, y)\n",
      "  File \"/Users/dp_user/PycharmProjects/portal_da/venv/lib/python3.8/site-packages/rosreestr2coord/merge_tiles.py\", line 469, in get_image\n",
      "    data = self._load_image_data(meta_url, cache_path)\n",
      "  File \"/Users/dp_user/PycharmProjects/portal_da/venv/lib/python3.8/site-packages/rosreestr2coord/merge_tiles.py\", line 483, in _load_image_data\n",
      "    data = json.loads(response.decode(\"utf-8\"))\n",
      "AttributeError: 'bool' object has no attribute 'decode'\n",
      "Exception in thread Thread-404:\n",
      "Traceback (most recent call last):\n",
      "  File \"/Library/Developer/CommandLineTools/Library/Frameworks/Python3.framework/Versions/3.8/lib/python3.8/threading.py\", line 932, in _bootstrap_inner\n",
      "    self.run()\n",
      "  File \"/Library/Developer/CommandLineTools/Library/Frameworks/Python3.framework/Versions/3.8/lib/python3.8/threading.py\", line 870, in run\n",
      "    self._target(*self._args, **self._kwargs)\n",
      "  File \"/Users/dp_user/PycharmProjects/portal_da/venv/lib/python3.8/site-packages/rosreestr2coord/merge_tiles.py\", line 37, in task_wrapper\n",
      "    result.put(target(*args))\n",
      "  File \"/Users/dp_user/PycharmProjects/portal_da/venv/lib/python3.8/site-packages/rosreestr2coord/merge_tiles.py\", line 331, in fetch_tile\n",
      "    img = self.get_image(x, y)\n",
      "  File \"/Users/dp_user/PycharmProjects/portal_da/venv/lib/python3.8/site-packages/rosreestr2coord/merge_tiles.py\", line 469, in get_image\n",
      "    data = self._load_image_data(meta_url, cache_path)\n",
      "  File \"/Users/dp_user/PycharmProjects/portal_da/venv/lib/python3.8/site-packages/rosreestr2coord/merge_tiles.py\", line 483, in _load_image_data\n",
      "    data = json.loads(response.decode(\"utf-8\"))\n",
      "AttributeError: 'bool' object has no attribute 'decode'\n",
      "Exception in thread Thread-407:\n",
      "Traceback (most recent call last):\n",
      "  File \"/Library/Developer/CommandLineTools/Library/Frameworks/Python3.framework/Versions/3.8/lib/python3.8/threading.py\", line 932, in _bootstrap_inner\n",
      "    self.run()\n",
      "  File \"/Library/Developer/CommandLineTools/Library/Frameworks/Python3.framework/Versions/3.8/lib/python3.8/threading.py\", line 870, in run\n",
      "    self._target(*self._args, **self._kwargs)\n",
      "  File \"/Users/dp_user/PycharmProjects/portal_da/venv/lib/python3.8/site-packages/rosreestr2coord/merge_tiles.py\", line 37, in task_wrapper\n",
      "    result.put(target(*args))\n",
      "  File \"/Users/dp_user/PycharmProjects/portal_da/venv/lib/python3.8/site-packages/rosreestr2coord/merge_tiles.py\", line 331, in fetch_tile\n",
      "    img = self.get_image(x, y)\n",
      "  File \"/Users/dp_user/PycharmProjects/portal_da/venv/lib/python3.8/site-packages/rosreestr2coord/merge_tiles.py\", line 469, in get_image\n",
      "    data = self._load_image_data(meta_url, cache_path)\n",
      "  File \"/Users/dp_user/PycharmProjects/portal_da/venv/lib/python3.8/site-packages/rosreestr2coord/merge_tiles.py\", line 483, in _load_image_data\n",
      "    data = json.loads(response.decode(\"utf-8\"))\n",
      "AttributeError: 'bool' object has no attribute 'decode'\n",
      "Exception in thread Thread-413:\n",
      "Traceback (most recent call last):\n",
      "  File \"/Library/Developer/CommandLineTools/Library/Frameworks/Python3.framework/Versions/3.8/lib/python3.8/threading.py\", line 932, in _bootstrap_inner\n",
      "    self.run()\n",
      "  File \"/Library/Developer/CommandLineTools/Library/Frameworks/Python3.framework/Versions/3.8/lib/python3.8/threading.py\", line 870, in run\n",
      "    self._target(*self._args, **self._kwargs)\n",
      "  File \"/Users/dp_user/PycharmProjects/portal_da/venv/lib/python3.8/site-packages/rosreestr2coord/merge_tiles.py\", line 37, in task_wrapper\n",
      "    result.put(target(*args))\n",
      "  File \"/Users/dp_user/PycharmProjects/portal_da/venv/lib/python3.8/site-packages/rosreestr2coord/merge_tiles.py\", line 331, in fetch_tile\n",
      "    img = self.get_image(x, y)\n",
      "  File \"/Users/dp_user/PycharmProjects/portal_da/venv/lib/python3.8/site-packages/rosreestr2coord/merge_tiles.py\", line 469, in get_image\n",
      "    data = self._load_image_data(meta_url, cache_path)\n",
      "  File \"/Users/dp_user/PycharmProjects/portal_da/venv/lib/python3.8/site-packages/rosreestr2coord/merge_tiles.py\", line 483, in _load_image_data\n",
      "    data = json.loads(response.decode(\"utf-8\"))\n",
      "AttributeError: 'bool' object has no attribute 'decode'\n",
      "Exception in thread Thread-415:\n",
      "Traceback (most recent call last):\n",
      "  File \"/Library/Developer/CommandLineTools/Library/Frameworks/Python3.framework/Versions/3.8/lib/python3.8/threading.py\", line 932, in _bootstrap_inner\n",
      "    self.run()\n",
      "  File \"/Library/Developer/CommandLineTools/Library/Frameworks/Python3.framework/Versions/3.8/lib/python3.8/threading.py\", line 870, in run\n",
      "    self._target(*self._args, **self._kwargs)\n",
      "  File \"/Users/dp_user/PycharmProjects/portal_da/venv/lib/python3.8/site-packages/rosreestr2coord/merge_tiles.py\", line 37, in task_wrapper\n",
      "    result.put(target(*args))\n",
      "  File \"/Users/dp_user/PycharmProjects/portal_da/venv/lib/python3.8/site-packages/rosreestr2coord/merge_tiles.py\", line 331, in fetch_tile\n",
      "    img = self.get_image(x, y)\n",
      "  File \"/Users/dp_user/PycharmProjects/portal_da/venv/lib/python3.8/site-packages/rosreestr2coord/merge_tiles.py\", line 469, in get_image\n",
      "    data = self._load_image_data(meta_url, cache_path)\n",
      "  File \"/Users/dp_user/PycharmProjects/portal_da/venv/lib/python3.8/site-packages/rosreestr2coord/merge_tiles.py\", line 483, in _load_image_data\n",
      "    data = json.loads(response.decode(\"utf-8\"))\n",
      "AttributeError: 'bool' object has no attribute 'decode'\n",
      "Exception in thread Thread-419:\n",
      "Traceback (most recent call last):\n",
      "  File \"/Library/Developer/CommandLineTools/Library/Frameworks/Python3.framework/Versions/3.8/lib/python3.8/threading.py\", line 932, in _bootstrap_inner\n",
      "    self.run()\n",
      "  File \"/Library/Developer/CommandLineTools/Library/Frameworks/Python3.framework/Versions/3.8/lib/python3.8/threading.py\", line 870, in run\n",
      "    self._target(*self._args, **self._kwargs)\n",
      "  File \"/Users/dp_user/PycharmProjects/portal_da/venv/lib/python3.8/site-packages/rosreestr2coord/merge_tiles.py\", line 37, in task_wrapper\n",
      "    result.put(target(*args))\n",
      "  File \"/Users/dp_user/PycharmProjects/portal_da/venv/lib/python3.8/site-packages/rosreestr2coord/merge_tiles.py\", line 331, in fetch_tile\n",
      "    img = self.get_image(x, y)\n",
      "  File \"/Users/dp_user/PycharmProjects/portal_da/venv/lib/python3.8/site-packages/rosreestr2coord/merge_tiles.py\", line 469, in get_image\n",
      "    data = self._load_image_data(meta_url, cache_path)\n",
      "  File \"/Users/dp_user/PycharmProjects/portal_da/venv/lib/python3.8/site-packages/rosreestr2coord/merge_tiles.py\", line 483, in _load_image_data\n",
      "    data = json.loads(response.decode(\"utf-8\"))\n",
      "AttributeError: 'bool' object has no attribute 'decode'\n",
      "Exception in thread Thread-420:\n",
      "Traceback (most recent call last):\n",
      "  File \"/Library/Developer/CommandLineTools/Library/Frameworks/Python3.framework/Versions/3.8/lib/python3.8/threading.py\", line 932, in _bootstrap_inner\n",
      "    self.run()\n",
      "  File \"/Library/Developer/CommandLineTools/Library/Frameworks/Python3.framework/Versions/3.8/lib/python3.8/threading.py\", line 870, in run\n",
      "    self._target(*self._args, **self._kwargs)\n",
      "  File \"/Users/dp_user/PycharmProjects/portal_da/venv/lib/python3.8/site-packages/rosreestr2coord/merge_tiles.py\", line 37, in task_wrapper\n",
      "    result.put(target(*args))\n",
      "  File \"/Users/dp_user/PycharmProjects/portal_da/venv/lib/python3.8/site-packages/rosreestr2coord/merge_tiles.py\", line 331, in fetch_tile\n",
      "    img = self.get_image(x, y)\n",
      "  File \"/Users/dp_user/PycharmProjects/portal_da/venv/lib/python3.8/site-packages/rosreestr2coord/merge_tiles.py\", line 469, in get_image\n",
      "    data = self._load_image_data(meta_url, cache_path)\n",
      "  File \"/Users/dp_user/PycharmProjects/portal_da/venv/lib/python3.8/site-packages/rosreestr2coord/merge_tiles.py\", line 483, in _load_image_data\n",
      "    data = json.loads(response.decode(\"utf-8\"))\n",
      "AttributeError: 'bool' object has no attribute 'decode'\n",
      "Exception in thread Thread-421:\n",
      "Traceback (most recent call last):\n",
      "  File \"/Library/Developer/CommandLineTools/Library/Frameworks/Python3.framework/Versions/3.8/lib/python3.8/threading.py\", line 932, in _bootstrap_inner\n",
      "    self.run()\n",
      "  File \"/Library/Developer/CommandLineTools/Library/Frameworks/Python3.framework/Versions/3.8/lib/python3.8/threading.py\", line 870, in run\n",
      "    self._target(*self._args, **self._kwargs)\n",
      "  File \"/Users/dp_user/PycharmProjects/portal_da/venv/lib/python3.8/site-packages/rosreestr2coord/merge_tiles.py\", line 37, in task_wrapper\n",
      "    result.put(target(*args))\n",
      "  File \"/Users/dp_user/PycharmProjects/portal_da/venv/lib/python3.8/site-packages/rosreestr2coord/merge_tiles.py\", line 331, in fetch_tile\n",
      "    img = self.get_image(x, y)\n",
      "  File \"/Users/dp_user/PycharmProjects/portal_da/venv/lib/python3.8/site-packages/rosreestr2coord/merge_tiles.py\", line 469, in get_image\n",
      "    data = self._load_image_data(meta_url, cache_path)\n",
      "  File \"/Users/dp_user/PycharmProjects/portal_da/venv/lib/python3.8/site-packages/rosreestr2coord/merge_tiles.py\", line 483, in _load_image_data\n",
      "    data = json.loads(response.decode(\"utf-8\"))\n",
      "AttributeError: 'bool' object has no attribute 'decode'\n",
      "Exception in thread Thread-427:\n",
      "Traceback (most recent call last):\n",
      "  File \"/Library/Developer/CommandLineTools/Library/Frameworks/Python3.framework/Versions/3.8/lib/python3.8/threading.py\", line 932, in _bootstrap_inner\n",
      "    self.run()\n",
      "  File \"/Library/Developer/CommandLineTools/Library/Frameworks/Python3.framework/Versions/3.8/lib/python3.8/threading.py\", line 870, in run\n",
      "    self._target(*self._args, **self._kwargs)\n",
      "  File \"/Users/dp_user/PycharmProjects/portal_da/venv/lib/python3.8/site-packages/rosreestr2coord/merge_tiles.py\", line 37, in task_wrapper\n",
      "    result.put(target(*args))\n",
      "  File \"/Users/dp_user/PycharmProjects/portal_da/venv/lib/python3.8/site-packages/rosreestr2coord/merge_tiles.py\", line 331, in fetch_tile\n",
      "    img = self.get_image(x, y)\n",
      "  File \"/Users/dp_user/PycharmProjects/portal_da/venv/lib/python3.8/site-packages/rosreestr2coord/merge_tiles.py\", line 469, in get_image\n",
      "    data = self._load_image_data(meta_url, cache_path)\n",
      "  File \"/Users/dp_user/PycharmProjects/portal_da/venv/lib/python3.8/site-packages/rosreestr2coord/merge_tiles.py\", line 483, in _load_image_data\n",
      "    data = json.loads(response.decode(\"utf-8\"))\n",
      "AttributeError: 'bool' object has no attribute 'decode'\n",
      "Exception in thread Thread-433:\n",
      "Traceback (most recent call last):\n",
      "  File \"/Library/Developer/CommandLineTools/Library/Frameworks/Python3.framework/Versions/3.8/lib/python3.8/threading.py\", line 932, in _bootstrap_inner\n",
      "    self.run()\n",
      "  File \"/Library/Developer/CommandLineTools/Library/Frameworks/Python3.framework/Versions/3.8/lib/python3.8/threading.py\", line 870, in run\n",
      "    self._target(*self._args, **self._kwargs)\n",
      "  File \"/Users/dp_user/PycharmProjects/portal_da/venv/lib/python3.8/site-packages/rosreestr2coord/merge_tiles.py\", line 37, in task_wrapper\n",
      "    result.put(target(*args))\n",
      "  File \"/Users/dp_user/PycharmProjects/portal_da/venv/lib/python3.8/site-packages/rosreestr2coord/merge_tiles.py\", line 331, in fetch_tile\n",
      "    img = self.get_image(x, y)\n",
      "  File \"/Users/dp_user/PycharmProjects/portal_da/venv/lib/python3.8/site-packages/rosreestr2coord/merge_tiles.py\", line 469, in get_image\n",
      "    data = self._load_image_data(meta_url, cache_path)\n",
      "  File \"/Users/dp_user/PycharmProjects/portal_da/venv/lib/python3.8/site-packages/rosreestr2coord/merge_tiles.py\", line 483, in _load_image_data\n",
      "    data = json.loads(response.decode(\"utf-8\"))\n",
      "AttributeError: 'bool' object has no attribute 'decode'\n",
      "Exception in thread Thread-434:\n",
      "Traceback (most recent call last):\n",
      "  File \"/Library/Developer/CommandLineTools/Library/Frameworks/Python3.framework/Versions/3.8/lib/python3.8/threading.py\", line 932, in _bootstrap_inner\n",
      "    self.run()\n",
      "  File \"/Library/Developer/CommandLineTools/Library/Frameworks/Python3.framework/Versions/3.8/lib/python3.8/threading.py\", line 870, in run\n",
      "    self._target(*self._args, **self._kwargs)\n",
      "  File \"/Users/dp_user/PycharmProjects/portal_da/venv/lib/python3.8/site-packages/rosreestr2coord/merge_tiles.py\", line 37, in task_wrapper\n",
      "    result.put(target(*args))\n",
      "  File \"/Users/dp_user/PycharmProjects/portal_da/venv/lib/python3.8/site-packages/rosreestr2coord/merge_tiles.py\", line 331, in fetch_tile\n",
      "    img = self.get_image(x, y)\n",
      "  File \"/Users/dp_user/PycharmProjects/portal_da/venv/lib/python3.8/site-packages/rosreestr2coord/merge_tiles.py\", line 469, in get_image\n",
      "    data = self._load_image_data(meta_url, cache_path)\n",
      "  File \"/Users/dp_user/PycharmProjects/portal_da/venv/lib/python3.8/site-packages/rosreestr2coord/merge_tiles.py\", line 483, in _load_image_data\n",
      "    data = json.loads(response.decode(\"utf-8\"))\n",
      "AttributeError: 'bool' object has no attribute 'decode'\n",
      "Exception in thread Thread-437:\n",
      "Traceback (most recent call last):\n",
      "  File \"/Library/Developer/CommandLineTools/Library/Frameworks/Python3.framework/Versions/3.8/lib/python3.8/threading.py\", line 932, in _bootstrap_inner\n",
      "    self.run()\n",
      "  File \"/Library/Developer/CommandLineTools/Library/Frameworks/Python3.framework/Versions/3.8/lib/python3.8/threading.py\", line 870, in run\n",
      "    self._target(*self._args, **self._kwargs)\n",
      "  File \"/Users/dp_user/PycharmProjects/portal_da/venv/lib/python3.8/site-packages/rosreestr2coord/merge_tiles.py\", line 37, in task_wrapper\n",
      "    result.put(target(*args))\n",
      "  File \"/Users/dp_user/PycharmProjects/portal_da/venv/lib/python3.8/site-packages/rosreestr2coord/merge_tiles.py\", line 331, in fetch_tile\n",
      "    img = self.get_image(x, y)\n",
      "  File \"/Users/dp_user/PycharmProjects/portal_da/venv/lib/python3.8/site-packages/rosreestr2coord/merge_tiles.py\", line 469, in get_image\n",
      "    data = self._load_image_data(meta_url, cache_path)\n",
      "  File \"/Users/dp_user/PycharmProjects/portal_da/venv/lib/python3.8/site-packages/rosreestr2coord/merge_tiles.py\", line 483, in _load_image_data\n",
      "    data = json.loads(response.decode(\"utf-8\"))\n",
      "AttributeError: 'bool' object has no attribute 'decode'\n",
      "Exception in thread Thread-441:\n",
      "Traceback (most recent call last):\n",
      "  File \"/Library/Developer/CommandLineTools/Library/Frameworks/Python3.framework/Versions/3.8/lib/python3.8/threading.py\", line 932, in _bootstrap_inner\n",
      "    self.run()\n",
      "  File \"/Library/Developer/CommandLineTools/Library/Frameworks/Python3.framework/Versions/3.8/lib/python3.8/threading.py\", line 870, in run\n",
      "    self._target(*self._args, **self._kwargs)\n",
      "  File \"/Users/dp_user/PycharmProjects/portal_da/venv/lib/python3.8/site-packages/rosreestr2coord/merge_tiles.py\", line 37, in task_wrapper\n",
      "    result.put(target(*args))\n",
      "  File \"/Users/dp_user/PycharmProjects/portal_da/venv/lib/python3.8/site-packages/rosreestr2coord/merge_tiles.py\", line 331, in fetch_tile\n",
      "    img = self.get_image(x, y)\n",
      "  File \"/Users/dp_user/PycharmProjects/portal_da/venv/lib/python3.8/site-packages/rosreestr2coord/merge_tiles.py\", line 469, in get_image\n",
      "    data = self._load_image_data(meta_url, cache_path)\n",
      "  File \"/Users/dp_user/PycharmProjects/portal_da/venv/lib/python3.8/site-packages/rosreestr2coord/merge_tiles.py\", line 483, in _load_image_data\n",
      "    data = json.loads(response.decode(\"utf-8\"))\n",
      "AttributeError: 'bool' object has no attribute 'decode'\n",
      "Exception in thread Thread-444:\n",
      "Traceback (most recent call last):\n",
      "  File \"/Library/Developer/CommandLineTools/Library/Frameworks/Python3.framework/Versions/3.8/lib/python3.8/threading.py\", line 932, in _bootstrap_inner\n",
      "    self.run()\n",
      "  File \"/Library/Developer/CommandLineTools/Library/Frameworks/Python3.framework/Versions/3.8/lib/python3.8/threading.py\", line 870, in run\n",
      "    self._target(*self._args, **self._kwargs)\n",
      "  File \"/Users/dp_user/PycharmProjects/portal_da/venv/lib/python3.8/site-packages/rosreestr2coord/merge_tiles.py\", line 37, in task_wrapper\n",
      "    result.put(target(*args))\n",
      "  File \"/Users/dp_user/PycharmProjects/portal_da/venv/lib/python3.8/site-packages/rosreestr2coord/merge_tiles.py\", line 331, in fetch_tile\n",
      "    img = self.get_image(x, y)\n",
      "  File \"/Users/dp_user/PycharmProjects/portal_da/venv/lib/python3.8/site-packages/rosreestr2coord/merge_tiles.py\", line 469, in get_image\n",
      "    data = self._load_image_data(meta_url, cache_path)\n",
      "  File \"/Users/dp_user/PycharmProjects/portal_da/venv/lib/python3.8/site-packages/rosreestr2coord/merge_tiles.py\", line 483, in _load_image_data\n",
      "    data = json.loads(response.decode(\"utf-8\"))\n",
      "AttributeError: 'bool' object has no attribute 'decode'\n",
      "Exception in thread Thread-448:\n",
      "Traceback (most recent call last):\n",
      "  File \"/Library/Developer/CommandLineTools/Library/Frameworks/Python3.framework/Versions/3.8/lib/python3.8/threading.py\", line 932, in _bootstrap_inner\n",
      "    self.run()\n",
      "  File \"/Library/Developer/CommandLineTools/Library/Frameworks/Python3.framework/Versions/3.8/lib/python3.8/threading.py\", line 870, in run\n",
      "    self._target(*self._args, **self._kwargs)\n",
      "  File \"/Users/dp_user/PycharmProjects/portal_da/venv/lib/python3.8/site-packages/rosreestr2coord/merge_tiles.py\", line 37, in task_wrapper\n",
      "    result.put(target(*args))\n",
      "  File \"/Users/dp_user/PycharmProjects/portal_da/venv/lib/python3.8/site-packages/rosreestr2coord/merge_tiles.py\", line 331, in fetch_tile\n",
      "    img = self.get_image(x, y)\n",
      "  File \"/Users/dp_user/PycharmProjects/portal_da/venv/lib/python3.8/site-packages/rosreestr2coord/merge_tiles.py\", line 469, in get_image\n",
      "    data = self._load_image_data(meta_url, cache_path)\n",
      "  File \"/Users/dp_user/PycharmProjects/portal_da/venv/lib/python3.8/site-packages/rosreestr2coord/merge_tiles.py\", line 483, in _load_image_data\n",
      "    data = json.loads(response.decode(\"utf-8\"))\n",
      "AttributeError: 'bool' object has no attribute 'decode'\n",
      "Exception in thread Thread-453:\n",
      "Traceback (most recent call last):\n",
      "  File \"/Library/Developer/CommandLineTools/Library/Frameworks/Python3.framework/Versions/3.8/lib/python3.8/threading.py\", line 932, in _bootstrap_inner\n",
      "    self.run()\n",
      "  File \"/Library/Developer/CommandLineTools/Library/Frameworks/Python3.framework/Versions/3.8/lib/python3.8/threading.py\", line 870, in run\n",
      "    self._target(*self._args, **self._kwargs)\n",
      "  File \"/Users/dp_user/PycharmProjects/portal_da/venv/lib/python3.8/site-packages/rosreestr2coord/merge_tiles.py\", line 37, in task_wrapper\n",
      "    result.put(target(*args))\n",
      "  File \"/Users/dp_user/PycharmProjects/portal_da/venv/lib/python3.8/site-packages/rosreestr2coord/merge_tiles.py\", line 331, in fetch_tile\n",
      "    img = self.get_image(x, y)\n",
      "  File \"/Users/dp_user/PycharmProjects/portal_da/venv/lib/python3.8/site-packages/rosreestr2coord/merge_tiles.py\", line 469, in get_image\n",
      "    data = self._load_image_data(meta_url, cache_path)\n",
      "  File \"/Users/dp_user/PycharmProjects/portal_da/venv/lib/python3.8/site-packages/rosreestr2coord/merge_tiles.py\", line 483, in _load_image_data\n",
      "    data = json.loads(response.decode(\"utf-8\"))\n",
      "AttributeError: 'bool' object has no attribute 'decode'\n",
      "Exception in thread Thread-454:\n",
      "Traceback (most recent call last):\n",
      "  File \"/Library/Developer/CommandLineTools/Library/Frameworks/Python3.framework/Versions/3.8/lib/python3.8/threading.py\", line 932, in _bootstrap_inner\n",
      "    self.run()\n",
      "  File \"/Library/Developer/CommandLineTools/Library/Frameworks/Python3.framework/Versions/3.8/lib/python3.8/threading.py\", line 870, in run\n",
      "    self._target(*self._args, **self._kwargs)\n",
      "  File \"/Users/dp_user/PycharmProjects/portal_da/venv/lib/python3.8/site-packages/rosreestr2coord/merge_tiles.py\", line 37, in task_wrapper\n",
      "    result.put(target(*args))\n",
      "  File \"/Users/dp_user/PycharmProjects/portal_da/venv/lib/python3.8/site-packages/rosreestr2coord/merge_tiles.py\", line 331, in fetch_tile\n",
      "    img = self.get_image(x, y)\n",
      "  File \"/Users/dp_user/PycharmProjects/portal_da/venv/lib/python3.8/site-packages/rosreestr2coord/merge_tiles.py\", line 469, in get_image\n",
      "    data = self._load_image_data(meta_url, cache_path)\n",
      "  File \"/Users/dp_user/PycharmProjects/portal_da/venv/lib/python3.8/site-packages/rosreestr2coord/merge_tiles.py\", line 483, in _load_image_data\n",
      "    data = json.loads(response.decode(\"utf-8\"))\n",
      "AttributeError: 'bool' object has no attribute 'decode'\n",
      "Exception in thread Thread-458:\n",
      "Traceback (most recent call last):\n",
      "  File \"/Library/Developer/CommandLineTools/Library/Frameworks/Python3.framework/Versions/3.8/lib/python3.8/threading.py\", line 932, in _bootstrap_inner\n",
      "    self.run()\n",
      "  File \"/Library/Developer/CommandLineTools/Library/Frameworks/Python3.framework/Versions/3.8/lib/python3.8/threading.py\", line 870, in run\n",
      "    self._target(*self._args, **self._kwargs)\n",
      "  File \"/Users/dp_user/PycharmProjects/portal_da/venv/lib/python3.8/site-packages/rosreestr2coord/merge_tiles.py\", line 37, in task_wrapper\n",
      "    result.put(target(*args))\n",
      "  File \"/Users/dp_user/PycharmProjects/portal_da/venv/lib/python3.8/site-packages/rosreestr2coord/merge_tiles.py\", line 331, in fetch_tile\n",
      "    img = self.get_image(x, y)\n",
      "  File \"/Users/dp_user/PycharmProjects/portal_da/venv/lib/python3.8/site-packages/rosreestr2coord/merge_tiles.py\", line 469, in get_image\n",
      "    data = self._load_image_data(meta_url, cache_path)\n",
      "  File \"/Users/dp_user/PycharmProjects/portal_da/venv/lib/python3.8/site-packages/rosreestr2coord/merge_tiles.py\", line 483, in _load_image_data\n",
      "    data = json.loads(response.decode(\"utf-8\"))\n",
      "AttributeError: 'bool' object has no attribute 'decode'\n",
      "Exception in thread Thread-459:\n",
      "Traceback (most recent call last):\n",
      "  File \"/Library/Developer/CommandLineTools/Library/Frameworks/Python3.framework/Versions/3.8/lib/python3.8/threading.py\", line 932, in _bootstrap_inner\n",
      "    self.run()\n",
      "  File \"/Library/Developer/CommandLineTools/Library/Frameworks/Python3.framework/Versions/3.8/lib/python3.8/threading.py\", line 870, in run\n",
      "    self._target(*self._args, **self._kwargs)\n",
      "  File \"/Users/dp_user/PycharmProjects/portal_da/venv/lib/python3.8/site-packages/rosreestr2coord/merge_tiles.py\", line 37, in task_wrapper\n",
      "    result.put(target(*args))\n",
      "  File \"/Users/dp_user/PycharmProjects/portal_da/venv/lib/python3.8/site-packages/rosreestr2coord/merge_tiles.py\", line 331, in fetch_tile\n",
      "    img = self.get_image(x, y)\n",
      "  File \"/Users/dp_user/PycharmProjects/portal_da/venv/lib/python3.8/site-packages/rosreestr2coord/merge_tiles.py\", line 469, in get_image\n",
      "    data = self._load_image_data(meta_url, cache_path)\n",
      "  File \"/Users/dp_user/PycharmProjects/portal_da/venv/lib/python3.8/site-packages/rosreestr2coord/merge_tiles.py\", line 483, in _load_image_data\n",
      "    data = json.loads(response.decode(\"utf-8\"))\n",
      "AttributeError: 'bool' object has no attribute 'decode'\n",
      "Exception in thread Thread-460:\n",
      "Traceback (most recent call last):\n",
      "  File \"/Library/Developer/CommandLineTools/Library/Frameworks/Python3.framework/Versions/3.8/lib/python3.8/threading.py\", line 932, in _bootstrap_inner\n",
      "    self.run()\n",
      "  File \"/Library/Developer/CommandLineTools/Library/Frameworks/Python3.framework/Versions/3.8/lib/python3.8/threading.py\", line 870, in run\n",
      "    self._target(*self._args, **self._kwargs)\n",
      "  File \"/Users/dp_user/PycharmProjects/portal_da/venv/lib/python3.8/site-packages/rosreestr2coord/merge_tiles.py\", line 37, in task_wrapper\n",
      "    result.put(target(*args))\n",
      "  File \"/Users/dp_user/PycharmProjects/portal_da/venv/lib/python3.8/site-packages/rosreestr2coord/merge_tiles.py\", line 331, in fetch_tile\n",
      "    img = self.get_image(x, y)\n",
      "  File \"/Users/dp_user/PycharmProjects/portal_da/venv/lib/python3.8/site-packages/rosreestr2coord/merge_tiles.py\", line 469, in get_image\n",
      "    data = self._load_image_data(meta_url, cache_path)\n",
      "  File \"/Users/dp_user/PycharmProjects/portal_da/venv/lib/python3.8/site-packages/rosreestr2coord/merge_tiles.py\", line 483, in _load_image_data\n",
      "    data = json.loads(response.decode(\"utf-8\"))\n",
      "AttributeError: 'bool' object has no attribute 'decode'\n",
      "Exception in thread Thread-462:\n",
      "Traceback (most recent call last):\n",
      "  File \"/Library/Developer/CommandLineTools/Library/Frameworks/Python3.framework/Versions/3.8/lib/python3.8/threading.py\", line 932, in _bootstrap_inner\n",
      "    self.run()\n",
      "  File \"/Library/Developer/CommandLineTools/Library/Frameworks/Python3.framework/Versions/3.8/lib/python3.8/threading.py\", line 870, in run\n",
      "    self._target(*self._args, **self._kwargs)\n",
      "  File \"/Users/dp_user/PycharmProjects/portal_da/venv/lib/python3.8/site-packages/rosreestr2coord/merge_tiles.py\", line 37, in task_wrapper\n",
      "    result.put(target(*args))\n",
      "  File \"/Users/dp_user/PycharmProjects/portal_da/venv/lib/python3.8/site-packages/rosreestr2coord/merge_tiles.py\", line 331, in fetch_tile\n",
      "    img = self.get_image(x, y)\n",
      "  File \"/Users/dp_user/PycharmProjects/portal_da/venv/lib/python3.8/site-packages/rosreestr2coord/merge_tiles.py\", line 469, in get_image\n",
      "    data = self._load_image_data(meta_url, cache_path)\n",
      "  File \"/Users/dp_user/PycharmProjects/portal_da/venv/lib/python3.8/site-packages/rosreestr2coord/merge_tiles.py\", line 483, in _load_image_data\n",
      "    data = json.loads(response.decode(\"utf-8\"))\n",
      "AttributeError: 'bool' object has no attribute 'decode'\n",
      "Exception in thread Thread-466:\n",
      "Traceback (most recent call last):\n",
      "  File \"/Library/Developer/CommandLineTools/Library/Frameworks/Python3.framework/Versions/3.8/lib/python3.8/threading.py\", line 932, in _bootstrap_inner\n",
      "    self.run()\n",
      "  File \"/Library/Developer/CommandLineTools/Library/Frameworks/Python3.framework/Versions/3.8/lib/python3.8/threading.py\", line 870, in run\n",
      "    self._target(*self._args, **self._kwargs)\n",
      "  File \"/Users/dp_user/PycharmProjects/portal_da/venv/lib/python3.8/site-packages/rosreestr2coord/merge_tiles.py\", line 37, in task_wrapper\n",
      "    result.put(target(*args))\n",
      "  File \"/Users/dp_user/PycharmProjects/portal_da/venv/lib/python3.8/site-packages/rosreestr2coord/merge_tiles.py\", line 331, in fetch_tile\n",
      "    img = self.get_image(x, y)\n",
      "  File \"/Users/dp_user/PycharmProjects/portal_da/venv/lib/python3.8/site-packages/rosreestr2coord/merge_tiles.py\", line 469, in get_image\n",
      "    data = self._load_image_data(meta_url, cache_path)\n",
      "  File \"/Users/dp_user/PycharmProjects/portal_da/venv/lib/python3.8/site-packages/rosreestr2coord/merge_tiles.py\", line 483, in _load_image_data\n",
      "    data = json.loads(response.decode(\"utf-8\"))\n",
      "AttributeError: 'bool' object has no attribute 'decode'\n",
      "Exception in thread Thread-468:\n",
      "Traceback (most recent call last):\n",
      "  File \"/Library/Developer/CommandLineTools/Library/Frameworks/Python3.framework/Versions/3.8/lib/python3.8/threading.py\", line 932, in _bootstrap_inner\n",
      "    self.run()\n",
      "  File \"/Library/Developer/CommandLineTools/Library/Frameworks/Python3.framework/Versions/3.8/lib/python3.8/threading.py\", line 870, in run\n",
      "    self._target(*self._args, **self._kwargs)\n",
      "  File \"/Users/dp_user/PycharmProjects/portal_da/venv/lib/python3.8/site-packages/rosreestr2coord/merge_tiles.py\", line 37, in task_wrapper\n",
      "    result.put(target(*args))\n",
      "  File \"/Users/dp_user/PycharmProjects/portal_da/venv/lib/python3.8/site-packages/rosreestr2coord/merge_tiles.py\", line 331, in fetch_tile\n",
      "    img = self.get_image(x, y)\n",
      "  File \"/Users/dp_user/PycharmProjects/portal_da/venv/lib/python3.8/site-packages/rosreestr2coord/merge_tiles.py\", line 469, in get_image\n",
      "    data = self._load_image_data(meta_url, cache_path)\n",
      "  File \"/Users/dp_user/PycharmProjects/portal_da/venv/lib/python3.8/site-packages/rosreestr2coord/merge_tiles.py\", line 483, in _load_image_data\n",
      "    data = json.loads(response.decode(\"utf-8\"))\n",
      "AttributeError: 'bool' object has no attribute 'decode'\n",
      "Exception in thread Thread-470:\n",
      "Traceback (most recent call last):\n",
      "  File \"/Library/Developer/CommandLineTools/Library/Frameworks/Python3.framework/Versions/3.8/lib/python3.8/threading.py\", line 932, in _bootstrap_inner\n",
      "    self.run()\n",
      "  File \"/Library/Developer/CommandLineTools/Library/Frameworks/Python3.framework/Versions/3.8/lib/python3.8/threading.py\", line 870, in run\n",
      "    self._target(*self._args, **self._kwargs)\n",
      "  File \"/Users/dp_user/PycharmProjects/portal_da/venv/lib/python3.8/site-packages/rosreestr2coord/merge_tiles.py\", line 37, in task_wrapper\n",
      "    result.put(target(*args))\n",
      "  File \"/Users/dp_user/PycharmProjects/portal_da/venv/lib/python3.8/site-packages/rosreestr2coord/merge_tiles.py\", line 331, in fetch_tile\n",
      "    img = self.get_image(x, y)\n",
      "  File \"/Users/dp_user/PycharmProjects/portal_da/venv/lib/python3.8/site-packages/rosreestr2coord/merge_tiles.py\", line 469, in get_image\n",
      "    data = self._load_image_data(meta_url, cache_path)\n",
      "  File \"/Users/dp_user/PycharmProjects/portal_da/venv/lib/python3.8/site-packages/rosreestr2coord/merge_tiles.py\", line 483, in _load_image_data\n",
      "    data = json.loads(response.decode(\"utf-8\"))\n",
      "AttributeError: 'bool' object has no attribute 'decode'\n",
      "Exception in thread Thread-476:\n",
      "Traceback (most recent call last):\n",
      "  File \"/Library/Developer/CommandLineTools/Library/Frameworks/Python3.framework/Versions/3.8/lib/python3.8/threading.py\", line 932, in _bootstrap_inner\n",
      "    self.run()\n",
      "  File \"/Library/Developer/CommandLineTools/Library/Frameworks/Python3.framework/Versions/3.8/lib/python3.8/threading.py\", line 870, in run\n",
      "    self._target(*self._args, **self._kwargs)\n",
      "  File \"/Users/dp_user/PycharmProjects/portal_da/venv/lib/python3.8/site-packages/rosreestr2coord/merge_tiles.py\", line 37, in task_wrapper\n",
      "    result.put(target(*args))\n",
      "  File \"/Users/dp_user/PycharmProjects/portal_da/venv/lib/python3.8/site-packages/rosreestr2coord/merge_tiles.py\", line 331, in fetch_tile\n",
      "    img = self.get_image(x, y)\n",
      "  File \"/Users/dp_user/PycharmProjects/portal_da/venv/lib/python3.8/site-packages/rosreestr2coord/merge_tiles.py\", line 469, in get_image\n",
      "    data = self._load_image_data(meta_url, cache_path)\n",
      "  File \"/Users/dp_user/PycharmProjects/portal_da/venv/lib/python3.8/site-packages/rosreestr2coord/merge_tiles.py\", line 483, in _load_image_data\n",
      "    data = json.loads(response.decode(\"utf-8\"))\n",
      "AttributeError: 'bool' object has no attribute 'decode'\n",
      "Exception in thread Thread-477:\n",
      "Traceback (most recent call last):\n",
      "  File \"/Library/Developer/CommandLineTools/Library/Frameworks/Python3.framework/Versions/3.8/lib/python3.8/threading.py\", line 932, in _bootstrap_inner\n",
      "    self.run()\n",
      "  File \"/Library/Developer/CommandLineTools/Library/Frameworks/Python3.framework/Versions/3.8/lib/python3.8/threading.py\", line 870, in run\n",
      "    self._target(*self._args, **self._kwargs)\n",
      "  File \"/Users/dp_user/PycharmProjects/portal_da/venv/lib/python3.8/site-packages/rosreestr2coord/merge_tiles.py\", line 37, in task_wrapper\n",
      "    result.put(target(*args))\n",
      "  File \"/Users/dp_user/PycharmProjects/portal_da/venv/lib/python3.8/site-packages/rosreestr2coord/merge_tiles.py\", line 331, in fetch_tile\n",
      "    img = self.get_image(x, y)\n",
      "  File \"/Users/dp_user/PycharmProjects/portal_da/venv/lib/python3.8/site-packages/rosreestr2coord/merge_tiles.py\", line 469, in get_image\n",
      "    data = self._load_image_data(meta_url, cache_path)\n",
      "  File \"/Users/dp_user/PycharmProjects/portal_da/venv/lib/python3.8/site-packages/rosreestr2coord/merge_tiles.py\", line 483, in _load_image_data\n",
      "    data = json.loads(response.decode(\"utf-8\"))\n",
      "AttributeError: 'bool' object has no attribute 'decode'\n",
      "Exception in thread Thread-481:\n",
      "Traceback (most recent call last):\n",
      "  File \"/Library/Developer/CommandLineTools/Library/Frameworks/Python3.framework/Versions/3.8/lib/python3.8/threading.py\", line 932, in _bootstrap_inner\n",
      "    self.run()\n",
      "  File \"/Library/Developer/CommandLineTools/Library/Frameworks/Python3.framework/Versions/3.8/lib/python3.8/threading.py\", line 870, in run\n",
      "    self._target(*self._args, **self._kwargs)\n",
      "  File \"/Users/dp_user/PycharmProjects/portal_da/venv/lib/python3.8/site-packages/rosreestr2coord/merge_tiles.py\", line 37, in task_wrapper\n",
      "    result.put(target(*args))\n",
      "  File \"/Users/dp_user/PycharmProjects/portal_da/venv/lib/python3.8/site-packages/rosreestr2coord/merge_tiles.py\", line 331, in fetch_tile\n",
      "    img = self.get_image(x, y)\n",
      "  File \"/Users/dp_user/PycharmProjects/portal_da/venv/lib/python3.8/site-packages/rosreestr2coord/merge_tiles.py\", line 469, in get_image\n",
      "    data = self._load_image_data(meta_url, cache_path)\n",
      "  File \"/Users/dp_user/PycharmProjects/portal_da/venv/lib/python3.8/site-packages/rosreestr2coord/merge_tiles.py\", line 483, in _load_image_data\n",
      "    data = json.loads(response.decode(\"utf-8\"))\n",
      "AttributeError: 'bool' object has no attribute 'decode'\n",
      "Exception in thread Thread-483:\n",
      "Traceback (most recent call last):\n",
      "  File \"/Library/Developer/CommandLineTools/Library/Frameworks/Python3.framework/Versions/3.8/lib/python3.8/threading.py\", line 932, in _bootstrap_inner\n",
      "    self.run()\n",
      "  File \"/Library/Developer/CommandLineTools/Library/Frameworks/Python3.framework/Versions/3.8/lib/python3.8/threading.py\", line 870, in run\n",
      "    self._target(*self._args, **self._kwargs)\n",
      "  File \"/Users/dp_user/PycharmProjects/portal_da/venv/lib/python3.8/site-packages/rosreestr2coord/merge_tiles.py\", line 37, in task_wrapper\n",
      "    result.put(target(*args))\n",
      "  File \"/Users/dp_user/PycharmProjects/portal_da/venv/lib/python3.8/site-packages/rosreestr2coord/merge_tiles.py\", line 331, in fetch_tile\n",
      "    img = self.get_image(x, y)\n",
      "  File \"/Users/dp_user/PycharmProjects/portal_da/venv/lib/python3.8/site-packages/rosreestr2coord/merge_tiles.py\", line 469, in get_image\n",
      "    data = self._load_image_data(meta_url, cache_path)\n",
      "  File \"/Users/dp_user/PycharmProjects/portal_da/venv/lib/python3.8/site-packages/rosreestr2coord/merge_tiles.py\", line 483, in _load_image_data\n",
      "    data = json.loads(response.decode(\"utf-8\"))\n",
      "AttributeError: 'bool' object has no attribute 'decode'\n",
      "Exception in thread Thread-485:\n",
      "Traceback (most recent call last):\n",
      "  File \"/Library/Developer/CommandLineTools/Library/Frameworks/Python3.framework/Versions/3.8/lib/python3.8/threading.py\", line 932, in _bootstrap_inner\n",
      "    self.run()\n",
      "  File \"/Library/Developer/CommandLineTools/Library/Frameworks/Python3.framework/Versions/3.8/lib/python3.8/threading.py\", line 870, in run\n",
      "    self._target(*self._args, **self._kwargs)\n",
      "  File \"/Users/dp_user/PycharmProjects/portal_da/venv/lib/python3.8/site-packages/rosreestr2coord/merge_tiles.py\", line 37, in task_wrapper\n",
      "    result.put(target(*args))\n",
      "  File \"/Users/dp_user/PycharmProjects/portal_da/venv/lib/python3.8/site-packages/rosreestr2coord/merge_tiles.py\", line 331, in fetch_tile\n",
      "    img = self.get_image(x, y)\n",
      "  File \"/Users/dp_user/PycharmProjects/portal_da/venv/lib/python3.8/site-packages/rosreestr2coord/merge_tiles.py\", line 469, in get_image\n",
      "    data = self._load_image_data(meta_url, cache_path)\n",
      "  File \"/Users/dp_user/PycharmProjects/portal_da/venv/lib/python3.8/site-packages/rosreestr2coord/merge_tiles.py\", line 483, in _load_image_data\n",
      "    data = json.loads(response.decode(\"utf-8\"))\n",
      "AttributeError: 'bool' object has no attribute 'decode'\n",
      "Exception in thread Thread-487:\n",
      "Traceback (most recent call last):\n",
      "  File \"/Library/Developer/CommandLineTools/Library/Frameworks/Python3.framework/Versions/3.8/lib/python3.8/threading.py\", line 932, in _bootstrap_inner\n",
      "    self.run()\n",
      "  File \"/Library/Developer/CommandLineTools/Library/Frameworks/Python3.framework/Versions/3.8/lib/python3.8/threading.py\", line 870, in run\n",
      "    self._target(*self._args, **self._kwargs)\n",
      "  File \"/Users/dp_user/PycharmProjects/portal_da/venv/lib/python3.8/site-packages/rosreestr2coord/merge_tiles.py\", line 37, in task_wrapper\n",
      "    result.put(target(*args))\n",
      "  File \"/Users/dp_user/PycharmProjects/portal_da/venv/lib/python3.8/site-packages/rosreestr2coord/merge_tiles.py\", line 331, in fetch_tile\n",
      "    img = self.get_image(x, y)\n",
      "  File \"/Users/dp_user/PycharmProjects/portal_da/venv/lib/python3.8/site-packages/rosreestr2coord/merge_tiles.py\", line 469, in get_image\n",
      "    data = self._load_image_data(meta_url, cache_path)\n",
      "  File \"/Users/dp_user/PycharmProjects/portal_da/venv/lib/python3.8/site-packages/rosreestr2coord/merge_tiles.py\", line 483, in _load_image_data\n",
      "    data = json.loads(response.decode(\"utf-8\"))\n",
      "AttributeError: 'bool' object has no attribute 'decode'\n",
      "Exception in thread Thread-489:\n",
      "Traceback (most recent call last):\n",
      "  File \"/Library/Developer/CommandLineTools/Library/Frameworks/Python3.framework/Versions/3.8/lib/python3.8/threading.py\", line 932, in _bootstrap_inner\n",
      "    self.run()\n",
      "  File \"/Library/Developer/CommandLineTools/Library/Frameworks/Python3.framework/Versions/3.8/lib/python3.8/threading.py\", line 870, in run\n",
      "    self._target(*self._args, **self._kwargs)\n",
      "  File \"/Users/dp_user/PycharmProjects/portal_da/venv/lib/python3.8/site-packages/rosreestr2coord/merge_tiles.py\", line 37, in task_wrapper\n",
      "    result.put(target(*args))\n",
      "  File \"/Users/dp_user/PycharmProjects/portal_da/venv/lib/python3.8/site-packages/rosreestr2coord/merge_tiles.py\", line 331, in fetch_tile\n",
      "    img = self.get_image(x, y)\n",
      "  File \"/Users/dp_user/PycharmProjects/portal_da/venv/lib/python3.8/site-packages/rosreestr2coord/merge_tiles.py\", line 469, in get_image\n",
      "    data = self._load_image_data(meta_url, cache_path)\n",
      "  File \"/Users/dp_user/PycharmProjects/portal_da/venv/lib/python3.8/site-packages/rosreestr2coord/merge_tiles.py\", line 483, in _load_image_data\n",
      "    data = json.loads(response.decode(\"utf-8\"))\n",
      "AttributeError: 'bool' object has no attribute 'decode'\n",
      "Exception in thread Thread-491:\n",
      "Traceback (most recent call last):\n",
      "  File \"/Library/Developer/CommandLineTools/Library/Frameworks/Python3.framework/Versions/3.8/lib/python3.8/threading.py\", line 932, in _bootstrap_inner\n",
      "    self.run()\n",
      "  File \"/Library/Developer/CommandLineTools/Library/Frameworks/Python3.framework/Versions/3.8/lib/python3.8/threading.py\", line 870, in run\n",
      "    self._target(*self._args, **self._kwargs)\n",
      "  File \"/Users/dp_user/PycharmProjects/portal_da/venv/lib/python3.8/site-packages/rosreestr2coord/merge_tiles.py\", line 37, in task_wrapper\n",
      "    result.put(target(*args))\n",
      "  File \"/Users/dp_user/PycharmProjects/portal_da/venv/lib/python3.8/site-packages/rosreestr2coord/merge_tiles.py\", line 331, in fetch_tile\n",
      "    img = self.get_image(x, y)\n",
      "  File \"/Users/dp_user/PycharmProjects/portal_da/venv/lib/python3.8/site-packages/rosreestr2coord/merge_tiles.py\", line 469, in get_image\n",
      "    data = self._load_image_data(meta_url, cache_path)\n",
      "  File \"/Users/dp_user/PycharmProjects/portal_da/venv/lib/python3.8/site-packages/rosreestr2coord/merge_tiles.py\", line 483, in _load_image_data\n",
      "    data = json.loads(response.decode(\"utf-8\"))\n",
      "AttributeError: 'bool' object has no attribute 'decode'\n",
      "Exception in thread Thread-494:\n",
      "Traceback (most recent call last):\n",
      "  File \"/Library/Developer/CommandLineTools/Library/Frameworks/Python3.framework/Versions/3.8/lib/python3.8/threading.py\", line 932, in _bootstrap_inner\n",
      "    self.run()\n",
      "  File \"/Library/Developer/CommandLineTools/Library/Frameworks/Python3.framework/Versions/3.8/lib/python3.8/threading.py\", line 870, in run\n",
      "    self._target(*self._args, **self._kwargs)\n",
      "  File \"/Users/dp_user/PycharmProjects/portal_da/venv/lib/python3.8/site-packages/rosreestr2coord/merge_tiles.py\", line 37, in task_wrapper\n",
      "    result.put(target(*args))\n",
      "  File \"/Users/dp_user/PycharmProjects/portal_da/venv/lib/python3.8/site-packages/rosreestr2coord/merge_tiles.py\", line 331, in fetch_tile\n",
      "    img = self.get_image(x, y)\n",
      "  File \"/Users/dp_user/PycharmProjects/portal_da/venv/lib/python3.8/site-packages/rosreestr2coord/merge_tiles.py\", line 469, in get_image\n",
      "    data = self._load_image_data(meta_url, cache_path)\n",
      "  File \"/Users/dp_user/PycharmProjects/portal_da/venv/lib/python3.8/site-packages/rosreestr2coord/merge_tiles.py\", line 483, in _load_image_data\n",
      "    data = json.loads(response.decode(\"utf-8\"))\n",
      "AttributeError: 'bool' object has no attribute 'decode'\n",
      "Exception in thread Thread-496:\n",
      "Traceback (most recent call last):\n",
      "  File \"/Library/Developer/CommandLineTools/Library/Frameworks/Python3.framework/Versions/3.8/lib/python3.8/threading.py\", line 932, in _bootstrap_inner\n",
      "    self.run()\n",
      "  File \"/Library/Developer/CommandLineTools/Library/Frameworks/Python3.framework/Versions/3.8/lib/python3.8/threading.py\", line 870, in run\n",
      "    self._target(*self._args, **self._kwargs)\n",
      "  File \"/Users/dp_user/PycharmProjects/portal_da/venv/lib/python3.8/site-packages/rosreestr2coord/merge_tiles.py\", line 37, in task_wrapper\n",
      "    result.put(target(*args))\n",
      "  File \"/Users/dp_user/PycharmProjects/portal_da/venv/lib/python3.8/site-packages/rosreestr2coord/merge_tiles.py\", line 331, in fetch_tile\n",
      "    img = self.get_image(x, y)\n",
      "  File \"/Users/dp_user/PycharmProjects/portal_da/venv/lib/python3.8/site-packages/rosreestr2coord/merge_tiles.py\", line 469, in get_image\n",
      "    data = self._load_image_data(meta_url, cache_path)\n",
      "  File \"/Users/dp_user/PycharmProjects/portal_da/venv/lib/python3.8/site-packages/rosreestr2coord/merge_tiles.py\", line 483, in _load_image_data\n",
      "    data = json.loads(response.decode(\"utf-8\"))\n",
      "AttributeError: 'bool' object has no attribute 'decode'\n",
      "Exception in thread Thread-500:\n",
      "Traceback (most recent call last):\n",
      "  File \"/Library/Developer/CommandLineTools/Library/Frameworks/Python3.framework/Versions/3.8/lib/python3.8/threading.py\", line 932, in _bootstrap_inner\n",
      "    self.run()\n",
      "  File \"/Library/Developer/CommandLineTools/Library/Frameworks/Python3.framework/Versions/3.8/lib/python3.8/threading.py\", line 870, in run\n",
      "    self._target(*self._args, **self._kwargs)\n",
      "  File \"/Users/dp_user/PycharmProjects/portal_da/venv/lib/python3.8/site-packages/rosreestr2coord/merge_tiles.py\", line 37, in task_wrapper\n",
      "    result.put(target(*args))\n",
      "  File \"/Users/dp_user/PycharmProjects/portal_da/venv/lib/python3.8/site-packages/rosreestr2coord/merge_tiles.py\", line 331, in fetch_tile\n",
      "    img = self.get_image(x, y)\n",
      "  File \"/Users/dp_user/PycharmProjects/portal_da/venv/lib/python3.8/site-packages/rosreestr2coord/merge_tiles.py\", line 469, in get_image\n",
      "    data = self._load_image_data(meta_url, cache_path)\n",
      "  File \"/Users/dp_user/PycharmProjects/portal_da/venv/lib/python3.8/site-packages/rosreestr2coord/merge_tiles.py\", line 483, in _load_image_data\n",
      "    data = json.loads(response.decode(\"utf-8\"))\n",
      "AttributeError: 'bool' object has no attribute 'decode'\n",
      "Exception in thread Thread-503:\n",
      "Traceback (most recent call last):\n",
      "  File \"/Library/Developer/CommandLineTools/Library/Frameworks/Python3.framework/Versions/3.8/lib/python3.8/threading.py\", line 932, in _bootstrap_inner\n",
      "    self.run()\n",
      "  File \"/Library/Developer/CommandLineTools/Library/Frameworks/Python3.framework/Versions/3.8/lib/python3.8/threading.py\", line 870, in run\n",
      "    self._target(*self._args, **self._kwargs)\n",
      "  File \"/Users/dp_user/PycharmProjects/portal_da/venv/lib/python3.8/site-packages/rosreestr2coord/merge_tiles.py\", line 37, in task_wrapper\n",
      "    result.put(target(*args))\n",
      "  File \"/Users/dp_user/PycharmProjects/portal_da/venv/lib/python3.8/site-packages/rosreestr2coord/merge_tiles.py\", line 331, in fetch_tile\n",
      "    img = self.get_image(x, y)\n",
      "  File \"/Users/dp_user/PycharmProjects/portal_da/venv/lib/python3.8/site-packages/rosreestr2coord/merge_tiles.py\", line 469, in get_image\n",
      "    data = self._load_image_data(meta_url, cache_path)\n",
      "  File \"/Users/dp_user/PycharmProjects/portal_da/venv/lib/python3.8/site-packages/rosreestr2coord/merge_tiles.py\", line 483, in _load_image_data\n",
      "    data = json.loads(response.decode(\"utf-8\"))\n",
      "AttributeError: 'bool' object has no attribute 'decode'\n",
      "Exception in thread Thread-508:\n",
      "Traceback (most recent call last):\n",
      "  File \"/Library/Developer/CommandLineTools/Library/Frameworks/Python3.framework/Versions/3.8/lib/python3.8/threading.py\", line 932, in _bootstrap_inner\n",
      "    self.run()\n",
      "  File \"/Library/Developer/CommandLineTools/Library/Frameworks/Python3.framework/Versions/3.8/lib/python3.8/threading.py\", line 870, in run\n",
      "    self._target(*self._args, **self._kwargs)\n",
      "  File \"/Users/dp_user/PycharmProjects/portal_da/venv/lib/python3.8/site-packages/rosreestr2coord/merge_tiles.py\", line 37, in task_wrapper\n",
      "    result.put(target(*args))\n",
      "  File \"/Users/dp_user/PycharmProjects/portal_da/venv/lib/python3.8/site-packages/rosreestr2coord/merge_tiles.py\", line 331, in fetch_tile\n",
      "    img = self.get_image(x, y)\n",
      "  File \"/Users/dp_user/PycharmProjects/portal_da/venv/lib/python3.8/site-packages/rosreestr2coord/merge_tiles.py\", line 469, in get_image\n",
      "    data = self._load_image_data(meta_url, cache_path)\n",
      "  File \"/Users/dp_user/PycharmProjects/portal_da/venv/lib/python3.8/site-packages/rosreestr2coord/merge_tiles.py\", line 483, in _load_image_data\n",
      "    data = json.loads(response.decode(\"utf-8\"))\n",
      "AttributeError: 'bool' object has no attribute 'decode'\n",
      "Exception in thread Thread-510:\n",
      "Traceback (most recent call last):\n",
      "  File \"/Library/Developer/CommandLineTools/Library/Frameworks/Python3.framework/Versions/3.8/lib/python3.8/threading.py\", line 932, in _bootstrap_inner\n",
      "    self.run()\n",
      "  File \"/Library/Developer/CommandLineTools/Library/Frameworks/Python3.framework/Versions/3.8/lib/python3.8/threading.py\", line 870, in run\n",
      "    self._target(*self._args, **self._kwargs)\n",
      "  File \"/Users/dp_user/PycharmProjects/portal_da/venv/lib/python3.8/site-packages/rosreestr2coord/merge_tiles.py\", line 37, in task_wrapper\n",
      "    result.put(target(*args))\n",
      "  File \"/Users/dp_user/PycharmProjects/portal_da/venv/lib/python3.8/site-packages/rosreestr2coord/merge_tiles.py\", line 331, in fetch_tile\n",
      "    img = self.get_image(x, y)\n",
      "  File \"/Users/dp_user/PycharmProjects/portal_da/venv/lib/python3.8/site-packages/rosreestr2coord/merge_tiles.py\", line 469, in get_image\n",
      "    data = self._load_image_data(meta_url, cache_path)\n",
      "  File \"/Users/dp_user/PycharmProjects/portal_da/venv/lib/python3.8/site-packages/rosreestr2coord/merge_tiles.py\", line 483, in _load_image_data\n",
      "    data = json.loads(response.decode(\"utf-8\"))\n",
      "AttributeError: 'bool' object has no attribute 'decode'\n",
      "Exception in thread Thread-514:\n",
      "Traceback (most recent call last):\n",
      "  File \"/Library/Developer/CommandLineTools/Library/Frameworks/Python3.framework/Versions/3.8/lib/python3.8/threading.py\", line 932, in _bootstrap_inner\n",
      "    self.run()\n",
      "  File \"/Library/Developer/CommandLineTools/Library/Frameworks/Python3.framework/Versions/3.8/lib/python3.8/threading.py\", line 870, in run\n",
      "    self._target(*self._args, **self._kwargs)\n",
      "  File \"/Users/dp_user/PycharmProjects/portal_da/venv/lib/python3.8/site-packages/rosreestr2coord/merge_tiles.py\", line 37, in task_wrapper\n",
      "    result.put(target(*args))\n",
      "  File \"/Users/dp_user/PycharmProjects/portal_da/venv/lib/python3.8/site-packages/rosreestr2coord/merge_tiles.py\", line 331, in fetch_tile\n",
      "    img = self.get_image(x, y)\n",
      "  File \"/Users/dp_user/PycharmProjects/portal_da/venv/lib/python3.8/site-packages/rosreestr2coord/merge_tiles.py\", line 469, in get_image\n",
      "    data = self._load_image_data(meta_url, cache_path)\n",
      "  File \"/Users/dp_user/PycharmProjects/portal_da/venv/lib/python3.8/site-packages/rosreestr2coord/merge_tiles.py\", line 483, in _load_image_data\n",
      "    data = json.loads(response.decode(\"utf-8\"))\n",
      "AttributeError: 'bool' object has no attribute 'decode'\n",
      "Exception in thread Thread-516:\n",
      "Traceback (most recent call last):\n",
      "  File \"/Library/Developer/CommandLineTools/Library/Frameworks/Python3.framework/Versions/3.8/lib/python3.8/threading.py\", line 932, in _bootstrap_inner\n",
      "    self.run()\n",
      "  File \"/Library/Developer/CommandLineTools/Library/Frameworks/Python3.framework/Versions/3.8/lib/python3.8/threading.py\", line 870, in run\n",
      "    self._target(*self._args, **self._kwargs)\n",
      "  File \"/Users/dp_user/PycharmProjects/portal_da/venv/lib/python3.8/site-packages/rosreestr2coord/merge_tiles.py\", line 37, in task_wrapper\n",
      "    result.put(target(*args))\n",
      "  File \"/Users/dp_user/PycharmProjects/portal_da/venv/lib/python3.8/site-packages/rosreestr2coord/merge_tiles.py\", line 331, in fetch_tile\n",
      "    img = self.get_image(x, y)\n",
      "  File \"/Users/dp_user/PycharmProjects/portal_da/venv/lib/python3.8/site-packages/rosreestr2coord/merge_tiles.py\", line 469, in get_image\n",
      "    data = self._load_image_data(meta_url, cache_path)\n",
      "  File \"/Users/dp_user/PycharmProjects/portal_da/venv/lib/python3.8/site-packages/rosreestr2coord/merge_tiles.py\", line 483, in _load_image_data\n",
      "    data = json.loads(response.decode(\"utf-8\"))\n",
      "AttributeError: 'bool' object has no attribute 'decode'\n",
      "Exception in thread Thread-519:\n",
      "Traceback (most recent call last):\n",
      "  File \"/Library/Developer/CommandLineTools/Library/Frameworks/Python3.framework/Versions/3.8/lib/python3.8/threading.py\", line 932, in _bootstrap_inner\n",
      "    self.run()\n",
      "  File \"/Library/Developer/CommandLineTools/Library/Frameworks/Python3.framework/Versions/3.8/lib/python3.8/threading.py\", line 870, in run\n",
      "    self._target(*self._args, **self._kwargs)\n",
      "  File \"/Users/dp_user/PycharmProjects/portal_da/venv/lib/python3.8/site-packages/rosreestr2coord/merge_tiles.py\", line 37, in task_wrapper\n",
      "    result.put(target(*args))\n",
      "  File \"/Users/dp_user/PycharmProjects/portal_da/venv/lib/python3.8/site-packages/rosreestr2coord/merge_tiles.py\", line 331, in fetch_tile\n",
      "    img = self.get_image(x, y)\n",
      "  File \"/Users/dp_user/PycharmProjects/portal_da/venv/lib/python3.8/site-packages/rosreestr2coord/merge_tiles.py\", line 469, in get_image\n",
      "    data = self._load_image_data(meta_url, cache_path)\n",
      "  File \"/Users/dp_user/PycharmProjects/portal_da/venv/lib/python3.8/site-packages/rosreestr2coord/merge_tiles.py\", line 483, in _load_image_data\n",
      "    data = json.loads(response.decode(\"utf-8\"))\n",
      "AttributeError: 'bool' object has no attribute 'decode'\n",
      "Exception in thread Thread-521:\n",
      "Traceback (most recent call last):\n",
      "  File \"/Library/Developer/CommandLineTools/Library/Frameworks/Python3.framework/Versions/3.8/lib/python3.8/threading.py\", line 932, in _bootstrap_inner\n",
      "    self.run()\n",
      "  File \"/Library/Developer/CommandLineTools/Library/Frameworks/Python3.framework/Versions/3.8/lib/python3.8/threading.py\", line 870, in run\n",
      "    self._target(*self._args, **self._kwargs)\n",
      "  File \"/Users/dp_user/PycharmProjects/portal_da/venv/lib/python3.8/site-packages/rosreestr2coord/merge_tiles.py\", line 37, in task_wrapper\n",
      "    result.put(target(*args))\n",
      "  File \"/Users/dp_user/PycharmProjects/portal_da/venv/lib/python3.8/site-packages/rosreestr2coord/merge_tiles.py\", line 331, in fetch_tile\n",
      "    img = self.get_image(x, y)\n",
      "  File \"/Users/dp_user/PycharmProjects/portal_da/venv/lib/python3.8/site-packages/rosreestr2coord/merge_tiles.py\", line 469, in get_image\n",
      "    data = self._load_image_data(meta_url, cache_path)\n",
      "  File \"/Users/dp_user/PycharmProjects/portal_da/venv/lib/python3.8/site-packages/rosreestr2coord/merge_tiles.py\", line 483, in _load_image_data\n",
      "    data = json.loads(response.decode(\"utf-8\"))\n",
      "AttributeError: 'bool' object has no attribute 'decode'\n",
      "Exception in thread Thread-522:\n",
      "Traceback (most recent call last):\n",
      "  File \"/Library/Developer/CommandLineTools/Library/Frameworks/Python3.framework/Versions/3.8/lib/python3.8/threading.py\", line 932, in _bootstrap_inner\n",
      "    self.run()\n",
      "  File \"/Library/Developer/CommandLineTools/Library/Frameworks/Python3.framework/Versions/3.8/lib/python3.8/threading.py\", line 870, in run\n",
      "    self._target(*self._args, **self._kwargs)\n",
      "  File \"/Users/dp_user/PycharmProjects/portal_da/venv/lib/python3.8/site-packages/rosreestr2coord/merge_tiles.py\", line 37, in task_wrapper\n",
      "    result.put(target(*args))\n",
      "  File \"/Users/dp_user/PycharmProjects/portal_da/venv/lib/python3.8/site-packages/rosreestr2coord/merge_tiles.py\", line 331, in fetch_tile\n",
      "    img = self.get_image(x, y)\n",
      "  File \"/Users/dp_user/PycharmProjects/portal_da/venv/lib/python3.8/site-packages/rosreestr2coord/merge_tiles.py\", line 469, in get_image\n",
      "    data = self._load_image_data(meta_url, cache_path)\n",
      "  File \"/Users/dp_user/PycharmProjects/portal_da/venv/lib/python3.8/site-packages/rosreestr2coord/merge_tiles.py\", line 483, in _load_image_data\n",
      "    data = json.loads(response.decode(\"utf-8\"))\n",
      "AttributeError: 'bool' object has no attribute 'decode'\n",
      "Exception in thread Thread-524:\n",
      "Traceback (most recent call last):\n",
      "  File \"/Library/Developer/CommandLineTools/Library/Frameworks/Python3.framework/Versions/3.8/lib/python3.8/threading.py\", line 932, in _bootstrap_inner\n",
      "    self.run()\n",
      "  File \"/Library/Developer/CommandLineTools/Library/Frameworks/Python3.framework/Versions/3.8/lib/python3.8/threading.py\", line 870, in run\n",
      "    self._target(*self._args, **self._kwargs)\n",
      "  File \"/Users/dp_user/PycharmProjects/portal_da/venv/lib/python3.8/site-packages/rosreestr2coord/merge_tiles.py\", line 37, in task_wrapper\n",
      "    result.put(target(*args))\n",
      "  File \"/Users/dp_user/PycharmProjects/portal_da/venv/lib/python3.8/site-packages/rosreestr2coord/merge_tiles.py\", line 331, in fetch_tile\n",
      "    img = self.get_image(x, y)\n",
      "  File \"/Users/dp_user/PycharmProjects/portal_da/venv/lib/python3.8/site-packages/rosreestr2coord/merge_tiles.py\", line 469, in get_image\n",
      "    data = self._load_image_data(meta_url, cache_path)\n",
      "  File \"/Users/dp_user/PycharmProjects/portal_da/venv/lib/python3.8/site-packages/rosreestr2coord/merge_tiles.py\", line 483, in _load_image_data\n",
      "    data = json.loads(response.decode(\"utf-8\"))\n",
      "AttributeError: 'bool' object has no attribute 'decode'\n",
      "Exception in thread Thread-528:\n",
      "Traceback (most recent call last):\n",
      "  File \"/Library/Developer/CommandLineTools/Library/Frameworks/Python3.framework/Versions/3.8/lib/python3.8/threading.py\", line 932, in _bootstrap_inner\n",
      "    self.run()\n",
      "  File \"/Library/Developer/CommandLineTools/Library/Frameworks/Python3.framework/Versions/3.8/lib/python3.8/threading.py\", line 870, in run\n",
      "    self._target(*self._args, **self._kwargs)\n",
      "  File \"/Users/dp_user/PycharmProjects/portal_da/venv/lib/python3.8/site-packages/rosreestr2coord/merge_tiles.py\", line 37, in task_wrapper\n",
      "    result.put(target(*args))\n",
      "  File \"/Users/dp_user/PycharmProjects/portal_da/venv/lib/python3.8/site-packages/rosreestr2coord/merge_tiles.py\", line 331, in fetch_tile\n",
      "    img = self.get_image(x, y)\n",
      "  File \"/Users/dp_user/PycharmProjects/portal_da/venv/lib/python3.8/site-packages/rosreestr2coord/merge_tiles.py\", line 469, in get_image\n",
      "    data = self._load_image_data(meta_url, cache_path)\n",
      "  File \"/Users/dp_user/PycharmProjects/portal_da/venv/lib/python3.8/site-packages/rosreestr2coord/merge_tiles.py\", line 483, in _load_image_data\n",
      "    data = json.loads(response.decode(\"utf-8\"))\n",
      "AttributeError: 'bool' object has no attribute 'decode'\n",
      "Exception in thread Thread-530:\n",
      "Traceback (most recent call last):\n",
      "  File \"/Library/Developer/CommandLineTools/Library/Frameworks/Python3.framework/Versions/3.8/lib/python3.8/threading.py\", line 932, in _bootstrap_inner\n",
      "    self.run()\n",
      "  File \"/Library/Developer/CommandLineTools/Library/Frameworks/Python3.framework/Versions/3.8/lib/python3.8/threading.py\", line 870, in run\n",
      "    self._target(*self._args, **self._kwargs)\n",
      "  File \"/Users/dp_user/PycharmProjects/portal_da/venv/lib/python3.8/site-packages/rosreestr2coord/merge_tiles.py\", line 37, in task_wrapper\n",
      "    result.put(target(*args))\n",
      "  File \"/Users/dp_user/PycharmProjects/portal_da/venv/lib/python3.8/site-packages/rosreestr2coord/merge_tiles.py\", line 331, in fetch_tile\n",
      "    img = self.get_image(x, y)\n",
      "  File \"/Users/dp_user/PycharmProjects/portal_da/venv/lib/python3.8/site-packages/rosreestr2coord/merge_tiles.py\", line 469, in get_image\n",
      "    data = self._load_image_data(meta_url, cache_path)\n",
      "  File \"/Users/dp_user/PycharmProjects/portal_da/venv/lib/python3.8/site-packages/rosreestr2coord/merge_tiles.py\", line 483, in _load_image_data\n",
      "    data = json.loads(response.decode(\"utf-8\"))\n",
      "AttributeError: 'bool' object has no attribute 'decode'\n",
      "Exception in thread Thread-531:\n",
      "Traceback (most recent call last):\n",
      "  File \"/Library/Developer/CommandLineTools/Library/Frameworks/Python3.framework/Versions/3.8/lib/python3.8/threading.py\", line 932, in _bootstrap_inner\n",
      "    self.run()\n",
      "  File \"/Library/Developer/CommandLineTools/Library/Frameworks/Python3.framework/Versions/3.8/lib/python3.8/threading.py\", line 870, in run\n",
      "    self._target(*self._args, **self._kwargs)\n",
      "  File \"/Users/dp_user/PycharmProjects/portal_da/venv/lib/python3.8/site-packages/rosreestr2coord/merge_tiles.py\", line 37, in task_wrapper\n",
      "    result.put(target(*args))\n",
      "  File \"/Users/dp_user/PycharmProjects/portal_da/venv/lib/python3.8/site-packages/rosreestr2coord/merge_tiles.py\", line 331, in fetch_tile\n",
      "    img = self.get_image(x, y)\n",
      "  File \"/Users/dp_user/PycharmProjects/portal_da/venv/lib/python3.8/site-packages/rosreestr2coord/merge_tiles.py\", line 469, in get_image\n",
      "    data = self._load_image_data(meta_url, cache_path)\n",
      "  File \"/Users/dp_user/PycharmProjects/portal_da/venv/lib/python3.8/site-packages/rosreestr2coord/merge_tiles.py\", line 483, in _load_image_data\n",
      "    data = json.loads(response.decode(\"utf-8\"))\n",
      "AttributeError: 'bool' object has no attribute 'decode'\n",
      "Exception in thread Thread-535:\n",
      "Traceback (most recent call last):\n",
      "  File \"/Library/Developer/CommandLineTools/Library/Frameworks/Python3.framework/Versions/3.8/lib/python3.8/threading.py\", line 932, in _bootstrap_inner\n",
      "    self.run()\n",
      "  File \"/Library/Developer/CommandLineTools/Library/Frameworks/Python3.framework/Versions/3.8/lib/python3.8/threading.py\", line 870, in run\n",
      "    self._target(*self._args, **self._kwargs)\n",
      "  File \"/Users/dp_user/PycharmProjects/portal_da/venv/lib/python3.8/site-packages/rosreestr2coord/merge_tiles.py\", line 37, in task_wrapper\n",
      "    result.put(target(*args))\n",
      "  File \"/Users/dp_user/PycharmProjects/portal_da/venv/lib/python3.8/site-packages/rosreestr2coord/merge_tiles.py\", line 331, in fetch_tile\n",
      "    img = self.get_image(x, y)\n",
      "  File \"/Users/dp_user/PycharmProjects/portal_da/venv/lib/python3.8/site-packages/rosreestr2coord/merge_tiles.py\", line 469, in get_image\n",
      "    data = self._load_image_data(meta_url, cache_path)\n",
      "  File \"/Users/dp_user/PycharmProjects/portal_da/venv/lib/python3.8/site-packages/rosreestr2coord/merge_tiles.py\", line 483, in _load_image_data\n",
      "    data = json.loads(response.decode(\"utf-8\"))\n",
      "AttributeError: 'bool' object has no attribute 'decode'\n",
      "Exception in thread Thread-537:\n",
      "Traceback (most recent call last):\n",
      "  File \"/Library/Developer/CommandLineTools/Library/Frameworks/Python3.framework/Versions/3.8/lib/python3.8/threading.py\", line 932, in _bootstrap_inner\n",
      "    self.run()\n",
      "  File \"/Library/Developer/CommandLineTools/Library/Frameworks/Python3.framework/Versions/3.8/lib/python3.8/threading.py\", line 870, in run\n",
      "    self._target(*self._args, **self._kwargs)\n",
      "  File \"/Users/dp_user/PycharmProjects/portal_da/venv/lib/python3.8/site-packages/rosreestr2coord/merge_tiles.py\", line 37, in task_wrapper\n",
      "    result.put(target(*args))\n",
      "  File \"/Users/dp_user/PycharmProjects/portal_da/venv/lib/python3.8/site-packages/rosreestr2coord/merge_tiles.py\", line 331, in fetch_tile\n",
      "    img = self.get_image(x, y)\n",
      "  File \"/Users/dp_user/PycharmProjects/portal_da/venv/lib/python3.8/site-packages/rosreestr2coord/merge_tiles.py\", line 469, in get_image\n",
      "    data = self._load_image_data(meta_url, cache_path)\n",
      "  File \"/Users/dp_user/PycharmProjects/portal_da/venv/lib/python3.8/site-packages/rosreestr2coord/merge_tiles.py\", line 483, in _load_image_data\n",
      "    data = json.loads(response.decode(\"utf-8\"))\n",
      "AttributeError: 'bool' object has no attribute 'decode'\n",
      "Exception in thread Thread-540:\n",
      "Traceback (most recent call last):\n",
      "  File \"/Library/Developer/CommandLineTools/Library/Frameworks/Python3.framework/Versions/3.8/lib/python3.8/threading.py\", line 932, in _bootstrap_inner\n",
      "    self.run()\n",
      "  File \"/Library/Developer/CommandLineTools/Library/Frameworks/Python3.framework/Versions/3.8/lib/python3.8/threading.py\", line 870, in run\n",
      "    self._target(*self._args, **self._kwargs)\n",
      "  File \"/Users/dp_user/PycharmProjects/portal_da/venv/lib/python3.8/site-packages/rosreestr2coord/merge_tiles.py\", line 37, in task_wrapper\n",
      "    result.put(target(*args))\n",
      "  File \"/Users/dp_user/PycharmProjects/portal_da/venv/lib/python3.8/site-packages/rosreestr2coord/merge_tiles.py\", line 331, in fetch_tile\n",
      "    img = self.get_image(x, y)\n",
      "  File \"/Users/dp_user/PycharmProjects/portal_da/venv/lib/python3.8/site-packages/rosreestr2coord/merge_tiles.py\", line 469, in get_image\n",
      "    data = self._load_image_data(meta_url, cache_path)\n",
      "  File \"/Users/dp_user/PycharmProjects/portal_da/venv/lib/python3.8/site-packages/rosreestr2coord/merge_tiles.py\", line 483, in _load_image_data\n",
      "    data = json.loads(response.decode(\"utf-8\"))\n",
      "AttributeError: 'bool' object has no attribute 'decode'\n",
      "Exception in thread Thread-541:\n",
      "Traceback (most recent call last):\n",
      "  File \"/Library/Developer/CommandLineTools/Library/Frameworks/Python3.framework/Versions/3.8/lib/python3.8/threading.py\", line 932, in _bootstrap_inner\n",
      "    self.run()\n",
      "  File \"/Library/Developer/CommandLineTools/Library/Frameworks/Python3.framework/Versions/3.8/lib/python3.8/threading.py\", line 870, in run\n",
      "    self._target(*self._args, **self._kwargs)\n",
      "  File \"/Users/dp_user/PycharmProjects/portal_da/venv/lib/python3.8/site-packages/rosreestr2coord/merge_tiles.py\", line 37, in task_wrapper\n",
      "    result.put(target(*args))\n",
      "  File \"/Users/dp_user/PycharmProjects/portal_da/venv/lib/python3.8/site-packages/rosreestr2coord/merge_tiles.py\", line 331, in fetch_tile\n",
      "    img = self.get_image(x, y)\n",
      "  File \"/Users/dp_user/PycharmProjects/portal_da/venv/lib/python3.8/site-packages/rosreestr2coord/merge_tiles.py\", line 469, in get_image\n",
      "    data = self._load_image_data(meta_url, cache_path)\n",
      "  File \"/Users/dp_user/PycharmProjects/portal_da/venv/lib/python3.8/site-packages/rosreestr2coord/merge_tiles.py\", line 483, in _load_image_data\n",
      "    data = json.loads(response.decode(\"utf-8\"))\n",
      "AttributeError: 'bool' object has no attribute 'decode'\n",
      "Exception in thread Thread-542:\n",
      "Traceback (most recent call last):\n",
      "  File \"/Library/Developer/CommandLineTools/Library/Frameworks/Python3.framework/Versions/3.8/lib/python3.8/threading.py\", line 932, in _bootstrap_inner\n",
      "    self.run()\n",
      "  File \"/Library/Developer/CommandLineTools/Library/Frameworks/Python3.framework/Versions/3.8/lib/python3.8/threading.py\", line 870, in run\n",
      "    self._target(*self._args, **self._kwargs)\n",
      "  File \"/Users/dp_user/PycharmProjects/portal_da/venv/lib/python3.8/site-packages/rosreestr2coord/merge_tiles.py\", line 37, in task_wrapper\n",
      "    result.put(target(*args))\n",
      "  File \"/Users/dp_user/PycharmProjects/portal_da/venv/lib/python3.8/site-packages/rosreestr2coord/merge_tiles.py\", line 331, in fetch_tile\n",
      "    img = self.get_image(x, y)\n",
      "  File \"/Users/dp_user/PycharmProjects/portal_da/venv/lib/python3.8/site-packages/rosreestr2coord/merge_tiles.py\", line 469, in get_image\n",
      "    data = self._load_image_data(meta_url, cache_path)\n",
      "  File \"/Users/dp_user/PycharmProjects/portal_da/venv/lib/python3.8/site-packages/rosreestr2coord/merge_tiles.py\", line 483, in _load_image_data\n",
      "    data = json.loads(response.decode(\"utf-8\"))\n",
      "AttributeError: 'bool' object has no attribute 'decode'\n",
      "Exception in thread Thread-543:\n",
      "Traceback (most recent call last):\n",
      "  File \"/Library/Developer/CommandLineTools/Library/Frameworks/Python3.framework/Versions/3.8/lib/python3.8/threading.py\", line 932, in _bootstrap_inner\n",
      "    self.run()\n",
      "  File \"/Library/Developer/CommandLineTools/Library/Frameworks/Python3.framework/Versions/3.8/lib/python3.8/threading.py\", line 870, in run\n",
      "    self._target(*self._args, **self._kwargs)\n",
      "  File \"/Users/dp_user/PycharmProjects/portal_da/venv/lib/python3.8/site-packages/rosreestr2coord/merge_tiles.py\", line 37, in task_wrapper\n",
      "    result.put(target(*args))\n",
      "  File \"/Users/dp_user/PycharmProjects/portal_da/venv/lib/python3.8/site-packages/rosreestr2coord/merge_tiles.py\", line 331, in fetch_tile\n",
      "    img = self.get_image(x, y)\n",
      "  File \"/Users/dp_user/PycharmProjects/portal_da/venv/lib/python3.8/site-packages/rosreestr2coord/merge_tiles.py\", line 469, in get_image\n",
      "    data = self._load_image_data(meta_url, cache_path)\n",
      "  File \"/Users/dp_user/PycharmProjects/portal_da/venv/lib/python3.8/site-packages/rosreestr2coord/merge_tiles.py\", line 483, in _load_image_data\n",
      "    data = json.loads(response.decode(\"utf-8\"))\n",
      "AttributeError: 'bool' object has no attribute 'decode'\n",
      "Exception in thread Thread-544:\n",
      "Traceback (most recent call last):\n",
      "  File \"/Library/Developer/CommandLineTools/Library/Frameworks/Python3.framework/Versions/3.8/lib/python3.8/threading.py\", line 932, in _bootstrap_inner\n",
      "    self.run()\n",
      "  File \"/Library/Developer/CommandLineTools/Library/Frameworks/Python3.framework/Versions/3.8/lib/python3.8/threading.py\", line 870, in run\n",
      "    self._target(*self._args, **self._kwargs)\n",
      "  File \"/Users/dp_user/PycharmProjects/portal_da/venv/lib/python3.8/site-packages/rosreestr2coord/merge_tiles.py\", line 37, in task_wrapper\n",
      "    result.put(target(*args))\n",
      "  File \"/Users/dp_user/PycharmProjects/portal_da/venv/lib/python3.8/site-packages/rosreestr2coord/merge_tiles.py\", line 331, in fetch_tile\n",
      "    img = self.get_image(x, y)\n",
      "  File \"/Users/dp_user/PycharmProjects/portal_da/venv/lib/python3.8/site-packages/rosreestr2coord/merge_tiles.py\", line 469, in get_image\n",
      "    data = self._load_image_data(meta_url, cache_path)\n",
      "  File \"/Users/dp_user/PycharmProjects/portal_da/venv/lib/python3.8/site-packages/rosreestr2coord/merge_tiles.py\", line 483, in _load_image_data\n",
      "    data = json.loads(response.decode(\"utf-8\"))\n",
      "AttributeError: 'bool' object has no attribute 'decode'\n",
      "Exception in thread Thread-551:\n",
      "Traceback (most recent call last):\n",
      "  File \"/Library/Developer/CommandLineTools/Library/Frameworks/Python3.framework/Versions/3.8/lib/python3.8/threading.py\", line 932, in _bootstrap_inner\n",
      "    self.run()\n",
      "  File \"/Library/Developer/CommandLineTools/Library/Frameworks/Python3.framework/Versions/3.8/lib/python3.8/threading.py\", line 870, in run\n",
      "    self._target(*self._args, **self._kwargs)\n",
      "  File \"/Users/dp_user/PycharmProjects/portal_da/venv/lib/python3.8/site-packages/rosreestr2coord/merge_tiles.py\", line 37, in task_wrapper\n",
      "    result.put(target(*args))\n",
      "  File \"/Users/dp_user/PycharmProjects/portal_da/venv/lib/python3.8/site-packages/rosreestr2coord/merge_tiles.py\", line 331, in fetch_tile\n",
      "    img = self.get_image(x, y)\n",
      "  File \"/Users/dp_user/PycharmProjects/portal_da/venv/lib/python3.8/site-packages/rosreestr2coord/merge_tiles.py\", line 469, in get_image\n",
      "    data = self._load_image_data(meta_url, cache_path)\n",
      "  File \"/Users/dp_user/PycharmProjects/portal_da/venv/lib/python3.8/site-packages/rosreestr2coord/merge_tiles.py\", line 483, in _load_image_data\n",
      "    data = json.loads(response.decode(\"utf-8\"))\n",
      "AttributeError: 'bool' object has no attribute 'decode'\n",
      "Exception in thread Thread-554:\n",
      "Traceback (most recent call last):\n",
      "  File \"/Library/Developer/CommandLineTools/Library/Frameworks/Python3.framework/Versions/3.8/lib/python3.8/threading.py\", line 932, in _bootstrap_inner\n",
      "    self.run()\n",
      "  File \"/Library/Developer/CommandLineTools/Library/Frameworks/Python3.framework/Versions/3.8/lib/python3.8/threading.py\", line 870, in run\n",
      "    self._target(*self._args, **self._kwargs)\n",
      "  File \"/Users/dp_user/PycharmProjects/portal_da/venv/lib/python3.8/site-packages/rosreestr2coord/merge_tiles.py\", line 37, in task_wrapper\n",
      "    result.put(target(*args))\n",
      "  File \"/Users/dp_user/PycharmProjects/portal_da/venv/lib/python3.8/site-packages/rosreestr2coord/merge_tiles.py\", line 331, in fetch_tile\n",
      "    img = self.get_image(x, y)\n",
      "  File \"/Users/dp_user/PycharmProjects/portal_da/venv/lib/python3.8/site-packages/rosreestr2coord/merge_tiles.py\", line 469, in get_image\n",
      "    data = self._load_image_data(meta_url, cache_path)\n",
      "  File \"/Users/dp_user/PycharmProjects/portal_da/venv/lib/python3.8/site-packages/rosreestr2coord/merge_tiles.py\", line 483, in _load_image_data\n",
      "    data = json.loads(response.decode(\"utf-8\"))\n",
      "AttributeError: 'bool' object has no attribute 'decode'\n",
      "Exception in thread Exception in thread Thread-557:\n",
      "Traceback (most recent call last):\n",
      "  File \"/Library/Developer/CommandLineTools/Library/Frameworks/Python3.framework/Versions/3.8/lib/python3.8/threading.py\", line 932, in _bootstrap_inner\n",
      "Thread-558:\n",
      "Traceback (most recent call last):\n",
      "  File \"/Library/Developer/CommandLineTools/Library/Frameworks/Python3.framework/Versions/3.8/lib/python3.8/threading.py\", line 932, in _bootstrap_inner\n",
      "    self.run()\n",
      "  File \"/Library/Developer/CommandLineTools/Library/Frameworks/Python3.framework/Versions/3.8/lib/python3.8/threading.py\", line 870, in run\n",
      "    self.run()\n",
      "  File \"/Library/Developer/CommandLineTools/Library/Frameworks/Python3.framework/Versions/3.8/lib/python3.8/threading.py\", line 870, in run\n",
      "    self._target(*self._args, **self._kwargs)\n",
      "  File \"/Users/dp_user/PycharmProjects/portal_da/venv/lib/python3.8/site-packages/rosreestr2coord/merge_tiles.py\", line 37, in task_wrapper\n",
      "    result.put(target(*args))\n",
      "  File \"/Users/dp_user/PycharmProjects/portal_da/venv/lib/python3.8/site-packages/rosreestr2coord/merge_tiles.py\", line 331, in fetch_tile\n",
      "    self._target(*self._args, **self._kwargs)\n",
      "  File \"/Users/dp_user/PycharmProjects/portal_da/venv/lib/python3.8/site-packages/rosreestr2coord/merge_tiles.py\", line 37, in task_wrapper\n",
      "    img = self.get_image(x, y)\n",
      "  File \"/Users/dp_user/PycharmProjects/portal_da/venv/lib/python3.8/site-packages/rosreestr2coord/merge_tiles.py\", line 469, in get_image\n",
      "    result.put(target(*args))\n",
      "  File \"/Users/dp_user/PycharmProjects/portal_da/venv/lib/python3.8/site-packages/rosreestr2coord/merge_tiles.py\", line 331, in fetch_tile\n",
      "    data = self._load_image_data(meta_url, cache_path)\n",
      "  File \"/Users/dp_user/PycharmProjects/portal_da/venv/lib/python3.8/site-packages/rosreestr2coord/merge_tiles.py\", line 483, in _load_image_data\n",
      "    img = self.get_image(x, y)\n",
      "  File \"/Users/dp_user/PycharmProjects/portal_da/venv/lib/python3.8/site-packages/rosreestr2coord/merge_tiles.py\", line 469, in get_image\n",
      "    data = json.loads(response.decode(\"utf-8\"))\n",
      "AttributeError: 'bool' object has no attribute 'decode'\n",
      "    data = self._load_image_data(meta_url, cache_path)\n",
      "  File \"/Users/dp_user/PycharmProjects/portal_da/venv/lib/python3.8/site-packages/rosreestr2coord/merge_tiles.py\", line 483, in _load_image_data\n",
      "    data = json.loads(response.decode(\"utf-8\"))\n",
      "AttributeError: 'bool' object has no attribute 'decode'\n",
      "Exception in thread Thread-559:\n",
      "Traceback (most recent call last):\n",
      "  File \"/Library/Developer/CommandLineTools/Library/Frameworks/Python3.framework/Versions/3.8/lib/python3.8/threading.py\", line 932, in _bootstrap_inner\n",
      "Exception in thread Thread-556:\n",
      "Traceback (most recent call last):\n",
      "  File \"/Library/Developer/CommandLineTools/Library/Frameworks/Python3.framework/Versions/3.8/lib/python3.8/threading.py\", line 932, in _bootstrap_inner\n",
      "    self.run()\n",
      "  File \"/Library/Developer/CommandLineTools/Library/Frameworks/Python3.framework/Versions/3.8/lib/python3.8/threading.py\", line 870, in run\n",
      "    self.run()\n",
      "  File \"/Library/Developer/CommandLineTools/Library/Frameworks/Python3.framework/Versions/3.8/lib/python3.8/threading.py\", line 870, in run\n",
      "    self._target(*self._args, **self._kwargs)\n",
      "  File \"/Users/dp_user/PycharmProjects/portal_da/venv/lib/python3.8/site-packages/rosreestr2coord/merge_tiles.py\", line 37, in task_wrapper\n",
      "    self._target(*self._args, **self._kwargs)\n",
      "  File \"/Users/dp_user/PycharmProjects/portal_da/venv/lib/python3.8/site-packages/rosreestr2coord/merge_tiles.py\", line 37, in task_wrapper\n",
      "    result.put(target(*args))\n",
      "  File \"/Users/dp_user/PycharmProjects/portal_da/venv/lib/python3.8/site-packages/rosreestr2coord/merge_tiles.py\", line 331, in fetch_tile\n",
      "    result.put(target(*args))\n",
      "  File \"/Users/dp_user/PycharmProjects/portal_da/venv/lib/python3.8/site-packages/rosreestr2coord/merge_tiles.py\", line 331, in fetch_tile\n",
      "    img = self.get_image(x, y)\n",
      "  File \"/Users/dp_user/PycharmProjects/portal_da/venv/lib/python3.8/site-packages/rosreestr2coord/merge_tiles.py\", line 469, in get_image\n",
      "    img = self.get_image(x, y)\n",
      "  File \"/Users/dp_user/PycharmProjects/portal_da/venv/lib/python3.8/site-packages/rosreestr2coord/merge_tiles.py\", line 469, in get_image\n",
      "    data = self._load_image_data(meta_url, cache_path)\n",
      "  File \"/Users/dp_user/PycharmProjects/portal_da/venv/lib/python3.8/site-packages/rosreestr2coord/merge_tiles.py\", line 483, in _load_image_data\n",
      "    data = self._load_image_data(meta_url, cache_path)\n",
      "  File \"/Users/dp_user/PycharmProjects/portal_da/venv/lib/python3.8/site-packages/rosreestr2coord/merge_tiles.py\", line 483, in _load_image_data\n",
      "    data = json.loads(response.decode(\"utf-8\"))\n",
      "AttributeError: 'bool' object has no attribute 'decode'\n",
      "    data = json.loads(response.decode(\"utf-8\"))\n",
      "AttributeError: 'bool' object has no attribute 'decode'\n",
      "Exception in thread Thread-565:\n",
      "Traceback (most recent call last):\n",
      "  File \"/Library/Developer/CommandLineTools/Library/Frameworks/Python3.framework/Versions/3.8/lib/python3.8/threading.py\", line 932, in _bootstrap_inner\n",
      "    self.run()\n",
      "  File \"/Library/Developer/CommandLineTools/Library/Frameworks/Python3.framework/Versions/3.8/lib/python3.8/threading.py\", line 870, in run\n",
      "    self._target(*self._args, **self._kwargs)\n",
      "  File \"/Users/dp_user/PycharmProjects/portal_da/venv/lib/python3.8/site-packages/rosreestr2coord/merge_tiles.py\", line 37, in task_wrapper\n",
      "    result.put(target(*args))\n",
      "  File \"/Users/dp_user/PycharmProjects/portal_da/venv/lib/python3.8/site-packages/rosreestr2coord/merge_tiles.py\", line 331, in fetch_tile\n",
      "    img = self.get_image(x, y)\n",
      "  File \"/Users/dp_user/PycharmProjects/portal_da/venv/lib/python3.8/site-packages/rosreestr2coord/merge_tiles.py\", line 469, in get_image\n",
      "    data = self._load_image_data(meta_url, cache_path)\n",
      "  File \"/Users/dp_user/PycharmProjects/portal_da/venv/lib/python3.8/site-packages/rosreestr2coord/merge_tiles.py\", line 483, in _load_image_data\n",
      "    data = json.loads(response.decode(\"utf-8\"))\n",
      "AttributeError: 'bool' object has no attribute 'decode'\n",
      "Exception in thread Thread-572:\n",
      "Traceback (most recent call last):\n",
      "  File \"/Library/Developer/CommandLineTools/Library/Frameworks/Python3.framework/Versions/3.8/lib/python3.8/threading.py\", line 932, in _bootstrap_inner\n",
      "    self.run()\n",
      "  File \"/Library/Developer/CommandLineTools/Library/Frameworks/Python3.framework/Versions/3.8/lib/python3.8/threading.py\", line 870, in run\n",
      "    self._target(*self._args, **self._kwargs)\n",
      "  File \"/Users/dp_user/PycharmProjects/portal_da/venv/lib/python3.8/site-packages/rosreestr2coord/merge_tiles.py\", line 37, in task_wrapper\n",
      "    result.put(target(*args))\n",
      "  File \"/Users/dp_user/PycharmProjects/portal_da/venv/lib/python3.8/site-packages/rosreestr2coord/merge_tiles.py\", line 331, in fetch_tile\n",
      "    img = self.get_image(x, y)\n",
      "  File \"/Users/dp_user/PycharmProjects/portal_da/venv/lib/python3.8/site-packages/rosreestr2coord/merge_tiles.py\", line 469, in get_image\n",
      "    data = self._load_image_data(meta_url, cache_path)\n",
      "  File \"/Users/dp_user/PycharmProjects/portal_da/venv/lib/python3.8/site-packages/rosreestr2coord/merge_tiles.py\", line 483, in _load_image_data\n",
      "    data = json.loads(response.decode(\"utf-8\"))\n",
      "AttributeError: 'bool' object has no attribute 'decode'\n",
      "Exception in thread Thread-575:\n",
      "Traceback (most recent call last):\n",
      "  File \"/Library/Developer/CommandLineTools/Library/Frameworks/Python3.framework/Versions/3.8/lib/python3.8/threading.py\", line 932, in _bootstrap_inner\n",
      "    self.run()\n",
      "  File \"/Library/Developer/CommandLineTools/Library/Frameworks/Python3.framework/Versions/3.8/lib/python3.8/threading.py\", line 870, in run\n",
      "    self._target(*self._args, **self._kwargs)\n",
      "  File \"/Users/dp_user/PycharmProjects/portal_da/venv/lib/python3.8/site-packages/rosreestr2coord/merge_tiles.py\", line 37, in task_wrapper\n",
      "    result.put(target(*args))\n",
      "  File \"/Users/dp_user/PycharmProjects/portal_da/venv/lib/python3.8/site-packages/rosreestr2coord/merge_tiles.py\", line 331, in fetch_tile\n",
      "    img = self.get_image(x, y)\n",
      "  File \"/Users/dp_user/PycharmProjects/portal_da/venv/lib/python3.8/site-packages/rosreestr2coord/merge_tiles.py\", line 469, in get_image\n",
      "    data = self._load_image_data(meta_url, cache_path)\n",
      "  File \"/Users/dp_user/PycharmProjects/portal_da/venv/lib/python3.8/site-packages/rosreestr2coord/merge_tiles.py\", line 483, in _load_image_data\n",
      "    data = json.loads(response.decode(\"utf-8\"))\n",
      "AttributeError: 'bool' object has no attribute 'decode'\n",
      "Exception in thread Thread-576:\n",
      "Traceback (most recent call last):\n",
      "  File \"/Library/Developer/CommandLineTools/Library/Frameworks/Python3.framework/Versions/3.8/lib/python3.8/threading.py\", line 932, in _bootstrap_inner\n",
      "    self.run()\n",
      "  File \"/Library/Developer/CommandLineTools/Library/Frameworks/Python3.framework/Versions/3.8/lib/python3.8/threading.py\", line 870, in run\n",
      "    self._target(*self._args, **self._kwargs)\n",
      "  File \"/Users/dp_user/PycharmProjects/portal_da/venv/lib/python3.8/site-packages/rosreestr2coord/merge_tiles.py\", line 37, in task_wrapper\n",
      "    result.put(target(*args))\n",
      "  File \"/Users/dp_user/PycharmProjects/portal_da/venv/lib/python3.8/site-packages/rosreestr2coord/merge_tiles.py\", line 331, in fetch_tile\n",
      "    img = self.get_image(x, y)\n",
      "  File \"/Users/dp_user/PycharmProjects/portal_da/venv/lib/python3.8/site-packages/rosreestr2coord/merge_tiles.py\", line 469, in get_image\n",
      "    data = self._load_image_data(meta_url, cache_path)\n",
      "  File \"/Users/dp_user/PycharmProjects/portal_da/venv/lib/python3.8/site-packages/rosreestr2coord/merge_tiles.py\", line 483, in _load_image_data\n",
      "    data = json.loads(response.decode(\"utf-8\"))\n",
      "AttributeError: 'bool' object has no attribute 'decode'\n",
      "Exception in thread Thread-580:\n",
      "Traceback (most recent call last):\n",
      "  File \"/Library/Developer/CommandLineTools/Library/Frameworks/Python3.framework/Versions/3.8/lib/python3.8/threading.py\", line 932, in _bootstrap_inner\n",
      "    self.run()\n",
      "  File \"/Library/Developer/CommandLineTools/Library/Frameworks/Python3.framework/Versions/3.8/lib/python3.8/threading.py\", line 870, in run\n",
      "    self._target(*self._args, **self._kwargs)\n",
      "  File \"/Users/dp_user/PycharmProjects/portal_da/venv/lib/python3.8/site-packages/rosreestr2coord/merge_tiles.py\", line 37, in task_wrapper\n",
      "    result.put(target(*args))\n",
      "  File \"/Users/dp_user/PycharmProjects/portal_da/venv/lib/python3.8/site-packages/rosreestr2coord/merge_tiles.py\", line 331, in fetch_tile\n",
      "    img = self.get_image(x, y)\n",
      "  File \"/Users/dp_user/PycharmProjects/portal_da/venv/lib/python3.8/site-packages/rosreestr2coord/merge_tiles.py\", line 469, in get_image\n",
      "    data = self._load_image_data(meta_url, cache_path)\n",
      "  File \"/Users/dp_user/PycharmProjects/portal_da/venv/lib/python3.8/site-packages/rosreestr2coord/merge_tiles.py\", line 483, in _load_image_data\n",
      "    data = json.loads(response.decode(\"utf-8\"))\n",
      "AttributeError: 'bool' object has no attribute 'decode'\n",
      "Exception in thread Thread-582:\n",
      "Traceback (most recent call last):\n",
      "  File \"/Library/Developer/CommandLineTools/Library/Frameworks/Python3.framework/Versions/3.8/lib/python3.8/threading.py\", line 932, in _bootstrap_inner\n",
      "    self.run()\n",
      "  File \"/Library/Developer/CommandLineTools/Library/Frameworks/Python3.framework/Versions/3.8/lib/python3.8/threading.py\", line 870, in run\n",
      "    self._target(*self._args, **self._kwargs)\n",
      "  File \"/Users/dp_user/PycharmProjects/portal_da/venv/lib/python3.8/site-packages/rosreestr2coord/merge_tiles.py\", line 37, in task_wrapper\n",
      "    result.put(target(*args))\n",
      "  File \"/Users/dp_user/PycharmProjects/portal_da/venv/lib/python3.8/site-packages/rosreestr2coord/merge_tiles.py\", line 331, in fetch_tile\n",
      "    img = self.get_image(x, y)\n",
      "  File \"/Users/dp_user/PycharmProjects/portal_da/venv/lib/python3.8/site-packages/rosreestr2coord/merge_tiles.py\", line 469, in get_image\n",
      "    data = self._load_image_data(meta_url, cache_path)\n",
      "  File \"/Users/dp_user/PycharmProjects/portal_da/venv/lib/python3.8/site-packages/rosreestr2coord/merge_tiles.py\", line 483, in _load_image_data\n",
      "    data = json.loads(response.decode(\"utf-8\"))\n",
      "AttributeError: 'bool' object has no attribute 'decode'\n",
      "Exception in thread Thread-583:\n",
      "Traceback (most recent call last):\n",
      "  File \"/Library/Developer/CommandLineTools/Library/Frameworks/Python3.framework/Versions/3.8/lib/python3.8/threading.py\", line 932, in _bootstrap_inner\n",
      "    self.run()\n",
      "  File \"/Library/Developer/CommandLineTools/Library/Frameworks/Python3.framework/Versions/3.8/lib/python3.8/threading.py\", line 870, in run\n",
      "    self._target(*self._args, **self._kwargs)\n",
      "  File \"/Users/dp_user/PycharmProjects/portal_da/venv/lib/python3.8/site-packages/rosreestr2coord/merge_tiles.py\", line 37, in task_wrapper\n",
      "    result.put(target(*args))\n",
      "  File \"/Users/dp_user/PycharmProjects/portal_da/venv/lib/python3.8/site-packages/rosreestr2coord/merge_tiles.py\", line 331, in fetch_tile\n",
      "    img = self.get_image(x, y)\n",
      "  File \"/Users/dp_user/PycharmProjects/portal_da/venv/lib/python3.8/site-packages/rosreestr2coord/merge_tiles.py\", line 469, in get_image\n",
      "    data = self._load_image_data(meta_url, cache_path)\n",
      "  File \"/Users/dp_user/PycharmProjects/portal_da/venv/lib/python3.8/site-packages/rosreestr2coord/merge_tiles.py\", line 483, in _load_image_data\n",
      "    data = json.loads(response.decode(\"utf-8\"))\n",
      "AttributeError: 'bool' object has no attribute 'decode'\n",
      "Exception in thread Thread-585:\n",
      "Traceback (most recent call last):\n",
      "  File \"/Library/Developer/CommandLineTools/Library/Frameworks/Python3.framework/Versions/3.8/lib/python3.8/threading.py\", line 932, in _bootstrap_inner\n",
      "    self.run()\n",
      "  File \"/Library/Developer/CommandLineTools/Library/Frameworks/Python3.framework/Versions/3.8/lib/python3.8/threading.py\", line 870, in run\n",
      "    self._target(*self._args, **self._kwargs)\n",
      "  File \"/Users/dp_user/PycharmProjects/portal_da/venv/lib/python3.8/site-packages/rosreestr2coord/merge_tiles.py\", line 37, in task_wrapper\n",
      "    result.put(target(*args))\n",
      "  File \"/Users/dp_user/PycharmProjects/portal_da/venv/lib/python3.8/site-packages/rosreestr2coord/merge_tiles.py\", line 331, in fetch_tile\n",
      "    img = self.get_image(x, y)\n",
      "  File \"/Users/dp_user/PycharmProjects/portal_da/venv/lib/python3.8/site-packages/rosreestr2coord/merge_tiles.py\", line 469, in get_image\n",
      "    data = self._load_image_data(meta_url, cache_path)\n",
      "  File \"/Users/dp_user/PycharmProjects/portal_da/venv/lib/python3.8/site-packages/rosreestr2coord/merge_tiles.py\", line 483, in _load_image_data\n",
      "    data = json.loads(response.decode(\"utf-8\"))\n",
      "AttributeError: 'bool' object has no attribute 'decode'\n"
     ]
    }
   ],
   "source": [
    "applied_df = pd.DataFrame()\n",
    "applied_df['cadastral_geocode'] = links_df.loc[links_df['cadastral_number'].str.len()>3, 'cadastral_number'].progress_apply(lambda x: get_kadastr_data(x))\n",
    "links_df = pd.concat([links_df, applied_df], axis=1)"
   ],
   "metadata": {
    "collapsed": false,
    "pycharm": {
     "name": "#%%\n"
    }
   }
  },
  {
   "cell_type": "code",
   "execution_count": 227,
   "outputs": [
    {
     "data": {
      "text/plain": "                                                 links asset_id  \\\n0    https://portal-da.ru/objects/814114-zemlya-pod...   814114   \n1    https://portal-da.ru/objects/814114-zemlya-pod...   814114   \n2    https://portal-da.ru/objects/641505-zemlya-pod...   641505   \n3    https://portal-da.ru/objects/169347-zemelnyy-u...   169347   \n4    https://portal-da.ru/objects/899895-zemlya-pod...   899895   \n..                                                 ...      ...   \n844  https://portal-da.ru/objects/691104-zemlya-pod...   691104   \n845  https://portal-da.ru/objects/630263-zemlya-pod...   630263   \n846  https://portal-da.ru/objects/177552-zemlya-pod...   177552   \n847  https://portal-da.ru/objects/841885-zemlya-pod...   841885   \n848  https://portal-da.ru/objects/419254-zemelnyy-u...   419254   \n\n                                               contact  \\\n0    {\"name\":\"Контактный Центр Банка\",\"email\":\"zalo...   \n1    {\"name\":\"Контактный Центр Банка\",\"email\":\"zalo...   \n2    {\"name\":\"Гаас Александра Георгиевна\",\"email\":\"...   \n3    {\"name\":\"Брюнель Ева Жисленовна\",\"email\":\"bryu...   \n4    {\"name\":\"Плесняев Александр Александрович\",\"em...   \n..                                                 ...   \n844  {\"name\":\"Коваленко Александр Ан\",\"email\":\"kova...   \n845  {\"name\":\"Коваленко Александр Ан\",\"email\":\"kova...   \n846  {\"name\":\"Коваленко Александр Ан\",\"email\":\"kova...   \n847  {\"name\":\"Нуриев Эдуард Рамзилович\",\"email\":\"ln...   \n848  {\"name\":\"Самойленко Денис Сергеевич\",\"email\":\"...   \n\n                                                seller  \\\n0         {\"name\":\"Банк ВТБ (ПАО)\",\"assets_count\":603}   \n1         {\"name\":\"Банк ВТБ (ПАО)\",\"assets_count\":603}   \n2          {\"name\":\"Физическое лицо\",\"assets_count\":0}   \n3          {\"name\":\"Физическое лицо\",\"assets_count\":0}   \n4    {\"name\":\"Плесняев Александр Александрович\",\"as...   \n..                                                 ...   \n844  {\"name\":\"АО \\\"Россельхозбанк\\\"\",\"assets_count\"...   \n845  {\"name\":\"АО \\\"Россельхозбанк\\\"\",\"assets_count\"...   \n846  {\"name\":\"АО \\\"Россельхозбанк\\\"\",\"assets_count\"...   \n847  {\"name\":\"АО \\\"Россельхозбанк\\\"\",\"assets_count\"...   \n848        {\"name\":\"ПАО Сбербанк\",\"assets_count\":3244}   \n\n                                       specific_fields           price  \\\n0                                                   []    \"48,7 млн ₽\"   \n1                                                   []    \"48,7 млн ₽\"   \n2    [{\"name\":\"Площадь\",\"value\":\"251.11 сот.\",\"fiel...   \"145,5 млн ₽\"   \n3    [{\"name\":\"Площадь\",\"value\":\"505.74 сот.\",\"fiel...     \"4,5 млн ₽\"   \n4    [{\"name\":\"Площадь\",\"value\":\"5045 сот.\",\"field\"...   \"23,45 млн ₽\"   \n..                                                 ...             ...   \n844  [{\"name\":\"Площадь\",\"value\":\"15.27 сот.\",\"field...  \"107 099,63 ₽\"   \n845  [{\"name\":\"Площадь\",\"value\":\"13.21 сот.\",\"field...   \"92 651,36 ₽\"   \n846  [{\"name\":\"Площадь\",\"value\":\"16.76 сот.\",\"field...  \"117 550,32 ₽\"   \n847  [{\"name\":\"Площадь\",\"value\":\"1501 сот.\",\"field\"...     \"226 651 ₽\"   \n848  [{\"name\":\"Площадь\",\"value\":\"100 сот.\",\"field\":...    \"8,27 млн ₽\"   \n\n             views                                         region_str  \\\n0    1535 просмотр  Российская Федерация, Московская область, Один...   \n1    1535 просмотр  Российская Федерация, Московская область, Один...   \n2    2311 просмотр  Российская Федерация, Алтайский край, г Белоку...   \n3     466 просмотр  Российская Федерация, Ярославская область, Пер...   \n4    1286 просмотр  Российская Федерация, Московская область, г Мо...   \n..             ...                                                ...   \n844   269 просмотр  Российская Федерация, Владимирская область, Ки...   \n845   279 просмотр  Российская Федерация, Владимирская область, Ки...   \n846   281 просмотр  Российская Федерация, Владимирская область, Ки...   \n847   610 просмотр        Российская Федерация, Татарстан, Тукаевский   \n848   461 просмотр  Российская Федерация, Тверская область, г Оста...   \n\n    publication_date                      contact_name  \\\n0     15 ноября 2022            Контактный Центр Банка   \n1     15 ноября 2022            Контактный Центр Банка   \n2      31 марта 2022        Гаас Александра Георгиевна   \n3     18 апреля 2022            Брюнель Ева Жисленовна   \n4       25 июня 2022  Плесняев Александр Александрович   \n..               ...                               ...   \n844      20 мая 2021            Коваленко Александр Ан   \n845      20 мая 2021            Коваленко Александр Ан   \n846      20 мая 2021            Коваленко Александр Ан   \n847      11 мая 2021          Нуриев Эдуард Рамзилович   \n848   22 апреля 2021        Самойленко Денис Сергеевич   \n\n                     contact_email                       seller_name  \\\n0                  zalognpa@vtb.ru                    Банк ВТБ (ПАО)   \n1                  zalognpa@vtb.ru                    Банк ВТБ (ПАО)   \n2              gaas-ag@sberbank.ru                   Физическое лицо   \n3          bryunel.e.z@sberbank.ru                   Физическое лицо   \n4             aplesnyaev@gmail.com  Плесняев Александр Александрович   \n..                             ...                               ...   \n844  kovalenkoaan@vladimir.rshb.ru               АО \"Россельхозбанк\"   \n845  kovalenkoaan@vladimir.rshb.ru               АО \"Россельхозбанк\"   \n846  kovalenkoaan@vladimir.rshb.ru               АО \"Россельхозбанк\"   \n847          lnugaev@kazan.rshb.ru               АО \"Россельхозбанк\"   \n848       dssamoylenko@sberbank.ru                      ПАО Сбербанк   \n\n            area   cadastral_number  price_value  \\\n0            NaN                NaN  48700000.00   \n1            NaN                NaN  48700000.00   \n2    251.11 сот.   22:64:020203:645 145500000.00   \n3    505.74 сот.  76:11:000000:1098   4500000.00   \n4      5045 сот.  50:18:0050302:572  23450000.00   \n..           ...                ...          ...   \n844   15.27 сот.   33:02:021015:562  10709963.00   \n845   13.21 сот.   33:02:021015:561   9265136.00   \n846   16.76 сот.   33:02:021015:560  11755032.00   \n847    1501 сот.   16:39:131301:430    226651.00   \n848     100 сот.    69:45:0080238:9   8270000.00   \n\n                           cadastral_geocode  \n0                                        NaN  \n1                                        NaN  \n2     [84.88831594503662, 51.94720028246027]  \n3     [38.88962726762723, 56.77190698765615]  \n4    [35.340751735565306, 55.73199800626753]  \n..                                       ...  \n844   [38.82900562858026, 56.21913602478085]  \n845       'bool' object is not subscriptable  \n846    [38.8300820194728, 56.21983629294916]  \n847  [52.73092958759532, 55.822853130025955]  \n848   [33.14393000643601, 57.14073651577907]  \n\n[849 rows x 16 columns]",
      "text/html": "<div>\n<style scoped>\n    .dataframe tbody tr th:only-of-type {\n        vertical-align: middle;\n    }\n\n    .dataframe tbody tr th {\n        vertical-align: top;\n    }\n\n    .dataframe thead th {\n        text-align: right;\n    }\n</style>\n<table border=\"1\" class=\"dataframe\">\n  <thead>\n    <tr style=\"text-align: right;\">\n      <th></th>\n      <th>links</th>\n      <th>asset_id</th>\n      <th>contact</th>\n      <th>seller</th>\n      <th>specific_fields</th>\n      <th>price</th>\n      <th>views</th>\n      <th>region_str</th>\n      <th>publication_date</th>\n      <th>contact_name</th>\n      <th>contact_email</th>\n      <th>seller_name</th>\n      <th>area</th>\n      <th>cadastral_number</th>\n      <th>price_value</th>\n      <th>cadastral_geocode</th>\n    </tr>\n  </thead>\n  <tbody>\n    <tr>\n      <th>0</th>\n      <td>https://portal-da.ru/objects/814114-zemlya-pod...</td>\n      <td>814114</td>\n      <td>{\"name\":\"Контактный Центр Банка\",\"email\":\"zalo...</td>\n      <td>{\"name\":\"Банк ВТБ (ПАО)\",\"assets_count\":603}</td>\n      <td>[]</td>\n      <td>\"48,7 млн ₽\"</td>\n      <td>1535 просмотр</td>\n      <td>Российская Федерация, Московская область, Один...</td>\n      <td>15 ноября 2022</td>\n      <td>Контактный Центр Банка</td>\n      <td>zalognpa@vtb.ru</td>\n      <td>Банк ВТБ (ПАО)</td>\n      <td>NaN</td>\n      <td>NaN</td>\n      <td>48700000.00</td>\n      <td>NaN</td>\n    </tr>\n    <tr>\n      <th>1</th>\n      <td>https://portal-da.ru/objects/814114-zemlya-pod...</td>\n      <td>814114</td>\n      <td>{\"name\":\"Контактный Центр Банка\",\"email\":\"zalo...</td>\n      <td>{\"name\":\"Банк ВТБ (ПАО)\",\"assets_count\":603}</td>\n      <td>[]</td>\n      <td>\"48,7 млн ₽\"</td>\n      <td>1535 просмотр</td>\n      <td>Российская Федерация, Московская область, Один...</td>\n      <td>15 ноября 2022</td>\n      <td>Контактный Центр Банка</td>\n      <td>zalognpa@vtb.ru</td>\n      <td>Банк ВТБ (ПАО)</td>\n      <td>NaN</td>\n      <td>NaN</td>\n      <td>48700000.00</td>\n      <td>NaN</td>\n    </tr>\n    <tr>\n      <th>2</th>\n      <td>https://portal-da.ru/objects/641505-zemlya-pod...</td>\n      <td>641505</td>\n      <td>{\"name\":\"Гаас Александра Георгиевна\",\"email\":\"...</td>\n      <td>{\"name\":\"Физическое лицо\",\"assets_count\":0}</td>\n      <td>[{\"name\":\"Площадь\",\"value\":\"251.11 сот.\",\"fiel...</td>\n      <td>\"145,5 млн ₽\"</td>\n      <td>2311 просмотр</td>\n      <td>Российская Федерация, Алтайский край, г Белоку...</td>\n      <td>31 марта 2022</td>\n      <td>Гаас Александра Георгиевна</td>\n      <td>gaas-ag@sberbank.ru</td>\n      <td>Физическое лицо</td>\n      <td>251.11 сот.</td>\n      <td>22:64:020203:645</td>\n      <td>145500000.00</td>\n      <td>[84.88831594503662, 51.94720028246027]</td>\n    </tr>\n    <tr>\n      <th>3</th>\n      <td>https://portal-da.ru/objects/169347-zemelnyy-u...</td>\n      <td>169347</td>\n      <td>{\"name\":\"Брюнель Ева Жисленовна\",\"email\":\"bryu...</td>\n      <td>{\"name\":\"Физическое лицо\",\"assets_count\":0}</td>\n      <td>[{\"name\":\"Площадь\",\"value\":\"505.74 сот.\",\"fiel...</td>\n      <td>\"4,5 млн ₽\"</td>\n      <td>466 просмотр</td>\n      <td>Российская Федерация, Ярославская область, Пер...</td>\n      <td>18 апреля 2022</td>\n      <td>Брюнель Ева Жисленовна</td>\n      <td>bryunel.e.z@sberbank.ru</td>\n      <td>Физическое лицо</td>\n      <td>505.74 сот.</td>\n      <td>76:11:000000:1098</td>\n      <td>4500000.00</td>\n      <td>[38.88962726762723, 56.77190698765615]</td>\n    </tr>\n    <tr>\n      <th>4</th>\n      <td>https://portal-da.ru/objects/899895-zemlya-pod...</td>\n      <td>899895</td>\n      <td>{\"name\":\"Плесняев Александр Александрович\",\"em...</td>\n      <td>{\"name\":\"Плесняев Александр Александрович\",\"as...</td>\n      <td>[{\"name\":\"Площадь\",\"value\":\"5045 сот.\",\"field\"...</td>\n      <td>\"23,45 млн ₽\"</td>\n      <td>1286 просмотр</td>\n      <td>Российская Федерация, Московская область, г Мо...</td>\n      <td>25 июня 2022</td>\n      <td>Плесняев Александр Александрович</td>\n      <td>aplesnyaev@gmail.com</td>\n      <td>Плесняев Александр Александрович</td>\n      <td>5045 сот.</td>\n      <td>50:18:0050302:572</td>\n      <td>23450000.00</td>\n      <td>[35.340751735565306, 55.73199800626753]</td>\n    </tr>\n    <tr>\n      <th>...</th>\n      <td>...</td>\n      <td>...</td>\n      <td>...</td>\n      <td>...</td>\n      <td>...</td>\n      <td>...</td>\n      <td>...</td>\n      <td>...</td>\n      <td>...</td>\n      <td>...</td>\n      <td>...</td>\n      <td>...</td>\n      <td>...</td>\n      <td>...</td>\n      <td>...</td>\n      <td>...</td>\n    </tr>\n    <tr>\n      <th>844</th>\n      <td>https://portal-da.ru/objects/691104-zemlya-pod...</td>\n      <td>691104</td>\n      <td>{\"name\":\"Коваленко Александр Ан\",\"email\":\"kova...</td>\n      <td>{\"name\":\"АО \\\"Россельхозбанк\\\"\",\"assets_count\"...</td>\n      <td>[{\"name\":\"Площадь\",\"value\":\"15.27 сот.\",\"field...</td>\n      <td>\"107 099,63 ₽\"</td>\n      <td>269 просмотр</td>\n      <td>Российская Федерация, Владимирская область, Ки...</td>\n      <td>20 мая 2021</td>\n      <td>Коваленко Александр Ан</td>\n      <td>kovalenkoaan@vladimir.rshb.ru</td>\n      <td>АО \"Россельхозбанк\"</td>\n      <td>15.27 сот.</td>\n      <td>33:02:021015:562</td>\n      <td>10709963.00</td>\n      <td>[38.82900562858026, 56.21913602478085]</td>\n    </tr>\n    <tr>\n      <th>845</th>\n      <td>https://portal-da.ru/objects/630263-zemlya-pod...</td>\n      <td>630263</td>\n      <td>{\"name\":\"Коваленко Александр Ан\",\"email\":\"kova...</td>\n      <td>{\"name\":\"АО \\\"Россельхозбанк\\\"\",\"assets_count\"...</td>\n      <td>[{\"name\":\"Площадь\",\"value\":\"13.21 сот.\",\"field...</td>\n      <td>\"92 651,36 ₽\"</td>\n      <td>279 просмотр</td>\n      <td>Российская Федерация, Владимирская область, Ки...</td>\n      <td>20 мая 2021</td>\n      <td>Коваленко Александр Ан</td>\n      <td>kovalenkoaan@vladimir.rshb.ru</td>\n      <td>АО \"Россельхозбанк\"</td>\n      <td>13.21 сот.</td>\n      <td>33:02:021015:561</td>\n      <td>9265136.00</td>\n      <td>'bool' object is not subscriptable</td>\n    </tr>\n    <tr>\n      <th>846</th>\n      <td>https://portal-da.ru/objects/177552-zemlya-pod...</td>\n      <td>177552</td>\n      <td>{\"name\":\"Коваленко Александр Ан\",\"email\":\"kova...</td>\n      <td>{\"name\":\"АО \\\"Россельхозбанк\\\"\",\"assets_count\"...</td>\n      <td>[{\"name\":\"Площадь\",\"value\":\"16.76 сот.\",\"field...</td>\n      <td>\"117 550,32 ₽\"</td>\n      <td>281 просмотр</td>\n      <td>Российская Федерация, Владимирская область, Ки...</td>\n      <td>20 мая 2021</td>\n      <td>Коваленко Александр Ан</td>\n      <td>kovalenkoaan@vladimir.rshb.ru</td>\n      <td>АО \"Россельхозбанк\"</td>\n      <td>16.76 сот.</td>\n      <td>33:02:021015:560</td>\n      <td>11755032.00</td>\n      <td>[38.8300820194728, 56.21983629294916]</td>\n    </tr>\n    <tr>\n      <th>847</th>\n      <td>https://portal-da.ru/objects/841885-zemlya-pod...</td>\n      <td>841885</td>\n      <td>{\"name\":\"Нуриев Эдуард Рамзилович\",\"email\":\"ln...</td>\n      <td>{\"name\":\"АО \\\"Россельхозбанк\\\"\",\"assets_count\"...</td>\n      <td>[{\"name\":\"Площадь\",\"value\":\"1501 сот.\",\"field\"...</td>\n      <td>\"226 651 ₽\"</td>\n      <td>610 просмотр</td>\n      <td>Российская Федерация, Татарстан, Тукаевский</td>\n      <td>11 мая 2021</td>\n      <td>Нуриев Эдуард Рамзилович</td>\n      <td>lnugaev@kazan.rshb.ru</td>\n      <td>АО \"Россельхозбанк\"</td>\n      <td>1501 сот.</td>\n      <td>16:39:131301:430</td>\n      <td>226651.00</td>\n      <td>[52.73092958759532, 55.822853130025955]</td>\n    </tr>\n    <tr>\n      <th>848</th>\n      <td>https://portal-da.ru/objects/419254-zemelnyy-u...</td>\n      <td>419254</td>\n      <td>{\"name\":\"Самойленко Денис Сергеевич\",\"email\":\"...</td>\n      <td>{\"name\":\"ПАО Сбербанк\",\"assets_count\":3244}</td>\n      <td>[{\"name\":\"Площадь\",\"value\":\"100 сот.\",\"field\":...</td>\n      <td>\"8,27 млн ₽\"</td>\n      <td>461 просмотр</td>\n      <td>Российская Федерация, Тверская область, г Оста...</td>\n      <td>22 апреля 2021</td>\n      <td>Самойленко Денис Сергеевич</td>\n      <td>dssamoylenko@sberbank.ru</td>\n      <td>ПАО Сбербанк</td>\n      <td>100 сот.</td>\n      <td>69:45:0080238:9</td>\n      <td>8270000.00</td>\n      <td>[33.14393000643601, 57.14073651577907]</td>\n    </tr>\n  </tbody>\n</table>\n<p>849 rows × 16 columns</p>\n</div>"
     },
     "execution_count": 227,
     "metadata": {},
     "output_type": "execute_result"
    }
   ],
   "source": [
    "links_df"
   ],
   "metadata": {
    "collapsed": false,
    "pycharm": {
     "name": "#%%\n"
    }
   }
  },
  {
   "cell_type": "code",
   "execution_count": 229,
   "outputs": [],
   "source": [
    "from geopy.geocoders import Nominatim\n",
    "geolocator = Nominatim(user_agent=\"my app\")"
   ],
   "metadata": {
    "collapsed": false,
    "pycharm": {
     "name": "#%%\n"
    }
   }
  },
  {
   "cell_type": "code",
   "execution_count": 235,
   "outputs": [],
   "source": [
    "raw_str = geolocator.geocode(\"Российская Федерация, Московская область, Одинцово\").raw"
   ],
   "metadata": {
    "collapsed": false,
    "pycharm": {
     "name": "#%%\n"
    }
   }
  },
  {
   "cell_type": "code",
   "execution_count": 239,
   "outputs": [
    {
     "data": {
      "text/plain": "'55.6711507'"
     },
     "execution_count": 239,
     "metadata": {},
     "output_type": "execute_result"
    }
   ],
   "source": [
    "raw_str['lat']"
   ],
   "metadata": {
    "collapsed": false,
    "pycharm": {
     "name": "#%%\n"
    }
   }
  },
  {
   "cell_type": "code",
   "execution_count": 240,
   "outputs": [
    {
     "data": {
      "text/plain": "'37.2727963'"
     },
     "execution_count": 240,
     "metadata": {},
     "output_type": "execute_result"
    }
   ],
   "source": [
    "raw_str['lon']"
   ],
   "metadata": {
    "collapsed": false,
    "pycharm": {
     "name": "#%%\n"
    }
   }
  },
  {
   "cell_type": "code",
   "execution_count": 258,
   "outputs": [],
   "source": [
    "def parse_out_region_str(region_str):\n",
    "    \"\"\"\n",
    "    Function to get geocode of region_str\n",
    "    :param region_str:\n",
    "    :return:\n",
    "    \"\"\"\n",
    "    try:\n",
    "        raw_info = geolocator.geocode(region_str).raw\n",
    "    except:\n",
    "        return np.NaN\n",
    "    return [raw_info['lat'], raw_info['lon']]"
   ],
   "metadata": {
    "collapsed": false,
    "pycharm": {
     "name": "#%%\n"
    }
   }
  },
  {
   "cell_type": "code",
   "execution_count": 259,
   "outputs": [
    {
     "data": {
      "text/plain": "  0%|          | 0/831 [00:00<?, ?it/s]",
      "application/vnd.jupyter.widget-view+json": {
       "version_major": 2,
       "version_minor": 0,
       "model_id": "a54d202cd02b49c2a2891d94b8371a20"
      }
     },
     "metadata": {},
     "output_type": "display_data"
    }
   ],
   "source": [
    "applied_df = pd.DataFrame()\n",
    "applied_df['region_geocode'] = links_df.loc[links_df['region_str'].str.len()>3, 'region_str'].progress_apply(lambda x: parse_out_region_str(x))\n",
    "links_df = pd.concat([links_df, applied_df], axis=1)"
   ],
   "metadata": {
    "collapsed": false,
    "pycharm": {
     "name": "#%%\n"
    }
   }
  },
  {
   "cell_type": "code",
   "execution_count": 254,
   "outputs": [
    {
     "data": {
      "text/plain": "  0%|          | 0/5 [00:00<?, ?it/s]",
      "application/vnd.jupyter.widget-view+json": {
       "version_major": 2,
       "version_minor": 0,
       "model_id": "05ce4d118d754516bdeb98cffe729bf0"
      }
     },
     "metadata": {},
     "output_type": "display_data"
    }
   ],
   "source": [
    "buf_df = links_df.loc[links_df['region_str'].str.len()>3][:5]\n",
    "applied_df = pd.DataFrame()\n",
    "applied_df['region_geocode'] = buf_df['region_str'].progress_apply(lambda x: parse_out_region_str(x))\n",
    "united_df = pd.concat([buf_df, applied_df], axis=1)"
   ],
   "metadata": {
    "collapsed": false,
    "pycharm": {
     "name": "#%%\n"
    }
   }
  },
  {
   "cell_type": "code",
   "execution_count": 262,
   "outputs": [],
   "source": [
    "links_df.to_excel(r'data/exploded_data_150123.xlsx', index=False)"
   ],
   "metadata": {
    "collapsed": false,
    "pycharm": {
     "name": "#%%\n"
    }
   }
  },
  {
   "cell_type": "code",
   "execution_count": null,
   "outputs": [],
   "source": [],
   "metadata": {
    "collapsed": false,
    "pycharm": {
     "name": "#%%\n"
    }
   }
  }
 ],
 "metadata": {
  "kernelspec": {
   "name": "portal_da",
   "language": "python",
   "display_name": "portal_da"
  },
  "language_info": {
   "codemirror_mode": {
    "name": "ipython",
    "version": 2
   },
   "file_extension": ".py",
   "mimetype": "text/x-python",
   "name": "python",
   "nbconvert_exporter": "python",
   "pygments_lexer": "ipython2",
   "version": "2.7.6"
  }
 },
 "nbformat": 4,
 "nbformat_minor": 0
}