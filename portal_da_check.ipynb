{
 "cells": [
  {
   "cell_type": "code",
   "execution_count": 2,
   "metadata": {
    "collapsed": true,
    "pycharm": {
     "name": "#%%\n"
    }
   },
   "outputs": [],
   "source": [
    "import requests\n",
    "import pandas as pd"
   ]
  },
  {
   "cell_type": "code",
   "execution_count": 2,
   "outputs": [],
   "source": [],
   "metadata": {
    "collapsed": false,
    "pycharm": {
     "name": "#%%\n"
    }
   }
  },
  {
   "cell_type": "code",
   "execution_count": null,
   "outputs": [],
   "source": [],
   "metadata": {
    "collapsed": false,
    "pycharm": {
     "name": "#%%\n"
    }
   }
  },
  {
   "cell_type": "code",
   "execution_count": 3,
   "outputs": [],
   "source": [
    "agent_str = 'Mozilla/5.0 (X11; Linux x86_64) AppleWebKit/537.36 (KHTML, like Gecko) Chrome/91.0.4472.114 Safari/537.36'"
   ],
   "metadata": {
    "collapsed": false,
    "pycharm": {
     "name": "#%%\n"
    }
   }
  },
  {
   "cell_type": "code",
   "execution_count": 4,
   "outputs": [],
   "source": [
    "link_str = r'https://portal-da.ru/objects/catalog/buy'"
   ],
   "metadata": {
    "collapsed": false,
    "pycharm": {
     "name": "#%%\n"
    }
   }
  },
  {
   "cell_type": "code",
   "execution_count": 5,
   "outputs": [],
   "source": [
    "r = requests.get(link_str, headers={'user-agent': agent_str})"
   ],
   "metadata": {
    "collapsed": false,
    "pycharm": {
     "name": "#%%\n"
    }
   }
  },
  {
   "cell_type": "code",
   "execution_count": 6,
   "outputs": [],
   "source": [
    "html_text = r.text"
   ],
   "metadata": {
    "collapsed": false,
    "pycharm": {
     "name": "#%%\n"
    }
   }
  },
  {
   "cell_type": "code",
   "execution_count": 7,
   "outputs": [
    {
     "data": {
      "text/plain": "'<!DOCTYPE html><html lang=\"ru\"><head><meta charset=\"utf-8\" /><meta content=\"width=device-width, initial-scale=1\" name=\"viewport\" /><title>Купить залоги Сбербанка и других банков, активы на продажу</title><meta content=\"купить залоги сбербанка, купить залоги банков, залоги сбербанка, залоги банков, портал доступные активы, активы для бизнеса, купить бизнес, купить готовый бизнес, продать бизнес, продать готовый бизнес, \\nнепрофильные активы, непрофильные активы сбербанка, непрофильные активы банков, купить залоговые активы, купить залоговое имущество, купить залоги, залоговые активы, купить завод, продать завод, \\nкупить предприятие, продать предприятие, купить сельскохозяйственный актив, купить сельскохозяйственный актив, купить коммерческую недвижимость, продать коммерческую недвижимость, \\nкупить помещение, продать помещение, купить офис, продать офис\\n\" name=\"keywords\"><meta content=\"Купить залоги Сбербанка и других банков, активы на продажу\" name=\"title\"><meta content=\"Залоги Сбербанка, залоги банков, непрофильные активы компаний, реализация залогового имущества по всей территории России\" name=\"description\"><meta content=\"website\" property=\"og:type\"><meta content=\"https://portal-da.ru/objects/catalog/buy\" property=\"og:url\"><meta content=\"Купить залоги Сбербанка и других банков, активы на продажу\" property=\"og:title\"><meta content=\"Залоги Сбербанка, залоги банков, непрофильные активы компаний, реализация залогового имущества по всей территории России\" property=\"og:description\"><meta content=\"/preview.png?v2\" property=\"og:image\"><meta content=\"summary_large_image\" property=\"twitter:card\"><meta content=\"https://portal-da.ru/objects/catalog/buy\" property=\"twitter:url\"><meta content=\"Купить залоги Сбербанка и других банков, активы на продажу\" property=\"twitter:title\"><meta content=\"Залоги Сбербанка, залоги банков, непрофильные активы компаний, реализация залогового имущества по всей территории России\" property=\"twitter:description\"><meta content=\"/preview.png?v2\" property=\"twitter:image\"><link href=\"/apple-touch-icon.png\" rel=\"apple-touch-icon\" /><link href=\"/icon.png\" rel=\"icon\" sizes=\"128x128\" /><link href=\"https://portal-da.ru/objects/catalog/buy\" rel=\"canonical\" /><meta name=\"csrf-param\" content=\"authenticity_token\" />\\n<meta name=\"csrf-token\" content=\"pp_3zQlc_Z5FdHQR3xACkQc800tjZwrb7YYMxvUrIaV-oGL8ww67Hm5cfxs7eYUXHhBb7EE90Go_2YEXLaJ-WQ\" /><script>\\n//<![CDATA[\\nwindow.general={};general.env=\"production\";general.commit=\"63bbc923a9325d162bf13d269ff5a8879e49ce76\";general.banner={\"enabled\":true};general.sentry={\"enabled\":true,\"dsn\":\"https://ceab64b3bc3648ea9985a2654ea66b08@o286496.ingest.sentry.io/5281802\"};general.features={\"sbol\":true,\"sbbol\":true};general.can_toggle_favorite=false;general.placement_purpose=\"buy\";\\n//]]>\\n</script><script defer=\"defer\" src=\"/build/styles.d41d8cd9.js\"></script><link href=\"/build/styles.781bfc66.css\" rel=\"stylesheet\"><script defer=\"defer\" src=\"/build/runtime.697d51d7.js\"></script><script defer=\"defer\" src=\"/build/mdi.124cca06.js\"></script><script defer=\"defer\" src=\"/build/vendors.ec04a762.js\"></script><script defer=\"defer\" src=\"/build/catalog.072c7a56.js\"></script><link href=\"/build/vendors.e43a1d84.css\" rel=\"stylesheet\"><link href=\"/build/catalog.6592e983.css\" rel=\"stylesheet\"></head><body class=\"catalog-html vuetify-custom-theme\"><!-- Yandex.Metrika counter -->\\n<script type=\"text/javascript\" >\\n  (function(m,e,t,r,i,k,a){m[i]=m[i]||function(){(m[i].a=m[i].a||[]).push(arguments)};\\n  m[i].l=1*new Date();k=e.createElement(t),a=e.getElementsByTagName(t)[0],k.async=1,k.src=r,a.parentNode.insertBefore(k,a)})\\n  (window, document, \"script\", \"https://mc.yandex.ru/metrika/tag.js\", \"ym\");\\n\\n  ym(49130266, \"init\", {\\n       clickmap: true,\\n       trackLinks: true,\\n       accurateTrackBounce: true,\\n       webvisor: true,\\n       userParams: general.ym_user\\n  });\\n</script>\\n<noscript><div><img src=\"https://mc.yandex.ru/watch/49130266\" style=\"position:absolute; left:-9999px;\" alt=\"\" /></div></noscript>\\n<!-- /Yandex.Metrika counter -->\\n\\n<!-- Global site tag (gtag.js) - Google Analytics -->\\n<script async src=\"https://www.googletagmanager.com/gtag/js?id=G-LF75QFYV0E\"></script>\\n<script>\\n  window.dataLayer = window.dataLayer || [];\\n  function gtag(){dataLayer.push(arguments);}\\n  gtag(\\'js\\', new Date());\\n\\n  gtag(\\'config\\', \\'G-LF75QFYV0E\\');\\n</script>\\n<div class=\"layout-catalog\"><header class=\"layout-catalog__header layout-header\"><div class=\"header-section header-section--black\"><div class=\"layout-header__padder\"><div class=\"layout-header__content-wrapper\"><div class=\"header-topnav\"><div class=\"header-topnav__left\" role=\"navigation\"><a class=\"header-topnav-link header-topnav-link--current\" aria-current=\"page\" href=\"/objects/catalog/buy\">Активы</a></div><div class=\"header-topnav__right\" role=\"navigation\"><a class=\"header-topnav-link\" href=\"/about\">О проекте</a><a class=\"header-topnav-link\" href=\"/blog\">Блог</a><a class=\"header-topnav-link\" href=\"/faq\">Помощь</a></div></div></div></div></div><div class=\"header-section header-section--white vuetify-custom-theme\"><div class=\"layout-header__padder\"><div class=\"layout-header__content-wrapper\"><div class=\"site-header\"><div class=\"site-header__logo\"><a class=\"portal-da-logo\" href=\"/\"><span class=\"visually-hidden\">Переход на главную страницу сайта</span><img alt=\"\" class=\"portal-da-logo__svg portal-da-logo__svg--da\" src=\"/media/images/auth/svgs/logo-da.11da7137.svg\" /><svg aria-hidden=\"true\" class=\"portal-da-logo__svg portal-da-logo__svg--text\" focusable=\"false\" viewBox=\"0 0 101 16\" xmlns=\"http://www.w3.org/2000/svg\"><path d=\"M6.71991 1.00016H0.659912V15.0002H3.89991V11.1402H6.71991C10.4599 11.1402 12.7999 9.20016 12.7999 6.08016C12.7999 2.94016 10.4599 1.00016 6.71991 1.00016ZM6.53991 8.50016H3.89991V3.64016H6.53991C8.51991 3.64016 9.51991 4.54016 9.51991 6.08016C9.51991 7.60016 8.51991 8.50016 6.53991 8.50016Z\" /><path d=\"M19.9935 15.1602C23.4135 15.1602 25.8935 12.8602 25.8935 9.62016C25.8935 6.38016 23.4135 4.08016 19.9935 4.08016C16.5735 4.08016 14.0735 6.38016 14.0735 9.62016C14.0735 12.8602 16.5735 15.1602 19.9935 15.1602ZM19.9935 12.6002C18.4335 12.6002 17.2335 11.4802 17.2335 9.62016C17.2335 7.76016 18.4335 6.64016 19.9935 6.64016C21.5535 6.64016 22.7335 7.76016 22.7335 9.62016C22.7335 11.4802 21.5535 12.6002 19.9935 12.6002Z\" /><path d=\"M30.959 5.66016V4.24016H27.979V15.0002H31.099V9.92016C31.099 7.86016 32.239 6.92016 33.959 6.92016C34.199 6.92016 34.399 6.94016 34.659 6.96016V4.08016C32.999 4.08016 31.719 4.62016 30.959 5.66016Z\" /><path d=\"M42.9852 12.2802C42.6452 12.5402 42.1852 12.6802 41.7252 12.6802C40.8852 12.6802 40.3852 12.1802 40.3852 11.2602V6.88016H43.0652V4.48016H40.3852V1.86016H37.2652V4.48016H35.6052V6.88016H37.2652V11.3002C37.2652 13.8602 38.7452 15.1602 41.2852 15.1602C42.2452 15.1602 43.1852 14.9402 43.8252 14.4802L42.9852 12.2802Z\" /><path d=\"M49.9166 4.08016C48.1966 4.08016 46.4566 4.54016 45.2766 5.38016L46.3966 7.56016C47.1766 6.94016 48.3566 6.56016 49.4966 6.56016C51.1766 6.56016 51.9766 7.34016 51.9766 8.68016H49.4966C46.2166 8.68016 44.8766 10.0002 44.8766 11.9002C44.8766 13.7602 46.3766 15.1602 48.8966 15.1602C50.4766 15.1602 51.5966 14.6402 52.1766 13.6602V15.0002H55.0966V8.86016C55.0966 5.60016 53.1966 4.08016 49.9166 4.08016ZM49.6766 13.0602C48.5766 13.0602 47.9166 12.5402 47.9166 11.7602C47.9166 11.0402 48.3766 10.5002 49.8366 10.5002H51.9766V11.6002C51.6166 12.5802 50.7166 13.0602 49.6766 13.0602Z\" /><path d=\"M57.9204 15.0002H61.0404V0.160156H57.9204V15.0002Z\" /><path d=\"M69.8201 15.0002H76.1801C80.7601 15.0002 83.9001 12.2402 83.9001 8.00016C83.9001 3.76016 80.7601 1.00016 76.1801 1.00016H69.8201V15.0002ZM73.0601 12.3402V3.66016H76.0201C78.8001 3.66016 80.6201 5.32016 80.6201 8.00016C80.6201 10.6802 78.8001 12.3402 76.0201 12.3402H73.0601Z\" /><path d=\"M96.6082 15.0002H100.008L93.7482 1.00016H90.5482L84.3082 15.0002H87.6282L88.8682 12.0002H95.3682L96.6082 15.0002ZM89.9082 9.54016L92.1282 4.18016L94.3482 9.54016H89.9082Z\" /></svg></a></div><div class=\"site-header__nav-left\"><a rel=\"prerender\" class=\"site-header-link site-header-link--block site-header-link--active\" aria-current=\"page\" href=\"/objects/catalog/buy\">Купить</a><a class=\"site-header-link site-header-link--block\" href=\"/objects/catalog/rent\">Снять</a><a class=\"site-header-link site-header-link--block\" href=\"/services\">Сервисы</a></div><div class=\"site-header__nav-right\"><a class=\"site-header-link site-header-link--add-asset\" data-method=\"get\" href=\"/auth/sign_in\"><div class=\"icon icon-add-round\"></div>Разместить актив на продажу</a></div><div class=\"site-header__actions\"><a class=\"button button--secondary\" rel=\"prerender\" href=\"/auth/sign_in\"><div class=\"icon icon-enter c-icon--primary mr-2\"></div>Вход и регистрация</a></div></div></div></div></div><div class=\"header-section header-section--white\"><div class=\"layout-header__padder\"><div class=\"layout-header__content-wrapper\" style=\"height: 64px;\"><div class=\"the-catalog-search-bar\" data-widget=\"catalog-search-bar-widget\"></div></div></div></div></header><main class=\"layout-catalog__main\"><div data-widget-template=\"catalog-view-widget\"><div class=\"resize-observer\" v-resize=\"debouncedUpdateModes\"></div><template v-if=\"viewMode === &#39;map&#39;\"><catalog-map-view :view-mode=\"viewMode\"><template #header-actions=\"\"><catalog-view-mode-toggler :options=\"viewModes\" v-model=\"viewMode\"></catalog-view-mode-toggler></template></catalog-map-view></template><template v-if=\"viewMode === &#39;grid&#39; || viewMode === &#39;list&#39;\"><div class=\"content-layout content-layout--no-aside\"><div class=\"content-layout__header\"><div class=\"content-layout__breadcrumbs\"><nav aria-label=\"навигация хлебными крошками\" class=\"page-breadcrumbs\"><div class=\"page-breadcrumbs__link\">Каталог</div></nav></div><div class=\"content-layout__compound-title\"><h1 class=\"content-layout__title\">Покупка</h1><span class=\"content-layout__title--sup\" v-text=\"assetsTotalCount\"></span><catalog-search-saver></catalog-search-saver></div><catalog-badge-filters class=\"mt-4\"></catalog-badge-filters></div><div class=\"content-layout__main\"><catalog-listing-view :view-mode=\"viewMode\"><template #header-actions=\"\"><catalog-view-mode-toggler :options=\"viewModes\" transparent=\"\" v-model=\"viewMode\"></catalog-view-mode-toggler></template></catalog-listing-view></div></div></template></div></main><section class=\"layout-catalog__description\"><div class=\"catalog-description\"><h2 class=\"catalog-description__title\">О разделе</h2><div class=\"catalog-description__content\">Купить залоги банков (в т. ч. Сбербанка) для бизнеса и личных целей стало доступно и просто. На нашем портале большой выбор активов, находящихся в залоге у Сбера, и других российских банков. Приобретая залоговое имущество на публичных площадках, таких как Portal DA, вы получаете гарантию покупки юридически чистого залогового имущества. Широкий выбор коммерческой недвижимости в Москве и по всей России - от торговых центров со стабильным доходом от аренды торговых помещений (магазинов, ресторанов, развлекательных центров и т. п..) до земель и предприятий сельхоз назначения, а также оборудования для любого вида производства и деятельности, по ценам ниже рыночной стоимости. Для физических лиц огромный выбор от квартир, домов, коттеджей, земельных участков под индивидуальное строительство до автомобилей и ювелирных изделий (в категории &quot;Другие активы&quot;). Все, что нужно для успешного старта и расширения бизнеса есть в нашем маркетплейсе залогового имущества.</div></div></section><aside class=\"layout-catalog__sidebar\"><div class=\"catalog-sidebar\"><section class=\"catalog-sidebar__section--full\"><h3 class=\"catalog-sidebar__title\">Категории</h3><div class=\"catalog-sidebar__categories\"><a class=\"catalog-sidebar__category-item category-link\" href=\"/objects/catalog/buy/retail_realty\">Коммерческая недвижимость</a><a class=\"catalog-sidebar__category-item category-link\" href=\"/objects/catalog/buy/living_realty\">Жилая недвижимость</a><a class=\"catalog-sidebar__category-item category-link\" href=\"/objects/catalog/buy/section\">Земельные участки</a><a class=\"catalog-sidebar__category-item category-link\" href=\"/objects/catalog/buy/factory\">Производство</a><a class=\"catalog-sidebar__category-item category-link\" href=\"/objects/catalog/buy/agri\">Сельскохозяйственные активы</a><a class=\"catalog-sidebar__category-item category-link\" href=\"/objects/catalog/buy/cafe\">Рестораны, развлекательные комплексы</a><a class=\"catalog-sidebar__category-item category-link\" href=\"/objects/catalog/buy/truck\">Спецтехника, грузовой и крупный пассажирский транспорт</a><a class=\"catalog-sidebar__category-item category-link\" href=\"/objects/catalog/buy/light_transport\">Легковой транспорт</a><a class=\"catalog-sidebar__category-item category-link\" href=\"/objects/catalog/buy/equipment\">Оборудование</a><a class=\"catalog-sidebar__category-item category-link\" href=\"/objects/catalog/buy/other\">Другие активы</a></div></section><div class=\"catalog-sidebar__divider\"></div><div class=\"v-application\"><div data-widget=\"catalog-sidebar-filters-widget\"></div></div></div></aside><footer class=\"layout-catalog__footer\"><div class=\"footer\"><nav class=\"footer__nav\"><nav class=\"site-nav\"><a class=\"site-nav__link\" href=\"/objects/catalog/buy\">Активы</a><a class=\"site-nav__link\" onclick=\"$authModal.openModal(&quot;/objects/my_trades&quot;)\">Аукционы</a><a class=\"site-nav__link\" href=\"/about\">О проекте</a><a class=\"site-nav__link\" href=\"/faq\">Помощь</a><a class=\"site-nav__link\" href=\"/blog\">Блог</a></nav></nav><section class=\"footer__section\"><div class=\"footer__logo\"><img src=\"/media/images/auth/svgs/logo-black60.ae0bdf21.svg\" /></div><div class=\"footer__contacts footer-contacts\"><div class=\"footer-contacts__title\">Консультация</div><div class=\"footer-contacts__phone\"><a class=\"link\" href=\"tel:+74955479894\">8 (495) 547-98-94</a></div><div class=\"footer-contacts__email\"><a class=\"link\" href=\"mailto:portal_da@sberbank.ru\">portal_da@sberbank.ru</a></div></div><div class=\"footer__apps app-links\"><div class=\"app-links__title\">Скачайте приложение</div><a class=\"app-links__appstore\" target=\"_blank\" rel=\"noopener\" href=\"https://apps.apple.com/ru/app/portal-da/id1463395501\"><img src=\"/media/images/svgs/app-store-black.d15d9436.svg\" /></a><a class=\"app-links__rustore\" target=\"_blank\" rel=\"noopener\" href=\"https://apps.rustore.ru/app/ru.activebc.portal.da\"><img src=\"/media/images/svgs/rustore-logo.23653048.svg\" /></a></div></section><div class=\"footer__legal footer-legal\"><div class=\"footer-legal__copyright\"><p class=\"copyright\">&copy; 2019–2023 Portal DA — Реализация непрофильных и залоговых активов</p></div><div class=\"footer-legal__politics\"><div class=\"politics\"><a class=\"politics__link\" target=\"_blank\" href=\"https://www.sberbank.ru/\">ПАО Сбербанк</a><a class=\"politics__link\" target=\"_blank\" href=\"/documents/politics.pdf\">Политика конфиденциальности</a><a class=\"politics__link\" target=\"_blank\" href=\"https://www.sberbank.ru/ru/pol_pd\">Политика обработки персональных данных</a></div></div></div></div></footer><div class=\"popup-wrapper\" data-selector=\"popup-wrapper\"></div></div></body></html>'"
     },
     "execution_count": 7,
     "metadata": {},
     "output_type": "execute_result"
    }
   ],
   "source": [
    "html_text"
   ],
   "metadata": {
    "collapsed": false,
    "pycharm": {
     "name": "#%%\n"
    }
   }
  },
  {
   "cell_type": "code",
   "execution_count": 8,
   "outputs": [],
   "source": [
    "with open('that_html.html', 'w') as html_file:\n",
    "    html_file.write(html_text)"
   ],
   "metadata": {
    "collapsed": false,
    "pycharm": {
     "name": "#%%\n"
    }
   }
  },
  {
   "cell_type": "code",
   "execution_count": 9,
   "outputs": [],
   "source": [
    "# просто так не дается portal-da с нуля, можно попробовать с готовой ссылки на объект"
   ],
   "metadata": {
    "collapsed": false,
    "pycharm": {
     "name": "#%%\n"
    }
   }
  },
  {
   "cell_type": "code",
   "execution_count": 10,
   "outputs": [],
   "source": [
    "another_str = r'https://portal-da.ru/objects/682752-ofisnoe-pomeschenie-nezhiloe-pomeschenie'"
   ],
   "metadata": {
    "collapsed": false,
    "pycharm": {
     "name": "#%%\n"
    }
   }
  },
  {
   "cell_type": "code",
   "execution_count": 11,
   "outputs": [],
   "source": [
    "r = requests.get(another_str, headers={'user-agent': agent_str})"
   ],
   "metadata": {
    "collapsed": false,
    "pycharm": {
     "name": "#%%\n"
    }
   }
  },
  {
   "cell_type": "code",
   "execution_count": 12,
   "outputs": [],
   "source": [
    "html_text = r.text"
   ],
   "metadata": {
    "collapsed": false,
    "pycharm": {
     "name": "#%%\n"
    }
   }
  },
  {
   "cell_type": "code",
   "execution_count": 13,
   "outputs": [],
   "source": [
    "with open('another_html.html', 'w') as html_file:\n",
    "    html_file.write(html_text)"
   ],
   "metadata": {
    "collapsed": false,
    "pycharm": {
     "name": "#%%\n"
    }
   }
  },
  {
   "cell_type": "code",
   "execution_count": 11,
   "outputs": [],
   "source": [
    "# цена здесь есть, так что в базовом варианте можно сделать следилку за конкретными объявлениями\n",
    "# можно новые ссылки получать из related assets\n",
    "# многие вещи не получается пока достать, но которые есть на странице => точный адрес, площадь"
   ],
   "metadata": {
    "collapsed": false,
    "pycharm": {
     "name": "#%%\n"
    }
   }
  },
  {
   "cell_type": "code",
   "execution_count": null,
   "outputs": [],
   "source": [],
   "metadata": {
    "collapsed": false,
    "pycharm": {
     "name": "#%%\n"
    }
   }
  },
  {
   "cell_type": "markdown",
   "source": [
    "ToDo а какие еще есть данные для фичей?\n",
    "<meta itemprop=\"category\" content=\"Офисное помещение\">\n",
    "<meta itemprop=\"price\" content=\"373327.98\">\n",
    "<meta itemprop=\"priceCurrency\" content=\"RUB\">\n",
    "<asset-badge class=\"mr-2\" kind=\"biddings\" large=\"\" top=\"\">Торги</asset-badge>\n",
    "<ui-icon class=\"c-icon--dimmed\" left=\"\" name=\"time-s\"></ui-icon>10 марта 2022</div>  # как давно висит\n",
    "</ui-icon>293 просмотра</div>\n",
    "<span class=\"mr-4\">Российская Федерация, Саха (Якутия), Усть-Янский</span> # геолокация\n",
    "<div class=\"asset-info__description\"><p>Состояние: удовлетворительное. Требуется текущий ремонт.</p> # состояние лота (возможно сделать фичу с ключевыми словами)"
   ],
   "metadata": {
    "collapsed": false,
    "pycharm": {
     "name": "#%% md\n"
    }
   }
  },
  {
   "cell_type": "code",
   "execution_count": null,
   "outputs": [],
   "source": [
    "# фичи:\n",
    "# идем в general в них:\n",
    "# 1 general.contact={\"name\":\"Сокорутов Василий Данилович\"\n",
    "# 2 general.specific_fields=[{\"name\":\"Функционирование\"\n",
    "# 3 general.specific_fields -> {\"name\":\"Общая площадь\", \"value\":\"103.85 м²\",\n",
    "# 4 {\"name\":\"Отделка помещения\", \"value\":\"Без отделки\",\n",
    "# 5 {\"name\":\"Электроэнергия\", \"value\":\"Да\",\n",
    "# 6 {\"name\":\"Снабжение водой и водоотведение\", \"value\":\"Да\",\n",
    "# 7 регион </div><div class=\"asset-page-card__address px-8 pb-6 mb-8\"> <span class=\"mr-4\">Российская Федерация, Саха (Якутия), Усть-Янский</span>\n",
    "# 8 просмотры </ui-icon>293 просмотра</div></div>\n",
    "# 9 аренда general.rent={\"cost\":\"4 818,\n",
    "# 10 цена general.price=\"373 327,98 ₽\"\n"
   ],
   "metadata": {
    "collapsed": false,
    "pycharm": {
     "name": "#%%\n"
    }
   }
  },
  {
   "cell_type": "code",
   "execution_count": null,
   "outputs": [],
   "source": [
    "# todo надо все то же самое сделать для другой страницы"
   ],
   "metadata": {
    "collapsed": false,
    "pycharm": {
     "name": "#%%\n"
    }
   }
  },
  {
   "cell_type": "code",
   "execution_count": null,
   "outputs": [],
   "source": [],
   "metadata": {
    "collapsed": false,
    "pycharm": {
     "name": "#%%\n"
    }
   }
  }
 ],
 "metadata": {
  "kernelspec": {
   "name": "portal_da",
   "language": "python",
   "display_name": "portal_da"
  },
  "language_info": {
   "codemirror_mode": {
    "name": "ipython",
    "version": 2
   },
   "file_extension": ".py",
   "mimetype": "text/x-python",
   "name": "python",
   "nbconvert_exporter": "python",
   "pygments_lexer": "ipython2",
   "version": "2.7.6"
  }
 },
 "nbformat": 4,
 "nbformat_minor": 0
}