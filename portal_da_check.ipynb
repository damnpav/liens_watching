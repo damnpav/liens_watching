{
 "cells": [
  {
   "cell_type": "code",
   "execution_count": 1,
   "metadata": {
    "collapsed": true,
    "pycharm": {
     "name": "#%%\n"
    }
   },
   "outputs": [],
   "source": [
    "import requests\n",
    "import pandas as pd"
   ]
  },
  {
   "cell_type": "code",
   "execution_count": 2,
   "outputs": [],
   "source": [],
   "metadata": {
    "collapsed": false,
    "pycharm": {
     "name": "#%%\n"
    }
   }
  },
  {
   "cell_type": "code",
   "execution_count": null,
   "outputs": [],
   "source": [],
   "metadata": {
    "collapsed": false,
    "pycharm": {
     "name": "#%%\n"
    }
   }
  },
  {
   "cell_type": "code",
   "execution_count": 2,
   "outputs": [],
   "source": [
    "agent_str = 'Mozilla/5.0 (X11; Linux x86_64) AppleWebKit/537.36 (KHTML, like Gecko) Chrome/91.0.4472.114 Safari/537.36'"
   ],
   "metadata": {
    "collapsed": false,
    "pycharm": {
     "name": "#%%\n"
    }
   }
  },
  {
   "cell_type": "code",
   "execution_count": 4,
   "outputs": [],
   "source": [
    "link_str = r'https://portal-da.ru/objects/catalog/buy'"
   ],
   "metadata": {
    "collapsed": false,
    "pycharm": {
     "name": "#%%\n"
    }
   }
  },
  {
   "cell_type": "code",
   "execution_count": 5,
   "outputs": [],
   "source": [
    "r = requests.get(link_str, headers={'user-agent': agent_str})"
   ],
   "metadata": {
    "collapsed": false,
    "pycharm": {
     "name": "#%%\n"
    }
   }
  },
  {
   "cell_type": "code",
   "execution_count": 6,
   "outputs": [],
   "source": [
    "html_text = r.text"
   ],
   "metadata": {
    "collapsed": false,
    "pycharm": {
     "name": "#%%\n"
    }
   }
  },
  {
   "cell_type": "code",
   "execution_count": 7,
   "outputs": [
    {
     "data": {
      "text/plain": "'<!DOCTYPE html><html lang=\"ru\"><head><meta charset=\"utf-8\" /><meta content=\"width=device-width, initial-scale=1\" name=\"viewport\" /><title>Купить залоги Сбербанка и других банков, активы на продажу</title><meta content=\"купить залоги сбербанка, купить залоги банков, залоги сбербанка, залоги банков, портал доступные активы, активы для бизнеса, купить бизнес, купить готовый бизнес, продать бизнес, продать готовый бизнес, \\nнепрофильные активы, непрофильные активы сбербанка, непрофильные активы банков, купить залоговые активы, купить залоговое имущество, купить залоги, залоговые активы, купить завод, продать завод, \\nкупить предприятие, продать предприятие, купить сельскохозяйственный актив, купить сельскохозяйственный актив, купить коммерческую недвижимость, продать коммерческую недвижимость, \\nкупить помещение, продать помещение, купить офис, продать офис\\n\" name=\"keywords\"><meta content=\"Купить залоги Сбербанка и других банков, активы на продажу\" name=\"title\"><meta content=\"Залоги Сбербанка, залоги банков, непрофильные активы компаний, реализация залогового имущества по всей территории России\" name=\"description\"><meta content=\"website\" property=\"og:type\"><meta content=\"https://portal-da.ru/objects/catalog/buy\" property=\"og:url\"><meta content=\"Купить залоги Сбербанка и других банков, активы на продажу\" property=\"og:title\"><meta content=\"Залоги Сбербанка, залоги банков, непрофильные активы компаний, реализация залогового имущества по всей территории России\" property=\"og:description\"><meta content=\"/preview.png?v2\" property=\"og:image\"><meta content=\"summary_large_image\" property=\"twitter:card\"><meta content=\"https://portal-da.ru/objects/catalog/buy\" property=\"twitter:url\"><meta content=\"Купить залоги Сбербанка и других банков, активы на продажу\" property=\"twitter:title\"><meta content=\"Залоги Сбербанка, залоги банков, непрофильные активы компаний, реализация залогового имущества по всей территории России\" property=\"twitter:description\"><meta content=\"/preview.png?v2\" property=\"twitter:image\"><link href=\"/apple-touch-icon.png\" rel=\"apple-touch-icon\" /><link href=\"/icon.png\" rel=\"icon\" sizes=\"128x128\" /><link href=\"https://portal-da.ru/objects/catalog/buy\" rel=\"canonical\" /><meta name=\"csrf-param\" content=\"authenticity_token\" />\\n<meta name=\"csrf-token\" content=\"pp_3zQlc_Z5FdHQR3xACkQc800tjZwrb7YYMxvUrIaV-oGL8ww67Hm5cfxs7eYUXHhBb7EE90Go_2YEXLaJ-WQ\" /><script>\\n//<![CDATA[\\nwindow.general={};general.env=\"production\";general.commit=\"63bbc923a9325d162bf13d269ff5a8879e49ce76\";general.banner={\"enabled\":true};general.sentry={\"enabled\":true,\"dsn\":\"https://ceab64b3bc3648ea9985a2654ea66b08@o286496.ingest.sentry.io/5281802\"};general.features={\"sbol\":true,\"sbbol\":true};general.can_toggle_favorite=false;general.placement_purpose=\"buy\";\\n//]]>\\n</script><script defer=\"defer\" src=\"/build/styles.d41d8cd9.js\"></script><link href=\"/build/styles.781bfc66.css\" rel=\"stylesheet\"><script defer=\"defer\" src=\"/build/runtime.697d51d7.js\"></script><script defer=\"defer\" src=\"/build/mdi.124cca06.js\"></script><script defer=\"defer\" src=\"/build/vendors.ec04a762.js\"></script><script defer=\"defer\" src=\"/build/catalog.072c7a56.js\"></script><link href=\"/build/vendors.e43a1d84.css\" rel=\"stylesheet\"><link href=\"/build/catalog.6592e983.css\" rel=\"stylesheet\"></head><body class=\"catalog-html vuetify-custom-theme\"><!-- Yandex.Metrika counter -->\\n<script type=\"text/javascript\" >\\n  (function(m,e,t,r,i,k,a){m[i]=m[i]||function(){(m[i].a=m[i].a||[]).push(arguments)};\\n  m[i].l=1*new Date();k=e.createElement(t),a=e.getElementsByTagName(t)[0],k.async=1,k.src=r,a.parentNode.insertBefore(k,a)})\\n  (window, document, \"script\", \"https://mc.yandex.ru/metrika/tag.js\", \"ym\");\\n\\n  ym(49130266, \"init\", {\\n       clickmap: true,\\n       trackLinks: true,\\n       accurateTrackBounce: true,\\n       webvisor: true,\\n       userParams: general.ym_user\\n  });\\n</script>\\n<noscript><div><img src=\"https://mc.yandex.ru/watch/49130266\" style=\"position:absolute; left:-9999px;\" alt=\"\" /></div></noscript>\\n<!-- /Yandex.Metrika counter -->\\n\\n<!-- Global site tag (gtag.js) - Google Analytics -->\\n<script async src=\"https://www.googletagmanager.com/gtag/js?id=G-LF75QFYV0E\"></script>\\n<script>\\n  window.dataLayer = window.dataLayer || [];\\n  function gtag(){dataLayer.push(arguments);}\\n  gtag(\\'js\\', new Date());\\n\\n  gtag(\\'config\\', \\'G-LF75QFYV0E\\');\\n</script>\\n<div class=\"layout-catalog\"><header class=\"layout-catalog__header layout-header\"><div class=\"header-section header-section--black\"><div class=\"layout-header__padder\"><div class=\"layout-header__content-wrapper\"><div class=\"header-topnav\"><div class=\"header-topnav__left\" role=\"navigation\"><a class=\"header-topnav-link header-topnav-link--current\" aria-current=\"page\" href=\"/objects/catalog/buy\">Активы</a></div><div class=\"header-topnav__right\" role=\"navigation\"><a class=\"header-topnav-link\" href=\"/about\">О проекте</a><a class=\"header-topnav-link\" href=\"/blog\">Блог</a><a class=\"header-topnav-link\" href=\"/faq\">Помощь</a></div></div></div></div></div><div class=\"header-section header-section--white vuetify-custom-theme\"><div class=\"layout-header__padder\"><div class=\"layout-header__content-wrapper\"><div class=\"site-header\"><div class=\"site-header__logo\"><a class=\"portal-da-logo\" href=\"/\"><span class=\"visually-hidden\">Переход на главную страницу сайта</span><img alt=\"\" class=\"portal-da-logo__svg portal-da-logo__svg--da\" src=\"/media/images/auth/svgs/logo-da.11da7137.svg\" /><svg aria-hidden=\"true\" class=\"portal-da-logo__svg portal-da-logo__svg--text\" focusable=\"false\" viewBox=\"0 0 101 16\" xmlns=\"http://www.w3.org/2000/svg\"><path d=\"M6.71991 1.00016H0.659912V15.0002H3.89991V11.1402H6.71991C10.4599 11.1402 12.7999 9.20016 12.7999 6.08016C12.7999 2.94016 10.4599 1.00016 6.71991 1.00016ZM6.53991 8.50016H3.89991V3.64016H6.53991C8.51991 3.64016 9.51991 4.54016 9.51991 6.08016C9.51991 7.60016 8.51991 8.50016 6.53991 8.50016Z\" /><path d=\"M19.9935 15.1602C23.4135 15.1602 25.8935 12.8602 25.8935 9.62016C25.8935 6.38016 23.4135 4.08016 19.9935 4.08016C16.5735 4.08016 14.0735 6.38016 14.0735 9.62016C14.0735 12.8602 16.5735 15.1602 19.9935 15.1602ZM19.9935 12.6002C18.4335 12.6002 17.2335 11.4802 17.2335 9.62016C17.2335 7.76016 18.4335 6.64016 19.9935 6.64016C21.5535 6.64016 22.7335 7.76016 22.7335 9.62016C22.7335 11.4802 21.5535 12.6002 19.9935 12.6002Z\" /><path d=\"M30.959 5.66016V4.24016H27.979V15.0002H31.099V9.92016C31.099 7.86016 32.239 6.92016 33.959 6.92016C34.199 6.92016 34.399 6.94016 34.659 6.96016V4.08016C32.999 4.08016 31.719 4.62016 30.959 5.66016Z\" /><path d=\"M42.9852 12.2802C42.6452 12.5402 42.1852 12.6802 41.7252 12.6802C40.8852 12.6802 40.3852 12.1802 40.3852 11.2602V6.88016H43.0652V4.48016H40.3852V1.86016H37.2652V4.48016H35.6052V6.88016H37.2652V11.3002C37.2652 13.8602 38.7452 15.1602 41.2852 15.1602C42.2452 15.1602 43.1852 14.9402 43.8252 14.4802L42.9852 12.2802Z\" /><path d=\"M49.9166 4.08016C48.1966 4.08016 46.4566 4.54016 45.2766 5.38016L46.3966 7.56016C47.1766 6.94016 48.3566 6.56016 49.4966 6.56016C51.1766 6.56016 51.9766 7.34016 51.9766 8.68016H49.4966C46.2166 8.68016 44.8766 10.0002 44.8766 11.9002C44.8766 13.7602 46.3766 15.1602 48.8966 15.1602C50.4766 15.1602 51.5966 14.6402 52.1766 13.6602V15.0002H55.0966V8.86016C55.0966 5.60016 53.1966 4.08016 49.9166 4.08016ZM49.6766 13.0602C48.5766 13.0602 47.9166 12.5402 47.9166 11.7602C47.9166 11.0402 48.3766 10.5002 49.8366 10.5002H51.9766V11.6002C51.6166 12.5802 50.7166 13.0602 49.6766 13.0602Z\" /><path d=\"M57.9204 15.0002H61.0404V0.160156H57.9204V15.0002Z\" /><path d=\"M69.8201 15.0002H76.1801C80.7601 15.0002 83.9001 12.2402 83.9001 8.00016C83.9001 3.76016 80.7601 1.00016 76.1801 1.00016H69.8201V15.0002ZM73.0601 12.3402V3.66016H76.0201C78.8001 3.66016 80.6201 5.32016 80.6201 8.00016C80.6201 10.6802 78.8001 12.3402 76.0201 12.3402H73.0601Z\" /><path d=\"M96.6082 15.0002H100.008L93.7482 1.00016H90.5482L84.3082 15.0002H87.6282L88.8682 12.0002H95.3682L96.6082 15.0002ZM89.9082 9.54016L92.1282 4.18016L94.3482 9.54016H89.9082Z\" /></svg></a></div><div class=\"site-header__nav-left\"><a rel=\"prerender\" class=\"site-header-link site-header-link--block site-header-link--active\" aria-current=\"page\" href=\"/objects/catalog/buy\">Купить</a><a class=\"site-header-link site-header-link--block\" href=\"/objects/catalog/rent\">Снять</a><a class=\"site-header-link site-header-link--block\" href=\"/services\">Сервисы</a></div><div class=\"site-header__nav-right\"><a class=\"site-header-link site-header-link--add-asset\" data-method=\"get\" href=\"/auth/sign_in\"><div class=\"icon icon-add-round\"></div>Разместить актив на продажу</a></div><div class=\"site-header__actions\"><a class=\"button button--secondary\" rel=\"prerender\" href=\"/auth/sign_in\"><div class=\"icon icon-enter c-icon--primary mr-2\"></div>Вход и регистрация</a></div></div></div></div></div><div class=\"header-section header-section--white\"><div class=\"layout-header__padder\"><div class=\"layout-header__content-wrapper\" style=\"height: 64px;\"><div class=\"the-catalog-search-bar\" data-widget=\"catalog-search-bar-widget\"></div></div></div></div></header><main class=\"layout-catalog__main\"><div data-widget-template=\"catalog-view-widget\"><div class=\"resize-observer\" v-resize=\"debouncedUpdateModes\"></div><template v-if=\"viewMode === &#39;map&#39;\"><catalog-map-view :view-mode=\"viewMode\"><template #header-actions=\"\"><catalog-view-mode-toggler :options=\"viewModes\" v-model=\"viewMode\"></catalog-view-mode-toggler></template></catalog-map-view></template><template v-if=\"viewMode === &#39;grid&#39; || viewMode === &#39;list&#39;\"><div class=\"content-layout content-layout--no-aside\"><div class=\"content-layout__header\"><div class=\"content-layout__breadcrumbs\"><nav aria-label=\"навигация хлебными крошками\" class=\"page-breadcrumbs\"><div class=\"page-breadcrumbs__link\">Каталог</div></nav></div><div class=\"content-layout__compound-title\"><h1 class=\"content-layout__title\">Покупка</h1><span class=\"content-layout__title--sup\" v-text=\"assetsTotalCount\"></span><catalog-search-saver></catalog-search-saver></div><catalog-badge-filters class=\"mt-4\"></catalog-badge-filters></div><div class=\"content-layout__main\"><catalog-listing-view :view-mode=\"viewMode\"><template #header-actions=\"\"><catalog-view-mode-toggler :options=\"viewModes\" transparent=\"\" v-model=\"viewMode\"></catalog-view-mode-toggler></template></catalog-listing-view></div></div></template></div></main><section class=\"layout-catalog__description\"><div class=\"catalog-description\"><h2 class=\"catalog-description__title\">О разделе</h2><div class=\"catalog-description__content\">Купить залоги банков (в т. ч. Сбербанка) для бизнеса и личных целей стало доступно и просто. На нашем портале большой выбор активов, находящихся в залоге у Сбера, и других российских банков. Приобретая залоговое имущество на публичных площадках, таких как Portal DA, вы получаете гарантию покупки юридически чистого залогового имущества. Широкий выбор коммерческой недвижимости в Москве и по всей России - от торговых центров со стабильным доходом от аренды торговых помещений (магазинов, ресторанов, развлекательных центров и т. п..) до земель и предприятий сельхоз назначения, а также оборудования для любого вида производства и деятельности, по ценам ниже рыночной стоимости. Для физических лиц огромный выбор от квартир, домов, коттеджей, земельных участков под индивидуальное строительство до автомобилей и ювелирных изделий (в категории &quot;Другие активы&quot;). Все, что нужно для успешного старта и расширения бизнеса есть в нашем маркетплейсе залогового имущества.</div></div></section><aside class=\"layout-catalog__sidebar\"><div class=\"catalog-sidebar\"><section class=\"catalog-sidebar__section--full\"><h3 class=\"catalog-sidebar__title\">Категории</h3><div class=\"catalog-sidebar__categories\"><a class=\"catalog-sidebar__category-item category-link\" href=\"/objects/catalog/buy/retail_realty\">Коммерческая недвижимость</a><a class=\"catalog-sidebar__category-item category-link\" href=\"/objects/catalog/buy/living_realty\">Жилая недвижимость</a><a class=\"catalog-sidebar__category-item category-link\" href=\"/objects/catalog/buy/section\">Земельные участки</a><a class=\"catalog-sidebar__category-item category-link\" href=\"/objects/catalog/buy/factory\">Производство</a><a class=\"catalog-sidebar__category-item category-link\" href=\"/objects/catalog/buy/agri\">Сельскохозяйственные активы</a><a class=\"catalog-sidebar__category-item category-link\" href=\"/objects/catalog/buy/cafe\">Рестораны, развлекательные комплексы</a><a class=\"catalog-sidebar__category-item category-link\" href=\"/objects/catalog/buy/truck\">Спецтехника, грузовой и крупный пассажирский транспорт</a><a class=\"catalog-sidebar__category-item category-link\" href=\"/objects/catalog/buy/light_transport\">Легковой транспорт</a><a class=\"catalog-sidebar__category-item category-link\" href=\"/objects/catalog/buy/equipment\">Оборудование</a><a class=\"catalog-sidebar__category-item category-link\" href=\"/objects/catalog/buy/other\">Другие активы</a></div></section><div class=\"catalog-sidebar__divider\"></div><div class=\"v-application\"><div data-widget=\"catalog-sidebar-filters-widget\"></div></div></div></aside><footer class=\"layout-catalog__footer\"><div class=\"footer\"><nav class=\"footer__nav\"><nav class=\"site-nav\"><a class=\"site-nav__link\" href=\"/objects/catalog/buy\">Активы</a><a class=\"site-nav__link\" onclick=\"$authModal.openModal(&quot;/objects/my_trades&quot;)\">Аукционы</a><a class=\"site-nav__link\" href=\"/about\">О проекте</a><a class=\"site-nav__link\" href=\"/faq\">Помощь</a><a class=\"site-nav__link\" href=\"/blog\">Блог</a></nav></nav><section class=\"footer__section\"><div class=\"footer__logo\"><img src=\"/media/images/auth/svgs/logo-black60.ae0bdf21.svg\" /></div><div class=\"footer__contacts footer-contacts\"><div class=\"footer-contacts__title\">Консультация</div><div class=\"footer-contacts__phone\"><a class=\"link\" href=\"tel:+74955479894\">8 (495) 547-98-94</a></div><div class=\"footer-contacts__email\"><a class=\"link\" href=\"mailto:portal_da@sberbank.ru\">portal_da@sberbank.ru</a></div></div><div class=\"footer__apps app-links\"><div class=\"app-links__title\">Скачайте приложение</div><a class=\"app-links__appstore\" target=\"_blank\" rel=\"noopener\" href=\"https://apps.apple.com/ru/app/portal-da/id1463395501\"><img src=\"/media/images/svgs/app-store-black.d15d9436.svg\" /></a><a class=\"app-links__rustore\" target=\"_blank\" rel=\"noopener\" href=\"https://apps.rustore.ru/app/ru.activebc.portal.da\"><img src=\"/media/images/svgs/rustore-logo.23653048.svg\" /></a></div></section><div class=\"footer__legal footer-legal\"><div class=\"footer-legal__copyright\"><p class=\"copyright\">&copy; 2019–2023 Portal DA — Реализация непрофильных и залоговых активов</p></div><div class=\"footer-legal__politics\"><div class=\"politics\"><a class=\"politics__link\" target=\"_blank\" href=\"https://www.sberbank.ru/\">ПАО Сбербанк</a><a class=\"politics__link\" target=\"_blank\" href=\"/documents/politics.pdf\">Политика конфиденциальности</a><a class=\"politics__link\" target=\"_blank\" href=\"https://www.sberbank.ru/ru/pol_pd\">Политика обработки персональных данных</a></div></div></div></div></footer><div class=\"popup-wrapper\" data-selector=\"popup-wrapper\"></div></div></body></html>'"
     },
     "execution_count": 7,
     "metadata": {},
     "output_type": "execute_result"
    }
   ],
   "source": [
    "html_text"
   ],
   "metadata": {
    "collapsed": false,
    "pycharm": {
     "name": "#%%\n"
    }
   }
  },
  {
   "cell_type": "code",
   "execution_count": 8,
   "outputs": [],
   "source": [
    "with open('that_html.html', 'w') as html_file:\n",
    "    html_file.write(html_text)"
   ],
   "metadata": {
    "collapsed": false,
    "pycharm": {
     "name": "#%%\n"
    }
   }
  },
  {
   "cell_type": "code",
   "execution_count": 9,
   "outputs": [],
   "source": [
    "# просто так не дается portal-da с нуля, можно попробовать с готовой ссылки на объект"
   ],
   "metadata": {
    "collapsed": false,
    "pycharm": {
     "name": "#%%\n"
    }
   }
  },
  {
   "cell_type": "code",
   "execution_count": 10,
   "outputs": [],
   "source": [
    "another_str = r'https://portal-da.ru/objects/682752-ofisnoe-pomeschenie-nezhiloe-pomeschenie'"
   ],
   "metadata": {
    "collapsed": false,
    "pycharm": {
     "name": "#%%\n"
    }
   }
  },
  {
   "cell_type": "code",
   "execution_count": 11,
   "outputs": [],
   "source": [
    "r = requests.get(another_str, headers={'user-agent': agent_str})"
   ],
   "metadata": {
    "collapsed": false,
    "pycharm": {
     "name": "#%%\n"
    }
   }
  },
  {
   "cell_type": "code",
   "execution_count": 12,
   "outputs": [],
   "source": [
    "html_text = r.text"
   ],
   "metadata": {
    "collapsed": false,
    "pycharm": {
     "name": "#%%\n"
    }
   }
  },
  {
   "cell_type": "code",
   "execution_count": 13,
   "outputs": [],
   "source": [
    "with open('another_html.html', 'w') as html_file:\n",
    "    html_file.write(html_text)"
   ],
   "metadata": {
    "collapsed": false,
    "pycharm": {
     "name": "#%%\n"
    }
   }
  },
  {
   "cell_type": "code",
   "execution_count": 11,
   "outputs": [],
   "source": [
    "# цена здесь есть, так что в базовом варианте можно сделать следилку за конкретными объявлениями\n",
    "# можно новые ссылки получать из related assets\n",
    "# многие вещи не получается пока достать, но которые есть на странице => точный адрес, площадь"
   ],
   "metadata": {
    "collapsed": false,
    "pycharm": {
     "name": "#%%\n"
    }
   }
  },
  {
   "cell_type": "code",
   "execution_count": null,
   "outputs": [],
   "source": [],
   "metadata": {
    "collapsed": false,
    "pycharm": {
     "name": "#%%\n"
    }
   }
  },
  {
   "cell_type": "markdown",
   "source": [
    "ToDo а какие еще есть данные для фичей?\n",
    "<meta itemprop=\"category\" content=\"Офисное помещение\">\n",
    "<meta itemprop=\"price\" content=\"373327.98\">\n",
    "<meta itemprop=\"priceCurrency\" content=\"RUB\">\n",
    "<asset-badge class=\"mr-2\" kind=\"biddings\" large=\"\" top=\"\">Торги</asset-badge>\n",
    "<ui-icon class=\"c-icon--dimmed\" left=\"\" name=\"time-s\"></ui-icon>10 марта 2022</div>  # как давно висит\n",
    "</ui-icon>293 просмотра</div>\n",
    "<span class=\"mr-4\">Российская Федерация, Саха (Якутия), Усть-Янский</span> # геолокация\n",
    "<div class=\"asset-info__description\"><p>Состояние: удовлетворительное. Требуется текущий ремонт.</p> # состояние лота (возможно сделать фичу с ключевыми словами)"
   ],
   "metadata": {
    "collapsed": false,
    "pycharm": {
     "name": "#%% md\n"
    }
   }
  },
  {
   "cell_type": "code",
   "execution_count": null,
   "outputs": [],
   "source": [
    "# фичи:\n",
    "# идем в general в них:\n",
    "# 1 general.contact={\"name\":\"Сокорутов Василий Данилович\"\n",
    "# 2 general.specific_fields=[{\"name\":\"Функционирование\"\n",
    "# 3 general.specific_fields -> {\"name\":\"Общая площадь\", \"value\":\"103.85 м²\",\n",
    "# 4 {\"name\":\"Отделка помещения\", \"value\":\"Без отделки\",\n",
    "# 5 {\"name\":\"Электроэнергия\", \"value\":\"Да\",\n",
    "# 6 {\"name\":\"Снабжение водой и водоотведение\", \"value\":\"Да\",\n",
    "# 7 регион </div><div class=\"asset-page-card__address px-8 pb-6 mb-8\"> <span class=\"mr-4\">Российская Федерация, Саха (Якутия), Усть-Янский</span>\n",
    "# 8 просмотры </ui-icon>293 просмотра</div></div>\n",
    "# 9 аренда general.rent={\"cost\":\"4 818,\n",
    "# 10 цена general.price=\"373 327,98 ₽\"\n"
   ],
   "metadata": {
    "collapsed": false,
    "pycharm": {
     "name": "#%%\n"
    }
   }
  },
  {
   "cell_type": "code",
   "execution_count": null,
   "outputs": [],
   "source": [
    "# todo надо все то же самое сделать для другой страницы"
   ],
   "metadata": {
    "collapsed": false,
    "pycharm": {
     "name": "#%%\n"
    }
   }
  },
  {
   "cell_type": "code",
   "execution_count": null,
   "outputs": [],
   "source": [],
   "metadata": {
    "collapsed": false,
    "pycharm": {
     "name": "#%%\n",
     "is_executing": true
    }
   }
  },
  {
   "cell_type": "code",
   "execution_count": null,
   "outputs": [],
   "source": [
    "# another link"
   ],
   "metadata": {
    "collapsed": false,
    "pycharm": {
     "name": "#%%\n"
    }
   }
  },
  {
   "cell_type": "code",
   "execution_count": 1,
   "outputs": [],
   "source": [
    "another_str = r'https://portal-da.ru/objects/474104-zdanie-svobodnogo-kommercheskogo-naznacheniya-prodazha-ob-ekta-nedvizhimosti'"
   ],
   "metadata": {
    "collapsed": false,
    "pycharm": {
     "name": "#%%\n"
    }
   }
  },
  {
   "cell_type": "code",
   "execution_count": 5,
   "outputs": [],
   "source": [
    "r = requests.get(another_str, headers={'user-agent': agent_str})\n",
    "html_text = r.text\n",
    "with open('another_html_1.html', 'w') as html_file:\n",
    "    html_file.write(html_text)"
   ],
   "metadata": {
    "collapsed": false,
    "pycharm": {
     "name": "#%%\n"
    }
   }
  },
  {
   "cell_type": "code",
   "execution_count": null,
   "outputs": [],
   "source": [
    "# фичи:\n",
    "# идем в general в них:\n",
    "# 1 general.contact={\"name\":\"Быховец Валентина Александровна\"\n",
    "# 2 general.specific_fields=[{\"name\":\"Функционирование\"\n",
    "# 3 {\"name\":\"Общая площадь\",\"value\":\"33 м²\"\n",
    "# 4 {\"name\":\"Отделка помещения\", \"value\":\"Без отделки\",\n",
    "# 5 {\"name\":\"Электроэнергия\", NULL\n",
    "# 6 {\"name\":\"Снабжение водой и водоотведение\", \"value\":\"Да\", NULL\n",
    "# 7 регион </div><div class=\"asset-page-card__address px-8 pb-6 mb-8\"> <span class=\"mr-4\">Российская Федерация, Псковская область, Локнянский</span>\n",
    "# 8 просмотры </ui-icon>305 просмотров</div>\n",
    "# 9 аренда general.rent={\"cost\": NULL\n",
    "# 10 цена general.price=\"64 000 ₽\" -- TARGET\n",
    "# 11 {\"name\":\"Класс коммерческой недвижимости\",\"value\":\"A\"\n",
    "# 12 {\"name\":\"Количество этажей\",\"value\":\"0\"\n",
    "# 13 {\"name\":\"Площадь земельного участка\",\"value\":\"174 м²\""
   ],
   "metadata": {
    "collapsed": false,
    "pycharm": {
     "name": "#%%\n",
     "is_executing": true
    }
   }
  },
  {
   "cell_type": "code",
   "execution_count": null,
   "outputs": [],
   "source": [],
   "metadata": {
    "collapsed": false,
    "pycharm": {
     "name": "#%%\n",
     "is_executing": true
    }
   }
  },
  {
   "cell_type": "code",
   "execution_count": null,
   "outputs": [],
   "source": [
    "# todo давай для участка что-нибудь сделаем"
   ],
   "metadata": {
    "collapsed": false,
    "pycharm": {
     "name": "#%%\n",
     "is_executing": true
    }
   }
  },
  {
   "cell_type": "code",
   "execution_count": 6,
   "outputs": [],
   "source": [
    "another_str = 'https://portal-da.ru/objects/563367-zemlya-pod-individualnoe-zhilischnoe-stroitelstvo-1-i7d0zy9'\n",
    "r = requests.get(another_str, headers={'user-agent': agent_str})\n",
    "html_text = r.text\n",
    "with open('another_html_2.html', 'w') as html_file:\n",
    "    html_file.write(html_text)"
   ],
   "metadata": {
    "collapsed": false,
    "pycharm": {
     "name": "#%%\n"
    }
   }
  },
  {
   "cell_type": "code",
   "execution_count": null,
   "outputs": [],
   "source": [
    "# фичи:  # !!! а в этом кейсе не выделены отдельно характеристики через general.specific_fields, надо избегать их\n",
    "# идем в general в них:\n",
    "# 1 general.contact={\"name\":\"Контактный Центр Банка\"\n",
    "# 2 \"specific_fields\": NULL\n",
    "# 3 {\"name\":\"Общая площадь\",\"value\":\"33 м²\"\n",
    "# 4 {\"name\":\"Отделка помещения\", \"value\":\"Без отделки\",\n",
    "# 5 {\"name\":\"Электроэнергия\", NULL\n",
    "# 6 {\"name\":\"Снабжение водой и водоотведение\", \"value\":\"Да\", NULL\n",
    "# 7 регион </div><div class=\"asset-page-card__address px-8 pb-6 mb-8\"> <span class=\"mr-4\">Российская Федерация, Псковская область, Локнянский</span>\n",
    "# 8 просмотры </ui-icon>305 просмотров</div>\n",
    "# 9 аренда general.rent={\"cost\": NULL\n",
    "# 10 цена general.price=\"64 000 ₽\" -- TARGET\n",
    "# 11 {\"name\":\"Класс коммерческой недвижимости\",\"value\":\"A\"\n",
    "# 12 {\"name\":\"Количество этажей\",\"value\":\"0\"\n",
    "# 13 {\"name\":\"Площадь земельного участка\",\"value\":\"174 м²\""
   ],
   "metadata": {
    "collapsed": false,
    "pycharm": {
     "name": "#%%\n",
     "is_executing": true
    }
   }
  },
  {
   "cell_type": "code",
   "execution_count": 6,
   "outputs": [],
   "source": [],
   "metadata": {
    "collapsed": false,
    "pycharm": {
     "name": "#%%\n"
    }
   }
  },
  {
   "cell_type": "code",
   "execution_count": 7,
   "outputs": [],
   "source": [
    "# попробуем другой кейс"
   ],
   "metadata": {
    "collapsed": false,
    "pycharm": {
     "name": "#%%\n"
    }
   }
  },
  {
   "cell_type": "code",
   "execution_count": 8,
   "outputs": [],
   "source": [
    "another_str = 'https://portal-da.ru/objects/I5843680-zemlya-pod-individualnoe-zhilischnoe-stroitelstvo-zemlya-pod-individualnoe-zhilischnoe-stroitelstvo'\n",
    "r = requests.get(another_str, headers={'user-agent': agent_str})\n",
    "html_text = r.text\n",
    "with open('another_html_3.html', 'w') as html_file:\n",
    "    html_file.write(html_text)"
   ],
   "metadata": {
    "collapsed": false,
    "pycharm": {
     "name": "#%%\n"
    }
   }
  },
  {
   "cell_type": "code",
   "execution_count": null,
   "outputs": [],
   "source": [
    "# фичи:  # !!! а в этом кейсе не выделены отдельно характеристики через general.specific_fields, надо избегать их\n",
    "# в общем надо сохранять все, что в general.specific_fields + выше\n",
    "# идем в general в них:\n",
    "# 1 general.contact={\"name\":\"Сотрудник ПАО Сбербанк\"\n",
    "# 2 \"specific_fields\": NULL\n",
    "# 3 {\"name\":\"Общая площадь\",\"value\":\"33 м²\" : NULL\n",
    "# 4 {\"name\":\"Отделка помещения\", \"value\":\"Без отделки\", NULL\n",
    "# 5 {\"name\":\"Электроэнергия\", NULL\n",
    "# 6 {\"name\":\"Снабжение водой и водоотведение\", \"value\":\"Да\", NULL\n",
    "# 7 регион </div><div class=\"asset-page-card__address px-8 pb-6 mb-8\"> <span class=\"mr-4\">Российская Федерация, Белгородская область, Белгородский</span>\n",
    "# 8 просмотры </ui-icon>1462 просмотра</div>\n",
    "# 9 аренда general.rent={\"cost\": NULL\n",
    "# 10 цена general.price=\"119 526 ₽\" -- TARGET\n",
    "# 11 {\"name\":\"Класс коммерческой недвижимости\",\"value\":\"A\" null\n",
    "# 12 {\"name\":\"Количество этажей\",\"value\":\"0\" null\n",
    "# 13 {\"name\":\"Площадь земельного участка\",\"value\":\"174 м²\"\n",
    "\n",
    "# TODO в общем надо написать mvp парсера"
   ],
   "metadata": {
    "collapsed": false,
    "pycharm": {
     "name": "#%%\n",
     "is_executing": true
    }
   }
  },
  {
   "cell_type": "code",
   "execution_count": null,
   "outputs": [],
   "source": [],
   "metadata": {
    "collapsed": false,
    "pycharm": {
     "name": "#%%\n",
     "is_executing": true
    }
   }
  },
  {
   "cell_type": "code",
   "execution_count": null,
   "outputs": [],
   "source": [
    "# кейс для поиска ссылок"
   ],
   "metadata": {
    "collapsed": false,
    "pycharm": {
     "name": "#%%\n",
     "is_executing": true
    }
   }
  },
  {
   "cell_type": "code",
   "execution_count": 9,
   "outputs": [],
   "source": [
    "another_str = 'https://portal-da.ru/objects/catalog/buy/section'\n",
    "r = requests.get(another_str, headers={'user-agent': agent_str})\n",
    "html_text = r.text\n",
    "with open('total_links.html', 'w') as html_file:\n",
    "    html_file.write(html_text)"
   ],
   "metadata": {
    "collapsed": false,
    "pycharm": {
     "name": "#%%\n"
    }
   }
  },
  {
   "cell_type": "code",
   "execution_count": null,
   "outputs": [],
   "source": [],
   "metadata": {
    "collapsed": false,
    "pycharm": {
     "name": "#%%\n",
     "is_executing": true
    }
   }
  },
  {
   "cell_type": "markdown",
   "source": [
    "### ToDo надо конкретно теперь пройтись по сохраненным ссылкам"
   ],
   "metadata": {
    "collapsed": false,
    "pycharm": {
     "name": "#%% md\n"
    }
   }
  },
  {
   "cell_type": "code",
   "execution_count": 9,
   "outputs": [],
   "source": [
    "links_df = pd.read_excel('portal_da_links_lands_10_01_23_2.xlsx')"
   ],
   "metadata": {
    "collapsed": false,
    "pycharm": {
     "name": "#%%\n"
    }
   }
  },
  {
   "cell_type": "code",
   "execution_count": 3,
   "outputs": [
    {
     "data": {
      "text/plain": "'https://portal-da.ru/objects/269183-zemelnyy-uchastok-pod-kommercheskuyu-zastroyku-zemelnyy-uchastok-1-ga-pod-mnogoetazhnuyu-zastroyku-v-g-odintsovo'"
     },
     "execution_count": 3,
     "metadata": {},
     "output_type": "execute_result"
    }
   ],
   "source": [
    "links_df['links'][5]"
   ],
   "metadata": {
    "collapsed": false,
    "pycharm": {
     "name": "#%%\n"
    }
   }
  },
  {
   "cell_type": "code",
   "execution_count": 10,
   "outputs": [],
   "source": [
    "another_str = links_df['links'][5]\n",
    "agent_str = 'Mozilla/5.0 (X11; Linux x86_64) AppleWebKit/537.36 (KHTML, like Gecko) Chrome/91.0.4472.114 Safari/537.36'\n",
    "r = requests.get(another_str, headers={'user-agent': agent_str})\n",
    "html_text = r.text\n",
    "# with open('example_land_links.html', 'w') as html_file:\n",
    "#     html_file.write(html_text)"
   ],
   "metadata": {
    "collapsed": false,
    "pycharm": {
     "name": "#%%\n"
    }
   }
  },
  {
   "cell_type": "code",
   "execution_count": null,
   "outputs": [],
   "source": [
    "# фичи:  # !!! а в этом кейсе не выделены отдельно характеристики через general.specific_fields, надо избегать их\n",
    "# в общем надо сохранять все, что в general.specific_fields + выше\n",
    "# идем в general в них:\n",
    "# 1 general.contact={\"name\":\"Сотрудник ПАО Сбербанк\"\n",
    "# 2 \"specific_fields\": NULL\n",
    "# 3 {\"name\":\"Общая площадь\",\"value\":\"33 м²\" : NULL\n",
    "# 4 {\"name\":\"Отделка помещения\", \"value\":\"Без отделки\", NULL\n",
    "# 5 {\"name\":\"Электроэнергия\", NULL\n",
    "# 6 {\"name\":\"Снабжение водой и водоотведение\", \"value\":\"Да\", NULL\n",
    "# 7 регион </div><div class=\"asset-page-card__address px-8 pb-6 mb-8\"> <span class=\"mr-4\">Российская Федерация, Белгородская область, Белгородский</span>\n",
    "# 8 просмотры </ui-icon>1462 просмотра</div>\n",
    "# 9 аренда general.rent={\"cost\": NULL\n",
    "# 10 цена general.price=\"119 526 ₽\" -- TARGET\n",
    "# 11 {\"name\":\"Класс коммерческой недвижимости\",\"value\":\"A\" null\n",
    "# 12 {\"name\":\"Количество этажей\",\"value\":\"0\" null\n",
    "# 13 {\"name\":\"Площадь земельного участка\",\"value\":\"174 м²\"\n"
   ],
   "metadata": {
    "collapsed": false,
    "pycharm": {
     "name": "#%%\n",
     "is_executing": true
    }
   }
  },
  {
   "cell_type": "code",
   "execution_count": 7,
   "outputs": [],
   "source": [
    "# TODO rosreestr2coord - надо больше протестировать, какой процент потерь будет на всех данных; кадастр так быстро восстановить не получится, надо парсить"
   ],
   "metadata": {
    "collapsed": false,
    "pycharm": {
     "name": "#%%\n"
    }
   }
  },
  {
   "cell_type": "code",
   "execution_count": 8,
   "outputs": [],
   "source": [
    "from rosreestr2coord import Area"
   ],
   "metadata": {
    "collapsed": false,
    "pycharm": {
     "name": "#%%\n"
    }
   }
  },
  {
   "cell_type": "code",
   "execution_count": 5,
   "outputs": [
    {
     "data": {
      "text/plain": "                                                 links\n0    https://portal-da.ru/objects/814114-zemlya-pod...\n1    https://portal-da.ru/objects/814114-zemlya-pod...\n2    https://portal-da.ru/objects/641505-zemlya-pod...\n3    https://portal-da.ru/objects/169347-zemelnyy-u...\n4    https://portal-da.ru/objects/899895-zemlya-pod...\n..                                                 ...\n847  https://portal-da.ru/objects/691104-zemlya-pod...\n848  https://portal-da.ru/objects/630263-zemlya-pod...\n849  https://portal-da.ru/objects/177552-zemlya-pod...\n850  https://portal-da.ru/objects/841885-zemlya-pod...\n851  https://portal-da.ru/objects/419254-zemelnyy-u...\n\n[852 rows x 1 columns]",
      "text/html": "<div>\n<style scoped>\n    .dataframe tbody tr th:only-of-type {\n        vertical-align: middle;\n    }\n\n    .dataframe tbody tr th {\n        vertical-align: top;\n    }\n\n    .dataframe thead th {\n        text-align: right;\n    }\n</style>\n<table border=\"1\" class=\"dataframe\">\n  <thead>\n    <tr style=\"text-align: right;\">\n      <th></th>\n      <th>links</th>\n    </tr>\n  </thead>\n  <tbody>\n    <tr>\n      <th>0</th>\n      <td>https://portal-da.ru/objects/814114-zemlya-pod...</td>\n    </tr>\n    <tr>\n      <th>1</th>\n      <td>https://portal-da.ru/objects/814114-zemlya-pod...</td>\n    </tr>\n    <tr>\n      <th>2</th>\n      <td>https://portal-da.ru/objects/641505-zemlya-pod...</td>\n    </tr>\n    <tr>\n      <th>3</th>\n      <td>https://portal-da.ru/objects/169347-zemelnyy-u...</td>\n    </tr>\n    <tr>\n      <th>4</th>\n      <td>https://portal-da.ru/objects/899895-zemlya-pod...</td>\n    </tr>\n    <tr>\n      <th>...</th>\n      <td>...</td>\n    </tr>\n    <tr>\n      <th>847</th>\n      <td>https://portal-da.ru/objects/691104-zemlya-pod...</td>\n    </tr>\n    <tr>\n      <th>848</th>\n      <td>https://portal-da.ru/objects/630263-zemlya-pod...</td>\n    </tr>\n    <tr>\n      <th>849</th>\n      <td>https://portal-da.ru/objects/177552-zemlya-pod...</td>\n    </tr>\n    <tr>\n      <th>850</th>\n      <td>https://portal-da.ru/objects/841885-zemlya-pod...</td>\n    </tr>\n    <tr>\n      <th>851</th>\n      <td>https://portal-da.ru/objects/419254-zemelnyy-u...</td>\n    </tr>\n  </tbody>\n</table>\n<p>852 rows × 1 columns</p>\n</div>"
     },
     "execution_count": 5,
     "metadata": {},
     "output_type": "execute_result"
    }
   ],
   "source": [
    "links_df"
   ],
   "metadata": {
    "collapsed": false,
    "pycharm": {
     "name": "#%%\n"
    }
   }
  },
  {
   "cell_type": "code",
   "execution_count": 10,
   "outputs": [],
   "source": [
    "from rosreestr2coord import Area"
   ],
   "metadata": {
    "collapsed": false,
    "pycharm": {
     "name": "#%%\n"
    }
   }
  },
  {
   "cell_type": "code",
   "execution_count": null,
   "outputs": [],
   "source": [],
   "metadata": {
    "collapsed": false,
    "pycharm": {
     "name": "#%%\n",
     "is_executing": true
    }
   }
  },
  {
   "cell_type": "code",
   "execution_count": 11,
   "outputs": [],
   "source": [
    "def get_kadastr_data(kadastr_str):\n",
    "    \"\"\"\n",
    "    Function to load kadastr info\n",
    "    :param kadastr_str: string with kadastr code\n",
    "    :return:\n",
    "    \"\"\"\n",
    "    try:\n",
    "        area = Area(kadastr_str)\n",
    "        area_json = area.to_geojson()\n",
    "    except Exception as e:\n",
    "        area_json = str(e)\n",
    "    return area_json"
   ],
   "metadata": {
    "collapsed": false,
    "pycharm": {
     "name": "#%%\n"
    }
   }
  },
  {
   "cell_type": "code",
   "execution_count": 14,
   "outputs": [],
   "source": [],
   "metadata": {
    "collapsed": false,
    "pycharm": {
     "name": "#%%\n"
    }
   }
  },
  {
   "cell_type": "markdown",
   "source": [
    "### let's try make a link parser"
   ],
   "metadata": {
    "collapsed": false,
    "pycharm": {
     "name": "#%% md\n"
    }
   }
  },
  {
   "cell_type": "code",
   "execution_count": 38,
   "outputs": [],
   "source": [
    "from bs4 import BeautifulSoup, CData"
   ],
   "metadata": {
    "collapsed": false,
    "pycharm": {
     "name": "#%%\n"
    }
   }
  },
  {
   "cell_type": "code",
   "execution_count": 4,
   "outputs": [],
   "source": [
    "another_str = links_df['links'][5]\n",
    "agent_str = 'Mozilla/5.0 (X11; Linux x86_64) AppleWebKit/537.36 (KHTML, like Gecko) Chrome/91.0.4472.114 Safari/537.36'\n",
    "r = requests.get(another_str, headers={'user-agent': agent_str})\n",
    "html_text = r.text"
   ],
   "metadata": {
    "collapsed": false,
    "pycharm": {
     "name": "#%%\n"
    }
   }
  },
  {
   "cell_type": "code",
   "execution_count": 18,
   "outputs": [],
   "source": [
    "soup = BeautifulSoup(html_text, 'html.parser')"
   ],
   "metadata": {
    "collapsed": false,
    "pycharm": {
     "name": "#%%\n"
    }
   }
  },
  {
   "cell_type": "code",
   "execution_count": 34,
   "outputs": [],
   "source": [
    "soup.find(text=lambda tag: isinstance(tag, CData))"
   ],
   "metadata": {
    "collapsed": false,
    "pycharm": {
     "name": "#%%\n"
    }
   }
  },
  {
   "cell_type": "code",
   "execution_count": 40,
   "outputs": [],
   "source": [],
   "metadata": {
    "collapsed": false,
    "pycharm": {
     "name": "#%%\n"
    }
   }
  },
  {
   "cell_type": "code",
   "execution_count": 42,
   "outputs": [],
   "source": [
    "# bs4 не помогает выделить CData в заголовке, пойдем регексами тогда"
   ],
   "metadata": {
    "collapsed": false,
    "pycharm": {
     "name": "#%%\n"
    }
   }
  },
  {
   "cell_type": "code",
   "execution_count": 6,
   "outputs": [],
   "source": [
    "import re"
   ],
   "metadata": {
    "collapsed": false,
    "pycharm": {
     "name": "#%%\n"
    }
   }
  },
  {
   "cell_type": "code",
   "execution_count": 5,
   "outputs": [
    {
     "data": {
      "text/plain": "'<!DOCTYPE html><html lang=\"ru\"><head><meta charset=\"utf-8\" /><meta content=\"width=device-width, initial-scale=1\" name=\"viewport\" /><title>Земельный Участок 1 Га  под многоэтажную застройку в г. Одинцово – Portal DA</title><meta content=\"земельный участок под коммерческую застройку, земельные участки, земельный участок 1 га  под многоэтажную застройку в г. одинцово, российская федерация, московская область, одинцово, купить, продать, покупка\" name=\"keywords\"><meta content=\"Купить Земельный Участок 1 Га  под многоэтажную застройку в г. Одинцово\" name=\"title\"><meta content=\"Продажа Земельный Участок 1 Га  под многоэтажную застройку в г. Одинцово из категории земельный участок под коммерческую застройку, земельные участки в городе Одинцово\" name=\"description\"><meta content=\"website\" property=\"og:type\"><meta content=\"http://portal-da.ru/objects/269183-zemelnyy-uchastok-pod-kommercheskuyu-zastroyku-zemelnyy-uchastok-1-ga-pod-mnogoetazhnuyu-zastroyku-v-g-odintsovo\" property=\"og:url\"><meta content=\"Купить Земельный Участок 1 Га  под многоэтажную застройку в г. Одинцово\" property=\"og:title\"><meta content=\"Продажа Земельный Участок 1 Га  под многоэтажную застройку в г. Одинцово из категории земельный участок под коммерческую застройку, земельные участки в городе Одинцово\" property=\"og:description\"><meta content=\"/uploads/store/attachment/637b332369763f00714f3649/attachment/large-2487df3faf4aac896a1fe2c93cc09958.jpg\" property=\"og:image\"><meta content=\"summary_large_image\" property=\"twitter:card\"><meta content=\"http://portal-da.ru/objects/269183-zemelnyy-uchastok-pod-kommercheskuyu-zastroyku-zemelnyy-uchastok-1-ga-pod-mnogoetazhnuyu-zastroyku-v-g-odintsovo\" property=\"twitter:url\"><meta content=\"Купить Земельный Участок 1 Га  под многоэтажную застройку в г. Одинцово\" property=\"twitter:title\"><meta content=\"Продажа Земельный Участок 1 Га  под многоэтажную застройку в г. Одинцово из категории земельный участок под коммерческую застройку, земельные участки в городе Одинцово\" property=\"twitter:description\"><meta content=\"/uploads/store/attachment/637b332369763f00714f3649/attachment/large-2487df3faf4aac896a1fe2c93cc09958.jpg\" property=\"twitter:image\"><link href=\"/apple-touch-icon.png\" rel=\"apple-touch-icon\" /><link href=\"/icon.png\" rel=\"icon\" sizes=\"128x128\" /><link href=\"https://portal-da.ru/objects/269183-zemelnyy-uchastok-pod-kommercheskuyu-zastroyku-zemelnyy-uchastok-1-ga-pod-mnogoetazhnuyu-zastroyku-v-g-odintsovo\" rel=\"canonical\" /><meta name=\"csrf-param\" content=\"authenticity_token\" />\\n<meta name=\"csrf-token\" content=\"G3nmviHbSK_tYOWsBkWjqwSPpxE8kL4AyC7Q8wjV7sR9LDZOuPZh9sQtx6FQj3HBSbgFhYVNGtr_WoiN8bLO4Q\" /><script>\\n//<![CDATA[\\nwindow.general={};general.env=\"production\";general.commit=\"9f47d392d0f3dd45acad5be7165ffc2d1e2d2d5d\";general.banner={\"enabled\":false};general.sentry={\"enabled\":true,\"dsn\":\"https://ceab64b3bc3648ea9985a2654ea66b08@o286496.ingest.sentry.io/5281802\"};general.features={\"sbol\":true,\"sbbol\":true};general.can_toggle_favorite=false;general.id=\"62ac2cae130abb00a34d99a7\";general.asset_id=\"269183\";general.related_assets=[{\"id\":\"62ac5415130abb00a34d9d48\",\"slug\":\"368050-avtoservis-arenda-avtoservisa-635-kv-m\",\"short_id\":\"368050\",\"kind_name\":\"Автосервис\",\"kind\":\"car_service\",\"title\":\"Аренда автосервиса 635 кв. м.\",\"rent_price\":\"825 000 ₽\",\"badges\":[],\"video\":false,\"address\":\"Российская Федерация, Москва\",\"placement_purpose\":\"rent\",\"pledge_status\":\"no\",\"pledge_status_text\":\"Без обременения\",\"specific_fields\":[{\"name\":\"Функционирование\",\"value\":\"Введён в эксплуатацию / эксплуатируется\",\"field\":\"functioning\"},{\"name\":\"Общая площадь\",\"value\":\"12500 м²\",\"field\":\"total_area\"},{\"name\":\"Статус бизнеса\",\"value\":\"Недействующий\",\"field\":\"business_status\"}],\"photos\":[\"https://portal-da.ru/uploads/store/attachment/62ac549a130abb009c4da480/attachment/large-a390983c738d8cff1059c42d180dcb23.jpeg\",\"https://portal-da.ru/uploads/store/attachment/62ac549c130abb009f4daee4/attachment/large-8964a7843aa03dfc1d9b669f572b24f0.jpeg\",\"https://portal-da.ru/uploads/store/attachment/62ac549f130abb009c4da481/attachment/large-3d4db706d7e20d960650a5b7f512488f.jpeg\",\"https://portal-da.ru/uploads/store/attachment/62ac54a2130abb00a74da252/attachment/large-aba60037b64978f028581eed76db6235.jpeg\",\"https://portal-da.ru/uploads/store/attachment/62ac54a5130abb00a34d9d62/attachment/large-95d10410ae1733f33c91e4757ff6011c.jpeg\"],\"borrowers\":[],\"url\":\"http://portal-da.ru/objects/368050-avtoservis-arenda-avtoservisa-635-kv-m\",\"favorite\":false,\"seller\":\"Беликин Иван Владимирович\",\"creditable\":false}];general.attachments=[{\"kind\":\"photo\",\"url\":\"https://portal-da.ru/uploads/watermarks/20221121/large-2487df3faf4aac896a1fe2c93cc09958.jpg\",\"link\":null},{\"kind\":\"photo\",\"url\":\"https://portal-da.ru/uploads/watermarks/20221121/large-c9a3a56fde19a9afefb170c9970c7fd1.jpg\",\"link\":null},{\"kind\":\"photo\",\"url\":\"https://portal-da.ru/uploads/watermarks/20221121/large-325ae8920875ff06209eb7cf17522423.jpg\",\"link\":null},{\"kind\":\"photo\",\"url\":\"https://portal-da.ru/uploads/watermarks/20221121/large-3b23e3489d4584f08bb643de544df1ca.jpg\",\"link\":null},{\"kind\":\"photo\",\"url\":\"https://portal-da.ru/uploads/watermarks/20221121/large-03b9995afa4bfc90bd760413038613a2.jpg\",\"link\":null},{\"kind\":\"photo\",\"url\":\"https://portal-da.ru/uploads/watermarks/20221121/large-7757fd94697282a20fed3e8e4a61ce5a.jpg\",\"link\":null},{\"kind\":\"photo\",\"url\":\"https://portal-da.ru/uploads/watermarks/20221121/large-07672aae17624abad708f467a752c668.jpg\",\"link\":null},{\"kind\":\"photo\",\"url\":\"https://portal-da.ru/uploads/watermarks/20221121/large-4b95f64e79d0209fe14cc818ffc40a6a.jpg\",\"link\":null},{\"kind\":\"photo\",\"url\":\"https://portal-da.ru/uploads/watermarks/20221121/large-2725d0c3dc3351bcbfcf46ca800c8618.jpg\",\"link\":null},{\"kind\":\"photo\",\"url\":\"https://portal-da.ru/uploads/watermarks/20221121/large-d018f2aa0f1f6b940a3eb0cec3157e84.jpg\",\"link\":null},{\"kind\":\"photo\",\"url\":\"https://portal-da.ru/uploads/watermarks/20221121/large-455331ac33959bb3b8dff070ef58b439.jpg\",\"link\":null},{\"kind\":\"photo\",\"url\":\"https://portal-da.ru/uploads/watermarks/20221121/large-04c14ae9de0a284ba244cc5714f803f9.jpg\",\"link\":null},{\"kind\":\"photo\",\"url\":\"https://portal-da.ru/uploads/watermarks/20221121/large-b64d5c5300e514813a9429e792e67ca2.jpg\",\"link\":null}];general.contact={\"name\":\"Беликин Иван Владимирович\",\"email\":\"com16@mail.ru\",\"avatar\":\"https://portal-da.ru/default/user.png\",\"phone_link\":\"https://portal-da.ru/api/v2/assets/269183/phone.json\"};general.seller={\"name\":\"Беликин Иван Владимирович\",\"assets_count\":1};general.specific_fields=[{\"name\":\"Площадь\",\"value\":\"100 сот.\",\"field\":\"area\"},{\"name\":\"Кадастровый номер\",\"value\":\"50:20:0041615:1509\",\"field\":\"cadastral_number\"}];general.can_ask=false;general.can_view_phone=false;general.favorite=false;general.price=\"320 млн ₽\";general.services=[];\\n//]]>\\n</script><script defer=\"defer\" src=\"/build/styles.d41d8cd9.js\"></script><link href=\"/build/styles.781bfc66.css\" rel=\"stylesheet\"><script defer=\"defer\" src=\"/build/runtime.697d51d7.js\"></script><script defer=\"defer\" src=\"/build/highcharts.96a2f33e.js\"></script><script defer=\"defer\" src=\"/build/mdi.124cca06.js\"></script><script defer=\"defer\" src=\"/build/vendors.ec04a762.js\"></script><script defer=\"defer\" src=\"/build/assets.c1471263.js\"></script><link href=\"/build/vendors.e43a1d84.css\" rel=\"stylesheet\"><link href=\"/build/assets.76c641e7.css\" rel=\"stylesheet\"></head><body class=\"asset-html vuetify-custom-theme\"><script src=\"https://api-maps.yandex.ru/2.1/?apikey=72d90556-11a1-4f58-9ea9-31812eb6cfba&amp;lang=ru_RU\"></script><!-- Yandex.Metrika counter -->\\n<script type=\"text/javascript\" >\\n  (function(m,e,t,r,i,k,a){m[i]=m[i]||function(){(m[i].a=m[i].a||[]).push(arguments)};\\n  m[i].l=1*new Date();k=e.createElement(t),a=e.getElementsByTagName(t)[0],k.async=1,k.src=r,a.parentNode.insertBefore(k,a)})\\n  (window, document, \"script\", \"https://mc.yandex.ru/metrika/tag.js\", \"ym\");\\n\\n  ym(49130266, \"init\", {\\n       clickmap: true,\\n       trackLinks: true,\\n       accurateTrackBounce: true,\\n       webvisor: true,\\n       userParams: general.ym_user\\n  });\\n</script>\\n<noscript><div><img src=\"https://mc.yandex.ru/watch/49130266\" style=\"position:absolute; left:-9999px;\" alt=\"\" /></div></noscript>\\n<!-- /Yandex.Metrika counter -->\\n\\n<!-- Global site tag (gtag.js) - Google Analytics -->\\n<script async src=\"https://www.googletagmanager.com/gtag/js?id=G-LF75QFYV0E\"></script>\\n<script>\\n  window.dataLayer = window.dataLayer || [];\\n  function gtag(){dataLayer.push(arguments);}\\n  gtag(\\'js\\', new Date());\\n\\n  gtag(\\'config\\', \\'G-LF75QFYV0E\\');\\n</script>\\n<div class=\"layout-asset\"><header class=\"layout-asset__header layout-header\"><div class=\"header-section header-section--black\"><div class=\"layout-header__padder\"><div class=\"layout-header__content-wrapper\"><div class=\"header-topnav\"><div class=\"header-topnav__left\" role=\"navigation\"><a class=\"header-topnav-link\" href=\"/objects/catalog/buy\">Активы</a></div><div class=\"header-topnav__right\" role=\"navigation\"><a class=\"header-topnav-link\" href=\"/about\">О проекте</a><a class=\"header-topnav-link\" href=\"/blog\">Блог</a><a class=\"header-topnav-link\" href=\"/faq\">Помощь</a></div></div></div></div></div><div class=\"header-section header-section--white vuetify-custom-theme\"><div class=\"layout-header__padder\"><div class=\"layout-header__content-wrapper\"><div class=\"site-header\"><div class=\"site-header__logo\"><a class=\"portal-da-logo\" href=\"/\"><span class=\"visually-hidden\">Переход на главную страницу сайта</span><img alt=\"\" class=\"portal-da-logo__svg portal-da-logo__svg--da\" src=\"/media/images/auth/svgs/logo-da.11da7137.svg\" /><svg aria-hidden=\"true\" class=\"portal-da-logo__svg portal-da-logo__svg--text\" focusable=\"false\" viewBox=\"0 0 101 16\" xmlns=\"http://www.w3.org/2000/svg\"><path d=\"M6.71991 1.00016H0.659912V15.0002H3.89991V11.1402H6.71991C10.4599 11.1402 12.7999 9.20016 12.7999 6.08016C12.7999 2.94016 10.4599 1.00016 6.71991 1.00016ZM6.53991 8.50016H3.89991V3.64016H6.53991C8.51991 3.64016 9.51991 4.54016 9.51991 6.08016C9.51991 7.60016 8.51991 8.50016 6.53991 8.50016Z\" /><path d=\"M19.9935 15.1602C23.4135 15.1602 25.8935 12.8602 25.8935 9.62016C25.8935 6.38016 23.4135 4.08016 19.9935 4.08016C16.5735 4.08016 14.0735 6.38016 14.0735 9.62016C14.0735 12.8602 16.5735 15.1602 19.9935 15.1602ZM19.9935 12.6002C18.4335 12.6002 17.2335 11.4802 17.2335 9.62016C17.2335 7.76016 18.4335 6.64016 19.9935 6.64016C21.5535 6.64016 22.7335 7.76016 22.7335 9.62016C22.7335 11.4802 21.5535 12.6002 19.9935 12.6002Z\" /><path d=\"M30.959 5.66016V4.24016H27.979V15.0002H31.099V9.92016C31.099 7.86016 32.239 6.92016 33.959 6.92016C34.199 6.92016 34.399 6.94016 34.659 6.96016V4.08016C32.999 4.08016 31.719 4.62016 30.959 5.66016Z\" /><path d=\"M42.9852 12.2802C42.6452 12.5402 42.1852 12.6802 41.7252 12.6802C40.8852 12.6802 40.3852 12.1802 40.3852 11.2602V6.88016H43.0652V4.48016H40.3852V1.86016H37.2652V4.48016H35.6052V6.88016H37.2652V11.3002C37.2652 13.8602 38.7452 15.1602 41.2852 15.1602C42.2452 15.1602 43.1852 14.9402 43.8252 14.4802L42.9852 12.2802Z\" /><path d=\"M49.9166 4.08016C48.1966 4.08016 46.4566 4.54016 45.2766 5.38016L46.3966 7.56016C47.1766 6.94016 48.3566 6.56016 49.4966 6.56016C51.1766 6.56016 51.9766 7.34016 51.9766 8.68016H49.4966C46.2166 8.68016 44.8766 10.0002 44.8766 11.9002C44.8766 13.7602 46.3766 15.1602 48.8966 15.1602C50.4766 15.1602 51.5966 14.6402 52.1766 13.6602V15.0002H55.0966V8.86016C55.0966 5.60016 53.1966 4.08016 49.9166 4.08016ZM49.6766 13.0602C48.5766 13.0602 47.9166 12.5402 47.9166 11.7602C47.9166 11.0402 48.3766 10.5002 49.8366 10.5002H51.9766V11.6002C51.6166 12.5802 50.7166 13.0602 49.6766 13.0602Z\" /><path d=\"M57.9204 15.0002H61.0404V0.160156H57.9204V15.0002Z\" /><path d=\"M69.8201 15.0002H76.1801C80.7601 15.0002 83.9001 12.2402 83.9001 8.00016C83.9001 3.76016 80.7601 1.00016 76.1801 1.00016H69.8201V15.0002ZM73.0601 12.3402V3.66016H76.0201C78.8001 3.66016 80.6201 5.32016 80.6201 8.00016C80.6201 10.6802 78.8001 12.3402 76.0201 12.3402H73.0601Z\" /><path d=\"M96.6082 15.0002H100.008L93.7482 1.00016H90.5482L84.3082 15.0002H87.6282L88.8682 12.0002H95.3682L96.6082 15.0002ZM89.9082 9.54016L92.1282 4.18016L94.3482 9.54016H89.9082Z\" /></svg></a></div><div class=\"site-header__nav-left\"><a rel=\"prerender\" class=\"site-header-link site-header-link--block\" href=\"/objects/catalog/buy\">Купить</a><a class=\"site-header-link site-header-link--block\" href=\"/objects/catalog/rent\">Снять</a><a class=\"site-header-link site-header-link--block\" href=\"/services\">Сервисы</a></div><div class=\"site-header__nav-right\"><a class=\"site-header-link site-header-link--add-asset\" data-method=\"get\" href=\"/auth/sign_in\"><div class=\"icon icon-add-round\"></div>Разместить актив на продажу</a></div><div class=\"site-header__actions\"><a class=\"button button--secondary\" rel=\"prerender\" href=\"/auth/sign_in\"><div class=\"icon icon-enter c-icon--primary mr-2\"></div>Вход и регистрация</a></div></div></div></div></div></header><main class=\"layout-asset__main\"><div itemscope=\"itemscope\" itemtype=\"http://schema.org/Product\"><link itemprop=\"url\" href=\"http://portal-da.ru/objects/269183-zemelnyy-uchastok-pod-kommercheskuyu-zastroyku-zemelnyy-uchastok-1-ga-pod-mnogoetazhnuyu-zastroyku-v-g-odintsovo\"><meta itemprop=\"name\" content=\"Купить Земельный Участок 1 Га  под многоэтажную застройку в г. Одинцово\"><meta itemprop=\"description\" content=\"Продажа Земельный Участок 1 Га  под многоэтажную застройку в г. Одинцово из категории земельный участок под коммерческую застройку, земельные участки в городе Одинцово\"><meta itemprop=\"category\" content=\"Земельный участок под коммерческую застройку\"><meta itemprop=\"image\" content=\"https://portal-da.ru/uploads/store/attachment/637b332369763f00714f3649/attachment/large-2487df3faf4aac896a1fe2c93cc09958.jpg\"><meta itemprop=\"image\" content=\"https://portal-da.ru/uploads/store/attachment/637b332369763f00714f3655/attachment/large-c9a3a56fde19a9afefb170c9970c7fd1.jpg\"><meta itemprop=\"image\" content=\"https://portal-da.ru/uploads/store/attachment/637b332369763f00714f364a/attachment/large-325ae8920875ff06209eb7cf17522423.jpg\"><meta itemprop=\"image\" content=\"https://portal-da.ru/uploads/store/attachment/637b332369763f00714f364b/attachment/large-3b23e3489d4584f08bb643de544df1ca.jpg\"><meta itemprop=\"image\" content=\"https://portal-da.ru/uploads/store/attachment/637b332369763f00714f364c/attachment/large-03b9995afa4bfc90bd760413038613a2.jpg\"><meta itemprop=\"image\" content=\"https://portal-da.ru/uploads/store/attachment/637b332369763f00714f364d/attachment/large-7757fd94697282a20fed3e8e4a61ce5a.jpg\"><meta itemprop=\"image\" content=\"https://portal-da.ru/uploads/store/attachment/637b332369763f00714f364e/attachment/large-07672aae17624abad708f467a752c668.jpg\"><meta itemprop=\"image\" content=\"https://portal-da.ru/uploads/store/attachment/637b332369763f00714f364f/attachment/large-4b95f64e79d0209fe14cc818ffc40a6a.jpg\"><meta itemprop=\"image\" content=\"https://portal-da.ru/uploads/store/attachment/637b332369763f00714f3650/attachment/large-2725d0c3dc3351bcbfcf46ca800c8618.jpg\"><meta itemprop=\"image\" content=\"https://portal-da.ru/uploads/store/attachment/637b332369763f00714f3651/attachment/large-d018f2aa0f1f6b940a3eb0cec3157e84.jpg\"><meta itemprop=\"image\" content=\"https://portal-da.ru/uploads/store/attachment/637b332369763f00714f3652/attachment/large-455331ac33959bb3b8dff070ef58b439.jpg\"><meta itemprop=\"image\" content=\"https://portal-da.ru/uploads/store/attachment/637b332369763f00714f3653/attachment/large-04c14ae9de0a284ba244cc5714f803f9.jpg\"><meta itemprop=\"image\" content=\"https://portal-da.ru/uploads/store/attachment/637b332369763f00714f3654/attachment/large-b64d5c5300e514813a9429e792e67ca2.jpg\"><div itemscope=\"itemscope\" itemprop=\"offers\" itemtype=\"http://schema.org/Offer\"><link itemprop=\"url\" href=\"http://portal-da.ru/objects/269183-zemelnyy-uchastok-pod-kommercheskuyu-zastroyku-zemelnyy-uchastok-1-ga-pod-mnogoetazhnuyu-zastroyku-v-g-odintsovo\"><meta itemprop=\"price\" content=\"320000000.0\"><meta itemprop=\"priceCurrency\" content=\"RUB\"><meta itemprop=\"availability\" content=\"https://schema.org/InStock\"></div></div><div data-widget-template=\"asset-page-view-widget\"><v-app><div class=\"layout-asset__padder\"><div class=\"layout-asset__content-wrapper\"><div class=\"asset-page\"><div class=\"asset-page__breadcrumbs\"><nav aria-label=\"навигация хлебными крошками\" class=\"page-breadcrumbs\"><a class=\"page-breadcrumbs__link\" href=\"/objects/catalog/buy\">Каталог</a><a class=\"page-breadcrumbs__link\" href=\"/objects/catalog/buy/section\">Земельные участки</a><a class=\"page-breadcrumbs__link\" href=\"/objects/catalog/buy/commercial_section\">Земельный участок под коммерческую застройку</a></nav></div><div class=\"asset-page__content\"><div class=\"asset-page__main\"><div class=\"card-sheet asset-page-card\"><header class=\"asset-page-card__header px-8 py-6\"><div class=\"d-flex justify-space-between\"><div class=\"d-flex align-center\"><asset-id big=\"\" class=\"mr-6\">269183</asset-id><div class=\"v-align c-text mr-6\"><ui-icon class=\"c-icon--dimmed\" left=\"\" name=\"time-s\"></ui-icon>17 июня 2022</div><div class=\"v-align c-text\"><ui-icon class=\"c-icon--dimmed\" left=\"\" name=\"eye-on\"></ui-icon>1028 просмотров</div></div><div class=\"d-flex\"><asset-favorite-button asset-id=\"269183\"></asset-favorite-button></div></div></header><div class=\"asset-page-card__title px-8\"><h1 class=\"text--h1\">Земельный Участок 1 Га  под многоэтажную застройку в г. Одинцово</h1></div><div class=\"asset-page-card__address px-8 pb-6 mb-8\"><span class=\"mr-4\">Российская Федерация, Московская область, Одинцово</span><span @click=\"showOnMap\" class=\"link link--primary\">На карте</span></div><section class=\"pb-6 px-8\"><v-row><v-col cols=\"7\"><div class=\"asset-page-card__list\"><div class=\"v-align mb-1\"><ui-icon class=\"c-text--dimmed\" left=\"\" name=\"catalog-list\" size=\"18\"></ui-icon>Земельный участок под коммерческую застройку</div></div></v-col><v-col cols=\"5\"><div class=\"text--small c-text ml-7 mb-2\">Возможные сделки</div><div class=\"d-flex mb-1\"><ui-icon class=\"c-primary mr-2\" name=\"check-round-full\" nudge-top=\"2\" size=\"18\"></ui-icon>Прямая покупка актива</div></v-col></v-row></section><v-tabs no-animation=\"\" v-model=\"tab\"><v-tab active-class=\"font-weight-medium\" class=\"ml-8\">Информация об активе</v-tab><v-tab active-class=\"font-weight-medium\">Собственник</v-tab></v-tabs><v-tabs-items v-model=\"tab\"><v-tab-item :reverse-transition=\"false\" :transition=\"false\"><div class=\"asset-info py-8\"><div class=\"asset-info__wrapper asset-info__slider\"><asset-slider :slides=\"assetAttachments\" @expand=\"openFullscreenViewer\"></asset-slider><asset-fullscreen-viewer :slides=\"assetAttachments\" ref=\"assetFullscreenViewer\"><div class=\"d-flex justify-space-between mb-6\"><div class=\"v-align c-text\"><ui-icon class=\"c-icon--dimmed\" left=\"\" name=\"eye-on\"></ui-icon>1028 просмотров</div></div><div class=\"text--h3 mb-3\">Земельный Участок 1 Га  под многоэтажную застройку в г. Одинцово</div><asset-price-info></asset-price-info><asset-contact-info :contact=\"contact\" class=\"pt-12 pb-6\"></asset-contact-info><asset-phone-button :asset-id=\"assetId\" :can-view-phone=\"canViewPhone\" @click=\"closeFullscreenViewer\" class=\"mb-2\"></asset-phone-button><asset-chat-button @click=\"openConversation\"></asset-chat-button><service-list :asset-id=\"assetShortId\" :options=\"servicesOptions\" class=\"mt-8\" v-if=\"servicesOptions.length\"></service-list></asset-fullscreen-viewer></div><div class=\"pb-6 px-8\"><div class=\"asset-info__wrapper\"><h2 class=\"text--h2\">Характеристики</h2><asset-features-list :items=\"specificFields\"></asset-features-list></div><div class=\"asset-info__wrapper\"><h2 class=\"text--h2\">Описание</h2><div class=\"asset-info__description\"><p><strong>БЕЗ КОМИССИИ!!!</strong></p><p><strong>ГПЗУ есть!</strong></p><p><strong>Геология и геодезия есть!</strong></p><p><strong>ППТ есть!</strong></p><p><strong>Продаем Земельный участок под многоэтажную застройку: Московская область, Одинцовский район, пос.Горки-10</strong>. </p><p>Возможно получить целевой кредит под многоэтажную застройку..</p><p>Участок находится в окружении высотной жилой застройки.</p><p>Средняя стоимость 1-го кв метра в данном районе <strong>от 180.000 рублей/кв.м</strong>. с отделкой.</p><p>Кадастровый номер: <strong>50:20:0041615:1509 (75 соток) и 50:20:0041615:639 (25 соток)</strong></p><p><strong>Площадь участка 75 соток +25 соток. Правильной формы.</strong></p><p><strong>Все коммуникации по границе участка.</strong></p><p><strong>Собственники физ лица. </strong></p><p><strong>Форма договора- Договор купли-продажи. Вся сумма по безналичному расчету. </strong></p><p><strong>Быстрый выход на сделку.</strong></p><p><strong>Документы по запросу, при наличии коммерческого предложения от Интересантов.</strong></p>\\n</div></div><div class=\"asset-info__address\" id=\"asset-address\"><h2 class=\"text--h2\">Адрес</h2><div class=\"asset-info__auth-block asset-info__auth-block_map\"><a class=\"link link--primary\" href=\"/auth/sign_in\">Войдите,&nbsp;</a>чтобы посмотреть точный адрес</div></div></div></div></v-tab-item><v-tab-item :reverse-transition=\"false\" :transition=\"false\"><div class=\"pa-8\"><div class=\"asset-owner\"><div class=\"asset-info__auth-block asset-info__auth-block_owner\"><a class=\"link link--primary\" href=\"/auth/sign_in\">Войдите,&nbsp;</a>чтобы посмотреть информацию о собственнике/заёмщике</div></div></div></v-tab-item></v-tabs-items></div></div><div class=\"asset-page__aside\"><div class=\"asset-page__aside-container\"><div class=\"card-sheet\"><asset-price-info :creditable=\"creditable\" :price=\"assetPrice\" :rent=\"assetRent\" class=\"px-8 pt-8\"></asset-price-info><div class=\"px-8 pb-8\"><asset-contact-info :contact=\"contact\" :seller=\"seller\" class=\"py-6\"></asset-contact-info><asset-phone-button :asset-id=\"assetShortId\" :can-view-phone=\"canViewPhone\" class=\"mb-2\"></asset-phone-button><asset-chat-button @click=\"openConversation\"></asset-chat-button><asset-credit-button @click=\"openCredits\" class=\"mt-2\" v-if=\"creditable\"></asset-credit-button><service-list :asset-id=\"assetShortId\" :options=\"servicesOptions\" class=\"mt-8\" v-if=\"servicesOptions.length\"></service-list></div></div></div></div></div><h2 class=\"asset-page--h2\">Похожие активы</h2><assets-card-slider :assets=\"[{&quot;id&quot;:&quot;63bbc6fb72a39a012bc077e5&quot;,&quot;slug&quot;:&quot;561202-torgovyy-tsentr-zdanie-trts-sibirskiy-moll-i-delovoy-tsentr-novaya-vysota&quot;,&quot;short_id&quot;:&quot;561202&quot;,&quot;kind_name&quot;:&quot;Торговый центр (здание)&quot;,&quot;kind&quot;:&quot;shopping_center&quot;,&quot;title&quot;:&quot;ТРЦ «Сибирский Молл» и Деловой центр «Новая Высота»&quot;,&quot;price&quot;:&quot;3,72 млрд ₽&quot;,&quot;badges&quot;:[{&quot;name&quot;:&quot;Новый&quot;,&quot;kind&quot;:&quot;new&quot;},{&quot;name&quot;:&quot;Торги&quot;,&quot;kind&quot;:&quot;biddings&quot;}],&quot;video&quot;:false,&quot;address&quot;:&quot;Российская Федерация, Новосибирская область, г Новосибирск&quot;,&quot;placement_purpose&quot;:&quot;sale&quot;,&quot;pledge_status&quot;:&quot;no&quot;,&quot;pledge_status_text&quot;:&quot;Без обременения&quot;,&quot;specific_fields&quot;:[{&quot;name&quot;:&quot;Функционирование&quot;,&quot;value&quot;:&quot;Введён в эксплуатацию / эксплуатируется&quot;,&quot;field&quot;:&quot;functioning&quot;},{&quot;name&quot;:&quot;Общая площадь&quot;,&quot;value&quot;:&quot;99148 м²&quot;,&quot;field&quot;:&quot;total_area&quot;},{&quot;name&quot;:&quot;Арендопригодная площадь&quot;,&quot;value&quot;:&quot;58964 м²&quot;,&quot;field&quot;:&quot;rentable_area&quot;}],&quot;photos&quot;:[&quot;https://portal-da.ru/uploads/store/attachment/63bcfe4d47426e008fbebded/attachment/large-6255df406c9150294a373bc5cf69ea21.jpg&quot;,&quot;https://portal-da.ru/uploads/store/attachment/63bcfe4d47426e008fbebdee/attachment/large-6cb7e01a32c1fa94f67454edbbf34ae7.jpg&quot;,&quot;https://portal-da.ru/uploads/store/attachment/63bcfe4d47426e008fbebdef/attachment/large-551171bc9066bee6c9c1baa87646e282.jpg&quot;,&quot;https://portal-da.ru/uploads/store/attachment/63bcfe4d47426e008fbebdf0/attachment/large-6a61b9a6113bb5855589313bb795cecc.jpg&quot;,&quot;https://portal-da.ru/uploads/store/attachment/63bcfe4d47426e008fbebdf1/attachment/large-faa06ec87651a2e4336f2c7f745f96f2.jpg&quot;,&quot;https://portal-da.ru/uploads/store/attachment/63bcfe4d47426e008fbebdf3/attachment/large-37977b2cc34a82b47dffa497af84d90d.jpg&quot;,&quot;https://portal-da.ru/uploads/store/attachment/63bcfe4d47426e008fbebdf2/attachment/large-70558a0e5bbb9fab71d6efe5338c9952.jpg&quot;,&quot;https://portal-da.ru/uploads/store/attachment/63bcfe4d47426e008fbebdf6/attachment/large-43722ad3df2861f6f8ac7e13a114064f.jpg&quot;,&quot;https://portal-da.ru/uploads/store/attachment/63bcfe4d47426e008fbebdf5/attachment/large-4ef590d7b75f22ab170914e8098d2e97.jpg&quot;,&quot;https://portal-da.ru/uploads/store/attachment/63bcfe4d47426e008fbebdf4/attachment/large-c5c0f70f1ab020cae3c66abaa9d87b51.jpg&quot;],&quot;borrowers&quot;:[],&quot;url&quot;:&quot;http://portal-da.ru/objects/561202-torgovyy-tsentr-zdanie-trts-sibirskiy-moll-i-delovoy-tsentr-novaya-vysota?label=hints.assets.v0\\\\u0026source=asset_recommendation&quot;,&quot;favorite&quot;:false,&quot;seller&quot;:&quot;Юридическое лицо&quot;,&quot;creditable&quot;:false},{&quot;id&quot;:&quot;5f3137ce6bc41b59a8c61f44&quot;,&quot;slug&quot;:&quot;942137-nematerialnyy-aktiv-patent-torgovaya-marka-i-t-d-imennye-tsennye-bumagi-ao-malaya-kompleksnaya-energetika&quot;,&quot;short_id&quot;:&quot;942137&quot;,&quot;kind_name&quot;:&quot;Нематериальный актив (патент, торговая марка и т.д.)&quot;,&quot;kind&quot;:&quot;intagible&quot;,&quot;title&quot;:&quot;Именные ценные бумаги АО «Малая комплексная энергетика»&quot;,&quot;price&quot;:&quot;4,99 млн ₽&quot;,&quot;badges&quot;:[],&quot;video&quot;:false,&quot;address&quot;:&quot;Российская Федерация, Ярославская область, г Ярославль&quot;,&quot;placement_purpose&quot;:&quot;sale&quot;,&quot;pledge_status&quot;:&quot;full&quot;,&quot;pledge_status_text&quot;:&quot;В залоге&quot;,&quot;specific_fields&quot;:[],&quot;photos&quot;:[&quot;https://portal-da.ru/uploads/store/attachment/6374d55150fb49008dd56271/attachment/large-9d160001c5aad051da77f7b81bf15a00.jpg&quot;],&quot;borrowers&quot;:[&quot;АО \\\\&quot;Малая комплексная энергетика\\\\&quot;&quot;],&quot;url&quot;:&quot;http://portal-da.ru/objects/942137-nematerialnyy-aktiv-patent-torgovaya-marka-i-t-d-imennye-tsennye-bumagi-ao-malaya-kompleksnaya-energetika?label=hints.assets.v0\\\\u0026source=asset_recommendation&quot;,&quot;favorite&quot;:false,&quot;seller&quot;:&quot;ПАО Сбербанк&quot;,&quot;creditable&quot;:false},{&quot;id&quot;:&quot;63bcb8af47426e0010c6ca94&quot;,&quot;slug&quot;:&quot;586221-legkovye-avtomobili-mercedes-benz-glc-klass&quot;,&quot;short_id&quot;:&quot;586221&quot;,&quot;kind_name&quot;:&quot;Легковые автомобили&quot;,&quot;kind&quot;:&quot;cars&quot;,&quot;title&quot;:&quot;Mercedes-Benz GLC-класс&quot;,&quot;price&quot;:&quot;2,88 млн ₽&quot;,&quot;badges&quot;:[{&quot;name&quot;:&quot;Новый&quot;,&quot;kind&quot;:&quot;new&quot;}],&quot;video&quot;:false,&quot;address&quot;:&quot;Российская Федерация, Самарская область, г Самара&quot;,&quot;placement_purpose&quot;:&quot;sale&quot;,&quot;pledge_status&quot;:&quot;no&quot;,&quot;pledge_status_text&quot;:&quot;Без обременения&quot;,&quot;specific_fields&quot;:[{&quot;name&quot;:&quot;Год выпуска&quot;,&quot;value&quot;:&quot;2017&quot;,&quot;field&quot;:&quot;construction_year&quot;},{&quot;name&quot;:&quot;Марка&quot;,&quot;value&quot;:&quot;Mercedes-Benz&quot;,&quot;field&quot;:&quot;make&quot;},{&quot;name&quot;:&quot;Модель&quot;,&quot;value&quot;:&quot;GLC-класс&quot;,&quot;field&quot;:&quot;model&quot;}],&quot;photos&quot;:[&quot;https://portal-da.ru/uploads/store/attachment/63bcb8b747426e000eae3964/attachment/large-fb29825a688205cf694fd48650068883.jpg&quot;,&quot;https://portal-da.ru/uploads/store/attachment/63bcb8b847426e000eae3967/attachment/large-f65716055251ae368a65ac729d3f0b1f.jpg&quot;,&quot;https://portal-da.ru/uploads/store/attachment/63bcb8b847426e000eae3968/attachment/large-88bcc9113daf002e106ec3877b957c51.jpg&quot;,&quot;https://portal-da.ru/uploads/store/attachment/63bcb8b947426e000eae396a/attachment/large-b46038e06c2d040986f22509ef78aa9f.jpg&quot;,&quot;https://portal-da.ru/uploads/store/attachment/63bcb8ba47426e000eae396b/attachment/large-50833549e49a823ad792a474288380bb.jpg&quot;,&quot;https://portal-da.ru/uploads/store/attachment/63bcb8ba47426e000eae396d/attachment/large-67b26516fb2e4882cdaa828664e0981b.jpg&quot;,&quot;https://portal-da.ru/uploads/store/attachment/63bcb8ba47426e000eae396e/attachment/large-a1453654fc09a00fb9d812d9f0da13d9.jpg&quot;,&quot;https://portal-da.ru/uploads/store/attachment/63bcb8bb47426e000eae396f/attachment/large-16d27699bcfce032e316077a1a209e5c.jpg&quot;,&quot;https://portal-da.ru/uploads/store/attachment/63bcb8bb47426e000eae3970/attachment/large-f8e7cfd5524fecd640f83cf32f0f9822.jpg&quot;,&quot;https://portal-da.ru/uploads/store/attachment/63bcb8bb47426e000eae3971/attachment/large-ac91b8ded1a67568c59d9b7224437f10.jpg&quot;,&quot;https://portal-da.ru/uploads/store/attachment/63bcb8bc47426e000eae3973/attachment/large-811149034250c7f7a3f6a2392021006b.jpg&quot;,&quot;https://portal-da.ru/uploads/store/attachment/63bcb8bd47426e000eae3974/attachment/large-b5117a5cecf831c8fa646a891e794f52.jpg&quot;,&quot;https://portal-da.ru/uploads/store/attachment/63bcb8bd47426e000eae3975/attachment/large-16b6946523101cd7d9e0abfde3a6b957.jpg&quot;,&quot;https://portal-da.ru/uploads/store/attachment/63bcb8bd47426e000eae3976/attachment/large-14127553423d18ed5ca3632c2212efbb.jpg&quot;,&quot;https://portal-da.ru/uploads/store/attachment/63bcb8be47426e000eae3977/attachment/large-b4972010ff8466ae74b6824e8355cb15.jpg&quot;,&quot;https://portal-da.ru/uploads/store/attachment/63bcb8be47426e000eae3978/attachment/large-416998fab4fb0a8db0142630772c5270.jpg&quot;,&quot;https://portal-da.ru/uploads/store/attachment/63bcb8be47426e000eae3979/attachment/large-80fce710173cd2023766b8704eba64a5.jpg&quot;,&quot;https://portal-da.ru/uploads/store/attachment/63bcb8bf47426e000eae397a/attachment/large-db01f69b421d00af034207f2f9b9799a.jpg&quot;],&quot;borrowers&quot;:[],&quot;url&quot;:&quot;http://portal-da.ru/objects/586221-legkovye-avtomobili-mercedes-benz-glc-klass?label=hints.assets.v0\\\\u0026source=asset_recommendation&quot;,&quot;favorite&quot;:false,&quot;seller&quot;:&quot;ООО 1 КИЛОМЕТР&quot;,&quot;creditable&quot;:false},{&quot;id&quot;:&quot;63ab95239a9dee00320505c8&quot;,&quot;slug&quot;:&quot;898115-legkovye-avtomobili-renault-scenic&quot;,&quot;short_id&quot;:&quot;898115&quot;,&quot;kind_name&quot;:&quot;Легковые автомобили&quot;,&quot;kind&quot;:&quot;cars&quot;,&quot;title&quot;:&quot;Renault Scenic&quot;,&quot;price&quot;:&quot;1,2 млн ₽&quot;,&quot;badges&quot;:[],&quot;video&quot;:false,&quot;address&quot;:&quot;Российская Федерация, Самарская область, г Самара&quot;,&quot;placement_purpose&quot;:&quot;sale&quot;,&quot;pledge_status&quot;:&quot;no&quot;,&quot;pledge_status_text&quot;:&quot;Без обременения&quot;,&quot;specific_fields&quot;:[{&quot;name&quot;:&quot;Год выпуска&quot;,&quot;value&quot;:&quot;2015&quot;,&quot;field&quot;:&quot;construction_year&quot;},{&quot;name&quot;:&quot;Марка&quot;,&quot;value&quot;:&quot;Renault&quot;,&quot;field&quot;:&quot;make&quot;},{&quot;name&quot;:&quot;Модель&quot;,&quot;value&quot;:&quot;Scenic&quot;,&quot;field&quot;:&quot;model&quot;}],&quot;photos&quot;:[&quot;https://portal-da.ru/uploads/store/attachment/63ab95289a9dee0031e98a77/attachment/large-699a1c57d53dd35150e1ed7610c86adf.jpg&quot;,&quot;https://portal-da.ru/uploads/store/attachment/63ab95299a9dee0031e98a78/attachment/large-3e5ac8b658d86a83d5a1e47ad7f96548.jpg&quot;,&quot;https://portal-da.ru/uploads/store/attachment/63ab95299a9dee0031e98a7a/attachment/large-74900131f73eedd8696f3228fa8f92ed.jpg&quot;,&quot;https://portal-da.ru/uploads/store/attachment/63ab952a9a9dee0031e98a7c/attachment/large-b1810125a514056897dc57355fc9d329.jpg&quot;,&quot;https://portal-da.ru/uploads/store/attachment/63ab952b9a9dee0031e98a7e/attachment/large-ac49345d1b24a37a209f8364ae2a320a.jpg&quot;,&quot;https://portal-da.ru/uploads/store/attachment/63ab952b9a9dee0031e98a80/attachment/large-46f8c00a854df16409af6fa7a9c81e81.jpg&quot;,&quot;https://portal-da.ru/uploads/store/attachment/63ab952c9a9dee0031e98a82/attachment/large-56b746e23658265f6f9e3ff89ebc8dc4.jpg&quot;,&quot;https://portal-da.ru/uploads/store/attachment/63ab952d9a9dee0031e98a83/attachment/large-d055aff6f2d3a8327a003aa57527d168.jpg&quot;,&quot;https://portal-da.ru/uploads/store/attachment/63ab952d9a9dee0031e98a84/attachment/large-ff870ec10e3021b9a569764c6d3fddc1.jpg&quot;,&quot;https://portal-da.ru/uploads/store/attachment/63ab952d9a9dee0031e98a85/attachment/large-9ac946187179e060193203ff9bccc921.jpg&quot;,&quot;https://portal-da.ru/uploads/store/attachment/63ab952e9a9dee0031e98a86/attachment/large-b04a7781a520e1c0aa7260316777f064.jpg&quot;,&quot;https://portal-da.ru/uploads/store/attachment/63ab95319a9dee0031e98a8b/attachment/large-626e085a5af394d5e10968a6af62c432.jpg&quot;,&quot;https://portal-da.ru/uploads/store/attachment/63ab95349a9dee0031e98a8d/attachment/large-d52f378ffd1d32e0a8590ae1697af987.jpg&quot;,&quot;https://portal-da.ru/uploads/store/attachment/63ab95369a9dee0031e98a8e/attachment/large-68ff0c7dcdfd195c2fafc4ffa3b1654b.jpg&quot;,&quot;https://portal-da.ru/uploads/store/attachment/63ab95379a9dee0031e98a8f/attachment/large-83b1bafee136b42a8b3a828ce8335b42.jpg&quot;,&quot;https://portal-da.ru/uploads/store/attachment/63ab95389a9dee0031e98a93/attachment/large-02093feedcbcb1b3c940b57940644a76.jpg&quot;,&quot;https://portal-da.ru/uploads/store/attachment/63ab95399a9dee0031e98a95/attachment/large-50b9e7e2b14a8a58e9b39922da38ffab.jpg&quot;,&quot;https://portal-da.ru/uploads/store/attachment/63ab953a9a9dee0031e98a97/attachment/large-c421883c222afbfbd9fa564d8f40f752.jpg&quot;,&quot;https://portal-da.ru/uploads/store/attachment/63ab953b9a9dee0031e98a9a/attachment/large-28d151b4bef5fe4fbacd7a369841205c.jpg&quot;,&quot;https://portal-da.ru/uploads/store/attachment/63ab953c9a9dee0031e98a9e/attachment/large-c683fa3459460b1e9b50da95730a9c85.jpg&quot;,&quot;https://portal-da.ru/uploads/store/attachment/63ab953c9a9dee0031e98aa2/attachment/large-9344e54295cea31369094051051c06aa.jpg&quot;,&quot;https://portal-da.ru/uploads/store/attachment/63ab953d9a9dee0031e98aa6/attachment/large-648ab04fa866b22f61ebffc548b1a54c.jpg&quot;,&quot;https://portal-da.ru/uploads/store/attachment/63ab953e9a9dee0031e98aa8/attachment/large-8744c84ecb20b77aeeb984dd77a64a17.jpg&quot;,&quot;https://portal-da.ru/uploads/store/attachment/63ab953f9a9dee0031e98aa9/attachment/large-22930c43691a30d61891a5d4ccf62b76.jpg&quot;,&quot;https://portal-da.ru/uploads/store/attachment/63ab95409a9dee0031e98aaa/attachment/large-dd00dddce68d966ad13757900e0d8ce4.jpg&quot;,&quot;https://portal-da.ru/uploads/store/attachment/63ab95419a9dee0031e98aab/attachment/large-9e5b760432052208e4549c3395402d7d.jpg&quot;,&quot;https://portal-da.ru/uploads/store/attachment/63ab95419a9dee0031e98aad/attachment/large-603a596baf32c6bf0f308c7547698db5.jpg&quot;,&quot;https://portal-da.ru/uploads/store/attachment/63ab95429a9dee0031e98aaf/attachment/large-a61d2345cad9de3b9bc30dd058986b76.jpg&quot;,&quot;https://portal-da.ru/uploads/store/attachment/63ab95439a9dee0031e98ab0/attachment/large-76e593d80bcf8703ba875e35dbdbb279.jpg&quot;],&quot;borrowers&quot;:[],&quot;url&quot;:&quot;http://portal-da.ru/objects/898115-legkovye-avtomobili-renault-scenic?label=hints.assets.v0\\\\u0026source=asset_recommendation&quot;,&quot;favorite&quot;:false,&quot;seller&quot;:&quot;ООО 1 КИЛОМЕТР&quot;,&quot;creditable&quot;:false},{&quot;id&quot;:&quot;639c36db6c57ee00d1e7a700&quot;,&quot;slug&quot;:&quot;600207-prochie-tmts-lot-6-knop-tel-vertex-d514-metallik-chernyy-1500-sht&quot;,&quot;short_id&quot;:&quot;600207&quot;,&quot;kind_name&quot;:&quot;Прочие ТМЦ&quot;,&quot;kind&quot;:&quot;other_products&quot;,&quot;title&quot;:&quot;Лот 6 кноп. тел. Vertex D514 металлик/черный (1500 шт)&quot;,&quot;price&quot;:&quot;2,03 млн ₽&quot;,&quot;badges&quot;:[{&quot;name&quot;:&quot;Торги&quot;,&quot;kind&quot;:&quot;biddings&quot;}],&quot;video&quot;:false,&quot;address&quot;:&quot;Российская Федерация, Санкт-Петербург&quot;,&quot;placement_purpose&quot;:&quot;sale&quot;,&quot;pledge_status&quot;:&quot;no&quot;,&quot;pledge_status_text&quot;:&quot;Без обременения&quot;,&quot;specific_fields&quot;:[],&quot;photos&quot;:[&quot;https://portal-da.ru/uploads/store/attachment/639c37076c57ee00c8e7a912/attachment/large-02f13c105a4836395d1c19a10acd62d1.jpg&quot;],&quot;borrowers&quot;:[],&quot;url&quot;:&quot;http://portal-da.ru/objects/600207-prochie-tmts-lot-6-knop-tel-vertex-d514-metallik-chernyy-1500-sht?label=hints.assets.v0\\\\u0026source=asset_recommendation&quot;,&quot;favorite&quot;:false,&quot;seller&quot;:&quot;Рябов Евгений Андреевич&quot;,&quot;creditable&quot;:false},{&quot;id&quot;:&quot;639c21816c57ee00d1e7a48a&quot;,&quot;slug&quot;:&quot;909072-prochie-tmts-lot-5-knop-tel-vertex-d514-metallik-chernyy-1500-sht&quot;,&quot;short_id&quot;:&quot;909072&quot;,&quot;kind_name&quot;:&quot;Прочие ТМЦ&quot;,&quot;kind&quot;:&quot;other_products&quot;,&quot;title&quot;:&quot;Лот 5 кноп. тел. Vertex D514 металлик/черный (1500 шт)&quot;,&quot;price&quot;:&quot;2,03 млн ₽&quot;,&quot;badges&quot;:[{&quot;name&quot;:&quot;Торги&quot;,&quot;kind&quot;:&quot;biddings&quot;}],&quot;video&quot;:false,&quot;address&quot;:&quot;Российская Федерация, Санкт-Петербург&quot;,&quot;placement_purpose&quot;:&quot;sale&quot;,&quot;pledge_status&quot;:&quot;no&quot;,&quot;pledge_status_text&quot;:&quot;Без обременения&quot;,&quot;specific_fields&quot;:[],&quot;photos&quot;:[&quot;https://portal-da.ru/uploads/store/attachment/639c21a96c57ee00d1e7a48b/attachment/large-dfb7525fa7212bcd1131d39eef9addaf.jpg&quot;],&quot;borrowers&quot;:[],&quot;url&quot;:&quot;http://portal-da.ru/objects/909072-prochie-tmts-lot-5-knop-tel-vertex-d514-metallik-chernyy-1500-sht?label=hints.assets.v0\\\\u0026source=asset_recommendation&quot;,&quot;favorite&quot;:false,&quot;seller&quot;:&quot;Рябов Евгений Андреевич&quot;,&quot;creditable&quot;:false},{&quot;id&quot;:&quot;639c1dce6c57ee00d1e7a40b&quot;,&quot;slug&quot;:&quot;240911-prochie-tmts-lot-4-knop-tel-vertex-d514-metallik-chernyy-1500-sht&quot;,&quot;short_id&quot;:&quot;240911&quot;,&quot;kind_name&quot;:&quot;Прочие ТМЦ&quot;,&quot;kind&quot;:&quot;other_products&quot;,&quot;title&quot;:&quot;Лот 4 кноп. тел. Vertex D514 металлик/черный (1500 шт)&quot;,&quot;price&quot;:&quot;2,03 млн ₽&quot;,&quot;badges&quot;:[{&quot;name&quot;:&quot;Торги&quot;,&quot;kind&quot;:&quot;biddings&quot;}],&quot;video&quot;:false,&quot;address&quot;:&quot;Российская Федерация, Санкт-Петербург&quot;,&quot;placement_purpose&quot;:&quot;sale&quot;,&quot;pledge_status&quot;:&quot;no&quot;,&quot;pledge_status_text&quot;:&quot;Без обременения&quot;,&quot;specific_fields&quot;:[],&quot;photos&quot;:[&quot;https://portal-da.ru/uploads/store/attachment/639c1fbd6c57ee00c8e7a6c8/attachment/large-1b85540d019dc36415b263074e912169.jpg&quot;],&quot;borrowers&quot;:[],&quot;url&quot;:&quot;http://portal-da.ru/objects/240911-prochie-tmts-lot-4-knop-tel-vertex-d514-metallik-chernyy-1500-sht?label=hints.assets.v0\\\\u0026source=asset_recommendation&quot;,&quot;favorite&quot;:false,&quot;seller&quot;:&quot;Рябов Евгений Андреевич&quot;,&quot;creditable&quot;:false},{&quot;id&quot;:&quot;6398863fa9249100a506bac3&quot;,&quot;slug&quot;:&quot;840676-derevoobrabatyvayuschee-oborudovanie-sushilnaya-kamera-konvektivnogo-tipa-kfk-4070-lu-2021g&quot;,&quot;short_id&quot;:&quot;840676&quot;,&quot;kind_name&quot;:&quot;Деревообрабатывающее оборудование&quot;,&quot;kind&quot;:&quot;wood_equipment&quot;,&quot;title&quot;:&quot;Сушильная камера конвективного типа КФК 4070 LU 2021г.&quot;,&quot;price&quot;:&quot;3,29 млн ₽&quot;,&quot;badges&quot;:[],&quot;video&quot;:false,&quot;address&quot;:&quot;Российская Федерация, Свердловская область, г Серов&quot;,&quot;placement_purpose&quot;:&quot;sale&quot;,&quot;pledge_status&quot;:&quot;no&quot;,&quot;pledge_status_text&quot;:&quot;Без обременения&quot;,&quot;specific_fields&quot;:[{&quot;name&quot;:&quot;Функционирование&quot;,&quot;value&quot;:&quot;Не введён в эксплуатацию (незавершённое строительство)&quot;,&quot;field&quot;:&quot;functioning&quot;},{&quot;name&quot;:&quot;Год выпуска&quot;,&quot;value&quot;:&quot;2021&quot;,&quot;field&quot;:&quot;construction_year&quot;}],&quot;photos&quot;:[&quot;https://portal-da.ru/uploads/store/attachment/639977e9a92491009d06e874/attachment/large-45ee2a3267a0631219e34dfba2d3d49e.jpg&quot;,&quot;https://portal-da.ru/uploads/store/attachment/639977e9a92491009d06e875/attachment/large-ce7d19927109d111c21e019eaeb82461.png&quot;],&quot;borrowers&quot;:[],&quot;url&quot;:&quot;http://portal-da.ru/objects/840676-derevoobrabatyvayuschee-oborudovanie-sushilnaya-kamera-konvektivnogo-tipa-kfk-4070-lu-2021g?label=hints.assets.v0\\\\u0026source=asset_recommendation&quot;,&quot;favorite&quot;:false,&quot;seller&quot;:&quot;ООО  ЛК \\\\&quot;А5\\\\&quot;&quot;,&quot;creditable&quot;:true},{&quot;id&quot;:&quot;636c4d1632f632000e2d6538&quot;,&quot;slug&quot;:&quot;122058-legkovye-avtomobili-renault-sandero-stepway&quot;,&quot;short_id&quot;:&quot;122058&quot;,&quot;kind_name&quot;:&quot;Легковые автомобили&quot;,&quot;kind&quot;:&quot;cars&quot;,&quot;title&quot;:&quot;Renault Sandero Stepway&quot;,&quot;price&quot;:&quot;880 000 ₽&quot;,&quot;badges&quot;:[],&quot;video&quot;:false,&quot;address&quot;:&quot;Российская Федерация, Самарская область, г Самара&quot;,&quot;placement_purpose&quot;:&quot;sale&quot;,&quot;pledge_status&quot;:&quot;no&quot;,&quot;pledge_status_text&quot;:&quot;Без обременения&quot;,&quot;specific_fields&quot;:[{&quot;name&quot;:&quot;Год выпуска&quot;,&quot;value&quot;:&quot;2015&quot;,&quot;field&quot;:&quot;construction_year&quot;},{&quot;name&quot;:&quot;Марка&quot;,&quot;value&quot;:&quot;Renault&quot;,&quot;field&quot;:&quot;make&quot;},{&quot;name&quot;:&quot;Модель&quot;,&quot;value&quot;:&quot;Sandero Stepway&quot;,&quot;field&quot;:&quot;model&quot;}],&quot;photos&quot;:[&quot;https://portal-da.ru/uploads/store/attachment/636c4d1d32f63222b6419648/attachment/large-fd42d8b9689deec342a2f4d6c6587a2e.jpg&quot;,&quot;https://portal-da.ru/uploads/store/attachment/636c4d1d32f63222b641964b/attachment/large-e31d0d30d670c1d93d83349efd7349bb.jpg&quot;,&quot;https://portal-da.ru/uploads/store/attachment/636c4d1e32f63222b641964e/attachment/large-d563ce65b97eb4553769af4bdab80eec.jpg&quot;,&quot;https://portal-da.ru/uploads/store/attachment/636c4d1f32f63222b6419651/attachment/large-939afe92714cb680c9923141d25f5295.jpg&quot;,&quot;https://portal-da.ru/uploads/store/attachment/636c4d2032f63222b6419653/attachment/large-ad5254fac9f234d40a99c3216ee5ea0d.jpg&quot;,&quot;https://portal-da.ru/uploads/store/attachment/636c4d2132f63222b6419656/attachment/large-640f51c6b0f409b8a2799ba9fd193763.jpg&quot;,&quot;https://portal-da.ru/uploads/store/attachment/636c4d2132f63222b6419658/attachment/large-d934de5aab128827769dedac5e36ba52.jpg&quot;,&quot;https://portal-da.ru/uploads/store/attachment/636c4d2332f63222b641965a/attachment/large-6b2fed4c10234a0a4e3094ce790102c9.jpg&quot;,&quot;https://portal-da.ru/uploads/store/attachment/636c4d2332f63222b641965c/attachment/large-d0f2418be460233eae00c8c617cf6a1f.jpg&quot;,&quot;https://portal-da.ru/uploads/store/attachment/636c4d2432f63222b641965e/attachment/large-ca7a274b6ea3cae548ccb05029c06c0d.jpg&quot;,&quot;https://portal-da.ru/uploads/store/attachment/636c4d2532f63222b6419660/attachment/large-ffc4b95a26735b3e1ec777308180b599.jpg&quot;,&quot;https://portal-da.ru/uploads/store/attachment/636c4d2632f63222b6419662/attachment/large-6275ef0ed6ff49c4822d879a958cfea2.jpg&quot;,&quot;https://portal-da.ru/uploads/store/attachment/636c4d2632f63222b6419664/attachment/large-180ba318346d0d82e60dffb814165bdf.jpg&quot;,&quot;https://portal-da.ru/uploads/store/attachment/636c4d2732f63222b6419666/attachment/large-a295cee1a8e2782a91ecb66bd6092c5a.jpg&quot;,&quot;https://portal-da.ru/uploads/store/attachment/636c4d2732f63222b6419668/attachment/large-a4958e4dd82eaa74ebb854413730e7d6.jpg&quot;,&quot;https://portal-da.ru/uploads/store/attachment/636c4d2832f63222b641966a/attachment/large-d5cfcf8edb4e047f8f63ede5da75f8b6.jpg&quot;,&quot;https://portal-da.ru/uploads/store/attachment/636c4d2832f63222b641966c/attachment/large-f31bad5877c7619caa06ec8f19b9609f.jpg&quot;,&quot;https://portal-da.ru/uploads/store/attachment/636c4d2b32f63222b641966f/attachment/large-0fe2c77c2a7bba1216977603cc8632cd.jpg&quot;,&quot;https://portal-da.ru/uploads/store/attachment/636c4d2f32f63222b6419672/attachment/large-42a4d709bb1d74b7b8e379aca4277778.jpg&quot;,&quot;https://portal-da.ru/uploads/store/attachment/636c4d3132f63222b6419674/attachment/large-0bf392ed1a359450f3b50fadb4fd5f4b.jpg&quot;,&quot;https://portal-da.ru/uploads/store/attachment/636c4d3232f63222b6419676/attachment/large-9329d77ee3e1679fec02a45076bd8a04.jpg&quot;,&quot;https://portal-da.ru/uploads/store/attachment/636c4d3332f63222b6419679/attachment/large-04a09ea73ad0e46a384d6f00f044ffba.jpg&quot;,&quot;https://portal-da.ru/uploads/store/attachment/636c4d3432f63222b641967d/attachment/large-cb3055c81ca42078ed11c396593aec87.jpg&quot;,&quot;https://portal-da.ru/uploads/store/attachment/636c4d3532f63222b641967f/attachment/large-2f83ac29731b383c3ac4f0e6667e46bd.jpg&quot;,&quot;https://portal-da.ru/uploads/store/attachment/636c4d3632f63222b6419681/attachment/large-b59be54b9bdb500fc6ac5a31f9f53127.jpg&quot;,&quot;https://portal-da.ru/uploads/store/attachment/636c4d3732f63222b6419683/attachment/large-52b7f459124819e5602fb1c4f20e6d85.jpg&quot;,&quot;https://portal-da.ru/uploads/store/attachment/636c4d3832f63222b6419685/attachment/large-6db05f6284acdc773fd62983bbab0bcb.jpg&quot;,&quot;https://portal-da.ru/uploads/store/attachment/636c4d3932f63222b6419688/attachment/large-38bbb2f93ed59b1f2b29163ea160a0c6.jpg&quot;],&quot;borrowers&quot;:[],&quot;url&quot;:&quot;http://portal-da.ru/objects/122058-legkovye-avtomobili-renault-sandero-stepway?label=hints.assets.v0\\\\u0026source=asset_recommendation&quot;,&quot;favorite&quot;:false,&quot;seller&quot;:&quot;ООО 1 КИЛОМЕТР&quot;,&quot;creditable&quot;:false},{&quot;id&quot;:&quot;63622ce032f632008a014da8&quot;,&quot;slug&quot;:&quot;276924-meditsinskoe-oborudovanie-sistema-nastennaya-meditsinskaya-dlya-gazosnabzheniya-linea&quot;,&quot;short_id&quot;:&quot;276924&quot;,&quot;kind_name&quot;:&quot;Медицинское оборудование&quot;,&quot;kind&quot;:&quot;med_equipment&quot;,&quot;title&quot;:&quot;Система настенная медицинская для газоснабжения Linea&quot;,&quot;price&quot;:&quot;147 500 ₽&quot;,&quot;badges&quot;:[],&quot;video&quot;:false,&quot;address&quot;:&quot;Российская Федерация, Москва&quot;,&quot;placement_purpose&quot;:&quot;sale&quot;,&quot;pledge_status&quot;:&quot;no&quot;,&quot;pledge_status_text&quot;:&quot;Без обременения&quot;,&quot;specific_fields&quot;:[{&quot;name&quot;:&quot;Функционирование&quot;,&quot;value&quot;:&quot;Выведен из эксплуатации (законсервирован)&quot;,&quot;field&quot;:&quot;functioning&quot;},{&quot;name&quot;:&quot;Год выпуска&quot;,&quot;value&quot;:&quot;2018&quot;,&quot;field&quot;:&quot;construction_year&quot;}],&quot;photos&quot;:[&quot;https://portal-da.ru/uploads/store/attachment/63622d5132f6320086014db1/attachment/large-88c7e9bb6481374438600b8c07ff61d8.jpg&quot;,&quot;https://portal-da.ru/uploads/store/attachment/63622d5132f632008a014dbb/attachment/large-b40789c8345d07a9fc0759876238c774.jpg&quot;,&quot;https://portal-da.ru/uploads/store/attachment/63622d5132f6320086014db2/attachment/large-46f5ead1e9fb84900291210a27fb0c8c.jpg&quot;],&quot;borrowers&quot;:[],&quot;url&quot;:&quot;http://portal-da.ru/objects/276924-meditsinskoe-oborudovanie-sistema-nastennaya-meditsinskaya-dlya-gazosnabzheniya-linea?label=hints.assets.v0\\\\u0026source=asset_recommendation&quot;,&quot;favorite&quot;:false,&quot;seller&quot;:&quot;ООО \\\\&quot;Лизинг-Медицина\\\\&quot;&quot;,&quot;creditable&quot;:false},{&quot;id&quot;:&quot;636227ee6cf55b0069a133fe&quot;,&quot;slug&quot;:&quot;176240-meditsinskoe-oborudovanie-konsol-meditsinskaya-hyport-variant-hyport3000&quot;,&quot;short_id&quot;:&quot;176240&quot;,&quot;kind_name&quot;:&quot;Медицинское оборудование&quot;,&quot;kind&quot;:&quot;med_equipment&quot;,&quot;title&quot;:&quot;Консоль медицинская HyPort, вариант -HyPort3000&quot;,&quot;price&quot;:&quot;349 450 ₽&quot;,&quot;badges&quot;:[],&quot;video&quot;:false,&quot;address&quot;:&quot;Российская Федерация, Москва&quot;,&quot;placement_purpose&quot;:&quot;sale&quot;,&quot;pledge_status&quot;:&quot;no&quot;,&quot;pledge_status_text&quot;:&quot;Без обременения&quot;,&quot;specific_fields&quot;:[{&quot;name&quot;:&quot;Функционирование&quot;,&quot;value&quot;:&quot;Выведен из эксплуатации (законсервирован)&quot;,&quot;field&quot;:&quot;functioning&quot;},{&quot;name&quot;:&quot;Год выпуска&quot;,&quot;value&quot;:&quot;2018&quot;,&quot;field&quot;:&quot;construction_year&quot;}],&quot;photos&quot;:[&quot;https://portal-da.ru/uploads/store/attachment/636228a36cf55b006da1374c/attachment/large-93e075b1f5a57f63666a67827e15f55f.jpg&quot;],&quot;borrowers&quot;:[],&quot;url&quot;:&quot;http://portal-da.ru/objects/176240-meditsinskoe-oborudovanie-konsol-meditsinskaya-hyport-variant-hyport3000?label=hints.assets.v0\\\\u0026source=asset_recommendation&quot;,&quot;favorite&quot;:false,&quot;seller&quot;:&quot;ООО \\\\&quot;Лизинг-Медицина\\\\&quot;&quot;,&quot;creditable&quot;:true},{&quot;id&quot;:&quot;636133f76cf55b0075a10df3&quot;,&quot;slug&quot;:&quot;949991-bortovoy-gruzovik-avtomobil-kamaz-45143-112-15-2011-g-v&quot;,&quot;short_id&quot;:&quot;949991&quot;,&quot;kind_name&quot;:&quot;Бортовой грузовик&quot;,&quot;kind&quot;:&quot;flatbed&quot;,&quot;title&quot;:&quot;Автомобиль КАМАЗ 45143-112-15, 2011 г.в.&quot;,&quot;price&quot;:&quot;1,41 млн ₽&quot;,&quot;badges&quot;:[{&quot;name&quot;:&quot;Торги&quot;,&quot;kind&quot;:&quot;biddings&quot;}],&quot;video&quot;:false,&quot;address&quot;:&quot;Российская Федерация, Калмыкия, Малодербетовский&quot;,&quot;placement_purpose&quot;:&quot;sale&quot;,&quot;pledge_status&quot;:&quot;full&quot;,&quot;pledge_status_text&quot;:&quot;В залоге&quot;,&quot;specific_fields&quot;:[{&quot;name&quot;:&quot;Функционирование&quot;,&quot;value&quot;:&quot;Введён в эксплуатацию / эксплуатируется&quot;,&quot;field&quot;:&quot;functioning&quot;},{&quot;name&quot;:&quot;Год выпуска&quot;,&quot;value&quot;:&quot;2011&quot;,&quot;field&quot;:&quot;construction_year&quot;},{&quot;name&quot;:&quot;Марка&quot;,&quot;value&quot;:&quot;Другая&quot;,&quot;field&quot;:&quot;make&quot;}],&quot;photos&quot;:[&quot;https://portal-da.ru/uploads/store/attachment/636135dc6cf55b0071a1107e/attachment/large-3959602b7006b20ec07f06385bfae6d2.jpg&quot;,&quot;https://portal-da.ru/uploads/store/attachment/636135e86cf55b0075a10e81/attachment/large-553835ad5df2e9a8992194e4ef09d2b8.jpg&quot;,&quot;https://portal-da.ru/uploads/store/attachment/636135f66cf55b0069a10d89/attachment/large-9d6e8e3a752bd5f0376d85688834eb73.jpg&quot;,&quot;https://portal-da.ru/uploads/store/attachment/636135fa6cf55b0069a10d8a/attachment/large-8a3aa7fafe0e728319b80b83c0002ecd.jpg&quot;,&quot;https://portal-da.ru/uploads/store/attachment/636135fe6cf55b0075a10e85/attachment/large-736e7127958569bdf644007b17073766.jpg&quot;],&quot;borrowers&quot;:[&quot;Бараев Алексей Доржиевич&quot;],&quot;url&quot;:&quot;http://portal-da.ru/objects/949991-bortovoy-gruzovik-avtomobil-kamaz-45143-112-15-2011-g-v?label=hints.assets.v0\\\\u0026source=asset_recommendation&quot;,&quot;favorite&quot;:false,&quot;seller&quot;:&quot;АО \\\\&quot;Россельхозбанк\\\\&quot;&quot;,&quot;creditable&quot;:true},{&quot;id&quot;:&quot;633b859e0bc17b000eb6bded&quot;,&quot;slug&quot;:&quot;967756-legkovye-avtomobili-mitsubishi-montero-sport&quot;,&quot;short_id&quot;:&quot;967756&quot;,&quot;kind_name&quot;:&quot;Легковые автомобили&quot;,&quot;kind&quot;:&quot;cars&quot;,&quot;title&quot;:&quot;Mitsubishi Montero Sport&quot;,&quot;price&quot;:&quot;3,95 млн ₽&quot;,&quot;badges&quot;:[],&quot;video&quot;:false,&quot;address&quot;:&quot;Российская Федерация, Самарская область, г Самара&quot;,&quot;placement_purpose&quot;:&quot;sale&quot;,&quot;pledge_status&quot;:&quot;no&quot;,&quot;pledge_status_text&quot;:&quot;Без обременения&quot;,&quot;specific_fields&quot;:[{&quot;name&quot;:&quot;Год выпуска&quot;,&quot;value&quot;:&quot;2022&quot;,&quot;field&quot;:&quot;construction_year&quot;},{&quot;name&quot;:&quot;Марка&quot;,&quot;value&quot;:&quot;Mitsubishi&quot;,&quot;field&quot;:&quot;make&quot;},{&quot;name&quot;:&quot;Модель&quot;,&quot;value&quot;:&quot;Montero Sport&quot;,&quot;field&quot;:&quot;model&quot;}],&quot;photos&quot;:[&quot;https://portal-da.ru/uploads/store/attachment/633b85a80bc17b000d5fea6c/attachment/large-720c65262ab8b806229ba3301e8b747b.jpg&quot;,&quot;https://portal-da.ru/uploads/store/attachment/633b85ab0bc17b000d5fea6d/attachment/large-b1a60de0aff38f583d9833f5f2870493.jpg&quot;,&quot;https://portal-da.ru/uploads/store/attachment/633b85ac0bc17b000d5fea6e/attachment/large-109377c8d31cf8d3b1b98b70bf6e7029.jpg&quot;,&quot;https://portal-da.ru/uploads/store/attachment/633b85ad0bc17b000d5fea74/attachment/large-f4d7c8606d0432a648de1fb1d182ce34.jpg&quot;,&quot;https://portal-da.ru/uploads/store/attachment/633b85ae0bc17b000d5fea75/attachment/large-33aa8a1f988af3e55782fd2c5db4bd44.jpg&quot;,&quot;https://portal-da.ru/uploads/store/attachment/633b85ae0bc17b000d5fea76/attachment/large-998248b9736a15953033999d755e02c2.jpg&quot;,&quot;https://portal-da.ru/uploads/store/attachment/633b85af0bc17b000d5fea77/attachment/large-30c2fc27dbd7decc321ba2b36d7b1bf2.jpg&quot;,&quot;https://portal-da.ru/uploads/store/attachment/633b85af0bc17b000d5fea78/attachment/large-7b9306740bec6a40a5564e1d4bd31efc.jpg&quot;,&quot;https://portal-da.ru/uploads/store/attachment/633b85af0bc17b000d5fea79/attachment/large-794fcefe4ba06b674bb0a00fab90c226.jpg&quot;,&quot;https://portal-da.ru/uploads/store/attachment/633b85b00bc17b000d5fea7a/attachment/large-07a62e052b37838751367657f5446659.jpg&quot;,&quot;https://portal-da.ru/uploads/store/attachment/633b85b00bc17b000d5fea7b/attachment/large-df4d6bcd799ce9ca5d8d9e9e0f63f434.jpg&quot;,&quot;https://portal-da.ru/uploads/store/attachment/633b85b00bc17b000d5fea7c/attachment/large-130c07e3cbe8c3d0f4e45113a06d9486.jpg&quot;,&quot;https://portal-da.ru/uploads/store/attachment/633b85b10bc17b000d5fea7d/attachment/large-0b1991678a74a5b687f276ee94d4e90c.jpg&quot;,&quot;https://portal-da.ru/uploads/store/attachment/633b85b10bc17b000d5fea7e/attachment/large-9b8ac8a5807c94bf6eedc0d84b2431b6.jpg&quot;,&quot;https://portal-da.ru/uploads/store/attachment/633b85b10bc17b000d5fea7f/attachment/large-a0918b1d5e4698ee380bdad8c64e7489.jpg&quot;,&quot;https://portal-da.ru/uploads/store/attachment/633b85b20bc17b000d5fea80/attachment/large-a4d6d3484a755664b187ac797efa1ac9.jpg&quot;,&quot;https://portal-da.ru/uploads/store/attachment/633b85b20bc17b000d5fea81/attachment/large-fbdf96b3303b148bf1f20cf0895035cb.jpg&quot;,&quot;https://portal-da.ru/uploads/store/attachment/633b85b20bc17b000d5fea82/attachment/large-113e817c75608316bd7e4914ec7e82d9.jpg&quot;,&quot;https://portal-da.ru/uploads/store/attachment/633b85b30bc17b000d5fea83/attachment/large-7d98f454884f2b7544b0b031a3074a33.jpg&quot;,&quot;https://portal-da.ru/uploads/store/attachment/633b85b30bc17b000d5fea84/attachment/large-2c3d69b7e0ab57aca4dea8febc60175f.jpg&quot;,&quot;https://portal-da.ru/uploads/store/attachment/633b85b30bc17b000d5fea86/attachment/large-9fe6e5682ef22cddf1ec4f7fd82ad54b.jpg&quot;,&quot;https://portal-da.ru/uploads/store/attachment/633b85b40bc17b000d5fea87/attachment/large-e1d1cda8ee4d41af32a3cef8fb98da66.jpg&quot;,&quot;https://portal-da.ru/uploads/store/attachment/633b85b40bc17b000d5fea88/attachment/large-9ab088bb753d40b59e6a9321535606e9.jpg&quot;,&quot;https://portal-da.ru/uploads/store/attachment/633b85b50bc17b000d5fea89/attachment/large-c551fd2d0fa3eea32a465817fd7a9970.jpg&quot;,&quot;https://portal-da.ru/uploads/store/attachment/633b85b50bc17b000d5fea8a/attachment/large-b321a1cdc988cd28d0d78a551a7507d6.jpg&quot;,&quot;https://portal-da.ru/uploads/store/attachment/633b85b50bc17b000d5fea8b/attachment/large-e316e6ae609a2c04cadcb03032e0d29e.jpg&quot;],&quot;borrowers&quot;:[],&quot;url&quot;:&quot;http://portal-da.ru/objects/967756-legkovye-avtomobili-mitsubishi-montero-sport?label=hints.assets.v0\\\\u0026source=asset_recommendation&quot;,&quot;favorite&quot;:false,&quot;seller&quot;:&quot;ООО 1 КИЛОМЕТР&quot;,&quot;creditable&quot;:false},{&quot;id&quot;:&quot;631597f8f1bfaf00757bb1e3&quot;,&quot;slug&quot;:&quot;705080-energeticheskoe-inzhenernoe-oborudovanie-elektroseti-kompanii-v-chelyabinskoy-oblasti&quot;,&quot;short_id&quot;:&quot;705080&quot;,&quot;kind_name&quot;:&quot;Энергетическое/инженерное оборудование&quot;,&quot;kind&quot;:&quot;energetic_equipment&quot;,&quot;title&quot;:&quot;Электросети компании в Челябинской области&quot;,&quot;price&quot;:&quot;145,44 млн ₽&quot;,&quot;badges&quot;:[],&quot;video&quot;:false,&quot;address&quot;:&quot;Российская Федерация, Челябинская область, г Челябинск&quot;,&quot;placement_purpose&quot;:&quot;sale&quot;,&quot;pledge_status&quot;:&quot;full&quot;,&quot;pledge_status_text&quot;:&quot;В залоге&quot;,&quot;specific_fields&quot;:[{&quot;name&quot;:&quot;Функционирование&quot;,&quot;value&quot;:&quot;Введён в эксплуатацию / эксплуатируется&quot;,&quot;field&quot;:&quot;functioning&quot;}],&quot;photos&quot;:[&quot;https://portal-da.ru/uploads/store/attachment/63832db98fc9c200b0937239/attachment/large-f12b412647c73865836848ef909166b1.jpg&quot;,&quot;https://portal-da.ru/uploads/store/attachment/63832db98fc9c200b093723a/attachment/large-309596dca44fcc44337a3d3a1a43fa94.jpg&quot;,&quot;https://portal-da.ru/uploads/store/attachment/63832db98fc9c200b093723b/attachment/large-acbb04eb1c07242812781fa7af6bd3cc.jpg&quot;],&quot;borrowers&quot;:[&quot;ООО \\\\&quot;АЭС ИНВЕСТ\\\\&quot;&quot;],&quot;url&quot;:&quot;http://portal-da.ru/objects/705080-energeticheskoe-inzhenernoe-oborudovanie-elektroseti-kompanii-v-chelyabinskoy-oblasti?label=hints.assets.v0\\\\u0026source=asset_recommendation&quot;,&quot;favorite&quot;:false,&quot;seller&quot;:&quot;ПАО Сбербанк&quot;,&quot;creditable&quot;:true},{&quot;id&quot;:&quot;6302d52ab1416c0032395963&quot;,&quot;slug&quot;:&quot;378126-legkovye-avtomobili-hyundai-palisade&quot;,&quot;short_id&quot;:&quot;378126&quot;,&quot;kind_name&quot;:&quot;Легковые автомобили&quot;,&quot;kind&quot;:&quot;cars&quot;,&quot;title&quot;:&quot;Hyundai Palisade&quot;,&quot;price&quot;:&quot;5,2 млн ₽&quot;,&quot;badges&quot;:[],&quot;video&quot;:false,&quot;address&quot;:&quot;Российская Федерация, Самарская область, г Самара&quot;,&quot;placement_purpose&quot;:&quot;sale&quot;,&quot;pledge_status&quot;:&quot;no&quot;,&quot;pledge_status_text&quot;:&quot;Без обременения&quot;,&quot;specific_fields&quot;:[{&quot;name&quot;:&quot;Год выпуска&quot;,&quot;value&quot;:&quot;2022&quot;,&quot;field&quot;:&quot;construction_year&quot;},{&quot;name&quot;:&quot;Марка&quot;,&quot;value&quot;:&quot;Hyundai&quot;,&quot;field&quot;:&quot;make&quot;},{&quot;name&quot;:&quot;Модель&quot;,&quot;value&quot;:&quot;Palisade&quot;,&quot;field&quot;:&quot;model&quot;}],&quot;photos&quot;:[&quot;https://portal-da.ru/uploads/store/attachment/6302d535b1416c0031fa7e33/attachment/large-d369789fb6c66f519f41528ff2242d89.jpg&quot;,&quot;https://portal-da.ru/uploads/store/attachment/6302d536b1416c0031fa7e38/attachment/large-5a6b8b83a20a3c6126a8d4ac21adddde.jpg&quot;,&quot;https://portal-da.ru/uploads/store/attachment/6302d536b1416c0031fa7e3a/attachment/large-9efb7c4e98dd2558836f68069420de0b.jpg&quot;,&quot;https://portal-da.ru/uploads/store/attachment/6302d537b1416c0031fa7e3d/attachment/large-16486d1ba0a25fa766b7aeb7aee25c9a.jpg&quot;,&quot;https://portal-da.ru/uploads/store/attachment/6302d537b1416c0031fa7e40/attachment/large-70c42467819762caf0b527a1e77cb950.jpg&quot;,&quot;https://portal-da.ru/uploads/store/attachment/6302d538b1416c0031fa7e42/attachment/large-790578de7d632daab537896232fdd948.jpg&quot;,&quot;https://portal-da.ru/uploads/store/attachment/6302d538b1416c0031fa7e45/attachment/large-42d052e35a49d731b90d49e1435ab1a4.jpg&quot;,&quot;https://portal-da.ru/uploads/store/attachment/6302d538b1416c0031fa7e47/attachment/large-a88291376dae2d8c59d0f1917d5e82ab.jpg&quot;,&quot;https://portal-da.ru/uploads/store/attachment/6302d539b1416c0031fa7e49/attachment/large-1af349093d6991983f85239cae404761.jpg&quot;,&quot;https://portal-da.ru/uploads/store/attachment/6302d539b1416c0031fa7e4b/attachment/large-bd2fe1a27a11ec579a3f5bee3ad0e5b5.jpg&quot;,&quot;https://portal-da.ru/uploads/store/attachment/6302d539b1416c0031fa7e4d/attachment/large-63649c14c32f5b62b32c7d9e9799d067.jpg&quot;,&quot;https://portal-da.ru/uploads/store/attachment/6302d53ab1416c0031fa7e4f/attachment/large-9eb64aa25a5fa432454ca07e806453a1.jpg&quot;,&quot;https://portal-da.ru/uploads/store/attachment/6302d53ab1416c0031fa7e51/attachment/large-c2ffd2bc13ea26bc525e41a0a789df4b.jpg&quot;,&quot;https://portal-da.ru/uploads/store/attachment/6302d53bb1416c0031fa7e53/attachment/large-9213bbe3c571667689d616fcecc7caf8.jpg&quot;,&quot;https://portal-da.ru/uploads/store/attachment/6302d53bb1416c0031fa7e54/attachment/large-fe86bced3bd4dc04390127abebd291b9.jpg&quot;,&quot;https://portal-da.ru/uploads/store/attachment/6302d53cb1416c0031fa7e55/attachment/large-cb3a0aab31e74278bcca66ea46c498e3.jpg&quot;,&quot;https://portal-da.ru/uploads/store/attachment/6302d53cb1416c0031fa7e56/attachment/large-f8efed6ba82d57ce90a8c99198495020.jpg&quot;,&quot;https://portal-da.ru/uploads/store/attachment/6302d53cb1416c0031fa7e57/attachment/large-ed86c6bcfce9c00b42aedf3bc802c651.jpg&quot;,&quot;https://portal-da.ru/uploads/store/attachment/6302d53db1416c0031fa7e58/attachment/large-1945acd906999b39c96348b3470c2de4.jpg&quot;],&quot;borrowers&quot;:[],&quot;url&quot;:&quot;http://portal-da.ru/objects/378126-legkovye-avtomobili-hyundai-palisade?label=hints.assets.v0\\\\u0026source=asset_recommendation&quot;,&quot;favorite&quot;:false,&quot;seller&quot;:&quot;ООО 1 КИЛОМЕТР&quot;,&quot;creditable&quot;:false},{&quot;id&quot;:&quot;62f4549a34801c00317988a0&quot;,&quot;slug&quot;:&quot;273914-legkovye-avtomobili-mercedes-benz-gle-klass-coupe&quot;,&quot;short_id&quot;:&quot;273914&quot;,&quot;kind_name&quot;:&quot;Легковые автомобили&quot;,&quot;kind&quot;:&quot;cars&quot;,&quot;title&quot;:&quot;Mercedes-Benz GLE-класс Coupe&quot;,&quot;price&quot;:&quot;10,9 млн ₽&quot;,&quot;badges&quot;:[],&quot;video&quot;:false,&quot;address&quot;:&quot;Российская Федерация, Самарская область, г Самара&quot;,&quot;placement_purpose&quot;:&quot;sale&quot;,&quot;pledge_status&quot;:&quot;no&quot;,&quot;pledge_status_text&quot;:&quot;Без обременения&quot;,&quot;specific_fields&quot;:[{&quot;name&quot;:&quot;Год выпуска&quot;,&quot;value&quot;:&quot;2021&quot;,&quot;field&quot;:&quot;construction_year&quot;},{&quot;name&quot;:&quot;Марка&quot;,&quot;value&quot;:&quot;Mercedes-Benz&quot;,&quot;field&quot;:&quot;make&quot;},{&quot;name&quot;:&quot;Модель&quot;,&quot;value&quot;:&quot;GLE-класс Coupe&quot;,&quot;field&quot;:&quot;model&quot;}],&quot;photos&quot;:[&quot;https://portal-da.ru/uploads/store/attachment/62f4549c34801c0032bf6f01/attachment/large-6d5cc355d85c13b22667a5690466dd82.jpg&quot;,&quot;https://portal-da.ru/uploads/store/attachment/62f4549d34801c0032bf6f03/attachment/large-fb508e1368fc001e6af849c8d74aae25.jpg&quot;,&quot;https://portal-da.ru/uploads/store/attachment/62f4549d34801c0032bf6f05/attachment/large-c7164183b7450fb9dab8d5f6db17651a.jpg&quot;,&quot;https://portal-da.ru/uploads/store/attachment/62f4549e34801c0032bf6f06/attachment/large-8e2048f753f64c03191c5da29388615d.jpg&quot;,&quot;https://portal-da.ru/uploads/store/attachment/62f4549e34801c0032bf6f08/attachment/large-9429e01fbaf0df300d956f7bb3eb051c.jpg&quot;,&quot;https://portal-da.ru/uploads/store/attachment/62f4549f34801c0032bf6f09/attachment/large-ffdeca845b9a73fbde238d5feb770845.jpg&quot;,&quot;https://portal-da.ru/uploads/store/attachment/62f4549f34801c0032bf6f0b/attachment/large-7542f2ee4e61da809c3759f7a94e5ef3.jpg&quot;,&quot;https://portal-da.ru/uploads/store/attachment/62f4549f34801c0032bf6f0c/attachment/large-9bb1e0be1fab8a1a58dd3a4847d64e2e.jpg&quot;,&quot;https://portal-da.ru/uploads/store/attachment/62f454a034801c0032bf6f0e/attachment/large-f0a3fef875ccf2acdd13e5b69e6ca8b4.jpg&quot;,&quot;https://portal-da.ru/uploads/store/attachment/62f454a134801c0032bf6f0f/attachment/large-fdbd846e2e2abaa9d7bfccecf1df24bd.jpg&quot;,&quot;https://portal-da.ru/uploads/store/attachment/62f454a134801c0032bf6f10/attachment/large-d5b22ad492fcd78f2338efccb6587085.jpg&quot;,&quot;https://portal-da.ru/uploads/store/attachment/62f454a134801c0032bf6f11/attachment/large-8f3a776cafd2e86a705a542ab97cb27e.jpg&quot;,&quot;https://portal-da.ru/uploads/store/attachment/62f454a134801c0032bf6f12/attachment/large-0752f5baa35a884ab9d96067a71825c8.jpg&quot;,&quot;https://portal-da.ru/uploads/store/attachment/62f454a234801c0032bf6f13/attachment/large-8b020ba878b5b96afeed43b6239cee39.jpg&quot;,&quot;https://portal-da.ru/uploads/store/attachment/62f454a234801c0032bf6f14/attachment/large-0b16257272080377414eb1d626743566.jpg&quot;,&quot;https://portal-da.ru/uploads/store/attachment/62f454a234801c0032bf6f15/attachment/large-396eb523b8bbd44b47f292b7b052d27a.jpg&quot;,&quot;https://portal-da.ru/uploads/store/attachment/62f454a334801c0032bf6f16/attachment/large-54e70d831aa88aff2fe6e5b0284d913b.jpg&quot;,&quot;https://portal-da.ru/uploads/store/attachment/62f454a334801c0032bf6f17/attachment/large-0536d89938342bc79ed627509599f2ae.jpg&quot;,&quot;https://portal-da.ru/uploads/store/attachment/62f454a834801c0032bf6f19/attachment/large-ad68db7a3ab96aea8bc19001ef205ecb.jpg&quot;,&quot;https://portal-da.ru/uploads/store/attachment/62f454ab34801c0032bf6f1a/attachment/large-8159f8516d6b9c05adf8249171ed8662.jpg&quot;,&quot;https://portal-da.ru/uploads/store/attachment/62f454ac34801c0032bf6f1c/attachment/large-381e0f2fb929c9771782c3eab1c23f7e.jpg&quot;,&quot;https://portal-da.ru/uploads/store/attachment/62f454ad34801c0032bf6f1f/attachment/large-27c7c04cf32b0e2c37a22dbdfbdd4171.jpg&quot;,&quot;https://portal-da.ru/uploads/store/attachment/62f454ae34801c0032bf6f23/attachment/large-11414f99b17bca6897a6f2a273af9068.jpg&quot;,&quot;https://portal-da.ru/uploads/store/attachment/62f454af34801c0032bf6f24/attachment/large-6c5f324c5de17627dfad4aa684fedf66.jpg&quot;,&quot;https://portal-da.ru/uploads/store/attachment/62f454af34801c0032bf6f25/attachment/large-f2c067d6c8b1b8991c391a4c62fa8812.jpg&quot;,&quot;https://portal-da.ru/uploads/store/attachment/62f454b034801c0032bf6f26/attachment/large-bb4389e479b6aa31af29ce535d983127.jpg&quot;,&quot;https://portal-da.ru/uploads/store/attachment/62f454b034801c0032bf6f27/attachment/large-5e7dd16e8a6fe53188707a653e58a7c8.jpg&quot;,&quot;https://portal-da.ru/uploads/store/attachment/62f454b034801c0032bf6f28/attachment/large-28f14cc55e0dca88688161fbaad76bbc.jpg&quot;,&quot;https://portal-da.ru/uploads/store/attachment/62f454b134801c0032bf6f29/attachment/large-4adb58a323516199ca386889c8e18b2f.jpg&quot;],&quot;borrowers&quot;:[],&quot;url&quot;:&quot;http://portal-da.ru/objects/273914-legkovye-avtomobili-mercedes-benz-gle-klass-coupe?label=hints.assets.v0\\\\u0026source=asset_recommendation&quot;,&quot;favorite&quot;:false,&quot;seller&quot;:&quot;ООО 1 КИЛОМЕТР&quot;,&quot;creditable&quot;:false}]\"></assets-card-slider></div></div></div><asset-catalog-dialog ref=\"assetCatalogDialog\"></asset-catalog-dialog><asset-credit-panel :items=\"assetCredits\" ref=\"assetCreditPanel\"></asset-credit-panel><div data-widget=\"service-side-panel-widget\"></div></v-app></div></main><footer class=\"layout-asset__footer layout-footer\"><div class=\"layout-asset__padder\"><div class=\"layout-asset__content-wrapper\"><div class=\"footer\"><nav class=\"footer__nav\"><nav class=\"site-nav\"><a class=\"site-nav__link\" href=\"/objects/catalog/buy\">Активы</a><a class=\"site-nav__link\" onclick=\"$authModal.openModal(&quot;/objects/my_trades&quot;)\">Аукционы</a><a class=\"site-nav__link\" href=\"/about\">О проекте</a><a class=\"site-nav__link\" href=\"/faq\">Помощь</a><a class=\"site-nav__link\" href=\"/blog\">Блог</a></nav></nav><div class=\"footer__legal footer-legal\"><div class=\"footer-legal__copyright\"><p class=\"copyright\">&copy; 2019–2023 Portal DA — Реализация непрофильных и залоговых активов</p></div><div class=\"footer-legal__politics\"><div class=\"politics\"><a class=\"politics__link\" target=\"_blank\" href=\"https://www.sberbank.ru/\">ПАО Сбербанк</a><a class=\"politics__link\" target=\"_blank\" href=\"/documents/politics.pdf\">Политика конфиденциальности</a><a class=\"politics__link\" target=\"_blank\" href=\"https://www.sberbank.ru/ru/pol_pd\">Политика обработки персональных данных</a></div></div></div></div></div></div></footer></div></body></html>'"
     },
     "execution_count": 5,
     "metadata": {},
     "output_type": "execute_result"
    }
   ],
   "source": [
    "html_text"
   ],
   "metadata": {
    "collapsed": false,
    "pycharm": {
     "name": "#%%\n"
    }
   }
  },
  {
   "cell_type": "code",
   "execution_count": 51,
   "outputs": [],
   "source": [],
   "metadata": {
    "collapsed": false,
    "pycharm": {
     "name": "#%%\n"
    }
   }
  },
  {
   "cell_type": "code",
   "execution_count": 38,
   "outputs": [
    {
     "data": {
      "text/plain": "['//<![CDATA[']"
     },
     "execution_count": 38,
     "metadata": {},
     "output_type": "execute_result"
    }
   ],
   "source": [
    "re.findall('//<!\\[CDATA\\[.*', html_text)"
   ],
   "metadata": {
    "collapsed": false,
    "pycharm": {
     "name": "#%%\n"
    }
   }
  },
  {
   "cell_type": "code",
   "execution_count": 41,
   "outputs": [
    {
     "data": {
      "text/plain": "2656"
     },
     "execution_count": 41,
     "metadata": {},
     "output_type": "execute_result"
    }
   ],
   "source": [
    "html_text.find('CDATA')"
   ],
   "metadata": {
    "collapsed": false,
    "pycharm": {
     "name": "#%%\n"
    }
   }
  },
  {
   "cell_type": "code",
   "execution_count": 48,
   "outputs": [
    {
     "data": {
      "text/plain": "'CDATA[\\nwindow.general={};general.env=\"production\";general.commit=\"9f47d392d0f3dd45acad5be7165ffc2d1e2d2d5d\";general.banner={\"enabled\":false};general.sentry={\"enabled\":true,\"dsn\":\"https://ceab64b3bc3648ea9985a2654ea66b08@o286496.ingest.sentry.io/5281802\"};general.features={\"sbol\":true,\"sbbol\":true};general.can_toggle_favorite=false;general.id=\"62ac2cae130abb00a34d99a7\";general.asset_id=\"269183\";general.related_assets=[{\"id\":\"62ac5415130abb00a34d9d48\",\"slug\":\"368050-avtoservis-arenda-avtoservisa-635-kv-m\",\"short_id\":\"368050\",\"kind_name\":\"Автосервис\",\"kind\":\"car_service\",\"title\":\"Аренда автосервиса 635 кв. м.\",\"rent_price\":\"825 000 ₽\",\"badges\":[],\"video\":false,\"address\":\"Российская Федерация, Москва\",\"placement_purpose\":\"rent\",\"pledge_status\":\"no\",\"pledge_status_text\":\"Без обременения\",\"specific_fields\":[{\"name\":\"Функционирование\",\"value\":\"Введён в эксплуатацию / эксплуатируется\",\"field\":\"functioning\"},{\"name\":\"Общая площадь\",\"value\":\"12500 м²\",\"field\":\"total_area\"},{\"name\":\"Статус бизнеса\",\"value\":\"Недействующий\",\"field\":\"business_status\"}],\"photos\":[\"https://portal-da.ru/uploads/store/attachment/62ac549a130abb009c4da480/attachment/large-a390983c738d8cff1059c42d180dcb23.jpeg\",\"https://portal-da.ru/uploads/store/attachment/62ac549c130abb009f4daee4/attachment/large-8964a7843aa03dfc1d9b669f572b24f0.jpeg\",\"https://portal-da.ru/uploads/store/attachment/62ac549f130abb009c4da481/attachment/large-3d4db706d7e20d960650a5b7f512488f.jpeg\",\"https://portal-da.ru/uploads/store/attachment/62ac54a2130abb00a74da252/attachment/large-aba60037b64978f028581eed76db6235.jpeg\",\"https://portal-da.ru/uploads/store/attachment/62ac54a5130abb00a34d9d62/attachment/large-95d10410ae1733f33c91e4757ff6011c.jpeg\"],\"borrowers\":[],\"url\":\"http://portal-da.ru/objects/368050-avtoservis-arenda-avtoservisa-635-kv-m\",\"favorite\":false,\"seller\":\"Беликин Иван Владимирович\",\"creditable\":false}];general.attachments=[{\"kind\":\"photo\",\"url\":\"https://portal-da.ru/uploads/watermarks/20221121/large-2487df3faf4aac896a1fe2c93cc09958.jpg\",\"link\":null},{\"kind\":\"photo\",\"url\":\"https://portal-da.ru/uploads/watermarks/20221121/large-c9a3a56fde19a9afefb170c9970c7fd1.jpg\",\"link\":null},{\"kind\":\"photo\",\"url\":\"https://portal-da.ru/uploads/watermarks/20221121/large-325ae8920875ff06209eb7cf17522423.jpg\",\"link\":null},{\"kind\":\"photo\",\"url\":\"https://portal-da.ru/uploads/watermarks/20221121/large-3b23e3489d4584f08bb643de544df1ca.jpg\",\"link\":null},{\"kind\":\"photo\",\"url\":\"https://portal-da.ru/uploads/watermarks/20221121/large-03b9995afa4bfc90bd760413038613a2.jpg\",\"link\":null},{\"kind\":\"photo\",\"url\":\"https://portal-da.ru/uploads/watermarks/20221121/large-7757fd94697282a20fed3e8e4a61ce5a.jpg\",\"link\":null},{\"kind\":\"photo\",\"url\":\"https://portal-da.ru/uploads/watermarks/20221121/large-07672aae17624abad708f467a752c668.jpg\",\"link\":null},{\"kind\":\"photo\",\"url\":\"https://portal-da.ru/uploads/watermarks/20221121/large-4b95f64e79d0209fe14cc818ffc40a6a.jpg\",\"link\":null},{\"kind\":\"photo\",\"url\":\"https://portal-da.ru/uploads/watermarks/20221121/large-2725d0c3dc3351bcbfcf46ca800c8618.jpg\",\"link\":null},{\"kind\":\"photo\",\"url\":\"https://portal-da.ru/uploads/watermarks/20221121/large-d018f2aa0f1f6b940a3eb0cec3157e84.jpg\",\"link\":null},{\"kind\":\"photo\",\"url\":\"https://portal-da.ru/uploads/watermarks/20221121/large-455331ac33959bb3b8dff070ef58b439.jpg\",\"link\":null},{\"kind\":\"photo\",\"url\":\"https://portal-da.ru/uploads/watermarks/20221121/large-04c14ae9de0a284ba244cc5714f803f9.jpg\",\"link\":null},{\"kind\":\"photo\",\"url\":\"https://portal-da.ru/uploads/watermarks/20221121/large-b64d5c5300e514813a9429e792e67ca2.jpg\",\"link\":null}];general.contact={\"name\":\"Беликин Иван Владимирович\",\"email\":\"com16@mail.ru\",\"avatar\":\"https://portal-da.ru/default/user.png\",\"phone_link\":\"https://portal-da.ru/api/v2/assets/269183/phone.json\"};general.seller={\"name\":\"Беликин Иван Владимирович\",\"assets_count\":1};general.specific_fields=[{\"name\":\"Площадь\",\"value\":\"100 сот.\",\"field\":\"area\"},{\"name\":\"Кадастровый номер\",\"value\":\"50:20:0041615:1509\",\"field\":\"cadastral_number\"}];general.can_ask=false;general.can_view_phone=false;general.favorite=false;general.price=\"320 млн ₽\";general.services=[];\\n//]]>\\n</script><script defer=\"defer\" src=\"/build/styles.d41d8cd9.js\"></script><link href=\"/build/styles.781bfc66.css\" rel=\"stylesheet\"><script defer=\"defer\" src=\"/build/runtime.697d51d7.js\"></script><script defer=\"defer\" src=\"/build/highcharts.96a2f33e.js\"></script><script defer=\"defer\" src=\"/build/mdi.124cca06.js\"></script><script defer=\"defer\" src=\"/build/vendors.ec04a762.js\"></script><script defer=\"defer\" src=\"/build/assets.c1471263.js\"></script><link href=\"/build/vendors.e43a1d84.css\" rel=\"stylesheet\"><link href=\"/build/assets.76c641e7.css\" rel=\"stylesheet\"></head><body class=\"asset-html vuetify-custom-theme\"><script src=\"https://api-maps.yandex.ru/2.1/?apikey=72d90556-11a1-4f58-9ea9-31812eb6cfba&amp;lang=ru_RU\"></script><!-- Yandex.Metrika counter -->\\n<script type=\"text/javascript\" >\\n  (function(m,e,t,r,i,k,a){m[i]=m[i]||function(){(m[i].a=m[i].a||[]).push(arguments)};\\n  m[i].l=1*new Date();k=e.createElement(t),a=e.getElementsByTagName(t)[0],k.async=1,k.src=r,a.parentNode.insertBefore(k,a)})\\n  (window, document, \"script\", \"https://mc.yandex.ru/metrika/tag.js\", \"ym\");\\n\\n  ym(49130266, \"init\", {\\n       clickmap: true,\\n       trackLinks: true,\\n       accurateTrackBounce: true,\\n       webvisor: true,'"
     },
     "execution_count": 48,
     "metadata": {},
     "output_type": "execute_result"
    }
   ],
   "source": [
    "html_text[2656:8000]"
   ],
   "metadata": {
    "collapsed": false,
    "pycharm": {
     "name": "#%%\n"
    }
   }
  },
  {
   "cell_type": "code",
   "execution_count": 49,
   "outputs": [
    {
     "data": {
      "text/plain": "6781"
     },
     "execution_count": 49,
     "metadata": {},
     "output_type": "execute_result"
    }
   ],
   "source": [
    "html_text.find('//]]>')"
   ],
   "metadata": {
    "collapsed": false,
    "pycharm": {
     "name": "#%%\n"
    }
   }
  },
  {
   "cell_type": "code",
   "execution_count": 57,
   "outputs": [],
   "source": [
    "cdata_json_str = '{' + html_text[html_text.find('CDATA')+7:html_text.find('//]]>')-1] + '}'"
   ],
   "metadata": {
    "collapsed": false,
    "pycharm": {
     "name": "#%%\n"
    }
   }
  },
  {
   "cell_type": "code",
   "execution_count": 58,
   "outputs": [
    {
     "data": {
      "text/plain": "'{window.general={};general.env=\"production\";general.commit=\"9f47d392d0f3dd45acad5be7165ffc2d1e2d2d5d\";general.banner={\"enabled\":false};general.sentry={\"enabled\":true,\"dsn\":\"https://ceab64b3bc3648ea9985a2654ea66b08@o286496.ingest.sentry.io/5281802\"};general.features={\"sbol\":true,\"sbbol\":true};general.can_toggle_favorite=false;general.id=\"62ac2cae130abb00a34d99a7\";general.asset_id=\"269183\";general.related_assets=[{\"id\":\"62ac5415130abb00a34d9d48\",\"slug\":\"368050-avtoservis-arenda-avtoservisa-635-kv-m\",\"short_id\":\"368050\",\"kind_name\":\"Автосервис\",\"kind\":\"car_service\",\"title\":\"Аренда автосервиса 635 кв. м.\",\"rent_price\":\"825 000 ₽\",\"badges\":[],\"video\":false,\"address\":\"Российская Федерация, Москва\",\"placement_purpose\":\"rent\",\"pledge_status\":\"no\",\"pledge_status_text\":\"Без обременения\",\"specific_fields\":[{\"name\":\"Функционирование\",\"value\":\"Введён в эксплуатацию / эксплуатируется\",\"field\":\"functioning\"},{\"name\":\"Общая площадь\",\"value\":\"12500 м²\",\"field\":\"total_area\"},{\"name\":\"Статус бизнеса\",\"value\":\"Недействующий\",\"field\":\"business_status\"}],\"photos\":[\"https://portal-da.ru/uploads/store/attachment/62ac549a130abb009c4da480/attachment/large-a390983c738d8cff1059c42d180dcb23.jpeg\",\"https://portal-da.ru/uploads/store/attachment/62ac549c130abb009f4daee4/attachment/large-8964a7843aa03dfc1d9b669f572b24f0.jpeg\",\"https://portal-da.ru/uploads/store/attachment/62ac549f130abb009c4da481/attachment/large-3d4db706d7e20d960650a5b7f512488f.jpeg\",\"https://portal-da.ru/uploads/store/attachment/62ac54a2130abb00a74da252/attachment/large-aba60037b64978f028581eed76db6235.jpeg\",\"https://portal-da.ru/uploads/store/attachment/62ac54a5130abb00a34d9d62/attachment/large-95d10410ae1733f33c91e4757ff6011c.jpeg\"],\"borrowers\":[],\"url\":\"http://portal-da.ru/objects/368050-avtoservis-arenda-avtoservisa-635-kv-m\",\"favorite\":false,\"seller\":\"Беликин Иван Владимирович\",\"creditable\":false}];general.attachments=[{\"kind\":\"photo\",\"url\":\"https://portal-da.ru/uploads/watermarks/20221121/large-2487df3faf4aac896a1fe2c93cc09958.jpg\",\"link\":null},{\"kind\":\"photo\",\"url\":\"https://portal-da.ru/uploads/watermarks/20221121/large-c9a3a56fde19a9afefb170c9970c7fd1.jpg\",\"link\":null},{\"kind\":\"photo\",\"url\":\"https://portal-da.ru/uploads/watermarks/20221121/large-325ae8920875ff06209eb7cf17522423.jpg\",\"link\":null},{\"kind\":\"photo\",\"url\":\"https://portal-da.ru/uploads/watermarks/20221121/large-3b23e3489d4584f08bb643de544df1ca.jpg\",\"link\":null},{\"kind\":\"photo\",\"url\":\"https://portal-da.ru/uploads/watermarks/20221121/large-03b9995afa4bfc90bd760413038613a2.jpg\",\"link\":null},{\"kind\":\"photo\",\"url\":\"https://portal-da.ru/uploads/watermarks/20221121/large-7757fd94697282a20fed3e8e4a61ce5a.jpg\",\"link\":null},{\"kind\":\"photo\",\"url\":\"https://portal-da.ru/uploads/watermarks/20221121/large-07672aae17624abad708f467a752c668.jpg\",\"link\":null},{\"kind\":\"photo\",\"url\":\"https://portal-da.ru/uploads/watermarks/20221121/large-4b95f64e79d0209fe14cc818ffc40a6a.jpg\",\"link\":null},{\"kind\":\"photo\",\"url\":\"https://portal-da.ru/uploads/watermarks/20221121/large-2725d0c3dc3351bcbfcf46ca800c8618.jpg\",\"link\":null},{\"kind\":\"photo\",\"url\":\"https://portal-da.ru/uploads/watermarks/20221121/large-d018f2aa0f1f6b940a3eb0cec3157e84.jpg\",\"link\":null},{\"kind\":\"photo\",\"url\":\"https://portal-da.ru/uploads/watermarks/20221121/large-455331ac33959bb3b8dff070ef58b439.jpg\",\"link\":null},{\"kind\":\"photo\",\"url\":\"https://portal-da.ru/uploads/watermarks/20221121/large-04c14ae9de0a284ba244cc5714f803f9.jpg\",\"link\":null},{\"kind\":\"photo\",\"url\":\"https://portal-da.ru/uploads/watermarks/20221121/large-b64d5c5300e514813a9429e792e67ca2.jpg\",\"link\":null}];general.contact={\"name\":\"Беликин Иван Владимирович\",\"email\":\"com16@mail.ru\",\"avatar\":\"https://portal-da.ru/default/user.png\",\"phone_link\":\"https://portal-da.ru/api/v2/assets/269183/phone.json\"};general.seller={\"name\":\"Беликин Иван Владимирович\",\"assets_count\":1};general.specific_fields=[{\"name\":\"Площадь\",\"value\":\"100 сот.\",\"field\":\"area\"},{\"name\":\"Кадастровый номер\",\"value\":\"50:20:0041615:1509\",\"field\":\"cadastral_number\"}];general.can_ask=false;general.can_view_phone=false;general.favorite=false;general.price=\"320 млн ₽\";general.services=[];}'"
     },
     "execution_count": 58,
     "metadata": {},
     "output_type": "execute_result"
    }
   ],
   "source": [
    "cdata_json_str"
   ],
   "metadata": {
    "collapsed": false,
    "pycharm": {
     "name": "#%%\n"
    }
   }
  },
  {
   "cell_type": "code",
   "execution_count": null,
   "outputs": [],
   "source": [],
   "metadata": {
    "collapsed": false,
    "pycharm": {
     "name": "#%%\n"
    }
   }
  },
  {
   "cell_type": "code",
   "execution_count": 95,
   "outputs": [],
   "source": [
    "cdata_xml_str = html_text[html_text.find('CDATA')-3:html_text.find('//]]>')+5]"
   ],
   "metadata": {
    "collapsed": false,
    "pycharm": {
     "name": "#%%\n"
    }
   }
  },
  {
   "cell_type": "code",
   "execution_count": 96,
   "outputs": [],
   "source": [
    "cdata_xml_str = cdata_xml_str.replace('![CDATA[\\n', '').replace('\\n//]]', '')"
   ],
   "metadata": {
    "collapsed": false,
    "pycharm": {
     "name": "#%%\n"
    }
   }
  },
  {
   "cell_type": "code",
   "execution_count": 97,
   "outputs": [
    {
     "data": {
      "text/plain": "'<window.general={};general.env=\"production\";general.commit=\"9f47d392d0f3dd45acad5be7165ffc2d1e2d2d5d\";general.banner={\"enabled\":false};general.sentry={\"enabled\":true,\"dsn\":\"https://ceab64b3bc3648ea9985a2654ea66b08@o286496.ingest.sentry.io/5281802\"};general.features={\"sbol\":true,\"sbbol\":true};general.can_toggle_favorite=false;general.id=\"62ac2cae130abb00a34d99a7\";general.asset_id=\"269183\";general.related_assets=[{\"id\":\"62ac5415130abb00a34d9d48\",\"slug\":\"368050-avtoservis-arenda-avtoservisa-635-kv-m\",\"short_id\":\"368050\",\"kind_name\":\"Автосервис\",\"kind\":\"car_service\",\"title\":\"Аренда автосервиса 635 кв. м.\",\"rent_price\":\"825 000 ₽\",\"badges\":[],\"video\":false,\"address\":\"Российская Федерация, Москва\",\"placement_purpose\":\"rent\",\"pledge_status\":\"no\",\"pledge_status_text\":\"Без обременения\",\"specific_fields\":[{\"name\":\"Функционирование\",\"value\":\"Введён в эксплуатацию / эксплуатируется\",\"field\":\"functioning\"},{\"name\":\"Общая площадь\",\"value\":\"12500 м²\",\"field\":\"total_area\"},{\"name\":\"Статус бизнеса\",\"value\":\"Недействующий\",\"field\":\"business_status\"}],\"photos\":[\"https://portal-da.ru/uploads/store/attachment/62ac549a130abb009c4da480/attachment/large-a390983c738d8cff1059c42d180dcb23.jpeg\",\"https://portal-da.ru/uploads/store/attachment/62ac549c130abb009f4daee4/attachment/large-8964a7843aa03dfc1d9b669f572b24f0.jpeg\",\"https://portal-da.ru/uploads/store/attachment/62ac549f130abb009c4da481/attachment/large-3d4db706d7e20d960650a5b7f512488f.jpeg\",\"https://portal-da.ru/uploads/store/attachment/62ac54a2130abb00a74da252/attachment/large-aba60037b64978f028581eed76db6235.jpeg\",\"https://portal-da.ru/uploads/store/attachment/62ac54a5130abb00a34d9d62/attachment/large-95d10410ae1733f33c91e4757ff6011c.jpeg\"],\"borrowers\":[],\"url\":\"http://portal-da.ru/objects/368050-avtoservis-arenda-avtoservisa-635-kv-m\",\"favorite\":false,\"seller\":\"Беликин Иван Владимирович\",\"creditable\":false}];general.attachments=[{\"kind\":\"photo\",\"url\":\"https://portal-da.ru/uploads/watermarks/20221121/large-2487df3faf4aac896a1fe2c93cc09958.jpg\",\"link\":null},{\"kind\":\"photo\",\"url\":\"https://portal-da.ru/uploads/watermarks/20221121/large-c9a3a56fde19a9afefb170c9970c7fd1.jpg\",\"link\":null},{\"kind\":\"photo\",\"url\":\"https://portal-da.ru/uploads/watermarks/20221121/large-325ae8920875ff06209eb7cf17522423.jpg\",\"link\":null},{\"kind\":\"photo\",\"url\":\"https://portal-da.ru/uploads/watermarks/20221121/large-3b23e3489d4584f08bb643de544df1ca.jpg\",\"link\":null},{\"kind\":\"photo\",\"url\":\"https://portal-da.ru/uploads/watermarks/20221121/large-03b9995afa4bfc90bd760413038613a2.jpg\",\"link\":null},{\"kind\":\"photo\",\"url\":\"https://portal-da.ru/uploads/watermarks/20221121/large-7757fd94697282a20fed3e8e4a61ce5a.jpg\",\"link\":null},{\"kind\":\"photo\",\"url\":\"https://portal-da.ru/uploads/watermarks/20221121/large-07672aae17624abad708f467a752c668.jpg\",\"link\":null},{\"kind\":\"photo\",\"url\":\"https://portal-da.ru/uploads/watermarks/20221121/large-4b95f64e79d0209fe14cc818ffc40a6a.jpg\",\"link\":null},{\"kind\":\"photo\",\"url\":\"https://portal-da.ru/uploads/watermarks/20221121/large-2725d0c3dc3351bcbfcf46ca800c8618.jpg\",\"link\":null},{\"kind\":\"photo\",\"url\":\"https://portal-da.ru/uploads/watermarks/20221121/large-d018f2aa0f1f6b940a3eb0cec3157e84.jpg\",\"link\":null},{\"kind\":\"photo\",\"url\":\"https://portal-da.ru/uploads/watermarks/20221121/large-455331ac33959bb3b8dff070ef58b439.jpg\",\"link\":null},{\"kind\":\"photo\",\"url\":\"https://portal-da.ru/uploads/watermarks/20221121/large-04c14ae9de0a284ba244cc5714f803f9.jpg\",\"link\":null},{\"kind\":\"photo\",\"url\":\"https://portal-da.ru/uploads/watermarks/20221121/large-b64d5c5300e514813a9429e792e67ca2.jpg\",\"link\":null}];general.contact={\"name\":\"Беликин Иван Владимирович\",\"email\":\"com16@mail.ru\",\"avatar\":\"https://portal-da.ru/default/user.png\",\"phone_link\":\"https://portal-da.ru/api/v2/assets/269183/phone.json\"};general.seller={\"name\":\"Беликин Иван Владимирович\",\"assets_count\":1};general.specific_fields=[{\"name\":\"Площадь\",\"value\":\"100 сот.\",\"field\":\"area\"},{\"name\":\"Кадастровый номер\",\"value\":\"50:20:0041615:1509\",\"field\":\"cadastral_number\"}];general.can_ask=false;general.can_view_phone=false;general.favorite=false;general.price=\"320 млн ₽\";general.services=[];>'"
     },
     "execution_count": 97,
     "metadata": {},
     "output_type": "execute_result"
    }
   ],
   "source": [
    "cdata_xml_str"
   ],
   "metadata": {
    "collapsed": false,
    "pycharm": {
     "name": "#%%\n"
    }
   }
  },
  {
   "cell_type": "code",
   "execution_count": null,
   "outputs": [],
   "source": [],
   "metadata": {
    "collapsed": false,
    "pycharm": {
     "name": "#%%\n"
    }
   }
  },
  {
   "cell_type": "code",
   "execution_count": 56,
   "outputs": [],
   "source": [
    "import json"
   ],
   "metadata": {
    "collapsed": false,
    "pycharm": {
     "name": "#%%\n"
    }
   }
  },
  {
   "cell_type": "code",
   "execution_count": 65,
   "outputs": [],
   "source": [
    "cdata_json = json.loads(cdata_json_str)"
   ],
   "metadata": {
    "collapsed": false,
    "pycharm": {
     "name": "#%%\n"
    }
   }
  },
  {
   "cell_type": "code",
   "execution_count": 66,
   "outputs": [],
   "source": [
    "cdata_json"
   ],
   "metadata": {
    "collapsed": false,
    "pycharm": {
     "name": "#%%\n"
    }
   }
  },
  {
   "cell_type": "code",
   "execution_count": 68,
   "outputs": [],
   "source": [
    "from lxml import etree"
   ],
   "metadata": {
    "collapsed": false,
    "pycharm": {
     "name": "#%%\n"
    }
   }
  },
  {
   "cell_type": "code",
   "execution_count": 98,
   "outputs": [
    {
     "ename": "XMLSyntaxError",
     "evalue": "error parsing attribute name, line 1, column 16 (<string>, line 1)",
     "output_type": "error",
     "traceback": [
      "Traceback \u001B[0;36m(most recent call last)\u001B[0m:\n",
      "  File \u001B[1;32m~/Library/Python/3.8/lib/python/site-packages/IPython/core/interactiveshell.py:3398\u001B[0m in \u001B[1;35mrun_code\u001B[0m\n    exec(code_obj, self.user_global_ns, self.user_ns)\n",
      "  Input \u001B[1;32mIn [98]\u001B[0m in \u001B[1;35m<cell line: 1>\u001B[0m\n    root = etree.fromstring(cdata_xml_str)\n",
      "  File \u001B[1;32msrc/lxml/etree.pyx:3257\u001B[0m in \u001B[1;35mlxml.etree.fromstring\u001B[0m\n",
      "  File \u001B[1;32msrc/lxml/parser.pxi:1916\u001B[0m in \u001B[1;35mlxml.etree._parseMemoryDocument\u001B[0m\n",
      "  File \u001B[1;32msrc/lxml/parser.pxi:1796\u001B[0m in \u001B[1;35mlxml.etree._parseDoc\u001B[0m\n",
      "  File \u001B[1;32msrc/lxml/parser.pxi:1085\u001B[0m in \u001B[1;35mlxml.etree._BaseParser._parseUnicodeDoc\u001B[0m\n",
      "  File \u001B[1;32msrc/lxml/parser.pxi:618\u001B[0m in \u001B[1;35mlxml.etree._ParserContext._handleParseResultDoc\u001B[0m\n",
      "  File \u001B[1;32msrc/lxml/parser.pxi:728\u001B[0m in \u001B[1;35mlxml.etree._handleParseResult\u001B[0m\n",
      "\u001B[0;36m  File \u001B[0;32msrc/lxml/parser.pxi:657\u001B[0;36m in \u001B[0;35mlxml.etree._raiseParseError\u001B[0;36m\u001B[0m\n",
      "\u001B[0;36m  File \u001B[0;32m<string>:1\u001B[0;36m\u001B[0m\n\u001B[0;31mXMLSyntaxError\u001B[0m\u001B[0;31m:\u001B[0m error parsing attribute name, line 1, column 16\n"
     ]
    }
   ],
   "source": [
    "root = etree.fromstring(cdata_xml_str)"
   ],
   "metadata": {
    "collapsed": false,
    "pycharm": {
     "name": "#%%\n"
    }
   }
  },
  {
   "cell_type": "code",
   "execution_count": 81,
   "outputs": [
    {
     "ename": "NameError",
     "evalue": "name 'root' is not defined",
     "output_type": "error",
     "traceback": [
      "\u001B[0;31m---------------------------------------------------------------------------\u001B[0m",
      "\u001B[0;31mNameError\u001B[0m                                 Traceback (most recent call last)",
      "Input \u001B[0;32mIn [81]\u001B[0m, in \u001B[0;36m<cell line: 1>\u001B[0;34m()\u001B[0m\n\u001B[0;32m----> 1\u001B[0m \u001B[43mroot\u001B[49m\n",
      "\u001B[0;31mNameError\u001B[0m: name 'root' is not defined"
     ]
    }
   ],
   "source": [],
   "metadata": {
    "collapsed": false,
    "pycharm": {
     "name": "#%%\n"
    }
   }
  },
  {
   "cell_type": "code",
   "execution_count": null,
   "outputs": [],
   "source": [],
   "metadata": {
    "collapsed": false,
    "pycharm": {
     "name": "#%%\n"
    }
   }
  },
  {
   "cell_type": "code",
   "execution_count": 30,
   "outputs": [
    {
     "data": {
      "text/plain": "True"
     },
     "execution_count": 30,
     "metadata": {},
     "output_type": "execute_result"
    }
   ],
   "source": [
    "'CDATA' in html_text"
   ],
   "metadata": {
    "collapsed": false,
    "pycharm": {
     "name": "#%%\n"
    }
   }
  },
  {
   "cell_type": "code",
   "execution_count": null,
   "outputs": [],
   "source": [],
   "metadata": {
    "collapsed": false,
    "pycharm": {
     "name": "#%%\n"
    }
   }
  },
  {
   "cell_type": "code",
   "execution_count": 11,
   "outputs": [],
   "source": [
    "cdata_str = html_text[html_text.find('CDATA')+7:html_text.find('//]]>')-1]"
   ],
   "metadata": {
    "collapsed": false,
    "pycharm": {
     "name": "#%%\n"
    }
   }
  },
  {
   "cell_type": "code",
   "execution_count": 12,
   "outputs": [],
   "source": [
    "cdata_list = cdata_str.split(';')  # вот так вот сплитим и дальше работаем по парсингу"
   ],
   "metadata": {
    "collapsed": false,
    "pycharm": {
     "name": "#%%\n"
    }
   }
  },
  {
   "cell_type": "code",
   "execution_count": 14,
   "outputs": [],
   "source": [
    "unique_keys = [x.split('=')[0] for x in cdata_list if x.split('=')[0] != '']  # уникальные ключи cdata, их надо хранить, чтобы смотреть появились ли новые"
   ],
   "metadata": {
    "collapsed": false,
    "pycharm": {
     "name": "#%%\n"
    }
   }
  },
  {
   "cell_type": "code",
   "execution_count": 15,
   "outputs": [
    {
     "data": {
      "text/plain": "['window.general',\n 'general.env',\n 'general.commit',\n 'general.banner',\n 'general.sentry',\n 'general.features',\n 'general.can_toggle_favorite',\n 'general.id',\n 'general.asset_id',\n 'general.related_assets',\n 'general.attachments',\n 'general.contact',\n 'general.seller',\n 'general.specific_fields',\n 'general.can_ask',\n 'general.can_view_phone',\n 'general.favorite',\n 'general.price',\n 'general.services']"
     },
     "execution_count": 15,
     "metadata": {},
     "output_type": "execute_result"
    }
   ],
   "source": [
    "unique_keys"
   ],
   "metadata": {
    "collapsed": false,
    "pycharm": {
     "name": "#%%\n"
    }
   }
  },
  {
   "cell_type": "code",
   "execution_count": 16,
   "outputs": [],
   "source": [
    "cdata_df = pd.DataFrame()\n",
    "cdata_df['keys'] = unique_keys\n",
    "cdata_df.to_excel('unique_cdata_keys.xlsx', index=False)"
   ],
   "metadata": {
    "collapsed": false,
    "pycharm": {
     "name": "#%%\n"
    }
   }
  },
  {
   "cell_type": "code",
   "execution_count": 18,
   "outputs": [],
   "source": [
    "needed_keys = ['general.asset_id', 'general.contact', 'general.seller', 'general.specific_fields', 'general.price']"
   ],
   "metadata": {
    "collapsed": false,
    "pycharm": {
     "name": "#%%\n"
    }
   }
  },
  {
   "cell_type": "code",
   "execution_count": null,
   "outputs": [],
   "source": [
    "needed_keys_df = pd.DataFrame()\n",
    "needed_keys_df['keys'] = needed_keys\n",
    "needed_keys_df.to_excel('needed_cdata_keys.xlsx', index=False)  # необходимые cdata ключи которые будем использовать"
   ],
   "metadata": {
    "collapsed": false,
    "pycharm": {
     "name": "#%%\n"
    }
   }
  },
  {
   "cell_type": "code",
   "execution_count": null,
   "outputs": [],
   "source": [],
   "metadata": {
    "collapsed": false,
    "pycharm": {
     "name": "#%%\n"
    }
   }
  },
  {
   "cell_type": "code",
   "execution_count": 8,
   "outputs": [
    {
     "ename": "NameError",
     "evalue": "name 'cdata_list' is not defined",
     "output_type": "error",
     "traceback": [
      "\u001B[0;31m---------------------------------------------------------------------------\u001B[0m",
      "\u001B[0;31mNameError\u001B[0m                                 Traceback (most recent call last)",
      "Input \u001B[0;32mIn [8]\u001B[0m, in \u001B[0;36m<cell line: 1>\u001B[0;34m()\u001B[0m\n\u001B[0;32m----> 1\u001B[0m \u001B[43mcdata_list\u001B[49m\n",
      "\u001B[0;31mNameError\u001B[0m: name 'cdata_list' is not defined"
     ]
    }
   ],
   "source": [
    "cdata_list"
   ],
   "metadata": {
    "collapsed": false,
    "pycharm": {
     "name": "#%%\n"
    }
   }
  },
  {
   "cell_type": "code",
   "execution_count": null,
   "outputs": [],
   "source": [],
   "metadata": {
    "collapsed": false,
    "pycharm": {
     "name": "#%%\n"
    }
   }
  },
  {
   "cell_type": "code",
   "execution_count": null,
   "outputs": [],
   "source": [
    "#TODO в общем, никак не получается достать эту CDATA, а достать надо!"
   ],
   "metadata": {
    "collapsed": false,
    "pycharm": {
     "name": "#%%\n"
    }
   }
  },
  {
   "cell_type": "code",
   "execution_count": 27,
   "outputs": [
    {
     "data": {
      "text/plain": "'general.asset_id=\"269183\"'"
     },
     "execution_count": 27,
     "metadata": {},
     "output_type": "execute_result"
    }
   ],
   "source": [
    "asset_id_str = re.findall('general.asset_id=\"\\d+\"', html_text)[0]\n",
    "contact_str = re.findall('general.contact={.*};', html_text)[0]  #вот это прикольно, но сначала вытащим саму CData"
   ],
   "metadata": {
    "collapsed": false,
    "pycharm": {
     "name": "#%%\n"
    }
   }
  },
  {
   "cell_type": "code",
   "execution_count": 39,
   "outputs": [],
   "source": [],
   "metadata": {
    "collapsed": false,
    "pycharm": {
     "name": "#%%\n"
    }
   }
  },
  {
   "cell_type": "code",
   "execution_count": null,
   "outputs": [],
   "source": [],
   "metadata": {
    "collapsed": false,
    "pycharm": {
     "name": "#%%\n"
    }
   }
  },
  {
   "cell_type": "code",
   "execution_count": null,
   "outputs": [],
   "source": [],
   "metadata": {
    "collapsed": false,
    "pycharm": {
     "name": "#%%\n"
    }
   }
  },
  {
   "cell_type": "code",
   "execution_count": 28,
   "outputs": [],
   "source": [
    "contact_str = re.findall('general.contact={.*};', html_text)[0]  #вот это прикольно, но сначала вытащим саму CData"
   ],
   "metadata": {
    "collapsed": false,
    "pycharm": {
     "name": "#%%\n"
    }
   }
  },
  {
   "cell_type": "code",
   "execution_count": 29,
   "outputs": [
    {
     "data": {
      "text/plain": "'general.contact={\"name\":\"Беликин Иван Владимирович\",\"email\":\"com16@mail.ru\",\"avatar\":\"https://portal-da.ru/default/user.png\",\"phone_link\":\"https://portal-da.ru/api/v2/assets/269183/phone.json\"};general.seller={\"name\":\"Беликин Иван Владимирович\",\"assets_count\":1};'"
     },
     "execution_count": 29,
     "metadata": {},
     "output_type": "execute_result"
    }
   ],
   "source": [
    "contact_str"
   ],
   "metadata": {
    "collapsed": false,
    "pycharm": {
     "name": "#%%\n"
    }
   }
  },
  {
   "cell_type": "code",
   "execution_count": null,
   "outputs": [],
   "source": [],
   "metadata": {
    "collapsed": false,
    "pycharm": {
     "name": "#%%\n",
     "is_executing": true
    }
   }
  },
  {
   "cell_type": "code",
   "execution_count": null,
   "outputs": [],
   "source": [],
   "metadata": {
    "collapsed": false,
    "pycharm": {
     "name": "#%%\n"
    }
   }
  },
  {
   "cell_type": "code",
   "execution_count": 1,
   "outputs": [],
   "source": [
    "### 11-01-23 попробуем распарсить cdata со страниц с помощью функции"
   ],
   "metadata": {
    "collapsed": false,
    "pycharm": {
     "name": "#%%\n"
    }
   }
  },
  {
   "cell_type": "code",
   "execution_count": 2,
   "outputs": [],
   "source": [
    "import pandas as pd\n",
    "import re\n",
    "import requests"
   ],
   "metadata": {
    "collapsed": false,
    "pycharm": {
     "name": "#%%\n"
    }
   }
  },
  {
   "cell_type": "code",
   "execution_count": 3,
   "outputs": [],
   "source": [
    "unique_keys_df = pd.read_excel('unique_cdata_keys.xlsx')"
   ],
   "metadata": {
    "collapsed": false,
    "pycharm": {
     "name": "#%%\n"
    }
   }
  },
  {
   "cell_type": "code",
   "execution_count": 4,
   "outputs": [],
   "source": [
    "needed_keys_df = pd.read_excel('needed_cdata_keys.xlsx')"
   ],
   "metadata": {
    "collapsed": false,
    "pycharm": {
     "name": "#%%\n"
    }
   }
  },
  {
   "cell_type": "code",
   "execution_count": 6,
   "outputs": [],
   "source": [
    "# needed_keys = ['general.asset_id', 'general.contact', 'general.seller', 'general.specific_fields', 'general.price']\n",
    "# needed_keys_df = pd.DataFrame()\n",
    "# needed_keys_df['keys'] = needed_keys\n",
    "# needed_keys_df.to_excel('needed_cdata_keys.xlsx', index=False)  # необходимые cdata ключи которые будем использовать"
   ],
   "metadata": {
    "collapsed": false,
    "pycharm": {
     "name": "#%%\n"
    }
   }
  },
  {
   "cell_type": "code",
   "execution_count": 10,
   "outputs": [],
   "source": [
    "another_str = links_df['links'][5]\n",
    "agent_str = 'Mozilla/5.0 (X11; Linux x86_64) AppleWebKit/537.36 (KHTML, like Gecko) Chrome/91.0.4472.114 Safari/537.36'\n",
    "r = requests.get(another_str, headers={'user-agent': agent_str})\n",
    "html_text = r.text"
   ],
   "metadata": {
    "collapsed": false,
    "pycharm": {
     "name": "#%%\n"
    }
   }
  },
  {
   "cell_type": "code",
   "execution_count": 11,
   "outputs": [],
   "source": [],
   "metadata": {
    "collapsed": false,
    "pycharm": {
     "name": "#%%\n"
    }
   }
  },
  {
   "cell_type": "code",
   "execution_count": null,
   "outputs": [],
   "source": [
    "def parse_html(html_text, unique_keys_df, needed_keys_df):\n",
    "    \"\"\"\n",
    "    Function to parse cdata section from html files from portal da\n",
    "    :param html_text: html str\n",
    "    :param unique_keys_df: dataframe with seen unique keys\n",
    "    :param needed_keys_df: dataframe with keys to filter out\n",
    "    :return:\n",
    "    \"\"\"\n",
    "    cdata_str = html_text[html_text.find('CDATA')+7:html_text.find('//]]>')-1]\n",
    "    cdata_list = cdata_str.split(';')  # вот так вот сплитим и дальше работаем по парсингу\n",
    "\n"
   ],
   "metadata": {
    "collapsed": false,
    "pycharm": {
     "name": "#%%\n",
     "is_executing": true
    }
   }
  },
  {
   "cell_type": "code",
   "execution_count": null,
   "outputs": [],
   "source": [],
   "metadata": {
    "collapsed": false,
    "pycharm": {
     "name": "#%%\n"
    }
   }
  },
  {
   "cell_type": "code",
   "execution_count": null,
   "outputs": [],
   "source": [],
   "metadata": {
    "collapsed": false,
    "pycharm": {
     "name": "#%%\n"
    }
   }
  },
  {
   "cell_type": "code",
   "execution_count": 6,
   "outputs": [
    {
     "data": {
      "text/plain": "{'general.asset_id',\n 'general.attachments',\n 'general.banner',\n 'general.can_ask',\n 'general.can_toggle_favorite',\n 'general.can_view_phone',\n 'general.commit',\n 'general.contact',\n 'general.env',\n 'general.favorite',\n 'general.features',\n 'general.id',\n 'general.price',\n 'general.related_assets',\n 'general.seller',\n 'general.sentry',\n 'general.services',\n 'general.specific_fields',\n 'window.general'}"
     },
     "execution_count": 6,
     "metadata": {},
     "output_type": "execute_result"
    }
   ],
   "source": [
    "set(unique_keys_df['keys'])"
   ],
   "metadata": {
    "collapsed": false,
    "pycharm": {
     "name": "#%%\n"
    }
   }
  },
  {
   "cell_type": "code",
   "execution_count": 7,
   "outputs": [
    {
     "data": {
      "text/plain": "                      keys\n0         general.asset_id\n1          general.contact\n2           general.seller\n3  general.specific_fields\n4            general.price",
      "text/html": "<div>\n<style scoped>\n    .dataframe tbody tr th:only-of-type {\n        vertical-align: middle;\n    }\n\n    .dataframe tbody tr th {\n        vertical-align: top;\n    }\n\n    .dataframe thead th {\n        text-align: right;\n    }\n</style>\n<table border=\"1\" class=\"dataframe\">\n  <thead>\n    <tr style=\"text-align: right;\">\n      <th></th>\n      <th>keys</th>\n    </tr>\n  </thead>\n  <tbody>\n    <tr>\n      <th>0</th>\n      <td>general.asset_id</td>\n    </tr>\n    <tr>\n      <th>1</th>\n      <td>general.contact</td>\n    </tr>\n    <tr>\n      <th>2</th>\n      <td>general.seller</td>\n    </tr>\n    <tr>\n      <th>3</th>\n      <td>general.specific_fields</td>\n    </tr>\n    <tr>\n      <th>4</th>\n      <td>general.price</td>\n    </tr>\n  </tbody>\n</table>\n</div>"
     },
     "execution_count": 7,
     "metadata": {},
     "output_type": "execute_result"
    }
   ],
   "source": [
    "needed_keys_df"
   ],
   "metadata": {
    "collapsed": false,
    "pycharm": {
     "name": "#%%\n"
    }
   }
  },
  {
   "cell_type": "code",
   "execution_count": 13,
   "outputs": [
    {
     "data": {
      "text/plain": "['window.general={}',\n 'general.env=\"production\"',\n 'general.commit=\"7bd74b6b276de26ea9ea6fd203af73b7c6016085\"',\n 'general.banner={\"enabled\":false}',\n 'general.sentry={\"enabled\":true,\"dsn\":\"https://ceab64b3bc3648ea9985a2654ea66b08@o286496.ingest.sentry.io/5281802\"}',\n 'general.features={\"sbol\":true,\"sbbol\":true}',\n 'general.can_toggle_favorite=false',\n 'general.id=\"62ac2cae130abb00a34d99a7\"',\n 'general.asset_id=\"269183\"',\n 'general.related_assets=[{\"id\":\"62ac5415130abb00a34d9d48\",\"slug\":\"368050-avtoservis-arenda-avtoservisa-635-kv-m\",\"short_id\":\"368050\",\"kind_name\":\"Автосервис\",\"kind\":\"car_service\",\"title\":\"Аренда автосервиса 635 кв. м.\",\"rent_price\":\"825 000 ₽\",\"badges\":[],\"video\":false,\"address\":\"Российская Федерация, Москва\",\"placement_purpose\":\"rent\",\"pledge_status\":\"no\",\"pledge_status_text\":\"Без обременения\",\"specific_fields\":[{\"name\":\"Функционирование\",\"value\":\"Введён в эксплуатацию / эксплуатируется\",\"field\":\"functioning\"},{\"name\":\"Общая площадь\",\"value\":\"12500 м²\",\"field\":\"total_area\"},{\"name\":\"Статус бизнеса\",\"value\":\"Недействующий\",\"field\":\"business_status\"}],\"photos\":[\"https://portal-da.ru/uploads/store/attachment/62ac549a130abb009c4da480/attachment/large-a390983c738d8cff1059c42d180dcb23.jpeg\",\"https://portal-da.ru/uploads/store/attachment/62ac549c130abb009f4daee4/attachment/large-8964a7843aa03dfc1d9b669f572b24f0.jpeg\",\"https://portal-da.ru/uploads/store/attachment/62ac549f130abb009c4da481/attachment/large-3d4db706d7e20d960650a5b7f512488f.jpeg\",\"https://portal-da.ru/uploads/store/attachment/62ac54a2130abb00a74da252/attachment/large-aba60037b64978f028581eed76db6235.jpeg\",\"https://portal-da.ru/uploads/store/attachment/62ac54a5130abb00a34d9d62/attachment/large-95d10410ae1733f33c91e4757ff6011c.jpeg\"],\"borrowers\":[],\"url\":\"http://portal-da.ru/objects/368050-avtoservis-arenda-avtoservisa-635-kv-m\",\"favorite\":false,\"seller\":\"Беликин Иван Владимирович\",\"creditable\":false}]',\n 'general.attachments=[{\"kind\":\"photo\",\"url\":\"https://portal-da.ru/uploads/watermarks/20221121/large-2487df3faf4aac896a1fe2c93cc09958.jpg\",\"link\":null},{\"kind\":\"photo\",\"url\":\"https://portal-da.ru/uploads/watermarks/20221121/large-c9a3a56fde19a9afefb170c9970c7fd1.jpg\",\"link\":null},{\"kind\":\"photo\",\"url\":\"https://portal-da.ru/uploads/watermarks/20221121/large-325ae8920875ff06209eb7cf17522423.jpg\",\"link\":null},{\"kind\":\"photo\",\"url\":\"https://portal-da.ru/uploads/watermarks/20221121/large-3b23e3489d4584f08bb643de544df1ca.jpg\",\"link\":null},{\"kind\":\"photo\",\"url\":\"https://portal-da.ru/uploads/watermarks/20221121/large-03b9995afa4bfc90bd760413038613a2.jpg\",\"link\":null},{\"kind\":\"photo\",\"url\":\"https://portal-da.ru/uploads/watermarks/20221121/large-7757fd94697282a20fed3e8e4a61ce5a.jpg\",\"link\":null},{\"kind\":\"photo\",\"url\":\"https://portal-da.ru/uploads/watermarks/20221121/large-07672aae17624abad708f467a752c668.jpg\",\"link\":null},{\"kind\":\"photo\",\"url\":\"https://portal-da.ru/uploads/watermarks/20221121/large-4b95f64e79d0209fe14cc818ffc40a6a.jpg\",\"link\":null},{\"kind\":\"photo\",\"url\":\"https://portal-da.ru/uploads/watermarks/20221121/large-2725d0c3dc3351bcbfcf46ca800c8618.jpg\",\"link\":null},{\"kind\":\"photo\",\"url\":\"https://portal-da.ru/uploads/watermarks/20221121/large-d018f2aa0f1f6b940a3eb0cec3157e84.jpg\",\"link\":null},{\"kind\":\"photo\",\"url\":\"https://portal-da.ru/uploads/watermarks/20221121/large-455331ac33959bb3b8dff070ef58b439.jpg\",\"link\":null},{\"kind\":\"photo\",\"url\":\"https://portal-da.ru/uploads/watermarks/20221121/large-04c14ae9de0a284ba244cc5714f803f9.jpg\",\"link\":null},{\"kind\":\"photo\",\"url\":\"https://portal-da.ru/uploads/watermarks/20221121/large-b64d5c5300e514813a9429e792e67ca2.jpg\",\"link\":null}]',\n 'general.contact={\"name\":\"Беликин Иван Владимирович\",\"email\":\"com16@mail.ru\",\"avatar\":\"https://portal-da.ru/default/user.png\",\"phone_link\":\"https://portal-da.ru/api/v2/assets/269183/phone.json\"}',\n 'general.seller={\"name\":\"Беликин Иван Владимирович\",\"assets_count\":1}',\n 'general.specific_fields=[{\"name\":\"Площадь\",\"value\":\"100 сот.\",\"field\":\"area\"},{\"name\":\"Кадастровый номер\",\"value\":\"50:20:0041615:1509\",\"field\":\"cadastral_number\"}]',\n 'general.can_ask=false',\n 'general.can_view_phone=false',\n 'general.favorite=false',\n 'general.price=\"320 млн ₽\"',\n 'general.services=[]',\n '']"
     },
     "execution_count": 13,
     "metadata": {},
     "output_type": "execute_result"
    }
   ],
   "source": [
    "cdata_list"
   ],
   "metadata": {
    "collapsed": false,
    "pycharm": {
     "name": "#%%\n"
    }
   }
  },
  {
   "cell_type": "code",
   "execution_count": 36,
   "outputs": [],
   "source": [
    "selected_data = [x for x in cdata_list if x.split('=')[0] in needed_keys_df['keys'].to_list()]"
   ],
   "metadata": {
    "collapsed": false,
    "pycharm": {
     "name": "#%%\n"
    }
   }
  },
  {
   "cell_type": "code",
   "execution_count": 37,
   "outputs": [
    {
     "data": {
      "text/plain": "['general.asset_id=\"269183\"',\n 'general.contact={\"name\":\"Беликин Иван Владимирович\",\"email\":\"com16@mail.ru\",\"avatar\":\"https://portal-da.ru/default/user.png\",\"phone_link\":\"https://portal-da.ru/api/v2/assets/269183/phone.json\"}',\n 'general.seller={\"name\":\"Беликин Иван Владимирович\",\"assets_count\":1}',\n 'general.specific_fields=[{\"name\":\"Площадь\",\"value\":\"100 сот.\",\"field\":\"area\"},{\"name\":\"Кадастровый номер\",\"value\":\"50:20:0041615:1509\",\"field\":\"cadastral_number\"}]',\n 'general.price=\"320 млн ₽\"']"
     },
     "execution_count": 37,
     "metadata": {},
     "output_type": "execute_result"
    }
   ],
   "source": [
    "selected_data"
   ],
   "metadata": {
    "collapsed": false,
    "pycharm": {
     "name": "#%%\n"
    }
   }
  },
  {
   "cell_type": "code",
   "execution_count": 38,
   "outputs": [],
   "source": [
    "data_keys = [x.split('=')[0] for x in selected_data]\n",
    "data_values = [x.split('=')[1] for x in selected_data]"
   ],
   "metadata": {
    "collapsed": false,
    "pycharm": {
     "name": "#%%\n"
    }
   }
  },
  {
   "cell_type": "code",
   "execution_count": 39,
   "outputs": [
    {
     "data": {
      "text/plain": "['general.asset_id',\n 'general.contact',\n 'general.seller',\n 'general.specific_fields',\n 'general.price']"
     },
     "execution_count": 39,
     "metadata": {},
     "output_type": "execute_result"
    }
   ],
   "source": [
    "data_keys"
   ],
   "metadata": {
    "collapsed": false,
    "pycharm": {
     "name": "#%%\n"
    }
   }
  },
  {
   "cell_type": "code",
   "execution_count": 40,
   "outputs": [
    {
     "data": {
      "text/plain": "['\"269183\"',\n '{\"name\":\"Беликин Иван Владимирович\",\"email\":\"com16@mail.ru\",\"avatar\":\"https://portal-da.ru/default/user.png\",\"phone_link\":\"https://portal-da.ru/api/v2/assets/269183/phone.json\"}',\n '{\"name\":\"Беликин Иван Владимирович\",\"assets_count\":1}',\n '[{\"name\":\"Площадь\",\"value\":\"100 сот.\",\"field\":\"area\"},{\"name\":\"Кадастровый номер\",\"value\":\"50:20:0041615:1509\",\"field\":\"cadastral_number\"}]',\n '\"320 млн ₽\"']"
     },
     "execution_count": 40,
     "metadata": {},
     "output_type": "execute_result"
    }
   ],
   "source": [
    "data_values"
   ],
   "metadata": {
    "collapsed": false,
    "pycharm": {
     "name": "#%%\n"
    }
   }
  },
  {
   "cell_type": "code",
   "execution_count": 41,
   "outputs": [
    {
     "data": {
      "text/plain": "{'general.asset_id': '\"269183\"',\n 'general.contact': '{\"name\":\"Беликин Иван Владимирович\",\"email\":\"com16@mail.ru\",\"avatar\":\"https://portal-da.ru/default/user.png\",\"phone_link\":\"https://portal-da.ru/api/v2/assets/269183/phone.json\"}',\n 'general.seller': '{\"name\":\"Беликин Иван Владимирович\",\"assets_count\":1}',\n 'general.specific_fields': '[{\"name\":\"Площадь\",\"value\":\"100 сот.\",\"field\":\"area\"},{\"name\":\"Кадастровый номер\",\"value\":\"50:20:0041615:1509\",\"field\":\"cadastral_number\"}]',\n 'general.price': '\"320 млн ₽\"'}"
     },
     "execution_count": 41,
     "metadata": {},
     "output_type": "execute_result"
    }
   ],
   "source": [
    "dict(zip(data_keys, data_values))"
   ],
   "metadata": {
    "collapsed": false,
    "pycharm": {
     "name": "#%%\n"
    }
   }
  },
  {
   "cell_type": "code",
   "execution_count": null,
   "outputs": [],
   "source": [],
   "metadata": {
    "collapsed": false,
    "pycharm": {
     "name": "#%%\n",
     "is_executing": true
    }
   }
  },
  {
   "cell_type": "code",
   "execution_count": 42,
   "outputs": [],
   "source": [
    "def parse_html(html_text, unique_keys_df, needed_keys_df):\n",
    "    \"\"\"\n",
    "    Function to parse cdata section from html files from portal da\n",
    "    :param html_text: html str\n",
    "    :param unique_keys_df: dataframe with seen unique keys\n",
    "    :param needed_keys_df: dataframe with keys to filter out\n",
    "    :return:\n",
    "    \"\"\"\n",
    "    cdata_str = html_text[html_text.find('CDATA') + 7:html_text.find('//]]>') - 1]\n",
    "    cdata_list = cdata_str.split(';')\n",
    "    cdata_keys = [x.split('=')[0] for x in cdata_list if x.split('=')[0] != '']\n",
    "    new_unique_keys = set(cdata_keys) - set(unique_keys_df['keys'])\n",
    "\n",
    "    # filter out selected data\n",
    "    selected_data = [x for x in cdata_list if x.split('=')[0] in needed_keys_df['keys'].to_list()]\n",
    "    data_keys = [x.split('=')[0] for x in selected_data]\n",
    "    data_values = [x.split('=')[1] for x in selected_data]\n",
    "\n",
    "    result_dict = dict(zip(data_keys, data_values))\n",
    "    return result_dict, new_unique_keys"
   ],
   "metadata": {
    "collapsed": false,
    "pycharm": {
     "name": "#%%\n"
    }
   }
  },
  {
   "cell_type": "code",
   "execution_count": 45,
   "outputs": [],
   "source": [
    "result_dict, new_unique_keys = parse_html(html_text, unique_keys_df, needed_keys_df)"
   ],
   "metadata": {
    "collapsed": false,
    "pycharm": {
     "name": "#%%\n"
    }
   }
  },
  {
   "cell_type": "code",
   "execution_count": 48,
   "outputs": [
    {
     "data": {
      "text/plain": "0"
     },
     "execution_count": 48,
     "metadata": {},
     "output_type": "execute_result"
    }
   ],
   "source": [
    "len(new_unique_keys)"
   ],
   "metadata": {
    "collapsed": false,
    "pycharm": {
     "name": "#%%\n"
    }
   }
  },
  {
   "cell_type": "code",
   "execution_count": 47,
   "outputs": [
    {
     "data": {
      "text/plain": "{'general.asset_id': '\"269183\"',\n 'general.contact': '{\"name\":\"Беликин Иван Владимирович\",\"email\":\"com16@mail.ru\",\"avatar\":\"https://portal-da.ru/default/user.png\",\"phone_link\":\"https://portal-da.ru/api/v2/assets/269183/phone.json\"}',\n 'general.seller': '{\"name\":\"Беликин Иван Владимирович\",\"assets_count\":1}',\n 'general.specific_fields': '[{\"name\":\"Площадь\",\"value\":\"100 сот.\",\"field\":\"area\"},{\"name\":\"Кадастровый номер\",\"value\":\"50:20:0041615:1509\",\"field\":\"cadastral_number\"}]',\n 'general.price': '\"320 млн ₽\"'}"
     },
     "execution_count": 47,
     "metadata": {},
     "output_type": "execute_result"
    }
   ],
   "source": [
    "result_dict"
   ],
   "metadata": {
    "collapsed": false,
    "pycharm": {
     "name": "#%%\n"
    }
   }
  },
  {
   "cell_type": "code",
   "execution_count": 50,
   "outputs": [
    {
     "data": {
      "text/plain": "                      keys\n0         general.asset_id\n1          general.contact\n2           general.seller\n3  general.specific_fields\n4            general.price",
      "text/html": "<div>\n<style scoped>\n    .dataframe tbody tr th:only-of-type {\n        vertical-align: middle;\n    }\n\n    .dataframe tbody tr th {\n        vertical-align: top;\n    }\n\n    .dataframe thead th {\n        text-align: right;\n    }\n</style>\n<table border=\"1\" class=\"dataframe\">\n  <thead>\n    <tr style=\"text-align: right;\">\n      <th></th>\n      <th>keys</th>\n    </tr>\n  </thead>\n  <tbody>\n    <tr>\n      <th>0</th>\n      <td>general.asset_id</td>\n    </tr>\n    <tr>\n      <th>1</th>\n      <td>general.contact</td>\n    </tr>\n    <tr>\n      <th>2</th>\n      <td>general.seller</td>\n    </tr>\n    <tr>\n      <th>3</th>\n      <td>general.specific_fields</td>\n    </tr>\n    <tr>\n      <th>4</th>\n      <td>general.price</td>\n    </tr>\n  </tbody>\n</table>\n</div>"
     },
     "execution_count": 50,
     "metadata": {},
     "output_type": "execute_result"
    }
   ],
   "source": [
    "needed_keys_df"
   ],
   "metadata": {
    "collapsed": false,
    "pycharm": {
     "name": "#%%\n"
    }
   }
  },
  {
   "cell_type": "code",
   "execution_count": 58,
   "outputs": [
    {
     "name": "stdout",
     "output_type": "stream",
     "text": [
      "https://portal-da.ru/objects/814114-zemlya-pod-individualnoe-zhilischnoe-stroitelstvo-1-jr3atxd\n",
      "https://portal-da.ru/objects/814114-zemlya-pod-individualnoe-zhilischnoe-stroitelstvo-1-jr3atxd\n",
      "https://portal-da.ru/objects/641505-zemlya-pod-individualnoe-zhilischnoe-stroitelstvo-zemelnyy-uchastok-25-111-kv-m-belokuriha-2\n",
      "https://portal-da.ru/objects/169347-zemelnyy-uchastok-pod-kommercheskuyu-zastroyku-zemelnyy-uchastok-505-74-sot-yaroslavskaya-oblast\n",
      "https://portal-da.ru/objects/899895-zemlya-pod-individualnoe-zhilischnoe-stroitelstvo-50-ga-48-zemelnyh-uchastkov-pod-dachnoe-stroitelstvo\n"
     ]
    }
   ],
   "source": [
    "for link in links_df[:5]['links']:\n",
    "    print(link)"
   ],
   "metadata": {
    "collapsed": false,
    "pycharm": {
     "name": "#%%\n"
    }
   }
  },
  {
   "cell_type": "code",
   "execution_count": 57,
   "outputs": [
    {
     "data": {
      "text/plain": "0    https://portal-da.ru/objects/814114-zemlya-pod...\n1    https://portal-da.ru/objects/814114-zemlya-pod...\n2    https://portal-da.ru/objects/641505-zemlya-pod...\n3    https://portal-da.ru/objects/169347-zemelnyy-u...\n4    https://portal-da.ru/objects/899895-zemlya-pod...\nName: links, dtype: object"
     },
     "execution_count": 57,
     "metadata": {},
     "output_type": "execute_result"
    }
   ],
   "source": [
    "links_df[:5]['links']"
   ],
   "metadata": {
    "collapsed": false,
    "pycharm": {
     "name": "#%%\n"
    }
   }
  },
  {
   "cell_type": "code",
   "execution_count": null,
   "outputs": [],
   "source": [],
   "metadata": {
    "collapsed": false,
    "pycharm": {
     "name": "#%%\n",
     "is_executing": true
    }
   }
  },
  {
   "cell_type": "code",
   "execution_count": 65,
   "outputs": [
    {
     "ename": "TypeError",
     "evalue": "from_dict() got an unexpected keyword argument 'index'",
     "output_type": "error",
     "traceback": [
      "\u001B[0;31m---------------------------------------------------------------------------\u001B[0m",
      "\u001B[0;31mTypeError\u001B[0m                                 Traceback (most recent call last)",
      "Input \u001B[0;32mIn [65]\u001B[0m, in \u001B[0;36m<cell line: 1>\u001B[0;34m()\u001B[0m\n\u001B[0;32m----> 1\u001B[0m \u001B[43mpd\u001B[49m\u001B[38;5;241;43m.\u001B[39;49m\u001B[43mDataFrame\u001B[49m\u001B[38;5;241;43m.\u001B[39;49m\u001B[43mfrom_dict\u001B[49m\u001B[43m(\u001B[49m\u001B[43mresult_dict\u001B[49m\u001B[43m,\u001B[49m\u001B[43m \u001B[49m\u001B[43morient\u001B[49m\u001B[38;5;241;43m=\u001B[39;49m\u001B[38;5;124;43m'\u001B[39;49m\u001B[38;5;124;43mcolumns\u001B[39;49m\u001B[38;5;124;43m'\u001B[39;49m\u001B[43m,\u001B[49m\u001B[43m \u001B[49m\u001B[43mindex\u001B[49m\u001B[38;5;241;43m=\u001B[39;49m\u001B[43m[\u001B[49m\u001B[38;5;124;43m'\u001B[39;49m\u001B[38;5;124;43mfoo\u001B[39;49m\u001B[38;5;124;43m'\u001B[39;49m\u001B[43m]\u001B[49m\u001B[43m)\u001B[49m\n",
      "\u001B[0;31mTypeError\u001B[0m: from_dict() got an unexpected keyword argument 'index'"
     ]
    }
   ],
   "source": [
    "pd.DataFrame.from_dict(result_dict, orient='columns', index=['foo'])"
   ],
   "metadata": {
    "collapsed": false,
    "pycharm": {
     "name": "#%%\n"
    }
   }
  },
  {
   "cell_type": "code",
   "execution_count": 66,
   "outputs": [
    {
     "data": {
      "text/plain": "  general.asset_id                                    general.contact  \\\n0         \"269183\"  {\"name\":\"Беликин Иван Владимирович\",\"email\":\"c...   \n\n                                      general.seller  \\\n0  {\"name\":\"Беликин Иван Владимирович\",\"assets_co...   \n\n                             general.specific_fields general.price  \n0  [{\"name\":\"Площадь\",\"value\":\"100 сот.\",\"field\":...   \"320 млн ₽\"  ",
      "text/html": "<div>\n<style scoped>\n    .dataframe tbody tr th:only-of-type {\n        vertical-align: middle;\n    }\n\n    .dataframe tbody tr th {\n        vertical-align: top;\n    }\n\n    .dataframe thead th {\n        text-align: right;\n    }\n</style>\n<table border=\"1\" class=\"dataframe\">\n  <thead>\n    <tr style=\"text-align: right;\">\n      <th></th>\n      <th>general.asset_id</th>\n      <th>general.contact</th>\n      <th>general.seller</th>\n      <th>general.specific_fields</th>\n      <th>general.price</th>\n    </tr>\n  </thead>\n  <tbody>\n    <tr>\n      <th>0</th>\n      <td>\"269183\"</td>\n      <td>{\"name\":\"Беликин Иван Владимирович\",\"email\":\"c...</td>\n      <td>{\"name\":\"Беликин Иван Владимирович\",\"assets_co...</td>\n      <td>[{\"name\":\"Площадь\",\"value\":\"100 сот.\",\"field\":...</td>\n      <td>\"320 млн ₽\"</td>\n    </tr>\n  </tbody>\n</table>\n</div>"
     },
     "execution_count": 66,
     "metadata": {},
     "output_type": "execute_result"
    }
   ],
   "source": [
    "pd.DataFrame([result_dict])"
   ],
   "metadata": {
    "collapsed": false,
    "pycharm": {
     "name": "#%%\n"
    }
   }
  },
  {
   "cell_type": "code",
   "execution_count": 70,
   "outputs": [
    {
     "data": {
      "text/plain": "['links',\n 'general.asset_id',\n 'general.contact',\n 'general.seller',\n 'general.specific_fields',\n 'general.price']"
     },
     "execution_count": 70,
     "metadata": {},
     "output_type": "execute_result"
    }
   ],
   "source": [
    "['links'] + needed_keys_df['keys'].to_list()"
   ],
   "metadata": {
    "collapsed": false,
    "pycharm": {
     "name": "#%%\n"
    }
   }
  },
  {
   "cell_type": "code",
   "execution_count": null,
   "outputs": [],
   "source": [],
   "metadata": {
    "collapsed": false,
    "pycharm": {
     "name": "#%%\n",
     "is_executing": true
    }
   }
  },
  {
   "cell_type": "code",
   "execution_count": null,
   "outputs": [],
   "source": [],
   "metadata": {
    "collapsed": false,
    "pycharm": {
     "name": "#%%\n",
     "is_executing": true
    }
   }
  },
  {
   "cell_type": "code",
   "execution_count": 67,
   "outputs": [],
   "source": [],
   "metadata": {
    "collapsed": false,
    "pycharm": {
     "name": "#%%\n"
    }
   }
  }
 ],
 "metadata": {
  "kernelspec": {
   "name": "portal_da",
   "language": "python",
   "display_name": "portal_da"
  },
  "language_info": {
   "codemirror_mode": {
    "name": "ipython",
    "version": 2
   },
   "file_extension": ".py",
   "mimetype": "text/x-python",
   "name": "python",
   "nbconvert_exporter": "python",
   "pygments_lexer": "ipython2",
   "version": "2.7.6"
  }
 },
 "nbformat": 4,
 "nbformat_minor": 0
}