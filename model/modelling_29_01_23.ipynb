{
 "cells": [
  {
   "cell_type": "code",
   "execution_count": 1,
   "metadata": {
    "collapsed": true,
    "pycharm": {
     "name": "#%%\n"
    }
   },
   "outputs": [],
   "source": [
    "import pandas as pd\n",
    "import numpy as np"
   ]
  },
  {
   "cell_type": "code",
   "execution_count": 2,
   "outputs": [],
   "source": [
    "from models_functions import model_conveyor, encode_features, get_scalers, get_metrics"
   ],
   "metadata": {
    "collapsed": false,
    "pycharm": {
     "name": "#%%\n"
    }
   }
  },
  {
   "cell_type": "code",
   "execution_count": 3,
   "outputs": [],
   "source": [
    "from sklearn.linear_model import LinearRegression"
   ],
   "metadata": {
    "collapsed": false,
    "pycharm": {
     "name": "#%%\n"
    }
   }
  },
  {
   "cell_type": "code",
   "execution_count": 4,
   "outputs": [],
   "source": [
    "from sklearn.preprocessing import PolynomialFeatures"
   ],
   "metadata": {
    "collapsed": false,
    "pycharm": {
     "name": "#%%\n"
    }
   }
  },
  {
   "cell_type": "code",
   "execution_count": 5,
   "outputs": [],
   "source": [
    "from sklearn.model_selection import train_test_split"
   ],
   "metadata": {
    "collapsed": false,
    "pycharm": {
     "name": "#%%\n"
    }
   }
  },
  {
   "cell_type": "code",
   "execution_count": 6,
   "outputs": [],
   "source": [
    "pd.options.display.float_format = '{:_.2f}'.format"
   ],
   "metadata": {
    "collapsed": false,
    "pycharm": {
     "name": "#%%\n"
    }
   }
  },
  {
   "cell_type": "code",
   "execution_count": 6,
   "outputs": [],
   "source": [],
   "metadata": {
    "collapsed": false,
    "pycharm": {
     "name": "#%%\n"
    }
   }
  },
  {
   "cell_type": "markdown",
   "source": [
    "### Ноутбук с моделированием-разработкой 29-01-23"
   ],
   "metadata": {
    "collapsed": false,
    "pycharm": {
     "name": "#%% md\n"
    }
   }
  },
  {
   "cell_type": "code",
   "execution_count": 7,
   "outputs": [],
   "source": [
    "lien_df = pd.read_csv('../data/lien_df1_29_01_23.csv', sep=';')"
   ],
   "metadata": {
    "collapsed": false,
    "pycharm": {
     "name": "#%%\n"
    }
   }
  },
  {
   "cell_type": "code",
   "execution_count": 8,
   "outputs": [],
   "source": [
    "selected_df = lien_df[['views', 'contact_name', 'seller_name', 'square', 'cadastral_geocode', 'region_geocode','shown_by_days', 'distance', 'region_square', 'population', 'region_capital', 'grp', 'criminality', 'km_to_msk', 'region_capital_geocode', 'km_to_region_capital',  'price_value']].copy()"
   ],
   "metadata": {
    "collapsed": false,
    "pycharm": {
     "name": "#%%\n"
    }
   }
  },
  {
   "cell_type": "code",
   "execution_count": 9,
   "outputs": [],
   "source": [
    "selected_df = selected_df.dropna()  # пока поработаем без null"
   ],
   "metadata": {
    "collapsed": false,
    "pycharm": {
     "name": "#%%\n"
    }
   }
  },
  {
   "cell_type": "code",
   "execution_count": 10,
   "outputs": [],
   "source": [
    "# Linear Regression"
   ],
   "metadata": {
    "collapsed": false,
    "pycharm": {
     "name": "#%%\n"
    }
   }
  },
  {
   "cell_type": "code",
   "execution_count": 11,
   "outputs": [],
   "source": [
    "# all metrics\n",
    "metrics_names = ['mape', 'mae', 'explained_variance_score', 'max_error', 'mse', 'r2', 'd2_ae', 'd2_pinball', 'd2_tweedie']"
   ],
   "metadata": {
    "collapsed": false,
    "pycharm": {
     "name": "#%%\n"
    }
   }
  },
  {
   "cell_type": "code",
   "execution_count": 9,
   "outputs": [
    {
     "name": "stderr",
     "output_type": "stream",
     "text": [
      "100%|██████████| 9/9 [00:00<00:00, 512.13it/s]\n"
     ]
    },
    {
     "name": "stdout",
     "output_type": "stream",
     "text": [
      "mape\n",
      "mae\n",
      "explained_variance_score\n",
      "max_error\n",
      "mse\n",
      "r2\n",
      "d2_ae\n",
      "d2_pinball\n",
      "d2_tweedie\n"
     ]
    }
   ],
   "source": [
    "model, metrics_df, X_train_scaled, Y_train_scaled, X_test_scaled, Y_test_scaled, scaler_x_train, \\\n",
    "scaler_y_train, scaler_x_test, scaler_y_test = model_conveyor(selected_df, 'linear_regression', 'minmax', metrics_names,\n",
    "                                                              True, 'model_dumps/')"
   ],
   "metadata": {
    "collapsed": false,
    "pycharm": {
     "name": "#%%\n"
    }
   }
  },
  {
   "cell_type": "code",
   "execution_count": 11,
   "outputs": [],
   "source": [
    "# model, metrics_df, X_train_scaled, Y_train_scaled, X_test_scaled, Y_test_scaled, scaler_x_train, \\\n",
    "# scaler_y_train, scaler_x_test, scaler_y_test = model_conveyor(selected_df, 'linear_regression_with_poly_features', 'minmax', metrics_names,\n",
    "#                                                               True, 'model_dumps/', poly_degree=3)"
   ],
   "metadata": {
    "collapsed": false,
    "pycharm": {
     "name": "#%%\n"
    }
   }
  },
  {
   "cell_type": "code",
   "execution_count": 12,
   "outputs": [],
   "source": [
    "### данные меняем потом!"
   ],
   "metadata": {
    "collapsed": false,
    "pycharm": {
     "name": "#%%\n"
    }
   }
  },
  {
   "cell_type": "markdown",
   "source": [
    "### Work with PolynomialFeatures"
   ],
   "metadata": {
    "collapsed": false,
    "pycharm": {
     "name": "#%% md\n"
    }
   }
  },
  {
   "cell_type": "code",
   "execution_count": 12,
   "outputs": [
    {
     "data": {
      "text/plain": "       views                      contact_name  \\\n1   2_311.00        Гаас Александра Георгиевна   \n2     466.00            Брюнель Ева Жисленовна   \n3   1_286.00  Плесняев Александр Александрович   \n4   1_057.00         Беликин Иван Владимирович   \n5     812.00                   Остроухова Алла   \n..       ...                               ...   \n827   269.00            Коваленко Александр Ан   \n828   279.00            Коваленко Александр Ан   \n829   281.00            Коваленко Александр Ан   \n830   610.00          Нуриев Эдуард Рамзилович   \n831   461.00        Самойленко Денис Сергеевич   \n\n                          seller_name     square  \\\n1                     Физическое лицо  25_111.00   \n2                     Физическое лицо  50_574.00   \n3    Плесняев Александр Александрович 504_500.00   \n4           Беликин Иван Владимирович  10_000.00   \n5                        ПАО Сбербанк   2_400.00   \n..                                ...        ...   \n827               АО \"Россельхозбанк\"   1_527.00   \n828               АО \"Россельхозбанк\"   1_321.00   \n829               АО \"Россельхозбанк\"   1_676.00   \n830               АО \"Россельхозбанк\" 150_100.00   \n831                      ПАО Сбербанк  10_000.00   \n\n                           cadastral_geocode  \\\n1     [51.94720028246027, 84.88831594503662]   \n2     [56.77190698765615, 38.88962726762723]   \n3    [55.73199800626753, 35.340751735565306]   \n4      [55.7008175028533, 37.02131098410721]   \n5     [47.34721090904763, 39.57702065464689]   \n..                                       ...   \n827   [56.21913602478085, 38.82900562858026]   \n828  [56.220926330893064, 38.83048310378695]   \n829    [56.21983629294916, 38.8300820194728]   \n830  [55.822853130025955, 52.73092958759532]   \n831   [57.14073651577907, 33.14393000643601]   \n\n                              region_geocode  shown_by_days  distance  \\\n1                   [51.9931851, 84.9819571]         293.88      8.22   \n2           [56.80208355, 38.64899133747492]         275.88     15.09   \n3                    [55.506478, 36.0213092]         207.88     49.69   \n4                   [55.6711507, 37.2727963]         215.88     16.16   \n5    [47.370534899999996, 39.46597632166487]         674.88      8.78   \n..                                       ...            ...       ...   \n827          [56.1345574, 38.85192758087219]         608.88      9.52   \n828          [56.1345574, 38.85192758087219]         608.88      9.71   \n829          [56.1345574, 38.85192758087219]         608.88      9.59   \n830  [55.682141200000004, 52.09069161386946]         617.88     43.15   \n831                 [57.1557583, 33.1013213]         636.88      3.07   \n\n     region_square   population  region_capital      grp  criminality  \\\n1       167_996.00 2_154_932.00         Барнаул   550.00       130.80   \n2        36_177.00 1_205_637.00       Ярославль   560.60       105.10   \n3        44_329.00 8_542_257.00          Москва 4_201.80        72.90   \n4        44_329.00 8_542_257.00          Москва 4_201.80        72.90   \n5       100_967.00 4_192_322.00  Ростов-на-Дону 1_446.20       104.80   \n..             ...          ...             ...      ...          ...   \n827      29_084.00 1_342_235.00        Владимир   440.50        91.10   \n828      29_084.00 1_342_235.00        Владимир   440.50        91.10   \n829      29_084.00 1_342_235.00        Владимир   440.50        91.10   \n830      67_847.00 4_000_084.00          Казань 2_469.20       102.10   \n831      84_201.00 1_226_038.00           Тверь   441.70       130.50   \n\n     km_to_msk           region_capital_geocode  km_to_region_capital  \\\n1     3_077.81          [53.347402, 83.7784496]                172.97   \n2       137.38         [57.6263877, 39.8933705]                112.85   \n3       142.86         [55.7504461, 37.6174943]                143.01   \n4        37.93         [55.7504461, 37.6174943]                 37.87   \n5       945.99         [47.2216548, 39.7096061]                 17.19   \n..         ...                              ...                   ...   \n827      91.25         [56.1288899, 40.4075203]                 98.56   \n828      91.43         [56.1288899, 40.4075203]                 98.48   \n829      91.35         [56.1288899, 40.4075203]                 98.50   \n830     946.31         [55.7823547, 49.1242266]                226.20   \n831     315.46  [56.8596713, 35.89524161906262]                170.09   \n\n       price_value  \n1   145_500_000.00  \n2     4_500_000.00  \n3    23_450_000.00  \n4   320_000_000.00  \n5       136_000.00  \n..             ...  \n827  10_709_963.00  \n828   9_265_136.00  \n829  11_755_032.00  \n830     226_651.00  \n831   8_270_000.00  \n\n[300 rows x 17 columns]",
      "text/html": "<div>\n<style scoped>\n    .dataframe tbody tr th:only-of-type {\n        vertical-align: middle;\n    }\n\n    .dataframe tbody tr th {\n        vertical-align: top;\n    }\n\n    .dataframe thead th {\n        text-align: right;\n    }\n</style>\n<table border=\"1\" class=\"dataframe\">\n  <thead>\n    <tr style=\"text-align: right;\">\n      <th></th>\n      <th>views</th>\n      <th>contact_name</th>\n      <th>seller_name</th>\n      <th>square</th>\n      <th>cadastral_geocode</th>\n      <th>region_geocode</th>\n      <th>shown_by_days</th>\n      <th>distance</th>\n      <th>region_square</th>\n      <th>population</th>\n      <th>region_capital</th>\n      <th>grp</th>\n      <th>criminality</th>\n      <th>km_to_msk</th>\n      <th>region_capital_geocode</th>\n      <th>km_to_region_capital</th>\n      <th>price_value</th>\n    </tr>\n  </thead>\n  <tbody>\n    <tr>\n      <th>1</th>\n      <td>2_311.00</td>\n      <td>Гаас Александра Георгиевна</td>\n      <td>Физическое лицо</td>\n      <td>25_111.00</td>\n      <td>[51.94720028246027, 84.88831594503662]</td>\n      <td>[51.9931851, 84.9819571]</td>\n      <td>293.88</td>\n      <td>8.22</td>\n      <td>167_996.00</td>\n      <td>2_154_932.00</td>\n      <td>Барнаул</td>\n      <td>550.00</td>\n      <td>130.80</td>\n      <td>3_077.81</td>\n      <td>[53.347402, 83.7784496]</td>\n      <td>172.97</td>\n      <td>145_500_000.00</td>\n    </tr>\n    <tr>\n      <th>2</th>\n      <td>466.00</td>\n      <td>Брюнель Ева Жисленовна</td>\n      <td>Физическое лицо</td>\n      <td>50_574.00</td>\n      <td>[56.77190698765615, 38.88962726762723]</td>\n      <td>[56.80208355, 38.64899133747492]</td>\n      <td>275.88</td>\n      <td>15.09</td>\n      <td>36_177.00</td>\n      <td>1_205_637.00</td>\n      <td>Ярославль</td>\n      <td>560.60</td>\n      <td>105.10</td>\n      <td>137.38</td>\n      <td>[57.6263877, 39.8933705]</td>\n      <td>112.85</td>\n      <td>4_500_000.00</td>\n    </tr>\n    <tr>\n      <th>3</th>\n      <td>1_286.00</td>\n      <td>Плесняев Александр Александрович</td>\n      <td>Плесняев Александр Александрович</td>\n      <td>504_500.00</td>\n      <td>[55.73199800626753, 35.340751735565306]</td>\n      <td>[55.506478, 36.0213092]</td>\n      <td>207.88</td>\n      <td>49.69</td>\n      <td>44_329.00</td>\n      <td>8_542_257.00</td>\n      <td>Москва</td>\n      <td>4_201.80</td>\n      <td>72.90</td>\n      <td>142.86</td>\n      <td>[55.7504461, 37.6174943]</td>\n      <td>143.01</td>\n      <td>23_450_000.00</td>\n    </tr>\n    <tr>\n      <th>4</th>\n      <td>1_057.00</td>\n      <td>Беликин Иван Владимирович</td>\n      <td>Беликин Иван Владимирович</td>\n      <td>10_000.00</td>\n      <td>[55.7008175028533, 37.02131098410721]</td>\n      <td>[55.6711507, 37.2727963]</td>\n      <td>215.88</td>\n      <td>16.16</td>\n      <td>44_329.00</td>\n      <td>8_542_257.00</td>\n      <td>Москва</td>\n      <td>4_201.80</td>\n      <td>72.90</td>\n      <td>37.93</td>\n      <td>[55.7504461, 37.6174943]</td>\n      <td>37.87</td>\n      <td>320_000_000.00</td>\n    </tr>\n    <tr>\n      <th>5</th>\n      <td>812.00</td>\n      <td>Остроухова Алла</td>\n      <td>ПАО Сбербанк</td>\n      <td>2_400.00</td>\n      <td>[47.34721090904763, 39.57702065464689]</td>\n      <td>[47.370534899999996, 39.46597632166487]</td>\n      <td>674.88</td>\n      <td>8.78</td>\n      <td>100_967.00</td>\n      <td>4_192_322.00</td>\n      <td>Ростов-на-Дону</td>\n      <td>1_446.20</td>\n      <td>104.80</td>\n      <td>945.99</td>\n      <td>[47.2216548, 39.7096061]</td>\n      <td>17.19</td>\n      <td>136_000.00</td>\n    </tr>\n    <tr>\n      <th>...</th>\n      <td>...</td>\n      <td>...</td>\n      <td>...</td>\n      <td>...</td>\n      <td>...</td>\n      <td>...</td>\n      <td>...</td>\n      <td>...</td>\n      <td>...</td>\n      <td>...</td>\n      <td>...</td>\n      <td>...</td>\n      <td>...</td>\n      <td>...</td>\n      <td>...</td>\n      <td>...</td>\n      <td>...</td>\n    </tr>\n    <tr>\n      <th>827</th>\n      <td>269.00</td>\n      <td>Коваленко Александр Ан</td>\n      <td>АО \"Россельхозбанк\"</td>\n      <td>1_527.00</td>\n      <td>[56.21913602478085, 38.82900562858026]</td>\n      <td>[56.1345574, 38.85192758087219]</td>\n      <td>608.88</td>\n      <td>9.52</td>\n      <td>29_084.00</td>\n      <td>1_342_235.00</td>\n      <td>Владимир</td>\n      <td>440.50</td>\n      <td>91.10</td>\n      <td>91.25</td>\n      <td>[56.1288899, 40.4075203]</td>\n      <td>98.56</td>\n      <td>10_709_963.00</td>\n    </tr>\n    <tr>\n      <th>828</th>\n      <td>279.00</td>\n      <td>Коваленко Александр Ан</td>\n      <td>АО \"Россельхозбанк\"</td>\n      <td>1_321.00</td>\n      <td>[56.220926330893064, 38.83048310378695]</td>\n      <td>[56.1345574, 38.85192758087219]</td>\n      <td>608.88</td>\n      <td>9.71</td>\n      <td>29_084.00</td>\n      <td>1_342_235.00</td>\n      <td>Владимир</td>\n      <td>440.50</td>\n      <td>91.10</td>\n      <td>91.43</td>\n      <td>[56.1288899, 40.4075203]</td>\n      <td>98.48</td>\n      <td>9_265_136.00</td>\n    </tr>\n    <tr>\n      <th>829</th>\n      <td>281.00</td>\n      <td>Коваленко Александр Ан</td>\n      <td>АО \"Россельхозбанк\"</td>\n      <td>1_676.00</td>\n      <td>[56.21983629294916, 38.8300820194728]</td>\n      <td>[56.1345574, 38.85192758087219]</td>\n      <td>608.88</td>\n      <td>9.59</td>\n      <td>29_084.00</td>\n      <td>1_342_235.00</td>\n      <td>Владимир</td>\n      <td>440.50</td>\n      <td>91.10</td>\n      <td>91.35</td>\n      <td>[56.1288899, 40.4075203]</td>\n      <td>98.50</td>\n      <td>11_755_032.00</td>\n    </tr>\n    <tr>\n      <th>830</th>\n      <td>610.00</td>\n      <td>Нуриев Эдуард Рамзилович</td>\n      <td>АО \"Россельхозбанк\"</td>\n      <td>150_100.00</td>\n      <td>[55.822853130025955, 52.73092958759532]</td>\n      <td>[55.682141200000004, 52.09069161386946]</td>\n      <td>617.88</td>\n      <td>43.15</td>\n      <td>67_847.00</td>\n      <td>4_000_084.00</td>\n      <td>Казань</td>\n      <td>2_469.20</td>\n      <td>102.10</td>\n      <td>946.31</td>\n      <td>[55.7823547, 49.1242266]</td>\n      <td>226.20</td>\n      <td>226_651.00</td>\n    </tr>\n    <tr>\n      <th>831</th>\n      <td>461.00</td>\n      <td>Самойленко Денис Сергеевич</td>\n      <td>ПАО Сбербанк</td>\n      <td>10_000.00</td>\n      <td>[57.14073651577907, 33.14393000643601]</td>\n      <td>[57.1557583, 33.1013213]</td>\n      <td>636.88</td>\n      <td>3.07</td>\n      <td>84_201.00</td>\n      <td>1_226_038.00</td>\n      <td>Тверь</td>\n      <td>441.70</td>\n      <td>130.50</td>\n      <td>315.46</td>\n      <td>[56.8596713, 35.89524161906262]</td>\n      <td>170.09</td>\n      <td>8_270_000.00</td>\n    </tr>\n  </tbody>\n</table>\n<p>300 rows × 17 columns</p>\n</div>"
     },
     "execution_count": 12,
     "metadata": {},
     "output_type": "execute_result"
    }
   ],
   "source": [
    "selected_df"
   ],
   "metadata": {
    "collapsed": false,
    "pycharm": {
     "name": "#%%\n"
    }
   }
  },
  {
   "cell_type": "code",
   "execution_count": 20,
   "outputs": [],
   "source": [
    "encoded_df = encode_features(selected_df)"
   ],
   "metadata": {
    "collapsed": false,
    "pycharm": {
     "name": "#%%\n"
    }
   }
  },
  {
   "cell_type": "code",
   "execution_count": 27,
   "outputs": [],
   "source": [
    "data_df = encoded_df\n",
    "target_col = 'price_value'"
   ],
   "metadata": {
    "collapsed": false,
    "pycharm": {
     "name": "#%%\n"
    }
   }
  },
  {
   "cell_type": "code",
   "execution_count": 28,
   "outputs": [],
   "source": [
    "train_df, test_df = train_test_split(data_df, test_size=0.2, shuffle=True)\n",
    "train_X = train_df[list(set(train_df.columns) - set([target_col]))]\n",
    "train_Y = train_df[target_col]\n",
    "test_X = test_df[list(set(test_df.columns) - set([target_col]))]\n",
    "test_Y = test_df[target_col]"
   ],
   "metadata": {
    "collapsed": false,
    "pycharm": {
     "name": "#%%\n"
    }
   }
  },
  {
   "cell_type": "code",
   "execution_count": 30,
   "outputs": [],
   "source": [
    "scaler_x_train, scaler_y_train, scaler_x_test, scaler_y_test = get_scalers('minmax')"
   ],
   "metadata": {
    "collapsed": false,
    "pycharm": {
     "name": "#%%\n"
    }
   }
  },
  {
   "cell_type": "code",
   "execution_count": 33,
   "outputs": [],
   "source": [
    "# scale data\n",
    "X_train_scaled = scaler_x_train.fit_transform(train_X)\n",
    "Y_train_scaled = scaler_y_train.fit_transform(np.array(train_Y).reshape(-1, 1))\n",
    "X_test_scaled = scaler_x_test.fit_transform(test_X)\n",
    "Y_test_scaled = scaler_y_test.fit_transform(np.array(test_Y).reshape(-1, 1))"
   ],
   "metadata": {
    "collapsed": false,
    "pycharm": {
     "name": "#%%\n"
    }
   }
  },
  {
   "cell_type": "code",
   "execution_count": 34,
   "outputs": [],
   "source": [
    "polynomial = PolynomialFeatures(degree=3, include_bias=False)"
   ],
   "metadata": {
    "collapsed": false,
    "pycharm": {
     "name": "#%%\n"
    }
   }
  },
  {
   "cell_type": "code",
   "execution_count": 36,
   "outputs": [],
   "source": [
    "X_train_scaled_poly = polynomial.fit_transform(X_train_scaled)"
   ],
   "metadata": {
    "collapsed": false,
    "pycharm": {
     "name": "#%%\n"
    }
   }
  },
  {
   "cell_type": "code",
   "execution_count": 38,
   "outputs": [
    {
     "data": {
      "text/plain": "array([[9.68354430e-01, 9.77142063e-02, 7.50000000e-01, ...,\n        7.83178678e-04, 1.81770048e-02, 4.21875000e-01],\n       [3.92405063e-01, 5.89640932e-01, 2.50000000e-01, ...,\n        1.80154482e-02, 9.66850366e-02, 5.18887801e-01],\n       [9.30379747e-01, 8.42443067e-02, 7.50000000e-01, ...,\n        1.46964475e-03, 2.48999273e-02, 4.21875000e-01],\n       ...,\n       [2.78481013e-01, 7.30321205e-01, 9.80769231e-01, ...,\n        7.19479790e-05, 5.50936055e-03, 4.21875000e-01],\n       [6.83544304e-01, 1.03109948e-02, 1.15384615e-01, ...,\n        2.01073898e-05, 3.02650086e-05, 4.55539359e-05],\n       [2.84810127e-01, 7.88181689e-01, 9.80769231e-01, ...,\n        3.57142857e-02, 1.27551020e-03, 4.55539359e-05]])"
     },
     "execution_count": 38,
     "metadata": {},
     "output_type": "execute_result"
    }
   ],
   "source": [
    "X_train_scaled_poly"
   ],
   "metadata": {
    "collapsed": false,
    "pycharm": {
     "name": "#%%\n"
    }
   }
  },
  {
   "cell_type": "code",
   "execution_count": 43,
   "outputs": [],
   "source": [
    "regression_model = LinearRegression()"
   ],
   "metadata": {
    "collapsed": false,
    "pycharm": {
     "name": "#%%\n"
    }
   }
  },
  {
   "cell_type": "code",
   "execution_count": 44,
   "outputs": [
    {
     "data": {
      "text/plain": "LinearRegression()",
      "text/html": "<style>#sk-container-id-1 {color: black;background-color: white;}#sk-container-id-1 pre{padding: 0;}#sk-container-id-1 div.sk-toggleable {background-color: white;}#sk-container-id-1 label.sk-toggleable__label {cursor: pointer;display: block;width: 100%;margin-bottom: 0;padding: 0.3em;box-sizing: border-box;text-align: center;}#sk-container-id-1 label.sk-toggleable__label-arrow:before {content: \"▸\";float: left;margin-right: 0.25em;color: #696969;}#sk-container-id-1 label.sk-toggleable__label-arrow:hover:before {color: black;}#sk-container-id-1 div.sk-estimator:hover label.sk-toggleable__label-arrow:before {color: black;}#sk-container-id-1 div.sk-toggleable__content {max-height: 0;max-width: 0;overflow: hidden;text-align: left;background-color: #f0f8ff;}#sk-container-id-1 div.sk-toggleable__content pre {margin: 0.2em;color: black;border-radius: 0.25em;background-color: #f0f8ff;}#sk-container-id-1 input.sk-toggleable__control:checked~div.sk-toggleable__content {max-height: 200px;max-width: 100%;overflow: auto;}#sk-container-id-1 input.sk-toggleable__control:checked~label.sk-toggleable__label-arrow:before {content: \"▾\";}#sk-container-id-1 div.sk-estimator input.sk-toggleable__control:checked~label.sk-toggleable__label {background-color: #d4ebff;}#sk-container-id-1 div.sk-label input.sk-toggleable__control:checked~label.sk-toggleable__label {background-color: #d4ebff;}#sk-container-id-1 input.sk-hidden--visually {border: 0;clip: rect(1px 1px 1px 1px);clip: rect(1px, 1px, 1px, 1px);height: 1px;margin: -1px;overflow: hidden;padding: 0;position: absolute;width: 1px;}#sk-container-id-1 div.sk-estimator {font-family: monospace;background-color: #f0f8ff;border: 1px dotted black;border-radius: 0.25em;box-sizing: border-box;margin-bottom: 0.5em;}#sk-container-id-1 div.sk-estimator:hover {background-color: #d4ebff;}#sk-container-id-1 div.sk-parallel-item::after {content: \"\";width: 100%;border-bottom: 1px solid gray;flex-grow: 1;}#sk-container-id-1 div.sk-label:hover label.sk-toggleable__label {background-color: #d4ebff;}#sk-container-id-1 div.sk-serial::before {content: \"\";position: absolute;border-left: 1px solid gray;box-sizing: border-box;top: 0;bottom: 0;left: 50%;z-index: 0;}#sk-container-id-1 div.sk-serial {display: flex;flex-direction: column;align-items: center;background-color: white;padding-right: 0.2em;padding-left: 0.2em;position: relative;}#sk-container-id-1 div.sk-item {position: relative;z-index: 1;}#sk-container-id-1 div.sk-parallel {display: flex;align-items: stretch;justify-content: center;background-color: white;position: relative;}#sk-container-id-1 div.sk-item::before, #sk-container-id-1 div.sk-parallel-item::before {content: \"\";position: absolute;border-left: 1px solid gray;box-sizing: border-box;top: 0;bottom: 0;left: 50%;z-index: -1;}#sk-container-id-1 div.sk-parallel-item {display: flex;flex-direction: column;z-index: 1;position: relative;background-color: white;}#sk-container-id-1 div.sk-parallel-item:first-child::after {align-self: flex-end;width: 50%;}#sk-container-id-1 div.sk-parallel-item:last-child::after {align-self: flex-start;width: 50%;}#sk-container-id-1 div.sk-parallel-item:only-child::after {width: 0;}#sk-container-id-1 div.sk-dashed-wrapped {border: 1px dashed gray;margin: 0 0.4em 0.5em 0.4em;box-sizing: border-box;padding-bottom: 0.4em;background-color: white;}#sk-container-id-1 div.sk-label label {font-family: monospace;font-weight: bold;display: inline-block;line-height: 1.2em;}#sk-container-id-1 div.sk-label-container {text-align: center;}#sk-container-id-1 div.sk-container {/* jupyter's `normalize.less` sets `[hidden] { display: none; }` but bootstrap.min.css set `[hidden] { display: none !important; }` so we also need the `!important` here to be able to override the default hidden behavior on the sphinx rendered scikit-learn.org. See: https://github.com/scikit-learn/scikit-learn/issues/21755 */display: inline-block !important;position: relative;}#sk-container-id-1 div.sk-text-repr-fallback {display: none;}</style><div id=\"sk-container-id-1\" class=\"sk-top-container\"><div class=\"sk-text-repr-fallback\"><pre>LinearRegression()</pre><b>In a Jupyter environment, please rerun this cell to show the HTML representation or trust the notebook. <br />On GitHub, the HTML representation is unable to render, please try loading this page with nbviewer.org.</b></div><div class=\"sk-container\" hidden><div class=\"sk-item\"><div class=\"sk-estimator sk-toggleable\"><input class=\"sk-toggleable__control sk-hidden--visually\" id=\"sk-estimator-id-1\" type=\"checkbox\" checked><label for=\"sk-estimator-id-1\" class=\"sk-toggleable__label sk-toggleable__label-arrow\">LinearRegression</label><div class=\"sk-toggleable__content\"><pre>LinearRegression()</pre></div></div></div></div></div>"
     },
     "execution_count": 44,
     "metadata": {},
     "output_type": "execute_result"
    }
   ],
   "source": [
    "regression_model.fit(X_train_scaled_poly, Y_train_scaled)"
   ],
   "metadata": {
    "collapsed": false,
    "pycharm": {
     "name": "#%%\n"
    }
   }
  },
  {
   "cell_type": "code",
   "execution_count": 47,
   "outputs": [],
   "source": [
    "X_test_scaled_poly = polynomial.fit_transform(X_test_scaled)"
   ],
   "metadata": {
    "collapsed": false,
    "pycharm": {
     "name": "#%%\n"
    }
   }
  },
  {
   "cell_type": "code",
   "execution_count": null,
   "outputs": [],
   "source": [],
   "metadata": {
    "collapsed": false,
    "pycharm": {
     "name": "#%%\n"
    }
   }
  },
  {
   "cell_type": "code",
   "execution_count": 48,
   "outputs": [],
   "source": [
    "metric_train_scaled, metric_test_scaled, metric_train_unscaled, metric_test_unscaled = \\\n",
    "    get_metrics(regression_model, scaler_y_train, scaler_y_test, X_train_scaled_poly, Y_train_scaled, X_test_scaled_poly,\n",
    "                Y_test_scaled, 'mape')  # нужно также шкалировать X-train и X_test"
   ],
   "metadata": {
    "collapsed": false,
    "pycharm": {
     "name": "#%%\n"
    }
   }
  },
  {
   "cell_type": "code",
   "execution_count": 49,
   "outputs": [
    {
     "data": {
      "text/plain": "1433.600000076697"
     },
     "execution_count": 49,
     "metadata": {},
     "output_type": "execute_result"
    }
   ],
   "source": [
    "metric_train_scaled"
   ],
   "metadata": {
    "collapsed": false,
    "pycharm": {
     "name": "#%%\n"
    }
   }
  },
  {
   "cell_type": "code",
   "execution_count": 50,
   "outputs": [],
   "source": [
    "# короч нужно только X_test_scaled подправить"
   ],
   "metadata": {
    "collapsed": false,
    "pycharm": {
     "name": "#%%\n"
    }
   }
  },
  {
   "cell_type": "code",
   "execution_count": null,
   "outputs": [],
   "source": [],
   "metadata": {
    "collapsed": false,
    "pycharm": {
     "name": "#%%\n"
    }
   }
  },
  {
   "cell_type": "code",
   "execution_count": 51,
   "outputs": [],
   "source": [
    "### попробуем внутри конвейера пройтись"
   ],
   "metadata": {
    "collapsed": false,
    "pycharm": {
     "name": "#%%\n"
    }
   }
  },
  {
   "cell_type": "code",
   "execution_count": 12,
   "outputs": [
    {
     "name": "stderr",
     "output_type": "stream",
     "text": [
      "100%|██████████| 9/9 [00:00<00:00, 367.08it/s]\n"
     ]
    },
    {
     "name": "stdout",
     "output_type": "stream",
     "text": [
      "mape\n",
      "mae\n",
      "explained_variance_score\n",
      "max_error\n",
      "mse\n",
      "r2\n",
      "d2_ae\n",
      "d2_pinball\n",
      "d2_tweedie\n"
     ]
    }
   ],
   "source": [
    "model, metrics_df, X_train_scaled, Y_train_scaled, X_test_scaled, Y_test_scaled, scaler_x_train, \\\n",
    "scaler_y_train, scaler_x_test, scaler_y_test = model_conveyor(selected_df, 'linear_regression_with_poly_features', 'minmax', metrics_names,\n",
    "                                                              True, 'model_dumps/', poly_degree=3)"
   ],
   "metadata": {
    "collapsed": false,
    "pycharm": {
     "name": "#%%\n"
    }
   }
  },
  {
   "cell_type": "code",
   "execution_count": null,
   "outputs": [],
   "source": [
    "### Попробуем с Positie true"
   ],
   "metadata": {
    "collapsed": false,
    "pycharm": {
     "name": "#%%\n"
    }
   }
  },
  {
   "cell_type": "code",
   "execution_count": 12,
   "outputs": [
    {
     "name": "stderr",
     "output_type": "stream",
     "text": [
      "100%|██████████| 9/9 [00:00<00:00, 594.96it/s]\n"
     ]
    },
    {
     "name": "stdout",
     "output_type": "stream",
     "text": [
      "mape\n",
      "mae\n",
      "explained_variance_score\n",
      "max_error\n",
      "mse\n",
      "r2\n",
      "d2_ae\n",
      "d2_pinball\n",
      "d2_tweedie\n"
     ]
    }
   ],
   "source": [
    "model, metrics_df, X_train_scaled, Y_train_scaled, X_test_scaled, Y_test_scaled, scaler_x_train, \\\n",
    "scaler_y_train, scaler_x_test, scaler_y_test = model_conveyor(selected_df, 'linear_regression', 'minmax', metrics_names,\n",
    "                                                              True, 'model_dumps/')"
   ],
   "metadata": {
    "collapsed": false,
    "pycharm": {
     "name": "#%%\n"
    }
   }
  },
  {
   "cell_type": "code",
   "execution_count": null,
   "outputs": [],
   "source": [],
   "metadata": {
    "collapsed": false,
    "pycharm": {
     "name": "#%%\n"
    }
   }
  },
  {
   "cell_type": "code",
   "execution_count": 13,
   "outputs": [
    {
     "name": "stderr",
     "output_type": "stream",
     "text": [
      "100%|██████████| 9/9 [00:00<00:00, 200.54it/s]"
     ]
    },
    {
     "name": "stdout",
     "output_type": "stream",
     "text": [
      "mape\n",
      "mae\n",
      "explained_variance_score\n",
      "max_error\n",
      "mse\n",
      "r2\n",
      "d2_ae\n",
      "d2_pinball\n",
      "d2_tweedie\n"
     ]
    },
    {
     "name": "stderr",
     "output_type": "stream",
     "text": [
      "\n"
     ]
    }
   ],
   "source": [
    "model, metrics_df, X_train_scaled, Y_train_scaled, X_test_scaled, Y_test_scaled, scaler_x_train, \\\n",
    "scaler_y_train, scaler_x_test, scaler_y_test = model_conveyor(selected_df, 'linear_regression_with_poly_features', 'minmax', metrics_names, True, 'model_dumps/', poly_degree=3)"
   ],
   "metadata": {
    "collapsed": false,
    "pycharm": {
     "name": "#%%\n"
    }
   }
  },
  {
   "cell_type": "code",
   "execution_count": 16,
   "outputs": [],
   "source": [],
   "metadata": {
    "collapsed": false,
    "pycharm": {
     "name": "#%%\n"
    }
   }
  },
  {
   "cell_type": "markdown",
   "source": [
    "### попробуем посмотреть значения с заполненными nan"
   ],
   "metadata": {
    "collapsed": false,
    "pycharm": {
     "name": "#%% md\n"
    }
   }
  },
  {
   "cell_type": "code",
   "execution_count": 19,
   "outputs": [],
   "source": [
    "lien_df = pd.read_csv('../data/lien_df1_29_01_23_filled_na.csv', sep=';')"
   ],
   "metadata": {
    "collapsed": false,
    "pycharm": {
     "name": "#%%\n"
    }
   }
  },
  {
   "cell_type": "code",
   "execution_count": 20,
   "outputs": [],
   "source": [
    "selected_df = lien_df[['views', 'contact_name', 'seller_name', 'square', 'cadastral_geocode', 'region_geocode','shown_by_days', 'distance', 'region_square', 'population', 'region_capital', 'grp', 'criminality', 'km_to_msk', 'region_capital_geocode', 'km_to_region_capital',  'price_value']].copy()"
   ],
   "metadata": {
    "collapsed": false,
    "pycharm": {
     "name": "#%%\n"
    }
   }
  },
  {
   "cell_type": "code",
   "execution_count": 21,
   "outputs": [],
   "source": [
    "selected_df = selected_df.dropna()  # пока поработаем без null"
   ],
   "metadata": {
    "collapsed": false,
    "pycharm": {
     "name": "#%%\n"
    }
   }
  },
  {
   "cell_type": "code",
   "execution_count": 22,
   "outputs": [
    {
     "data": {
      "text/plain": "(804, 17)"
     },
     "execution_count": 22,
     "metadata": {},
     "output_type": "execute_result"
    }
   ],
   "source": [
    "selected_df.shape"
   ],
   "metadata": {
    "collapsed": false,
    "pycharm": {
     "name": "#%%\n"
    }
   }
  },
  {
   "cell_type": "code",
   "execution_count": 23,
   "outputs": [],
   "source": [
    "# todo надо вырезать outliers"
   ],
   "metadata": {
    "collapsed": false,
    "pycharm": {
     "name": "#%%\n"
    }
   }
  },
  {
   "cell_type": "code",
   "execution_count": 10,
   "outputs": [],
   "source": [
    "# Linear Regression"
   ],
   "metadata": {
    "collapsed": false,
    "pycharm": {
     "name": "#%%\n"
    }
   }
  },
  {
   "cell_type": "code",
   "execution_count": 15,
   "outputs": [],
   "source": [
    "# all metrics\n",
    "metrics_names = ['mape', 'mae', 'explained_variance_score', 'max_error', 'mse', 'r2', 'd2_ae', 'd2_pinball', 'd2_tweedie']"
   ],
   "metadata": {
    "collapsed": false,
    "pycharm": {
     "name": "#%%\n"
    }
   }
  },
  {
   "cell_type": "code",
   "execution_count": 25,
   "outputs": [
    {
     "name": "stderr",
     "output_type": "stream",
     "text": [
      "100%|██████████| 9/9 [00:00<00:00, 158.05it/s]"
     ]
    },
    {
     "name": "stdout",
     "output_type": "stream",
     "text": [
      "mape\n",
      "mae\n",
      "explained_variance_score\n",
      "max_error\n",
      "mse\n",
      "r2\n",
      "d2_ae\n",
      "d2_pinball\n",
      "d2_tweedie\n"
     ]
    },
    {
     "name": "stderr",
     "output_type": "stream",
     "text": [
      "\n"
     ]
    }
   ],
   "source": [
    "model, metrics_df, X_train_scaled, Y_train_scaled, X_test_scaled, Y_test_scaled, scaler_x_train, \\\n",
    "scaler_y_train, scaler_x_test, scaler_y_test = model_conveyor(selected_df, 'linear_regression', 'minmax', metrics_names,\n",
    "                                                              True, 'model_dumps/')"
   ],
   "metadata": {
    "collapsed": false,
    "pycharm": {
     "name": "#%%\n"
    }
   }
  },
  {
   "cell_type": "code",
   "execution_count": null,
   "outputs": [],
   "source": [],
   "metadata": {
    "collapsed": false,
    "pycharm": {
     "name": "#%%\n"
    }
   }
  },
  {
   "cell_type": "code",
   "execution_count": 25,
   "outputs": [],
   "source": [
    "# попробуем отрезать данные по квантилю"
   ],
   "metadata": {
    "collapsed": false,
    "pycharm": {
     "name": "#%%\n"
    }
   }
  },
  {
   "cell_type": "code",
   "execution_count": 26,
   "outputs": [],
   "source": [
    "lien_df = lien_df.loc[lien_df['price_value'] < lien_df['price_value'].quantile(.87)]"
   ],
   "metadata": {
    "collapsed": false,
    "pycharm": {
     "name": "#%%\n"
    }
   }
  },
  {
   "cell_type": "code",
   "execution_count": 28,
   "outputs": [
    {
     "data": {
      "text/plain": "(723, 26)"
     },
     "execution_count": 28,
     "metadata": {},
     "output_type": "execute_result"
    }
   ],
   "source": [
    "lien_df.shape  # норм"
   ],
   "metadata": {
    "collapsed": false,
    "pycharm": {
     "name": "#%%\n"
    }
   }
  },
  {
   "cell_type": "code",
   "execution_count": null,
   "outputs": [],
   "source": [],
   "metadata": {
    "collapsed": false,
    "pycharm": {
     "name": "#%%\n"
    }
   }
  },
  {
   "cell_type": "code",
   "execution_count": 29,
   "outputs": [],
   "source": [
    "selected_df = lien_df[['views', 'contact_name', 'seller_name', 'square', 'cadastral_geocode', 'region_geocode','shown_by_days', 'distance', 'region_square', 'population', 'region_capital', 'grp', 'criminality', 'km_to_msk', 'region_capital_geocode', 'km_to_region_capital',  'price_value']].copy()"
   ],
   "metadata": {
    "collapsed": false,
    "pycharm": {
     "name": "#%%\n"
    }
   }
  },
  {
   "cell_type": "code",
   "execution_count": 30,
   "outputs": [],
   "source": [
    "selected_df = selected_df.dropna()  # пока поработаем без null"
   ],
   "metadata": {
    "collapsed": false,
    "pycharm": {
     "name": "#%%\n"
    }
   }
  },
  {
   "cell_type": "code",
   "execution_count": 31,
   "outputs": [
    {
     "data": {
      "text/plain": "(702, 17)"
     },
     "execution_count": 31,
     "metadata": {},
     "output_type": "execute_result"
    }
   ],
   "source": [
    "selected_df.shape"
   ],
   "metadata": {
    "collapsed": false,
    "pycharm": {
     "name": "#%%\n"
    }
   }
  },
  {
   "cell_type": "code",
   "execution_count": 32,
   "outputs": [],
   "source": [
    "# todo надо вырезать outliers"
   ],
   "metadata": {
    "collapsed": false,
    "pycharm": {
     "name": "#%%\n"
    }
   }
  },
  {
   "cell_type": "code",
   "execution_count": 33,
   "outputs": [],
   "source": [
    "# Linear Regression"
   ],
   "metadata": {
    "collapsed": false,
    "pycharm": {
     "name": "#%%\n"
    }
   }
  },
  {
   "cell_type": "code",
   "execution_count": 34,
   "outputs": [],
   "source": [
    "# all metrics\n",
    "metrics_names = ['mape', 'mae', 'explained_variance_score', 'max_error', 'mse', 'r2', 'd2_ae', 'd2_pinball', 'd2_tweedie']"
   ],
   "metadata": {
    "collapsed": false,
    "pycharm": {
     "name": "#%%\n"
    }
   }
  },
  {
   "cell_type": "code",
   "execution_count": 35,
   "outputs": [
    {
     "name": "stderr",
     "output_type": "stream",
     "text": [
      "100%|██████████| 9/9 [00:00<00:00, 827.04it/s]"
     ]
    },
    {
     "name": "stdout",
     "output_type": "stream",
     "text": [
      "mape\n",
      "mae\n",
      "explained_variance_score\n",
      "max_error\n",
      "mse\n",
      "r2\n",
      "d2_ae\n",
      "d2_pinball\n",
      "d2_tweedie\n"
     ]
    },
    {
     "name": "stderr",
     "output_type": "stream",
     "text": [
      "\n"
     ]
    }
   ],
   "source": [
    "model, metrics_df, X_train_scaled, Y_train_scaled, X_test_scaled, Y_test_scaled, scaler_x_train, \\\n",
    "scaler_y_train, scaler_x_test, scaler_y_test = model_conveyor(selected_df, 'linear_regression', 'minmax', metrics_names,\n",
    "                                                              True, 'model_dumps/')"
   ],
   "metadata": {
    "collapsed": false,
    "pycharm": {
     "name": "#%%\n"
    }
   }
  },
  {
   "cell_type": "code",
   "execution_count": null,
   "outputs": [],
   "source": [],
   "metadata": {
    "collapsed": false,
    "pycharm": {
     "name": "#%%\n"
    }
   }
  },
  {
   "cell_type": "markdown",
   "source": [
    "# заполняем нули"
   ],
   "metadata": {
    "collapsed": false,
    "pycharm": {
     "name": "#%% md\n"
    }
   }
  },
  {
   "cell_type": "code",
   "execution_count": 7,
   "outputs": [],
   "source": [
    "lien_df = pd.read_csv('../data/lien_df1_29_01_23_filled_na_zeros.csv', sep=';')"
   ],
   "metadata": {
    "collapsed": false,
    "pycharm": {
     "name": "#%%\n"
    }
   }
  },
  {
   "cell_type": "code",
   "execution_count": 8,
   "outputs": [],
   "source": [
    "lien_df = lien_df.loc[lien_df['price_value'] < lien_df['price_value'].quantile(.87)]"
   ],
   "metadata": {
    "collapsed": false,
    "pycharm": {
     "name": "#%%\n"
    }
   }
  },
  {
   "cell_type": "code",
   "execution_count": 9,
   "outputs": [],
   "source": [
    "selected_df = lien_df[['views', 'contact_name', 'seller_name', 'square', 'cadastral_geocode', 'region_geocode','shown_by_days', 'distance', 'region_square', 'population', 'region_capital', 'grp', 'criminality', 'km_to_msk', 'region_capital_geocode', 'km_to_region_capital',  'price_value']].copy()"
   ],
   "metadata": {
    "collapsed": false,
    "pycharm": {
     "name": "#%%\n"
    }
   }
  },
  {
   "cell_type": "code",
   "execution_count": 10,
   "outputs": [],
   "source": [
    "selected_df = selected_df.dropna()  # пока поработаем без null"
   ],
   "metadata": {
    "collapsed": false,
    "pycharm": {
     "name": "#%%\n"
    }
   }
  },
  {
   "cell_type": "code",
   "execution_count": 11,
   "outputs": [
    {
     "data": {
      "text/plain": "(702, 17)"
     },
     "execution_count": 11,
     "metadata": {},
     "output_type": "execute_result"
    }
   ],
   "source": [
    "selected_df.shape"
   ],
   "metadata": {
    "collapsed": false,
    "pycharm": {
     "name": "#%%\n"
    }
   }
  },
  {
   "cell_type": "code",
   "execution_count": 44,
   "outputs": [],
   "source": [
    "# todo надо вырезать outliers"
   ],
   "metadata": {
    "collapsed": false,
    "pycharm": {
     "name": "#%%\n"
    }
   }
  },
  {
   "cell_type": "code",
   "execution_count": 45,
   "outputs": [],
   "source": [
    "# Linear Regression"
   ],
   "metadata": {
    "collapsed": false,
    "pycharm": {
     "name": "#%%\n"
    }
   }
  },
  {
   "cell_type": "code",
   "execution_count": 46,
   "outputs": [],
   "source": [
    "# all metrics\n",
    "metrics_names = ['mape', 'mae', 'explained_variance_score', 'max_error', 'mse', 'r2', 'd2_ae', 'd2_pinball', 'd2_tweedie']"
   ],
   "metadata": {
    "collapsed": false,
    "pycharm": {
     "name": "#%%\n"
    }
   }
  },
  {
   "cell_type": "code",
   "execution_count": 47,
   "outputs": [
    {
     "name": "stderr",
     "output_type": "stream",
     "text": [
      "100%|██████████| 9/9 [00:00<00:00, 773.75it/s]"
     ]
    },
    {
     "name": "stdout",
     "output_type": "stream",
     "text": [
      "mape\n",
      "mae\n",
      "explained_variance_score\n",
      "max_error\n",
      "mse\n",
      "r2\n",
      "d2_ae\n",
      "d2_pinball\n",
      "d2_tweedie\n"
     ]
    },
    {
     "name": "stderr",
     "output_type": "stream",
     "text": [
      "\n"
     ]
    }
   ],
   "source": [
    "model, metrics_df, X_train_scaled, Y_train_scaled, X_test_scaled, Y_test_scaled, scaler_x_train, \\\n",
    "scaler_y_train, scaler_x_test, scaler_y_test = model_conveyor(selected_df, 'linear_regression', 'minmax', metrics_names,\n",
    "                                                              True, 'model_dumps/')"
   ],
   "metadata": {
    "collapsed": false,
    "pycharm": {
     "name": "#%%\n"
    }
   }
  },
  {
   "cell_type": "code",
   "execution_count": 48,
   "outputs": [
    {
     "name": "stderr",
     "output_type": "stream",
     "text": [
      "100%|██████████| 9/9 [00:00<00:00, 441.96it/s]"
     ]
    },
    {
     "name": "stdout",
     "output_type": "stream",
     "text": [
      "mape\n",
      "mae\n",
      "explained_variance_score\n",
      "max_error\n",
      "mse\n",
      "r2\n",
      "d2_ae\n",
      "d2_pinball\n",
      "d2_tweedie\n"
     ]
    },
    {
     "name": "stderr",
     "output_type": "stream",
     "text": [
      "\n"
     ]
    }
   ],
   "source": [
    "model, metrics_df, X_train_scaled, Y_train_scaled, X_test_scaled, Y_test_scaled, scaler_x_train, \\\n",
    "scaler_y_train, scaler_x_test, scaler_y_test = model_conveyor(selected_df, 'linear_regression_with_poly_features', 'minmax', metrics_names,\n",
    "                                                              True, 'model_dumps/', poly_degree=3)"
   ],
   "metadata": {
    "collapsed": false,
    "pycharm": {
     "name": "#%%\n"
    }
   }
  },
  {
   "cell_type": "code",
   "execution_count": 14,
   "outputs": [],
   "source": [
    "scalers_names = ['minmax', 'stdsc']"
   ],
   "metadata": {
    "collapsed": false,
    "pycharm": {
     "name": "#%%\n"
    }
   }
  },
  {
   "cell_type": "code",
   "execution_count": 16,
   "outputs": [
    {
     "name": "stdout",
     "output_type": "stream",
     "text": [
      "minmax\n"
     ]
    },
    {
     "name": "stderr",
     "output_type": "stream",
     "text": [
      "100%|██████████| 9/9 [00:00<00:00, 70.22it/s]"
     ]
    },
    {
     "name": "stdout",
     "output_type": "stream",
     "text": [
      "mape\n",
      "mae\n",
      "explained_variance_score\n",
      "max_error\n",
      "mse\n",
      "r2\n",
      "d2_ae\n",
      "d2_pinball\n",
      "d2_tweedie\n"
     ]
    },
    {
     "name": "stderr",
     "output_type": "stream",
     "text": [
      "\n"
     ]
    },
    {
     "name": "stdout",
     "output_type": "stream",
     "text": [
      "stdsc\n"
     ]
    },
    {
     "name": "stderr",
     "output_type": "stream",
     "text": [
      "100%|██████████| 9/9 [00:00<00:00, 155.19it/s]"
     ]
    },
    {
     "name": "stdout",
     "output_type": "stream",
     "text": [
      "mape\n",
      "mae\n",
      "explained_variance_score\n",
      "max_error\n",
      "mse\n",
      "r2\n",
      "d2_ae\n",
      "d2_pinball\n",
      "d2_tweedie\n"
     ]
    },
    {
     "name": "stderr",
     "output_type": "stream",
     "text": [
      "\n"
     ]
    }
   ],
   "source": [
    "for scaler_name in scalers_names:\n",
    "    print(scaler_name)\n",
    "    model, metrics_df, X_train_scaled, Y_train_scaled, X_test_scaled, Y_test_scaled, scaler_x_train, \\\n",
    "    scaler_y_train, scaler_x_test, scaler_y_test = model_conveyor(selected_df, 'linear_regression_with_poly_features', scaler_name, metrics_names, True, 'model_dumps/', poly_degree=2)"
   ],
   "metadata": {
    "collapsed": false,
    "pycharm": {
     "name": "#%%\n"
    }
   }
  },
  {
   "cell_type": "code",
   "execution_count": 60,
   "outputs": [
    {
     "data": {
      "text/plain": "(702, 17)"
     },
     "execution_count": 60,
     "metadata": {},
     "output_type": "execute_result"
    }
   ],
   "source": [
    "selected_df.dropna().shape"
   ],
   "metadata": {
    "collapsed": false,
    "pycharm": {
     "name": "#%%\n"
    }
   }
  },
  {
   "cell_type": "code",
   "execution_count": 50,
   "outputs": [],
   "source": [
    "from tqdm import tqdm"
   ],
   "metadata": {
    "collapsed": false,
    "pycharm": {
     "name": "#%%\n"
    }
   }
  },
  {
   "cell_type": "code",
   "execution_count": null,
   "outputs": [],
   "source": [],
   "metadata": {
    "collapsed": false,
    "pycharm": {
     "name": "#%%\n"
    }
   }
  },
  {
   "cell_type": "code",
   "execution_count": 49,
   "outputs": [],
   "source": [],
   "metadata": {
    "collapsed": false,
    "pycharm": {
     "name": "#%%\n"
    }
   }
  }
 ],
 "metadata": {
  "kernelspec": {
   "name": "portal_da",
   "language": "python",
   "display_name": "portal_da"
  },
  "language_info": {
   "codemirror_mode": {
    "name": "ipython",
    "version": 2
   },
   "file_extension": ".py",
   "mimetype": "text/x-python",
   "name": "python",
   "nbconvert_exporter": "python",
   "pygments_lexer": "ipython2",
   "version": "2.7.6"
  }
 },
 "nbformat": 4,
 "nbformat_minor": 0
}