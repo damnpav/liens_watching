{
 "cells": [
  {
   "cell_type": "code",
   "execution_count": 1,
   "metadata": {
    "collapsed": true,
    "pycharm": {
     "name": "#%%\n"
    }
   },
   "outputs": [],
   "source": [
    "import numpy as np\n",
    "import pandas as pd"
   ]
  },
  {
   "cell_type": "code",
   "execution_count": 2,
   "outputs": [],
   "source": [
    "lien_df = pd.read_csv('../data/lien_df1_18_01_23.csv', sep=';')"
   ],
   "metadata": {
    "collapsed": false,
    "pycharm": {
     "name": "#%%\n"
    }
   }
  },
  {
   "cell_type": "code",
   "execution_count": 3,
   "outputs": [
    {
     "data": {
      "text/plain": "     asset_id   views publication_date                      contact_name  \\\n0    814114.0  1535.0   15 ноября 2022            Контактный Центр Банка   \n1    641505.0  2311.0    31 марта 2022        Гаас Александра Георгиевна   \n2    169347.0   466.0   18 апреля 2022            Брюнель Ева Жисленовна   \n3    899895.0  1286.0     25 июня 2022  Плесняев Александр Александрович   \n4    269183.0  1057.0     17 июня 2022         Беликин Иван Владимирович   \n..        ...     ...              ...                               ...   \n827  691104.0   269.0      20 мая 2021            Коваленко Александр Ан   \n828  630263.0   279.0      20 мая 2021            Коваленко Александр Ан   \n829  177552.0   281.0      20 мая 2021            Коваленко Александр Ан   \n830  841885.0   610.0      11 мая 2021          Нуриев Эдуард Рамзилович   \n831  419254.0   461.0   22 апреля 2021        Самойленко Денис Сергеевич   \n\n                          seller_name    square  price_value  \\\n0                      Банк ВТБ (ПАО)       NaN   48700000.0   \n1                     Физическое лицо   25111.0  145500000.0   \n2                     Физическое лицо   50574.0    4500000.0   \n3    Плесняев Александр Александрович  504500.0   23450000.0   \n4           Беликин Иван Владимирович   10000.0  320000000.0   \n..                                ...       ...          ...   \n827               АО \"Россельхозбанк\"    1527.0   10709963.0   \n828               АО \"Россельхозбанк\"    1321.0    9265136.0   \n829               АО \"Россельхозбанк\"    1676.0   11755032.0   \n830               АО \"Россельхозбанк\"  150100.0     226651.0   \n831                      ПАО Сбербанк   10000.0    8270000.0   \n\n                           cadastral_geocode  \\\n0                                        NaN   \n1     [51.94720028246027, 84.88831594503662]   \n2     [56.77190698765615, 38.88962726762723]   \n3    [55.73199800626753, 35.340751735565306]   \n4      [55.7008175028533, 37.02131098410721]   \n..                                       ...   \n827   [56.21913602478085, 38.82900562858026]   \n828  [56.220926330893064, 38.83048310378695]   \n829    [56.21983629294916, 38.8300820194728]   \n830  [55.822853130025955, 52.73092958759532]   \n831   [57.14073651577907, 33.14393000643601]   \n\n                              region_geocode  shown_by_days   distance  \\\n0                   [55.6711507, 37.2727963]      64.884407        NaN   \n1                   [51.9931851, 84.9819571]     293.884407   8.221511   \n2           [56.80208355, 38.64899133747492]     275.884407  15.086412   \n3                    [55.506478, 36.0213092]     207.884407  49.688507   \n4                   [55.6711507, 37.2727963]     215.884407  16.159018   \n..                                       ...            ...        ...   \n827          [56.1345574, 38.85192758087219]     608.884408   9.524407   \n828          [56.1345574, 38.85192758087219]     608.884408   9.708539   \n829          [56.1345574, 38.85192758087219]     608.884408   9.591824   \n830  [55.682141200000004, 52.09069161386946]     617.884408  43.145711   \n831                 [57.1557583, 33.1013213]     636.884408   3.074139   \n\n     region_square  population region_capital     grp  criminality  \\\n0          44329.0   8542257.0         Москва  4201.8         72.9   \n1         167996.0   2154932.0        Барнаул   550.0        130.8   \n2          36177.0   1205637.0      Ярославль   560.6        105.1   \n3          44329.0   8542257.0         Москва  4201.8         72.9   \n4          44329.0   8542257.0         Москва  4201.8         72.9   \n..             ...         ...            ...     ...          ...   \n827        29084.0   1342235.0       Владимир   440.5         91.1   \n828        29084.0   1342235.0       Владимир   440.5         91.1   \n829        29084.0   1342235.0       Владимир   440.5         91.1   \n830        67847.0   4000084.0         Казань  2469.2        102.1   \n831        84201.0   1226038.0          Тверь   441.7        130.5   \n\n       km_to_msk           region_capital_geocode  km_to_region_capital  \n0      23.785924         [55.7504461, 37.6174943]                   NaN  \n1    3077.808288          [53.347402, 83.7784496]            172.971129  \n2     137.376612         [57.6263877, 39.8933705]            112.852414  \n3     142.859455         [55.7504461, 37.6174943]            143.008314  \n4      37.925763         [55.7504461, 37.6174943]             37.865816  \n..           ...                              ...                   ...  \n827    91.247107         [56.1288899, 40.4075203]             98.556292  \n828    91.433379         [56.1288899, 40.4075203]             98.483280  \n829    91.345769         [56.1288899, 40.4075203]             98.496885  \n830   946.305150         [55.7823547, 49.1242266]            226.197191  \n831   315.461761  [56.8596713, 35.89524161906262]            170.094175  \n\n[832 rows x 19 columns]",
      "text/html": "<div>\n<style scoped>\n    .dataframe tbody tr th:only-of-type {\n        vertical-align: middle;\n    }\n\n    .dataframe tbody tr th {\n        vertical-align: top;\n    }\n\n    .dataframe thead th {\n        text-align: right;\n    }\n</style>\n<table border=\"1\" class=\"dataframe\">\n  <thead>\n    <tr style=\"text-align: right;\">\n      <th></th>\n      <th>asset_id</th>\n      <th>views</th>\n      <th>publication_date</th>\n      <th>contact_name</th>\n      <th>seller_name</th>\n      <th>square</th>\n      <th>price_value</th>\n      <th>cadastral_geocode</th>\n      <th>region_geocode</th>\n      <th>shown_by_days</th>\n      <th>distance</th>\n      <th>region_square</th>\n      <th>population</th>\n      <th>region_capital</th>\n      <th>grp</th>\n      <th>criminality</th>\n      <th>km_to_msk</th>\n      <th>region_capital_geocode</th>\n      <th>km_to_region_capital</th>\n    </tr>\n  </thead>\n  <tbody>\n    <tr>\n      <th>0</th>\n      <td>814114.0</td>\n      <td>1535.0</td>\n      <td>15 ноября 2022</td>\n      <td>Контактный Центр Банка</td>\n      <td>Банк ВТБ (ПАО)</td>\n      <td>NaN</td>\n      <td>48700000.0</td>\n      <td>NaN</td>\n      <td>[55.6711507, 37.2727963]</td>\n      <td>64.884407</td>\n      <td>NaN</td>\n      <td>44329.0</td>\n      <td>8542257.0</td>\n      <td>Москва</td>\n      <td>4201.8</td>\n      <td>72.9</td>\n      <td>23.785924</td>\n      <td>[55.7504461, 37.6174943]</td>\n      <td>NaN</td>\n    </tr>\n    <tr>\n      <th>1</th>\n      <td>641505.0</td>\n      <td>2311.0</td>\n      <td>31 марта 2022</td>\n      <td>Гаас Александра Георгиевна</td>\n      <td>Физическое лицо</td>\n      <td>25111.0</td>\n      <td>145500000.0</td>\n      <td>[51.94720028246027, 84.88831594503662]</td>\n      <td>[51.9931851, 84.9819571]</td>\n      <td>293.884407</td>\n      <td>8.221511</td>\n      <td>167996.0</td>\n      <td>2154932.0</td>\n      <td>Барнаул</td>\n      <td>550.0</td>\n      <td>130.8</td>\n      <td>3077.808288</td>\n      <td>[53.347402, 83.7784496]</td>\n      <td>172.971129</td>\n    </tr>\n    <tr>\n      <th>2</th>\n      <td>169347.0</td>\n      <td>466.0</td>\n      <td>18 апреля 2022</td>\n      <td>Брюнель Ева Жисленовна</td>\n      <td>Физическое лицо</td>\n      <td>50574.0</td>\n      <td>4500000.0</td>\n      <td>[56.77190698765615, 38.88962726762723]</td>\n      <td>[56.80208355, 38.64899133747492]</td>\n      <td>275.884407</td>\n      <td>15.086412</td>\n      <td>36177.0</td>\n      <td>1205637.0</td>\n      <td>Ярославль</td>\n      <td>560.6</td>\n      <td>105.1</td>\n      <td>137.376612</td>\n      <td>[57.6263877, 39.8933705]</td>\n      <td>112.852414</td>\n    </tr>\n    <tr>\n      <th>3</th>\n      <td>899895.0</td>\n      <td>1286.0</td>\n      <td>25 июня 2022</td>\n      <td>Плесняев Александр Александрович</td>\n      <td>Плесняев Александр Александрович</td>\n      <td>504500.0</td>\n      <td>23450000.0</td>\n      <td>[55.73199800626753, 35.340751735565306]</td>\n      <td>[55.506478, 36.0213092]</td>\n      <td>207.884407</td>\n      <td>49.688507</td>\n      <td>44329.0</td>\n      <td>8542257.0</td>\n      <td>Москва</td>\n      <td>4201.8</td>\n      <td>72.9</td>\n      <td>142.859455</td>\n      <td>[55.7504461, 37.6174943]</td>\n      <td>143.008314</td>\n    </tr>\n    <tr>\n      <th>4</th>\n      <td>269183.0</td>\n      <td>1057.0</td>\n      <td>17 июня 2022</td>\n      <td>Беликин Иван Владимирович</td>\n      <td>Беликин Иван Владимирович</td>\n      <td>10000.0</td>\n      <td>320000000.0</td>\n      <td>[55.7008175028533, 37.02131098410721]</td>\n      <td>[55.6711507, 37.2727963]</td>\n      <td>215.884407</td>\n      <td>16.159018</td>\n      <td>44329.0</td>\n      <td>8542257.0</td>\n      <td>Москва</td>\n      <td>4201.8</td>\n      <td>72.9</td>\n      <td>37.925763</td>\n      <td>[55.7504461, 37.6174943]</td>\n      <td>37.865816</td>\n    </tr>\n    <tr>\n      <th>...</th>\n      <td>...</td>\n      <td>...</td>\n      <td>...</td>\n      <td>...</td>\n      <td>...</td>\n      <td>...</td>\n      <td>...</td>\n      <td>...</td>\n      <td>...</td>\n      <td>...</td>\n      <td>...</td>\n      <td>...</td>\n      <td>...</td>\n      <td>...</td>\n      <td>...</td>\n      <td>...</td>\n      <td>...</td>\n      <td>...</td>\n      <td>...</td>\n    </tr>\n    <tr>\n      <th>827</th>\n      <td>691104.0</td>\n      <td>269.0</td>\n      <td>20 мая 2021</td>\n      <td>Коваленко Александр Ан</td>\n      <td>АО \"Россельхозбанк\"</td>\n      <td>1527.0</td>\n      <td>10709963.0</td>\n      <td>[56.21913602478085, 38.82900562858026]</td>\n      <td>[56.1345574, 38.85192758087219]</td>\n      <td>608.884408</td>\n      <td>9.524407</td>\n      <td>29084.0</td>\n      <td>1342235.0</td>\n      <td>Владимир</td>\n      <td>440.5</td>\n      <td>91.1</td>\n      <td>91.247107</td>\n      <td>[56.1288899, 40.4075203]</td>\n      <td>98.556292</td>\n    </tr>\n    <tr>\n      <th>828</th>\n      <td>630263.0</td>\n      <td>279.0</td>\n      <td>20 мая 2021</td>\n      <td>Коваленко Александр Ан</td>\n      <td>АО \"Россельхозбанк\"</td>\n      <td>1321.0</td>\n      <td>9265136.0</td>\n      <td>[56.220926330893064, 38.83048310378695]</td>\n      <td>[56.1345574, 38.85192758087219]</td>\n      <td>608.884408</td>\n      <td>9.708539</td>\n      <td>29084.0</td>\n      <td>1342235.0</td>\n      <td>Владимир</td>\n      <td>440.5</td>\n      <td>91.1</td>\n      <td>91.433379</td>\n      <td>[56.1288899, 40.4075203]</td>\n      <td>98.483280</td>\n    </tr>\n    <tr>\n      <th>829</th>\n      <td>177552.0</td>\n      <td>281.0</td>\n      <td>20 мая 2021</td>\n      <td>Коваленко Александр Ан</td>\n      <td>АО \"Россельхозбанк\"</td>\n      <td>1676.0</td>\n      <td>11755032.0</td>\n      <td>[56.21983629294916, 38.8300820194728]</td>\n      <td>[56.1345574, 38.85192758087219]</td>\n      <td>608.884408</td>\n      <td>9.591824</td>\n      <td>29084.0</td>\n      <td>1342235.0</td>\n      <td>Владимир</td>\n      <td>440.5</td>\n      <td>91.1</td>\n      <td>91.345769</td>\n      <td>[56.1288899, 40.4075203]</td>\n      <td>98.496885</td>\n    </tr>\n    <tr>\n      <th>830</th>\n      <td>841885.0</td>\n      <td>610.0</td>\n      <td>11 мая 2021</td>\n      <td>Нуриев Эдуард Рамзилович</td>\n      <td>АО \"Россельхозбанк\"</td>\n      <td>150100.0</td>\n      <td>226651.0</td>\n      <td>[55.822853130025955, 52.73092958759532]</td>\n      <td>[55.682141200000004, 52.09069161386946]</td>\n      <td>617.884408</td>\n      <td>43.145711</td>\n      <td>67847.0</td>\n      <td>4000084.0</td>\n      <td>Казань</td>\n      <td>2469.2</td>\n      <td>102.1</td>\n      <td>946.305150</td>\n      <td>[55.7823547, 49.1242266]</td>\n      <td>226.197191</td>\n    </tr>\n    <tr>\n      <th>831</th>\n      <td>419254.0</td>\n      <td>461.0</td>\n      <td>22 апреля 2021</td>\n      <td>Самойленко Денис Сергеевич</td>\n      <td>ПАО Сбербанк</td>\n      <td>10000.0</td>\n      <td>8270000.0</td>\n      <td>[57.14073651577907, 33.14393000643601]</td>\n      <td>[57.1557583, 33.1013213]</td>\n      <td>636.884408</td>\n      <td>3.074139</td>\n      <td>84201.0</td>\n      <td>1226038.0</td>\n      <td>Тверь</td>\n      <td>441.7</td>\n      <td>130.5</td>\n      <td>315.461761</td>\n      <td>[56.8596713, 35.89524161906262]</td>\n      <td>170.094175</td>\n    </tr>\n  </tbody>\n</table>\n<p>832 rows × 19 columns</p>\n</div>"
     },
     "execution_count": 3,
     "metadata": {},
     "output_type": "execute_result"
    }
   ],
   "source": [
    "lien_df"
   ],
   "metadata": {
    "collapsed": false,
    "pycharm": {
     "name": "#%%\n"
    }
   }
  },
  {
   "cell_type": "code",
   "execution_count": 4,
   "outputs": [],
   "source": [
    "selected_df = lien_df[['views', 'contact_name', 'seller_name', 'square', 'shown_by_days', 'distance', 'region_square', 'region_capital',\n",
    "                       'grp', 'criminality', 'km_to_msk', 'km_to_region_capital', 'price_value']].copy()"
   ],
   "metadata": {
    "collapsed": false,
    "pycharm": {
     "name": "#%%\n"
    }
   }
  },
  {
   "cell_type": "code",
   "execution_count": 5,
   "outputs": [
    {
     "data": {
      "text/plain": "views                   float64\ncontact_name             object\nseller_name              object\nsquare                  float64\nshown_by_days           float64\ndistance                float64\nregion_square           float64\nregion_capital           object\ngrp                     float64\ncriminality             float64\nkm_to_msk               float64\nkm_to_region_capital    float64\nprice_value             float64\ndtype: object"
     },
     "execution_count": 5,
     "metadata": {},
     "output_type": "execute_result"
    }
   ],
   "source": [
    "selected_df.dtypes"
   ],
   "metadata": {
    "collapsed": false,
    "pycharm": {
     "name": "#%%\n"
    }
   }
  },
  {
   "cell_type": "code",
   "execution_count": 6,
   "outputs": [],
   "source": [
    "from sklearn.preprocessing import *"
   ],
   "metadata": {
    "collapsed": false,
    "pycharm": {
     "name": "#%%\n"
    }
   }
  },
  {
   "cell_type": "code",
   "execution_count": 9,
   "outputs": [],
   "source": [
    "def one_hot_encoder_two(data,feature,keep_first=True):\n",
    "\n",
    "    one_hot_cols = pd.get_dummies(data[feature])\n",
    "\n",
    "    for col in one_hot_cols.columns:\n",
    "        one_hot_cols.rename({col:f'{feature}_'+col},axis=1,inplace=True)\n",
    "\n",
    "    new_data = pd.concat([data,one_hot_cols],axis=1)\n",
    "    new_data.drop(feature,axis=1,inplace=True)\n",
    "\n",
    "    if keep_first == False:\n",
    "        new_data=new_data.iloc[:,1:]\n",
    "\n",
    "    return new_data"
   ],
   "metadata": {
    "collapsed": false,
    "pycharm": {
     "name": "#%%\n"
    }
   }
  },
  {
   "cell_type": "code",
   "execution_count": 10,
   "outputs": [
    {
     "data": {
      "text/plain": "      views                      contact_name  \\\n0    1535.0            Контактный Центр Банка   \n1    2311.0        Гаас Александра Георгиевна   \n2     466.0            Брюнель Ева Жисленовна   \n3    1286.0  Плесняев Александр Александрович   \n4    1057.0         Беликин Иван Владимирович   \n..      ...                               ...   \n827   269.0            Коваленко Александр Ан   \n828   279.0            Коваленко Александр Ан   \n829   281.0            Коваленко Александр Ан   \n830   610.0          Нуриев Эдуард Рамзилович   \n831   461.0        Самойленко Денис Сергеевич   \n\n                          seller_name    square  shown_by_days   distance  \\\n0                      Банк ВТБ (ПАО)       NaN      64.884407        NaN   \n1                     Физическое лицо   25111.0     293.884407   8.221511   \n2                     Физическое лицо   50574.0     275.884407  15.086412   \n3    Плесняев Александр Александрович  504500.0     207.884407  49.688507   \n4           Беликин Иван Владимирович   10000.0     215.884407  16.159018   \n..                                ...       ...            ...        ...   \n827               АО \"Россельхозбанк\"    1527.0     608.884408   9.524407   \n828               АО \"Россельхозбанк\"    1321.0     608.884408   9.708539   \n829               АО \"Россельхозбанк\"    1676.0     608.884408   9.591824   \n830               АО \"Россельхозбанк\"  150100.0     617.884408  43.145711   \n831                      ПАО Сбербанк   10000.0     636.884408   3.074139   \n\n     region_square region_capital     grp  criminality    km_to_msk  \\\n0          44329.0         Москва  4201.8         72.9    23.785924   \n1         167996.0        Барнаул   550.0        130.8  3077.808288   \n2          36177.0      Ярославль   560.6        105.1   137.376612   \n3          44329.0         Москва  4201.8         72.9   142.859455   \n4          44329.0         Москва  4201.8         72.9    37.925763   \n..             ...            ...     ...          ...          ...   \n827        29084.0       Владимир   440.5         91.1    91.247107   \n828        29084.0       Владимир   440.5         91.1    91.433379   \n829        29084.0       Владимир   440.5         91.1    91.345769   \n830        67847.0         Казань  2469.2        102.1   946.305150   \n831        84201.0          Тверь   441.7        130.5   315.461761   \n\n     km_to_region_capital  price_value  \n0                     NaN   48700000.0  \n1              172.971129  145500000.0  \n2              112.852414    4500000.0  \n3              143.008314   23450000.0  \n4               37.865816  320000000.0  \n..                    ...          ...  \n827             98.556292   10709963.0  \n828             98.483280    9265136.0  \n829             98.496885   11755032.0  \n830            226.197191     226651.0  \n831            170.094175    8270000.0  \n\n[832 rows x 13 columns]",
      "text/html": "<div>\n<style scoped>\n    .dataframe tbody tr th:only-of-type {\n        vertical-align: middle;\n    }\n\n    .dataframe tbody tr th {\n        vertical-align: top;\n    }\n\n    .dataframe thead th {\n        text-align: right;\n    }\n</style>\n<table border=\"1\" class=\"dataframe\">\n  <thead>\n    <tr style=\"text-align: right;\">\n      <th></th>\n      <th>views</th>\n      <th>contact_name</th>\n      <th>seller_name</th>\n      <th>square</th>\n      <th>shown_by_days</th>\n      <th>distance</th>\n      <th>region_square</th>\n      <th>region_capital</th>\n      <th>grp</th>\n      <th>criminality</th>\n      <th>km_to_msk</th>\n      <th>km_to_region_capital</th>\n      <th>price_value</th>\n    </tr>\n  </thead>\n  <tbody>\n    <tr>\n      <th>0</th>\n      <td>1535.0</td>\n      <td>Контактный Центр Банка</td>\n      <td>Банк ВТБ (ПАО)</td>\n      <td>NaN</td>\n      <td>64.884407</td>\n      <td>NaN</td>\n      <td>44329.0</td>\n      <td>Москва</td>\n      <td>4201.8</td>\n      <td>72.9</td>\n      <td>23.785924</td>\n      <td>NaN</td>\n      <td>48700000.0</td>\n    </tr>\n    <tr>\n      <th>1</th>\n      <td>2311.0</td>\n      <td>Гаас Александра Георгиевна</td>\n      <td>Физическое лицо</td>\n      <td>25111.0</td>\n      <td>293.884407</td>\n      <td>8.221511</td>\n      <td>167996.0</td>\n      <td>Барнаул</td>\n      <td>550.0</td>\n      <td>130.8</td>\n      <td>3077.808288</td>\n      <td>172.971129</td>\n      <td>145500000.0</td>\n    </tr>\n    <tr>\n      <th>2</th>\n      <td>466.0</td>\n      <td>Брюнель Ева Жисленовна</td>\n      <td>Физическое лицо</td>\n      <td>50574.0</td>\n      <td>275.884407</td>\n      <td>15.086412</td>\n      <td>36177.0</td>\n      <td>Ярославль</td>\n      <td>560.6</td>\n      <td>105.1</td>\n      <td>137.376612</td>\n      <td>112.852414</td>\n      <td>4500000.0</td>\n    </tr>\n    <tr>\n      <th>3</th>\n      <td>1286.0</td>\n      <td>Плесняев Александр Александрович</td>\n      <td>Плесняев Александр Александрович</td>\n      <td>504500.0</td>\n      <td>207.884407</td>\n      <td>49.688507</td>\n      <td>44329.0</td>\n      <td>Москва</td>\n      <td>4201.8</td>\n      <td>72.9</td>\n      <td>142.859455</td>\n      <td>143.008314</td>\n      <td>23450000.0</td>\n    </tr>\n    <tr>\n      <th>4</th>\n      <td>1057.0</td>\n      <td>Беликин Иван Владимирович</td>\n      <td>Беликин Иван Владимирович</td>\n      <td>10000.0</td>\n      <td>215.884407</td>\n      <td>16.159018</td>\n      <td>44329.0</td>\n      <td>Москва</td>\n      <td>4201.8</td>\n      <td>72.9</td>\n      <td>37.925763</td>\n      <td>37.865816</td>\n      <td>320000000.0</td>\n    </tr>\n    <tr>\n      <th>...</th>\n      <td>...</td>\n      <td>...</td>\n      <td>...</td>\n      <td>...</td>\n      <td>...</td>\n      <td>...</td>\n      <td>...</td>\n      <td>...</td>\n      <td>...</td>\n      <td>...</td>\n      <td>...</td>\n      <td>...</td>\n      <td>...</td>\n    </tr>\n    <tr>\n      <th>827</th>\n      <td>269.0</td>\n      <td>Коваленко Александр Ан</td>\n      <td>АО \"Россельхозбанк\"</td>\n      <td>1527.0</td>\n      <td>608.884408</td>\n      <td>9.524407</td>\n      <td>29084.0</td>\n      <td>Владимир</td>\n      <td>440.5</td>\n      <td>91.1</td>\n      <td>91.247107</td>\n      <td>98.556292</td>\n      <td>10709963.0</td>\n    </tr>\n    <tr>\n      <th>828</th>\n      <td>279.0</td>\n      <td>Коваленко Александр Ан</td>\n      <td>АО \"Россельхозбанк\"</td>\n      <td>1321.0</td>\n      <td>608.884408</td>\n      <td>9.708539</td>\n      <td>29084.0</td>\n      <td>Владимир</td>\n      <td>440.5</td>\n      <td>91.1</td>\n      <td>91.433379</td>\n      <td>98.483280</td>\n      <td>9265136.0</td>\n    </tr>\n    <tr>\n      <th>829</th>\n      <td>281.0</td>\n      <td>Коваленко Александр Ан</td>\n      <td>АО \"Россельхозбанк\"</td>\n      <td>1676.0</td>\n      <td>608.884408</td>\n      <td>9.591824</td>\n      <td>29084.0</td>\n      <td>Владимир</td>\n      <td>440.5</td>\n      <td>91.1</td>\n      <td>91.345769</td>\n      <td>98.496885</td>\n      <td>11755032.0</td>\n    </tr>\n    <tr>\n      <th>830</th>\n      <td>610.0</td>\n      <td>Нуриев Эдуард Рамзилович</td>\n      <td>АО \"Россельхозбанк\"</td>\n      <td>150100.0</td>\n      <td>617.884408</td>\n      <td>43.145711</td>\n      <td>67847.0</td>\n      <td>Казань</td>\n      <td>2469.2</td>\n      <td>102.1</td>\n      <td>946.305150</td>\n      <td>226.197191</td>\n      <td>226651.0</td>\n    </tr>\n    <tr>\n      <th>831</th>\n      <td>461.0</td>\n      <td>Самойленко Денис Сергеевич</td>\n      <td>ПАО Сбербанк</td>\n      <td>10000.0</td>\n      <td>636.884408</td>\n      <td>3.074139</td>\n      <td>84201.0</td>\n      <td>Тверь</td>\n      <td>441.7</td>\n      <td>130.5</td>\n      <td>315.461761</td>\n      <td>170.094175</td>\n      <td>8270000.0</td>\n    </tr>\n  </tbody>\n</table>\n<p>832 rows × 13 columns</p>\n</div>"
     },
     "execution_count": 10,
     "metadata": {},
     "output_type": "execute_result"
    }
   ],
   "source": [
    "selected_df"
   ],
   "metadata": {
    "collapsed": false,
    "pycharm": {
     "name": "#%%\n"
    }
   }
  },
  {
   "cell_type": "code",
   "execution_count": null,
   "outputs": [],
   "source": [],
   "metadata": {
    "collapsed": false,
    "pycharm": {
     "name": "#%%\n"
    }
   }
  },
  {
   "cell_type": "code",
   "execution_count": 7,
   "outputs": [],
   "source": [
    "selected_df = selected_df.dropna()"
   ],
   "metadata": {
    "collapsed": false,
    "pycharm": {
     "name": "#%%\n"
    }
   }
  },
  {
   "cell_type": "code",
   "execution_count": null,
   "outputs": [],
   "source": [],
   "metadata": {
    "collapsed": false,
    "pycharm": {
     "name": "#%%\n"
    }
   }
  },
  {
   "cell_type": "code",
   "execution_count": 16,
   "outputs": [],
   "source": [
    "le = LabelEncoder()\n",
    "label_encoded_df = selected_df[['contact_name', 'seller_name', 'region_capital']].copy()\n",
    "for col in label_encoded_df.select_dtypes(include='O').columns:\n",
    "    label_encoded_df[col]=le.fit_transform(label_encoded_df[col])"
   ],
   "metadata": {
    "collapsed": false,
    "pycharm": {
     "name": "#%%\n"
    }
   }
  },
  {
   "cell_type": "code",
   "execution_count": null,
   "outputs": [],
   "source": [],
   "metadata": {
    "collapsed": false,
    "pycharm": {
     "name": "#%%\n"
    }
   }
  },
  {
   "cell_type": "code",
   "execution_count": 10,
   "outputs": [
    {
     "data": {
      "text/plain": "     contact_name  seller_name  region_capital\n1              18           51               1\n2              13           51              52\n3              76           44              26\n4               7            7              26\n5              73           42              36\n..            ...          ...             ...\n827            51            2               6\n828            51            2               6\n829            51            2               6\n830            70            2              15\n831            80           42              43\n\n[300 rows x 3 columns]",
      "text/html": "<div>\n<style scoped>\n    .dataframe tbody tr th:only-of-type {\n        vertical-align: middle;\n    }\n\n    .dataframe tbody tr th {\n        vertical-align: top;\n    }\n\n    .dataframe thead th {\n        text-align: right;\n    }\n</style>\n<table border=\"1\" class=\"dataframe\">\n  <thead>\n    <tr style=\"text-align: right;\">\n      <th></th>\n      <th>contact_name</th>\n      <th>seller_name</th>\n      <th>region_capital</th>\n    </tr>\n  </thead>\n  <tbody>\n    <tr>\n      <th>1</th>\n      <td>18</td>\n      <td>51</td>\n      <td>1</td>\n    </tr>\n    <tr>\n      <th>2</th>\n      <td>13</td>\n      <td>51</td>\n      <td>52</td>\n    </tr>\n    <tr>\n      <th>3</th>\n      <td>76</td>\n      <td>44</td>\n      <td>26</td>\n    </tr>\n    <tr>\n      <th>4</th>\n      <td>7</td>\n      <td>7</td>\n      <td>26</td>\n    </tr>\n    <tr>\n      <th>5</th>\n      <td>73</td>\n      <td>42</td>\n      <td>36</td>\n    </tr>\n    <tr>\n      <th>...</th>\n      <td>...</td>\n      <td>...</td>\n      <td>...</td>\n    </tr>\n    <tr>\n      <th>827</th>\n      <td>51</td>\n      <td>2</td>\n      <td>6</td>\n    </tr>\n    <tr>\n      <th>828</th>\n      <td>51</td>\n      <td>2</td>\n      <td>6</td>\n    </tr>\n    <tr>\n      <th>829</th>\n      <td>51</td>\n      <td>2</td>\n      <td>6</td>\n    </tr>\n    <tr>\n      <th>830</th>\n      <td>70</td>\n      <td>2</td>\n      <td>15</td>\n    </tr>\n    <tr>\n      <th>831</th>\n      <td>80</td>\n      <td>42</td>\n      <td>43</td>\n    </tr>\n  </tbody>\n</table>\n<p>300 rows × 3 columns</p>\n</div>"
     },
     "execution_count": 10,
     "metadata": {},
     "output_type": "execute_result"
    }
   ],
   "source": [
    "label_encoded_df"
   ],
   "metadata": {
    "collapsed": false,
    "pycharm": {
     "name": "#%%\n"
    }
   }
  },
  {
   "cell_type": "code",
   "execution_count": 11,
   "outputs": [],
   "source": [
    "filled_df = pd.concat([selected_df[list(set(selected_df.columns) - set(['contact_name', 'seller_name', 'region_capital', 'price_value']))], label_encoded_df], axis=1)"
   ],
   "metadata": {
    "collapsed": false,
    "pycharm": {
     "name": "#%%\n"
    }
   }
  },
  {
   "cell_type": "code",
   "execution_count": 12,
   "outputs": [
    {
     "data": {
      "text/plain": "(300, 12)"
     },
     "execution_count": 12,
     "metadata": {},
     "output_type": "execute_result"
    }
   ],
   "source": [
    "filled_df.shape"
   ],
   "metadata": {
    "collapsed": false,
    "pycharm": {
     "name": "#%%\n"
    }
   }
  },
  {
   "cell_type": "code",
   "execution_count": null,
   "outputs": [],
   "source": [],
   "metadata": {
    "collapsed": false,
    "pycharm": {
     "name": "#%%\n"
    }
   }
  },
  {
   "cell_type": "code",
   "execution_count": 13,
   "outputs": [],
   "source": [
    "train_df = filled_df[:270]\n",
    "test_df = filled_df[270:]"
   ],
   "metadata": {
    "collapsed": false,
    "pycharm": {
     "name": "#%%\n"
    }
   }
  },
  {
   "cell_type": "code",
   "execution_count": 17,
   "outputs": [
    {
     "ename": "NameError",
     "evalue": "name 'LinearRegression' is not defined",
     "output_type": "error",
     "traceback": [
      "\u001B[0;31m---------------------------------------------------------------------------\u001B[0m",
      "\u001B[0;31mNameError\u001B[0m                                 Traceback (most recent call last)",
      "Input \u001B[0;32mIn [17]\u001B[0m, in \u001B[0;36m<cell line: 1>\u001B[0;34m()\u001B[0m\n\u001B[0;32m----> 1\u001B[0m regression \u001B[38;5;241m=\u001B[39m \u001B[43mLinearRegression\u001B[49m()\n",
      "\u001B[0;31mNameError\u001B[0m: name 'LinearRegression' is not defined"
     ]
    }
   ],
   "source": [
    "regression = LinearRegression()"
   ],
   "metadata": {
    "collapsed": false,
    "pycharm": {
     "name": "#%%\n"
    }
   }
  },
  {
   "cell_type": "code",
   "execution_count": 53,
   "outputs": [],
   "source": [
    "model = regression.fit(train_df.fillna(0), selected_df['price_value'][:270].fillna(0))"
   ],
   "metadata": {
    "collapsed": false,
    "pycharm": {
     "name": "#%%\n"
    }
   }
  },
  {
   "cell_type": "code",
   "execution_count": 54,
   "outputs": [
    {
     "data": {
      "text/plain": "array([-1.45291902e+04,  3.38987306e+04, -2.76730604e+05,  1.62726439e+04,\n        3.86170728e+03, -3.65365828e+04, -1.47677321e+04, -1.55207201e+01,\n        4.99414587e-01, -1.80361172e+05,  3.32094599e+05, -5.55180263e+04])"
     },
     "execution_count": 54,
     "metadata": {},
     "output_type": "execute_result"
    }
   ],
   "source": [
    "model.coef_"
   ],
   "metadata": {
    "collapsed": false,
    "pycharm": {
     "name": "#%%\n"
    }
   }
  },
  {
   "cell_type": "code",
   "execution_count": null,
   "outputs": [],
   "source": [],
   "metadata": {
    "collapsed": false,
    "pycharm": {
     "name": "#%%\n"
    }
   }
  },
  {
   "cell_type": "code",
   "execution_count": 56,
   "outputs": [
    {
     "data": {
      "text/plain": "19780429.345412"
     },
     "execution_count": 56,
     "metadata": {},
     "output_type": "execute_result"
    }
   ],
   "source": [
    "model.predict(train_df[154:155].fillna(0))[0]"
   ],
   "metadata": {
    "collapsed": false,
    "pycharm": {
     "name": "#%%\n"
    }
   }
  },
  {
   "cell_type": "code",
   "execution_count": 43,
   "outputs": [],
   "source": [],
   "metadata": {
    "collapsed": false,
    "pycharm": {
     "name": "#%%\n"
    }
   }
  },
  {
   "cell_type": "code",
   "execution_count": 45,
   "outputs": [
    {
     "data": {
      "text/plain": "     views  shown_by_days  criminality     grp    km_to_msk  \\\n154  145.0      64.884408        119.0  1259.4  1718.489257   \n\n     km_to_region_capital  distance  region_square  square  contact_name  \\\n154                   NaN       NaN      1464173.0     NaN            69   \n\n     seller_name  region_capital  \n154           12              54  ",
      "text/html": "<div>\n<style scoped>\n    .dataframe tbody tr th:only-of-type {\n        vertical-align: middle;\n    }\n\n    .dataframe tbody tr th {\n        vertical-align: top;\n    }\n\n    .dataframe thead th {\n        text-align: right;\n    }\n</style>\n<table border=\"1\" class=\"dataframe\">\n  <thead>\n    <tr style=\"text-align: right;\">\n      <th></th>\n      <th>views</th>\n      <th>shown_by_days</th>\n      <th>criminality</th>\n      <th>grp</th>\n      <th>km_to_msk</th>\n      <th>km_to_region_capital</th>\n      <th>distance</th>\n      <th>region_square</th>\n      <th>square</th>\n      <th>contact_name</th>\n      <th>seller_name</th>\n      <th>region_capital</th>\n    </tr>\n  </thead>\n  <tbody>\n    <tr>\n      <th>154</th>\n      <td>145.0</td>\n      <td>64.884408</td>\n      <td>119.0</td>\n      <td>1259.4</td>\n      <td>1718.489257</td>\n      <td>NaN</td>\n      <td>NaN</td>\n      <td>1464173.0</td>\n      <td>NaN</td>\n      <td>69</td>\n      <td>12</td>\n      <td>54</td>\n    </tr>\n  </tbody>\n</table>\n</div>"
     },
     "execution_count": 45,
     "metadata": {},
     "output_type": "execute_result"
    }
   ],
   "source": [
    "train_df[154:155]"
   ],
   "metadata": {
    "collapsed": false,
    "pycharm": {
     "name": "#%%\n"
    }
   }
  },
  {
   "cell_type": "code",
   "execution_count": 55,
   "outputs": [
    {
     "data": {
      "text/plain": "     views                 contact_name   seller_name  square  shown_by_days  \\\n626  189.0  Сорокина Валерия Валерьевна  ПАО Сбербанк   200.0     195.884408   \n\n      distance  region_square region_capital     grp  criminality  \\\n626  11.418301       142947.0            Уфа  1673.7         96.2   \n\n       km_to_msk  km_to_region_capital  price_value  \n626  1173.106583             80.622672      25680.0  ",
      "text/html": "<div>\n<style scoped>\n    .dataframe tbody tr th:only-of-type {\n        vertical-align: middle;\n    }\n\n    .dataframe tbody tr th {\n        vertical-align: top;\n    }\n\n    .dataframe thead th {\n        text-align: right;\n    }\n</style>\n<table border=\"1\" class=\"dataframe\">\n  <thead>\n    <tr style=\"text-align: right;\">\n      <th></th>\n      <th>views</th>\n      <th>contact_name</th>\n      <th>seller_name</th>\n      <th>square</th>\n      <th>shown_by_days</th>\n      <th>distance</th>\n      <th>region_square</th>\n      <th>region_capital</th>\n      <th>grp</th>\n      <th>criminality</th>\n      <th>km_to_msk</th>\n      <th>km_to_region_capital</th>\n      <th>price_value</th>\n    </tr>\n  </thead>\n  <tbody>\n    <tr>\n      <th>626</th>\n      <td>189.0</td>\n      <td>Сорокина Валерия Валерьевна</td>\n      <td>ПАО Сбербанк</td>\n      <td>200.0</td>\n      <td>195.884408</td>\n      <td>11.418301</td>\n      <td>142947.0</td>\n      <td>Уфа</td>\n      <td>1673.7</td>\n      <td>96.2</td>\n      <td>1173.106583</td>\n      <td>80.622672</td>\n      <td>25680.0</td>\n    </tr>\n  </tbody>\n</table>\n</div>"
     },
     "execution_count": 55,
     "metadata": {},
     "output_type": "execute_result"
    }
   ],
   "source": [
    "selected_df[154:155]"
   ],
   "metadata": {
    "collapsed": false,
    "pycharm": {
     "name": "#%%\n"
    }
   }
  },
  {
   "cell_type": "code",
   "execution_count": null,
   "outputs": [],
   "source": [],
   "metadata": {
    "collapsed": false,
    "pycharm": {
     "name": "#%%\n"
    }
   }
  },
  {
   "cell_type": "code",
   "execution_count": 27,
   "outputs": [],
   "source": [
    "from sklearn.linear_model import LinearRegression"
   ],
   "metadata": {
    "collapsed": false,
    "pycharm": {
     "name": "#%%\n"
    }
   }
  },
  {
   "cell_type": "code",
   "execution_count": null,
   "outputs": [],
   "source": [],
   "metadata": {
    "collapsed": false,
    "pycharm": {
     "name": "#%%\n"
    }
   }
  },
  {
   "cell_type": "code",
   "execution_count": null,
   "outputs": [],
   "source": [],
   "metadata": {
    "collapsed": false,
    "pycharm": {
     "name": "#%%\n"
    }
   }
  },
  {
   "cell_type": "code",
   "execution_count": 31,
   "outputs": [
    {
     "data": {
      "text/plain": "      views  shown_by_days  criminality     grp    km_to_msk  \\\n0    1535.0      64.884407         72.9  4201.8    23.785924   \n1    2311.0     293.884407        130.8   550.0  3077.808288   \n2     466.0     275.884407        105.1   560.6   137.376612   \n3    1286.0     207.884407         72.9  4201.8   142.859455   \n4    1057.0     215.884407         72.9  4201.8    37.925763   \n..      ...            ...          ...     ...          ...   \n695   761.0     351.884408         86.0  4193.5   661.697638   \n696   403.0     357.884408         64.6   383.1   211.107380   \n697   290.0     357.884408        130.8   550.0  2944.551449   \n698   344.0     359.884408        122.5  1318.5  1221.029232   \n699   313.0     359.884408        122.5  1318.5  1221.092906   \n\n     km_to_region_capital   distance  region_square    square  contact_name  \\\n0                     NaN        NaN        44329.0       NaN            69   \n1              172.971129   8.221511       167996.0   25111.0            24   \n2              112.852414  15.086412        36177.0   50574.0            18   \n3              143.008314  49.688507        44329.0  504500.0           112   \n4               37.865816  16.159018        44329.0   10000.0            10   \n..                    ...        ...            ...       ...           ...   \n695                   NaN        NaN         1403.0    1100.0           121   \n696             28.050180  28.231895        39605.0     660.0           159   \n697                   NaN        NaN       167996.0    1700.0            22   \n698             91.532742  17.631267       160236.0  548800.0            41   \n699             91.541580  17.622324       160236.0  557200.0            41   \n\n     seller_name  region_capital  \n0             12              33  \n1             75               2  \n2             75              63  \n3             65              33  \n4             13              33  \n..           ...             ...  \n695           82              46  \n696           75              44  \n697           75               2  \n698           62              40  \n699           62              40  \n\n[700 rows x 12 columns]",
      "text/html": "<div>\n<style scoped>\n    .dataframe tbody tr th:only-of-type {\n        vertical-align: middle;\n    }\n\n    .dataframe tbody tr th {\n        vertical-align: top;\n    }\n\n    .dataframe thead th {\n        text-align: right;\n    }\n</style>\n<table border=\"1\" class=\"dataframe\">\n  <thead>\n    <tr style=\"text-align: right;\">\n      <th></th>\n      <th>views</th>\n      <th>shown_by_days</th>\n      <th>criminality</th>\n      <th>grp</th>\n      <th>km_to_msk</th>\n      <th>km_to_region_capital</th>\n      <th>distance</th>\n      <th>region_square</th>\n      <th>square</th>\n      <th>contact_name</th>\n      <th>seller_name</th>\n      <th>region_capital</th>\n    </tr>\n  </thead>\n  <tbody>\n    <tr>\n      <th>0</th>\n      <td>1535.0</td>\n      <td>64.884407</td>\n      <td>72.9</td>\n      <td>4201.8</td>\n      <td>23.785924</td>\n      <td>NaN</td>\n      <td>NaN</td>\n      <td>44329.0</td>\n      <td>NaN</td>\n      <td>69</td>\n      <td>12</td>\n      <td>33</td>\n    </tr>\n    <tr>\n      <th>1</th>\n      <td>2311.0</td>\n      <td>293.884407</td>\n      <td>130.8</td>\n      <td>550.0</td>\n      <td>3077.808288</td>\n      <td>172.971129</td>\n      <td>8.221511</td>\n      <td>167996.0</td>\n      <td>25111.0</td>\n      <td>24</td>\n      <td>75</td>\n      <td>2</td>\n    </tr>\n    <tr>\n      <th>2</th>\n      <td>466.0</td>\n      <td>275.884407</td>\n      <td>105.1</td>\n      <td>560.6</td>\n      <td>137.376612</td>\n      <td>112.852414</td>\n      <td>15.086412</td>\n      <td>36177.0</td>\n      <td>50574.0</td>\n      <td>18</td>\n      <td>75</td>\n      <td>63</td>\n    </tr>\n    <tr>\n      <th>3</th>\n      <td>1286.0</td>\n      <td>207.884407</td>\n      <td>72.9</td>\n      <td>4201.8</td>\n      <td>142.859455</td>\n      <td>143.008314</td>\n      <td>49.688507</td>\n      <td>44329.0</td>\n      <td>504500.0</td>\n      <td>112</td>\n      <td>65</td>\n      <td>33</td>\n    </tr>\n    <tr>\n      <th>4</th>\n      <td>1057.0</td>\n      <td>215.884407</td>\n      <td>72.9</td>\n      <td>4201.8</td>\n      <td>37.925763</td>\n      <td>37.865816</td>\n      <td>16.159018</td>\n      <td>44329.0</td>\n      <td>10000.0</td>\n      <td>10</td>\n      <td>13</td>\n      <td>33</td>\n    </tr>\n    <tr>\n      <th>...</th>\n      <td>...</td>\n      <td>...</td>\n      <td>...</td>\n      <td>...</td>\n      <td>...</td>\n      <td>...</td>\n      <td>...</td>\n      <td>...</td>\n      <td>...</td>\n      <td>...</td>\n      <td>...</td>\n      <td>...</td>\n    </tr>\n    <tr>\n      <th>695</th>\n      <td>761.0</td>\n      <td>351.884408</td>\n      <td>86.0</td>\n      <td>4193.5</td>\n      <td>661.697638</td>\n      <td>NaN</td>\n      <td>NaN</td>\n      <td>1403.0</td>\n      <td>1100.0</td>\n      <td>121</td>\n      <td>82</td>\n      <td>46</td>\n    </tr>\n    <tr>\n      <th>696</th>\n      <td>403.0</td>\n      <td>357.884408</td>\n      <td>64.6</td>\n      <td>383.1</td>\n      <td>211.107380</td>\n      <td>28.050180</td>\n      <td>28.231895</td>\n      <td>39605.0</td>\n      <td>660.0</td>\n      <td>159</td>\n      <td>75</td>\n      <td>44</td>\n    </tr>\n    <tr>\n      <th>697</th>\n      <td>290.0</td>\n      <td>357.884408</td>\n      <td>130.8</td>\n      <td>550.0</td>\n      <td>2944.551449</td>\n      <td>NaN</td>\n      <td>NaN</td>\n      <td>167996.0</td>\n      <td>1700.0</td>\n      <td>22</td>\n      <td>75</td>\n      <td>2</td>\n    </tr>\n    <tr>\n      <th>698</th>\n      <td>344.0</td>\n      <td>359.884408</td>\n      <td>122.5</td>\n      <td>1318.5</td>\n      <td>1221.029232</td>\n      <td>91.532742</td>\n      <td>17.631267</td>\n      <td>160236.0</td>\n      <td>548800.0</td>\n      <td>41</td>\n      <td>62</td>\n      <td>40</td>\n    </tr>\n    <tr>\n      <th>699</th>\n      <td>313.0</td>\n      <td>359.884408</td>\n      <td>122.5</td>\n      <td>1318.5</td>\n      <td>1221.092906</td>\n      <td>91.541580</td>\n      <td>17.622324</td>\n      <td>160236.0</td>\n      <td>557200.0</td>\n      <td>41</td>\n      <td>62</td>\n      <td>40</td>\n    </tr>\n  </tbody>\n</table>\n<p>700 rows × 12 columns</p>\n</div>"
     },
     "execution_count": 31,
     "metadata": {},
     "output_type": "execute_result"
    }
   ],
   "source": [
    "train_df"
   ],
   "metadata": {
    "collapsed": false,
    "pycharm": {
     "name": "#%%\n"
    }
   }
  },
  {
   "cell_type": "code",
   "execution_count": null,
   "outputs": [],
   "source": [
    "# todo необходимо проверить кодирование категориальных данных => ок\n",
    "# todo необходимо сделать шкалирование => не помогает\n",
    "# todo необходимо написать нормальную функцию оценки"
   ],
   "metadata": {
    "collapsed": false,
    "pycharm": {
     "name": "#%%\n"
    }
   }
  },
  {
   "cell_type": "code",
   "execution_count": null,
   "outputs": [],
   "source": [],
   "metadata": {
    "collapsed": false,
    "pycharm": {
     "name": "#%%\n"
    }
   }
  },
  {
   "cell_type": "code",
   "execution_count": 57,
   "outputs": [],
   "source": [
    "from sklearn.preprocessing import StandardScaler\n",
    "stdsc = StandardScaler()"
   ],
   "metadata": {
    "collapsed": false,
    "pycharm": {
     "name": "#%%\n"
    }
   }
  },
  {
   "cell_type": "code",
   "execution_count": 58,
   "outputs": [],
   "source": [
    "X_std = stdsc.fit_transform(train_df)"
   ],
   "metadata": {
    "collapsed": false,
    "pycharm": {
     "name": "#%%\n"
    }
   }
  },
  {
   "cell_type": "code",
   "execution_count": 72,
   "outputs": [],
   "source": [
    "Y_std = stdsc.fit_transform(np.array(selected_df['price_value'][:270]).reshape(-1,1))"
   ],
   "metadata": {
    "collapsed": false,
    "pycharm": {
     "name": "#%%\n"
    }
   }
  },
  {
   "cell_type": "code",
   "execution_count": 73,
   "outputs": [
    {
     "data": {
      "text/plain": "array([[ 1.90639225e+00],\n       [-2.48223247e-01],\n       [ 4.13509630e-02],\n       [ 4.57291994e+00],\n       [-3.14909361e-01],\n       [-3.15159969e-01],\n       [-3.14909361e-01],\n       [-3.15410576e-01],\n       [-3.15159969e-01],\n       [-3.15159969e-01],\n       [-3.15159969e-01],\n       [ 3.18394785e-01],\n       [-3.15161099e-01],\n       [-3.10410585e-01],\n       [-3.15873590e-01],\n       [-2.67171639e-01],\n       [-3.15387869e-01],\n       [-3.07860483e-01],\n       [-3.14076029e-01],\n       [-3.15079698e-01],\n       [-3.10731821e-01],\n       [-3.05155814e-01],\n       [-3.15891040e-01],\n       [-2.60448016e-01],\n       [-3.16664639e-01],\n       [ 7.32349291e+00],\n       [-3.12403283e-01],\n       [-1.76402731e-01],\n       [-3.12619891e-01],\n       [-2.92996463e-01],\n       [-3.13388447e-01],\n       [ 1.41441257e-01],\n       [-3.16345771e-01],\n       [-3.15673409e-01],\n       [-3.15749814e-01],\n       [-3.12988544e-01],\n       [-3.16483300e-01],\n       [-3.12036540e-01],\n       [-1.86029736e-01],\n       [-3.15688690e-01],\n       [-3.16286175e-01],\n       [-2.98803228e-01],\n       [-3.15373902e-01],\n       [ 9.45219804e-01],\n       [-3.14894080e-01],\n       [-2.79243598e-01],\n       [ 1.58317582e-02],\n       [-6.80607175e-02],\n       [-3.12005978e-01],\n       [-3.15749814e-01],\n       [ 3.96168150e+00],\n       [ 5.99870086e-01],\n       [ 4.95494396e+00],\n       [-3.10600130e-01],\n       [-3.16431956e-01],\n       [-3.05173861e-01],\n       [-3.13304860e-01],\n       [-3.15917904e-01],\n       [ 3.51563025e+00],\n       [-1.13683523e-02],\n       [-3.14820731e-01],\n       [-2.07339617e-01],\n       [-3.11700359e-01],\n       [-1.13683523e-02],\n       [-3.07947355e-01],\n       [-3.12174069e-01],\n       [-1.13683523e-02],\n       [-3.10875187e-01],\n       [-3.04762803e-01],\n       [ 3.50325267e+00],\n       [-1.79458923e-01],\n       [ 5.00796890e+00],\n       [-3.07818995e-01],\n       [ 1.72003179e-01],\n       [-3.13298748e-01],\n       [-2.99414466e-01],\n       [-2.63504208e-01],\n       [-3.08603214e-01],\n       [-5.72112352e-02],\n       [ 3.12655288e-02],\n       [-2.32942286e-01],\n       [-3.03725990e-01],\n       [ 8.50545114e-02],\n       [-2.19495041e-01],\n       [-2.39054671e-01],\n       [-2.08492749e-01],\n       [-1.94739884e-01],\n       [-3.12476632e-01],\n       [-2.63504208e-01],\n       [-3.02684592e-01],\n       [-1.99324172e-01],\n       [-1.77166779e-01],\n       [ 2.40309075e-01],\n       [-2.25301806e-01],\n       [ 1.91935696e-02],\n       [-3.12284092e-01],\n       [ 2.97765488e-01],\n       [ 2.12956155e-01],\n       [ 6.58005006e-02],\n       [-3.09347091e-01],\n       [-3.00178515e-01],\n       [-3.07818995e-01],\n       [-3.03234707e-01],\n       [-3.16987572e-01],\n       [-1.48438572e-01],\n       [-1.63872343e-01],\n       [-3.11196087e-01],\n       [-3.01095372e-01],\n       [-3.16987572e-01],\n       [-3.16987572e-01],\n       [-3.09347091e-01],\n       [ 6.45780237e-02],\n       [-3.10569568e-01],\n       [-2.97886370e-01],\n       [-3.16987572e-01],\n       [-3.16672631e-01],\n       [-3.16101276e-01],\n       [-2.40582767e-01],\n       [-3.06688204e-01],\n       [-3.16987572e-01],\n       [-3.12403283e-01],\n       [-3.10951592e-01],\n       [-3.11899012e-01],\n       [-3.11746202e-01],\n       [-3.11746202e-01],\n       [-3.12265755e-01],\n       [-3.10447320e-01],\n       [-3.10447320e-01],\n       [-3.12403283e-01],\n       [-3.12403283e-01],\n       [-3.12265755e-01],\n       [-3.12265755e-01],\n       [-3.12265755e-01],\n       [-3.12265755e-01],\n       [-3.12265755e-01],\n       [-3.12265755e-01],\n       [-3.12265755e-01],\n       [-3.12265755e-01],\n       [-3.12265755e-01],\n       [-3.12265755e-01],\n       [-3.12265755e-01],\n       [-3.12265755e-01],\n       [-3.12265755e-01],\n       [-3.12265755e-01],\n       [-3.12265755e-01],\n       [-3.12265755e-01],\n       [-3.12265755e-01],\n       [-3.12265755e-01],\n       [-3.12265755e-01],\n       [-3.11834281e-01],\n       [-3.04609993e-01],\n       [ 4.52384711e-03],\n       [-6.71438598e-02],\n       [-2.90245890e-01],\n       [-3.16595157e-01],\n       [-2.86425650e-01],\n       [ 7.49690772e-02],\n       [-2.13009769e-02],\n       [ 3.04482384e+00],\n       [-3.12739052e-01],\n       [-5.12516604e-02],\n       [-2.52807536e-01],\n       [-3.13274298e-01],\n       [-2.68852545e-01],\n       [-2.71144689e-01],\n       [-3.08094052e-01],\n       [-3.14332657e-01],\n       [ 4.22909832e+00],\n       [ 1.13219233e-01],\n       [-2.83369457e-01],\n       [-2.97886370e-01],\n       [-1.79458923e-01],\n       [-1.54398147e-01],\n       [-1.11611456e-01],\n       [-1.22308129e-01],\n       [-1.67692583e-01],\n       [-1.92294930e-01],\n       [-2.01157887e-01],\n       [-2.01005078e-01],\n       [-1.71360014e-01],\n       [-2.01157887e-01],\n       [-2.34267390e-01],\n       [-2.45167055e-01],\n       [-3.12128226e-01],\n       [-2.82758219e-01],\n       [-3.15214002e-01],\n       [-2.03908460e-01],\n       [-3.15711306e-01],\n       [-3.10111139e-01],\n       [-2.84286315e-01],\n       [-2.67324448e-01],\n       [-3.13029803e-01],\n       [-3.13934436e-01],\n       [-3.14209493e-01],\n       [-3.16359203e-01],\n       [-3.16368693e-01],\n       [-3.15551161e-01],\n       [-2.80313265e-01],\n       [ 8.29084501e-01],\n       [ 2.58639501e+00],\n       [ 5.23465281e-01],\n       [ 7.64114776e-02],\n       [-3.13014522e-01],\n       [-3.08995323e-01],\n       [-2.09715226e-01],\n       [-1.45535190e-01],\n       [-2.09715226e-01],\n       [ 3.60698945e-03],\n       [-2.14605133e-01],\n       [-2.06964653e-01],\n       [-4.68201817e-02],\n       [-4.05549877e-02],\n       [-1.99256904e-02],\n       [ 1.09198430e-01],\n       [-2.94677369e-01],\n       [-3.13411827e-01],\n       [-3.03656461e-01],\n       [ 6.55944486e+00],\n       [-3.08236746e-01],\n       [-2.79243598e-01],\n       [-3.08583104e-01],\n       [ 4.68521090e-02],\n       [-2.02380364e-01],\n       [-2.02380364e-01],\n       [-3.03234707e-01],\n       [-2.02380364e-01],\n       [-1.99324172e-01],\n       [-2.96969513e-01],\n       [ 6.74288366e-01],\n       [ 6.11330807e-01],\n       [-1.03054118e-01],\n       [-3.06910358e-01],\n       [-3.14793103e-01],\n       [-9.18990166e-02],\n       [-1.18335079e-01],\n       [-2.51194966e-01],\n       [-3.14249880e-01],\n       [-2.60143268e-01],\n       [-1.59526406e-02],\n       [-5.29325661e-02],\n       [-2.65032304e-01],\n       [ 6.47088256e-01],\n       [-3.13411827e-01],\n       [-3.12245584e-01],\n       [-3.15964358e-01],\n       [-3.14030706e-01],\n       [-1.99476982e-01],\n       [-2.61976112e-01],\n       [-1.55472582e-01],\n       [-3.13590614e-01],\n       [-7.35618634e-02],\n       [-1.61885818e-01],\n       [ 2.66812405e-02],\n       [-3.13632270e-01],\n       [-2.64726685e-01],\n       [-2.39971528e-01],\n       [ 6.09105931e-02],\n       [-3.09457114e-01],\n       [-3.09457114e-01],\n       [-3.14440755e-01],\n       [-3.12199542e-01],\n       [-3.14957893e-01],\n       [-3.03489394e-01],\n       [-3.06581252e-01],\n       [-1.45535190e-01],\n       [ 3.60698945e-03],\n       [-3.14466213e-01],\n       [ 1.94459465e+00],\n       [-3.04762803e-01],\n       [-1.45183468e-01]])"
     },
     "execution_count": 73,
     "metadata": {},
     "output_type": "execute_result"
    }
   ],
   "source": [
    "Y_std"
   ],
   "metadata": {
    "collapsed": false,
    "pycharm": {
     "name": "#%%\n"
    }
   }
  },
  {
   "cell_type": "code",
   "execution_count": 74,
   "outputs": [],
   "source": [
    "model = regression.fit(X_std, Y_std)"
   ],
   "metadata": {
    "collapsed": false,
    "pycharm": {
     "name": "#%%\n"
    }
   }
  },
  {
   "cell_type": "code",
   "execution_count": 81,
   "outputs": [
    {
     "data": {
      "text/plain": "array([-0.16603159])"
     },
     "execution_count": 81,
     "metadata": {},
     "output_type": "execute_result"
    }
   ],
   "source": [
    "model.predict(X_test[10:11])[0]"
   ],
   "metadata": {
    "collapsed": false,
    "pycharm": {
     "name": "#%%\n"
    }
   }
  },
  {
   "cell_type": "code",
   "execution_count": null,
   "outputs": [],
   "source": [],
   "metadata": {
    "collapsed": false,
    "pycharm": {
     "name": "#%%\n"
    }
   }
  },
  {
   "cell_type": "code",
   "execution_count": 77,
   "outputs": [],
   "source": [
    "X_test = stdsc.fit_transform(test_df)"
   ],
   "metadata": {
    "collapsed": false,
    "pycharm": {
     "name": "#%%\n"
    }
   }
  },
  {
   "cell_type": "code",
   "execution_count": 78,
   "outputs": [],
   "source": [
    "Y_test = stdsc.fit_transform(np.array(selected_df['price_value'][270:]).reshape(-1,1))"
   ],
   "metadata": {
    "collapsed": false,
    "pycharm": {
     "name": "#%%\n"
    }
   }
  },
  {
   "cell_type": "code",
   "execution_count": null,
   "outputs": [],
   "source": [],
   "metadata": {
    "collapsed": false,
    "pycharm": {
     "name": "#%%\n"
    }
   }
  },
  {
   "cell_type": "code",
   "execution_count": 82,
   "outputs": [
    {
     "data": {
      "text/plain": "array([[-1.84000847]])"
     },
     "execution_count": 82,
     "metadata": {},
     "output_type": "execute_result"
    }
   ],
   "source": [
    "Y_test[10:11]"
   ],
   "metadata": {
    "collapsed": false,
    "pycharm": {
     "name": "#%%\n"
    }
   }
  },
  {
   "cell_type": "code",
   "execution_count": 94,
   "outputs": [
    {
     "ename": "ValueError",
     "evalue": "Found array with 0 sample(s) (shape=(0, 12)) while a minimum of 1 is required by LinearRegression.",
     "output_type": "error",
     "traceback": [
      "\u001B[0;31m---------------------------------------------------------------------------\u001B[0m",
      "\u001B[0;31mValueError\u001B[0m                                Traceback (most recent call last)",
      "Input \u001B[0;32mIn [94]\u001B[0m, in \u001B[0;36m<cell line: 1>\u001B[0;34m()\u001B[0m\n\u001B[0;32m----> 1\u001B[0m \u001B[43mmodel\u001B[49m\u001B[38;5;241;43m.\u001B[39;49m\u001B[43mpredict\u001B[49m\u001B[43m(\u001B[49m\u001B[43mX_test\u001B[49m\u001B[43m[\u001B[49m\u001B[38;5;241;43m98\u001B[39;49m\u001B[43m:\u001B[49m\u001B[38;5;241;43m99\u001B[39;49m\u001B[43m]\u001B[49m\u001B[43m)\u001B[49m\n",
      "File \u001B[0;32m~/PycharmProjects/portal_da/venv/lib/python3.8/site-packages/sklearn/linear_model/_base.py:355\u001B[0m, in \u001B[0;36mLinearModel.predict\u001B[0;34m(self, X)\u001B[0m\n\u001B[1;32m    341\u001B[0m \u001B[38;5;28;01mdef\u001B[39;00m \u001B[38;5;21mpredict\u001B[39m(\u001B[38;5;28mself\u001B[39m, X):\n\u001B[1;32m    342\u001B[0m     \u001B[38;5;124;03m\"\"\"\u001B[39;00m\n\u001B[1;32m    343\u001B[0m \u001B[38;5;124;03m    Predict using the linear model.\u001B[39;00m\n\u001B[1;32m    344\u001B[0m \n\u001B[0;32m   (...)\u001B[0m\n\u001B[1;32m    353\u001B[0m \u001B[38;5;124;03m        Returns predicted values.\u001B[39;00m\n\u001B[1;32m    354\u001B[0m \u001B[38;5;124;03m    \"\"\"\u001B[39;00m\n\u001B[0;32m--> 355\u001B[0m     \u001B[38;5;28;01mreturn\u001B[39;00m \u001B[38;5;28;43mself\u001B[39;49m\u001B[38;5;241;43m.\u001B[39;49m\u001B[43m_decision_function\u001B[49m\u001B[43m(\u001B[49m\u001B[43mX\u001B[49m\u001B[43m)\u001B[49m\n",
      "File \u001B[0;32m~/PycharmProjects/portal_da/venv/lib/python3.8/site-packages/sklearn/linear_model/_base.py:338\u001B[0m, in \u001B[0;36mLinearModel._decision_function\u001B[0;34m(self, X)\u001B[0m\n\u001B[1;32m    335\u001B[0m \u001B[38;5;28;01mdef\u001B[39;00m \u001B[38;5;21m_decision_function\u001B[39m(\u001B[38;5;28mself\u001B[39m, X):\n\u001B[1;32m    336\u001B[0m     check_is_fitted(\u001B[38;5;28mself\u001B[39m)\n\u001B[0;32m--> 338\u001B[0m     X \u001B[38;5;241m=\u001B[39m \u001B[38;5;28;43mself\u001B[39;49m\u001B[38;5;241;43m.\u001B[39;49m\u001B[43m_validate_data\u001B[49m\u001B[43m(\u001B[49m\u001B[43mX\u001B[49m\u001B[43m,\u001B[49m\u001B[43m \u001B[49m\u001B[43maccept_sparse\u001B[49m\u001B[38;5;241;43m=\u001B[39;49m\u001B[43m[\u001B[49m\u001B[38;5;124;43m\"\u001B[39;49m\u001B[38;5;124;43mcsr\u001B[39;49m\u001B[38;5;124;43m\"\u001B[39;49m\u001B[43m,\u001B[49m\u001B[43m \u001B[49m\u001B[38;5;124;43m\"\u001B[39;49m\u001B[38;5;124;43mcsc\u001B[39;49m\u001B[38;5;124;43m\"\u001B[39;49m\u001B[43m,\u001B[49m\u001B[43m \u001B[49m\u001B[38;5;124;43m\"\u001B[39;49m\u001B[38;5;124;43mcoo\u001B[39;49m\u001B[38;5;124;43m\"\u001B[39;49m\u001B[43m]\u001B[49m\u001B[43m,\u001B[49m\u001B[43m \u001B[49m\u001B[43mreset\u001B[49m\u001B[38;5;241;43m=\u001B[39;49m\u001B[38;5;28;43;01mFalse\u001B[39;49;00m\u001B[43m)\u001B[49m\n\u001B[1;32m    339\u001B[0m     \u001B[38;5;28;01mreturn\u001B[39;00m safe_sparse_dot(X, \u001B[38;5;28mself\u001B[39m\u001B[38;5;241m.\u001B[39mcoef_\u001B[38;5;241m.\u001B[39mT, dense_output\u001B[38;5;241m=\u001B[39m\u001B[38;5;28;01mTrue\u001B[39;00m) \u001B[38;5;241m+\u001B[39m \u001B[38;5;28mself\u001B[39m\u001B[38;5;241m.\u001B[39mintercept_\n",
      "File \u001B[0;32m~/PycharmProjects/portal_da/venv/lib/python3.8/site-packages/sklearn/base.py:535\u001B[0m, in \u001B[0;36mBaseEstimator._validate_data\u001B[0;34m(self, X, y, reset, validate_separately, **check_params)\u001B[0m\n\u001B[1;32m    533\u001B[0m     \u001B[38;5;28;01mraise\u001B[39;00m \u001B[38;5;167;01mValueError\u001B[39;00m(\u001B[38;5;124m\"\u001B[39m\u001B[38;5;124mValidation should be done on X, y or both.\u001B[39m\u001B[38;5;124m\"\u001B[39m)\n\u001B[1;32m    534\u001B[0m \u001B[38;5;28;01melif\u001B[39;00m \u001B[38;5;129;01mnot\u001B[39;00m no_val_X \u001B[38;5;129;01mand\u001B[39;00m no_val_y:\n\u001B[0;32m--> 535\u001B[0m     X \u001B[38;5;241m=\u001B[39m \u001B[43mcheck_array\u001B[49m\u001B[43m(\u001B[49m\u001B[43mX\u001B[49m\u001B[43m,\u001B[49m\u001B[43m \u001B[49m\u001B[43minput_name\u001B[49m\u001B[38;5;241;43m=\u001B[39;49m\u001B[38;5;124;43m\"\u001B[39;49m\u001B[38;5;124;43mX\u001B[39;49m\u001B[38;5;124;43m\"\u001B[39;49m\u001B[43m,\u001B[49m\u001B[43m \u001B[49m\u001B[38;5;241;43m*\u001B[39;49m\u001B[38;5;241;43m*\u001B[39;49m\u001B[43mcheck_params\u001B[49m\u001B[43m)\u001B[49m\n\u001B[1;32m    536\u001B[0m     out \u001B[38;5;241m=\u001B[39m X\n\u001B[1;32m    537\u001B[0m \u001B[38;5;28;01melif\u001B[39;00m no_val_X \u001B[38;5;129;01mand\u001B[39;00m \u001B[38;5;129;01mnot\u001B[39;00m no_val_y:\n",
      "File \u001B[0;32m~/PycharmProjects/portal_da/venv/lib/python3.8/site-packages/sklearn/utils/validation.py:929\u001B[0m, in \u001B[0;36mcheck_array\u001B[0;34m(array, accept_sparse, accept_large_sparse, dtype, order, copy, force_all_finite, ensure_2d, allow_nd, ensure_min_samples, ensure_min_features, estimator, input_name)\u001B[0m\n\u001B[1;32m    927\u001B[0m     n_samples \u001B[38;5;241m=\u001B[39m _num_samples(array)\n\u001B[1;32m    928\u001B[0m     \u001B[38;5;28;01mif\u001B[39;00m n_samples \u001B[38;5;241m<\u001B[39m ensure_min_samples:\n\u001B[0;32m--> 929\u001B[0m         \u001B[38;5;28;01mraise\u001B[39;00m \u001B[38;5;167;01mValueError\u001B[39;00m(\n\u001B[1;32m    930\u001B[0m             \u001B[38;5;124m\"\u001B[39m\u001B[38;5;124mFound array with \u001B[39m\u001B[38;5;132;01m%d\u001B[39;00m\u001B[38;5;124m sample(s) (shape=\u001B[39m\u001B[38;5;132;01m%s\u001B[39;00m\u001B[38;5;124m) while a\u001B[39m\u001B[38;5;124m\"\u001B[39m\n\u001B[1;32m    931\u001B[0m             \u001B[38;5;124m\"\u001B[39m\u001B[38;5;124m minimum of \u001B[39m\u001B[38;5;132;01m%d\u001B[39;00m\u001B[38;5;124m is required\u001B[39m\u001B[38;5;132;01m%s\u001B[39;00m\u001B[38;5;124m.\u001B[39m\u001B[38;5;124m\"\u001B[39m\n\u001B[1;32m    932\u001B[0m             \u001B[38;5;241m%\u001B[39m (n_samples, array\u001B[38;5;241m.\u001B[39mshape, ensure_min_samples, context)\n\u001B[1;32m    933\u001B[0m         )\n\u001B[1;32m    935\u001B[0m \u001B[38;5;28;01mif\u001B[39;00m ensure_min_features \u001B[38;5;241m>\u001B[39m \u001B[38;5;241m0\u001B[39m \u001B[38;5;129;01mand\u001B[39;00m array\u001B[38;5;241m.\u001B[39mndim \u001B[38;5;241m==\u001B[39m \u001B[38;5;241m2\u001B[39m:\n\u001B[1;32m    936\u001B[0m     n_features \u001B[38;5;241m=\u001B[39m array\u001B[38;5;241m.\u001B[39mshape[\u001B[38;5;241m1\u001B[39m]\n",
      "\u001B[0;31mValueError\u001B[0m: Found array with 0 sample(s) (shape=(0, 12)) while a minimum of 1 is required by LinearRegression."
     ]
    }
   ],
   "source": [
    "model.predict(X_test[98:99])"
   ],
   "metadata": {
    "collapsed": false,
    "pycharm": {
     "name": "#%%\n"
    }
   }
  },
  {
   "cell_type": "code",
   "execution_count": 97,
   "outputs": [
    {
     "data": {
      "text/plain": "8308045.976460408"
     },
     "execution_count": 97,
     "metadata": {},
     "output_type": "execute_result"
    }
   ],
   "source": [
    "stdsc.inverse_transform(model.predict(X_test[21:22]))[0][0]"
   ],
   "metadata": {
    "collapsed": false,
    "pycharm": {
     "name": "#%%\n"
    }
   }
  },
  {
   "cell_type": "code",
   "execution_count": 98,
   "outputs": [
    {
     "data": {
      "text/plain": "8297248.0"
     },
     "execution_count": 98,
     "metadata": {},
     "output_type": "execute_result"
    }
   ],
   "source": [
    "stdsc.inverse_transform(Y_test[21:22])[0][0]"
   ],
   "metadata": {
    "collapsed": false,
    "pycharm": {
     "name": "#%%\n"
    }
   }
  },
  {
   "cell_type": "code",
   "execution_count": null,
   "outputs": [],
   "source": [],
   "metadata": {
    "collapsed": false,
    "pycharm": {
     "name": "#%%\n"
    }
   }
  },
  {
   "cell_type": "code",
   "execution_count": 123,
   "outputs": [],
   "source": [
    "delta_dict = {}\n",
    "for i in range(28):\n",
    "    try:\n",
    "        delta_dict[i] = abs(stdsc.inverse_transform(model.predict(X_test[i:i+1]))[0][0] / stdsc.inverse_transform(Y_test[i:i+1])[0][0])\n",
    "    except:\n",
    "        pass"
   ],
   "metadata": {
    "collapsed": false,
    "pycharm": {
     "name": "#%%\n"
    }
   }
  },
  {
   "cell_type": "code",
   "execution_count": 124,
   "outputs": [],
   "source": [
    "that_df = pd.DataFrame(data=[delta_dict]).T"
   ],
   "metadata": {
    "collapsed": false,
    "pycharm": {
     "name": "#%%\n"
    }
   }
  },
  {
   "cell_type": "code",
   "execution_count": 125,
   "outputs": [
    {
     "data": {
      "text/plain": "0.7805488106367666"
     },
     "execution_count": 125,
     "metadata": {},
     "output_type": "execute_result"
    }
   ],
   "source": [
    "that_df.median()[0]  # да в целом не все так плохо! можно жить ахах"
   ],
   "metadata": {
    "collapsed": false,
    "pycharm": {
     "name": "#%%\n"
    }
   }
  },
  {
   "cell_type": "code",
   "execution_count": 126,
   "outputs": [
    {
     "data": {
      "text/plain": "0.6289236242901495"
     },
     "execution_count": 126,
     "metadata": {},
     "output_type": "execute_result"
    }
   ],
   "source": [
    "that_df.min()[0]"
   ],
   "metadata": {
    "collapsed": false,
    "pycharm": {
     "name": "#%%\n"
    }
   }
  },
  {
   "cell_type": "code",
   "execution_count": 127,
   "outputs": [
    {
     "data": {
      "text/plain": "75.27730850018717"
     },
     "execution_count": 127,
     "metadata": {},
     "output_type": "execute_result"
    }
   ],
   "source": [
    "that_df.max()[0]"
   ],
   "metadata": {
    "collapsed": false,
    "pycharm": {
     "name": "#%%\n"
    }
   }
  },
  {
   "cell_type": "code",
   "execution_count": 128,
   "outputs": [
    {
     "data": {
      "text/plain": "            0\n0    0.716408\n1    0.763133\n2    0.707759\n3    0.687951\n4    0.698291\n5    0.628924\n6    0.675230\n7    0.671724\n8    0.703144\n9    0.668059\n10   6.631709\n11   0.807570\n12   0.757733\n13   7.882117\n14   0.717845\n15   0.665688\n16   0.848414\n17   0.840192\n18   8.555488\n19  75.277309\n20   0.855383\n21   1.001301\n22   9.711783\n23   0.852194\n24   0.797965\n25   0.811726\n26   0.934210\n27   0.735920",
      "text/html": "<div>\n<style scoped>\n    .dataframe tbody tr th:only-of-type {\n        vertical-align: middle;\n    }\n\n    .dataframe tbody tr th {\n        vertical-align: top;\n    }\n\n    .dataframe thead th {\n        text-align: right;\n    }\n</style>\n<table border=\"1\" class=\"dataframe\">\n  <thead>\n    <tr style=\"text-align: right;\">\n      <th></th>\n      <th>0</th>\n    </tr>\n  </thead>\n  <tbody>\n    <tr>\n      <th>0</th>\n      <td>0.716408</td>\n    </tr>\n    <tr>\n      <th>1</th>\n      <td>0.763133</td>\n    </tr>\n    <tr>\n      <th>2</th>\n      <td>0.707759</td>\n    </tr>\n    <tr>\n      <th>3</th>\n      <td>0.687951</td>\n    </tr>\n    <tr>\n      <th>4</th>\n      <td>0.698291</td>\n    </tr>\n    <tr>\n      <th>5</th>\n      <td>0.628924</td>\n    </tr>\n    <tr>\n      <th>6</th>\n      <td>0.675230</td>\n    </tr>\n    <tr>\n      <th>7</th>\n      <td>0.671724</td>\n    </tr>\n    <tr>\n      <th>8</th>\n      <td>0.703144</td>\n    </tr>\n    <tr>\n      <th>9</th>\n      <td>0.668059</td>\n    </tr>\n    <tr>\n      <th>10</th>\n      <td>6.631709</td>\n    </tr>\n    <tr>\n      <th>11</th>\n      <td>0.807570</td>\n    </tr>\n    <tr>\n      <th>12</th>\n      <td>0.757733</td>\n    </tr>\n    <tr>\n      <th>13</th>\n      <td>7.882117</td>\n    </tr>\n    <tr>\n      <th>14</th>\n      <td>0.717845</td>\n    </tr>\n    <tr>\n      <th>15</th>\n      <td>0.665688</td>\n    </tr>\n    <tr>\n      <th>16</th>\n      <td>0.848414</td>\n    </tr>\n    <tr>\n      <th>17</th>\n      <td>0.840192</td>\n    </tr>\n    <tr>\n      <th>18</th>\n      <td>8.555488</td>\n    </tr>\n    <tr>\n      <th>19</th>\n      <td>75.277309</td>\n    </tr>\n    <tr>\n      <th>20</th>\n      <td>0.855383</td>\n    </tr>\n    <tr>\n      <th>21</th>\n      <td>1.001301</td>\n    </tr>\n    <tr>\n      <th>22</th>\n      <td>9.711783</td>\n    </tr>\n    <tr>\n      <th>23</th>\n      <td>0.852194</td>\n    </tr>\n    <tr>\n      <th>24</th>\n      <td>0.797965</td>\n    </tr>\n    <tr>\n      <th>25</th>\n      <td>0.811726</td>\n    </tr>\n    <tr>\n      <th>26</th>\n      <td>0.934210</td>\n    </tr>\n    <tr>\n      <th>27</th>\n      <td>0.735920</td>\n    </tr>\n  </tbody>\n</table>\n</div>"
     },
     "execution_count": 128,
     "metadata": {},
     "output_type": "execute_result"
    }
   ],
   "source": [
    "that_df"
   ],
   "metadata": {
    "collapsed": false,
    "pycharm": {
     "name": "#%%\n"
    }
   }
  },
  {
   "cell_type": "code",
   "execution_count": 129,
   "outputs": [],
   "source": [
    "# нужно нормально оценить как то эти результаты"
   ],
   "metadata": {
    "collapsed": false,
    "pycharm": {
     "name": "#%%\n"
    }
   }
  },
  {
   "cell_type": "code",
   "execution_count": null,
   "outputs": [],
   "source": [],
   "metadata": {
    "collapsed": false,
    "pycharm": {
     "name": "#%%\n"
    }
   }
  },
  {
   "cell_type": "code",
   "execution_count": 96,
   "outputs": [
    {
     "data": {
      "text/plain": "array([[-0.0769971 , -0.53433326, -0.34575576, -0.30784083, -0.35824391,\n        -0.0428251 , -0.25012761, -0.35013769, -0.24729777, -0.23126176,\n        -0.33333333, -0.36021694],\n       [-0.08975905, -0.53433326, -0.34575576, -0.30784083, -0.35835803,\n        -0.04225793, -0.25296048, -0.35013769, -0.25079504, -0.23126176,\n        -0.33333333, -0.36021694],\n       [ 0.2292897 , -0.53433326, -0.34575576, -0.30784083, -0.35847255,\n        -0.04168745, -0.25578835, -0.35013769, -0.24722566, -0.23126176,\n        -0.33333333, -0.36021694],\n       [ 0.2803375 , -0.53433326, -0.34575576, -0.30784083, -0.3585927 ,\n        -0.04108719, -0.25873664, -0.35013769, -0.24567532, -0.23126176,\n        -0.33333333, -0.36021694],\n       [-0.08975905, -0.53433326, -0.34575576, -0.30784083, -0.35788561,\n        -0.04365986, -0.23519724, -0.35013769, -0.24578349, -0.23126176,\n        -0.33333333, -0.36021694],\n       [-0.06423515, -0.53433326, -0.34575576, -0.30784083, -0.35800858,\n        -0.04305551, -0.23830459, -0.35013769, -0.23932976, -0.23126176,\n        -0.33333333, -0.36021694],\n       [ 0.0761463 , -0.53433326, -0.34575576, -0.30784083, -0.35813236,\n        -0.04243346, -0.24133786, -0.35013769, -0.24412499, -0.23126176,\n        -0.33333333, -0.36021694],\n       [-0.40880779, -0.53433326, -0.34575576, -0.30784083, -0.35825221,\n        -0.04184339, -0.24434452, -0.35013769, -0.24275492, -0.23126176,\n        -0.33333333, -0.36021694],\n       [-0.26842634, -0.53433326, -0.34575576, -0.30784083, -0.3583698 ,\n        -0.04125764, -0.24724406, -0.35013769, -0.24581954, -0.23126176,\n        -0.33333333, -0.36021694],\n       [-0.1535688 , -0.53433326, -0.34575576, -0.30784083, -0.3584865 ,\n        -0.04068165, -0.2501483 , -0.35013769, -0.24297125, -0.23126176,\n        -0.33333333, -0.36021694],\n       [-0.42156974, -0.53433326, -0.34575576, -0.30784083, -0.35860638,\n        -0.04008932, -0.25312036, -0.35013769, -0.24192567, -0.23126176,\n        -0.33333333, -0.36021694],\n       [-0.29395024, -0.53433326, -0.34575576, -0.30784083, -0.3583405 ,\n        -0.04434501, -0.26528833, -0.35013769, -0.25339095, -0.23126176,\n        -0.33333333, -0.36021694],\n       [-0.16633075, -0.53433326, -0.34575576, -0.30784083, -0.35845462,\n        -0.04377578, -0.26812441, -0.35013769, -0.25025422, -0.23126176,\n        -0.33333333, -0.36021694],\n       [-0.33223609, -0.53433326, -0.34575576, -0.30784083, -0.35857039,\n        -0.0431934 , -0.27096258, -0.35013769, -0.25205694, -0.23126176,\n        -0.33333333, -0.36021694],\n       [-0.25566439, -0.53433326, -0.34575576, -0.30784083, -0.35796282,\n        -0.04534856, -0.25026681, -0.35013769, -0.24704539, -0.23126176,\n        -0.33333333, -0.36021694],\n       [-0.34499804, -0.53433326, -0.34575576, -0.30784083, -0.35809214,\n        -0.04471004, -0.2535359 , -0.35013769, -0.24232227, -0.23126176,\n        -0.33333333, -0.36021694],\n       [-0.11528295, -0.0971515 , -0.34575576, -0.30784083, -0.35802546,\n        -0.04702368, -0.26445942, -0.35013769, -0.25458074, -0.23126176,\n        -0.33333333, -0.36021694],\n       [-0.43433169, -0.0971515 , -0.34575576, -0.30784083, -0.35824138,\n        -0.0459511 , -0.26990697, -0.35013769, -0.25353516, -0.23126176,\n        -0.33333333, -0.36021694],\n       [-0.1280449 , -0.0971515 , -0.34575576, -0.30784083, -0.35834698,\n        -0.04543365, -0.2726079 , -0.35013769, -0.25497734, -0.23126176,\n        -0.33333333, -0.36021694],\n       [ 1.13538814, -0.0971515 ,  3.0647356 ,  1.76404373,  3.37679731,\n        -2.02683775,  3.098339  ,  4.28970111, -0.1966054 , -2.03700425,\n         3.        ,  2.47255702],\n       [-0.35775999, -0.0971515 , -0.34575576, -0.30784083, -0.35798533,\n        -0.0461046 , -0.25634178, -0.35013769, -0.25458074, -0.23126176,\n        -0.33333333, -0.36021694],\n       [-0.2046166 , -0.0971515 , -0.34575576, -0.30784083, -0.35804799,\n        -0.04775999, -0.27042313, -0.35013769, -0.26211609, -0.23126176,\n        -0.33333333, -0.36021694],\n       [-2.52729146,  0.34003026,  1.14226117,  2.06538731,  2.75982877,\n        -2.69919084,  0.52437669,  2.19290803,  1.5051584 ,  3.95045769,\n         3.        ,  2.78730969],\n       [-0.28118829,  0.48575751, -0.34575576, -0.30784083, -0.35834544,\n        -0.04345233, -0.25987032, -0.35013769, -0.25241748, -0.23126176,\n        -0.33333333, -0.36021694],\n       [-0.1280449 ,  0.48575751, -0.34575576, -0.30784083, -0.35846146,\n        -0.04287469, -0.26275003, -0.35013769, -0.24913654, -0.23126176,\n        -0.33333333, -0.36021694],\n       [-0.33223609,  0.48575751, -0.34575576, -0.30784083, -0.35858035,\n        -0.04228314, -0.26569676, -0.35013769, -0.24971341, -0.23126176,\n        -0.33333333, -0.36021694],\n       [-0.2046166 ,  0.48575751, -0.34575576, -0.30784083, -0.35790802,\n        -0.04446134, -0.2415402 , -0.35013769, -0.2571406 , -0.23126176,\n        -0.33333333, -0.36021694],\n       [-0.1790927 ,  0.48575751, -0.34575576, -0.30784083, -0.35822424,\n        -0.04405545, -0.25685222, -0.35013769, -0.24434131, -0.23126176,\n        -0.33333333, -0.36021694],\n       [ 4.01958879,  1.79730279,  0.84900236,  4.47943959,  2.72766893,\n         3.76572105,  4.14513952,  1.02120298,  5.10698474,  1.57448073,\n        -0.33333333,  0.58404105],\n       [ 2.11805827,  4.56612059,  3.93365059, -0.3050091 ,  0.45070075,\n         2.09195878, -1.11191846,  1.59976773,  0.05577483,  2.52487151,\n         3.        ,  3.52173257]])"
     },
     "execution_count": 96,
     "metadata": {},
     "output_type": "execute_result"
    }
   ],
   "source": [
    "X_test"
   ],
   "metadata": {
    "collapsed": false,
    "pycharm": {
     "name": "#%%\n"
    }
   }
  },
  {
   "cell_type": "code",
   "execution_count": null,
   "outputs": [],
   "source": [],
   "metadata": {
    "collapsed": false,
    "pycharm": {
     "name": "#%%\n"
    }
   }
  },
  {
   "cell_type": "code",
   "execution_count": 2,
   "outputs": [
    {
     "ename": "NameError",
     "evalue": "name 'X_test' is not defined",
     "output_type": "error",
     "traceback": [
      "\u001B[0;31m---------------------------------------------------------------------------\u001B[0m",
      "\u001B[0;31mNameError\u001B[0m                                 Traceback (most recent call last)",
      "Input \u001B[0;32mIn [2]\u001B[0m, in \u001B[0;36m<cell line: 1>\u001B[0;34m()\u001B[0m\n\u001B[0;32m----> 1\u001B[0m \u001B[43mX_test\u001B[49m[\u001B[38;5;241m10\u001B[39m:\u001B[38;5;241m11\u001B[39m]\n",
      "\u001B[0;31mNameError\u001B[0m: name 'X_test' is not defined"
     ]
    }
   ],
   "source": [
    "X_test[10:11]"
   ],
   "metadata": {
    "collapsed": false,
    "pycharm": {
     "name": "#%%\n"
    }
   }
  },
  {
   "cell_type": "code",
   "execution_count": null,
   "outputs": [],
   "source": [],
   "metadata": {
    "collapsed": false,
    "pycharm": {
     "name": "#%%\n"
    }
   }
  },
  {
   "cell_type": "code",
   "execution_count": 1,
   "outputs": [],
   "source": [
    "# у нас есть дата лик в виде цены на квадратный метр\n",
    "# хотя не, вроде все ровно, мы убрали его ранее"
   ],
   "metadata": {
    "collapsed": false,
    "pycharm": {
     "name": "#%%\n"
    }
   }
  },
  {
   "cell_type": "markdown",
   "source": [
    "### 22.1.23 review of what we got"
   ],
   "metadata": {
    "collapsed": false,
    "pycharm": {
     "name": "#%% md\n"
    }
   }
  },
  {
   "cell_type": "code",
   "execution_count": 8,
   "outputs": [],
   "source": [
    "from models_functions import encode_features, make_regression"
   ],
   "metadata": {
    "collapsed": false,
    "pycharm": {
     "name": "#%%\n"
    }
   }
  },
  {
   "cell_type": "code",
   "execution_count": 9,
   "outputs": [],
   "source": [
    "from sklearn import metrics"
   ],
   "metadata": {
    "collapsed": false,
    "pycharm": {
     "name": "#%%\n"
    }
   }
  },
  {
   "cell_type": "code",
   "execution_count": 11,
   "outputs": [],
   "source": [
    "lien_df = pd.read_csv('../data/lien_df1_18_01_23.csv', sep=';')"
   ],
   "metadata": {
    "collapsed": false,
    "pycharm": {
     "name": "#%%\n"
    }
   }
  },
  {
   "cell_type": "code",
   "execution_count": 12,
   "outputs": [],
   "source": [
    "selected_df = lien_df[['views', 'contact_name', 'seller_name', 'square', 'shown_by_days', 'distance', 'region_square', 'region_capital', 'grp', 'criminality', 'km_to_msk', 'km_to_region_capital', 'price_value']].copy()"
   ],
   "metadata": {
    "collapsed": false,
    "pycharm": {
     "name": "#%%\n"
    }
   }
  },
  {
   "cell_type": "code",
   "execution_count": 13,
   "outputs": [],
   "source": [
    "selected_df = selected_df.dropna()  # пока поработаем без null"
   ],
   "metadata": {
    "collapsed": false,
    "pycharm": {
     "name": "#%%\n"
    }
   }
  },
  {
   "cell_type": "code",
   "execution_count": 14,
   "outputs": [],
   "source": [
    "# categorical features\n",
    "cat_features_list = ['contact_name', 'seller_name', 'region_capital']"
   ],
   "metadata": {
    "collapsed": false,
    "pycharm": {
     "name": "#%%\n"
    }
   }
  },
  {
   "cell_type": "code",
   "execution_count": 16,
   "outputs": [],
   "source": [
    "label_encoded_df = encode_features(selected_df)"
   ],
   "metadata": {
    "collapsed": false,
    "pycharm": {
     "name": "#%%\n"
    }
   }
  },
  {
   "cell_type": "code",
   "execution_count": 17,
   "outputs": [],
   "source": [
    "model, X_test_std, Y_test_std, stdsc = make_regression(label_encoded_df, 'price_value')"
   ],
   "metadata": {
    "collapsed": false,
    "pycharm": {
     "name": "#%%\n"
    }
   }
  },
  {
   "cell_type": "code",
   "execution_count": 18,
   "outputs": [
    {
     "data": {
      "text/plain": "array([[-0.20824906]])"
     },
     "execution_count": 18,
     "metadata": {},
     "output_type": "execute_result"
    }
   ],
   "source": [
    "model.predict(X_test_std[1:2])"
   ],
   "metadata": {
    "collapsed": false,
    "pycharm": {
     "name": "#%%\n"
    }
   }
  },
  {
   "cell_type": "code",
   "execution_count": 19,
   "outputs": [],
   "source": [
    "# todo какие оценки нам надо сделать?: MAPE, RMSE"
   ],
   "metadata": {
    "collapsed": false,
    "pycharm": {
     "name": "#%%\n"
    }
   }
  },
  {
   "cell_type": "code",
   "execution_count": 22,
   "outputs": [],
   "source": [
    "# давай протестируем со шкалированными данными и без"
   ],
   "metadata": {
    "collapsed": false,
    "pycharm": {
     "name": "#%%\n"
    }
   }
  },
  {
   "cell_type": "code",
   "execution_count": 19,
   "outputs": [],
   "source": [
    "Y_pred_std = model.predict(X_test_std)"
   ],
   "metadata": {
    "collapsed": false,
    "pycharm": {
     "name": "#%%\n"
    }
   }
  },
  {
   "cell_type": "code",
   "execution_count": 20,
   "outputs": [
    {
     "data": {
      "text/plain": "6.215795318267291"
     },
     "execution_count": 20,
     "metadata": {},
     "output_type": "execute_result"
    }
   ],
   "source": [
    "metrics.mean_absolute_percentage_error(Y_test_std, Y_pred_std)  # 127 %? .. 600%??"
   ],
   "metadata": {
    "collapsed": false,
    "pycharm": {
     "name": "#%%\n"
    }
   }
  },
  {
   "cell_type": "code",
   "execution_count": 21,
   "outputs": [
    {
     "data": {
      "text/plain": "0.609374526650863"
     },
     "execution_count": 21,
     "metadata": {},
     "output_type": "execute_result"
    }
   ],
   "source": [
    "metrics.mean_absolute_error(Y_test_std, Y_pred_std)"
   ],
   "metadata": {
    "collapsed": false,
    "pycharm": {
     "name": "#%%\n"
    }
   }
  },
  {
   "cell_type": "code",
   "execution_count": 22,
   "outputs": [
    {
     "data": {
      "text/plain": "0.10951284082445209"
     },
     "execution_count": 22,
     "metadata": {},
     "output_type": "execute_result"
    }
   ],
   "source": [
    "0.609374526650863/ Y_test_std.max()"
   ],
   "metadata": {
    "collapsed": false,
    "pycharm": {
     "name": "#%%\n"
    }
   }
  },
  {
   "cell_type": "code",
   "execution_count": 38,
   "outputs": [
    {
     "data": {
      "text/plain": "4.374120554533135"
     },
     "execution_count": 38,
     "metadata": {},
     "output_type": "execute_result"
    }
   ],
   "source": [
    "# This is known as a scale-dependent accuracy measure and, therefore, cannot be used to make comparisons between series using different scales."
   ],
   "metadata": {
    "collapsed": false,
    "pycharm": {
     "name": "#%%\n"
    }
   }
  },
  {
   "cell_type": "code",
   "execution_count": 30,
   "outputs": [],
   "source": [
    "# It is for example not changed by a global scaling of the target variable.\n",
    "# todo попробовать разные метрики добавить (например, MedError)"
   ],
   "metadata": {
    "collapsed": false,
    "pycharm": {
     "name": "#%%\n"
    }
   }
  },
  {
   "cell_type": "code",
   "execution_count": null,
   "outputs": [],
   "source": [
    "# todo надо проделать для absolute values, надо сделать функцию для возврата absolute_error"
   ],
   "metadata": {
    "collapsed": false,
    "pycharm": {
     "name": "#%%\n"
    }
   }
  },
  {
   "cell_type": "code",
   "execution_count": 11,
   "outputs": [],
   "source": [
    "# todo добавить фичу средняя цена за квадрат в регионе"
   ],
   "metadata": {
    "collapsed": false,
    "pycharm": {
     "name": "#%%\n"
    }
   }
  },
  {
   "cell_type": "code",
   "execution_count": 10,
   "outputs": [
    {
     "data": {
      "text/plain": "      views                      contact_name  \\\n1    2311.0        Гаас Александра Георгиевна   \n2     466.0            Брюнель Ева Жисленовна   \n3    1286.0  Плесняев Александр Александрович   \n4    1057.0         Беликин Иван Владимирович   \n5     812.0                   Остроухова Алла   \n..      ...                               ...   \n827   269.0            Коваленко Александр Ан   \n828   279.0            Коваленко Александр Ан   \n829   281.0            Коваленко Александр Ан   \n830   610.0          Нуриев Эдуард Рамзилович   \n831   461.0        Самойленко Денис Сергеевич   \n\n                          seller_name    square  shown_by_days   distance  \\\n1                     Физическое лицо   25111.0     293.884407   8.221511   \n2                     Физическое лицо   50574.0     275.884407  15.086412   \n3    Плесняев Александр Александрович  504500.0     207.884407  49.688507   \n4           Беликин Иван Владимирович   10000.0     215.884407  16.159018   \n5                        ПАО Сбербанк    2400.0     674.884407   8.780511   \n..                                ...       ...            ...        ...   \n827               АО \"Россельхозбанк\"    1527.0     608.884408   9.524407   \n828               АО \"Россельхозбанк\"    1321.0     608.884408   9.708539   \n829               АО \"Россельхозбанк\"    1676.0     608.884408   9.591824   \n830               АО \"Россельхозбанк\"  150100.0     617.884408  43.145711   \n831                      ПАО Сбербанк   10000.0     636.884408   3.074139   \n\n     region_square  region_capital     grp  criminality    km_to_msk  \\\n1         167996.0         Барнаул   550.0        130.8  3077.808288   \n2          36177.0       Ярославль   560.6        105.1   137.376612   \n3          44329.0          Москва  4201.8         72.9   142.859455   \n4          44329.0          Москва  4201.8         72.9    37.925763   \n5         100967.0  Ростов-на-Дону  1446.2        104.8   945.986855   \n..             ...             ...     ...          ...          ...   \n827        29084.0        Владимир   440.5         91.1    91.247107   \n828        29084.0        Владимир   440.5         91.1    91.433379   \n829        29084.0        Владимир   440.5         91.1    91.345769   \n830        67847.0          Казань  2469.2        102.1   946.305150   \n831        84201.0           Тверь   441.7        130.5   315.461761   \n\n     km_to_region_capital  price_value  \n1              172.971129  145500000.0  \n2              112.852414    4500000.0  \n3              143.008314   23450000.0  \n4               37.865816  320000000.0  \n5               17.188847     136000.0  \n..                    ...          ...  \n827             98.556292   10709963.0  \n828             98.483280    9265136.0  \n829             98.496885   11755032.0  \n830            226.197191     226651.0  \n831            170.094175    8270000.0  \n\n[300 rows x 13 columns]",
      "text/html": "<div>\n<style scoped>\n    .dataframe tbody tr th:only-of-type {\n        vertical-align: middle;\n    }\n\n    .dataframe tbody tr th {\n        vertical-align: top;\n    }\n\n    .dataframe thead th {\n        text-align: right;\n    }\n</style>\n<table border=\"1\" class=\"dataframe\">\n  <thead>\n    <tr style=\"text-align: right;\">\n      <th></th>\n      <th>views</th>\n      <th>contact_name</th>\n      <th>seller_name</th>\n      <th>square</th>\n      <th>shown_by_days</th>\n      <th>distance</th>\n      <th>region_square</th>\n      <th>region_capital</th>\n      <th>grp</th>\n      <th>criminality</th>\n      <th>km_to_msk</th>\n      <th>km_to_region_capital</th>\n      <th>price_value</th>\n    </tr>\n  </thead>\n  <tbody>\n    <tr>\n      <th>1</th>\n      <td>2311.0</td>\n      <td>Гаас Александра Георгиевна</td>\n      <td>Физическое лицо</td>\n      <td>25111.0</td>\n      <td>293.884407</td>\n      <td>8.221511</td>\n      <td>167996.0</td>\n      <td>Барнаул</td>\n      <td>550.0</td>\n      <td>130.8</td>\n      <td>3077.808288</td>\n      <td>172.971129</td>\n      <td>145500000.0</td>\n    </tr>\n    <tr>\n      <th>2</th>\n      <td>466.0</td>\n      <td>Брюнель Ева Жисленовна</td>\n      <td>Физическое лицо</td>\n      <td>50574.0</td>\n      <td>275.884407</td>\n      <td>15.086412</td>\n      <td>36177.0</td>\n      <td>Ярославль</td>\n      <td>560.6</td>\n      <td>105.1</td>\n      <td>137.376612</td>\n      <td>112.852414</td>\n      <td>4500000.0</td>\n    </tr>\n    <tr>\n      <th>3</th>\n      <td>1286.0</td>\n      <td>Плесняев Александр Александрович</td>\n      <td>Плесняев Александр Александрович</td>\n      <td>504500.0</td>\n      <td>207.884407</td>\n      <td>49.688507</td>\n      <td>44329.0</td>\n      <td>Москва</td>\n      <td>4201.8</td>\n      <td>72.9</td>\n      <td>142.859455</td>\n      <td>143.008314</td>\n      <td>23450000.0</td>\n    </tr>\n    <tr>\n      <th>4</th>\n      <td>1057.0</td>\n      <td>Беликин Иван Владимирович</td>\n      <td>Беликин Иван Владимирович</td>\n      <td>10000.0</td>\n      <td>215.884407</td>\n      <td>16.159018</td>\n      <td>44329.0</td>\n      <td>Москва</td>\n      <td>4201.8</td>\n      <td>72.9</td>\n      <td>37.925763</td>\n      <td>37.865816</td>\n      <td>320000000.0</td>\n    </tr>\n    <tr>\n      <th>5</th>\n      <td>812.0</td>\n      <td>Остроухова Алла</td>\n      <td>ПАО Сбербанк</td>\n      <td>2400.0</td>\n      <td>674.884407</td>\n      <td>8.780511</td>\n      <td>100967.0</td>\n      <td>Ростов-на-Дону</td>\n      <td>1446.2</td>\n      <td>104.8</td>\n      <td>945.986855</td>\n      <td>17.188847</td>\n      <td>136000.0</td>\n    </tr>\n    <tr>\n      <th>...</th>\n      <td>...</td>\n      <td>...</td>\n      <td>...</td>\n      <td>...</td>\n      <td>...</td>\n      <td>...</td>\n      <td>...</td>\n      <td>...</td>\n      <td>...</td>\n      <td>...</td>\n      <td>...</td>\n      <td>...</td>\n      <td>...</td>\n    </tr>\n    <tr>\n      <th>827</th>\n      <td>269.0</td>\n      <td>Коваленко Александр Ан</td>\n      <td>АО \"Россельхозбанк\"</td>\n      <td>1527.0</td>\n      <td>608.884408</td>\n      <td>9.524407</td>\n      <td>29084.0</td>\n      <td>Владимир</td>\n      <td>440.5</td>\n      <td>91.1</td>\n      <td>91.247107</td>\n      <td>98.556292</td>\n      <td>10709963.0</td>\n    </tr>\n    <tr>\n      <th>828</th>\n      <td>279.0</td>\n      <td>Коваленко Александр Ан</td>\n      <td>АО \"Россельхозбанк\"</td>\n      <td>1321.0</td>\n      <td>608.884408</td>\n      <td>9.708539</td>\n      <td>29084.0</td>\n      <td>Владимир</td>\n      <td>440.5</td>\n      <td>91.1</td>\n      <td>91.433379</td>\n      <td>98.483280</td>\n      <td>9265136.0</td>\n    </tr>\n    <tr>\n      <th>829</th>\n      <td>281.0</td>\n      <td>Коваленко Александр Ан</td>\n      <td>АО \"Россельхозбанк\"</td>\n      <td>1676.0</td>\n      <td>608.884408</td>\n      <td>9.591824</td>\n      <td>29084.0</td>\n      <td>Владимир</td>\n      <td>440.5</td>\n      <td>91.1</td>\n      <td>91.345769</td>\n      <td>98.496885</td>\n      <td>11755032.0</td>\n    </tr>\n    <tr>\n      <th>830</th>\n      <td>610.0</td>\n      <td>Нуриев Эдуард Рамзилович</td>\n      <td>АО \"Россельхозбанк\"</td>\n      <td>150100.0</td>\n      <td>617.884408</td>\n      <td>43.145711</td>\n      <td>67847.0</td>\n      <td>Казань</td>\n      <td>2469.2</td>\n      <td>102.1</td>\n      <td>946.305150</td>\n      <td>226.197191</td>\n      <td>226651.0</td>\n    </tr>\n    <tr>\n      <th>831</th>\n      <td>461.0</td>\n      <td>Самойленко Денис Сергеевич</td>\n      <td>ПАО Сбербанк</td>\n      <td>10000.0</td>\n      <td>636.884408</td>\n      <td>3.074139</td>\n      <td>84201.0</td>\n      <td>Тверь</td>\n      <td>441.7</td>\n      <td>130.5</td>\n      <td>315.461761</td>\n      <td>170.094175</td>\n      <td>8270000.0</td>\n    </tr>\n  </tbody>\n</table>\n<p>300 rows × 13 columns</p>\n</div>"
     },
     "execution_count": 10,
     "metadata": {},
     "output_type": "execute_result"
    }
   ],
   "source": [
    "# todo попробовать в encode_features все спрятать"
   ],
   "metadata": {
    "collapsed": false,
    "pycharm": {
     "name": "#%%\n"
    }
   }
  },
  {
   "cell_type": "code",
   "execution_count": 21,
   "outputs": [
    {
     "data": {
      "text/plain": "(300, 13)"
     },
     "execution_count": 21,
     "metadata": {},
     "output_type": "execute_result"
    }
   ],
   "source": [
    "selected_df.shape"
   ],
   "metadata": {
    "collapsed": false,
    "pycharm": {
     "name": "#%%\n"
    }
   }
  },
  {
   "cell_type": "code",
   "execution_count": null,
   "outputs": [],
   "source": [],
   "metadata": {
    "collapsed": false,
    "pycharm": {
     "name": "#%%\n"
    }
   }
  },
  {
   "cell_type": "markdown",
   "source": [
    "### 28.1.23"
   ],
   "metadata": {
    "collapsed": false,
    "pycharm": {
     "name": "#%% md\n"
    }
   }
  },
  {
   "cell_type": "code",
   "execution_count": null,
   "outputs": [],
   "source": [
    "# нужен пример конвейера"
   ],
   "metadata": {
    "collapsed": false,
    "pycharm": {
     "name": "#%%\n"
    }
   }
  },
  {
   "cell_type": "code",
   "execution_count": 43,
   "outputs": [],
   "source": [
    "from models_functions import model_conveyor, encode_features"
   ],
   "metadata": {
    "collapsed": false,
    "pycharm": {
     "name": "#%%\n"
    }
   }
  },
  {
   "cell_type": "code",
   "execution_count": 2,
   "outputs": [],
   "source": [
    "import pandas as pd"
   ],
   "metadata": {
    "collapsed": false,
    "pycharm": {
     "name": "#%%\n"
    }
   }
  },
  {
   "cell_type": "code",
   "execution_count": 20,
   "outputs": [],
   "source": [
    "import numpy as np"
   ],
   "metadata": {
    "collapsed": false,
    "pycharm": {
     "name": "#%%\n"
    }
   }
  },
  {
   "cell_type": "code",
   "execution_count": 12,
   "outputs": [],
   "source": [
    "import ast"
   ],
   "metadata": {
    "collapsed": false,
    "pycharm": {
     "name": "#%%\n"
    }
   }
  },
  {
   "cell_type": "code",
   "execution_count": 3,
   "outputs": [],
   "source": [
    "pd.options.display.float_format = '{:_.2f}'.format"
   ],
   "metadata": {
    "collapsed": false,
    "pycharm": {
     "name": "#%%\n"
    }
   }
  },
  {
   "cell_type": "code",
   "execution_count": 129,
   "outputs": [],
   "source": [
    "lien_df = pd.read_csv('../data/lien_df1_18_01_23.csv', sep=';')"
   ],
   "metadata": {
    "collapsed": false,
    "pycharm": {
     "name": "#%%\n"
    }
   }
  },
  {
   "cell_type": "code",
   "execution_count": 130,
   "outputs": [],
   "source": [
    "lien_df['cadastral_lat'] = lien_df['cadastral_geocode'].apply(lambda x: decode_lat_geocode(x))\n",
    "lien_df['cadastral_long'] = lien_df['cadastral_geocode'].apply(lambda x: decode_long_geocode(x))\n",
    "lien_df['region_lat'] = lien_df['region_geocode'].apply(lambda x: decode_lat_geocode(x))\n",
    "lien_df['region_long'] = lien_df['region_geocode'].apply(lambda x: decode_long_geocode(x))\n",
    "lien_df['region_capital_lat'] = lien_df['region_capital_geocode'].apply(lambda x: decode_lat_geocode(x))\n",
    "lien_df['region_capital_long'] = lien_df['region_capital_geocode'].apply(lambda x: decode_long_geocode(x))"
   ],
   "metadata": {
    "collapsed": false,
    "pycharm": {
     "name": "#%%\n"
    }
   }
  },
  {
   "cell_type": "code",
   "execution_count": 131,
   "outputs": [],
   "source": [
    "lien_df.to_csv('../data/lien_df1_29_01_23.csv', sep=';', index=False)"
   ],
   "metadata": {
    "collapsed": false,
    "pycharm": {
     "name": "#%%\n"
    }
   }
  },
  {
   "cell_type": "code",
   "execution_count": null,
   "outputs": [],
   "source": [],
   "metadata": {
    "collapsed": false,
    "pycharm": {
     "name": "#%%\n"
    }
   }
  },
  {
   "cell_type": "code",
   "execution_count": 72,
   "outputs": [
    {
     "data": {
      "text/plain": "    asset_id    views publication_date            contact_name  \\\n0 814_114.00 1_535.00   15 ноября 2022  Контактный Центр Банка   \n\n      seller_name  square   price_value cadastral_geocode  \\\n0  Банк ВТБ (ПАО)     NaN 48_700_000.00               NaN   \n\n             region_geocode  shown_by_days  distance  region_square  \\\n0  [55.6711507, 37.2727963]          64.88       NaN      44_329.00   \n\n    population region_capital      grp  criminality  km_to_msk  \\\n0 8_542_257.00         Москва 4_201.80        72.90      23.79   \n\n     region_capital_geocode  km_to_region_capital  \n0  [55.7504461, 37.6174943]                   NaN  ",
      "text/html": "<div>\n<style scoped>\n    .dataframe tbody tr th:only-of-type {\n        vertical-align: middle;\n    }\n\n    .dataframe tbody tr th {\n        vertical-align: top;\n    }\n\n    .dataframe thead th {\n        text-align: right;\n    }\n</style>\n<table border=\"1\" class=\"dataframe\">\n  <thead>\n    <tr style=\"text-align: right;\">\n      <th></th>\n      <th>asset_id</th>\n      <th>views</th>\n      <th>publication_date</th>\n      <th>contact_name</th>\n      <th>seller_name</th>\n      <th>square</th>\n      <th>price_value</th>\n      <th>cadastral_geocode</th>\n      <th>region_geocode</th>\n      <th>shown_by_days</th>\n      <th>distance</th>\n      <th>region_square</th>\n      <th>population</th>\n      <th>region_capital</th>\n      <th>grp</th>\n      <th>criminality</th>\n      <th>km_to_msk</th>\n      <th>region_capital_geocode</th>\n      <th>km_to_region_capital</th>\n    </tr>\n  </thead>\n  <tbody>\n    <tr>\n      <th>0</th>\n      <td>814_114.00</td>\n      <td>1_535.00</td>\n      <td>15 ноября 2022</td>\n      <td>Контактный Центр Банка</td>\n      <td>Банк ВТБ (ПАО)</td>\n      <td>NaN</td>\n      <td>48_700_000.00</td>\n      <td>NaN</td>\n      <td>[55.6711507, 37.2727963]</td>\n      <td>64.88</td>\n      <td>NaN</td>\n      <td>44_329.00</td>\n      <td>8_542_257.00</td>\n      <td>Москва</td>\n      <td>4_201.80</td>\n      <td>72.90</td>\n      <td>23.79</td>\n      <td>[55.7504461, 37.6174943]</td>\n      <td>NaN</td>\n    </tr>\n  </tbody>\n</table>\n</div>"
     },
     "execution_count": 72,
     "metadata": {},
     "output_type": "execute_result"
    }
   ],
   "source": [
    "lien_df[:1]"
   ],
   "metadata": {
    "collapsed": false,
    "pycharm": {
     "name": "#%%\n"
    }
   }
  },
  {
   "cell_type": "code",
   "execution_count": 78,
   "outputs": [],
   "source": [
    "selected_df = lien_df[['views', 'contact_name', 'seller_name', 'square', 'cadastral_geocode', 'region_geocode','shown_by_days', 'distance', 'region_square', 'population', 'region_capital', 'grp', 'criminality', 'km_to_msk', 'region_capital_geocode', 'km_to_region_capital',  'price_value']].copy()"
   ],
   "metadata": {
    "collapsed": false,
    "pycharm": {
     "name": "#%%\n"
    }
   }
  },
  {
   "cell_type": "code",
   "execution_count": 80,
   "outputs": [],
   "source": [
    "selected_df['cadastral_lat'] = selected_df['cadastral_geocode'].apply(lambda x: decode_lat_geocode(x))\n",
    "selected_df['cadastral_long'] = selected_df['cadastral_geocode'].apply(lambda x: decode_long_geocode(x))\n",
    "selected_df['region_lat'] = selected_df['region_geocode'].apply(lambda x: decode_lat_geocode(x))\n",
    "selected_df['region_long'] = selected_df['region_geocode'].apply(lambda x: decode_long_geocode(x))\n",
    "selected_df['region_capital_lat'] = selected_df['region_capital_geocode'].apply(lambda x: decode_lat_geocode(x))\n",
    "selected_df['region_capital_long'] = selected_df['region_capital_geocode'].apply(lambda x: decode_long_geocode(x))"
   ],
   "metadata": {
    "collapsed": false,
    "pycharm": {
     "name": "#%%\n"
    }
   }
  },
  {
   "cell_type": "code",
   "execution_count": 81,
   "outputs": [],
   "source": [
    "selected_df = selected_df.dropna()  # пока поработаем без null"
   ],
   "metadata": {
    "collapsed": false,
    "pycharm": {
     "name": "#%%\n"
    }
   }
  },
  {
   "cell_type": "code",
   "execution_count": 83,
   "outputs": [],
   "source": [
    "selected_df = encode_features(selected_df)"
   ],
   "metadata": {
    "collapsed": false,
    "pycharm": {
     "name": "#%%\n"
    }
   }
  },
  {
   "cell_type": "code",
   "execution_count": 85,
   "outputs": [
    {
     "name": "stderr",
     "output_type": "stream",
     "text": [
      "100%|██████████| 3/3 [00:00<00:00, 1252.16it/s]"
     ]
    },
    {
     "name": "stdout",
     "output_type": "stream",
     "text": [
      "mape\n",
      "mae\n",
      "mse\n"
     ]
    },
    {
     "name": "stderr",
     "output_type": "stream",
     "text": [
      "\n"
     ]
    }
   ],
   "source": [
    "model, metrics_df, X_train_scaled, Y_train_scaled, X_test_scaled, Y_test_scaled, scaler_x_train, \\\n",
    "scaler_y_train, scaler_x_test, scaler_y_test = model_conveyor(selected_df, 'linear_regression', 'minmax', ['mape', 'mae', 'mse'], True, 'model_dumps/')"
   ],
   "metadata": {
    "collapsed": false,
    "pycharm": {
     "name": "#%%\n"
    }
   }
  },
  {
   "cell_type": "code",
   "execution_count": 87,
   "outputs": [
    {
     "data": {
      "text/plain": "                                           mape           mae  \\\ntrain_scaled               3_517_468_985_815.60          0.06   \ntest_scaled                7_252_560_655_430.76          0.17   \ntrain_unscaled 1_758_734_492_877_115_621_376.00 29_627_749.42   \ntest_unscaled  1_073_378_976_996_409_475_072.00 42_983_507.81   \n\n                                    mse  \ntrain_scaled                       0.01  \ntest_scaled                        0.06  \ntrain_unscaled 3_197_121_702_184_335.00  \ntest_unscaled  9_434_311_743_003_102.00  ",
      "text/html": "<div>\n<style scoped>\n    .dataframe tbody tr th:only-of-type {\n        vertical-align: middle;\n    }\n\n    .dataframe tbody tr th {\n        vertical-align: top;\n    }\n\n    .dataframe thead th {\n        text-align: right;\n    }\n</style>\n<table border=\"1\" class=\"dataframe\">\n  <thead>\n    <tr style=\"text-align: right;\">\n      <th></th>\n      <th>mape</th>\n      <th>mae</th>\n      <th>mse</th>\n    </tr>\n  </thead>\n  <tbody>\n    <tr>\n      <th>train_scaled</th>\n      <td>3_517_468_985_815.60</td>\n      <td>0.06</td>\n      <td>0.01</td>\n    </tr>\n    <tr>\n      <th>test_scaled</th>\n      <td>7_252_560_655_430.76</td>\n      <td>0.17</td>\n      <td>0.06</td>\n    </tr>\n    <tr>\n      <th>train_unscaled</th>\n      <td>1_758_734_492_877_115_621_376.00</td>\n      <td>29_627_749.42</td>\n      <td>3_197_121_702_184_335.00</td>\n    </tr>\n    <tr>\n      <th>test_unscaled</th>\n      <td>1_073_378_976_996_409_475_072.00</td>\n      <td>42_983_507.81</td>\n      <td>9_434_311_743_003_102.00</td>\n    </tr>\n  </tbody>\n</table>\n</div>"
     },
     "execution_count": 87,
     "metadata": {},
     "output_type": "execute_result"
    }
   ],
   "source": [
    "metrics_df # ну хм удалось улучшить"
   ],
   "metadata": {
    "collapsed": false,
    "pycharm": {
     "name": "#%%\n"
    }
   }
  },
  {
   "cell_type": "code",
   "execution_count": 88,
   "outputs": [],
   "source": [
    "# визуализация результатов\n",
    "# засунуть в функцию"
   ],
   "metadata": {
    "collapsed": false,
    "pycharm": {
     "name": "#%%\n"
    }
   }
  },
  {
   "cell_type": "code",
   "execution_count": 95,
   "outputs": [],
   "source": [
    "pred_df = pd.DataFrame(scaler_y_test.inverse_transform(model.predict(X_test_scaled)))"
   ],
   "metadata": {
    "collapsed": false,
    "pycharm": {
     "name": "#%%\n"
    }
   }
  },
  {
   "cell_type": "code",
   "execution_count": 96,
   "outputs": [],
   "source": [
    "true_df = pd.DataFrame(scaler_y_test.inverse_transform(Y_test_scaled))"
   ],
   "metadata": {
    "collapsed": false,
    "pycharm": {
     "name": "#%%\n"
    }
   }
  },
  {
   "cell_type": "code",
   "execution_count": 104,
   "outputs": [],
   "source": [
    "pred_df = pred_df.rename(columns={0: 'pred'})\n",
    "true_df = true_df.rename(columns={0: 'true'})"
   ],
   "metadata": {
    "collapsed": false,
    "pycharm": {
     "name": "#%%\n"
    }
   }
  },
  {
   "cell_type": "code",
   "execution_count": 115,
   "outputs": [],
   "source": [
    "import plotly.express as px"
   ],
   "metadata": {
    "collapsed": false,
    "pycharm": {
     "name": "#%%\n"
    }
   }
  },
  {
   "cell_type": "code",
   "execution_count": 116,
   "outputs": [],
   "source": [
    "pd.options.plotting.backend = \"plotly\""
   ],
   "metadata": {
    "collapsed": false,
    "pycharm": {
     "name": "#%%\n"
    }
   }
  },
  {
   "cell_type": "code",
   "execution_count": 120,
   "outputs": [],
   "source": [
    "joined_df = pred_df.join(true_df)"
   ],
   "metadata": {
    "collapsed": false,
    "pycharm": {
     "name": "#%%\n"
    }
   }
  },
  {
   "cell_type": "code",
   "execution_count": 121,
   "outputs": [],
   "source": [
    "joined_df = joined_df.sort_values(by='true')"
   ],
   "metadata": {
    "collapsed": false,
    "pycharm": {
     "name": "#%%\n"
    }
   }
  },
  {
   "cell_type": "code",
   "execution_count": 123,
   "outputs": [],
   "source": [
    "joined_df = joined_df.reset_index(drop=True)"
   ],
   "metadata": {
    "collapsed": false,
    "pycharm": {
     "name": "#%%\n"
    }
   }
  },
  {
   "cell_type": "code",
   "execution_count": 124,
   "outputs": [
    {
     "data": {
      "text/plain": "             pred           true\n0   14_300_280.65           0.00\n1   25_371_589.67      85_000.00\n2   27_761_541.60     105_600.00\n3   40_854_922.44     141_800.00\n4      915_697.67     173_740.00\n5   15_783_391.79     219_574.00\n6   19_202_946.88     222_300.00\n7   22_742_528.84     243_000.00\n8    1_174_017.55     278_027.00\n9    8_539_033.09     295_200.00\n10  46_560_327.81     309_000.00\n11  46_180_388.26     309_000.00\n12  45_664_367.16     309_000.00\n13  45_411_476.80     309_000.00\n14  47_193_643.95     309_000.00\n15  46_514_784.56     309_000.00\n16  47_453_612.50     309_000.00\n17  48_406_512.40     313_333.00\n18  44_585_292.87     337_236.00\n19  47_874_261.26     343_000.00\n20  33_694_503.12     492_800.00\n21  34_345_711.80     492_800.00\n22   8_761_314.53     500_000.00\n23  -2_284_130.44     548_680.00\n24  12_587_772.46     572_662.00\n25  27_270_491.44     659_462.00\n26     881_887.89     674_000.00\n27   4_910_470.46     774_281.00\n28  10_285_706.46     867_850.00\n29  23_347_576.21     883_333.00\n30  15_844_448.80     900_000.00\n31  54_803_291.04   1_040_000.00\n32  10_687_272.94   1_222_494.00\n33  33_168_271.41   3_400_000.00\n34  -5_506_547.59   5_100_000.00\n35  26_025_057.54   6_700_000.00\n36  16_694_938.43   7_020_000.00\n37  30_102_712.64   7_580_000.00\n38  30_088_639.10   7_580_000.00\n39  24_120_605.26   8_570_000.00\n40  29_529_630.09   9_530_000.00\n41  10_809_183.02   9_763_115.00\n42   9_577_092.39   9_994_581.00\n43  59_817_159.98  10_020_000.00\n44  28_875_179.14  10_640_000.00\n45   9_684_454.26  10_822_193.00\n46  16_906_584.54  11_220_000.00\n47  11_305_821.13  11_228_982.00\n48  11_069_513.48  11_243_017.00\n49  12_206_782.30  11_474_483.00\n50  11_001_083.63  12_147_785.00\n51  28_107_739.04  12_740_000.00\n52   1_727_400.70  19_440_000.00\n53  34_659_056.10  21_040_000.00\n54  36_306_736.28  24_730_000.00\n55   1_362_243.54  28_153_125.00\n56  96_153_017.79  32_000_000.00\n57  90_562_384.72  82_600_000.00\n58 -17_674_455.20 145_500_000.00\n59  35_216_878.96 148_000_000.00",
      "text/html": "<div>\n<style scoped>\n    .dataframe tbody tr th:only-of-type {\n        vertical-align: middle;\n    }\n\n    .dataframe tbody tr th {\n        vertical-align: top;\n    }\n\n    .dataframe thead th {\n        text-align: right;\n    }\n</style>\n<table border=\"1\" class=\"dataframe\">\n  <thead>\n    <tr style=\"text-align: right;\">\n      <th></th>\n      <th>pred</th>\n      <th>true</th>\n    </tr>\n  </thead>\n  <tbody>\n    <tr>\n      <th>0</th>\n      <td>14_300_280.65</td>\n      <td>0.00</td>\n    </tr>\n    <tr>\n      <th>1</th>\n      <td>25_371_589.67</td>\n      <td>85_000.00</td>\n    </tr>\n    <tr>\n      <th>2</th>\n      <td>27_761_541.60</td>\n      <td>105_600.00</td>\n    </tr>\n    <tr>\n      <th>3</th>\n      <td>40_854_922.44</td>\n      <td>141_800.00</td>\n    </tr>\n    <tr>\n      <th>4</th>\n      <td>915_697.67</td>\n      <td>173_740.00</td>\n    </tr>\n    <tr>\n      <th>5</th>\n      <td>15_783_391.79</td>\n      <td>219_574.00</td>\n    </tr>\n    <tr>\n      <th>6</th>\n      <td>19_202_946.88</td>\n      <td>222_300.00</td>\n    </tr>\n    <tr>\n      <th>7</th>\n      <td>22_742_528.84</td>\n      <td>243_000.00</td>\n    </tr>\n    <tr>\n      <th>8</th>\n      <td>1_174_017.55</td>\n      <td>278_027.00</td>\n    </tr>\n    <tr>\n      <th>9</th>\n      <td>8_539_033.09</td>\n      <td>295_200.00</td>\n    </tr>\n    <tr>\n      <th>10</th>\n      <td>46_560_327.81</td>\n      <td>309_000.00</td>\n    </tr>\n    <tr>\n      <th>11</th>\n      <td>46_180_388.26</td>\n      <td>309_000.00</td>\n    </tr>\n    <tr>\n      <th>12</th>\n      <td>45_664_367.16</td>\n      <td>309_000.00</td>\n    </tr>\n    <tr>\n      <th>13</th>\n      <td>45_411_476.80</td>\n      <td>309_000.00</td>\n    </tr>\n    <tr>\n      <th>14</th>\n      <td>47_193_643.95</td>\n      <td>309_000.00</td>\n    </tr>\n    <tr>\n      <th>15</th>\n      <td>46_514_784.56</td>\n      <td>309_000.00</td>\n    </tr>\n    <tr>\n      <th>16</th>\n      <td>47_453_612.50</td>\n      <td>309_000.00</td>\n    </tr>\n    <tr>\n      <th>17</th>\n      <td>48_406_512.40</td>\n      <td>313_333.00</td>\n    </tr>\n    <tr>\n      <th>18</th>\n      <td>44_585_292.87</td>\n      <td>337_236.00</td>\n    </tr>\n    <tr>\n      <th>19</th>\n      <td>47_874_261.26</td>\n      <td>343_000.00</td>\n    </tr>\n    <tr>\n      <th>20</th>\n      <td>33_694_503.12</td>\n      <td>492_800.00</td>\n    </tr>\n    <tr>\n      <th>21</th>\n      <td>34_345_711.80</td>\n      <td>492_800.00</td>\n    </tr>\n    <tr>\n      <th>22</th>\n      <td>8_761_314.53</td>\n      <td>500_000.00</td>\n    </tr>\n    <tr>\n      <th>23</th>\n      <td>-2_284_130.44</td>\n      <td>548_680.00</td>\n    </tr>\n    <tr>\n      <th>24</th>\n      <td>12_587_772.46</td>\n      <td>572_662.00</td>\n    </tr>\n    <tr>\n      <th>25</th>\n      <td>27_270_491.44</td>\n      <td>659_462.00</td>\n    </tr>\n    <tr>\n      <th>26</th>\n      <td>881_887.89</td>\n      <td>674_000.00</td>\n    </tr>\n    <tr>\n      <th>27</th>\n      <td>4_910_470.46</td>\n      <td>774_281.00</td>\n    </tr>\n    <tr>\n      <th>28</th>\n      <td>10_285_706.46</td>\n      <td>867_850.00</td>\n    </tr>\n    <tr>\n      <th>29</th>\n      <td>23_347_576.21</td>\n      <td>883_333.00</td>\n    </tr>\n    <tr>\n      <th>30</th>\n      <td>15_844_448.80</td>\n      <td>900_000.00</td>\n    </tr>\n    <tr>\n      <th>31</th>\n      <td>54_803_291.04</td>\n      <td>1_040_000.00</td>\n    </tr>\n    <tr>\n      <th>32</th>\n      <td>10_687_272.94</td>\n      <td>1_222_494.00</td>\n    </tr>\n    <tr>\n      <th>33</th>\n      <td>33_168_271.41</td>\n      <td>3_400_000.00</td>\n    </tr>\n    <tr>\n      <th>34</th>\n      <td>-5_506_547.59</td>\n      <td>5_100_000.00</td>\n    </tr>\n    <tr>\n      <th>35</th>\n      <td>26_025_057.54</td>\n      <td>6_700_000.00</td>\n    </tr>\n    <tr>\n      <th>36</th>\n      <td>16_694_938.43</td>\n      <td>7_020_000.00</td>\n    </tr>\n    <tr>\n      <th>37</th>\n      <td>30_102_712.64</td>\n      <td>7_580_000.00</td>\n    </tr>\n    <tr>\n      <th>38</th>\n      <td>30_088_639.10</td>\n      <td>7_580_000.00</td>\n    </tr>\n    <tr>\n      <th>39</th>\n      <td>24_120_605.26</td>\n      <td>8_570_000.00</td>\n    </tr>\n    <tr>\n      <th>40</th>\n      <td>29_529_630.09</td>\n      <td>9_530_000.00</td>\n    </tr>\n    <tr>\n      <th>41</th>\n      <td>10_809_183.02</td>\n      <td>9_763_115.00</td>\n    </tr>\n    <tr>\n      <th>42</th>\n      <td>9_577_092.39</td>\n      <td>9_994_581.00</td>\n    </tr>\n    <tr>\n      <th>43</th>\n      <td>59_817_159.98</td>\n      <td>10_020_000.00</td>\n    </tr>\n    <tr>\n      <th>44</th>\n      <td>28_875_179.14</td>\n      <td>10_640_000.00</td>\n    </tr>\n    <tr>\n      <th>45</th>\n      <td>9_684_454.26</td>\n      <td>10_822_193.00</td>\n    </tr>\n    <tr>\n      <th>46</th>\n      <td>16_906_584.54</td>\n      <td>11_220_000.00</td>\n    </tr>\n    <tr>\n      <th>47</th>\n      <td>11_305_821.13</td>\n      <td>11_228_982.00</td>\n    </tr>\n    <tr>\n      <th>48</th>\n      <td>11_069_513.48</td>\n      <td>11_243_017.00</td>\n    </tr>\n    <tr>\n      <th>49</th>\n      <td>12_206_782.30</td>\n      <td>11_474_483.00</td>\n    </tr>\n    <tr>\n      <th>50</th>\n      <td>11_001_083.63</td>\n      <td>12_147_785.00</td>\n    </tr>\n    <tr>\n      <th>51</th>\n      <td>28_107_739.04</td>\n      <td>12_740_000.00</td>\n    </tr>\n    <tr>\n      <th>52</th>\n      <td>1_727_400.70</td>\n      <td>19_440_000.00</td>\n    </tr>\n    <tr>\n      <th>53</th>\n      <td>34_659_056.10</td>\n      <td>21_040_000.00</td>\n    </tr>\n    <tr>\n      <th>54</th>\n      <td>36_306_736.28</td>\n      <td>24_730_000.00</td>\n    </tr>\n    <tr>\n      <th>55</th>\n      <td>1_362_243.54</td>\n      <td>28_153_125.00</td>\n    </tr>\n    <tr>\n      <th>56</th>\n      <td>96_153_017.79</td>\n      <td>32_000_000.00</td>\n    </tr>\n    <tr>\n      <th>57</th>\n      <td>90_562_384.72</td>\n      <td>82_600_000.00</td>\n    </tr>\n    <tr>\n      <th>58</th>\n      <td>-17_674_455.20</td>\n      <td>145_500_000.00</td>\n    </tr>\n    <tr>\n      <th>59</th>\n      <td>35_216_878.96</td>\n      <td>148_000_000.00</td>\n    </tr>\n  </tbody>\n</table>\n</div>"
     },
     "execution_count": 124,
     "metadata": {},
     "output_type": "execute_result"
    }
   ],
   "source": [
    "joined_df"
   ],
   "metadata": {
    "collapsed": false,
    "pycharm": {
     "name": "#%%\n"
    }
   }
  },
  {
   "cell_type": "code",
   "execution_count": 126,
   "outputs": [],
   "source": [
    "fig = joined_df.plot(x=joined_df.index, y=['pred', 'true'])"
   ],
   "metadata": {
    "collapsed": false,
    "pycharm": {
     "name": "#%%\n"
    }
   }
  },
  {
   "cell_type": "code",
   "execution_count": 128,
   "outputs": [],
   "source": [
    "fig.write_html('exmpl_html.html')"
   ],
   "metadata": {
    "collapsed": false,
    "pycharm": {
     "name": "#%%\n"
    }
   }
  },
  {
   "cell_type": "code",
   "execution_count": null,
   "outputs": [],
   "source": [
    "# сортируем по возрастанию и рисуем"
   ],
   "metadata": {
    "collapsed": false,
    "pycharm": {
     "name": "#%%\n"
    }
   }
  },
  {
   "cell_type": "code",
   "execution_count": null,
   "outputs": [],
   "source": [],
   "metadata": {
    "collapsed": false,
    "pycharm": {
     "name": "#%%\n"
    }
   }
  },
  {
   "cell_type": "code",
   "execution_count": null,
   "outputs": [],
   "source": [],
   "metadata": {
    "collapsed": false,
    "pycharm": {
     "name": "#%%\n"
    }
   }
  },
  {
   "cell_type": "code",
   "execution_count": null,
   "outputs": [],
   "source": [
    "# TODO\n",
    "# на unscaled оценки - пиздец, надо внимательно проверить функцию, точно ли все ок делаем ну и в целом модель говно"
   ],
   "metadata": {
    "collapsed": false,
    "pycharm": {
     "name": "#%%\n"
    }
   }
  },
  {
   "cell_type": "code",
   "execution_count": 16,
   "outputs": [],
   "source": [
    "# конвейер работает => надо играться с данными, добавлять больше моделей"
   ],
   "metadata": {
    "collapsed": false,
    "pycharm": {
     "name": "#%%\n"
    }
   }
  },
  {
   "cell_type": "code",
   "execution_count": 17,
   "outputs": [
    {
     "data": {
      "text/plain": "       views                      contact_name  \\\n1   2_311.00        Гаас Александра Георгиевна   \n2     466.00            Брюнель Ева Жисленовна   \n3   1_286.00  Плесняев Александр Александрович   \n4   1_057.00         Беликин Иван Владимирович   \n5     812.00                   Остроухова Алла   \n..       ...                               ...   \n827   269.00            Коваленко Александр Ан   \n828   279.00            Коваленко Александр Ан   \n829   281.00            Коваленко Александр Ан   \n830   610.00          Нуриев Эдуард Рамзилович   \n831   461.00        Самойленко Денис Сергеевич   \n\n                          seller_name     square  shown_by_days  distance  \\\n1                     Физическое лицо  25_111.00         293.88      8.22   \n2                     Физическое лицо  50_574.00         275.88     15.09   \n3    Плесняев Александр Александрович 504_500.00         207.88     49.69   \n4           Беликин Иван Владимирович  10_000.00         215.88     16.16   \n5                        ПАО Сбербанк   2_400.00         674.88      8.78   \n..                                ...        ...            ...       ...   \n827               АО \"Россельхозбанк\"   1_527.00         608.88      9.52   \n828               АО \"Россельхозбанк\"   1_321.00         608.88      9.71   \n829               АО \"Россельхозбанк\"   1_676.00         608.88      9.59   \n830               АО \"Россельхозбанк\" 150_100.00         617.88     43.15   \n831                      ПАО Сбербанк  10_000.00         636.88      3.07   \n\n     region_square  region_capital      grp  criminality  km_to_msk  \\\n1       167_996.00         Барнаул   550.00       130.80   3_077.81   \n2        36_177.00       Ярославль   560.60       105.10     137.38   \n3        44_329.00          Москва 4_201.80        72.90     142.86   \n4        44_329.00          Москва 4_201.80        72.90      37.93   \n5       100_967.00  Ростов-на-Дону 1_446.20       104.80     945.99   \n..             ...             ...      ...          ...        ...   \n827      29_084.00        Владимир   440.50        91.10      91.25   \n828      29_084.00        Владимир   440.50        91.10      91.43   \n829      29_084.00        Владимир   440.50        91.10      91.35   \n830      67_847.00          Казань 2_469.20       102.10     946.31   \n831      84_201.00           Тверь   441.70       130.50     315.46   \n\n     km_to_region_capital    price_value  \n1                  172.97 145_500_000.00  \n2                  112.85   4_500_000.00  \n3                  143.01  23_450_000.00  \n4                   37.87 320_000_000.00  \n5                   17.19     136_000.00  \n..                    ...            ...  \n827                 98.56  10_709_963.00  \n828                 98.48   9_265_136.00  \n829                 98.50  11_755_032.00  \n830                226.20     226_651.00  \n831                170.09   8_270_000.00  \n\n[300 rows x 13 columns]",
      "text/html": "<div>\n<style scoped>\n    .dataframe tbody tr th:only-of-type {\n        vertical-align: middle;\n    }\n\n    .dataframe tbody tr th {\n        vertical-align: top;\n    }\n\n    .dataframe thead th {\n        text-align: right;\n    }\n</style>\n<table border=\"1\" class=\"dataframe\">\n  <thead>\n    <tr style=\"text-align: right;\">\n      <th></th>\n      <th>views</th>\n      <th>contact_name</th>\n      <th>seller_name</th>\n      <th>square</th>\n      <th>shown_by_days</th>\n      <th>distance</th>\n      <th>region_square</th>\n      <th>region_capital</th>\n      <th>grp</th>\n      <th>criminality</th>\n      <th>km_to_msk</th>\n      <th>km_to_region_capital</th>\n      <th>price_value</th>\n    </tr>\n  </thead>\n  <tbody>\n    <tr>\n      <th>1</th>\n      <td>2_311.00</td>\n      <td>Гаас Александра Георгиевна</td>\n      <td>Физическое лицо</td>\n      <td>25_111.00</td>\n      <td>293.88</td>\n      <td>8.22</td>\n      <td>167_996.00</td>\n      <td>Барнаул</td>\n      <td>550.00</td>\n      <td>130.80</td>\n      <td>3_077.81</td>\n      <td>172.97</td>\n      <td>145_500_000.00</td>\n    </tr>\n    <tr>\n      <th>2</th>\n      <td>466.00</td>\n      <td>Брюнель Ева Жисленовна</td>\n      <td>Физическое лицо</td>\n      <td>50_574.00</td>\n      <td>275.88</td>\n      <td>15.09</td>\n      <td>36_177.00</td>\n      <td>Ярославль</td>\n      <td>560.60</td>\n      <td>105.10</td>\n      <td>137.38</td>\n      <td>112.85</td>\n      <td>4_500_000.00</td>\n    </tr>\n    <tr>\n      <th>3</th>\n      <td>1_286.00</td>\n      <td>Плесняев Александр Александрович</td>\n      <td>Плесняев Александр Александрович</td>\n      <td>504_500.00</td>\n      <td>207.88</td>\n      <td>49.69</td>\n      <td>44_329.00</td>\n      <td>Москва</td>\n      <td>4_201.80</td>\n      <td>72.90</td>\n      <td>142.86</td>\n      <td>143.01</td>\n      <td>23_450_000.00</td>\n    </tr>\n    <tr>\n      <th>4</th>\n      <td>1_057.00</td>\n      <td>Беликин Иван Владимирович</td>\n      <td>Беликин Иван Владимирович</td>\n      <td>10_000.00</td>\n      <td>215.88</td>\n      <td>16.16</td>\n      <td>44_329.00</td>\n      <td>Москва</td>\n      <td>4_201.80</td>\n      <td>72.90</td>\n      <td>37.93</td>\n      <td>37.87</td>\n      <td>320_000_000.00</td>\n    </tr>\n    <tr>\n      <th>5</th>\n      <td>812.00</td>\n      <td>Остроухова Алла</td>\n      <td>ПАО Сбербанк</td>\n      <td>2_400.00</td>\n      <td>674.88</td>\n      <td>8.78</td>\n      <td>100_967.00</td>\n      <td>Ростов-на-Дону</td>\n      <td>1_446.20</td>\n      <td>104.80</td>\n      <td>945.99</td>\n      <td>17.19</td>\n      <td>136_000.00</td>\n    </tr>\n    <tr>\n      <th>...</th>\n      <td>...</td>\n      <td>...</td>\n      <td>...</td>\n      <td>...</td>\n      <td>...</td>\n      <td>...</td>\n      <td>...</td>\n      <td>...</td>\n      <td>...</td>\n      <td>...</td>\n      <td>...</td>\n      <td>...</td>\n      <td>...</td>\n    </tr>\n    <tr>\n      <th>827</th>\n      <td>269.00</td>\n      <td>Коваленко Александр Ан</td>\n      <td>АО \"Россельхозбанк\"</td>\n      <td>1_527.00</td>\n      <td>608.88</td>\n      <td>9.52</td>\n      <td>29_084.00</td>\n      <td>Владимир</td>\n      <td>440.50</td>\n      <td>91.10</td>\n      <td>91.25</td>\n      <td>98.56</td>\n      <td>10_709_963.00</td>\n    </tr>\n    <tr>\n      <th>828</th>\n      <td>279.00</td>\n      <td>Коваленко Александр Ан</td>\n      <td>АО \"Россельхозбанк\"</td>\n      <td>1_321.00</td>\n      <td>608.88</td>\n      <td>9.71</td>\n      <td>29_084.00</td>\n      <td>Владимир</td>\n      <td>440.50</td>\n      <td>91.10</td>\n      <td>91.43</td>\n      <td>98.48</td>\n      <td>9_265_136.00</td>\n    </tr>\n    <tr>\n      <th>829</th>\n      <td>281.00</td>\n      <td>Коваленко Александр Ан</td>\n      <td>АО \"Россельхозбанк\"</td>\n      <td>1_676.00</td>\n      <td>608.88</td>\n      <td>9.59</td>\n      <td>29_084.00</td>\n      <td>Владимир</td>\n      <td>440.50</td>\n      <td>91.10</td>\n      <td>91.35</td>\n      <td>98.50</td>\n      <td>11_755_032.00</td>\n    </tr>\n    <tr>\n      <th>830</th>\n      <td>610.00</td>\n      <td>Нуриев Эдуард Рамзилович</td>\n      <td>АО \"Россельхозбанк\"</td>\n      <td>150_100.00</td>\n      <td>617.88</td>\n      <td>43.15</td>\n      <td>67_847.00</td>\n      <td>Казань</td>\n      <td>2_469.20</td>\n      <td>102.10</td>\n      <td>946.31</td>\n      <td>226.20</td>\n      <td>226_651.00</td>\n    </tr>\n    <tr>\n      <th>831</th>\n      <td>461.00</td>\n      <td>Самойленко Денис Сергеевич</td>\n      <td>ПАО Сбербанк</td>\n      <td>10_000.00</td>\n      <td>636.88</td>\n      <td>3.07</td>\n      <td>84_201.00</td>\n      <td>Тверь</td>\n      <td>441.70</td>\n      <td>130.50</td>\n      <td>315.46</td>\n      <td>170.09</td>\n      <td>8_270_000.00</td>\n    </tr>\n  </tbody>\n</table>\n<p>300 rows × 13 columns</p>\n</div>"
     },
     "execution_count": 17,
     "metadata": {},
     "output_type": "execute_result"
    }
   ],
   "source": [
    "selected_df"
   ],
   "metadata": {
    "collapsed": false,
    "pycharm": {
     "name": "#%%\n"
    }
   }
  },
  {
   "cell_type": "code",
   "execution_count": 9,
   "outputs": [
    {
     "data": {
      "text/plain": "      asset_id    views publication_date                      contact_name  \\\n0   814_114.00 1_535.00   15 ноября 2022            Контактный Центр Банка   \n1   641_505.00 2_311.00    31 марта 2022        Гаас Александра Георгиевна   \n2   169_347.00   466.00   18 апреля 2022            Брюнель Ева Жисленовна   \n3   899_895.00 1_286.00     25 июня 2022  Плесняев Александр Александрович   \n4   269_183.00 1_057.00     17 июня 2022         Беликин Иван Владимирович   \n..         ...      ...              ...                               ...   \n827 691_104.00   269.00      20 мая 2021            Коваленко Александр Ан   \n828 630_263.00   279.00      20 мая 2021            Коваленко Александр Ан   \n829 177_552.00   281.00      20 мая 2021            Коваленко Александр Ан   \n830 841_885.00   610.00      11 мая 2021          Нуриев Эдуард Рамзилович   \n831 419_254.00   461.00   22 апреля 2021        Самойленко Денис Сергеевич   \n\n                          seller_name     square    price_value  \\\n0                      Банк ВТБ (ПАО)        NaN  48_700_000.00   \n1                     Физическое лицо  25_111.00 145_500_000.00   \n2                     Физическое лицо  50_574.00   4_500_000.00   \n3    Плесняев Александр Александрович 504_500.00  23_450_000.00   \n4           Беликин Иван Владимирович  10_000.00 320_000_000.00   \n..                                ...        ...            ...   \n827               АО \"Россельхозбанк\"   1_527.00  10_709_963.00   \n828               АО \"Россельхозбанк\"   1_321.00   9_265_136.00   \n829               АО \"Россельхозбанк\"   1_676.00  11_755_032.00   \n830               АО \"Россельхозбанк\" 150_100.00     226_651.00   \n831                      ПАО Сбербанк  10_000.00   8_270_000.00   \n\n                           cadastral_geocode  \\\n0                                        NaN   \n1     [51.94720028246027, 84.88831594503662]   \n2     [56.77190698765615, 38.88962726762723]   \n3    [55.73199800626753, 35.340751735565306]   \n4      [55.7008175028533, 37.02131098410721]   \n..                                       ...   \n827   [56.21913602478085, 38.82900562858026]   \n828  [56.220926330893064, 38.83048310378695]   \n829    [56.21983629294916, 38.8300820194728]   \n830  [55.822853130025955, 52.73092958759532]   \n831   [57.14073651577907, 33.14393000643601]   \n\n                              region_geocode  shown_by_days  distance  \\\n0                   [55.6711507, 37.2727963]          64.88       NaN   \n1                   [51.9931851, 84.9819571]         293.88      8.22   \n2           [56.80208355, 38.64899133747492]         275.88     15.09   \n3                    [55.506478, 36.0213092]         207.88     49.69   \n4                   [55.6711507, 37.2727963]         215.88     16.16   \n..                                       ...            ...       ...   \n827          [56.1345574, 38.85192758087219]         608.88      9.52   \n828          [56.1345574, 38.85192758087219]         608.88      9.71   \n829          [56.1345574, 38.85192758087219]         608.88      9.59   \n830  [55.682141200000004, 52.09069161386946]         617.88     43.15   \n831                 [57.1557583, 33.1013213]         636.88      3.07   \n\n     region_square   population region_capital      grp  criminality  \\\n0        44_329.00 8_542_257.00         Москва 4_201.80        72.90   \n1       167_996.00 2_154_932.00        Барнаул   550.00       130.80   \n2        36_177.00 1_205_637.00      Ярославль   560.60       105.10   \n3        44_329.00 8_542_257.00         Москва 4_201.80        72.90   \n4        44_329.00 8_542_257.00         Москва 4_201.80        72.90   \n..             ...          ...            ...      ...          ...   \n827      29_084.00 1_342_235.00       Владимир   440.50        91.10   \n828      29_084.00 1_342_235.00       Владимир   440.50        91.10   \n829      29_084.00 1_342_235.00       Владимир   440.50        91.10   \n830      67_847.00 4_000_084.00         Казань 2_469.20       102.10   \n831      84_201.00 1_226_038.00          Тверь   441.70       130.50   \n\n     km_to_msk           region_capital_geocode  km_to_region_capital  \n0        23.79         [55.7504461, 37.6174943]                   NaN  \n1     3_077.81          [53.347402, 83.7784496]                172.97  \n2       137.38         [57.6263877, 39.8933705]                112.85  \n3       142.86         [55.7504461, 37.6174943]                143.01  \n4        37.93         [55.7504461, 37.6174943]                 37.87  \n..         ...                              ...                   ...  \n827      91.25         [56.1288899, 40.4075203]                 98.56  \n828      91.43         [56.1288899, 40.4075203]                 98.48  \n829      91.35         [56.1288899, 40.4075203]                 98.50  \n830     946.31         [55.7823547, 49.1242266]                226.20  \n831     315.46  [56.8596713, 35.89524161906262]                170.09  \n\n[832 rows x 19 columns]",
      "text/html": "<div>\n<style scoped>\n    .dataframe tbody tr th:only-of-type {\n        vertical-align: middle;\n    }\n\n    .dataframe tbody tr th {\n        vertical-align: top;\n    }\n\n    .dataframe thead th {\n        text-align: right;\n    }\n</style>\n<table border=\"1\" class=\"dataframe\">\n  <thead>\n    <tr style=\"text-align: right;\">\n      <th></th>\n      <th>asset_id</th>\n      <th>views</th>\n      <th>publication_date</th>\n      <th>contact_name</th>\n      <th>seller_name</th>\n      <th>square</th>\n      <th>price_value</th>\n      <th>cadastral_geocode</th>\n      <th>region_geocode</th>\n      <th>shown_by_days</th>\n      <th>distance</th>\n      <th>region_square</th>\n      <th>population</th>\n      <th>region_capital</th>\n      <th>grp</th>\n      <th>criminality</th>\n      <th>km_to_msk</th>\n      <th>region_capital_geocode</th>\n      <th>km_to_region_capital</th>\n    </tr>\n  </thead>\n  <tbody>\n    <tr>\n      <th>0</th>\n      <td>814_114.00</td>\n      <td>1_535.00</td>\n      <td>15 ноября 2022</td>\n      <td>Контактный Центр Банка</td>\n      <td>Банк ВТБ (ПАО)</td>\n      <td>NaN</td>\n      <td>48_700_000.00</td>\n      <td>NaN</td>\n      <td>[55.6711507, 37.2727963]</td>\n      <td>64.88</td>\n      <td>NaN</td>\n      <td>44_329.00</td>\n      <td>8_542_257.00</td>\n      <td>Москва</td>\n      <td>4_201.80</td>\n      <td>72.90</td>\n      <td>23.79</td>\n      <td>[55.7504461, 37.6174943]</td>\n      <td>NaN</td>\n    </tr>\n    <tr>\n      <th>1</th>\n      <td>641_505.00</td>\n      <td>2_311.00</td>\n      <td>31 марта 2022</td>\n      <td>Гаас Александра Георгиевна</td>\n      <td>Физическое лицо</td>\n      <td>25_111.00</td>\n      <td>145_500_000.00</td>\n      <td>[51.94720028246027, 84.88831594503662]</td>\n      <td>[51.9931851, 84.9819571]</td>\n      <td>293.88</td>\n      <td>8.22</td>\n      <td>167_996.00</td>\n      <td>2_154_932.00</td>\n      <td>Барнаул</td>\n      <td>550.00</td>\n      <td>130.80</td>\n      <td>3_077.81</td>\n      <td>[53.347402, 83.7784496]</td>\n      <td>172.97</td>\n    </tr>\n    <tr>\n      <th>2</th>\n      <td>169_347.00</td>\n      <td>466.00</td>\n      <td>18 апреля 2022</td>\n      <td>Брюнель Ева Жисленовна</td>\n      <td>Физическое лицо</td>\n      <td>50_574.00</td>\n      <td>4_500_000.00</td>\n      <td>[56.77190698765615, 38.88962726762723]</td>\n      <td>[56.80208355, 38.64899133747492]</td>\n      <td>275.88</td>\n      <td>15.09</td>\n      <td>36_177.00</td>\n      <td>1_205_637.00</td>\n      <td>Ярославль</td>\n      <td>560.60</td>\n      <td>105.10</td>\n      <td>137.38</td>\n      <td>[57.6263877, 39.8933705]</td>\n      <td>112.85</td>\n    </tr>\n    <tr>\n      <th>3</th>\n      <td>899_895.00</td>\n      <td>1_286.00</td>\n      <td>25 июня 2022</td>\n      <td>Плесняев Александр Александрович</td>\n      <td>Плесняев Александр Александрович</td>\n      <td>504_500.00</td>\n      <td>23_450_000.00</td>\n      <td>[55.73199800626753, 35.340751735565306]</td>\n      <td>[55.506478, 36.0213092]</td>\n      <td>207.88</td>\n      <td>49.69</td>\n      <td>44_329.00</td>\n      <td>8_542_257.00</td>\n      <td>Москва</td>\n      <td>4_201.80</td>\n      <td>72.90</td>\n      <td>142.86</td>\n      <td>[55.7504461, 37.6174943]</td>\n      <td>143.01</td>\n    </tr>\n    <tr>\n      <th>4</th>\n      <td>269_183.00</td>\n      <td>1_057.00</td>\n      <td>17 июня 2022</td>\n      <td>Беликин Иван Владимирович</td>\n      <td>Беликин Иван Владимирович</td>\n      <td>10_000.00</td>\n      <td>320_000_000.00</td>\n      <td>[55.7008175028533, 37.02131098410721]</td>\n      <td>[55.6711507, 37.2727963]</td>\n      <td>215.88</td>\n      <td>16.16</td>\n      <td>44_329.00</td>\n      <td>8_542_257.00</td>\n      <td>Москва</td>\n      <td>4_201.80</td>\n      <td>72.90</td>\n      <td>37.93</td>\n      <td>[55.7504461, 37.6174943]</td>\n      <td>37.87</td>\n    </tr>\n    <tr>\n      <th>...</th>\n      <td>...</td>\n      <td>...</td>\n      <td>...</td>\n      <td>...</td>\n      <td>...</td>\n      <td>...</td>\n      <td>...</td>\n      <td>...</td>\n      <td>...</td>\n      <td>...</td>\n      <td>...</td>\n      <td>...</td>\n      <td>...</td>\n      <td>...</td>\n      <td>...</td>\n      <td>...</td>\n      <td>...</td>\n      <td>...</td>\n      <td>...</td>\n    </tr>\n    <tr>\n      <th>827</th>\n      <td>691_104.00</td>\n      <td>269.00</td>\n      <td>20 мая 2021</td>\n      <td>Коваленко Александр Ан</td>\n      <td>АО \"Россельхозбанк\"</td>\n      <td>1_527.00</td>\n      <td>10_709_963.00</td>\n      <td>[56.21913602478085, 38.82900562858026]</td>\n      <td>[56.1345574, 38.85192758087219]</td>\n      <td>608.88</td>\n      <td>9.52</td>\n      <td>29_084.00</td>\n      <td>1_342_235.00</td>\n      <td>Владимир</td>\n      <td>440.50</td>\n      <td>91.10</td>\n      <td>91.25</td>\n      <td>[56.1288899, 40.4075203]</td>\n      <td>98.56</td>\n    </tr>\n    <tr>\n      <th>828</th>\n      <td>630_263.00</td>\n      <td>279.00</td>\n      <td>20 мая 2021</td>\n      <td>Коваленко Александр Ан</td>\n      <td>АО \"Россельхозбанк\"</td>\n      <td>1_321.00</td>\n      <td>9_265_136.00</td>\n      <td>[56.220926330893064, 38.83048310378695]</td>\n      <td>[56.1345574, 38.85192758087219]</td>\n      <td>608.88</td>\n      <td>9.71</td>\n      <td>29_084.00</td>\n      <td>1_342_235.00</td>\n      <td>Владимир</td>\n      <td>440.50</td>\n      <td>91.10</td>\n      <td>91.43</td>\n      <td>[56.1288899, 40.4075203]</td>\n      <td>98.48</td>\n    </tr>\n    <tr>\n      <th>829</th>\n      <td>177_552.00</td>\n      <td>281.00</td>\n      <td>20 мая 2021</td>\n      <td>Коваленко Александр Ан</td>\n      <td>АО \"Россельхозбанк\"</td>\n      <td>1_676.00</td>\n      <td>11_755_032.00</td>\n      <td>[56.21983629294916, 38.8300820194728]</td>\n      <td>[56.1345574, 38.85192758087219]</td>\n      <td>608.88</td>\n      <td>9.59</td>\n      <td>29_084.00</td>\n      <td>1_342_235.00</td>\n      <td>Владимир</td>\n      <td>440.50</td>\n      <td>91.10</td>\n      <td>91.35</td>\n      <td>[56.1288899, 40.4075203]</td>\n      <td>98.50</td>\n    </tr>\n    <tr>\n      <th>830</th>\n      <td>841_885.00</td>\n      <td>610.00</td>\n      <td>11 мая 2021</td>\n      <td>Нуриев Эдуард Рамзилович</td>\n      <td>АО \"Россельхозбанк\"</td>\n      <td>150_100.00</td>\n      <td>226_651.00</td>\n      <td>[55.822853130025955, 52.73092958759532]</td>\n      <td>[55.682141200000004, 52.09069161386946]</td>\n      <td>617.88</td>\n      <td>43.15</td>\n      <td>67_847.00</td>\n      <td>4_000_084.00</td>\n      <td>Казань</td>\n      <td>2_469.20</td>\n      <td>102.10</td>\n      <td>946.31</td>\n      <td>[55.7823547, 49.1242266]</td>\n      <td>226.20</td>\n    </tr>\n    <tr>\n      <th>831</th>\n      <td>419_254.00</td>\n      <td>461.00</td>\n      <td>22 апреля 2021</td>\n      <td>Самойленко Денис Сергеевич</td>\n      <td>ПАО Сбербанк</td>\n      <td>10_000.00</td>\n      <td>8_270_000.00</td>\n      <td>[57.14073651577907, 33.14393000643601]</td>\n      <td>[57.1557583, 33.1013213]</td>\n      <td>636.88</td>\n      <td>3.07</td>\n      <td>84_201.00</td>\n      <td>1_226_038.00</td>\n      <td>Тверь</td>\n      <td>441.70</td>\n      <td>130.50</td>\n      <td>315.46</td>\n      <td>[56.8596713, 35.89524161906262]</td>\n      <td>170.09</td>\n    </tr>\n  </tbody>\n</table>\n<p>832 rows × 19 columns</p>\n</div>"
     },
     "execution_count": 9,
     "metadata": {},
     "output_type": "execute_result"
    }
   ],
   "source": [
    "lien_df  # попробуем вскрыть геокод"
   ],
   "metadata": {
    "collapsed": false,
    "pycharm": {
     "name": "#%%\n"
    }
   }
  },
  {
   "cell_type": "code",
   "execution_count": 15,
   "outputs": [
    {
     "data": {
      "text/plain": "[51.94720028246027, 84.88831594503662]"
     },
     "execution_count": 15,
     "metadata": {},
     "output_type": "execute_result"
    }
   ],
   "source": [
    "ast.literal_eval(lien_df['cadastral_geocode'][1])"
   ],
   "metadata": {
    "collapsed": false,
    "pycharm": {
     "name": "#%%\n"
    }
   }
  },
  {
   "cell_type": "code",
   "execution_count": 17,
   "outputs": [],
   "source": [
    "lien_df1 = lien_df.copy()"
   ],
   "metadata": {
    "collapsed": false,
    "pycharm": {
     "name": "#%%\n"
    }
   }
  },
  {
   "cell_type": "code",
   "execution_count": 30,
   "outputs": [],
   "source": [
    "# лучшие практики программирования"
   ],
   "metadata": {
    "collapsed": false,
    "pycharm": {
     "name": "#%%\n"
    }
   }
  },
  {
   "cell_type": "code",
   "execution_count": 28,
   "outputs": [],
   "source": [
    "def decode_lat_geocode(x):\n",
    "    if '[' in str(x):\n",
    "        lat_var =  ast.literal_eval(x)[0]\n",
    "        return lat_var\n",
    "    else:\n",
    "        return np.NaN"
   ],
   "metadata": {
    "collapsed": false,
    "pycharm": {
     "name": "#%%\n"
    }
   }
  },
  {
   "cell_type": "code",
   "execution_count": 31,
   "outputs": [],
   "source": [
    "def decode_long_geocode(x):\n",
    "    if '[' in str(x):\n",
    "        long_var =  ast.literal_eval(x)[1]\n",
    "        return long_var\n",
    "    else:\n",
    "        return np.NaN"
   ],
   "metadata": {
    "collapsed": false,
    "pycharm": {
     "name": "#%%\n"
    }
   }
  },
  {
   "cell_type": "code",
   "execution_count": 32,
   "outputs": [],
   "source": [
    "lien_df1['cadastral_lat'] = lien_df1['cadastral_geocode'].apply(lambda x: decode_lat_geocode(x))\n",
    "lien_df1['cadastral_long'] = lien_df1['cadastral_geocode'].apply(lambda x: decode_long_geocode(x))\n",
    "lien_df1['region_lat'] = lien_df1['region_geocode'].apply(lambda x: decode_lat_geocode(x))\n",
    "lien_df1['region_long'] = lien_df1['region_geocode'].apply(lambda x: decode_long_geocode(x))"
   ],
   "metadata": {
    "collapsed": false,
    "pycharm": {
     "name": "#%%\n"
    }
   }
  },
  {
   "cell_type": "code",
   "execution_count": 37,
   "outputs": [],
   "source": [
    "# good! залетаем в моделирование!!!"
   ],
   "metadata": {
    "collapsed": false,
    "pycharm": {
     "name": "#%%\n"
    }
   }
  },
  {
   "cell_type": "code",
   "execution_count": 54,
   "outputs": [],
   "source": [
    "selected_df1 = lien_df1[['views', 'contact_name', 'seller_name', 'square', 'shown_by_days', 'distance', 'region_square', 'region_capital', 'grp', 'criminality', 'km_to_msk', 'km_to_region_capital', 'cadastral_lat',\n",
    " 'cadastral_long', 'region_lat', 'region_long', 'price_value']].copy()"
   ],
   "metadata": {
    "collapsed": false,
    "pycharm": {
     "name": "#%%\n"
    }
   }
  },
  {
   "cell_type": "code",
   "execution_count": 55,
   "outputs": [],
   "source": [
    "selected_df1 = encode_features(selected_df1)"
   ],
   "metadata": {
    "collapsed": false,
    "pycharm": {
     "name": "#%%\n"
    }
   }
  },
  {
   "cell_type": "code",
   "execution_count": 56,
   "outputs": [
    {
     "name": "stderr",
     "output_type": "stream",
     "text": [
      "100%|██████████| 3/3 [00:00<00:00, 944.88it/s]"
     ]
    },
    {
     "name": "stdout",
     "output_type": "stream",
     "text": [
      "mape\n",
      "mae\n",
      "mse\n"
     ]
    },
    {
     "name": "stderr",
     "output_type": "stream",
     "text": [
      "\n"
     ]
    }
   ],
   "source": [
    "selected_df1 = selected_df1.dropna()  # пока поработаем без null\n",
    "model1, metrics_df1, X_train_scaled, Y_train_scaled, X_test_scaled, Y_test_scaled, scaler_x_train, scaler_y_train, scaler_x_test, scaler_y_test = model_conveyor(\n",
    "    selected_df, 'linear_regression', 'minmax', ['mape', 'mae', 'mse'], True, 'model_dumps/')"
   ],
   "metadata": {
    "collapsed": false,
    "pycharm": {
     "name": "#%%\n"
    }
   }
  },
  {
   "cell_type": "code",
   "execution_count": 62,
   "outputs": [
    {
     "data": {
      "text/plain": "     views  contact_name  seller_name    square  shown_by_days  distance  \\\n1 2_311.00            24           75 25_111.00         293.88      8.22   \n\n   region_square  region_capital    grp  criminality  km_to_msk  \\\n1     167_996.00               2 550.00       130.80   3_077.81   \n\n   km_to_region_capital  cadastral_lat  cadastral_long  region_lat  \\\n1                172.97          51.95           84.89       51.99   \n\n   region_long    price_value  \n1        84.98 145_500_000.00  ",
      "text/html": "<div>\n<style scoped>\n    .dataframe tbody tr th:only-of-type {\n        vertical-align: middle;\n    }\n\n    .dataframe tbody tr th {\n        vertical-align: top;\n    }\n\n    .dataframe thead th {\n        text-align: right;\n    }\n</style>\n<table border=\"1\" class=\"dataframe\">\n  <thead>\n    <tr style=\"text-align: right;\">\n      <th></th>\n      <th>views</th>\n      <th>contact_name</th>\n      <th>seller_name</th>\n      <th>square</th>\n      <th>shown_by_days</th>\n      <th>distance</th>\n      <th>region_square</th>\n      <th>region_capital</th>\n      <th>grp</th>\n      <th>criminality</th>\n      <th>km_to_msk</th>\n      <th>km_to_region_capital</th>\n      <th>cadastral_lat</th>\n      <th>cadastral_long</th>\n      <th>region_lat</th>\n      <th>region_long</th>\n      <th>price_value</th>\n    </tr>\n  </thead>\n  <tbody>\n    <tr>\n      <th>1</th>\n      <td>2_311.00</td>\n      <td>24</td>\n      <td>75</td>\n      <td>25_111.00</td>\n      <td>293.88</td>\n      <td>8.22</td>\n      <td>167_996.00</td>\n      <td>2</td>\n      <td>550.00</td>\n      <td>130.80</td>\n      <td>3_077.81</td>\n      <td>172.97</td>\n      <td>51.95</td>\n      <td>84.89</td>\n      <td>51.99</td>\n      <td>84.98</td>\n      <td>145_500_000.00</td>\n    </tr>\n  </tbody>\n</table>\n</div>"
     },
     "execution_count": 62,
     "metadata": {},
     "output_type": "execute_result"
    }
   ],
   "source": [
    "selected_df1[:1]"
   ],
   "metadata": {
    "collapsed": false,
    "pycharm": {
     "name": "#%%\n"
    }
   }
  },
  {
   "cell_type": "code",
   "execution_count": 69,
   "outputs": [
    {
     "data": {
      "text/plain": "     views  contact_name  seller_name    square  shown_by_days  distance  \\\n751 348.00           100           49 23_391.00         488.88     30.92   \n\n     region_square  region_capital      grp  criminality  km_to_msk  \\\n751      83_908.00              46 1_104.40       112.40     622.37   \n\n     km_to_region_capital  cadastral_lat  cadastral_long  region_lat  \\\n751                 38.27          59.62           30.05       59.35   \n\n     region_long  price_value  \n751        30.15 3_400_000.00  ",
      "text/html": "<div>\n<style scoped>\n    .dataframe tbody tr th:only-of-type {\n        vertical-align: middle;\n    }\n\n    .dataframe tbody tr th {\n        vertical-align: top;\n    }\n\n    .dataframe thead th {\n        text-align: right;\n    }\n</style>\n<table border=\"1\" class=\"dataframe\">\n  <thead>\n    <tr style=\"text-align: right;\">\n      <th></th>\n      <th>views</th>\n      <th>contact_name</th>\n      <th>seller_name</th>\n      <th>square</th>\n      <th>shown_by_days</th>\n      <th>distance</th>\n      <th>region_square</th>\n      <th>region_capital</th>\n      <th>grp</th>\n      <th>criminality</th>\n      <th>km_to_msk</th>\n      <th>km_to_region_capital</th>\n      <th>cadastral_lat</th>\n      <th>cadastral_long</th>\n      <th>region_lat</th>\n      <th>region_long</th>\n      <th>price_value</th>\n    </tr>\n  </thead>\n  <tbody>\n    <tr>\n      <th>751</th>\n      <td>348.00</td>\n      <td>100</td>\n      <td>49</td>\n      <td>23_391.00</td>\n      <td>488.88</td>\n      <td>30.92</td>\n      <td>83_908.00</td>\n      <td>46</td>\n      <td>1_104.40</td>\n      <td>112.40</td>\n      <td>622.37</td>\n      <td>38.27</td>\n      <td>59.62</td>\n      <td>30.05</td>\n      <td>59.35</td>\n      <td>30.15</td>\n      <td>3_400_000.00</td>\n    </tr>\n  </tbody>\n</table>\n</div>"
     },
     "execution_count": 69,
     "metadata": {},
     "output_type": "execute_result"
    }
   ],
   "source": [
    "selected_df1.loc[selected_df1['square']==23391]"
   ],
   "metadata": {
    "collapsed": false,
    "pycharm": {
     "name": "#%%\n"
    }
   }
  },
  {
   "cell_type": "code",
   "execution_count": null,
   "outputs": [],
   "source": [],
   "metadata": {
    "collapsed": false,
    "pycharm": {
     "name": "#%%\n"
    }
   }
  },
  {
   "cell_type": "code",
   "execution_count": 66,
   "outputs": [
    {
     "data": {
      "text/plain": "array([[6.80000000e+01, 3.90000000e+01, 3.09150826e+01, 3.40000000e+01,\n        3.48000000e+02, 2.33910000e+04, 1.10440000e+03, 3.82703890e+01,\n        1.12400000e+02, 8.39080000e+04, 6.22366373e+02, 4.88884408e+02]])"
     },
     "execution_count": 66,
     "metadata": {},
     "output_type": "execute_result"
    }
   ],
   "source": [
    "scaler_x_train.inverse_transform(X_train_scaled[:1])"
   ],
   "metadata": {
    "collapsed": false,
    "pycharm": {
     "name": "#%%\n"
    }
   }
  },
  {
   "cell_type": "code",
   "execution_count": null,
   "outputs": [],
   "source": [],
   "metadata": {
    "collapsed": false,
    "pycharm": {
     "name": "#%%\n"
    }
   }
  },
  {
   "cell_type": "code",
   "execution_count": 50,
   "outputs": [],
   "source": [],
   "metadata": {
    "collapsed": false,
    "pycharm": {
     "name": "#%%\n"
    }
   }
  },
  {
   "cell_type": "code",
   "execution_count": 58,
   "outputs": [
    {
     "data": {
      "text/plain": "                                           mape           mae  \\\ntrain_scaled               1_707_820_159_334.16          0.05   \ntest_scaled                8_537_012_841_724.05          0.18   \ntrain_unscaled   853_910_079_635_404_095_488.00 27_248_640.97   \ntest_unscaled  2_390_363_595_648_223_150_080.00 52_765_198.48   \n\n                                    mse  \ntrain_scaled                       0.01  \ntest_scaled                        0.05  \ntrain_unscaled 3_446_464_484_624_697.50  \ntest_unscaled  5_309_346_036_052_963.00  ",
      "text/html": "<div>\n<style scoped>\n    .dataframe tbody tr th:only-of-type {\n        vertical-align: middle;\n    }\n\n    .dataframe tbody tr th {\n        vertical-align: top;\n    }\n\n    .dataframe thead th {\n        text-align: right;\n    }\n</style>\n<table border=\"1\" class=\"dataframe\">\n  <thead>\n    <tr style=\"text-align: right;\">\n      <th></th>\n      <th>mape</th>\n      <th>mae</th>\n      <th>mse</th>\n    </tr>\n  </thead>\n  <tbody>\n    <tr>\n      <th>train_scaled</th>\n      <td>1_707_820_159_334.16</td>\n      <td>0.05</td>\n      <td>0.01</td>\n    </tr>\n    <tr>\n      <th>test_scaled</th>\n      <td>8_537_012_841_724.05</td>\n      <td>0.18</td>\n      <td>0.05</td>\n    </tr>\n    <tr>\n      <th>train_unscaled</th>\n      <td>853_910_079_635_404_095_488.00</td>\n      <td>27_248_640.97</td>\n      <td>3_446_464_484_624_697.50</td>\n    </tr>\n    <tr>\n      <th>test_unscaled</th>\n      <td>2_390_363_595_648_223_150_080.00</td>\n      <td>52_765_198.48</td>\n      <td>5_309_346_036_052_963.00</td>\n    </tr>\n  </tbody>\n</table>\n</div>"
     },
     "execution_count": 58,
     "metadata": {},
     "output_type": "execute_result"
    }
   ],
   "source": [
    "metrics_df1  # геокоды не дают нормального реза"
   ],
   "metadata": {
    "collapsed": false,
    "pycharm": {
     "name": "#%%\n"
    }
   }
  },
  {
   "cell_type": "code",
   "execution_count": 57,
   "outputs": [
    {
     "data": {
      "text/plain": "                                            mape            mae  \\\ntrain_scaled                1_486_736_823_294.61           0.05   \ntest_scaled                23_701_475_694_168.22           0.22   \ntrain_unscaled    669_031_570_462_310_662_144.00  21_622_282.27   \ntest_unscaled  11_850_737_846_978_095_349_760.00 109_645_699.63   \n\n                                     mse  \ntrain_scaled                        0.01  \ntest_scaled                         0.08  \ntrain_unscaled  2_165_457_468_386_866.75  \ntest_unscaled  20_333_877_982_552_680.00  ",
      "text/html": "<div>\n<style scoped>\n    .dataframe tbody tr th:only-of-type {\n        vertical-align: middle;\n    }\n\n    .dataframe tbody tr th {\n        vertical-align: top;\n    }\n\n    .dataframe thead th {\n        text-align: right;\n    }\n</style>\n<table border=\"1\" class=\"dataframe\">\n  <thead>\n    <tr style=\"text-align: right;\">\n      <th></th>\n      <th>mape</th>\n      <th>mae</th>\n      <th>mse</th>\n    </tr>\n  </thead>\n  <tbody>\n    <tr>\n      <th>train_scaled</th>\n      <td>1_486_736_823_294.61</td>\n      <td>0.05</td>\n      <td>0.01</td>\n    </tr>\n    <tr>\n      <th>test_scaled</th>\n      <td>23_701_475_694_168.22</td>\n      <td>0.22</td>\n      <td>0.08</td>\n    </tr>\n    <tr>\n      <th>train_unscaled</th>\n      <td>669_031_570_462_310_662_144.00</td>\n      <td>21_622_282.27</td>\n      <td>2_165_457_468_386_866.75</td>\n    </tr>\n    <tr>\n      <th>test_unscaled</th>\n      <td>11_850_737_846_978_095_349_760.00</td>\n      <td>109_645_699.63</td>\n      <td>20_333_877_982_552_680.00</td>\n    </tr>\n  </tbody>\n</table>\n</div>"
     },
     "execution_count": 57,
     "metadata": {},
     "output_type": "execute_result"
    }
   ],
   "source": [
    "metrics_df"
   ],
   "metadata": {
    "collapsed": false,
    "pycharm": {
     "name": "#%%\n"
    }
   }
  },
  {
   "cell_type": "code",
   "execution_count": null,
   "outputs": [],
   "source": [
    "# ну блять а encodить кто будет?"
   ],
   "metadata": {
    "collapsed": false,
    "pycharm": {
     "name": "#%%\n",
     "is_executing": true
    }
   }
  },
  {
   "cell_type": "code",
   "execution_count": 37,
   "outputs": [],
   "source": [],
   "metadata": {
    "collapsed": false,
    "pycharm": {
     "name": "#%%\n"
    }
   }
  },
  {
   "cell_type": "code",
   "execution_count": 59,
   "outputs": [],
   "source": [
    "# погнали дальше набьем все метрики"
   ],
   "metadata": {
    "collapsed": false,
    "pycharm": {
     "name": "#%%\n"
    }
   }
  },
  {
   "cell_type": "code",
   "execution_count": null,
   "outputs": [],
   "source": [
    "# todo визуализировать результаты"
   ],
   "metadata": {
    "collapsed": false,
    "pycharm": {
     "name": "#%%\n"
    }
   }
  },
  {
   "cell_type": "code",
   "execution_count": null,
   "outputs": [],
   "source": [],
   "metadata": {
    "collapsed": false,
    "pycharm": {
     "name": "#%%\n"
    }
   }
  },
  {
   "cell_type": "code",
   "execution_count": 61,
   "outputs": [
    {
     "data": {
      "text/plain": "array([[ 0.33514931],\n       [ 0.60653721],\n       [ 0.07872473],\n       [ 0.17350262],\n       [ 0.33497516],\n       [ 0.12048106],\n       [-0.0122369 ],\n       [ 0.08632093],\n       [ 0.04285197],\n       [ 0.12069366],\n       [ 0.33517954],\n       [ 0.28404201],\n       [ 0.27218623],\n       [ 0.62198473],\n       [ 0.18205457],\n       [ 0.05313905],\n       [ 0.12196616],\n       [ 0.05068173],\n       [ 0.20140185],\n       [ 0.20668423],\n       [ 0.62153047],\n       [ 0.00888641],\n       [ 0.33456781],\n       [ 0.06169674],\n       [ 0.05283165],\n       [ 0.29351801],\n       [ 0.09619107],\n       [ 0.16519962],\n       [ 0.28150524],\n       [ 0.1449217 ],\n       [-0.05087981],\n       [ 0.16110521],\n       [ 0.31693021],\n       [ 0.09771067],\n       [ 0.29029391],\n       [-0.00534207],\n       [ 0.16108526],\n       [-0.06026086],\n       [-0.00721419],\n       [ 0.33506086],\n       [ 0.14220713],\n       [ 0.10926264],\n       [-0.01028688],\n       [ 0.6135574 ],\n       [ 0.05720459],\n       [ 0.10383674],\n       [ 0.13185106],\n       [ 0.21403706],\n       [-0.0406971 ],\n       [ 0.17903117],\n       [ 0.07901257],\n       [ 0.1208087 ],\n       [ 0.03718225],\n       [ 0.07681256],\n       [ 0.18739211],\n       [ 0.61071116],\n       [ 0.546468  ],\n       [ 0.14542919],\n       [ 0.0369233 ],\n       [ 0.29673437]])"
     },
     "execution_count": 61,
     "metadata": {},
     "output_type": "execute_result"
    }
   ],
   "source": [
    "model1.predict(X_test_scaled)"
   ],
   "metadata": {
    "collapsed": false,
    "pycharm": {
     "name": "#%%\n"
    }
   }
  },
  {
   "cell_type": "code",
   "execution_count": null,
   "outputs": [],
   "source": [],
   "metadata": {
    "collapsed": false,
    "pycharm": {
     "name": "#%%\n",
     "is_executing": true
    }
   }
  },
  {
   "cell_type": "code",
   "execution_count": null,
   "outputs": [],
   "source": [],
   "metadata": {
    "collapsed": false,
    "pycharm": {
     "name": "#%%\n",
     "is_executing": true
    }
   }
  },
  {
   "cell_type": "code",
   "execution_count": 61,
   "outputs": [],
   "source": [],
   "metadata": {
    "collapsed": false,
    "pycharm": {
     "name": "#%%\n"
    }
   }
  }
 ],
 "metadata": {
  "kernelspec": {
   "name": "portal_da",
   "language": "python",
   "display_name": "portal_da"
  },
  "language_info": {
   "codemirror_mode": {
    "name": "ipython",
    "version": 2
   },
   "file_extension": ".py",
   "mimetype": "text/x-python",
   "name": "python",
   "nbconvert_exporter": "python",
   "pygments_lexer": "ipython2",
   "version": "2.7.6"
  }
 },
 "nbformat": 4,
 "nbformat_minor": 0
}