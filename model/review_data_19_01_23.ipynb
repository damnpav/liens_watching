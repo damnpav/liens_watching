{
 "cells": [
  {
   "cell_type": "code",
   "execution_count": 1,
   "metadata": {
    "collapsed": true,
    "pycharm": {
     "name": "#%%\n"
    }
   },
   "outputs": [],
   "source": [
    "import pandas as pd"
   ]
  },
  {
   "cell_type": "code",
   "execution_count": 2,
   "outputs": [],
   "source": [
    "lien_df = pd.read_csv('../data/lien_df1_18_01_23.csv', sep=';')"
   ],
   "metadata": {
    "collapsed": false,
    "pycharm": {
     "name": "#%%\n"
    }
   }
  },
  {
   "cell_type": "code",
   "execution_count": 3,
   "outputs": [
    {
     "data": {
      "text/plain": "     asset_id   views publication_date                      contact_name  \\\n0    814114.0  1535.0   15 ноября 2022            Контактный Центр Банка   \n1    641505.0  2311.0    31 марта 2022        Гаас Александра Георгиевна   \n2    169347.0   466.0   18 апреля 2022            Брюнель Ева Жисленовна   \n3    899895.0  1286.0     25 июня 2022  Плесняев Александр Александрович   \n4    269183.0  1057.0     17 июня 2022         Беликин Иван Владимирович   \n..        ...     ...              ...                               ...   \n827  691104.0   269.0      20 мая 2021            Коваленко Александр Ан   \n828  630263.0   279.0      20 мая 2021            Коваленко Александр Ан   \n829  177552.0   281.0      20 мая 2021            Коваленко Александр Ан   \n830  841885.0   610.0      11 мая 2021          Нуриев Эдуард Рамзилович   \n831  419254.0   461.0   22 апреля 2021        Самойленко Денис Сергеевич   \n\n                          seller_name    square  price_value  \\\n0                      Банк ВТБ (ПАО)       NaN   48700000.0   \n1                     Физическое лицо   25111.0  145500000.0   \n2                     Физическое лицо   50574.0    4500000.0   \n3    Плесняев Александр Александрович  504500.0   23450000.0   \n4           Беликин Иван Владимирович   10000.0  320000000.0   \n..                                ...       ...          ...   \n827               АО \"Россельхозбанк\"    1527.0   10709963.0   \n828               АО \"Россельхозбанк\"    1321.0    9265136.0   \n829               АО \"Россельхозбанк\"    1676.0   11755032.0   \n830               АО \"Россельхозбанк\"  150100.0     226651.0   \n831                      ПАО Сбербанк   10000.0    8270000.0   \n\n                           cadastral_geocode  \\\n0                                        NaN   \n1     [51.94720028246027, 84.88831594503662]   \n2     [56.77190698765615, 38.88962726762723]   \n3    [55.73199800626753, 35.340751735565306]   \n4      [55.7008175028533, 37.02131098410721]   \n..                                       ...   \n827   [56.21913602478085, 38.82900562858026]   \n828  [56.220926330893064, 38.83048310378695]   \n829    [56.21983629294916, 38.8300820194728]   \n830  [55.822853130025955, 52.73092958759532]   \n831   [57.14073651577907, 33.14393000643601]   \n\n                              region_geocode  shown_by_days   distance  \\\n0                   [55.6711507, 37.2727963]      64.884407        NaN   \n1                   [51.9931851, 84.9819571]     293.884407   8.221511   \n2           [56.80208355, 38.64899133747492]     275.884407  15.086412   \n3                    [55.506478, 36.0213092]     207.884407  49.688507   \n4                   [55.6711507, 37.2727963]     215.884407  16.159018   \n..                                       ...            ...        ...   \n827          [56.1345574, 38.85192758087219]     608.884408   9.524407   \n828          [56.1345574, 38.85192758087219]     608.884408   9.708539   \n829          [56.1345574, 38.85192758087219]     608.884408   9.591824   \n830  [55.682141200000004, 52.09069161386946]     617.884408  43.145711   \n831                 [57.1557583, 33.1013213]     636.884408   3.074139   \n\n     region_square  population region_capital     grp  criminality  \\\n0          44329.0   8542257.0         Москва  4201.8         72.9   \n1         167996.0   2154932.0        Барнаул   550.0        130.8   \n2          36177.0   1205637.0      Ярославль   560.6        105.1   \n3          44329.0   8542257.0         Москва  4201.8         72.9   \n4          44329.0   8542257.0         Москва  4201.8         72.9   \n..             ...         ...            ...     ...          ...   \n827        29084.0   1342235.0       Владимир   440.5         91.1   \n828        29084.0   1342235.0       Владимир   440.5         91.1   \n829        29084.0   1342235.0       Владимир   440.5         91.1   \n830        67847.0   4000084.0         Казань  2469.2        102.1   \n831        84201.0   1226038.0          Тверь   441.7        130.5   \n\n       km_to_msk           region_capital_geocode  km_to_region_capital  \n0      23.785924         [55.7504461, 37.6174943]                   NaN  \n1    3077.808288          [53.347402, 83.7784496]            172.971129  \n2     137.376612         [57.6263877, 39.8933705]            112.852414  \n3     142.859455         [55.7504461, 37.6174943]            143.008314  \n4      37.925763         [55.7504461, 37.6174943]             37.865816  \n..           ...                              ...                   ...  \n827    91.247107         [56.1288899, 40.4075203]             98.556292  \n828    91.433379         [56.1288899, 40.4075203]             98.483280  \n829    91.345769         [56.1288899, 40.4075203]             98.496885  \n830   946.305150         [55.7823547, 49.1242266]            226.197191  \n831   315.461761  [56.8596713, 35.89524161906262]            170.094175  \n\n[832 rows x 19 columns]",
      "text/html": "<div>\n<style scoped>\n    .dataframe tbody tr th:only-of-type {\n        vertical-align: middle;\n    }\n\n    .dataframe tbody tr th {\n        vertical-align: top;\n    }\n\n    .dataframe thead th {\n        text-align: right;\n    }\n</style>\n<table border=\"1\" class=\"dataframe\">\n  <thead>\n    <tr style=\"text-align: right;\">\n      <th></th>\n      <th>asset_id</th>\n      <th>views</th>\n      <th>publication_date</th>\n      <th>contact_name</th>\n      <th>seller_name</th>\n      <th>square</th>\n      <th>price_value</th>\n      <th>cadastral_geocode</th>\n      <th>region_geocode</th>\n      <th>shown_by_days</th>\n      <th>distance</th>\n      <th>region_square</th>\n      <th>population</th>\n      <th>region_capital</th>\n      <th>grp</th>\n      <th>criminality</th>\n      <th>km_to_msk</th>\n      <th>region_capital_geocode</th>\n      <th>km_to_region_capital</th>\n    </tr>\n  </thead>\n  <tbody>\n    <tr>\n      <th>0</th>\n      <td>814114.0</td>\n      <td>1535.0</td>\n      <td>15 ноября 2022</td>\n      <td>Контактный Центр Банка</td>\n      <td>Банк ВТБ (ПАО)</td>\n      <td>NaN</td>\n      <td>48700000.0</td>\n      <td>NaN</td>\n      <td>[55.6711507, 37.2727963]</td>\n      <td>64.884407</td>\n      <td>NaN</td>\n      <td>44329.0</td>\n      <td>8542257.0</td>\n      <td>Москва</td>\n      <td>4201.8</td>\n      <td>72.9</td>\n      <td>23.785924</td>\n      <td>[55.7504461, 37.6174943]</td>\n      <td>NaN</td>\n    </tr>\n    <tr>\n      <th>1</th>\n      <td>641505.0</td>\n      <td>2311.0</td>\n      <td>31 марта 2022</td>\n      <td>Гаас Александра Георгиевна</td>\n      <td>Физическое лицо</td>\n      <td>25111.0</td>\n      <td>145500000.0</td>\n      <td>[51.94720028246027, 84.88831594503662]</td>\n      <td>[51.9931851, 84.9819571]</td>\n      <td>293.884407</td>\n      <td>8.221511</td>\n      <td>167996.0</td>\n      <td>2154932.0</td>\n      <td>Барнаул</td>\n      <td>550.0</td>\n      <td>130.8</td>\n      <td>3077.808288</td>\n      <td>[53.347402, 83.7784496]</td>\n      <td>172.971129</td>\n    </tr>\n    <tr>\n      <th>2</th>\n      <td>169347.0</td>\n      <td>466.0</td>\n      <td>18 апреля 2022</td>\n      <td>Брюнель Ева Жисленовна</td>\n      <td>Физическое лицо</td>\n      <td>50574.0</td>\n      <td>4500000.0</td>\n      <td>[56.77190698765615, 38.88962726762723]</td>\n      <td>[56.80208355, 38.64899133747492]</td>\n      <td>275.884407</td>\n      <td>15.086412</td>\n      <td>36177.0</td>\n      <td>1205637.0</td>\n      <td>Ярославль</td>\n      <td>560.6</td>\n      <td>105.1</td>\n      <td>137.376612</td>\n      <td>[57.6263877, 39.8933705]</td>\n      <td>112.852414</td>\n    </tr>\n    <tr>\n      <th>3</th>\n      <td>899895.0</td>\n      <td>1286.0</td>\n      <td>25 июня 2022</td>\n      <td>Плесняев Александр Александрович</td>\n      <td>Плесняев Александр Александрович</td>\n      <td>504500.0</td>\n      <td>23450000.0</td>\n      <td>[55.73199800626753, 35.340751735565306]</td>\n      <td>[55.506478, 36.0213092]</td>\n      <td>207.884407</td>\n      <td>49.688507</td>\n      <td>44329.0</td>\n      <td>8542257.0</td>\n      <td>Москва</td>\n      <td>4201.8</td>\n      <td>72.9</td>\n      <td>142.859455</td>\n      <td>[55.7504461, 37.6174943]</td>\n      <td>143.008314</td>\n    </tr>\n    <tr>\n      <th>4</th>\n      <td>269183.0</td>\n      <td>1057.0</td>\n      <td>17 июня 2022</td>\n      <td>Беликин Иван Владимирович</td>\n      <td>Беликин Иван Владимирович</td>\n      <td>10000.0</td>\n      <td>320000000.0</td>\n      <td>[55.7008175028533, 37.02131098410721]</td>\n      <td>[55.6711507, 37.2727963]</td>\n      <td>215.884407</td>\n      <td>16.159018</td>\n      <td>44329.0</td>\n      <td>8542257.0</td>\n      <td>Москва</td>\n      <td>4201.8</td>\n      <td>72.9</td>\n      <td>37.925763</td>\n      <td>[55.7504461, 37.6174943]</td>\n      <td>37.865816</td>\n    </tr>\n    <tr>\n      <th>...</th>\n      <td>...</td>\n      <td>...</td>\n      <td>...</td>\n      <td>...</td>\n      <td>...</td>\n      <td>...</td>\n      <td>...</td>\n      <td>...</td>\n      <td>...</td>\n      <td>...</td>\n      <td>...</td>\n      <td>...</td>\n      <td>...</td>\n      <td>...</td>\n      <td>...</td>\n      <td>...</td>\n      <td>...</td>\n      <td>...</td>\n      <td>...</td>\n    </tr>\n    <tr>\n      <th>827</th>\n      <td>691104.0</td>\n      <td>269.0</td>\n      <td>20 мая 2021</td>\n      <td>Коваленко Александр Ан</td>\n      <td>АО \"Россельхозбанк\"</td>\n      <td>1527.0</td>\n      <td>10709963.0</td>\n      <td>[56.21913602478085, 38.82900562858026]</td>\n      <td>[56.1345574, 38.85192758087219]</td>\n      <td>608.884408</td>\n      <td>9.524407</td>\n      <td>29084.0</td>\n      <td>1342235.0</td>\n      <td>Владимир</td>\n      <td>440.5</td>\n      <td>91.1</td>\n      <td>91.247107</td>\n      <td>[56.1288899, 40.4075203]</td>\n      <td>98.556292</td>\n    </tr>\n    <tr>\n      <th>828</th>\n      <td>630263.0</td>\n      <td>279.0</td>\n      <td>20 мая 2021</td>\n      <td>Коваленко Александр Ан</td>\n      <td>АО \"Россельхозбанк\"</td>\n      <td>1321.0</td>\n      <td>9265136.0</td>\n      <td>[56.220926330893064, 38.83048310378695]</td>\n      <td>[56.1345574, 38.85192758087219]</td>\n      <td>608.884408</td>\n      <td>9.708539</td>\n      <td>29084.0</td>\n      <td>1342235.0</td>\n      <td>Владимир</td>\n      <td>440.5</td>\n      <td>91.1</td>\n      <td>91.433379</td>\n      <td>[56.1288899, 40.4075203]</td>\n      <td>98.483280</td>\n    </tr>\n    <tr>\n      <th>829</th>\n      <td>177552.0</td>\n      <td>281.0</td>\n      <td>20 мая 2021</td>\n      <td>Коваленко Александр Ан</td>\n      <td>АО \"Россельхозбанк\"</td>\n      <td>1676.0</td>\n      <td>11755032.0</td>\n      <td>[56.21983629294916, 38.8300820194728]</td>\n      <td>[56.1345574, 38.85192758087219]</td>\n      <td>608.884408</td>\n      <td>9.591824</td>\n      <td>29084.0</td>\n      <td>1342235.0</td>\n      <td>Владимир</td>\n      <td>440.5</td>\n      <td>91.1</td>\n      <td>91.345769</td>\n      <td>[56.1288899, 40.4075203]</td>\n      <td>98.496885</td>\n    </tr>\n    <tr>\n      <th>830</th>\n      <td>841885.0</td>\n      <td>610.0</td>\n      <td>11 мая 2021</td>\n      <td>Нуриев Эдуард Рамзилович</td>\n      <td>АО \"Россельхозбанк\"</td>\n      <td>150100.0</td>\n      <td>226651.0</td>\n      <td>[55.822853130025955, 52.73092958759532]</td>\n      <td>[55.682141200000004, 52.09069161386946]</td>\n      <td>617.884408</td>\n      <td>43.145711</td>\n      <td>67847.0</td>\n      <td>4000084.0</td>\n      <td>Казань</td>\n      <td>2469.2</td>\n      <td>102.1</td>\n      <td>946.305150</td>\n      <td>[55.7823547, 49.1242266]</td>\n      <td>226.197191</td>\n    </tr>\n    <tr>\n      <th>831</th>\n      <td>419254.0</td>\n      <td>461.0</td>\n      <td>22 апреля 2021</td>\n      <td>Самойленко Денис Сергеевич</td>\n      <td>ПАО Сбербанк</td>\n      <td>10000.0</td>\n      <td>8270000.0</td>\n      <td>[57.14073651577907, 33.14393000643601]</td>\n      <td>[57.1557583, 33.1013213]</td>\n      <td>636.884408</td>\n      <td>3.074139</td>\n      <td>84201.0</td>\n      <td>1226038.0</td>\n      <td>Тверь</td>\n      <td>441.7</td>\n      <td>130.5</td>\n      <td>315.461761</td>\n      <td>[56.8596713, 35.89524161906262]</td>\n      <td>170.094175</td>\n    </tr>\n  </tbody>\n</table>\n<p>832 rows × 19 columns</p>\n</div>"
     },
     "execution_count": 3,
     "metadata": {},
     "output_type": "execute_result"
    }
   ],
   "source": [
    "lien_df"
   ],
   "metadata": {
    "collapsed": false,
    "pycharm": {
     "name": "#%%\n"
    }
   }
  },
  {
   "cell_type": "code",
   "execution_count": 4,
   "outputs": [],
   "source": [
    "selected_df = lien_df[['views', 'contact_name', 'seller_name', 'square', 'shown_by_days', 'distance', 'region_square', 'region_capital',\n",
    "                       'grp', 'criminality', 'km_to_msk', 'km_to_region_capital', 'price_value']].copy()"
   ],
   "metadata": {
    "collapsed": false,
    "pycharm": {
     "name": "#%%\n"
    }
   }
  },
  {
   "cell_type": "code",
   "execution_count": 5,
   "outputs": [
    {
     "data": {
      "text/plain": "views                   float64\ncontact_name             object\nseller_name              object\nsquare                  float64\nshown_by_days           float64\ndistance                float64\nregion_square           float64\nregion_capital           object\ngrp                     float64\ncriminality             float64\nkm_to_msk               float64\nkm_to_region_capital    float64\nprice_value             float64\ndtype: object"
     },
     "execution_count": 5,
     "metadata": {},
     "output_type": "execute_result"
    }
   ],
   "source": [
    "selected_df.dtypes"
   ],
   "metadata": {
    "collapsed": false,
    "pycharm": {
     "name": "#%%\n"
    }
   }
  },
  {
   "cell_type": "code",
   "execution_count": 6,
   "outputs": [],
   "source": [
    "from sklearn.preprocessing import *"
   ],
   "metadata": {
    "collapsed": false,
    "pycharm": {
     "name": "#%%\n"
    }
   }
  },
  {
   "cell_type": "code",
   "execution_count": 9,
   "outputs": [],
   "source": [
    "def one_hot_encoder_two(data,feature,keep_first=True):\n",
    "\n",
    "    one_hot_cols = pd.get_dummies(data[feature])\n",
    "\n",
    "    for col in one_hot_cols.columns:\n",
    "        one_hot_cols.rename({col:f'{feature}_'+col},axis=1,inplace=True)\n",
    "\n",
    "    new_data = pd.concat([data,one_hot_cols],axis=1)\n",
    "    new_data.drop(feature,axis=1,inplace=True)\n",
    "\n",
    "    if keep_first == False:\n",
    "        new_data=new_data.iloc[:,1:]\n",
    "\n",
    "    return new_data"
   ],
   "metadata": {
    "collapsed": false,
    "pycharm": {
     "name": "#%%\n"
    }
   }
  },
  {
   "cell_type": "code",
   "execution_count": 10,
   "outputs": [
    {
     "data": {
      "text/plain": "      views                      contact_name  \\\n0    1535.0            Контактный Центр Банка   \n1    2311.0        Гаас Александра Георгиевна   \n2     466.0            Брюнель Ева Жисленовна   \n3    1286.0  Плесняев Александр Александрович   \n4    1057.0         Беликин Иван Владимирович   \n..      ...                               ...   \n827   269.0            Коваленко Александр Ан   \n828   279.0            Коваленко Александр Ан   \n829   281.0            Коваленко Александр Ан   \n830   610.0          Нуриев Эдуард Рамзилович   \n831   461.0        Самойленко Денис Сергеевич   \n\n                          seller_name    square  shown_by_days   distance  \\\n0                      Банк ВТБ (ПАО)       NaN      64.884407        NaN   \n1                     Физическое лицо   25111.0     293.884407   8.221511   \n2                     Физическое лицо   50574.0     275.884407  15.086412   \n3    Плесняев Александр Александрович  504500.0     207.884407  49.688507   \n4           Беликин Иван Владимирович   10000.0     215.884407  16.159018   \n..                                ...       ...            ...        ...   \n827               АО \"Россельхозбанк\"    1527.0     608.884408   9.524407   \n828               АО \"Россельхозбанк\"    1321.0     608.884408   9.708539   \n829               АО \"Россельхозбанк\"    1676.0     608.884408   9.591824   \n830               АО \"Россельхозбанк\"  150100.0     617.884408  43.145711   \n831                      ПАО Сбербанк   10000.0     636.884408   3.074139   \n\n     region_square region_capital     grp  criminality    km_to_msk  \\\n0          44329.0         Москва  4201.8         72.9    23.785924   \n1         167996.0        Барнаул   550.0        130.8  3077.808288   \n2          36177.0      Ярославль   560.6        105.1   137.376612   \n3          44329.0         Москва  4201.8         72.9   142.859455   \n4          44329.0         Москва  4201.8         72.9    37.925763   \n..             ...            ...     ...          ...          ...   \n827        29084.0       Владимир   440.5         91.1    91.247107   \n828        29084.0       Владимир   440.5         91.1    91.433379   \n829        29084.0       Владимир   440.5         91.1    91.345769   \n830        67847.0         Казань  2469.2        102.1   946.305150   \n831        84201.0          Тверь   441.7        130.5   315.461761   \n\n     km_to_region_capital  price_value  \n0                     NaN   48700000.0  \n1              172.971129  145500000.0  \n2              112.852414    4500000.0  \n3              143.008314   23450000.0  \n4               37.865816  320000000.0  \n..                    ...          ...  \n827             98.556292   10709963.0  \n828             98.483280    9265136.0  \n829             98.496885   11755032.0  \n830            226.197191     226651.0  \n831            170.094175    8270000.0  \n\n[832 rows x 13 columns]",
      "text/html": "<div>\n<style scoped>\n    .dataframe tbody tr th:only-of-type {\n        vertical-align: middle;\n    }\n\n    .dataframe tbody tr th {\n        vertical-align: top;\n    }\n\n    .dataframe thead th {\n        text-align: right;\n    }\n</style>\n<table border=\"1\" class=\"dataframe\">\n  <thead>\n    <tr style=\"text-align: right;\">\n      <th></th>\n      <th>views</th>\n      <th>contact_name</th>\n      <th>seller_name</th>\n      <th>square</th>\n      <th>shown_by_days</th>\n      <th>distance</th>\n      <th>region_square</th>\n      <th>region_capital</th>\n      <th>grp</th>\n      <th>criminality</th>\n      <th>km_to_msk</th>\n      <th>km_to_region_capital</th>\n      <th>price_value</th>\n    </tr>\n  </thead>\n  <tbody>\n    <tr>\n      <th>0</th>\n      <td>1535.0</td>\n      <td>Контактный Центр Банка</td>\n      <td>Банк ВТБ (ПАО)</td>\n      <td>NaN</td>\n      <td>64.884407</td>\n      <td>NaN</td>\n      <td>44329.0</td>\n      <td>Москва</td>\n      <td>4201.8</td>\n      <td>72.9</td>\n      <td>23.785924</td>\n      <td>NaN</td>\n      <td>48700000.0</td>\n    </tr>\n    <tr>\n      <th>1</th>\n      <td>2311.0</td>\n      <td>Гаас Александра Георгиевна</td>\n      <td>Физическое лицо</td>\n      <td>25111.0</td>\n      <td>293.884407</td>\n      <td>8.221511</td>\n      <td>167996.0</td>\n      <td>Барнаул</td>\n      <td>550.0</td>\n      <td>130.8</td>\n      <td>3077.808288</td>\n      <td>172.971129</td>\n      <td>145500000.0</td>\n    </tr>\n    <tr>\n      <th>2</th>\n      <td>466.0</td>\n      <td>Брюнель Ева Жисленовна</td>\n      <td>Физическое лицо</td>\n      <td>50574.0</td>\n      <td>275.884407</td>\n      <td>15.086412</td>\n      <td>36177.0</td>\n      <td>Ярославль</td>\n      <td>560.6</td>\n      <td>105.1</td>\n      <td>137.376612</td>\n      <td>112.852414</td>\n      <td>4500000.0</td>\n    </tr>\n    <tr>\n      <th>3</th>\n      <td>1286.0</td>\n      <td>Плесняев Александр Александрович</td>\n      <td>Плесняев Александр Александрович</td>\n      <td>504500.0</td>\n      <td>207.884407</td>\n      <td>49.688507</td>\n      <td>44329.0</td>\n      <td>Москва</td>\n      <td>4201.8</td>\n      <td>72.9</td>\n      <td>142.859455</td>\n      <td>143.008314</td>\n      <td>23450000.0</td>\n    </tr>\n    <tr>\n      <th>4</th>\n      <td>1057.0</td>\n      <td>Беликин Иван Владимирович</td>\n      <td>Беликин Иван Владимирович</td>\n      <td>10000.0</td>\n      <td>215.884407</td>\n      <td>16.159018</td>\n      <td>44329.0</td>\n      <td>Москва</td>\n      <td>4201.8</td>\n      <td>72.9</td>\n      <td>37.925763</td>\n      <td>37.865816</td>\n      <td>320000000.0</td>\n    </tr>\n    <tr>\n      <th>...</th>\n      <td>...</td>\n      <td>...</td>\n      <td>...</td>\n      <td>...</td>\n      <td>...</td>\n      <td>...</td>\n      <td>...</td>\n      <td>...</td>\n      <td>...</td>\n      <td>...</td>\n      <td>...</td>\n      <td>...</td>\n      <td>...</td>\n    </tr>\n    <tr>\n      <th>827</th>\n      <td>269.0</td>\n      <td>Коваленко Александр Ан</td>\n      <td>АО \"Россельхозбанк\"</td>\n      <td>1527.0</td>\n      <td>608.884408</td>\n      <td>9.524407</td>\n      <td>29084.0</td>\n      <td>Владимир</td>\n      <td>440.5</td>\n      <td>91.1</td>\n      <td>91.247107</td>\n      <td>98.556292</td>\n      <td>10709963.0</td>\n    </tr>\n    <tr>\n      <th>828</th>\n      <td>279.0</td>\n      <td>Коваленко Александр Ан</td>\n      <td>АО \"Россельхозбанк\"</td>\n      <td>1321.0</td>\n      <td>608.884408</td>\n      <td>9.708539</td>\n      <td>29084.0</td>\n      <td>Владимир</td>\n      <td>440.5</td>\n      <td>91.1</td>\n      <td>91.433379</td>\n      <td>98.483280</td>\n      <td>9265136.0</td>\n    </tr>\n    <tr>\n      <th>829</th>\n      <td>281.0</td>\n      <td>Коваленко Александр Ан</td>\n      <td>АО \"Россельхозбанк\"</td>\n      <td>1676.0</td>\n      <td>608.884408</td>\n      <td>9.591824</td>\n      <td>29084.0</td>\n      <td>Владимир</td>\n      <td>440.5</td>\n      <td>91.1</td>\n      <td>91.345769</td>\n      <td>98.496885</td>\n      <td>11755032.0</td>\n    </tr>\n    <tr>\n      <th>830</th>\n      <td>610.0</td>\n      <td>Нуриев Эдуард Рамзилович</td>\n      <td>АО \"Россельхозбанк\"</td>\n      <td>150100.0</td>\n      <td>617.884408</td>\n      <td>43.145711</td>\n      <td>67847.0</td>\n      <td>Казань</td>\n      <td>2469.2</td>\n      <td>102.1</td>\n      <td>946.305150</td>\n      <td>226.197191</td>\n      <td>226651.0</td>\n    </tr>\n    <tr>\n      <th>831</th>\n      <td>461.0</td>\n      <td>Самойленко Денис Сергеевич</td>\n      <td>ПАО Сбербанк</td>\n      <td>10000.0</td>\n      <td>636.884408</td>\n      <td>3.074139</td>\n      <td>84201.0</td>\n      <td>Тверь</td>\n      <td>441.7</td>\n      <td>130.5</td>\n      <td>315.461761</td>\n      <td>170.094175</td>\n      <td>8270000.0</td>\n    </tr>\n  </tbody>\n</table>\n<p>832 rows × 13 columns</p>\n</div>"
     },
     "execution_count": 10,
     "metadata": {},
     "output_type": "execute_result"
    }
   ],
   "source": [
    "selected_df"
   ],
   "metadata": {
    "collapsed": false,
    "pycharm": {
     "name": "#%%\n"
    }
   }
  },
  {
   "cell_type": "code",
   "execution_count": null,
   "outputs": [],
   "source": [],
   "metadata": {
    "collapsed": false,
    "pycharm": {
     "name": "#%%\n"
    }
   }
  },
  {
   "cell_type": "code",
   "execution_count": 7,
   "outputs": [],
   "source": [
    "selected_df = selected_df.dropna()"
   ],
   "metadata": {
    "collapsed": false,
    "pycharm": {
     "name": "#%%\n"
    }
   }
  },
  {
   "cell_type": "code",
   "execution_count": null,
   "outputs": [],
   "source": [],
   "metadata": {
    "collapsed": false,
    "pycharm": {
     "name": "#%%\n"
    }
   }
  },
  {
   "cell_type": "code",
   "execution_count": 16,
   "outputs": [],
   "source": [
    "le = LabelEncoder()\n",
    "label_encoded_df = selected_df[['contact_name', 'seller_name', 'region_capital']].copy()\n",
    "for col in label_encoded_df.select_dtypes(include='O').columns:\n",
    "    label_encoded_df[col]=le.fit_transform(label_encoded_df[col])"
   ],
   "metadata": {
    "collapsed": false,
    "pycharm": {
     "name": "#%%\n"
    }
   }
  },
  {
   "cell_type": "code",
   "execution_count": null,
   "outputs": [],
   "source": [],
   "metadata": {
    "collapsed": false,
    "pycharm": {
     "name": "#%%\n"
    }
   }
  },
  {
   "cell_type": "code",
   "execution_count": 10,
   "outputs": [
    {
     "data": {
      "text/plain": "     contact_name  seller_name  region_capital\n1              18           51               1\n2              13           51              52\n3              76           44              26\n4               7            7              26\n5              73           42              36\n..            ...          ...             ...\n827            51            2               6\n828            51            2               6\n829            51            2               6\n830            70            2              15\n831            80           42              43\n\n[300 rows x 3 columns]",
      "text/html": "<div>\n<style scoped>\n    .dataframe tbody tr th:only-of-type {\n        vertical-align: middle;\n    }\n\n    .dataframe tbody tr th {\n        vertical-align: top;\n    }\n\n    .dataframe thead th {\n        text-align: right;\n    }\n</style>\n<table border=\"1\" class=\"dataframe\">\n  <thead>\n    <tr style=\"text-align: right;\">\n      <th></th>\n      <th>contact_name</th>\n      <th>seller_name</th>\n      <th>region_capital</th>\n    </tr>\n  </thead>\n  <tbody>\n    <tr>\n      <th>1</th>\n      <td>18</td>\n      <td>51</td>\n      <td>1</td>\n    </tr>\n    <tr>\n      <th>2</th>\n      <td>13</td>\n      <td>51</td>\n      <td>52</td>\n    </tr>\n    <tr>\n      <th>3</th>\n      <td>76</td>\n      <td>44</td>\n      <td>26</td>\n    </tr>\n    <tr>\n      <th>4</th>\n      <td>7</td>\n      <td>7</td>\n      <td>26</td>\n    </tr>\n    <tr>\n      <th>5</th>\n      <td>73</td>\n      <td>42</td>\n      <td>36</td>\n    </tr>\n    <tr>\n      <th>...</th>\n      <td>...</td>\n      <td>...</td>\n      <td>...</td>\n    </tr>\n    <tr>\n      <th>827</th>\n      <td>51</td>\n      <td>2</td>\n      <td>6</td>\n    </tr>\n    <tr>\n      <th>828</th>\n      <td>51</td>\n      <td>2</td>\n      <td>6</td>\n    </tr>\n    <tr>\n      <th>829</th>\n      <td>51</td>\n      <td>2</td>\n      <td>6</td>\n    </tr>\n    <tr>\n      <th>830</th>\n      <td>70</td>\n      <td>2</td>\n      <td>15</td>\n    </tr>\n    <tr>\n      <th>831</th>\n      <td>80</td>\n      <td>42</td>\n      <td>43</td>\n    </tr>\n  </tbody>\n</table>\n<p>300 rows × 3 columns</p>\n</div>"
     },
     "execution_count": 10,
     "metadata": {},
     "output_type": "execute_result"
    }
   ],
   "source": [
    "label_encoded_df"
   ],
   "metadata": {
    "collapsed": false,
    "pycharm": {
     "name": "#%%\n"
    }
   }
  },
  {
   "cell_type": "code",
   "execution_count": 11,
   "outputs": [],
   "source": [
    "filled_df = pd.concat([selected_df[list(set(selected_df.columns) - set(['contact_name', 'seller_name', 'region_capital', 'price_value']))], label_encoded_df], axis=1)"
   ],
   "metadata": {
    "collapsed": false,
    "pycharm": {
     "name": "#%%\n"
    }
   }
  },
  {
   "cell_type": "code",
   "execution_count": 12,
   "outputs": [
    {
     "data": {
      "text/plain": "(300, 12)"
     },
     "execution_count": 12,
     "metadata": {},
     "output_type": "execute_result"
    }
   ],
   "source": [
    "filled_df.shape"
   ],
   "metadata": {
    "collapsed": false,
    "pycharm": {
     "name": "#%%\n"
    }
   }
  },
  {
   "cell_type": "code",
   "execution_count": null,
   "outputs": [],
   "source": [],
   "metadata": {
    "collapsed": false,
    "pycharm": {
     "name": "#%%\n"
    }
   }
  },
  {
   "cell_type": "code",
   "execution_count": 13,
   "outputs": [],
   "source": [
    "train_df = filled_df[:270]\n",
    "test_df = filled_df[270:]"
   ],
   "metadata": {
    "collapsed": false,
    "pycharm": {
     "name": "#%%\n"
    }
   }
  },
  {
   "cell_type": "code",
   "execution_count": 17,
   "outputs": [
    {
     "ename": "NameError",
     "evalue": "name 'LinearRegression' is not defined",
     "output_type": "error",
     "traceback": [
      "\u001B[0;31m---------------------------------------------------------------------------\u001B[0m",
      "\u001B[0;31mNameError\u001B[0m                                 Traceback (most recent call last)",
      "Input \u001B[0;32mIn [17]\u001B[0m, in \u001B[0;36m<cell line: 1>\u001B[0;34m()\u001B[0m\n\u001B[0;32m----> 1\u001B[0m regression \u001B[38;5;241m=\u001B[39m \u001B[43mLinearRegression\u001B[49m()\n",
      "\u001B[0;31mNameError\u001B[0m: name 'LinearRegression' is not defined"
     ]
    }
   ],
   "source": [
    "regression = LinearRegression()"
   ],
   "metadata": {
    "collapsed": false,
    "pycharm": {
     "name": "#%%\n"
    }
   }
  },
  {
   "cell_type": "code",
   "execution_count": 53,
   "outputs": [],
   "source": [
    "model = regression.fit(train_df.fillna(0), selected_df['price_value'][:270].fillna(0))"
   ],
   "metadata": {
    "collapsed": false,
    "pycharm": {
     "name": "#%%\n"
    }
   }
  },
  {
   "cell_type": "code",
   "execution_count": 54,
   "outputs": [
    {
     "data": {
      "text/plain": "array([-1.45291902e+04,  3.38987306e+04, -2.76730604e+05,  1.62726439e+04,\n        3.86170728e+03, -3.65365828e+04, -1.47677321e+04, -1.55207201e+01,\n        4.99414587e-01, -1.80361172e+05,  3.32094599e+05, -5.55180263e+04])"
     },
     "execution_count": 54,
     "metadata": {},
     "output_type": "execute_result"
    }
   ],
   "source": [
    "model.coef_"
   ],
   "metadata": {
    "collapsed": false,
    "pycharm": {
     "name": "#%%\n"
    }
   }
  },
  {
   "cell_type": "code",
   "execution_count": null,
   "outputs": [],
   "source": [],
   "metadata": {
    "collapsed": false,
    "pycharm": {
     "name": "#%%\n"
    }
   }
  },
  {
   "cell_type": "code",
   "execution_count": 56,
   "outputs": [
    {
     "data": {
      "text/plain": "19780429.345412"
     },
     "execution_count": 56,
     "metadata": {},
     "output_type": "execute_result"
    }
   ],
   "source": [
    "model.predict(train_df[154:155].fillna(0))[0]"
   ],
   "metadata": {
    "collapsed": false,
    "pycharm": {
     "name": "#%%\n"
    }
   }
  },
  {
   "cell_type": "code",
   "execution_count": 43,
   "outputs": [],
   "source": [],
   "metadata": {
    "collapsed": false,
    "pycharm": {
     "name": "#%%\n"
    }
   }
  },
  {
   "cell_type": "code",
   "execution_count": 45,
   "outputs": [
    {
     "data": {
      "text/plain": "     views  shown_by_days  criminality     grp    km_to_msk  \\\n154  145.0      64.884408        119.0  1259.4  1718.489257   \n\n     km_to_region_capital  distance  region_square  square  contact_name  \\\n154                   NaN       NaN      1464173.0     NaN            69   \n\n     seller_name  region_capital  \n154           12              54  ",
      "text/html": "<div>\n<style scoped>\n    .dataframe tbody tr th:only-of-type {\n        vertical-align: middle;\n    }\n\n    .dataframe tbody tr th {\n        vertical-align: top;\n    }\n\n    .dataframe thead th {\n        text-align: right;\n    }\n</style>\n<table border=\"1\" class=\"dataframe\">\n  <thead>\n    <tr style=\"text-align: right;\">\n      <th></th>\n      <th>views</th>\n      <th>shown_by_days</th>\n      <th>criminality</th>\n      <th>grp</th>\n      <th>km_to_msk</th>\n      <th>km_to_region_capital</th>\n      <th>distance</th>\n      <th>region_square</th>\n      <th>square</th>\n      <th>contact_name</th>\n      <th>seller_name</th>\n      <th>region_capital</th>\n    </tr>\n  </thead>\n  <tbody>\n    <tr>\n      <th>154</th>\n      <td>145.0</td>\n      <td>64.884408</td>\n      <td>119.0</td>\n      <td>1259.4</td>\n      <td>1718.489257</td>\n      <td>NaN</td>\n      <td>NaN</td>\n      <td>1464173.0</td>\n      <td>NaN</td>\n      <td>69</td>\n      <td>12</td>\n      <td>54</td>\n    </tr>\n  </tbody>\n</table>\n</div>"
     },
     "execution_count": 45,
     "metadata": {},
     "output_type": "execute_result"
    }
   ],
   "source": [
    "train_df[154:155]"
   ],
   "metadata": {
    "collapsed": false,
    "pycharm": {
     "name": "#%%\n"
    }
   }
  },
  {
   "cell_type": "code",
   "execution_count": 55,
   "outputs": [
    {
     "data": {
      "text/plain": "     views                 contact_name   seller_name  square  shown_by_days  \\\n626  189.0  Сорокина Валерия Валерьевна  ПАО Сбербанк   200.0     195.884408   \n\n      distance  region_square region_capital     grp  criminality  \\\n626  11.418301       142947.0            Уфа  1673.7         96.2   \n\n       km_to_msk  km_to_region_capital  price_value  \n626  1173.106583             80.622672      25680.0  ",
      "text/html": "<div>\n<style scoped>\n    .dataframe tbody tr th:only-of-type {\n        vertical-align: middle;\n    }\n\n    .dataframe tbody tr th {\n        vertical-align: top;\n    }\n\n    .dataframe thead th {\n        text-align: right;\n    }\n</style>\n<table border=\"1\" class=\"dataframe\">\n  <thead>\n    <tr style=\"text-align: right;\">\n      <th></th>\n      <th>views</th>\n      <th>contact_name</th>\n      <th>seller_name</th>\n      <th>square</th>\n      <th>shown_by_days</th>\n      <th>distance</th>\n      <th>region_square</th>\n      <th>region_capital</th>\n      <th>grp</th>\n      <th>criminality</th>\n      <th>km_to_msk</th>\n      <th>km_to_region_capital</th>\n      <th>price_value</th>\n    </tr>\n  </thead>\n  <tbody>\n    <tr>\n      <th>626</th>\n      <td>189.0</td>\n      <td>Сорокина Валерия Валерьевна</td>\n      <td>ПАО Сбербанк</td>\n      <td>200.0</td>\n      <td>195.884408</td>\n      <td>11.418301</td>\n      <td>142947.0</td>\n      <td>Уфа</td>\n      <td>1673.7</td>\n      <td>96.2</td>\n      <td>1173.106583</td>\n      <td>80.622672</td>\n      <td>25680.0</td>\n    </tr>\n  </tbody>\n</table>\n</div>"
     },
     "execution_count": 55,
     "metadata": {},
     "output_type": "execute_result"
    }
   ],
   "source": [
    "selected_df[154:155]"
   ],
   "metadata": {
    "collapsed": false,
    "pycharm": {
     "name": "#%%\n"
    }
   }
  },
  {
   "cell_type": "code",
   "execution_count": null,
   "outputs": [],
   "source": [],
   "metadata": {
    "collapsed": false,
    "pycharm": {
     "name": "#%%\n"
    }
   }
  },
  {
   "cell_type": "code",
   "execution_count": 27,
   "outputs": [],
   "source": [
    "from sklearn.linear_model import LinearRegression"
   ],
   "metadata": {
    "collapsed": false,
    "pycharm": {
     "name": "#%%\n"
    }
   }
  },
  {
   "cell_type": "code",
   "execution_count": null,
   "outputs": [],
   "source": [],
   "metadata": {
    "collapsed": false,
    "pycharm": {
     "name": "#%%\n"
    }
   }
  },
  {
   "cell_type": "code",
   "execution_count": null,
   "outputs": [],
   "source": [],
   "metadata": {
    "collapsed": false,
    "pycharm": {
     "name": "#%%\n"
    }
   }
  },
  {
   "cell_type": "code",
   "execution_count": 31,
   "outputs": [
    {
     "data": {
      "text/plain": "      views  shown_by_days  criminality     grp    km_to_msk  \\\n0    1535.0      64.884407         72.9  4201.8    23.785924   \n1    2311.0     293.884407        130.8   550.0  3077.808288   \n2     466.0     275.884407        105.1   560.6   137.376612   \n3    1286.0     207.884407         72.9  4201.8   142.859455   \n4    1057.0     215.884407         72.9  4201.8    37.925763   \n..      ...            ...          ...     ...          ...   \n695   761.0     351.884408         86.0  4193.5   661.697638   \n696   403.0     357.884408         64.6   383.1   211.107380   \n697   290.0     357.884408        130.8   550.0  2944.551449   \n698   344.0     359.884408        122.5  1318.5  1221.029232   \n699   313.0     359.884408        122.5  1318.5  1221.092906   \n\n     km_to_region_capital   distance  region_square    square  contact_name  \\\n0                     NaN        NaN        44329.0       NaN            69   \n1              172.971129   8.221511       167996.0   25111.0            24   \n2              112.852414  15.086412        36177.0   50574.0            18   \n3              143.008314  49.688507        44329.0  504500.0           112   \n4               37.865816  16.159018        44329.0   10000.0            10   \n..                    ...        ...            ...       ...           ...   \n695                   NaN        NaN         1403.0    1100.0           121   \n696             28.050180  28.231895        39605.0     660.0           159   \n697                   NaN        NaN       167996.0    1700.0            22   \n698             91.532742  17.631267       160236.0  548800.0            41   \n699             91.541580  17.622324       160236.0  557200.0            41   \n\n     seller_name  region_capital  \n0             12              33  \n1             75               2  \n2             75              63  \n3             65              33  \n4             13              33  \n..           ...             ...  \n695           82              46  \n696           75              44  \n697           75               2  \n698           62              40  \n699           62              40  \n\n[700 rows x 12 columns]",
      "text/html": "<div>\n<style scoped>\n    .dataframe tbody tr th:only-of-type {\n        vertical-align: middle;\n    }\n\n    .dataframe tbody tr th {\n        vertical-align: top;\n    }\n\n    .dataframe thead th {\n        text-align: right;\n    }\n</style>\n<table border=\"1\" class=\"dataframe\">\n  <thead>\n    <tr style=\"text-align: right;\">\n      <th></th>\n      <th>views</th>\n      <th>shown_by_days</th>\n      <th>criminality</th>\n      <th>grp</th>\n      <th>km_to_msk</th>\n      <th>km_to_region_capital</th>\n      <th>distance</th>\n      <th>region_square</th>\n      <th>square</th>\n      <th>contact_name</th>\n      <th>seller_name</th>\n      <th>region_capital</th>\n    </tr>\n  </thead>\n  <tbody>\n    <tr>\n      <th>0</th>\n      <td>1535.0</td>\n      <td>64.884407</td>\n      <td>72.9</td>\n      <td>4201.8</td>\n      <td>23.785924</td>\n      <td>NaN</td>\n      <td>NaN</td>\n      <td>44329.0</td>\n      <td>NaN</td>\n      <td>69</td>\n      <td>12</td>\n      <td>33</td>\n    </tr>\n    <tr>\n      <th>1</th>\n      <td>2311.0</td>\n      <td>293.884407</td>\n      <td>130.8</td>\n      <td>550.0</td>\n      <td>3077.808288</td>\n      <td>172.971129</td>\n      <td>8.221511</td>\n      <td>167996.0</td>\n      <td>25111.0</td>\n      <td>24</td>\n      <td>75</td>\n      <td>2</td>\n    </tr>\n    <tr>\n      <th>2</th>\n      <td>466.0</td>\n      <td>275.884407</td>\n      <td>105.1</td>\n      <td>560.6</td>\n      <td>137.376612</td>\n      <td>112.852414</td>\n      <td>15.086412</td>\n      <td>36177.0</td>\n      <td>50574.0</td>\n      <td>18</td>\n      <td>75</td>\n      <td>63</td>\n    </tr>\n    <tr>\n      <th>3</th>\n      <td>1286.0</td>\n      <td>207.884407</td>\n      <td>72.9</td>\n      <td>4201.8</td>\n      <td>142.859455</td>\n      <td>143.008314</td>\n      <td>49.688507</td>\n      <td>44329.0</td>\n      <td>504500.0</td>\n      <td>112</td>\n      <td>65</td>\n      <td>33</td>\n    </tr>\n    <tr>\n      <th>4</th>\n      <td>1057.0</td>\n      <td>215.884407</td>\n      <td>72.9</td>\n      <td>4201.8</td>\n      <td>37.925763</td>\n      <td>37.865816</td>\n      <td>16.159018</td>\n      <td>44329.0</td>\n      <td>10000.0</td>\n      <td>10</td>\n      <td>13</td>\n      <td>33</td>\n    </tr>\n    <tr>\n      <th>...</th>\n      <td>...</td>\n      <td>...</td>\n      <td>...</td>\n      <td>...</td>\n      <td>...</td>\n      <td>...</td>\n      <td>...</td>\n      <td>...</td>\n      <td>...</td>\n      <td>...</td>\n      <td>...</td>\n      <td>...</td>\n    </tr>\n    <tr>\n      <th>695</th>\n      <td>761.0</td>\n      <td>351.884408</td>\n      <td>86.0</td>\n      <td>4193.5</td>\n      <td>661.697638</td>\n      <td>NaN</td>\n      <td>NaN</td>\n      <td>1403.0</td>\n      <td>1100.0</td>\n      <td>121</td>\n      <td>82</td>\n      <td>46</td>\n    </tr>\n    <tr>\n      <th>696</th>\n      <td>403.0</td>\n      <td>357.884408</td>\n      <td>64.6</td>\n      <td>383.1</td>\n      <td>211.107380</td>\n      <td>28.050180</td>\n      <td>28.231895</td>\n      <td>39605.0</td>\n      <td>660.0</td>\n      <td>159</td>\n      <td>75</td>\n      <td>44</td>\n    </tr>\n    <tr>\n      <th>697</th>\n      <td>290.0</td>\n      <td>357.884408</td>\n      <td>130.8</td>\n      <td>550.0</td>\n      <td>2944.551449</td>\n      <td>NaN</td>\n      <td>NaN</td>\n      <td>167996.0</td>\n      <td>1700.0</td>\n      <td>22</td>\n      <td>75</td>\n      <td>2</td>\n    </tr>\n    <tr>\n      <th>698</th>\n      <td>344.0</td>\n      <td>359.884408</td>\n      <td>122.5</td>\n      <td>1318.5</td>\n      <td>1221.029232</td>\n      <td>91.532742</td>\n      <td>17.631267</td>\n      <td>160236.0</td>\n      <td>548800.0</td>\n      <td>41</td>\n      <td>62</td>\n      <td>40</td>\n    </tr>\n    <tr>\n      <th>699</th>\n      <td>313.0</td>\n      <td>359.884408</td>\n      <td>122.5</td>\n      <td>1318.5</td>\n      <td>1221.092906</td>\n      <td>91.541580</td>\n      <td>17.622324</td>\n      <td>160236.0</td>\n      <td>557200.0</td>\n      <td>41</td>\n      <td>62</td>\n      <td>40</td>\n    </tr>\n  </tbody>\n</table>\n<p>700 rows × 12 columns</p>\n</div>"
     },
     "execution_count": 31,
     "metadata": {},
     "output_type": "execute_result"
    }
   ],
   "source": [
    "train_df"
   ],
   "metadata": {
    "collapsed": false,
    "pycharm": {
     "name": "#%%\n"
    }
   }
  },
  {
   "cell_type": "code",
   "execution_count": null,
   "outputs": [],
   "source": [
    "# todo необходимо проверить кодирование категориальных данных => ок\n",
    "# todo необходимо сделать шкалирование => не помогает\n",
    "# todo необходимо написать нормальную функцию оценки"
   ],
   "metadata": {
    "collapsed": false,
    "pycharm": {
     "name": "#%%\n"
    }
   }
  },
  {
   "cell_type": "code",
   "execution_count": null,
   "outputs": [],
   "source": [],
   "metadata": {
    "collapsed": false,
    "pycharm": {
     "name": "#%%\n"
    }
   }
  },
  {
   "cell_type": "code",
   "execution_count": 57,
   "outputs": [],
   "source": [
    "from sklearn.preprocessing import StandardScaler\n",
    "stdsc = StandardScaler()"
   ],
   "metadata": {
    "collapsed": false,
    "pycharm": {
     "name": "#%%\n"
    }
   }
  },
  {
   "cell_type": "code",
   "execution_count": 58,
   "outputs": [],
   "source": [
    "X_std = stdsc.fit_transform(train_df)"
   ],
   "metadata": {
    "collapsed": false,
    "pycharm": {
     "name": "#%%\n"
    }
   }
  },
  {
   "cell_type": "code",
   "execution_count": 72,
   "outputs": [],
   "source": [
    "Y_std = stdsc.fit_transform(np.array(selected_df['price_value'][:270]).reshape(-1,1))"
   ],
   "metadata": {
    "collapsed": false,
    "pycharm": {
     "name": "#%%\n"
    }
   }
  },
  {
   "cell_type": "code",
   "execution_count": 73,
   "outputs": [
    {
     "data": {
      "text/plain": "array([[ 1.90639225e+00],\n       [-2.48223247e-01],\n       [ 4.13509630e-02],\n       [ 4.57291994e+00],\n       [-3.14909361e-01],\n       [-3.15159969e-01],\n       [-3.14909361e-01],\n       [-3.15410576e-01],\n       [-3.15159969e-01],\n       [-3.15159969e-01],\n       [-3.15159969e-01],\n       [ 3.18394785e-01],\n       [-3.15161099e-01],\n       [-3.10410585e-01],\n       [-3.15873590e-01],\n       [-2.67171639e-01],\n       [-3.15387869e-01],\n       [-3.07860483e-01],\n       [-3.14076029e-01],\n       [-3.15079698e-01],\n       [-3.10731821e-01],\n       [-3.05155814e-01],\n       [-3.15891040e-01],\n       [-2.60448016e-01],\n       [-3.16664639e-01],\n       [ 7.32349291e+00],\n       [-3.12403283e-01],\n       [-1.76402731e-01],\n       [-3.12619891e-01],\n       [-2.92996463e-01],\n       [-3.13388447e-01],\n       [ 1.41441257e-01],\n       [-3.16345771e-01],\n       [-3.15673409e-01],\n       [-3.15749814e-01],\n       [-3.12988544e-01],\n       [-3.16483300e-01],\n       [-3.12036540e-01],\n       [-1.86029736e-01],\n       [-3.15688690e-01],\n       [-3.16286175e-01],\n       [-2.98803228e-01],\n       [-3.15373902e-01],\n       [ 9.45219804e-01],\n       [-3.14894080e-01],\n       [-2.79243598e-01],\n       [ 1.58317582e-02],\n       [-6.80607175e-02],\n       [-3.12005978e-01],\n       [-3.15749814e-01],\n       [ 3.96168150e+00],\n       [ 5.99870086e-01],\n       [ 4.95494396e+00],\n       [-3.10600130e-01],\n       [-3.16431956e-01],\n       [-3.05173861e-01],\n       [-3.13304860e-01],\n       [-3.15917904e-01],\n       [ 3.51563025e+00],\n       [-1.13683523e-02],\n       [-3.14820731e-01],\n       [-2.07339617e-01],\n       [-3.11700359e-01],\n       [-1.13683523e-02],\n       [-3.07947355e-01],\n       [-3.12174069e-01],\n       [-1.13683523e-02],\n       [-3.10875187e-01],\n       [-3.04762803e-01],\n       [ 3.50325267e+00],\n       [-1.79458923e-01],\n       [ 5.00796890e+00],\n       [-3.07818995e-01],\n       [ 1.72003179e-01],\n       [-3.13298748e-01],\n       [-2.99414466e-01],\n       [-2.63504208e-01],\n       [-3.08603214e-01],\n       [-5.72112352e-02],\n       [ 3.12655288e-02],\n       [-2.32942286e-01],\n       [-3.03725990e-01],\n       [ 8.50545114e-02],\n       [-2.19495041e-01],\n       [-2.39054671e-01],\n       [-2.08492749e-01],\n       [-1.94739884e-01],\n       [-3.12476632e-01],\n       [-2.63504208e-01],\n       [-3.02684592e-01],\n       [-1.99324172e-01],\n       [-1.77166779e-01],\n       [ 2.40309075e-01],\n       [-2.25301806e-01],\n       [ 1.91935696e-02],\n       [-3.12284092e-01],\n       [ 2.97765488e-01],\n       [ 2.12956155e-01],\n       [ 6.58005006e-02],\n       [-3.09347091e-01],\n       [-3.00178515e-01],\n       [-3.07818995e-01],\n       [-3.03234707e-01],\n       [-3.16987572e-01],\n       [-1.48438572e-01],\n       [-1.63872343e-01],\n       [-3.11196087e-01],\n       [-3.01095372e-01],\n       [-3.16987572e-01],\n       [-3.16987572e-01],\n       [-3.09347091e-01],\n       [ 6.45780237e-02],\n       [-3.10569568e-01],\n       [-2.97886370e-01],\n       [-3.16987572e-01],\n       [-3.16672631e-01],\n       [-3.16101276e-01],\n       [-2.40582767e-01],\n       [-3.06688204e-01],\n       [-3.16987572e-01],\n       [-3.12403283e-01],\n       [-3.10951592e-01],\n       [-3.11899012e-01],\n       [-3.11746202e-01],\n       [-3.11746202e-01],\n       [-3.12265755e-01],\n       [-3.10447320e-01],\n       [-3.10447320e-01],\n       [-3.12403283e-01],\n       [-3.12403283e-01],\n       [-3.12265755e-01],\n       [-3.12265755e-01],\n       [-3.12265755e-01],\n       [-3.12265755e-01],\n       [-3.12265755e-01],\n       [-3.12265755e-01],\n       [-3.12265755e-01],\n       [-3.12265755e-01],\n       [-3.12265755e-01],\n       [-3.12265755e-01],\n       [-3.12265755e-01],\n       [-3.12265755e-01],\n       [-3.12265755e-01],\n       [-3.12265755e-01],\n       [-3.12265755e-01],\n       [-3.12265755e-01],\n       [-3.12265755e-01],\n       [-3.12265755e-01],\n       [-3.12265755e-01],\n       [-3.11834281e-01],\n       [-3.04609993e-01],\n       [ 4.52384711e-03],\n       [-6.71438598e-02],\n       [-2.90245890e-01],\n       [-3.16595157e-01],\n       [-2.86425650e-01],\n       [ 7.49690772e-02],\n       [-2.13009769e-02],\n       [ 3.04482384e+00],\n       [-3.12739052e-01],\n       [-5.12516604e-02],\n       [-2.52807536e-01],\n       [-3.13274298e-01],\n       [-2.68852545e-01],\n       [-2.71144689e-01],\n       [-3.08094052e-01],\n       [-3.14332657e-01],\n       [ 4.22909832e+00],\n       [ 1.13219233e-01],\n       [-2.83369457e-01],\n       [-2.97886370e-01],\n       [-1.79458923e-01],\n       [-1.54398147e-01],\n       [-1.11611456e-01],\n       [-1.22308129e-01],\n       [-1.67692583e-01],\n       [-1.92294930e-01],\n       [-2.01157887e-01],\n       [-2.01005078e-01],\n       [-1.71360014e-01],\n       [-2.01157887e-01],\n       [-2.34267390e-01],\n       [-2.45167055e-01],\n       [-3.12128226e-01],\n       [-2.82758219e-01],\n       [-3.15214002e-01],\n       [-2.03908460e-01],\n       [-3.15711306e-01],\n       [-3.10111139e-01],\n       [-2.84286315e-01],\n       [-2.67324448e-01],\n       [-3.13029803e-01],\n       [-3.13934436e-01],\n       [-3.14209493e-01],\n       [-3.16359203e-01],\n       [-3.16368693e-01],\n       [-3.15551161e-01],\n       [-2.80313265e-01],\n       [ 8.29084501e-01],\n       [ 2.58639501e+00],\n       [ 5.23465281e-01],\n       [ 7.64114776e-02],\n       [-3.13014522e-01],\n       [-3.08995323e-01],\n       [-2.09715226e-01],\n       [-1.45535190e-01],\n       [-2.09715226e-01],\n       [ 3.60698945e-03],\n       [-2.14605133e-01],\n       [-2.06964653e-01],\n       [-4.68201817e-02],\n       [-4.05549877e-02],\n       [-1.99256904e-02],\n       [ 1.09198430e-01],\n       [-2.94677369e-01],\n       [-3.13411827e-01],\n       [-3.03656461e-01],\n       [ 6.55944486e+00],\n       [-3.08236746e-01],\n       [-2.79243598e-01],\n       [-3.08583104e-01],\n       [ 4.68521090e-02],\n       [-2.02380364e-01],\n       [-2.02380364e-01],\n       [-3.03234707e-01],\n       [-2.02380364e-01],\n       [-1.99324172e-01],\n       [-2.96969513e-01],\n       [ 6.74288366e-01],\n       [ 6.11330807e-01],\n       [-1.03054118e-01],\n       [-3.06910358e-01],\n       [-3.14793103e-01],\n       [-9.18990166e-02],\n       [-1.18335079e-01],\n       [-2.51194966e-01],\n       [-3.14249880e-01],\n       [-2.60143268e-01],\n       [-1.59526406e-02],\n       [-5.29325661e-02],\n       [-2.65032304e-01],\n       [ 6.47088256e-01],\n       [-3.13411827e-01],\n       [-3.12245584e-01],\n       [-3.15964358e-01],\n       [-3.14030706e-01],\n       [-1.99476982e-01],\n       [-2.61976112e-01],\n       [-1.55472582e-01],\n       [-3.13590614e-01],\n       [-7.35618634e-02],\n       [-1.61885818e-01],\n       [ 2.66812405e-02],\n       [-3.13632270e-01],\n       [-2.64726685e-01],\n       [-2.39971528e-01],\n       [ 6.09105931e-02],\n       [-3.09457114e-01],\n       [-3.09457114e-01],\n       [-3.14440755e-01],\n       [-3.12199542e-01],\n       [-3.14957893e-01],\n       [-3.03489394e-01],\n       [-3.06581252e-01],\n       [-1.45535190e-01],\n       [ 3.60698945e-03],\n       [-3.14466213e-01],\n       [ 1.94459465e+00],\n       [-3.04762803e-01],\n       [-1.45183468e-01]])"
     },
     "execution_count": 73,
     "metadata": {},
     "output_type": "execute_result"
    }
   ],
   "source": [
    "Y_std"
   ],
   "metadata": {
    "collapsed": false,
    "pycharm": {
     "name": "#%%\n"
    }
   }
  },
  {
   "cell_type": "code",
   "execution_count": 74,
   "outputs": [],
   "source": [
    "model = regression.fit(X_std, Y_std)"
   ],
   "metadata": {
    "collapsed": false,
    "pycharm": {
     "name": "#%%\n"
    }
   }
  },
  {
   "cell_type": "code",
   "execution_count": 81,
   "outputs": [
    {
     "data": {
      "text/plain": "array([-0.16603159])"
     },
     "execution_count": 81,
     "metadata": {},
     "output_type": "execute_result"
    }
   ],
   "source": [
    "model.predict(X_test[10:11])[0]"
   ],
   "metadata": {
    "collapsed": false,
    "pycharm": {
     "name": "#%%\n"
    }
   }
  },
  {
   "cell_type": "code",
   "execution_count": null,
   "outputs": [],
   "source": [],
   "metadata": {
    "collapsed": false,
    "pycharm": {
     "name": "#%%\n"
    }
   }
  },
  {
   "cell_type": "code",
   "execution_count": 77,
   "outputs": [],
   "source": [
    "X_test = stdsc.fit_transform(test_df)"
   ],
   "metadata": {
    "collapsed": false,
    "pycharm": {
     "name": "#%%\n"
    }
   }
  },
  {
   "cell_type": "code",
   "execution_count": 78,
   "outputs": [],
   "source": [
    "Y_test = stdsc.fit_transform(np.array(selected_df['price_value'][270:]).reshape(-1,1))"
   ],
   "metadata": {
    "collapsed": false,
    "pycharm": {
     "name": "#%%\n"
    }
   }
  },
  {
   "cell_type": "code",
   "execution_count": null,
   "outputs": [],
   "source": [],
   "metadata": {
    "collapsed": false,
    "pycharm": {
     "name": "#%%\n"
    }
   }
  },
  {
   "cell_type": "code",
   "execution_count": 82,
   "outputs": [
    {
     "data": {
      "text/plain": "array([[-1.84000847]])"
     },
     "execution_count": 82,
     "metadata": {},
     "output_type": "execute_result"
    }
   ],
   "source": [
    "Y_test[10:11]"
   ],
   "metadata": {
    "collapsed": false,
    "pycharm": {
     "name": "#%%\n"
    }
   }
  },
  {
   "cell_type": "code",
   "execution_count": 94,
   "outputs": [
    {
     "ename": "ValueError",
     "evalue": "Found array with 0 sample(s) (shape=(0, 12)) while a minimum of 1 is required by LinearRegression.",
     "output_type": "error",
     "traceback": [
      "\u001B[0;31m---------------------------------------------------------------------------\u001B[0m",
      "\u001B[0;31mValueError\u001B[0m                                Traceback (most recent call last)",
      "Input \u001B[0;32mIn [94]\u001B[0m, in \u001B[0;36m<cell line: 1>\u001B[0;34m()\u001B[0m\n\u001B[0;32m----> 1\u001B[0m \u001B[43mmodel\u001B[49m\u001B[38;5;241;43m.\u001B[39;49m\u001B[43mpredict\u001B[49m\u001B[43m(\u001B[49m\u001B[43mX_test\u001B[49m\u001B[43m[\u001B[49m\u001B[38;5;241;43m98\u001B[39;49m\u001B[43m:\u001B[49m\u001B[38;5;241;43m99\u001B[39;49m\u001B[43m]\u001B[49m\u001B[43m)\u001B[49m\n",
      "File \u001B[0;32m~/PycharmProjects/portal_da/venv/lib/python3.8/site-packages/sklearn/linear_model/_base.py:355\u001B[0m, in \u001B[0;36mLinearModel.predict\u001B[0;34m(self, X)\u001B[0m\n\u001B[1;32m    341\u001B[0m \u001B[38;5;28;01mdef\u001B[39;00m \u001B[38;5;21mpredict\u001B[39m(\u001B[38;5;28mself\u001B[39m, X):\n\u001B[1;32m    342\u001B[0m     \u001B[38;5;124;03m\"\"\"\u001B[39;00m\n\u001B[1;32m    343\u001B[0m \u001B[38;5;124;03m    Predict using the linear model.\u001B[39;00m\n\u001B[1;32m    344\u001B[0m \n\u001B[0;32m   (...)\u001B[0m\n\u001B[1;32m    353\u001B[0m \u001B[38;5;124;03m        Returns predicted values.\u001B[39;00m\n\u001B[1;32m    354\u001B[0m \u001B[38;5;124;03m    \"\"\"\u001B[39;00m\n\u001B[0;32m--> 355\u001B[0m     \u001B[38;5;28;01mreturn\u001B[39;00m \u001B[38;5;28;43mself\u001B[39;49m\u001B[38;5;241;43m.\u001B[39;49m\u001B[43m_decision_function\u001B[49m\u001B[43m(\u001B[49m\u001B[43mX\u001B[49m\u001B[43m)\u001B[49m\n",
      "File \u001B[0;32m~/PycharmProjects/portal_da/venv/lib/python3.8/site-packages/sklearn/linear_model/_base.py:338\u001B[0m, in \u001B[0;36mLinearModel._decision_function\u001B[0;34m(self, X)\u001B[0m\n\u001B[1;32m    335\u001B[0m \u001B[38;5;28;01mdef\u001B[39;00m \u001B[38;5;21m_decision_function\u001B[39m(\u001B[38;5;28mself\u001B[39m, X):\n\u001B[1;32m    336\u001B[0m     check_is_fitted(\u001B[38;5;28mself\u001B[39m)\n\u001B[0;32m--> 338\u001B[0m     X \u001B[38;5;241m=\u001B[39m \u001B[38;5;28;43mself\u001B[39;49m\u001B[38;5;241;43m.\u001B[39;49m\u001B[43m_validate_data\u001B[49m\u001B[43m(\u001B[49m\u001B[43mX\u001B[49m\u001B[43m,\u001B[49m\u001B[43m \u001B[49m\u001B[43maccept_sparse\u001B[49m\u001B[38;5;241;43m=\u001B[39;49m\u001B[43m[\u001B[49m\u001B[38;5;124;43m\"\u001B[39;49m\u001B[38;5;124;43mcsr\u001B[39;49m\u001B[38;5;124;43m\"\u001B[39;49m\u001B[43m,\u001B[49m\u001B[43m \u001B[49m\u001B[38;5;124;43m\"\u001B[39;49m\u001B[38;5;124;43mcsc\u001B[39;49m\u001B[38;5;124;43m\"\u001B[39;49m\u001B[43m,\u001B[49m\u001B[43m \u001B[49m\u001B[38;5;124;43m\"\u001B[39;49m\u001B[38;5;124;43mcoo\u001B[39;49m\u001B[38;5;124;43m\"\u001B[39;49m\u001B[43m]\u001B[49m\u001B[43m,\u001B[49m\u001B[43m \u001B[49m\u001B[43mreset\u001B[49m\u001B[38;5;241;43m=\u001B[39;49m\u001B[38;5;28;43;01mFalse\u001B[39;49;00m\u001B[43m)\u001B[49m\n\u001B[1;32m    339\u001B[0m     \u001B[38;5;28;01mreturn\u001B[39;00m safe_sparse_dot(X, \u001B[38;5;28mself\u001B[39m\u001B[38;5;241m.\u001B[39mcoef_\u001B[38;5;241m.\u001B[39mT, dense_output\u001B[38;5;241m=\u001B[39m\u001B[38;5;28;01mTrue\u001B[39;00m) \u001B[38;5;241m+\u001B[39m \u001B[38;5;28mself\u001B[39m\u001B[38;5;241m.\u001B[39mintercept_\n",
      "File \u001B[0;32m~/PycharmProjects/portal_da/venv/lib/python3.8/site-packages/sklearn/base.py:535\u001B[0m, in \u001B[0;36mBaseEstimator._validate_data\u001B[0;34m(self, X, y, reset, validate_separately, **check_params)\u001B[0m\n\u001B[1;32m    533\u001B[0m     \u001B[38;5;28;01mraise\u001B[39;00m \u001B[38;5;167;01mValueError\u001B[39;00m(\u001B[38;5;124m\"\u001B[39m\u001B[38;5;124mValidation should be done on X, y or both.\u001B[39m\u001B[38;5;124m\"\u001B[39m)\n\u001B[1;32m    534\u001B[0m \u001B[38;5;28;01melif\u001B[39;00m \u001B[38;5;129;01mnot\u001B[39;00m no_val_X \u001B[38;5;129;01mand\u001B[39;00m no_val_y:\n\u001B[0;32m--> 535\u001B[0m     X \u001B[38;5;241m=\u001B[39m \u001B[43mcheck_array\u001B[49m\u001B[43m(\u001B[49m\u001B[43mX\u001B[49m\u001B[43m,\u001B[49m\u001B[43m \u001B[49m\u001B[43minput_name\u001B[49m\u001B[38;5;241;43m=\u001B[39;49m\u001B[38;5;124;43m\"\u001B[39;49m\u001B[38;5;124;43mX\u001B[39;49m\u001B[38;5;124;43m\"\u001B[39;49m\u001B[43m,\u001B[49m\u001B[43m \u001B[49m\u001B[38;5;241;43m*\u001B[39;49m\u001B[38;5;241;43m*\u001B[39;49m\u001B[43mcheck_params\u001B[49m\u001B[43m)\u001B[49m\n\u001B[1;32m    536\u001B[0m     out \u001B[38;5;241m=\u001B[39m X\n\u001B[1;32m    537\u001B[0m \u001B[38;5;28;01melif\u001B[39;00m no_val_X \u001B[38;5;129;01mand\u001B[39;00m \u001B[38;5;129;01mnot\u001B[39;00m no_val_y:\n",
      "File \u001B[0;32m~/PycharmProjects/portal_da/venv/lib/python3.8/site-packages/sklearn/utils/validation.py:929\u001B[0m, in \u001B[0;36mcheck_array\u001B[0;34m(array, accept_sparse, accept_large_sparse, dtype, order, copy, force_all_finite, ensure_2d, allow_nd, ensure_min_samples, ensure_min_features, estimator, input_name)\u001B[0m\n\u001B[1;32m    927\u001B[0m     n_samples \u001B[38;5;241m=\u001B[39m _num_samples(array)\n\u001B[1;32m    928\u001B[0m     \u001B[38;5;28;01mif\u001B[39;00m n_samples \u001B[38;5;241m<\u001B[39m ensure_min_samples:\n\u001B[0;32m--> 929\u001B[0m         \u001B[38;5;28;01mraise\u001B[39;00m \u001B[38;5;167;01mValueError\u001B[39;00m(\n\u001B[1;32m    930\u001B[0m             \u001B[38;5;124m\"\u001B[39m\u001B[38;5;124mFound array with \u001B[39m\u001B[38;5;132;01m%d\u001B[39;00m\u001B[38;5;124m sample(s) (shape=\u001B[39m\u001B[38;5;132;01m%s\u001B[39;00m\u001B[38;5;124m) while a\u001B[39m\u001B[38;5;124m\"\u001B[39m\n\u001B[1;32m    931\u001B[0m             \u001B[38;5;124m\"\u001B[39m\u001B[38;5;124m minimum of \u001B[39m\u001B[38;5;132;01m%d\u001B[39;00m\u001B[38;5;124m is required\u001B[39m\u001B[38;5;132;01m%s\u001B[39;00m\u001B[38;5;124m.\u001B[39m\u001B[38;5;124m\"\u001B[39m\n\u001B[1;32m    932\u001B[0m             \u001B[38;5;241m%\u001B[39m (n_samples, array\u001B[38;5;241m.\u001B[39mshape, ensure_min_samples, context)\n\u001B[1;32m    933\u001B[0m         )\n\u001B[1;32m    935\u001B[0m \u001B[38;5;28;01mif\u001B[39;00m ensure_min_features \u001B[38;5;241m>\u001B[39m \u001B[38;5;241m0\u001B[39m \u001B[38;5;129;01mand\u001B[39;00m array\u001B[38;5;241m.\u001B[39mndim \u001B[38;5;241m==\u001B[39m \u001B[38;5;241m2\u001B[39m:\n\u001B[1;32m    936\u001B[0m     n_features \u001B[38;5;241m=\u001B[39m array\u001B[38;5;241m.\u001B[39mshape[\u001B[38;5;241m1\u001B[39m]\n",
      "\u001B[0;31mValueError\u001B[0m: Found array with 0 sample(s) (shape=(0, 12)) while a minimum of 1 is required by LinearRegression."
     ]
    }
   ],
   "source": [
    "model.predict(X_test[98:99])"
   ],
   "metadata": {
    "collapsed": false,
    "pycharm": {
     "name": "#%%\n"
    }
   }
  },
  {
   "cell_type": "code",
   "execution_count": 97,
   "outputs": [
    {
     "data": {
      "text/plain": "8308045.976460408"
     },
     "execution_count": 97,
     "metadata": {},
     "output_type": "execute_result"
    }
   ],
   "source": [
    "stdsc.inverse_transform(model.predict(X_test[21:22]))[0][0]"
   ],
   "metadata": {
    "collapsed": false,
    "pycharm": {
     "name": "#%%\n"
    }
   }
  },
  {
   "cell_type": "code",
   "execution_count": 98,
   "outputs": [
    {
     "data": {
      "text/plain": "8297248.0"
     },
     "execution_count": 98,
     "metadata": {},
     "output_type": "execute_result"
    }
   ],
   "source": [
    "stdsc.inverse_transform(Y_test[21:22])[0][0]"
   ],
   "metadata": {
    "collapsed": false,
    "pycharm": {
     "name": "#%%\n"
    }
   }
  },
  {
   "cell_type": "code",
   "execution_count": null,
   "outputs": [],
   "source": [],
   "metadata": {
    "collapsed": false,
    "pycharm": {
     "name": "#%%\n"
    }
   }
  },
  {
   "cell_type": "code",
   "execution_count": 123,
   "outputs": [],
   "source": [
    "delta_dict = {}\n",
    "for i in range(28):\n",
    "    try:\n",
    "        delta_dict[i] = abs(stdsc.inverse_transform(model.predict(X_test[i:i+1]))[0][0] / stdsc.inverse_transform(Y_test[i:i+1])[0][0])\n",
    "    except:\n",
    "        pass"
   ],
   "metadata": {
    "collapsed": false,
    "pycharm": {
     "name": "#%%\n"
    }
   }
  },
  {
   "cell_type": "code",
   "execution_count": 124,
   "outputs": [],
   "source": [
    "that_df = pd.DataFrame(data=[delta_dict]).T"
   ],
   "metadata": {
    "collapsed": false,
    "pycharm": {
     "name": "#%%\n"
    }
   }
  },
  {
   "cell_type": "code",
   "execution_count": 125,
   "outputs": [
    {
     "data": {
      "text/plain": "0.7805488106367666"
     },
     "execution_count": 125,
     "metadata": {},
     "output_type": "execute_result"
    }
   ],
   "source": [
    "that_df.median()[0]  # да в целом не все так плохо! можно жить ахах"
   ],
   "metadata": {
    "collapsed": false,
    "pycharm": {
     "name": "#%%\n"
    }
   }
  },
  {
   "cell_type": "code",
   "execution_count": 126,
   "outputs": [
    {
     "data": {
      "text/plain": "0.6289236242901495"
     },
     "execution_count": 126,
     "metadata": {},
     "output_type": "execute_result"
    }
   ],
   "source": [
    "that_df.min()[0]"
   ],
   "metadata": {
    "collapsed": false,
    "pycharm": {
     "name": "#%%\n"
    }
   }
  },
  {
   "cell_type": "code",
   "execution_count": 127,
   "outputs": [
    {
     "data": {
      "text/plain": "75.27730850018717"
     },
     "execution_count": 127,
     "metadata": {},
     "output_type": "execute_result"
    }
   ],
   "source": [
    "that_df.max()[0]"
   ],
   "metadata": {
    "collapsed": false,
    "pycharm": {
     "name": "#%%\n"
    }
   }
  },
  {
   "cell_type": "code",
   "execution_count": 128,
   "outputs": [
    {
     "data": {
      "text/plain": "            0\n0    0.716408\n1    0.763133\n2    0.707759\n3    0.687951\n4    0.698291\n5    0.628924\n6    0.675230\n7    0.671724\n8    0.703144\n9    0.668059\n10   6.631709\n11   0.807570\n12   0.757733\n13   7.882117\n14   0.717845\n15   0.665688\n16   0.848414\n17   0.840192\n18   8.555488\n19  75.277309\n20   0.855383\n21   1.001301\n22   9.711783\n23   0.852194\n24   0.797965\n25   0.811726\n26   0.934210\n27   0.735920",
      "text/html": "<div>\n<style scoped>\n    .dataframe tbody tr th:only-of-type {\n        vertical-align: middle;\n    }\n\n    .dataframe tbody tr th {\n        vertical-align: top;\n    }\n\n    .dataframe thead th {\n        text-align: right;\n    }\n</style>\n<table border=\"1\" class=\"dataframe\">\n  <thead>\n    <tr style=\"text-align: right;\">\n      <th></th>\n      <th>0</th>\n    </tr>\n  </thead>\n  <tbody>\n    <tr>\n      <th>0</th>\n      <td>0.716408</td>\n    </tr>\n    <tr>\n      <th>1</th>\n      <td>0.763133</td>\n    </tr>\n    <tr>\n      <th>2</th>\n      <td>0.707759</td>\n    </tr>\n    <tr>\n      <th>3</th>\n      <td>0.687951</td>\n    </tr>\n    <tr>\n      <th>4</th>\n      <td>0.698291</td>\n    </tr>\n    <tr>\n      <th>5</th>\n      <td>0.628924</td>\n    </tr>\n    <tr>\n      <th>6</th>\n      <td>0.675230</td>\n    </tr>\n    <tr>\n      <th>7</th>\n      <td>0.671724</td>\n    </tr>\n    <tr>\n      <th>8</th>\n      <td>0.703144</td>\n    </tr>\n    <tr>\n      <th>9</th>\n      <td>0.668059</td>\n    </tr>\n    <tr>\n      <th>10</th>\n      <td>6.631709</td>\n    </tr>\n    <tr>\n      <th>11</th>\n      <td>0.807570</td>\n    </tr>\n    <tr>\n      <th>12</th>\n      <td>0.757733</td>\n    </tr>\n    <tr>\n      <th>13</th>\n      <td>7.882117</td>\n    </tr>\n    <tr>\n      <th>14</th>\n      <td>0.717845</td>\n    </tr>\n    <tr>\n      <th>15</th>\n      <td>0.665688</td>\n    </tr>\n    <tr>\n      <th>16</th>\n      <td>0.848414</td>\n    </tr>\n    <tr>\n      <th>17</th>\n      <td>0.840192</td>\n    </tr>\n    <tr>\n      <th>18</th>\n      <td>8.555488</td>\n    </tr>\n    <tr>\n      <th>19</th>\n      <td>75.277309</td>\n    </tr>\n    <tr>\n      <th>20</th>\n      <td>0.855383</td>\n    </tr>\n    <tr>\n      <th>21</th>\n      <td>1.001301</td>\n    </tr>\n    <tr>\n      <th>22</th>\n      <td>9.711783</td>\n    </tr>\n    <tr>\n      <th>23</th>\n      <td>0.852194</td>\n    </tr>\n    <tr>\n      <th>24</th>\n      <td>0.797965</td>\n    </tr>\n    <tr>\n      <th>25</th>\n      <td>0.811726</td>\n    </tr>\n    <tr>\n      <th>26</th>\n      <td>0.934210</td>\n    </tr>\n    <tr>\n      <th>27</th>\n      <td>0.735920</td>\n    </tr>\n  </tbody>\n</table>\n</div>"
     },
     "execution_count": 128,
     "metadata": {},
     "output_type": "execute_result"
    }
   ],
   "source": [
    "that_df"
   ],
   "metadata": {
    "collapsed": false,
    "pycharm": {
     "name": "#%%\n"
    }
   }
  },
  {
   "cell_type": "code",
   "execution_count": 129,
   "outputs": [],
   "source": [
    "# нужно нормально оценить как то эти результаты"
   ],
   "metadata": {
    "collapsed": false,
    "pycharm": {
     "name": "#%%\n"
    }
   }
  },
  {
   "cell_type": "code",
   "execution_count": null,
   "outputs": [],
   "source": [],
   "metadata": {
    "collapsed": false,
    "pycharm": {
     "name": "#%%\n"
    }
   }
  },
  {
   "cell_type": "code",
   "execution_count": 96,
   "outputs": [
    {
     "data": {
      "text/plain": "array([[-0.0769971 , -0.53433326, -0.34575576, -0.30784083, -0.35824391,\n        -0.0428251 , -0.25012761, -0.35013769, -0.24729777, -0.23126176,\n        -0.33333333, -0.36021694],\n       [-0.08975905, -0.53433326, -0.34575576, -0.30784083, -0.35835803,\n        -0.04225793, -0.25296048, -0.35013769, -0.25079504, -0.23126176,\n        -0.33333333, -0.36021694],\n       [ 0.2292897 , -0.53433326, -0.34575576, -0.30784083, -0.35847255,\n        -0.04168745, -0.25578835, -0.35013769, -0.24722566, -0.23126176,\n        -0.33333333, -0.36021694],\n       [ 0.2803375 , -0.53433326, -0.34575576, -0.30784083, -0.3585927 ,\n        -0.04108719, -0.25873664, -0.35013769, -0.24567532, -0.23126176,\n        -0.33333333, -0.36021694],\n       [-0.08975905, -0.53433326, -0.34575576, -0.30784083, -0.35788561,\n        -0.04365986, -0.23519724, -0.35013769, -0.24578349, -0.23126176,\n        -0.33333333, -0.36021694],\n       [-0.06423515, -0.53433326, -0.34575576, -0.30784083, -0.35800858,\n        -0.04305551, -0.23830459, -0.35013769, -0.23932976, -0.23126176,\n        -0.33333333, -0.36021694],\n       [ 0.0761463 , -0.53433326, -0.34575576, -0.30784083, -0.35813236,\n        -0.04243346, -0.24133786, -0.35013769, -0.24412499, -0.23126176,\n        -0.33333333, -0.36021694],\n       [-0.40880779, -0.53433326, -0.34575576, -0.30784083, -0.35825221,\n        -0.04184339, -0.24434452, -0.35013769, -0.24275492, -0.23126176,\n        -0.33333333, -0.36021694],\n       [-0.26842634, -0.53433326, -0.34575576, -0.30784083, -0.3583698 ,\n        -0.04125764, -0.24724406, -0.35013769, -0.24581954, -0.23126176,\n        -0.33333333, -0.36021694],\n       [-0.1535688 , -0.53433326, -0.34575576, -0.30784083, -0.3584865 ,\n        -0.04068165, -0.2501483 , -0.35013769, -0.24297125, -0.23126176,\n        -0.33333333, -0.36021694],\n       [-0.42156974, -0.53433326, -0.34575576, -0.30784083, -0.35860638,\n        -0.04008932, -0.25312036, -0.35013769, -0.24192567, -0.23126176,\n        -0.33333333, -0.36021694],\n       [-0.29395024, -0.53433326, -0.34575576, -0.30784083, -0.3583405 ,\n        -0.04434501, -0.26528833, -0.35013769, -0.25339095, -0.23126176,\n        -0.33333333, -0.36021694],\n       [-0.16633075, -0.53433326, -0.34575576, -0.30784083, -0.35845462,\n        -0.04377578, -0.26812441, -0.35013769, -0.25025422, -0.23126176,\n        -0.33333333, -0.36021694],\n       [-0.33223609, -0.53433326, -0.34575576, -0.30784083, -0.35857039,\n        -0.0431934 , -0.27096258, -0.35013769, -0.25205694, -0.23126176,\n        -0.33333333, -0.36021694],\n       [-0.25566439, -0.53433326, -0.34575576, -0.30784083, -0.35796282,\n        -0.04534856, -0.25026681, -0.35013769, -0.24704539, -0.23126176,\n        -0.33333333, -0.36021694],\n       [-0.34499804, -0.53433326, -0.34575576, -0.30784083, -0.35809214,\n        -0.04471004, -0.2535359 , -0.35013769, -0.24232227, -0.23126176,\n        -0.33333333, -0.36021694],\n       [-0.11528295, -0.0971515 , -0.34575576, -0.30784083, -0.35802546,\n        -0.04702368, -0.26445942, -0.35013769, -0.25458074, -0.23126176,\n        -0.33333333, -0.36021694],\n       [-0.43433169, -0.0971515 , -0.34575576, -0.30784083, -0.35824138,\n        -0.0459511 , -0.26990697, -0.35013769, -0.25353516, -0.23126176,\n        -0.33333333, -0.36021694],\n       [-0.1280449 , -0.0971515 , -0.34575576, -0.30784083, -0.35834698,\n        -0.04543365, -0.2726079 , -0.35013769, -0.25497734, -0.23126176,\n        -0.33333333, -0.36021694],\n       [ 1.13538814, -0.0971515 ,  3.0647356 ,  1.76404373,  3.37679731,\n        -2.02683775,  3.098339  ,  4.28970111, -0.1966054 , -2.03700425,\n         3.        ,  2.47255702],\n       [-0.35775999, -0.0971515 , -0.34575576, -0.30784083, -0.35798533,\n        -0.0461046 , -0.25634178, -0.35013769, -0.25458074, -0.23126176,\n        -0.33333333, -0.36021694],\n       [-0.2046166 , -0.0971515 , -0.34575576, -0.30784083, -0.35804799,\n        -0.04775999, -0.27042313, -0.35013769, -0.26211609, -0.23126176,\n        -0.33333333, -0.36021694],\n       [-2.52729146,  0.34003026,  1.14226117,  2.06538731,  2.75982877,\n        -2.69919084,  0.52437669,  2.19290803,  1.5051584 ,  3.95045769,\n         3.        ,  2.78730969],\n       [-0.28118829,  0.48575751, -0.34575576, -0.30784083, -0.35834544,\n        -0.04345233, -0.25987032, -0.35013769, -0.25241748, -0.23126176,\n        -0.33333333, -0.36021694],\n       [-0.1280449 ,  0.48575751, -0.34575576, -0.30784083, -0.35846146,\n        -0.04287469, -0.26275003, -0.35013769, -0.24913654, -0.23126176,\n        -0.33333333, -0.36021694],\n       [-0.33223609,  0.48575751, -0.34575576, -0.30784083, -0.35858035,\n        -0.04228314, -0.26569676, -0.35013769, -0.24971341, -0.23126176,\n        -0.33333333, -0.36021694],\n       [-0.2046166 ,  0.48575751, -0.34575576, -0.30784083, -0.35790802,\n        -0.04446134, -0.2415402 , -0.35013769, -0.2571406 , -0.23126176,\n        -0.33333333, -0.36021694],\n       [-0.1790927 ,  0.48575751, -0.34575576, -0.30784083, -0.35822424,\n        -0.04405545, -0.25685222, -0.35013769, -0.24434131, -0.23126176,\n        -0.33333333, -0.36021694],\n       [ 4.01958879,  1.79730279,  0.84900236,  4.47943959,  2.72766893,\n         3.76572105,  4.14513952,  1.02120298,  5.10698474,  1.57448073,\n        -0.33333333,  0.58404105],\n       [ 2.11805827,  4.56612059,  3.93365059, -0.3050091 ,  0.45070075,\n         2.09195878, -1.11191846,  1.59976773,  0.05577483,  2.52487151,\n         3.        ,  3.52173257]])"
     },
     "execution_count": 96,
     "metadata": {},
     "output_type": "execute_result"
    }
   ],
   "source": [
    "X_test"
   ],
   "metadata": {
    "collapsed": false,
    "pycharm": {
     "name": "#%%\n"
    }
   }
  },
  {
   "cell_type": "code",
   "execution_count": null,
   "outputs": [],
   "source": [],
   "metadata": {
    "collapsed": false,
    "pycharm": {
     "name": "#%%\n"
    }
   }
  },
  {
   "cell_type": "code",
   "execution_count": 2,
   "outputs": [
    {
     "ename": "NameError",
     "evalue": "name 'X_test' is not defined",
     "output_type": "error",
     "traceback": [
      "\u001B[0;31m---------------------------------------------------------------------------\u001B[0m",
      "\u001B[0;31mNameError\u001B[0m                                 Traceback (most recent call last)",
      "Input \u001B[0;32mIn [2]\u001B[0m, in \u001B[0;36m<cell line: 1>\u001B[0;34m()\u001B[0m\n\u001B[0;32m----> 1\u001B[0m \u001B[43mX_test\u001B[49m[\u001B[38;5;241m10\u001B[39m:\u001B[38;5;241m11\u001B[39m]\n",
      "\u001B[0;31mNameError\u001B[0m: name 'X_test' is not defined"
     ]
    }
   ],
   "source": [
    "X_test[10:11]"
   ],
   "metadata": {
    "collapsed": false,
    "pycharm": {
     "name": "#%%\n"
    }
   }
  },
  {
   "cell_type": "code",
   "execution_count": null,
   "outputs": [],
   "source": [],
   "metadata": {
    "collapsed": false,
    "pycharm": {
     "name": "#%%\n"
    }
   }
  },
  {
   "cell_type": "code",
   "execution_count": 1,
   "outputs": [],
   "source": [
    "# у нас есть дата лик в виде цены на квадратный метр\n",
    "# хотя не, вроде все ровно, мы убрали его ранее"
   ],
   "metadata": {
    "collapsed": false,
    "pycharm": {
     "name": "#%%\n"
    }
   }
  },
  {
   "cell_type": "markdown",
   "source": [
    "### 22.1.23 review of what we got"
   ],
   "metadata": {
    "collapsed": false,
    "pycharm": {
     "name": "#%% md\n"
    }
   }
  },
  {
   "cell_type": "code",
   "execution_count": 8,
   "outputs": [],
   "source": [
    "from models_functions import encode_features, make_regression"
   ],
   "metadata": {
    "collapsed": false,
    "pycharm": {
     "name": "#%%\n"
    }
   }
  },
  {
   "cell_type": "code",
   "execution_count": 9,
   "outputs": [],
   "source": [
    "from sklearn import metrics"
   ],
   "metadata": {
    "collapsed": false,
    "pycharm": {
     "name": "#%%\n"
    }
   }
  },
  {
   "cell_type": "code",
   "execution_count": 11,
   "outputs": [],
   "source": [
    "lien_df = pd.read_csv('../data/lien_df1_18_01_23.csv', sep=';')"
   ],
   "metadata": {
    "collapsed": false,
    "pycharm": {
     "name": "#%%\n"
    }
   }
  },
  {
   "cell_type": "code",
   "execution_count": 12,
   "outputs": [],
   "source": [
    "selected_df = lien_df[['views', 'contact_name', 'seller_name', 'square', 'shown_by_days', 'distance', 'region_square', 'region_capital', 'grp', 'criminality', 'km_to_msk', 'km_to_region_capital', 'price_value']].copy()"
   ],
   "metadata": {
    "collapsed": false,
    "pycharm": {
     "name": "#%%\n"
    }
   }
  },
  {
   "cell_type": "code",
   "execution_count": 13,
   "outputs": [],
   "source": [
    "selected_df = selected_df.dropna()  # пока поработаем без null"
   ],
   "metadata": {
    "collapsed": false,
    "pycharm": {
     "name": "#%%\n"
    }
   }
  },
  {
   "cell_type": "code",
   "execution_count": 14,
   "outputs": [],
   "source": [
    "# categorical features\n",
    "cat_features_list = ['contact_name', 'seller_name', 'region_capital']"
   ],
   "metadata": {
    "collapsed": false,
    "pycharm": {
     "name": "#%%\n"
    }
   }
  },
  {
   "cell_type": "code",
   "execution_count": 16,
   "outputs": [],
   "source": [
    "label_encoded_df = encode_features(selected_df)"
   ],
   "metadata": {
    "collapsed": false,
    "pycharm": {
     "name": "#%%\n"
    }
   }
  },
  {
   "cell_type": "code",
   "execution_count": 17,
   "outputs": [],
   "source": [
    "model, X_test_std, Y_test_std, stdsc = make_regression(label_encoded_df, 'price_value')"
   ],
   "metadata": {
    "collapsed": false,
    "pycharm": {
     "name": "#%%\n"
    }
   }
  },
  {
   "cell_type": "code",
   "execution_count": 18,
   "outputs": [
    {
     "data": {
      "text/plain": "array([[-0.20824906]])"
     },
     "execution_count": 18,
     "metadata": {},
     "output_type": "execute_result"
    }
   ],
   "source": [
    "model.predict(X_test_std[1:2])"
   ],
   "metadata": {
    "collapsed": false,
    "pycharm": {
     "name": "#%%\n"
    }
   }
  },
  {
   "cell_type": "code",
   "execution_count": 19,
   "outputs": [],
   "source": [
    "# todo какие оценки нам надо сделать?: MAPE, RMSE"
   ],
   "metadata": {
    "collapsed": false,
    "pycharm": {
     "name": "#%%\n"
    }
   }
  },
  {
   "cell_type": "code",
   "execution_count": 22,
   "outputs": [],
   "source": [
    "# давай протестируем со шкалированными данными и без"
   ],
   "metadata": {
    "collapsed": false,
    "pycharm": {
     "name": "#%%\n"
    }
   }
  },
  {
   "cell_type": "code",
   "execution_count": 19,
   "outputs": [],
   "source": [
    "Y_pred_std = model.predict(X_test_std)"
   ],
   "metadata": {
    "collapsed": false,
    "pycharm": {
     "name": "#%%\n"
    }
   }
  },
  {
   "cell_type": "code",
   "execution_count": 20,
   "outputs": [
    {
     "data": {
      "text/plain": "6.215795318267291"
     },
     "execution_count": 20,
     "metadata": {},
     "output_type": "execute_result"
    }
   ],
   "source": [
    "metrics.mean_absolute_percentage_error(Y_test_std, Y_pred_std)  # 127 %? .. 600%??"
   ],
   "metadata": {
    "collapsed": false,
    "pycharm": {
     "name": "#%%\n"
    }
   }
  },
  {
   "cell_type": "code",
   "execution_count": 21,
   "outputs": [
    {
     "data": {
      "text/plain": "0.609374526650863"
     },
     "execution_count": 21,
     "metadata": {},
     "output_type": "execute_result"
    }
   ],
   "source": [
    "metrics.mean_absolute_error(Y_test_std, Y_pred_std)"
   ],
   "metadata": {
    "collapsed": false,
    "pycharm": {
     "name": "#%%\n"
    }
   }
  },
  {
   "cell_type": "code",
   "execution_count": 22,
   "outputs": [
    {
     "data": {
      "text/plain": "0.10951284082445209"
     },
     "execution_count": 22,
     "metadata": {},
     "output_type": "execute_result"
    }
   ],
   "source": [
    "0.609374526650863/ Y_test_std.max()"
   ],
   "metadata": {
    "collapsed": false,
    "pycharm": {
     "name": "#%%\n"
    }
   }
  },
  {
   "cell_type": "code",
   "execution_count": 38,
   "outputs": [
    {
     "data": {
      "text/plain": "4.374120554533135"
     },
     "execution_count": 38,
     "metadata": {},
     "output_type": "execute_result"
    }
   ],
   "source": [
    "# This is known as a scale-dependent accuracy measure and, therefore, cannot be used to make comparisons between series using different scales."
   ],
   "metadata": {
    "collapsed": false,
    "pycharm": {
     "name": "#%%\n"
    }
   }
  },
  {
   "cell_type": "code",
   "execution_count": 30,
   "outputs": [],
   "source": [
    "# It is for example not changed by a global scaling of the target variable.\n",
    "# todo попробовать разные метрики добавить (например, MedError)"
   ],
   "metadata": {
    "collapsed": false,
    "pycharm": {
     "name": "#%%\n"
    }
   }
  },
  {
   "cell_type": "code",
   "execution_count": null,
   "outputs": [],
   "source": [
    "# todo надо проделать для absolute values, надо сделать функцию для возврата absolute_error"
   ],
   "metadata": {
    "collapsed": false,
    "pycharm": {
     "name": "#%%\n"
    }
   }
  },
  {
   "cell_type": "code",
   "execution_count": 11,
   "outputs": [],
   "source": [
    "# todo добавить фичу средняя цена за квадрат в регионе"
   ],
   "metadata": {
    "collapsed": false,
    "pycharm": {
     "name": "#%%\n"
    }
   }
  },
  {
   "cell_type": "code",
   "execution_count": 10,
   "outputs": [
    {
     "data": {
      "text/plain": "      views                      contact_name  \\\n1    2311.0        Гаас Александра Георгиевна   \n2     466.0            Брюнель Ева Жисленовна   \n3    1286.0  Плесняев Александр Александрович   \n4    1057.0         Беликин Иван Владимирович   \n5     812.0                   Остроухова Алла   \n..      ...                               ...   \n827   269.0            Коваленко Александр Ан   \n828   279.0            Коваленко Александр Ан   \n829   281.0            Коваленко Александр Ан   \n830   610.0          Нуриев Эдуард Рамзилович   \n831   461.0        Самойленко Денис Сергеевич   \n\n                          seller_name    square  shown_by_days   distance  \\\n1                     Физическое лицо   25111.0     293.884407   8.221511   \n2                     Физическое лицо   50574.0     275.884407  15.086412   \n3    Плесняев Александр Александрович  504500.0     207.884407  49.688507   \n4           Беликин Иван Владимирович   10000.0     215.884407  16.159018   \n5                        ПАО Сбербанк    2400.0     674.884407   8.780511   \n..                                ...       ...            ...        ...   \n827               АО \"Россельхозбанк\"    1527.0     608.884408   9.524407   \n828               АО \"Россельхозбанк\"    1321.0     608.884408   9.708539   \n829               АО \"Россельхозбанк\"    1676.0     608.884408   9.591824   \n830               АО \"Россельхозбанк\"  150100.0     617.884408  43.145711   \n831                      ПАО Сбербанк   10000.0     636.884408   3.074139   \n\n     region_square  region_capital     grp  criminality    km_to_msk  \\\n1         167996.0         Барнаул   550.0        130.8  3077.808288   \n2          36177.0       Ярославль   560.6        105.1   137.376612   \n3          44329.0          Москва  4201.8         72.9   142.859455   \n4          44329.0          Москва  4201.8         72.9    37.925763   \n5         100967.0  Ростов-на-Дону  1446.2        104.8   945.986855   \n..             ...             ...     ...          ...          ...   \n827        29084.0        Владимир   440.5         91.1    91.247107   \n828        29084.0        Владимир   440.5         91.1    91.433379   \n829        29084.0        Владимир   440.5         91.1    91.345769   \n830        67847.0          Казань  2469.2        102.1   946.305150   \n831        84201.0           Тверь   441.7        130.5   315.461761   \n\n     km_to_region_capital  price_value  \n1              172.971129  145500000.0  \n2              112.852414    4500000.0  \n3              143.008314   23450000.0  \n4               37.865816  320000000.0  \n5               17.188847     136000.0  \n..                    ...          ...  \n827             98.556292   10709963.0  \n828             98.483280    9265136.0  \n829             98.496885   11755032.0  \n830            226.197191     226651.0  \n831            170.094175    8270000.0  \n\n[300 rows x 13 columns]",
      "text/html": "<div>\n<style scoped>\n    .dataframe tbody tr th:only-of-type {\n        vertical-align: middle;\n    }\n\n    .dataframe tbody tr th {\n        vertical-align: top;\n    }\n\n    .dataframe thead th {\n        text-align: right;\n    }\n</style>\n<table border=\"1\" class=\"dataframe\">\n  <thead>\n    <tr style=\"text-align: right;\">\n      <th></th>\n      <th>views</th>\n      <th>contact_name</th>\n      <th>seller_name</th>\n      <th>square</th>\n      <th>shown_by_days</th>\n      <th>distance</th>\n      <th>region_square</th>\n      <th>region_capital</th>\n      <th>grp</th>\n      <th>criminality</th>\n      <th>km_to_msk</th>\n      <th>km_to_region_capital</th>\n      <th>price_value</th>\n    </tr>\n  </thead>\n  <tbody>\n    <tr>\n      <th>1</th>\n      <td>2311.0</td>\n      <td>Гаас Александра Георгиевна</td>\n      <td>Физическое лицо</td>\n      <td>25111.0</td>\n      <td>293.884407</td>\n      <td>8.221511</td>\n      <td>167996.0</td>\n      <td>Барнаул</td>\n      <td>550.0</td>\n      <td>130.8</td>\n      <td>3077.808288</td>\n      <td>172.971129</td>\n      <td>145500000.0</td>\n    </tr>\n    <tr>\n      <th>2</th>\n      <td>466.0</td>\n      <td>Брюнель Ева Жисленовна</td>\n      <td>Физическое лицо</td>\n      <td>50574.0</td>\n      <td>275.884407</td>\n      <td>15.086412</td>\n      <td>36177.0</td>\n      <td>Ярославль</td>\n      <td>560.6</td>\n      <td>105.1</td>\n      <td>137.376612</td>\n      <td>112.852414</td>\n      <td>4500000.0</td>\n    </tr>\n    <tr>\n      <th>3</th>\n      <td>1286.0</td>\n      <td>Плесняев Александр Александрович</td>\n      <td>Плесняев Александр Александрович</td>\n      <td>504500.0</td>\n      <td>207.884407</td>\n      <td>49.688507</td>\n      <td>44329.0</td>\n      <td>Москва</td>\n      <td>4201.8</td>\n      <td>72.9</td>\n      <td>142.859455</td>\n      <td>143.008314</td>\n      <td>23450000.0</td>\n    </tr>\n    <tr>\n      <th>4</th>\n      <td>1057.0</td>\n      <td>Беликин Иван Владимирович</td>\n      <td>Беликин Иван Владимирович</td>\n      <td>10000.0</td>\n      <td>215.884407</td>\n      <td>16.159018</td>\n      <td>44329.0</td>\n      <td>Москва</td>\n      <td>4201.8</td>\n      <td>72.9</td>\n      <td>37.925763</td>\n      <td>37.865816</td>\n      <td>320000000.0</td>\n    </tr>\n    <tr>\n      <th>5</th>\n      <td>812.0</td>\n      <td>Остроухова Алла</td>\n      <td>ПАО Сбербанк</td>\n      <td>2400.0</td>\n      <td>674.884407</td>\n      <td>8.780511</td>\n      <td>100967.0</td>\n      <td>Ростов-на-Дону</td>\n      <td>1446.2</td>\n      <td>104.8</td>\n      <td>945.986855</td>\n      <td>17.188847</td>\n      <td>136000.0</td>\n    </tr>\n    <tr>\n      <th>...</th>\n      <td>...</td>\n      <td>...</td>\n      <td>...</td>\n      <td>...</td>\n      <td>...</td>\n      <td>...</td>\n      <td>...</td>\n      <td>...</td>\n      <td>...</td>\n      <td>...</td>\n      <td>...</td>\n      <td>...</td>\n      <td>...</td>\n    </tr>\n    <tr>\n      <th>827</th>\n      <td>269.0</td>\n      <td>Коваленко Александр Ан</td>\n      <td>АО \"Россельхозбанк\"</td>\n      <td>1527.0</td>\n      <td>608.884408</td>\n      <td>9.524407</td>\n      <td>29084.0</td>\n      <td>Владимир</td>\n      <td>440.5</td>\n      <td>91.1</td>\n      <td>91.247107</td>\n      <td>98.556292</td>\n      <td>10709963.0</td>\n    </tr>\n    <tr>\n      <th>828</th>\n      <td>279.0</td>\n      <td>Коваленко Александр Ан</td>\n      <td>АО \"Россельхозбанк\"</td>\n      <td>1321.0</td>\n      <td>608.884408</td>\n      <td>9.708539</td>\n      <td>29084.0</td>\n      <td>Владимир</td>\n      <td>440.5</td>\n      <td>91.1</td>\n      <td>91.433379</td>\n      <td>98.483280</td>\n      <td>9265136.0</td>\n    </tr>\n    <tr>\n      <th>829</th>\n      <td>281.0</td>\n      <td>Коваленко Александр Ан</td>\n      <td>АО \"Россельхозбанк\"</td>\n      <td>1676.0</td>\n      <td>608.884408</td>\n      <td>9.591824</td>\n      <td>29084.0</td>\n      <td>Владимир</td>\n      <td>440.5</td>\n      <td>91.1</td>\n      <td>91.345769</td>\n      <td>98.496885</td>\n      <td>11755032.0</td>\n    </tr>\n    <tr>\n      <th>830</th>\n      <td>610.0</td>\n      <td>Нуриев Эдуард Рамзилович</td>\n      <td>АО \"Россельхозбанк\"</td>\n      <td>150100.0</td>\n      <td>617.884408</td>\n      <td>43.145711</td>\n      <td>67847.0</td>\n      <td>Казань</td>\n      <td>2469.2</td>\n      <td>102.1</td>\n      <td>946.305150</td>\n      <td>226.197191</td>\n      <td>226651.0</td>\n    </tr>\n    <tr>\n      <th>831</th>\n      <td>461.0</td>\n      <td>Самойленко Денис Сергеевич</td>\n      <td>ПАО Сбербанк</td>\n      <td>10000.0</td>\n      <td>636.884408</td>\n      <td>3.074139</td>\n      <td>84201.0</td>\n      <td>Тверь</td>\n      <td>441.7</td>\n      <td>130.5</td>\n      <td>315.461761</td>\n      <td>170.094175</td>\n      <td>8270000.0</td>\n    </tr>\n  </tbody>\n</table>\n<p>300 rows × 13 columns</p>\n</div>"
     },
     "execution_count": 10,
     "metadata": {},
     "output_type": "execute_result"
    }
   ],
   "source": [
    "# todo попробовать в encode_features все спрятать"
   ],
   "metadata": {
    "collapsed": false,
    "pycharm": {
     "name": "#%%\n"
    }
   }
  },
  {
   "cell_type": "code",
   "execution_count": 21,
   "outputs": [
    {
     "data": {
      "text/plain": "(300, 13)"
     },
     "execution_count": 21,
     "metadata": {},
     "output_type": "execute_result"
    }
   ],
   "source": [
    "selected_df.shape"
   ],
   "metadata": {
    "collapsed": false,
    "pycharm": {
     "name": "#%%\n"
    }
   }
  },
  {
   "cell_type": "code",
   "execution_count": null,
   "outputs": [],
   "source": [],
   "metadata": {
    "collapsed": false,
    "pycharm": {
     "name": "#%%\n"
    }
   }
  },
  {
   "cell_type": "markdown",
   "source": [
    "### 28.1.23"
   ],
   "metadata": {
    "collapsed": false,
    "pycharm": {
     "name": "#%% md\n"
    }
   }
  },
  {
   "cell_type": "code",
   "execution_count": null,
   "outputs": [],
   "source": [
    "# нужен пример конвейера"
   ],
   "metadata": {
    "collapsed": false,
    "pycharm": {
     "name": "#%%\n"
    }
   }
  },
  {
   "cell_type": "code",
   "execution_count": 1,
   "outputs": [],
   "source": [
    "from models_functions import model_conveyor"
   ],
   "metadata": {
    "collapsed": false,
    "pycharm": {
     "name": "#%%\n"
    }
   }
  },
  {
   "cell_type": "code",
   "execution_count": 2,
   "outputs": [],
   "source": [
    "import pandas as pd"
   ],
   "metadata": {
    "collapsed": false,
    "pycharm": {
     "name": "#%%\n"
    }
   }
  },
  {
   "cell_type": "code",
   "execution_count": 14,
   "outputs": [],
   "source": [
    "pd.options.display.float_format = '{:_.2f}'.format"
   ],
   "metadata": {
    "collapsed": false,
    "pycharm": {
     "name": "#%%\n"
    }
   }
  },
  {
   "cell_type": "code",
   "execution_count": 3,
   "outputs": [],
   "source": [
    "lien_df = pd.read_csv('../data/lien_df1_18_01_23.csv', sep=';')"
   ],
   "metadata": {
    "collapsed": false,
    "pycharm": {
     "name": "#%%\n"
    }
   }
  },
  {
   "cell_type": "code",
   "execution_count": 4,
   "outputs": [],
   "source": [
    "selected_df = lien_df[['views', 'contact_name', 'seller_name', 'square', 'shown_by_days', 'distance', 'region_square', 'region_capital', 'grp', 'criminality', 'km_to_msk', 'km_to_region_capital', 'price_value']].copy()"
   ],
   "metadata": {
    "collapsed": false,
    "pycharm": {
     "name": "#%%\n"
    }
   }
  },
  {
   "cell_type": "code",
   "execution_count": 5,
   "outputs": [],
   "source": [
    "selected_df = selected_df.dropna()  # пока поработаем без null"
   ],
   "metadata": {
    "collapsed": false,
    "pycharm": {
     "name": "#%%\n"
    }
   }
  },
  {
   "cell_type": "code",
   "execution_count": 6,
   "outputs": [
    {
     "name": "stderr",
     "output_type": "stream",
     "text": [
      "100%|██████████| 3/3 [00:00<00:00, 738.17it/s]"
     ]
    },
    {
     "name": "stdout",
     "output_type": "stream",
     "text": [
      "mape\n",
      "mae\n",
      "mse\n"
     ]
    },
    {
     "name": "stderr",
     "output_type": "stream",
     "text": [
      "\n"
     ]
    }
   ],
   "source": [
    "model, metrics_results, X_train_scaled, Y_train_scaled, X_test_scaled, Y_test_scaled, scaler_x_train, \\\n",
    "scaler_y_train, scaler_x_test, scaler_y_test = model_conveyor(selected_df, 'linear_regression', 'minmax', ['mape', 'mae', 'mse'], True)"
   ],
   "metadata": {
    "collapsed": false,
    "pycharm": {
     "name": "#%%\n"
    }
   }
  },
  {
   "cell_type": "code",
   "execution_count": 15,
   "outputs": [
    {
     "data": {
      "text/plain": "                                           mape            mae  \\\ntrain_scaled               3_329_030_399_736.18           0.05   \ntest_scaled                4_637_483_987_513.11           0.21   \ntrain_unscaled 1_498_063_679_861_379_825_664.00  23_255_381.68   \ntest_unscaled  2_318_741_993_612_866_224_128.00 102_736_016.09   \n\n                                     mse  \ntrain_scaled                        0.01  \ntest_scaled                         0.08  \ntrain_unscaled  2_251_589_691_067_897.75  \ntest_unscaled  18_240_475_273_937_336.00  ",
      "text/html": "<div>\n<style scoped>\n    .dataframe tbody tr th:only-of-type {\n        vertical-align: middle;\n    }\n\n    .dataframe tbody tr th {\n        vertical-align: top;\n    }\n\n    .dataframe thead th {\n        text-align: right;\n    }\n</style>\n<table border=\"1\" class=\"dataframe\">\n  <thead>\n    <tr style=\"text-align: right;\">\n      <th></th>\n      <th>mape</th>\n      <th>mae</th>\n      <th>mse</th>\n    </tr>\n  </thead>\n  <tbody>\n    <tr>\n      <th>train_scaled</th>\n      <td>3_329_030_399_736.18</td>\n      <td>0.05</td>\n      <td>0.01</td>\n    </tr>\n    <tr>\n      <th>test_scaled</th>\n      <td>4_637_483_987_513.11</td>\n      <td>0.21</td>\n      <td>0.08</td>\n    </tr>\n    <tr>\n      <th>train_unscaled</th>\n      <td>1_498_063_679_861_379_825_664.00</td>\n      <td>23_255_381.68</td>\n      <td>2_251_589_691_067_897.75</td>\n    </tr>\n    <tr>\n      <th>test_unscaled</th>\n      <td>2_318_741_993_612_866_224_128.00</td>\n      <td>102_736_016.09</td>\n      <td>18_240_475_273_937_336.00</td>\n    </tr>\n  </tbody>\n</table>\n</div>"
     },
     "execution_count": 15,
     "metadata": {},
     "output_type": "execute_result"
    }
   ],
   "source": [
    "pd.DataFrame(metrics_results)"
   ],
   "metadata": {
    "collapsed": false,
    "pycharm": {
     "name": "#%%\n"
    }
   }
  },
  {
   "cell_type": "code",
   "execution_count": null,
   "outputs": [],
   "source": [
    "# TODO\n",
    "# на unscaled оценки - пиздец, надо внимательно проверить функцию, точно ли все ок делаем ну и в целом модель говно"
   ],
   "metadata": {
    "collapsed": false,
    "pycharm": {
     "name": "#%%\n",
     "is_executing": true
    }
   }
  },
  {
   "cell_type": "code",
   "execution_count": null,
   "outputs": [],
   "source": [],
   "metadata": {
    "collapsed": false,
    "pycharm": {
     "name": "#%%\n",
     "is_executing": true
    }
   }
  },
  {
   "cell_type": "code",
   "execution_count": null,
   "outputs": [],
   "source": [],
   "metadata": {
    "collapsed": false,
    "pycharm": {
     "name": "#%%\n",
     "is_executing": true
    }
   }
  },
  {
   "cell_type": "code",
   "execution_count": 15,
   "outputs": [],
   "source": [],
   "metadata": {
    "collapsed": false,
    "pycharm": {
     "name": "#%%\n"
    }
   }
  }
 ],
 "metadata": {
  "kernelspec": {
   "name": "portal_da",
   "language": "python",
   "display_name": "portal_da"
  },
  "language_info": {
   "codemirror_mode": {
    "name": "ipython",
    "version": 2
   },
   "file_extension": ".py",
   "mimetype": "text/x-python",
   "name": "python",
   "nbconvert_exporter": "python",
   "pygments_lexer": "ipython2",
   "version": "2.7.6"
  }
 },
 "nbformat": 4,
 "nbformat_minor": 0
}