{
 "cells": [
  {
   "cell_type": "code",
   "execution_count": 1,
   "metadata": {
    "collapsed": true,
    "pycharm": {
     "name": "#%%\n"
    }
   },
   "outputs": [],
   "source": [
    "import pandas as pd\n",
    "from pandas_profiling import ProfileReport"
   ]
  },
  {
   "cell_type": "code",
   "execution_count": 2,
   "outputs": [],
   "source": [
    "import ast"
   ],
   "metadata": {
    "collapsed": false,
    "pycharm": {
     "name": "#%%\n"
    }
   }
  },
  {
   "cell_type": "code",
   "execution_count": 3,
   "outputs": [],
   "source": [
    "import numpy as np"
   ],
   "metadata": {
    "collapsed": false,
    "pycharm": {
     "name": "#%%\n"
    }
   }
  },
  {
   "cell_type": "code",
   "execution_count": 4,
   "outputs": [],
   "source": [
    "from datetime import datetime as dt"
   ],
   "metadata": {
    "collapsed": false,
    "pycharm": {
     "name": "#%%\n"
    }
   }
  },
  {
   "cell_type": "code",
   "execution_count": 5,
   "outputs": [],
   "source": [
    "from tqdm import tqdm"
   ],
   "metadata": {
    "collapsed": false,
    "pycharm": {
     "name": "#%%\n"
    }
   }
  },
  {
   "cell_type": "code",
   "execution_count": 6,
   "outputs": [],
   "source": [
    "import re"
   ],
   "metadata": {
    "collapsed": false,
    "pycharm": {
     "name": "#%%\n"
    }
   }
  },
  {
   "cell_type": "code",
   "execution_count": 91,
   "outputs": [],
   "source": [
    "from tqdm.auto import tqdm\n",
    "tqdm.pandas()"
   ],
   "metadata": {
    "collapsed": false,
    "pycharm": {
     "name": "#%%\n"
    }
   }
  },
  {
   "cell_type": "code",
   "execution_count": 7,
   "outputs": [],
   "source": [
    "lien_df = pd.read_csv(r'/Users/dp_user/PycharmProjects/portal_da/data/refined_df_00_09_17_01_2023.csv', sep=';')"
   ],
   "metadata": {
    "collapsed": false,
    "pycharm": {
     "name": "#%%\n"
    }
   }
  },
  {
   "cell_type": "code",
   "execution_count": 8,
   "outputs": [],
   "source": [
    "lien_df['views'] = lien_df['views'].apply(lambda x: re.sub('\\D+', '', str(x)))"
   ],
   "metadata": {
    "collapsed": false,
    "pycharm": {
     "name": "#%%\n"
    }
   }
  },
  {
   "cell_type": "code",
   "execution_count": 9,
   "outputs": [],
   "source": [
    "lien_df['views'] = lien_df['views'].apply(pd.to_numeric)"
   ],
   "metadata": {
    "collapsed": false,
    "pycharm": {
     "name": "#%%\n"
    }
   }
  },
  {
   "cell_type": "code",
   "execution_count": 164,
   "outputs": [],
   "source": [
    "lien_profile = ProfileReport(lien_df1, title=\"Lien Data Profiling Report\")"
   ],
   "metadata": {
    "collapsed": false,
    "pycharm": {
     "name": "#%%\n"
    }
   }
  },
  {
   "cell_type": "code",
   "execution_count": 165,
   "outputs": [
    {
     "name": "stderr",
     "output_type": "stream",
     "text": [
      "/Users/dp_user/PycharmProjects/portal_da/venv/lib/python3.8/site-packages/pandas_profiling/utils/dataframe.py:137: SettingWithCopyWarning: \n",
      "A value is trying to be set on a copy of a slice from a DataFrame\n",
      "\n",
      "See the caveats in the documentation: https://pandas.pydata.org/pandas-docs/stable/user_guide/indexing.html#returning-a-view-versus-a-copy\n",
      "  df.rename(columns={\"index\": \"df_index\"}, inplace=True)\n"
     ]
    },
    {
     "data": {
      "text/plain": "Summarize dataset:   0%|          | 0/5 [00:00<?, ?it/s]",
      "application/vnd.jupyter.widget-view+json": {
       "version_major": 2,
       "version_minor": 0,
       "model_id": "f4bf4f4047684fbba5fabcbeb6bfa33a"
      }
     },
     "metadata": {},
     "output_type": "display_data"
    },
    {
     "data": {
      "text/plain": "Generate report structure:   0%|          | 0/1 [00:00<?, ?it/s]",
      "application/vnd.jupyter.widget-view+json": {
       "version_major": 2,
       "version_minor": 0,
       "model_id": "673837295e954a7e8584615ca52f5279"
      }
     },
     "metadata": {},
     "output_type": "display_data"
    },
    {
     "data": {
      "text/plain": "Render HTML:   0%|          | 0/1 [00:00<?, ?it/s]",
      "application/vnd.jupyter.widget-view+json": {
       "version_major": 2,
       "version_minor": 0,
       "model_id": "0d68568a476c4fb5aeb1153113b542d9"
      }
     },
     "metadata": {},
     "output_type": "display_data"
    },
    {
     "data": {
      "text/plain": "Export report to file:   0%|          | 0/1 [00:00<?, ?it/s]",
      "application/vnd.jupyter.widget-view+json": {
       "version_major": 2,
       "version_minor": 0,
       "model_id": "1092fbe37b8b4b6d936790b13ad1316b"
      }
     },
     "metadata": {},
     "output_type": "display_data"
    }
   ],
   "source": [
    "lien_profile.to_file(\"lien_profile1.html\")"
   ],
   "metadata": {
    "collapsed": false,
    "pycharm": {
     "name": "#%%\n"
    }
   }
  },
  {
   "cell_type": "code",
   "execution_count": 35,
   "outputs": [],
   "source": [
    "# окей, есть репорт, надо попробовать что то из него вытащить\n",
    "# основная проблема, что нет корреляций хороших\n",
    "# надо что то искать в днях простоя объекта и в геолокации\n",
    "# корреляции между днем простоя и ценой тоже нет => надо уходить в геолокацию\n",
    "# TODO - надо еще добавить факт аукциона - эта тема тоже не работает, в общем надо генерит\n",
    "# и также похоже фича seller залетает норм"
   ],
   "metadata": {
    "collapsed": false,
    "pycharm": {
     "name": "#%%\n"
    }
   }
  },
  {
   "cell_type": "code",
   "execution_count": 55,
   "outputs": [],
   "source": [],
   "metadata": {
    "collapsed": false,
    "pycharm": {
     "name": "#%%\n"
    }
   }
  },
  {
   "cell_type": "code",
   "execution_count": 40,
   "outputs": [],
   "source": [
    "date_exmpl = '15 ноября 2022'"
   ],
   "metadata": {
    "collapsed": false,
    "pycharm": {
     "name": "#%%\n"
    }
   }
  },
  {
   "cell_type": "code",
   "execution_count": 10,
   "outputs": [
    {
     "data": {
      "text/plain": "'ru_RU.UTF-8'"
     },
     "execution_count": 10,
     "metadata": {},
     "output_type": "execute_result"
    }
   ],
   "source": [
    "import locale\n",
    "locale.setlocale(locale.LC_TIME, 'ru_RU.UTF-8')"
   ],
   "metadata": {
    "collapsed": false,
    "pycharm": {
     "name": "#%%\n"
    }
   }
  },
  {
   "cell_type": "code",
   "execution_count": 43,
   "outputs": [
    {
     "data": {
      "text/plain": "Timestamp('2022-11-15 00:00:00')"
     },
     "execution_count": 43,
     "metadata": {},
     "output_type": "execute_result"
    }
   ],
   "source": [
    "pd.to_datetime(date_exmpl, format='%d %B %Y')"
   ],
   "metadata": {
    "collapsed": false,
    "pycharm": {
     "name": "#%%\n"
    }
   }
  },
  {
   "cell_type": "code",
   "execution_count": 46,
   "outputs": [
    {
     "data": {
      "text/plain": "63.03648428177084"
     },
     "execution_count": 46,
     "metadata": {},
     "output_type": "execute_result"
    }
   ],
   "source": [
    "(dt.now() - pd.to_datetime(date_exmpl, format='%d %B %Y')).total_seconds()/60/60/24"
   ],
   "metadata": {
    "collapsed": false,
    "pycharm": {
     "name": "#%%\n"
    }
   }
  },
  {
   "cell_type": "code",
   "execution_count": 49,
   "outputs": [
    {
     "data": {
      "text/plain": "     asset_id   views publication_date                      contact_name  \\\n0    814114.0  1535.0   15 ноября 2022            Контактный Центр Банка   \n1    814114.0  1535.0   15 ноября 2022            Контактный Центр Банка   \n2    641505.0  2311.0    31 марта 2022        Гаас Александра Георгиевна   \n3    169347.0   466.0   18 апреля 2022            Брюнель Ева Жисленовна   \n4    899895.0  1286.0     25 июня 2022  Плесняев Александр Александрович   \n..        ...     ...              ...                               ...   \n844  691104.0   269.0      20 мая 2021            Коваленко Александр Ан   \n845  630263.0   279.0      20 мая 2021            Коваленко Александр Ан   \n846  177552.0   281.0      20 мая 2021            Коваленко Александр Ан   \n847  841885.0   610.0      11 мая 2021          Нуриев Эдуард Рамзилович   \n848  419254.0   461.0   22 апреля 2021        Самойленко Денис Сергеевич   \n\n                          seller_name    square  price_value  \\\n0                      Банк ВТБ (ПАО)       NaN   48700000.0   \n1                      Банк ВТБ (ПАО)       NaN   48700000.0   \n2                     Физическое лицо   25111.0  145500000.0   \n3                     Физическое лицо   50574.0    4500000.0   \n4    Плесняев Александр Александрович  504500.0   23450000.0   \n..                                ...       ...          ...   \n844               АО \"Россельхозбанк\"    1527.0   10709963.0   \n845               АО \"Россельхозбанк\"    1321.0    9265136.0   \n846               АО \"Россельхозбанк\"    1676.0   11755032.0   \n847               АО \"Россельхозбанк\"  150100.0     226651.0   \n848                      ПАО Сбербанк   10000.0    8270000.0   \n\n                           cadastral_geocode  \\\n0                                        NaN   \n1                                        NaN   \n2     [51.94720028246027, 84.88831594503662]   \n3     [56.77190698765615, 38.88962726762723]   \n4    [55.73199800626753, 35.340751735565306]   \n..                                       ...   \n844   [56.21913602478085, 38.82900562858026]   \n845  [56.220926330893064, 38.83048310378695]   \n846    [56.21983629294916, 38.8300820194728]   \n847  [55.822853130025955, 52.73092958759532]   \n848   [57.14073651577907, 33.14393000643601]   \n\n                              region_geocode  \n0                   [55.6711507, 37.2727963]  \n1                   [55.6711507, 37.2727963]  \n2                   [51.9931851, 84.9819571]  \n3           [56.80208355, 38.64899133747492]  \n4                    [55.506478, 36.0213092]  \n..                                       ...  \n844          [56.1345574, 38.85192758087219]  \n845          [56.1345574, 38.85192758087219]  \n846          [56.1345574, 38.85192758087219]  \n847  [55.682141200000004, 52.09069161386946]  \n848                 [57.1557583, 33.1013213]  \n\n[849 rows x 9 columns]",
      "text/html": "<div>\n<style scoped>\n    .dataframe tbody tr th:only-of-type {\n        vertical-align: middle;\n    }\n\n    .dataframe tbody tr th {\n        vertical-align: top;\n    }\n\n    .dataframe thead th {\n        text-align: right;\n    }\n</style>\n<table border=\"1\" class=\"dataframe\">\n  <thead>\n    <tr style=\"text-align: right;\">\n      <th></th>\n      <th>asset_id</th>\n      <th>views</th>\n      <th>publication_date</th>\n      <th>contact_name</th>\n      <th>seller_name</th>\n      <th>square</th>\n      <th>price_value</th>\n      <th>cadastral_geocode</th>\n      <th>region_geocode</th>\n    </tr>\n  </thead>\n  <tbody>\n    <tr>\n      <th>0</th>\n      <td>814114.0</td>\n      <td>1535.0</td>\n      <td>15 ноября 2022</td>\n      <td>Контактный Центр Банка</td>\n      <td>Банк ВТБ (ПАО)</td>\n      <td>NaN</td>\n      <td>48700000.0</td>\n      <td>NaN</td>\n      <td>[55.6711507, 37.2727963]</td>\n    </tr>\n    <tr>\n      <th>1</th>\n      <td>814114.0</td>\n      <td>1535.0</td>\n      <td>15 ноября 2022</td>\n      <td>Контактный Центр Банка</td>\n      <td>Банк ВТБ (ПАО)</td>\n      <td>NaN</td>\n      <td>48700000.0</td>\n      <td>NaN</td>\n      <td>[55.6711507, 37.2727963]</td>\n    </tr>\n    <tr>\n      <th>2</th>\n      <td>641505.0</td>\n      <td>2311.0</td>\n      <td>31 марта 2022</td>\n      <td>Гаас Александра Георгиевна</td>\n      <td>Физическое лицо</td>\n      <td>25111.0</td>\n      <td>145500000.0</td>\n      <td>[51.94720028246027, 84.88831594503662]</td>\n      <td>[51.9931851, 84.9819571]</td>\n    </tr>\n    <tr>\n      <th>3</th>\n      <td>169347.0</td>\n      <td>466.0</td>\n      <td>18 апреля 2022</td>\n      <td>Брюнель Ева Жисленовна</td>\n      <td>Физическое лицо</td>\n      <td>50574.0</td>\n      <td>4500000.0</td>\n      <td>[56.77190698765615, 38.88962726762723]</td>\n      <td>[56.80208355, 38.64899133747492]</td>\n    </tr>\n    <tr>\n      <th>4</th>\n      <td>899895.0</td>\n      <td>1286.0</td>\n      <td>25 июня 2022</td>\n      <td>Плесняев Александр Александрович</td>\n      <td>Плесняев Александр Александрович</td>\n      <td>504500.0</td>\n      <td>23450000.0</td>\n      <td>[55.73199800626753, 35.340751735565306]</td>\n      <td>[55.506478, 36.0213092]</td>\n    </tr>\n    <tr>\n      <th>...</th>\n      <td>...</td>\n      <td>...</td>\n      <td>...</td>\n      <td>...</td>\n      <td>...</td>\n      <td>...</td>\n      <td>...</td>\n      <td>...</td>\n      <td>...</td>\n    </tr>\n    <tr>\n      <th>844</th>\n      <td>691104.0</td>\n      <td>269.0</td>\n      <td>20 мая 2021</td>\n      <td>Коваленко Александр Ан</td>\n      <td>АО \"Россельхозбанк\"</td>\n      <td>1527.0</td>\n      <td>10709963.0</td>\n      <td>[56.21913602478085, 38.82900562858026]</td>\n      <td>[56.1345574, 38.85192758087219]</td>\n    </tr>\n    <tr>\n      <th>845</th>\n      <td>630263.0</td>\n      <td>279.0</td>\n      <td>20 мая 2021</td>\n      <td>Коваленко Александр Ан</td>\n      <td>АО \"Россельхозбанк\"</td>\n      <td>1321.0</td>\n      <td>9265136.0</td>\n      <td>[56.220926330893064, 38.83048310378695]</td>\n      <td>[56.1345574, 38.85192758087219]</td>\n    </tr>\n    <tr>\n      <th>846</th>\n      <td>177552.0</td>\n      <td>281.0</td>\n      <td>20 мая 2021</td>\n      <td>Коваленко Александр Ан</td>\n      <td>АО \"Россельхозбанк\"</td>\n      <td>1676.0</td>\n      <td>11755032.0</td>\n      <td>[56.21983629294916, 38.8300820194728]</td>\n      <td>[56.1345574, 38.85192758087219]</td>\n    </tr>\n    <tr>\n      <th>847</th>\n      <td>841885.0</td>\n      <td>610.0</td>\n      <td>11 мая 2021</td>\n      <td>Нуриев Эдуард Рамзилович</td>\n      <td>АО \"Россельхозбанк\"</td>\n      <td>150100.0</td>\n      <td>226651.0</td>\n      <td>[55.822853130025955, 52.73092958759532]</td>\n      <td>[55.682141200000004, 52.09069161386946]</td>\n    </tr>\n    <tr>\n      <th>848</th>\n      <td>419254.0</td>\n      <td>461.0</td>\n      <td>22 апреля 2021</td>\n      <td>Самойленко Денис Сергеевич</td>\n      <td>ПАО Сбербанк</td>\n      <td>10000.0</td>\n      <td>8270000.0</td>\n      <td>[57.14073651577907, 33.14393000643601]</td>\n      <td>[57.1557583, 33.1013213]</td>\n    </tr>\n  </tbody>\n</table>\n<p>849 rows × 9 columns</p>\n</div>"
     },
     "execution_count": 49,
     "metadata": {},
     "output_type": "execute_result"
    }
   ],
   "source": [
    "lien_df"
   ],
   "metadata": {
    "collapsed": false,
    "pycharm": {
     "name": "#%%\n"
    }
   }
  },
  {
   "cell_type": "code",
   "execution_count": 11,
   "outputs": [],
   "source": [
    "def get_day_delta(x):\n",
    "    try:\n",
    "        day_delta = (dt.now() - pd.to_datetime(str(x), format='%d %B %Y')).total_seconds()/60/60/24\n",
    "    except:\n",
    "        day_delta = np.NaN\n",
    "    return day_delta"
   ],
   "metadata": {
    "collapsed": false,
    "pycharm": {
     "name": "#%%\n"
    }
   }
  },
  {
   "cell_type": "code",
   "execution_count": 12,
   "outputs": [],
   "source": [
    "lien_df['shown_by_days'] = lien_df['publication_date'].apply(lambda x: get_day_delta(x))"
   ],
   "metadata": {
    "collapsed": false,
    "pycharm": {
     "name": "#%%\n"
    }
   }
  },
  {
   "cell_type": "code",
   "execution_count": 53,
   "outputs": [
    {
     "data": {
      "text/plain": "     asset_id   views publication_date                      contact_name  \\\n0    814114.0  1535.0   15 ноября 2022            Контактный Центр Банка   \n1    814114.0  1535.0   15 ноября 2022            Контактный Центр Банка   \n2    641505.0  2311.0    31 марта 2022        Гаас Александра Георгиевна   \n3    169347.0   466.0   18 апреля 2022            Брюнель Ева Жисленовна   \n4    899895.0  1286.0     25 июня 2022  Плесняев Александр Александрович   \n..        ...     ...              ...                               ...   \n844  691104.0   269.0      20 мая 2021            Коваленко Александр Ан   \n845  630263.0   279.0      20 мая 2021            Коваленко Александр Ан   \n846  177552.0   281.0      20 мая 2021            Коваленко Александр Ан   \n847  841885.0   610.0      11 мая 2021          Нуриев Эдуард Рамзилович   \n848  419254.0   461.0   22 апреля 2021        Самойленко Денис Сергеевич   \n\n                          seller_name    square  price_value  \\\n0                      Банк ВТБ (ПАО)       NaN   48700000.0   \n1                      Банк ВТБ (ПАО)       NaN   48700000.0   \n2                     Физическое лицо   25111.0  145500000.0   \n3                     Физическое лицо   50574.0    4500000.0   \n4    Плесняев Александр Александрович  504500.0   23450000.0   \n..                                ...       ...          ...   \n844               АО \"Россельхозбанк\"    1527.0   10709963.0   \n845               АО \"Россельхозбанк\"    1321.0    9265136.0   \n846               АО \"Россельхозбанк\"    1676.0   11755032.0   \n847               АО \"Россельхозбанк\"  150100.0     226651.0   \n848                      ПАО Сбербанк   10000.0    8270000.0   \n\n                           cadastral_geocode  \\\n0                                        NaN   \n1                                        NaN   \n2     [51.94720028246027, 84.88831594503662]   \n3     [56.77190698765615, 38.88962726762723]   \n4    [55.73199800626753, 35.340751735565306]   \n..                                       ...   \n844   [56.21913602478085, 38.82900562858026]   \n845  [56.220926330893064, 38.83048310378695]   \n846    [56.21983629294916, 38.8300820194728]   \n847  [55.822853130025955, 52.73092958759532]   \n848   [57.14073651577907, 33.14393000643601]   \n\n                              region_geocode  shown_by_days  \n0                   [55.6711507, 37.2727963]      63.038917  \n1                   [55.6711507, 37.2727963]      63.038917  \n2                   [51.9931851, 84.9819571]     292.038917  \n3           [56.80208355, 38.64899133747492]     274.038917  \n4                    [55.506478, 36.0213092]     206.038917  \n..                                       ...            ...  \n844          [56.1345574, 38.85192758087219]     607.038918  \n845          [56.1345574, 38.85192758087219]     607.038918  \n846          [56.1345574, 38.85192758087219]     607.038918  \n847  [55.682141200000004, 52.09069161386946]     616.038918  \n848                 [57.1557583, 33.1013213]     635.038918  \n\n[849 rows x 10 columns]",
      "text/html": "<div>\n<style scoped>\n    .dataframe tbody tr th:only-of-type {\n        vertical-align: middle;\n    }\n\n    .dataframe tbody tr th {\n        vertical-align: top;\n    }\n\n    .dataframe thead th {\n        text-align: right;\n    }\n</style>\n<table border=\"1\" class=\"dataframe\">\n  <thead>\n    <tr style=\"text-align: right;\">\n      <th></th>\n      <th>asset_id</th>\n      <th>views</th>\n      <th>publication_date</th>\n      <th>contact_name</th>\n      <th>seller_name</th>\n      <th>square</th>\n      <th>price_value</th>\n      <th>cadastral_geocode</th>\n      <th>region_geocode</th>\n      <th>shown_by_days</th>\n    </tr>\n  </thead>\n  <tbody>\n    <tr>\n      <th>0</th>\n      <td>814114.0</td>\n      <td>1535.0</td>\n      <td>15 ноября 2022</td>\n      <td>Контактный Центр Банка</td>\n      <td>Банк ВТБ (ПАО)</td>\n      <td>NaN</td>\n      <td>48700000.0</td>\n      <td>NaN</td>\n      <td>[55.6711507, 37.2727963]</td>\n      <td>63.038917</td>\n    </tr>\n    <tr>\n      <th>1</th>\n      <td>814114.0</td>\n      <td>1535.0</td>\n      <td>15 ноября 2022</td>\n      <td>Контактный Центр Банка</td>\n      <td>Банк ВТБ (ПАО)</td>\n      <td>NaN</td>\n      <td>48700000.0</td>\n      <td>NaN</td>\n      <td>[55.6711507, 37.2727963]</td>\n      <td>63.038917</td>\n    </tr>\n    <tr>\n      <th>2</th>\n      <td>641505.0</td>\n      <td>2311.0</td>\n      <td>31 марта 2022</td>\n      <td>Гаас Александра Георгиевна</td>\n      <td>Физическое лицо</td>\n      <td>25111.0</td>\n      <td>145500000.0</td>\n      <td>[51.94720028246027, 84.88831594503662]</td>\n      <td>[51.9931851, 84.9819571]</td>\n      <td>292.038917</td>\n    </tr>\n    <tr>\n      <th>3</th>\n      <td>169347.0</td>\n      <td>466.0</td>\n      <td>18 апреля 2022</td>\n      <td>Брюнель Ева Жисленовна</td>\n      <td>Физическое лицо</td>\n      <td>50574.0</td>\n      <td>4500000.0</td>\n      <td>[56.77190698765615, 38.88962726762723]</td>\n      <td>[56.80208355, 38.64899133747492]</td>\n      <td>274.038917</td>\n    </tr>\n    <tr>\n      <th>4</th>\n      <td>899895.0</td>\n      <td>1286.0</td>\n      <td>25 июня 2022</td>\n      <td>Плесняев Александр Александрович</td>\n      <td>Плесняев Александр Александрович</td>\n      <td>504500.0</td>\n      <td>23450000.0</td>\n      <td>[55.73199800626753, 35.340751735565306]</td>\n      <td>[55.506478, 36.0213092]</td>\n      <td>206.038917</td>\n    </tr>\n    <tr>\n      <th>...</th>\n      <td>...</td>\n      <td>...</td>\n      <td>...</td>\n      <td>...</td>\n      <td>...</td>\n      <td>...</td>\n      <td>...</td>\n      <td>...</td>\n      <td>...</td>\n      <td>...</td>\n    </tr>\n    <tr>\n      <th>844</th>\n      <td>691104.0</td>\n      <td>269.0</td>\n      <td>20 мая 2021</td>\n      <td>Коваленко Александр Ан</td>\n      <td>АО \"Россельхозбанк\"</td>\n      <td>1527.0</td>\n      <td>10709963.0</td>\n      <td>[56.21913602478085, 38.82900562858026]</td>\n      <td>[56.1345574, 38.85192758087219]</td>\n      <td>607.038918</td>\n    </tr>\n    <tr>\n      <th>845</th>\n      <td>630263.0</td>\n      <td>279.0</td>\n      <td>20 мая 2021</td>\n      <td>Коваленко Александр Ан</td>\n      <td>АО \"Россельхозбанк\"</td>\n      <td>1321.0</td>\n      <td>9265136.0</td>\n      <td>[56.220926330893064, 38.83048310378695]</td>\n      <td>[56.1345574, 38.85192758087219]</td>\n      <td>607.038918</td>\n    </tr>\n    <tr>\n      <th>846</th>\n      <td>177552.0</td>\n      <td>281.0</td>\n      <td>20 мая 2021</td>\n      <td>Коваленко Александр Ан</td>\n      <td>АО \"Россельхозбанк\"</td>\n      <td>1676.0</td>\n      <td>11755032.0</td>\n      <td>[56.21983629294916, 38.8300820194728]</td>\n      <td>[56.1345574, 38.85192758087219]</td>\n      <td>607.038918</td>\n    </tr>\n    <tr>\n      <th>847</th>\n      <td>841885.0</td>\n      <td>610.0</td>\n      <td>11 мая 2021</td>\n      <td>Нуриев Эдуард Рамзилович</td>\n      <td>АО \"Россельхозбанк\"</td>\n      <td>150100.0</td>\n      <td>226651.0</td>\n      <td>[55.822853130025955, 52.73092958759532]</td>\n      <td>[55.682141200000004, 52.09069161386946]</td>\n      <td>616.038918</td>\n    </tr>\n    <tr>\n      <th>848</th>\n      <td>419254.0</td>\n      <td>461.0</td>\n      <td>22 апреля 2021</td>\n      <td>Самойленко Денис Сергеевич</td>\n      <td>ПАО Сбербанк</td>\n      <td>10000.0</td>\n      <td>8270000.0</td>\n      <td>[57.14073651577907, 33.14393000643601]</td>\n      <td>[57.1557583, 33.1013213]</td>\n      <td>635.038918</td>\n    </tr>\n  </tbody>\n</table>\n<p>849 rows × 10 columns</p>\n</div>"
     },
     "execution_count": 53,
     "metadata": {},
     "output_type": "execute_result"
    }
   ],
   "source": [
    "lien_df"
   ],
   "metadata": {
    "collapsed": false,
    "pycharm": {
     "name": "#%%\n"
    }
   }
  },
  {
   "cell_type": "code",
   "execution_count": 56,
   "outputs": [],
   "source": [
    "new_keys_df = pd.read_excel('/Users/dp_user/PycharmProjects/portal_da/data/new_keys_15_01_23.xlsx')"
   ],
   "metadata": {
    "collapsed": false,
    "pycharm": {
     "name": "#%%\n"
    }
   }
  },
  {
   "cell_type": "code",
   "execution_count": 60,
   "outputs": [],
   "source": [
    "buf_df = new_keys_df.loc[new_keys_df['links'].str.contains('842168')]"
   ],
   "metadata": {
    "collapsed": false,
    "pycharm": {
     "name": "#%%\n"
    }
   }
  },
  {
   "cell_type": "code",
   "execution_count": 69,
   "outputs": [
    {
     "data": {
      "text/plain": "\"753    ['general.authorized_to_toggle_favorite']\""
     },
     "execution_count": 69,
     "metadata": {},
     "output_type": "execute_result"
    }
   ],
   "source": [
    "buf_df['new_keys'].to_string()"
   ],
   "metadata": {
    "collapsed": false,
    "pycharm": {
     "name": "#%%\n"
    }
   }
  },
  {
   "cell_type": "code",
   "execution_count": null,
   "outputs": [],
   "source": [],
   "metadata": {
    "collapsed": false,
    "pycharm": {
     "name": "#%%\n"
    }
   }
  },
  {
   "cell_type": "code",
   "execution_count": 59,
   "outputs": [
    {
     "data": {
      "text/plain": "array([\"['general.authorized_to_toggle_favorite', 'general.credits']\",\n       \"['general.authorized_to_toggle_favorite']\",\n       \"['general.authorized_to_toggle_favorite', 'general.trade_id', 'general.credits']\",\n       \"['general.featured_personal_assets', 'general.featured_business_assets', 'general.recommended_assets']\",\n       \"['general.trade_id', 'general.authorized_to_toggle_favorite']\"],\n      dtype=object)"
     },
     "execution_count": 59,
     "metadata": {},
     "output_type": "execute_result"
    }
   ],
   "source": [
    "new_keys_df['new_keys'].unique()"
   ],
   "metadata": {
    "collapsed": false,
    "pycharm": {
     "name": "#%%\n"
    }
   }
  },
  {
   "cell_type": "code",
   "execution_count": 11,
   "outputs": [],
   "source": [
    "def append_trades(x):\n",
    "    buf_df = new_keys_df.loc[new_keys_df['links'].str.contains(str(x).replace('.0', ''))].copy()\n",
    "    if 'trade' in buf_df['new_keys'].to_string():\n",
    "        return 1\n",
    "    else:\n",
    "        return 0"
   ],
   "metadata": {
    "collapsed": false,
    "pycharm": {
     "name": "#%%\n"
    }
   }
  },
  {
   "cell_type": "code",
   "execution_count": 75,
   "outputs": [],
   "source": [
    "lien_df['trades'] = lien_df['asset_id'].apply(lambda x: append_trades(x))"
   ],
   "metadata": {
    "collapsed": false,
    "pycharm": {
     "name": "#%%\n"
    }
   }
  },
  {
   "cell_type": "code",
   "execution_count": 87,
   "outputs": [
    {
     "data": {
      "text/plain": "Empty DataFrame\nColumns: [asset_id, views, publication_date, contact_name, seller_name, square, price_value, cadastral_geocode, region_geocode, shown_by_days, trades, credits]\nIndex: []",
      "text/html": "<div>\n<style scoped>\n    .dataframe tbody tr th:only-of-type {\n        vertical-align: middle;\n    }\n\n    .dataframe tbody tr th {\n        vertical-align: top;\n    }\n\n    .dataframe thead th {\n        text-align: right;\n    }\n</style>\n<table border=\"1\" class=\"dataframe\">\n  <thead>\n    <tr style=\"text-align: right;\">\n      <th></th>\n      <th>asset_id</th>\n      <th>views</th>\n      <th>publication_date</th>\n      <th>contact_name</th>\n      <th>seller_name</th>\n      <th>square</th>\n      <th>price_value</th>\n      <th>cadastral_geocode</th>\n      <th>region_geocode</th>\n      <th>shown_by_days</th>\n      <th>trades</th>\n      <th>credits</th>\n    </tr>\n  </thead>\n  <tbody>\n  </tbody>\n</table>\n</div>"
     },
     "execution_count": 87,
     "metadata": {},
     "output_type": "execute_result"
    }
   ],
   "source": [
    "lien_df.loc[lien_df['credits']==1]"
   ],
   "metadata": {
    "collapsed": false,
    "pycharm": {
     "name": "#%%\n"
    }
   }
  },
  {
   "cell_type": "code",
   "execution_count": 85,
   "outputs": [],
   "source": [
    "def append_credits(x):\n",
    "    buf_df = new_keys_df.loc[new_keys_df['links'].str.contains(str(x).replace('.0', ''))].copy()\n",
    "    if 'credit' in buf_df['new_keys'].to_string():\n",
    "        return 1\n",
    "    else:\n",
    "        return 0"
   ],
   "metadata": {
    "collapsed": false,
    "pycharm": {
     "name": "#%%\n"
    }
   }
  },
  {
   "cell_type": "code",
   "execution_count": 86,
   "outputs": [],
   "source": [
    "lien_df['credits'] = lien_df['asset_id'].apply(lambda x: append_credits(x))"
   ],
   "metadata": {
    "collapsed": false,
    "pycharm": {
     "name": "#%%\n"
    }
   }
  },
  {
   "cell_type": "code",
   "execution_count": null,
   "outputs": [],
   "source": [],
   "metadata": {
    "collapsed": false,
    "pycharm": {
     "name": "#%%\n",
     "is_executing": true
    }
   }
  },
  {
   "cell_type": "markdown",
   "source": [
    "### 17.01.23 Добавим дистанцию между точками"
   ],
   "metadata": {
    "collapsed": false,
    "pycharm": {
     "name": "#%% md\n"
    }
   }
  },
  {
   "cell_type": "code",
   "execution_count": 20,
   "outputs": [
    {
     "name": "stdout",
     "output_type": "stream",
     "text": [
      "279.35290160430094\n"
     ]
    }
   ],
   "source": [
    "import geopy.distance\n",
    "\n",
    "coords_1 = (52.2296756, 21.0122287)\n",
    "coords_2 = (52.406374, 16.9251681)\n",
    "\n",
    "print (geopy.distance.geodesic(coords_1, coords_2).km)"
   ],
   "metadata": {
    "collapsed": false,
    "pycharm": {
     "name": "#%%\n"
    }
   }
  },
  {
   "cell_type": "code",
   "execution_count": 15,
   "outputs": [
    {
     "data": {
      "text/plain": "     asset_id   views publication_date                      contact_name  \\\n0    814114.0  1535.0   15 ноября 2022            Контактный Центр Банка   \n1    814114.0  1535.0   15 ноября 2022            Контактный Центр Банка   \n2    641505.0  2311.0    31 марта 2022        Гаас Александра Георгиевна   \n3    169347.0   466.0   18 апреля 2022            Брюнель Ева Жисленовна   \n4    899895.0  1286.0     25 июня 2022  Плесняев Александр Александрович   \n..        ...     ...              ...                               ...   \n844  691104.0   269.0      20 мая 2021            Коваленко Александр Ан   \n845  630263.0   279.0      20 мая 2021            Коваленко Александр Ан   \n846  177552.0   281.0      20 мая 2021            Коваленко Александр Ан   \n847  841885.0   610.0      11 мая 2021          Нуриев Эдуард Рамзилович   \n848  419254.0   461.0   22 апреля 2021        Самойленко Денис Сергеевич   \n\n                          seller_name    square  price_value  \\\n0                      Банк ВТБ (ПАО)       NaN   48700000.0   \n1                      Банк ВТБ (ПАО)       NaN   48700000.0   \n2                     Физическое лицо   25111.0  145500000.0   \n3                     Физическое лицо   50574.0    4500000.0   \n4    Плесняев Александр Александрович  504500.0   23450000.0   \n..                                ...       ...          ...   \n844               АО \"Россельхозбанк\"    1527.0   10709963.0   \n845               АО \"Россельхозбанк\"    1321.0    9265136.0   \n846               АО \"Россельхозбанк\"    1676.0   11755032.0   \n847               АО \"Россельхозбанк\"  150100.0     226651.0   \n848                      ПАО Сбербанк   10000.0    8270000.0   \n\n                           cadastral_geocode  \\\n0                                        NaN   \n1                                        NaN   \n2     [51.94720028246027, 84.88831594503662]   \n3     [56.77190698765615, 38.88962726762723]   \n4    [55.73199800626753, 35.340751735565306]   \n..                                       ...   \n844   [56.21913602478085, 38.82900562858026]   \n845  [56.220926330893064, 38.83048310378695]   \n846    [56.21983629294916, 38.8300820194728]   \n847  [55.822853130025955, 52.73092958759532]   \n848   [57.14073651577907, 33.14393000643601]   \n\n                              region_geocode  shown_by_days  \n0                   [55.6711507, 37.2727963]      63.779060  \n1                   [55.6711507, 37.2727963]      63.779060  \n2                   [51.9931851, 84.9819571]     292.779060  \n3           [56.80208355, 38.64899133747492]     274.779060  \n4                    [55.506478, 36.0213092]     206.779060  \n..                                       ...            ...  \n844          [56.1345574, 38.85192758087219]     607.779061  \n845          [56.1345574, 38.85192758087219]     607.779061  \n846          [56.1345574, 38.85192758087219]     607.779061  \n847  [55.682141200000004, 52.09069161386946]     616.779061  \n848                 [57.1557583, 33.1013213]     635.779061  \n\n[849 rows x 10 columns]",
      "text/html": "<div>\n<style scoped>\n    .dataframe tbody tr th:only-of-type {\n        vertical-align: middle;\n    }\n\n    .dataframe tbody tr th {\n        vertical-align: top;\n    }\n\n    .dataframe thead th {\n        text-align: right;\n    }\n</style>\n<table border=\"1\" class=\"dataframe\">\n  <thead>\n    <tr style=\"text-align: right;\">\n      <th></th>\n      <th>asset_id</th>\n      <th>views</th>\n      <th>publication_date</th>\n      <th>contact_name</th>\n      <th>seller_name</th>\n      <th>square</th>\n      <th>price_value</th>\n      <th>cadastral_geocode</th>\n      <th>region_geocode</th>\n      <th>shown_by_days</th>\n    </tr>\n  </thead>\n  <tbody>\n    <tr>\n      <th>0</th>\n      <td>814114.0</td>\n      <td>1535.0</td>\n      <td>15 ноября 2022</td>\n      <td>Контактный Центр Банка</td>\n      <td>Банк ВТБ (ПАО)</td>\n      <td>NaN</td>\n      <td>48700000.0</td>\n      <td>NaN</td>\n      <td>[55.6711507, 37.2727963]</td>\n      <td>63.779060</td>\n    </tr>\n    <tr>\n      <th>1</th>\n      <td>814114.0</td>\n      <td>1535.0</td>\n      <td>15 ноября 2022</td>\n      <td>Контактный Центр Банка</td>\n      <td>Банк ВТБ (ПАО)</td>\n      <td>NaN</td>\n      <td>48700000.0</td>\n      <td>NaN</td>\n      <td>[55.6711507, 37.2727963]</td>\n      <td>63.779060</td>\n    </tr>\n    <tr>\n      <th>2</th>\n      <td>641505.0</td>\n      <td>2311.0</td>\n      <td>31 марта 2022</td>\n      <td>Гаас Александра Георгиевна</td>\n      <td>Физическое лицо</td>\n      <td>25111.0</td>\n      <td>145500000.0</td>\n      <td>[51.94720028246027, 84.88831594503662]</td>\n      <td>[51.9931851, 84.9819571]</td>\n      <td>292.779060</td>\n    </tr>\n    <tr>\n      <th>3</th>\n      <td>169347.0</td>\n      <td>466.0</td>\n      <td>18 апреля 2022</td>\n      <td>Брюнель Ева Жисленовна</td>\n      <td>Физическое лицо</td>\n      <td>50574.0</td>\n      <td>4500000.0</td>\n      <td>[56.77190698765615, 38.88962726762723]</td>\n      <td>[56.80208355, 38.64899133747492]</td>\n      <td>274.779060</td>\n    </tr>\n    <tr>\n      <th>4</th>\n      <td>899895.0</td>\n      <td>1286.0</td>\n      <td>25 июня 2022</td>\n      <td>Плесняев Александр Александрович</td>\n      <td>Плесняев Александр Александрович</td>\n      <td>504500.0</td>\n      <td>23450000.0</td>\n      <td>[55.73199800626753, 35.340751735565306]</td>\n      <td>[55.506478, 36.0213092]</td>\n      <td>206.779060</td>\n    </tr>\n    <tr>\n      <th>...</th>\n      <td>...</td>\n      <td>...</td>\n      <td>...</td>\n      <td>...</td>\n      <td>...</td>\n      <td>...</td>\n      <td>...</td>\n      <td>...</td>\n      <td>...</td>\n      <td>...</td>\n    </tr>\n    <tr>\n      <th>844</th>\n      <td>691104.0</td>\n      <td>269.0</td>\n      <td>20 мая 2021</td>\n      <td>Коваленко Александр Ан</td>\n      <td>АО \"Россельхозбанк\"</td>\n      <td>1527.0</td>\n      <td>10709963.0</td>\n      <td>[56.21913602478085, 38.82900562858026]</td>\n      <td>[56.1345574, 38.85192758087219]</td>\n      <td>607.779061</td>\n    </tr>\n    <tr>\n      <th>845</th>\n      <td>630263.0</td>\n      <td>279.0</td>\n      <td>20 мая 2021</td>\n      <td>Коваленко Александр Ан</td>\n      <td>АО \"Россельхозбанк\"</td>\n      <td>1321.0</td>\n      <td>9265136.0</td>\n      <td>[56.220926330893064, 38.83048310378695]</td>\n      <td>[56.1345574, 38.85192758087219]</td>\n      <td>607.779061</td>\n    </tr>\n    <tr>\n      <th>846</th>\n      <td>177552.0</td>\n      <td>281.0</td>\n      <td>20 мая 2021</td>\n      <td>Коваленко Александр Ан</td>\n      <td>АО \"Россельхозбанк\"</td>\n      <td>1676.0</td>\n      <td>11755032.0</td>\n      <td>[56.21983629294916, 38.8300820194728]</td>\n      <td>[56.1345574, 38.85192758087219]</td>\n      <td>607.779061</td>\n    </tr>\n    <tr>\n      <th>847</th>\n      <td>841885.0</td>\n      <td>610.0</td>\n      <td>11 мая 2021</td>\n      <td>Нуриев Эдуард Рамзилович</td>\n      <td>АО \"Россельхозбанк\"</td>\n      <td>150100.0</td>\n      <td>226651.0</td>\n      <td>[55.822853130025955, 52.73092958759532]</td>\n      <td>[55.682141200000004, 52.09069161386946]</td>\n      <td>616.779061</td>\n    </tr>\n    <tr>\n      <th>848</th>\n      <td>419254.0</td>\n      <td>461.0</td>\n      <td>22 апреля 2021</td>\n      <td>Самойленко Денис Сергеевич</td>\n      <td>ПАО Сбербанк</td>\n      <td>10000.0</td>\n      <td>8270000.0</td>\n      <td>[57.14073651577907, 33.14393000643601]</td>\n      <td>[57.1557583, 33.1013213]</td>\n      <td>635.779061</td>\n    </tr>\n  </tbody>\n</table>\n<p>849 rows × 10 columns</p>\n</div>"
     },
     "execution_count": 15,
     "metadata": {},
     "output_type": "execute_result"
    }
   ],
   "source": [
    "lien_df"
   ],
   "metadata": {
    "collapsed": false,
    "pycharm": {
     "name": "#%%\n"
    }
   }
  },
  {
   "cell_type": "code",
   "execution_count": 22,
   "outputs": [
    {
     "data": {
      "text/plain": "51.94720028246027"
     },
     "execution_count": 22,
     "metadata": {},
     "output_type": "execute_result"
    }
   ],
   "source": [
    "ast.literal_eval(lien_df['cadastral_geocode'][2])[0]"
   ],
   "metadata": {
    "collapsed": false,
    "pycharm": {
     "name": "#%%\n"
    }
   }
  },
  {
   "cell_type": "code",
   "execution_count": 63,
   "outputs": [],
   "source": [
    "coords_1 = [56.77190698765615, 38.88962726762723]\n",
    "coords_2 = [56.80208355, 38.64899133747492]"
   ],
   "metadata": {
    "collapsed": false,
    "pycharm": {
     "name": "#%%\n"
    }
   }
  },
  {
   "cell_type": "code",
   "execution_count": 65,
   "outputs": [
    {
     "name": "stdout",
     "output_type": "stream",
     "text": [
      "15.086411613545867\n"
     ]
    }
   ],
   "source": [
    "print (geopy.distance.geodesic(coords_1, coords_2).km)  # считает хорошо!"
   ],
   "metadata": {
    "collapsed": false,
    "pycharm": {
     "name": "#%%\n"
    }
   }
  },
  {
   "cell_type": "code",
   "execution_count": 41,
   "outputs": [
    {
     "ename": "TypeError",
     "evalue": "'generator' object is not subscriptable",
     "output_type": "error",
     "traceback": [
      "\u001B[0;31m---------------------------------------------------------------------------\u001B[0m",
      "\u001B[0;31mTypeError\u001B[0m                                 Traceback (most recent call last)",
      "Input \u001B[0;32mIn [41]\u001B[0m, in \u001B[0;36m<cell line: 2>\u001B[0;34m()\u001B[0m\n\u001B[1;32m      1\u001B[0m lien_df[\u001B[38;5;124m'\u001B[39m\u001B[38;5;124mgeo_distance\u001B[39m\u001B[38;5;124m'\u001B[39m] \u001B[38;5;241m=\u001B[39m \u001B[38;5;124m'\u001B[39m\u001B[38;5;124m'\u001B[39m\n\u001B[0;32m----> 2\u001B[0m \u001B[38;5;28;01mfor\u001B[39;00m index, row \u001B[38;5;129;01min\u001B[39;00m tqdm(\u001B[43mlien_df\u001B[49m\u001B[38;5;241;43m.\u001B[39;49m\u001B[43miterrows\u001B[49m\u001B[43m(\u001B[49m\u001B[43m)\u001B[49m\u001B[43m[\u001B[49m\u001B[43m:\u001B[49m\u001B[38;5;241;43m3\u001B[39;49m\u001B[43m]\u001B[49m):\n\u001B[1;32m      3\u001B[0m     \u001B[38;5;28;01mif\u001B[39;00m (\u001B[38;5;124m'\u001B[39m\u001B[38;5;124m[\u001B[39m\u001B[38;5;124m'\u001B[39m \u001B[38;5;129;01min\u001B[39;00m \u001B[38;5;28mstr\u001B[39m(row[\u001B[38;5;124m'\u001B[39m\u001B[38;5;124mcadastral_geocode\u001B[39m\u001B[38;5;124m'\u001B[39m])) \u001B[38;5;129;01mand\u001B[39;00m (\u001B[38;5;124m'\u001B[39m\u001B[38;5;124m[\u001B[39m\u001B[38;5;124m'\u001B[39m \u001B[38;5;129;01min\u001B[39;00m \u001B[38;5;28mstr\u001B[39m(row[\u001B[38;5;124m'\u001B[39m\u001B[38;5;124mregion_geocode\u001B[39m\u001B[38;5;124m'\u001B[39m])):\n\u001B[1;32m      4\u001B[0m         cadastral_list \u001B[38;5;241m=\u001B[39m ast\u001B[38;5;241m.\u001B[39mliteral_eval(row[\u001B[38;5;124m'\u001B[39m\u001B[38;5;124mcadastral_geocode\u001B[39m\u001B[38;5;124m'\u001B[39m])  \u001B[38;5;66;03m# какая-то здесь проблема - решить\u001B[39;00m\n",
      "\u001B[0;31mTypeError\u001B[0m: 'generator' object is not subscriptable"
     ]
    }
   ],
   "source": [
    "lien_df['geo_distance'] = ''\n",
    "for index, row in tqdm(lien_df.iterrows()):\n",
    "    if ('[' in str(row['cadastral_geocode'])) and ('[' in str(row['region_geocode'])):\n",
    "        cadastral_list = ast.literal_eval(row['cadastral_geocode'])  # какая-то здесь проблема - решить\n",
    "        region_list = ast.literal_eval(row['region_geocode'])\n",
    "        coords_1 = (cadastral_list[0], cadastral_list[1])\n",
    "        coords_2 = (region_list[0], region_list[1])\n",
    "        geo_distance = geopy.distance.geodesic(coords_1, coords_2).km\n",
    "        row['geo_distance'] = geo_distance"
   ],
   "metadata": {
    "collapsed": false,
    "pycharm": {
     "name": "#%%\n"
    }
   }
  },
  {
   "cell_type": "code",
   "execution_count": 37,
   "outputs": [
    {
     "data": {
      "text/plain": "     asset_id   views publication_date                      contact_name  \\\n0    814114.0  1535.0   15 ноября 2022            Контактный Центр Банка   \n1    814114.0  1535.0   15 ноября 2022            Контактный Центр Банка   \n2    641505.0  2311.0    31 марта 2022        Гаас Александра Георгиевна   \n3    169347.0   466.0   18 апреля 2022            Брюнель Ева Жисленовна   \n4    899895.0  1286.0     25 июня 2022  Плесняев Александр Александрович   \n..        ...     ...              ...                               ...   \n844  691104.0   269.0      20 мая 2021            Коваленко Александр Ан   \n845  630263.0   279.0      20 мая 2021            Коваленко Александр Ан   \n846  177552.0   281.0      20 мая 2021            Коваленко Александр Ан   \n847  841885.0   610.0      11 мая 2021          Нуриев Эдуард Рамзилович   \n848  419254.0   461.0   22 апреля 2021        Самойленко Денис Сергеевич   \n\n                          seller_name    square  price_value  \\\n0                      Банк ВТБ (ПАО)       NaN   48700000.0   \n1                      Банк ВТБ (ПАО)       NaN   48700000.0   \n2                     Физическое лицо   25111.0  145500000.0   \n3                     Физическое лицо   50574.0    4500000.0   \n4    Плесняев Александр Александрович  504500.0   23450000.0   \n..                                ...       ...          ...   \n844               АО \"Россельхозбанк\"    1527.0   10709963.0   \n845               АО \"Россельхозбанк\"    1321.0    9265136.0   \n846               АО \"Россельхозбанк\"    1676.0   11755032.0   \n847               АО \"Россельхозбанк\"  150100.0     226651.0   \n848                      ПАО Сбербанк   10000.0    8270000.0   \n\n                           cadastral_geocode  \\\n0                                        NaN   \n1                                        NaN   \n2     [51.94720028246027, 84.88831594503662]   \n3     [56.77190698765615, 38.88962726762723]   \n4    [55.73199800626753, 35.340751735565306]   \n..                                       ...   \n844   [56.21913602478085, 38.82900562858026]   \n845  [56.220926330893064, 38.83048310378695]   \n846    [56.21983629294916, 38.8300820194728]   \n847  [55.822853130025955, 52.73092958759532]   \n848   [57.14073651577907, 33.14393000643601]   \n\n                              region_geocode  shown_by_days geo_distance  \n0                   [55.6711507, 37.2727963]      63.779060               \n1                   [55.6711507, 37.2727963]      63.779060               \n2                   [51.9931851, 84.9819571]     292.779060               \n3           [56.80208355, 38.64899133747492]     274.779060               \n4                    [55.506478, 36.0213092]     206.779060               \n..                                       ...            ...          ...  \n844          [56.1345574, 38.85192758087219]     607.779061               \n845          [56.1345574, 38.85192758087219]     607.779061               \n846          [56.1345574, 38.85192758087219]     607.779061               \n847  [55.682141200000004, 52.09069161386946]     616.779061               \n848                 [57.1557583, 33.1013213]     635.779061               \n\n[849 rows x 11 columns]",
      "text/html": "<div>\n<style scoped>\n    .dataframe tbody tr th:only-of-type {\n        vertical-align: middle;\n    }\n\n    .dataframe tbody tr th {\n        vertical-align: top;\n    }\n\n    .dataframe thead th {\n        text-align: right;\n    }\n</style>\n<table border=\"1\" class=\"dataframe\">\n  <thead>\n    <tr style=\"text-align: right;\">\n      <th></th>\n      <th>asset_id</th>\n      <th>views</th>\n      <th>publication_date</th>\n      <th>contact_name</th>\n      <th>seller_name</th>\n      <th>square</th>\n      <th>price_value</th>\n      <th>cadastral_geocode</th>\n      <th>region_geocode</th>\n      <th>shown_by_days</th>\n      <th>geo_distance</th>\n    </tr>\n  </thead>\n  <tbody>\n    <tr>\n      <th>0</th>\n      <td>814114.0</td>\n      <td>1535.0</td>\n      <td>15 ноября 2022</td>\n      <td>Контактный Центр Банка</td>\n      <td>Банк ВТБ (ПАО)</td>\n      <td>NaN</td>\n      <td>48700000.0</td>\n      <td>NaN</td>\n      <td>[55.6711507, 37.2727963]</td>\n      <td>63.779060</td>\n      <td></td>\n    </tr>\n    <tr>\n      <th>1</th>\n      <td>814114.0</td>\n      <td>1535.0</td>\n      <td>15 ноября 2022</td>\n      <td>Контактный Центр Банка</td>\n      <td>Банк ВТБ (ПАО)</td>\n      <td>NaN</td>\n      <td>48700000.0</td>\n      <td>NaN</td>\n      <td>[55.6711507, 37.2727963]</td>\n      <td>63.779060</td>\n      <td></td>\n    </tr>\n    <tr>\n      <th>2</th>\n      <td>641505.0</td>\n      <td>2311.0</td>\n      <td>31 марта 2022</td>\n      <td>Гаас Александра Георгиевна</td>\n      <td>Физическое лицо</td>\n      <td>25111.0</td>\n      <td>145500000.0</td>\n      <td>[51.94720028246027, 84.88831594503662]</td>\n      <td>[51.9931851, 84.9819571]</td>\n      <td>292.779060</td>\n      <td></td>\n    </tr>\n    <tr>\n      <th>3</th>\n      <td>169347.0</td>\n      <td>466.0</td>\n      <td>18 апреля 2022</td>\n      <td>Брюнель Ева Жисленовна</td>\n      <td>Физическое лицо</td>\n      <td>50574.0</td>\n      <td>4500000.0</td>\n      <td>[56.77190698765615, 38.88962726762723]</td>\n      <td>[56.80208355, 38.64899133747492]</td>\n      <td>274.779060</td>\n      <td></td>\n    </tr>\n    <tr>\n      <th>4</th>\n      <td>899895.0</td>\n      <td>1286.0</td>\n      <td>25 июня 2022</td>\n      <td>Плесняев Александр Александрович</td>\n      <td>Плесняев Александр Александрович</td>\n      <td>504500.0</td>\n      <td>23450000.0</td>\n      <td>[55.73199800626753, 35.340751735565306]</td>\n      <td>[55.506478, 36.0213092]</td>\n      <td>206.779060</td>\n      <td></td>\n    </tr>\n    <tr>\n      <th>...</th>\n      <td>...</td>\n      <td>...</td>\n      <td>...</td>\n      <td>...</td>\n      <td>...</td>\n      <td>...</td>\n      <td>...</td>\n      <td>...</td>\n      <td>...</td>\n      <td>...</td>\n      <td>...</td>\n    </tr>\n    <tr>\n      <th>844</th>\n      <td>691104.0</td>\n      <td>269.0</td>\n      <td>20 мая 2021</td>\n      <td>Коваленко Александр Ан</td>\n      <td>АО \"Россельхозбанк\"</td>\n      <td>1527.0</td>\n      <td>10709963.0</td>\n      <td>[56.21913602478085, 38.82900562858026]</td>\n      <td>[56.1345574, 38.85192758087219]</td>\n      <td>607.779061</td>\n      <td></td>\n    </tr>\n    <tr>\n      <th>845</th>\n      <td>630263.0</td>\n      <td>279.0</td>\n      <td>20 мая 2021</td>\n      <td>Коваленко Александр Ан</td>\n      <td>АО \"Россельхозбанк\"</td>\n      <td>1321.0</td>\n      <td>9265136.0</td>\n      <td>[56.220926330893064, 38.83048310378695]</td>\n      <td>[56.1345574, 38.85192758087219]</td>\n      <td>607.779061</td>\n      <td></td>\n    </tr>\n    <tr>\n      <th>846</th>\n      <td>177552.0</td>\n      <td>281.0</td>\n      <td>20 мая 2021</td>\n      <td>Коваленко Александр Ан</td>\n      <td>АО \"Россельхозбанк\"</td>\n      <td>1676.0</td>\n      <td>11755032.0</td>\n      <td>[56.21983629294916, 38.8300820194728]</td>\n      <td>[56.1345574, 38.85192758087219]</td>\n      <td>607.779061</td>\n      <td></td>\n    </tr>\n    <tr>\n      <th>847</th>\n      <td>841885.0</td>\n      <td>610.0</td>\n      <td>11 мая 2021</td>\n      <td>Нуриев Эдуард Рамзилович</td>\n      <td>АО \"Россельхозбанк\"</td>\n      <td>150100.0</td>\n      <td>226651.0</td>\n      <td>[55.822853130025955, 52.73092958759532]</td>\n      <td>[55.682141200000004, 52.09069161386946]</td>\n      <td>616.779061</td>\n      <td></td>\n    </tr>\n    <tr>\n      <th>848</th>\n      <td>419254.0</td>\n      <td>461.0</td>\n      <td>22 апреля 2021</td>\n      <td>Самойленко Денис Сергеевич</td>\n      <td>ПАО Сбербанк</td>\n      <td>10000.0</td>\n      <td>8270000.0</td>\n      <td>[57.14073651577907, 33.14393000643601]</td>\n      <td>[57.1557583, 33.1013213]</td>\n      <td>635.779061</td>\n      <td></td>\n    </tr>\n  </tbody>\n</table>\n<p>849 rows × 11 columns</p>\n</div>"
     },
     "execution_count": 37,
     "metadata": {},
     "output_type": "execute_result"
    }
   ],
   "source": [
    "lien_df"
   ],
   "metadata": {
    "collapsed": false,
    "pycharm": {
     "name": "#%%\n"
    }
   }
  },
  {
   "cell_type": "code",
   "execution_count": 42,
   "outputs": [],
   "source": [
    "del lien_df"
   ],
   "metadata": {
    "collapsed": false,
    "pycharm": {
     "name": "#%%\n"
    }
   }
  },
  {
   "cell_type": "code",
   "execution_count": 13,
   "outputs": [],
   "source": [
    "buf_df = lien_df[['asset_id', 'cadastral_geocode', 'region_geocode']].copy()"
   ],
   "metadata": {
    "collapsed": false,
    "pycharm": {
     "name": "#%%\n"
    }
   }
  },
  {
   "cell_type": "code",
   "execution_count": 14,
   "outputs": [],
   "source": [
    "buf_df = buf_df.dropna()\n",
    "buf_df = buf_df.loc[(~buf_df['cadastral_geocode'].str.contains('bool'))&(~buf_df['region_geocode'].str.contains('bool'))]"
   ],
   "metadata": {
    "collapsed": false,
    "pycharm": {
     "name": "#%%\n"
    }
   }
  },
  {
   "cell_type": "code",
   "execution_count": 15,
   "outputs": [],
   "source": [
    "buf_df['cadastral_geocode'] = buf_df['cadastral_geocode'].apply(ast.literal_eval)"
   ],
   "metadata": {
    "collapsed": false,
    "pycharm": {
     "name": "#%%\n"
    }
   }
  },
  {
   "cell_type": "code",
   "execution_count": 16,
   "outputs": [],
   "source": [
    "buf_df['region_geocode'] = buf_df['region_geocode'].apply(ast.literal_eval)"
   ],
   "metadata": {
    "collapsed": false,
    "pycharm": {
     "name": "#%%\n"
    }
   }
  },
  {
   "cell_type": "code",
   "execution_count": 21,
   "outputs": [],
   "source": [
    "buf_df['distance'] = buf_df.apply(lambda x: geopy.distance.geodesic(x['cadastral_geocode'], x['region_geocode']).km, axis=1)"
   ],
   "metadata": {
    "collapsed": false,
    "pycharm": {
     "name": "#%%\n"
    }
   }
  },
  {
   "cell_type": "code",
   "execution_count": 22,
   "outputs": [
    {
     "data": {
      "text/plain": "     asset_id                        cadastral_geocode  \\\n2    641505.0   [51.94720028246027, 84.88831594503662]   \n3    169347.0   [56.77190698765615, 38.88962726762723]   \n4    899895.0  [55.73199800626753, 35.340751735565306]   \n5    269183.0    [55.7008175028533, 37.02131098410721]   \n6    621582.0   [47.34721090904763, 39.57702065464689]   \n..        ...                                      ...   \n844  691104.0   [56.21913602478085, 38.82900562858026]   \n845  630263.0  [56.220926330893064, 38.83048310378695]   \n846  177552.0    [56.21983629294916, 38.8300820194728]   \n847  841885.0  [55.822853130025955, 52.73092958759532]   \n848  419254.0   [57.14073651577907, 33.14393000643601]   \n\n                              region_geocode   distance  \n2                   [51.9931851, 84.9819571]   8.221511  \n3           [56.80208355, 38.64899133747492]  15.086412  \n4                    [55.506478, 36.0213092]  49.688507  \n5                   [55.6711507, 37.2727963]  16.159018  \n6    [47.370534899999996, 39.46597632166487]   8.780511  \n..                                       ...        ...  \n844          [56.1345574, 38.85192758087219]   9.524407  \n845          [56.1345574, 38.85192758087219]   9.708539  \n846          [56.1345574, 38.85192758087219]   9.591824  \n847  [55.682141200000004, 52.09069161386946]  43.145711  \n848                 [57.1557583, 33.1013213]   3.074139  \n\n[304 rows x 4 columns]",
      "text/html": "<div>\n<style scoped>\n    .dataframe tbody tr th:only-of-type {\n        vertical-align: middle;\n    }\n\n    .dataframe tbody tr th {\n        vertical-align: top;\n    }\n\n    .dataframe thead th {\n        text-align: right;\n    }\n</style>\n<table border=\"1\" class=\"dataframe\">\n  <thead>\n    <tr style=\"text-align: right;\">\n      <th></th>\n      <th>asset_id</th>\n      <th>cadastral_geocode</th>\n      <th>region_geocode</th>\n      <th>distance</th>\n    </tr>\n  </thead>\n  <tbody>\n    <tr>\n      <th>2</th>\n      <td>641505.0</td>\n      <td>[51.94720028246027, 84.88831594503662]</td>\n      <td>[51.9931851, 84.9819571]</td>\n      <td>8.221511</td>\n    </tr>\n    <tr>\n      <th>3</th>\n      <td>169347.0</td>\n      <td>[56.77190698765615, 38.88962726762723]</td>\n      <td>[56.80208355, 38.64899133747492]</td>\n      <td>15.086412</td>\n    </tr>\n    <tr>\n      <th>4</th>\n      <td>899895.0</td>\n      <td>[55.73199800626753, 35.340751735565306]</td>\n      <td>[55.506478, 36.0213092]</td>\n      <td>49.688507</td>\n    </tr>\n    <tr>\n      <th>5</th>\n      <td>269183.0</td>\n      <td>[55.7008175028533, 37.02131098410721]</td>\n      <td>[55.6711507, 37.2727963]</td>\n      <td>16.159018</td>\n    </tr>\n    <tr>\n      <th>6</th>\n      <td>621582.0</td>\n      <td>[47.34721090904763, 39.57702065464689]</td>\n      <td>[47.370534899999996, 39.46597632166487]</td>\n      <td>8.780511</td>\n    </tr>\n    <tr>\n      <th>...</th>\n      <td>...</td>\n      <td>...</td>\n      <td>...</td>\n      <td>...</td>\n    </tr>\n    <tr>\n      <th>844</th>\n      <td>691104.0</td>\n      <td>[56.21913602478085, 38.82900562858026]</td>\n      <td>[56.1345574, 38.85192758087219]</td>\n      <td>9.524407</td>\n    </tr>\n    <tr>\n      <th>845</th>\n      <td>630263.0</td>\n      <td>[56.220926330893064, 38.83048310378695]</td>\n      <td>[56.1345574, 38.85192758087219]</td>\n      <td>9.708539</td>\n    </tr>\n    <tr>\n      <th>846</th>\n      <td>177552.0</td>\n      <td>[56.21983629294916, 38.8300820194728]</td>\n      <td>[56.1345574, 38.85192758087219]</td>\n      <td>9.591824</td>\n    </tr>\n    <tr>\n      <th>847</th>\n      <td>841885.0</td>\n      <td>[55.822853130025955, 52.73092958759532]</td>\n      <td>[55.682141200000004, 52.09069161386946]</td>\n      <td>43.145711</td>\n    </tr>\n    <tr>\n      <th>848</th>\n      <td>419254.0</td>\n      <td>[57.14073651577907, 33.14393000643601]</td>\n      <td>[57.1557583, 33.1013213]</td>\n      <td>3.074139</td>\n    </tr>\n  </tbody>\n</table>\n<p>304 rows × 4 columns</p>\n</div>"
     },
     "execution_count": 22,
     "metadata": {},
     "output_type": "execute_result"
    }
   ],
   "source": [
    "buf_df"
   ],
   "metadata": {
    "collapsed": false,
    "pycharm": {
     "name": "#%%\n"
    }
   }
  },
  {
   "cell_type": "code",
   "execution_count": 23,
   "outputs": [],
   "source": [
    "lien_df = lien_df.merge(buf_df[['asset_id', 'distance']], on='asset_id', how='left')"
   ],
   "metadata": {
    "collapsed": false,
    "pycharm": {
     "name": "#%%\n"
    }
   }
  },
  {
   "cell_type": "code",
   "execution_count": 24,
   "outputs": [
    {
     "data": {
      "text/plain": "     asset_id   views publication_date                      contact_name  \\\n0    814114.0  1535.0   15 ноября 2022            Контактный Центр Банка   \n1    814114.0  1535.0   15 ноября 2022            Контактный Центр Банка   \n2    641505.0  2311.0    31 марта 2022        Гаас Александра Георгиевна   \n3    169347.0   466.0   18 апреля 2022            Брюнель Ева Жисленовна   \n4    899895.0  1286.0     25 июня 2022  Плесняев Александр Александрович   \n..        ...     ...              ...                               ...   \n844  691104.0   269.0      20 мая 2021            Коваленко Александр Ан   \n845  630263.0   279.0      20 мая 2021            Коваленко Александр Ан   \n846  177552.0   281.0      20 мая 2021            Коваленко Александр Ан   \n847  841885.0   610.0      11 мая 2021          Нуриев Эдуард Рамзилович   \n848  419254.0   461.0   22 апреля 2021        Самойленко Денис Сергеевич   \n\n                          seller_name    square  price_value  \\\n0                      Банк ВТБ (ПАО)       NaN   48700000.0   \n1                      Банк ВТБ (ПАО)       NaN   48700000.0   \n2                     Физическое лицо   25111.0  145500000.0   \n3                     Физическое лицо   50574.0    4500000.0   \n4    Плесняев Александр Александрович  504500.0   23450000.0   \n..                                ...       ...          ...   \n844               АО \"Россельхозбанк\"    1527.0   10709963.0   \n845               АО \"Россельхозбанк\"    1321.0    9265136.0   \n846               АО \"Россельхозбанк\"    1676.0   11755032.0   \n847               АО \"Россельхозбанк\"  150100.0     226651.0   \n848                      ПАО Сбербанк   10000.0    8270000.0   \n\n                           cadastral_geocode  \\\n0                                        NaN   \n1                                        NaN   \n2     [51.94720028246027, 84.88831594503662]   \n3     [56.77190698765615, 38.88962726762723]   \n4    [55.73199800626753, 35.340751735565306]   \n..                                       ...   \n844   [56.21913602478085, 38.82900562858026]   \n845  [56.220926330893064, 38.83048310378695]   \n846    [56.21983629294916, 38.8300820194728]   \n847  [55.822853130025955, 52.73092958759532]   \n848   [57.14073651577907, 33.14393000643601]   \n\n                              region_geocode  shown_by_days   distance  \n0                   [55.6711507, 37.2727963]      64.884407        NaN  \n1                   [55.6711507, 37.2727963]      64.884407        NaN  \n2                   [51.9931851, 84.9819571]     293.884407   8.221511  \n3           [56.80208355, 38.64899133747492]     275.884407  15.086412  \n4                    [55.506478, 36.0213092]     207.884407  49.688507  \n..                                       ...            ...        ...  \n844          [56.1345574, 38.85192758087219]     608.884408   9.524407  \n845          [56.1345574, 38.85192758087219]     608.884408   9.708539  \n846          [56.1345574, 38.85192758087219]     608.884408   9.591824  \n847  [55.682141200000004, 52.09069161386946]     617.884408  43.145711  \n848                 [57.1557583, 33.1013213]     636.884408   3.074139  \n\n[849 rows x 11 columns]",
      "text/html": "<div>\n<style scoped>\n    .dataframe tbody tr th:only-of-type {\n        vertical-align: middle;\n    }\n\n    .dataframe tbody tr th {\n        vertical-align: top;\n    }\n\n    .dataframe thead th {\n        text-align: right;\n    }\n</style>\n<table border=\"1\" class=\"dataframe\">\n  <thead>\n    <tr style=\"text-align: right;\">\n      <th></th>\n      <th>asset_id</th>\n      <th>views</th>\n      <th>publication_date</th>\n      <th>contact_name</th>\n      <th>seller_name</th>\n      <th>square</th>\n      <th>price_value</th>\n      <th>cadastral_geocode</th>\n      <th>region_geocode</th>\n      <th>shown_by_days</th>\n      <th>distance</th>\n    </tr>\n  </thead>\n  <tbody>\n    <tr>\n      <th>0</th>\n      <td>814114.0</td>\n      <td>1535.0</td>\n      <td>15 ноября 2022</td>\n      <td>Контактный Центр Банка</td>\n      <td>Банк ВТБ (ПАО)</td>\n      <td>NaN</td>\n      <td>48700000.0</td>\n      <td>NaN</td>\n      <td>[55.6711507, 37.2727963]</td>\n      <td>64.884407</td>\n      <td>NaN</td>\n    </tr>\n    <tr>\n      <th>1</th>\n      <td>814114.0</td>\n      <td>1535.0</td>\n      <td>15 ноября 2022</td>\n      <td>Контактный Центр Банка</td>\n      <td>Банк ВТБ (ПАО)</td>\n      <td>NaN</td>\n      <td>48700000.0</td>\n      <td>NaN</td>\n      <td>[55.6711507, 37.2727963]</td>\n      <td>64.884407</td>\n      <td>NaN</td>\n    </tr>\n    <tr>\n      <th>2</th>\n      <td>641505.0</td>\n      <td>2311.0</td>\n      <td>31 марта 2022</td>\n      <td>Гаас Александра Георгиевна</td>\n      <td>Физическое лицо</td>\n      <td>25111.0</td>\n      <td>145500000.0</td>\n      <td>[51.94720028246027, 84.88831594503662]</td>\n      <td>[51.9931851, 84.9819571]</td>\n      <td>293.884407</td>\n      <td>8.221511</td>\n    </tr>\n    <tr>\n      <th>3</th>\n      <td>169347.0</td>\n      <td>466.0</td>\n      <td>18 апреля 2022</td>\n      <td>Брюнель Ева Жисленовна</td>\n      <td>Физическое лицо</td>\n      <td>50574.0</td>\n      <td>4500000.0</td>\n      <td>[56.77190698765615, 38.88962726762723]</td>\n      <td>[56.80208355, 38.64899133747492]</td>\n      <td>275.884407</td>\n      <td>15.086412</td>\n    </tr>\n    <tr>\n      <th>4</th>\n      <td>899895.0</td>\n      <td>1286.0</td>\n      <td>25 июня 2022</td>\n      <td>Плесняев Александр Александрович</td>\n      <td>Плесняев Александр Александрович</td>\n      <td>504500.0</td>\n      <td>23450000.0</td>\n      <td>[55.73199800626753, 35.340751735565306]</td>\n      <td>[55.506478, 36.0213092]</td>\n      <td>207.884407</td>\n      <td>49.688507</td>\n    </tr>\n    <tr>\n      <th>...</th>\n      <td>...</td>\n      <td>...</td>\n      <td>...</td>\n      <td>...</td>\n      <td>...</td>\n      <td>...</td>\n      <td>...</td>\n      <td>...</td>\n      <td>...</td>\n      <td>...</td>\n      <td>...</td>\n    </tr>\n    <tr>\n      <th>844</th>\n      <td>691104.0</td>\n      <td>269.0</td>\n      <td>20 мая 2021</td>\n      <td>Коваленко Александр Ан</td>\n      <td>АО \"Россельхозбанк\"</td>\n      <td>1527.0</td>\n      <td>10709963.0</td>\n      <td>[56.21913602478085, 38.82900562858026]</td>\n      <td>[56.1345574, 38.85192758087219]</td>\n      <td>608.884408</td>\n      <td>9.524407</td>\n    </tr>\n    <tr>\n      <th>845</th>\n      <td>630263.0</td>\n      <td>279.0</td>\n      <td>20 мая 2021</td>\n      <td>Коваленко Александр Ан</td>\n      <td>АО \"Россельхозбанк\"</td>\n      <td>1321.0</td>\n      <td>9265136.0</td>\n      <td>[56.220926330893064, 38.83048310378695]</td>\n      <td>[56.1345574, 38.85192758087219]</td>\n      <td>608.884408</td>\n      <td>9.708539</td>\n    </tr>\n    <tr>\n      <th>846</th>\n      <td>177552.0</td>\n      <td>281.0</td>\n      <td>20 мая 2021</td>\n      <td>Коваленко Александр Ан</td>\n      <td>АО \"Россельхозбанк\"</td>\n      <td>1676.0</td>\n      <td>11755032.0</td>\n      <td>[56.21983629294916, 38.8300820194728]</td>\n      <td>[56.1345574, 38.85192758087219]</td>\n      <td>608.884408</td>\n      <td>9.591824</td>\n    </tr>\n    <tr>\n      <th>847</th>\n      <td>841885.0</td>\n      <td>610.0</td>\n      <td>11 мая 2021</td>\n      <td>Нуриев Эдуард Рамзилович</td>\n      <td>АО \"Россельхозбанк\"</td>\n      <td>150100.0</td>\n      <td>226651.0</td>\n      <td>[55.822853130025955, 52.73092958759532]</td>\n      <td>[55.682141200000004, 52.09069161386946]</td>\n      <td>617.884408</td>\n      <td>43.145711</td>\n    </tr>\n    <tr>\n      <th>848</th>\n      <td>419254.0</td>\n      <td>461.0</td>\n      <td>22 апреля 2021</td>\n      <td>Самойленко Денис Сергеевич</td>\n      <td>ПАО Сбербанк</td>\n      <td>10000.0</td>\n      <td>8270000.0</td>\n      <td>[57.14073651577907, 33.14393000643601]</td>\n      <td>[57.1557583, 33.1013213]</td>\n      <td>636.884408</td>\n      <td>3.074139</td>\n    </tr>\n  </tbody>\n</table>\n<p>849 rows × 11 columns</p>\n</div>"
     },
     "execution_count": 24,
     "metadata": {},
     "output_type": "execute_result"
    }
   ],
   "source": [
    "lien_df  # добавили дистанцию"
   ],
   "metadata": {
    "collapsed": false,
    "pycharm": {
     "name": "#%%\n"
    }
   }
  },
  {
   "cell_type": "code",
   "execution_count": 28,
   "outputs": [],
   "source": [
    "lien_df.to_csv(r'data/wide_dataframe18_01_23.csv', sep=';', index=False)"
   ],
   "metadata": {
    "collapsed": false,
    "pycharm": {
     "name": "#%%\n"
    }
   }
  },
  {
   "cell_type": "code",
   "execution_count": null,
   "outputs": [],
   "source": [],
   "metadata": {
    "collapsed": false,
    "pycharm": {
     "name": "#%%\n"
    }
   }
  },
  {
   "cell_type": "code",
   "execution_count": 74,
   "outputs": [],
   "source": [
    "# дистанция также не зашла"
   ],
   "metadata": {
    "collapsed": false,
    "pycharm": {
     "name": "#%%\n"
    }
   }
  },
  {
   "cell_type": "code",
   "execution_count": 75,
   "outputs": [],
   "source": [],
   "metadata": {
    "collapsed": false,
    "pycharm": {
     "name": "#%%\n"
    }
   }
  },
  {
   "cell_type": "code",
   "execution_count": 76,
   "outputs": [],
   "source": [
    "# что еще прикручиваем:"
   ],
   "metadata": {
    "collapsed": false,
    "pycharm": {
     "name": "#%%\n"
    }
   }
  },
  {
   "cell_type": "code",
   "execution_count": null,
   "outputs": [],
   "source": [],
   "metadata": {
    "collapsed": false,
    "pycharm": {
     "name": "#%%\n"
    }
   }
  },
  {
   "cell_type": "markdown",
   "source": [
    "Подкрутить население в регионе +\n",
    "Врп региона +\n",
    "Преступность региона +\n",
    "Партию в регионе -\n",
    "Отдаленность от Москвы +"
   ],
   "metadata": {
    "collapsed": false,
    "pycharm": {
     "name": "#%% md\n"
    }
   }
  },
  {
   "cell_type": "code",
   "execution_count": 27,
   "outputs": [
    {
     "data": {
      "text/plain": "Index(['asset_id', 'views', 'publication_date', 'contact_name', 'seller_name',\n       'square', 'price_value', 'cadastral_geocode', 'region_geocode',\n       'shown_by_days', 'distance'],\n      dtype='object')"
     },
     "execution_count": 27,
     "metadata": {},
     "output_type": "execute_result"
    }
   ],
   "source": [
    "lien_df['region']"
   ],
   "metadata": {
    "collapsed": false,
    "pycharm": {
     "name": "#%%\n"
    }
   }
  },
  {
   "cell_type": "code",
   "execution_count": null,
   "outputs": [],
   "source": [
    "# нужно вытащить название региона точки из wide df что то подобное"
   ],
   "metadata": {
    "collapsed": false,
    "pycharm": {
     "name": "#%%\n"
    }
   }
  },
  {
   "cell_type": "code",
   "execution_count": 31,
   "outputs": [],
   "source": [
    "wide_df = pd.read_csv(r'/Users/dp_user/PycharmProjects/portal_da/data/wide_df_00_09_17_01_2023.csv', sep=';')"
   ],
   "metadata": {
    "collapsed": false,
    "pycharm": {
     "name": "#%%\n"
    }
   }
  },
  {
   "cell_type": "code",
   "execution_count": 36,
   "outputs": [],
   "source": [
    "region_list = list(wide_df['region_str'].unique())"
   ],
   "metadata": {
    "collapsed": false,
    "pycharm": {
     "name": "#%%\n"
    }
   }
  },
  {
   "cell_type": "code",
   "execution_count": 45,
   "outputs": [
    {
     "data": {
      "text/plain": "'Ярославская область'"
     },
     "execution_count": 45,
     "metadata": {},
     "output_type": "execute_result"
    }
   ],
   "source": [
    "region_list[2].split(',')[1].strip()"
   ],
   "metadata": {
    "collapsed": false,
    "pycharm": {
     "name": "#%%\n"
    }
   }
  },
  {
   "cell_type": "code",
   "execution_count": 47,
   "outputs": [
    {
     "data": {
      "text/plain": "'Российская Федерация, Алтайский край, г Белокуриха'"
     },
     "execution_count": 47,
     "metadata": {},
     "output_type": "execute_result"
    }
   ],
   "source": [
    "wide_df['region_str'][2]"
   ],
   "metadata": {
    "collapsed": false,
    "pycharm": {
     "name": "#%%\n"
    }
   }
  },
  {
   "cell_type": "code",
   "execution_count": 47,
   "outputs": [],
   "source": [],
   "metadata": {
    "collapsed": false,
    "pycharm": {
     "name": "#%%\n"
    }
   }
  },
  {
   "cell_type": "code",
   "execution_count": 48,
   "outputs": [],
   "source": [
    "def pullout_region(region_str):\n",
    "    \"\"\"\n",
    "    Function to cut out name of region from region_str in original dataframe\n",
    "    :param region_str:\n",
    "    :return:\n",
    "    \"\"\"\n",
    "    if pd.isnull(region_str):\n",
    "        return np.NaN\n",
    "\n",
    "    if ',' not in region_str:\n",
    "        return np.NaN\n",
    "\n",
    "    region_el = region_str.split(',')[1].strip()\n",
    "    return region_el"
   ],
   "metadata": {
    "collapsed": false,
    "pycharm": {
     "name": "#%%\n"
    }
   }
  },
  {
   "cell_type": "code",
   "execution_count": 50,
   "outputs": [],
   "source": [
    "wide_df['region_name'] = wide_df['region_str'].apply(lambda x: pullout_region(x))"
   ],
   "metadata": {
    "collapsed": false,
    "pycharm": {
     "name": "#%%\n"
    }
   }
  },
  {
   "cell_type": "code",
   "execution_count": 51,
   "outputs": [
    {
     "data": {
      "text/plain": "                                            region_str           region_name\n0    Российская Федерация, Московская область, Один...    Московская область\n1    Российская Федерация, Московская область, Один...    Московская область\n2    Российская Федерация, Алтайский край, г Белоку...        Алтайский край\n3    Российская Федерация, Ярославская область, Пер...   Ярославская область\n4    Российская Федерация, Московская область, г Мо...    Московская область\n..                                                 ...                   ...\n844  Российская Федерация, Владимирская область, Ки...  Владимирская область\n845  Российская Федерация, Владимирская область, Ки...  Владимирская область\n846  Российская Федерация, Владимирская область, Ки...  Владимирская область\n847        Российская Федерация, Татарстан, Тукаевский             Татарстан\n848  Российская Федерация, Тверская область, г Оста...      Тверская область\n\n[849 rows x 2 columns]",
      "text/html": "<div>\n<style scoped>\n    .dataframe tbody tr th:only-of-type {\n        vertical-align: middle;\n    }\n\n    .dataframe tbody tr th {\n        vertical-align: top;\n    }\n\n    .dataframe thead th {\n        text-align: right;\n    }\n</style>\n<table border=\"1\" class=\"dataframe\">\n  <thead>\n    <tr style=\"text-align: right;\">\n      <th></th>\n      <th>region_str</th>\n      <th>region_name</th>\n    </tr>\n  </thead>\n  <tbody>\n    <tr>\n      <th>0</th>\n      <td>Российская Федерация, Московская область, Один...</td>\n      <td>Московская область</td>\n    </tr>\n    <tr>\n      <th>1</th>\n      <td>Российская Федерация, Московская область, Один...</td>\n      <td>Московская область</td>\n    </tr>\n    <tr>\n      <th>2</th>\n      <td>Российская Федерация, Алтайский край, г Белоку...</td>\n      <td>Алтайский край</td>\n    </tr>\n    <tr>\n      <th>3</th>\n      <td>Российская Федерация, Ярославская область, Пер...</td>\n      <td>Ярославская область</td>\n    </tr>\n    <tr>\n      <th>4</th>\n      <td>Российская Федерация, Московская область, г Мо...</td>\n      <td>Московская область</td>\n    </tr>\n    <tr>\n      <th>...</th>\n      <td>...</td>\n      <td>...</td>\n    </tr>\n    <tr>\n      <th>844</th>\n      <td>Российская Федерация, Владимирская область, Ки...</td>\n      <td>Владимирская область</td>\n    </tr>\n    <tr>\n      <th>845</th>\n      <td>Российская Федерация, Владимирская область, Ки...</td>\n      <td>Владимирская область</td>\n    </tr>\n    <tr>\n      <th>846</th>\n      <td>Российская Федерация, Владимирская область, Ки...</td>\n      <td>Владимирская область</td>\n    </tr>\n    <tr>\n      <th>847</th>\n      <td>Российская Федерация, Татарстан, Тукаевский</td>\n      <td>Татарстан</td>\n    </tr>\n    <tr>\n      <th>848</th>\n      <td>Российская Федерация, Тверская область, г Оста...</td>\n      <td>Тверская область</td>\n    </tr>\n  </tbody>\n</table>\n<p>849 rows × 2 columns</p>\n</div>"
     },
     "execution_count": 51,
     "metadata": {},
     "output_type": "execute_result"
    }
   ],
   "source": [
    "wide_df[['region_str', 'region_name']]"
   ],
   "metadata": {
    "collapsed": false,
    "pycharm": {
     "name": "#%%\n"
    }
   }
  },
  {
   "cell_type": "code",
   "execution_count": 52,
   "outputs": [
    {
     "data": {
      "text/plain": "70"
     },
     "execution_count": 52,
     "metadata": {},
     "output_type": "execute_result"
    }
   ],
   "source": [
    "wide_df['region_name'].nunique()"
   ],
   "metadata": {
    "collapsed": false,
    "pycharm": {
     "name": "#%%\n"
    }
   }
  },
  {
   "cell_type": "code",
   "execution_count": 55,
   "outputs": [],
   "source": [
    "wide_df['region_name'].drop_duplicates().to_excel('regions_str.xlsx', index=False)"
   ],
   "metadata": {
    "collapsed": false,
    "pycharm": {
     "name": "#%%\n"
    }
   }
  },
  {
   "cell_type": "code",
   "execution_count": null,
   "outputs": [],
   "source": [],
   "metadata": {
    "collapsed": false,
    "pycharm": {
     "name": "#%%\n",
     "is_executing": true
    }
   }
  },
  {
   "cell_type": "code",
   "execution_count": 62,
   "outputs": [
    {
     "data": {
      "text/plain": "                                                 links          region_name  \\\n672  https://portal-da.ru/objects/763745-zemelnyy-u...  Акмолинская область   \n673  https://portal-da.ru/objects/209795-zemelnyy-u...  Акмолинская область   \n\n                                            region_str  \n672  Казахстан, Акмолинская область, Целиноградский...  \n673  Казахстан, Акмолинская область, Целиноградский...  ",
      "text/html": "<div>\n<style scoped>\n    .dataframe tbody tr th:only-of-type {\n        vertical-align: middle;\n    }\n\n    .dataframe tbody tr th {\n        vertical-align: top;\n    }\n\n    .dataframe thead th {\n        text-align: right;\n    }\n</style>\n<table border=\"1\" class=\"dataframe\">\n  <thead>\n    <tr style=\"text-align: right;\">\n      <th></th>\n      <th>links</th>\n      <th>region_name</th>\n      <th>region_str</th>\n    </tr>\n  </thead>\n  <tbody>\n    <tr>\n      <th>672</th>\n      <td>https://portal-da.ru/objects/763745-zemelnyy-u...</td>\n      <td>Акмолинская область</td>\n      <td>Казахстан, Акмолинская область, Целиноградский...</td>\n    </tr>\n    <tr>\n      <th>673</th>\n      <td>https://portal-da.ru/objects/209795-zemelnyy-u...</td>\n      <td>Акмолинская область</td>\n      <td>Казахстан, Акмолинская область, Целиноградский...</td>\n    </tr>\n  </tbody>\n</table>\n</div>"
     },
     "execution_count": 62,
     "metadata": {},
     "output_type": "execute_result"
    }
   ],
   "source": [
    "wide_df.loc[wide_df['region_name']=='Акмолинская область', ['links', 'region_name', 'region_str']]"
   ],
   "metadata": {
    "collapsed": false,
    "pycharm": {
     "name": "#%%\n"
    }
   }
  },
  {
   "cell_type": "code",
   "execution_count": null,
   "outputs": [],
   "source": [],
   "metadata": {
    "collapsed": false,
    "pycharm": {
     "name": "#%%\n",
     "is_executing": true
    }
   }
  },
  {
   "cell_type": "code",
   "execution_count": 64,
   "outputs": [],
   "source": [
    "# добавление данных по регионам"
   ],
   "metadata": {
    "collapsed": false,
    "pycharm": {
     "name": "#%%\n"
    }
   }
  },
  {
   "cell_type": "code",
   "execution_count": 65,
   "outputs": [],
   "source": [
    "regions_df = pd.read_excel('regions_str.xlsx', sheet_name='main')"
   ],
   "metadata": {
    "collapsed": false,
    "pycharm": {
     "name": "#%%\n"
    }
   }
  },
  {
   "cell_type": "code",
   "execution_count": 66,
   "outputs": [
    {
     "data": {
      "text/plain": "             region_name  subject_num  region_square  population  \\\n0     Московская область           56          44329     8542257   \n1         Алтайский край           25         167996     2154932   \n2    Ярославская область           81          36177     1205637   \n3     Ростовская область           66         100967     4192322   \n4   Белгородская область           37          27134     1536466   \n..                   ...          ...            ...         ...   \n62             Ингушетия            7           3123      511316   \n63              Дагестан            5          50270     3186902   \n64       Санкт-Петербург           83           1403     5607916   \n65   Ставропольский край           32          66160     2902455   \n66              Марий Эл           15          23375      676351   \n\n     region_capital     grp  criminality  \n0            Москва  4201.8         72.9  \n1           Барнаул   550.0        130.8  \n2         Ярославль   560.6        105.1  \n3    Ростов-на-Дону  1446.2        104.8  \n4          Белгород   866.0         71.8  \n..              ...     ...          ...  \n62            Магас    55.5         32.9  \n63        Махачкала   625.1         36.6  \n64  Санкт-Петербург  4193.5         86.0  \n65       Ставрополь   715.5         91.1  \n66       Йошкар-Ола   177.7         88.6  \n\n[67 rows x 7 columns]",
      "text/html": "<div>\n<style scoped>\n    .dataframe tbody tr th:only-of-type {\n        vertical-align: middle;\n    }\n\n    .dataframe tbody tr th {\n        vertical-align: top;\n    }\n\n    .dataframe thead th {\n        text-align: right;\n    }\n</style>\n<table border=\"1\" class=\"dataframe\">\n  <thead>\n    <tr style=\"text-align: right;\">\n      <th></th>\n      <th>region_name</th>\n      <th>subject_num</th>\n      <th>region_square</th>\n      <th>population</th>\n      <th>region_capital</th>\n      <th>grp</th>\n      <th>criminality</th>\n    </tr>\n  </thead>\n  <tbody>\n    <tr>\n      <th>0</th>\n      <td>Московская область</td>\n      <td>56</td>\n      <td>44329</td>\n      <td>8542257</td>\n      <td>Москва</td>\n      <td>4201.8</td>\n      <td>72.9</td>\n    </tr>\n    <tr>\n      <th>1</th>\n      <td>Алтайский край</td>\n      <td>25</td>\n      <td>167996</td>\n      <td>2154932</td>\n      <td>Барнаул</td>\n      <td>550.0</td>\n      <td>130.8</td>\n    </tr>\n    <tr>\n      <th>2</th>\n      <td>Ярославская область</td>\n      <td>81</td>\n      <td>36177</td>\n      <td>1205637</td>\n      <td>Ярославль</td>\n      <td>560.6</td>\n      <td>105.1</td>\n    </tr>\n    <tr>\n      <th>3</th>\n      <td>Ростовская область</td>\n      <td>66</td>\n      <td>100967</td>\n      <td>4192322</td>\n      <td>Ростов-на-Дону</td>\n      <td>1446.2</td>\n      <td>104.8</td>\n    </tr>\n    <tr>\n      <th>4</th>\n      <td>Белгородская область</td>\n      <td>37</td>\n      <td>27134</td>\n      <td>1536466</td>\n      <td>Белгород</td>\n      <td>866.0</td>\n      <td>71.8</td>\n    </tr>\n    <tr>\n      <th>...</th>\n      <td>...</td>\n      <td>...</td>\n      <td>...</td>\n      <td>...</td>\n      <td>...</td>\n      <td>...</td>\n      <td>...</td>\n    </tr>\n    <tr>\n      <th>62</th>\n      <td>Ингушетия</td>\n      <td>7</td>\n      <td>3123</td>\n      <td>511316</td>\n      <td>Магас</td>\n      <td>55.5</td>\n      <td>32.9</td>\n    </tr>\n    <tr>\n      <th>63</th>\n      <td>Дагестан</td>\n      <td>5</td>\n      <td>50270</td>\n      <td>3186902</td>\n      <td>Махачкала</td>\n      <td>625.1</td>\n      <td>36.6</td>\n    </tr>\n    <tr>\n      <th>64</th>\n      <td>Санкт-Петербург</td>\n      <td>83</td>\n      <td>1403</td>\n      <td>5607916</td>\n      <td>Санкт-Петербург</td>\n      <td>4193.5</td>\n      <td>86.0</td>\n    </tr>\n    <tr>\n      <th>65</th>\n      <td>Ставропольский край</td>\n      <td>32</td>\n      <td>66160</td>\n      <td>2902455</td>\n      <td>Ставрополь</td>\n      <td>715.5</td>\n      <td>91.1</td>\n    </tr>\n    <tr>\n      <th>66</th>\n      <td>Марий Эл</td>\n      <td>15</td>\n      <td>23375</td>\n      <td>676351</td>\n      <td>Йошкар-Ола</td>\n      <td>177.7</td>\n      <td>88.6</td>\n    </tr>\n  </tbody>\n</table>\n<p>67 rows × 7 columns</p>\n</div>"
     },
     "execution_count": 66,
     "metadata": {},
     "output_type": "execute_result"
    }
   ],
   "source": [
    "regions_df"
   ],
   "metadata": {
    "collapsed": false,
    "pycharm": {
     "name": "#%%\n"
    }
   }
  },
  {
   "cell_type": "code",
   "execution_count": 67,
   "outputs": [
    {
     "data": {
      "text/plain": "                                                 links  asset_id  \\\n0    https://portal-da.ru/objects/814114-zemlya-pod...  814114.0   \n1    https://portal-da.ru/objects/814114-zemlya-pod...  814114.0   \n2    https://portal-da.ru/objects/641505-zemlya-pod...  641505.0   \n3    https://portal-da.ru/objects/169347-zemelnyy-u...  169347.0   \n4    https://portal-da.ru/objects/899895-zemlya-pod...  899895.0   \n..                                                 ...       ...   \n844  https://portal-da.ru/objects/691104-zemlya-pod...  691104.0   \n845  https://portal-da.ru/objects/630263-zemlya-pod...  630263.0   \n846  https://portal-da.ru/objects/177552-zemlya-pod...  177552.0   \n847  https://portal-da.ru/objects/841885-zemlya-pod...  841885.0   \n848  https://portal-da.ru/objects/419254-zemelnyy-u...  419254.0   \n\n                                               contact  \\\n0    {\"name\":\"Контактный Центр Банка\",\"email\":\"zalo...   \n1    {\"name\":\"Контактный Центр Банка\",\"email\":\"zalo...   \n2    {\"name\":\"Гаас Александра Георгиевна\",\"email\":\"...   \n3    {\"name\":\"Брюнель Ева Жисленовна\",\"email\":\"bryu...   \n4    {\"name\":\"Плесняев Александр Александрович\",\"em...   \n..                                                 ...   \n844  {\"name\":\"Коваленко Александр Ан\",\"email\":\"kova...   \n845  {\"name\":\"Коваленко Александр Ан\",\"email\":\"kova...   \n846  {\"name\":\"Коваленко Александр Ан\",\"email\":\"kova...   \n847  {\"name\":\"Нуриев Эдуард Рамзилович\",\"email\":\"ln...   \n848  {\"name\":\"Самойленко Денис Сергеевич\",\"email\":\"...   \n\n                                                seller  \\\n0         {\"name\":\"Банк ВТБ (ПАО)\",\"assets_count\":603}   \n1         {\"name\":\"Банк ВТБ (ПАО)\",\"assets_count\":603}   \n2          {\"name\":\"Физическое лицо\",\"assets_count\":0}   \n3          {\"name\":\"Физическое лицо\",\"assets_count\":0}   \n4    {\"name\":\"Плесняев Александр Александрович\",\"as...   \n..                                                 ...   \n844  {\"name\":\"АО \\\"Россельхозбанк\\\"\",\"assets_count\"...   \n845  {\"name\":\"АО \\\"Россельхозбанк\\\"\",\"assets_count\"...   \n846  {\"name\":\"АО \\\"Россельхозбанк\\\"\",\"assets_count\"...   \n847  {\"name\":\"АО \\\"Россельхозбанк\\\"\",\"assets_count\"...   \n848        {\"name\":\"ПАО Сбербанк\",\"assets_count\":3244}   \n\n                                       specific_fields           price  \\\n0                                                   []    \"48,7 млн ₽\"   \n1                                                   []    \"48,7 млн ₽\"   \n2    [{\"name\":\"Площадь\",\"value\":\"251.11 сот.\",\"fiel...   \"145,5 млн ₽\"   \n3    [{\"name\":\"Площадь\",\"value\":\"505.74 сот.\",\"fiel...     \"4,5 млн ₽\"   \n4    [{\"name\":\"Площадь\",\"value\":\"5045 сот.\",\"field\"...   \"23,45 млн ₽\"   \n..                                                 ...             ...   \n844  [{\"name\":\"Площадь\",\"value\":\"15.27 сот.\",\"field...  \"107 099,63 ₽\"   \n845  [{\"name\":\"Площадь\",\"value\":\"13.21 сот.\",\"field...   \"92 651,36 ₽\"   \n846  [{\"name\":\"Площадь\",\"value\":\"16.76 сот.\",\"field...  \"117 550,32 ₽\"   \n847  [{\"name\":\"Площадь\",\"value\":\"1501 сот.\",\"field\"...     \"226 651 ₽\"   \n848  [{\"name\":\"Площадь\",\"value\":\"100 сот.\",\"field\":...    \"8,27 млн ₽\"   \n\n             views                                         region_str  \\\n0    1535 просмотр  Российская Федерация, Московская область, Один...   \n1    1535 просмотр  Российская Федерация, Московская область, Один...   \n2    2311 просмотр  Российская Федерация, Алтайский край, г Белоку...   \n3     466 просмотр  Российская Федерация, Ярославская область, Пер...   \n4    1286 просмотр  Российская Федерация, Московская область, г Мо...   \n..             ...                                                ...   \n844   269 просмотр  Российская Федерация, Владимирская область, Ки...   \n845   279 просмотр  Российская Федерация, Владимирская область, Ки...   \n846   281 просмотр  Российская Федерация, Владимирская область, Ки...   \n847   610 просмотр        Российская Федерация, Татарстан, Тукаевский   \n848   461 просмотр  Российская Федерация, Тверская область, г Оста...   \n\n    publication_date                      contact_name  \\\n0     15 ноября 2022            Контактный Центр Банка   \n1     15 ноября 2022            Контактный Центр Банка   \n2      31 марта 2022        Гаас Александра Георгиевна   \n3     18 апреля 2022            Брюнель Ева Жисленовна   \n4       25 июня 2022  Плесняев Александр Александрович   \n..               ...                               ...   \n844      20 мая 2021            Коваленко Александр Ан   \n845      20 мая 2021            Коваленко Александр Ан   \n846      20 мая 2021            Коваленко Александр Ан   \n847      11 мая 2021          Нуриев Эдуард Рамзилович   \n848   22 апреля 2021        Самойленко Денис Сергеевич   \n\n                     contact_email                       seller_name  \\\n0                  zalognpa@vtb.ru                    Банк ВТБ (ПАО)   \n1                  zalognpa@vtb.ru                    Банк ВТБ (ПАО)   \n2              gaas-ag@sberbank.ru                   Физическое лицо   \n3          bryunel.e.z@sberbank.ru                   Физическое лицо   \n4             aplesnyaev@gmail.com  Плесняев Александр Александрович   \n..                             ...                               ...   \n844  kovalenkoaan@vladimir.rshb.ru               АО \"Россельхозбанк\"   \n845  kovalenkoaan@vladimir.rshb.ru               АО \"Россельхозбанк\"   \n846  kovalenkoaan@vladimir.rshb.ru               АО \"Россельхозбанк\"   \n847          lnugaev@kazan.rshb.ru               АО \"Россельхозбанк\"   \n848       dssamoylenko@sberbank.ru                      ПАО Сбербанк   \n\n            area   cadastral_number  price_value  \\\n0            NaN                NaN   48700000.0   \n1            NaN                NaN   48700000.0   \n2    251.11 сот.   22:64:020203:645  145500000.0   \n3    505.74 сот.  76:11:000000:1098    4500000.0   \n4      5045 сот.  50:18:0050302:572   23450000.0   \n..           ...                ...          ...   \n844   15.27 сот.   33:02:021015:562   10709963.0   \n845   13.21 сот.   33:02:021015:561    9265136.0   \n846   16.76 сот.   33:02:021015:560   11755032.0   \n847    1501 сот.   16:39:131301:430     226651.0   \n848     100 сот.    69:45:0080238:9    8270000.0   \n\n                           cadastral_geocode  \\\n0                                        NaN   \n1                                        NaN   \n2     [51.94720028246027, 84.88831594503662]   \n3     [56.77190698765615, 38.88962726762723]   \n4    [55.73199800626753, 35.340751735565306]   \n..                                       ...   \n844   [56.21913602478085, 38.82900562858026]   \n845  [56.220926330893064, 38.83048310378695]   \n846    [56.21983629294916, 38.8300820194728]   \n847  [55.822853130025955, 52.73092958759532]   \n848   [57.14073651577907, 33.14393000643601]   \n\n                              region_geocode    square           region_name  \n0                   [55.6711507, 37.2727963]       NaN    Московская область  \n1                   [55.6711507, 37.2727963]       NaN    Московская область  \n2                   [51.9931851, 84.9819571]   25111.0        Алтайский край  \n3           [56.80208355, 38.64899133747492]   50574.0   Ярославская область  \n4                    [55.506478, 36.0213092]  504500.0    Московская область  \n..                                       ...       ...                   ...  \n844          [56.1345574, 38.85192758087219]    1527.0  Владимирская область  \n845          [56.1345574, 38.85192758087219]    1321.0  Владимирская область  \n846          [56.1345574, 38.85192758087219]    1676.0  Владимирская область  \n847  [55.682141200000004, 52.09069161386946]  150100.0             Татарстан  \n848                 [57.1557583, 33.1013213]   10000.0      Тверская область  \n\n[849 rows x 19 columns]",
      "text/html": "<div>\n<style scoped>\n    .dataframe tbody tr th:only-of-type {\n        vertical-align: middle;\n    }\n\n    .dataframe tbody tr th {\n        vertical-align: top;\n    }\n\n    .dataframe thead th {\n        text-align: right;\n    }\n</style>\n<table border=\"1\" class=\"dataframe\">\n  <thead>\n    <tr style=\"text-align: right;\">\n      <th></th>\n      <th>links</th>\n      <th>asset_id</th>\n      <th>contact</th>\n      <th>seller</th>\n      <th>specific_fields</th>\n      <th>price</th>\n      <th>views</th>\n      <th>region_str</th>\n      <th>publication_date</th>\n      <th>contact_name</th>\n      <th>contact_email</th>\n      <th>seller_name</th>\n      <th>area</th>\n      <th>cadastral_number</th>\n      <th>price_value</th>\n      <th>cadastral_geocode</th>\n      <th>region_geocode</th>\n      <th>square</th>\n      <th>region_name</th>\n    </tr>\n  </thead>\n  <tbody>\n    <tr>\n      <th>0</th>\n      <td>https://portal-da.ru/objects/814114-zemlya-pod...</td>\n      <td>814114.0</td>\n      <td>{\"name\":\"Контактный Центр Банка\",\"email\":\"zalo...</td>\n      <td>{\"name\":\"Банк ВТБ (ПАО)\",\"assets_count\":603}</td>\n      <td>[]</td>\n      <td>\"48,7 млн ₽\"</td>\n      <td>1535 просмотр</td>\n      <td>Российская Федерация, Московская область, Один...</td>\n      <td>15 ноября 2022</td>\n      <td>Контактный Центр Банка</td>\n      <td>zalognpa@vtb.ru</td>\n      <td>Банк ВТБ (ПАО)</td>\n      <td>NaN</td>\n      <td>NaN</td>\n      <td>48700000.0</td>\n      <td>NaN</td>\n      <td>[55.6711507, 37.2727963]</td>\n      <td>NaN</td>\n      <td>Московская область</td>\n    </tr>\n    <tr>\n      <th>1</th>\n      <td>https://portal-da.ru/objects/814114-zemlya-pod...</td>\n      <td>814114.0</td>\n      <td>{\"name\":\"Контактный Центр Банка\",\"email\":\"zalo...</td>\n      <td>{\"name\":\"Банк ВТБ (ПАО)\",\"assets_count\":603}</td>\n      <td>[]</td>\n      <td>\"48,7 млн ₽\"</td>\n      <td>1535 просмотр</td>\n      <td>Российская Федерация, Московская область, Один...</td>\n      <td>15 ноября 2022</td>\n      <td>Контактный Центр Банка</td>\n      <td>zalognpa@vtb.ru</td>\n      <td>Банк ВТБ (ПАО)</td>\n      <td>NaN</td>\n      <td>NaN</td>\n      <td>48700000.0</td>\n      <td>NaN</td>\n      <td>[55.6711507, 37.2727963]</td>\n      <td>NaN</td>\n      <td>Московская область</td>\n    </tr>\n    <tr>\n      <th>2</th>\n      <td>https://portal-da.ru/objects/641505-zemlya-pod...</td>\n      <td>641505.0</td>\n      <td>{\"name\":\"Гаас Александра Георгиевна\",\"email\":\"...</td>\n      <td>{\"name\":\"Физическое лицо\",\"assets_count\":0}</td>\n      <td>[{\"name\":\"Площадь\",\"value\":\"251.11 сот.\",\"fiel...</td>\n      <td>\"145,5 млн ₽\"</td>\n      <td>2311 просмотр</td>\n      <td>Российская Федерация, Алтайский край, г Белоку...</td>\n      <td>31 марта 2022</td>\n      <td>Гаас Александра Георгиевна</td>\n      <td>gaas-ag@sberbank.ru</td>\n      <td>Физическое лицо</td>\n      <td>251.11 сот.</td>\n      <td>22:64:020203:645</td>\n      <td>145500000.0</td>\n      <td>[51.94720028246027, 84.88831594503662]</td>\n      <td>[51.9931851, 84.9819571]</td>\n      <td>25111.0</td>\n      <td>Алтайский край</td>\n    </tr>\n    <tr>\n      <th>3</th>\n      <td>https://portal-da.ru/objects/169347-zemelnyy-u...</td>\n      <td>169347.0</td>\n      <td>{\"name\":\"Брюнель Ева Жисленовна\",\"email\":\"bryu...</td>\n      <td>{\"name\":\"Физическое лицо\",\"assets_count\":0}</td>\n      <td>[{\"name\":\"Площадь\",\"value\":\"505.74 сот.\",\"fiel...</td>\n      <td>\"4,5 млн ₽\"</td>\n      <td>466 просмотр</td>\n      <td>Российская Федерация, Ярославская область, Пер...</td>\n      <td>18 апреля 2022</td>\n      <td>Брюнель Ева Жисленовна</td>\n      <td>bryunel.e.z@sberbank.ru</td>\n      <td>Физическое лицо</td>\n      <td>505.74 сот.</td>\n      <td>76:11:000000:1098</td>\n      <td>4500000.0</td>\n      <td>[56.77190698765615, 38.88962726762723]</td>\n      <td>[56.80208355, 38.64899133747492]</td>\n      <td>50574.0</td>\n      <td>Ярославская область</td>\n    </tr>\n    <tr>\n      <th>4</th>\n      <td>https://portal-da.ru/objects/899895-zemlya-pod...</td>\n      <td>899895.0</td>\n      <td>{\"name\":\"Плесняев Александр Александрович\",\"em...</td>\n      <td>{\"name\":\"Плесняев Александр Александрович\",\"as...</td>\n      <td>[{\"name\":\"Площадь\",\"value\":\"5045 сот.\",\"field\"...</td>\n      <td>\"23,45 млн ₽\"</td>\n      <td>1286 просмотр</td>\n      <td>Российская Федерация, Московская область, г Мо...</td>\n      <td>25 июня 2022</td>\n      <td>Плесняев Александр Александрович</td>\n      <td>aplesnyaev@gmail.com</td>\n      <td>Плесняев Александр Александрович</td>\n      <td>5045 сот.</td>\n      <td>50:18:0050302:572</td>\n      <td>23450000.0</td>\n      <td>[55.73199800626753, 35.340751735565306]</td>\n      <td>[55.506478, 36.0213092]</td>\n      <td>504500.0</td>\n      <td>Московская область</td>\n    </tr>\n    <tr>\n      <th>...</th>\n      <td>...</td>\n      <td>...</td>\n      <td>...</td>\n      <td>...</td>\n      <td>...</td>\n      <td>...</td>\n      <td>...</td>\n      <td>...</td>\n      <td>...</td>\n      <td>...</td>\n      <td>...</td>\n      <td>...</td>\n      <td>...</td>\n      <td>...</td>\n      <td>...</td>\n      <td>...</td>\n      <td>...</td>\n      <td>...</td>\n      <td>...</td>\n    </tr>\n    <tr>\n      <th>844</th>\n      <td>https://portal-da.ru/objects/691104-zemlya-pod...</td>\n      <td>691104.0</td>\n      <td>{\"name\":\"Коваленко Александр Ан\",\"email\":\"kova...</td>\n      <td>{\"name\":\"АО \\\"Россельхозбанк\\\"\",\"assets_count\"...</td>\n      <td>[{\"name\":\"Площадь\",\"value\":\"15.27 сот.\",\"field...</td>\n      <td>\"107 099,63 ₽\"</td>\n      <td>269 просмотр</td>\n      <td>Российская Федерация, Владимирская область, Ки...</td>\n      <td>20 мая 2021</td>\n      <td>Коваленко Александр Ан</td>\n      <td>kovalenkoaan@vladimir.rshb.ru</td>\n      <td>АО \"Россельхозбанк\"</td>\n      <td>15.27 сот.</td>\n      <td>33:02:021015:562</td>\n      <td>10709963.0</td>\n      <td>[56.21913602478085, 38.82900562858026]</td>\n      <td>[56.1345574, 38.85192758087219]</td>\n      <td>1527.0</td>\n      <td>Владимирская область</td>\n    </tr>\n    <tr>\n      <th>845</th>\n      <td>https://portal-da.ru/objects/630263-zemlya-pod...</td>\n      <td>630263.0</td>\n      <td>{\"name\":\"Коваленко Александр Ан\",\"email\":\"kova...</td>\n      <td>{\"name\":\"АО \\\"Россельхозбанк\\\"\",\"assets_count\"...</td>\n      <td>[{\"name\":\"Площадь\",\"value\":\"13.21 сот.\",\"field...</td>\n      <td>\"92 651,36 ₽\"</td>\n      <td>279 просмотр</td>\n      <td>Российская Федерация, Владимирская область, Ки...</td>\n      <td>20 мая 2021</td>\n      <td>Коваленко Александр Ан</td>\n      <td>kovalenkoaan@vladimir.rshb.ru</td>\n      <td>АО \"Россельхозбанк\"</td>\n      <td>13.21 сот.</td>\n      <td>33:02:021015:561</td>\n      <td>9265136.0</td>\n      <td>[56.220926330893064, 38.83048310378695]</td>\n      <td>[56.1345574, 38.85192758087219]</td>\n      <td>1321.0</td>\n      <td>Владимирская область</td>\n    </tr>\n    <tr>\n      <th>846</th>\n      <td>https://portal-da.ru/objects/177552-zemlya-pod...</td>\n      <td>177552.0</td>\n      <td>{\"name\":\"Коваленко Александр Ан\",\"email\":\"kova...</td>\n      <td>{\"name\":\"АО \\\"Россельхозбанк\\\"\",\"assets_count\"...</td>\n      <td>[{\"name\":\"Площадь\",\"value\":\"16.76 сот.\",\"field...</td>\n      <td>\"117 550,32 ₽\"</td>\n      <td>281 просмотр</td>\n      <td>Российская Федерация, Владимирская область, Ки...</td>\n      <td>20 мая 2021</td>\n      <td>Коваленко Александр Ан</td>\n      <td>kovalenkoaan@vladimir.rshb.ru</td>\n      <td>АО \"Россельхозбанк\"</td>\n      <td>16.76 сот.</td>\n      <td>33:02:021015:560</td>\n      <td>11755032.0</td>\n      <td>[56.21983629294916, 38.8300820194728]</td>\n      <td>[56.1345574, 38.85192758087219]</td>\n      <td>1676.0</td>\n      <td>Владимирская область</td>\n    </tr>\n    <tr>\n      <th>847</th>\n      <td>https://portal-da.ru/objects/841885-zemlya-pod...</td>\n      <td>841885.0</td>\n      <td>{\"name\":\"Нуриев Эдуард Рамзилович\",\"email\":\"ln...</td>\n      <td>{\"name\":\"АО \\\"Россельхозбанк\\\"\",\"assets_count\"...</td>\n      <td>[{\"name\":\"Площадь\",\"value\":\"1501 сот.\",\"field\"...</td>\n      <td>\"226 651 ₽\"</td>\n      <td>610 просмотр</td>\n      <td>Российская Федерация, Татарстан, Тукаевский</td>\n      <td>11 мая 2021</td>\n      <td>Нуриев Эдуард Рамзилович</td>\n      <td>lnugaev@kazan.rshb.ru</td>\n      <td>АО \"Россельхозбанк\"</td>\n      <td>1501 сот.</td>\n      <td>16:39:131301:430</td>\n      <td>226651.0</td>\n      <td>[55.822853130025955, 52.73092958759532]</td>\n      <td>[55.682141200000004, 52.09069161386946]</td>\n      <td>150100.0</td>\n      <td>Татарстан</td>\n    </tr>\n    <tr>\n      <th>848</th>\n      <td>https://portal-da.ru/objects/419254-zemelnyy-u...</td>\n      <td>419254.0</td>\n      <td>{\"name\":\"Самойленко Денис Сергеевич\",\"email\":\"...</td>\n      <td>{\"name\":\"ПАО Сбербанк\",\"assets_count\":3244}</td>\n      <td>[{\"name\":\"Площадь\",\"value\":\"100 сот.\",\"field\":...</td>\n      <td>\"8,27 млн ₽\"</td>\n      <td>461 просмотр</td>\n      <td>Российская Федерация, Тверская область, г Оста...</td>\n      <td>22 апреля 2021</td>\n      <td>Самойленко Денис Сергеевич</td>\n      <td>dssamoylenko@sberbank.ru</td>\n      <td>ПАО Сбербанк</td>\n      <td>100 сот.</td>\n      <td>69:45:0080238:9</td>\n      <td>8270000.0</td>\n      <td>[57.14073651577907, 33.14393000643601]</td>\n      <td>[57.1557583, 33.1013213]</td>\n      <td>10000.0</td>\n      <td>Тверская область</td>\n    </tr>\n  </tbody>\n</table>\n<p>849 rows × 19 columns</p>\n</div>"
     },
     "execution_count": 67,
     "metadata": {},
     "output_type": "execute_result"
    }
   ],
   "source": [
    "wide_df"
   ],
   "metadata": {
    "collapsed": false,
    "pycharm": {
     "name": "#%%\n"
    }
   }
  },
  {
   "cell_type": "code",
   "execution_count": 69,
   "outputs": [],
   "source": [
    "wide_df = wide_df.merge(regions_df, on='region_name', how='left')"
   ],
   "metadata": {
    "collapsed": false,
    "pycharm": {
     "name": "#%%\n"
    }
   }
  },
  {
   "cell_type": "code",
   "execution_count": 71,
   "outputs": [
    {
     "data": {
      "text/plain": "                                                 links  asset_id  \\\n0    https://portal-da.ru/objects/814114-zemlya-pod...  814114.0   \n1    https://portal-da.ru/objects/814114-zemlya-pod...  814114.0   \n2    https://portal-da.ru/objects/641505-zemlya-pod...  641505.0   \n3    https://portal-da.ru/objects/169347-zemelnyy-u...  169347.0   \n4    https://portal-da.ru/objects/899895-zemlya-pod...  899895.0   \n..                                                 ...       ...   \n844  https://portal-da.ru/objects/691104-zemlya-pod...  691104.0   \n845  https://portal-da.ru/objects/630263-zemlya-pod...  630263.0   \n846  https://portal-da.ru/objects/177552-zemlya-pod...  177552.0   \n847  https://portal-da.ru/objects/841885-zemlya-pod...  841885.0   \n848  https://portal-da.ru/objects/419254-zemelnyy-u...  419254.0   \n\n                                               contact  \\\n0    {\"name\":\"Контактный Центр Банка\",\"email\":\"zalo...   \n1    {\"name\":\"Контактный Центр Банка\",\"email\":\"zalo...   \n2    {\"name\":\"Гаас Александра Георгиевна\",\"email\":\"...   \n3    {\"name\":\"Брюнель Ева Жисленовна\",\"email\":\"bryu...   \n4    {\"name\":\"Плесняев Александр Александрович\",\"em...   \n..                                                 ...   \n844  {\"name\":\"Коваленко Александр Ан\",\"email\":\"kova...   \n845  {\"name\":\"Коваленко Александр Ан\",\"email\":\"kova...   \n846  {\"name\":\"Коваленко Александр Ан\",\"email\":\"kova...   \n847  {\"name\":\"Нуриев Эдуард Рамзилович\",\"email\":\"ln...   \n848  {\"name\":\"Самойленко Денис Сергеевич\",\"email\":\"...   \n\n                                                seller  \\\n0         {\"name\":\"Банк ВТБ (ПАО)\",\"assets_count\":603}   \n1         {\"name\":\"Банк ВТБ (ПАО)\",\"assets_count\":603}   \n2          {\"name\":\"Физическое лицо\",\"assets_count\":0}   \n3          {\"name\":\"Физическое лицо\",\"assets_count\":0}   \n4    {\"name\":\"Плесняев Александр Александрович\",\"as...   \n..                                                 ...   \n844  {\"name\":\"АО \\\"Россельхозбанк\\\"\",\"assets_count\"...   \n845  {\"name\":\"АО \\\"Россельхозбанк\\\"\",\"assets_count\"...   \n846  {\"name\":\"АО \\\"Россельхозбанк\\\"\",\"assets_count\"...   \n847  {\"name\":\"АО \\\"Россельхозбанк\\\"\",\"assets_count\"...   \n848        {\"name\":\"ПАО Сбербанк\",\"assets_count\":3244}   \n\n                                       specific_fields           price  \\\n0                                                   []    \"48,7 млн ₽\"   \n1                                                   []    \"48,7 млн ₽\"   \n2    [{\"name\":\"Площадь\",\"value\":\"251.11 сот.\",\"fiel...   \"145,5 млн ₽\"   \n3    [{\"name\":\"Площадь\",\"value\":\"505.74 сот.\",\"fiel...     \"4,5 млн ₽\"   \n4    [{\"name\":\"Площадь\",\"value\":\"5045 сот.\",\"field\"...   \"23,45 млн ₽\"   \n..                                                 ...             ...   \n844  [{\"name\":\"Площадь\",\"value\":\"15.27 сот.\",\"field...  \"107 099,63 ₽\"   \n845  [{\"name\":\"Площадь\",\"value\":\"13.21 сот.\",\"field...   \"92 651,36 ₽\"   \n846  [{\"name\":\"Площадь\",\"value\":\"16.76 сот.\",\"field...  \"117 550,32 ₽\"   \n847  [{\"name\":\"Площадь\",\"value\":\"1501 сот.\",\"field\"...     \"226 651 ₽\"   \n848  [{\"name\":\"Площадь\",\"value\":\"100 сот.\",\"field\":...    \"8,27 млн ₽\"   \n\n             views                                         region_str  \\\n0    1535 просмотр  Российская Федерация, Московская область, Один...   \n1    1535 просмотр  Российская Федерация, Московская область, Один...   \n2    2311 просмотр  Российская Федерация, Алтайский край, г Белоку...   \n3     466 просмотр  Российская Федерация, Ярославская область, Пер...   \n4    1286 просмотр  Российская Федерация, Московская область, г Мо...   \n..             ...                                                ...   \n844   269 просмотр  Российская Федерация, Владимирская область, Ки...   \n845   279 просмотр  Российская Федерация, Владимирская область, Ки...   \n846   281 просмотр  Российская Федерация, Владимирская область, Ки...   \n847   610 просмотр        Российская Федерация, Татарстан, Тукаевский   \n848   461 просмотр  Российская Федерация, Тверская область, г Оста...   \n\n    publication_date                      contact_name  ...  \\\n0     15 ноября 2022            Контактный Центр Банка  ...   \n1     15 ноября 2022            Контактный Центр Банка  ...   \n2      31 марта 2022        Гаас Александра Георгиевна  ...   \n3     18 апреля 2022            Брюнель Ева Жисленовна  ...   \n4       25 июня 2022  Плесняев Александр Александрович  ...   \n..               ...                               ...  ...   \n844      20 мая 2021            Коваленко Александр Ан  ...   \n845      20 мая 2021            Коваленко Александр Ан  ...   \n846      20 мая 2021            Коваленко Александр Ан  ...   \n847      11 мая 2021          Нуриев Эдуард Рамзилович  ...   \n848   22 апреля 2021        Самойленко Денис Сергеевич  ...   \n\n                           cadastral_geocode  \\\n0                                        NaN   \n1                                        NaN   \n2     [51.94720028246027, 84.88831594503662]   \n3     [56.77190698765615, 38.88962726762723]   \n4    [55.73199800626753, 35.340751735565306]   \n..                                       ...   \n844   [56.21913602478085, 38.82900562858026]   \n845  [56.220926330893064, 38.83048310378695]   \n846    [56.21983629294916, 38.8300820194728]   \n847  [55.822853130025955, 52.73092958759532]   \n848   [57.14073651577907, 33.14393000643601]   \n\n                              region_geocode    square           region_name  \\\n0                   [55.6711507, 37.2727963]       NaN    Московская область   \n1                   [55.6711507, 37.2727963]       NaN    Московская область   \n2                   [51.9931851, 84.9819571]   25111.0        Алтайский край   \n3           [56.80208355, 38.64899133747492]   50574.0   Ярославская область   \n4                    [55.506478, 36.0213092]  504500.0    Московская область   \n..                                       ...       ...                   ...   \n844          [56.1345574, 38.85192758087219]    1527.0  Владимирская область   \n845          [56.1345574, 38.85192758087219]    1321.0  Владимирская область   \n846          [56.1345574, 38.85192758087219]    1676.0  Владимирская область   \n847  [55.682141200000004, 52.09069161386946]  150100.0             Татарстан   \n848                 [57.1557583, 33.1013213]   10000.0      Тверская область   \n\n     subject_num region_square population  region_capital     grp  criminality  \n0           56.0       44329.0  8542257.0          Москва  4201.8         72.9  \n1           56.0       44329.0  8542257.0          Москва  4201.8         72.9  \n2           25.0      167996.0  2154932.0         Барнаул   550.0        130.8  \n3           81.0       36177.0  1205637.0       Ярославль   560.6        105.1  \n4           56.0       44329.0  8542257.0          Москва  4201.8         72.9  \n..           ...           ...        ...             ...     ...          ...  \n844         39.0       29084.0  1342235.0        Владимир   440.5         91.1  \n845         39.0       29084.0  1342235.0        Владимир   440.5         91.1  \n846         39.0       29084.0  1342235.0        Владимир   440.5         91.1  \n847         19.0       67847.0  4000084.0          Казань  2469.2        102.1  \n848         74.0       84201.0  1226038.0           Тверь   441.7        130.5  \n\n[849 rows x 25 columns]",
      "text/html": "<div>\n<style scoped>\n    .dataframe tbody tr th:only-of-type {\n        vertical-align: middle;\n    }\n\n    .dataframe tbody tr th {\n        vertical-align: top;\n    }\n\n    .dataframe thead th {\n        text-align: right;\n    }\n</style>\n<table border=\"1\" class=\"dataframe\">\n  <thead>\n    <tr style=\"text-align: right;\">\n      <th></th>\n      <th>links</th>\n      <th>asset_id</th>\n      <th>contact</th>\n      <th>seller</th>\n      <th>specific_fields</th>\n      <th>price</th>\n      <th>views</th>\n      <th>region_str</th>\n      <th>publication_date</th>\n      <th>contact_name</th>\n      <th>...</th>\n      <th>cadastral_geocode</th>\n      <th>region_geocode</th>\n      <th>square</th>\n      <th>region_name</th>\n      <th>subject_num</th>\n      <th>region_square</th>\n      <th>population</th>\n      <th>region_capital</th>\n      <th>grp</th>\n      <th>criminality</th>\n    </tr>\n  </thead>\n  <tbody>\n    <tr>\n      <th>0</th>\n      <td>https://portal-da.ru/objects/814114-zemlya-pod...</td>\n      <td>814114.0</td>\n      <td>{\"name\":\"Контактный Центр Банка\",\"email\":\"zalo...</td>\n      <td>{\"name\":\"Банк ВТБ (ПАО)\",\"assets_count\":603}</td>\n      <td>[]</td>\n      <td>\"48,7 млн ₽\"</td>\n      <td>1535 просмотр</td>\n      <td>Российская Федерация, Московская область, Один...</td>\n      <td>15 ноября 2022</td>\n      <td>Контактный Центр Банка</td>\n      <td>...</td>\n      <td>NaN</td>\n      <td>[55.6711507, 37.2727963]</td>\n      <td>NaN</td>\n      <td>Московская область</td>\n      <td>56.0</td>\n      <td>44329.0</td>\n      <td>8542257.0</td>\n      <td>Москва</td>\n      <td>4201.8</td>\n      <td>72.9</td>\n    </tr>\n    <tr>\n      <th>1</th>\n      <td>https://portal-da.ru/objects/814114-zemlya-pod...</td>\n      <td>814114.0</td>\n      <td>{\"name\":\"Контактный Центр Банка\",\"email\":\"zalo...</td>\n      <td>{\"name\":\"Банк ВТБ (ПАО)\",\"assets_count\":603}</td>\n      <td>[]</td>\n      <td>\"48,7 млн ₽\"</td>\n      <td>1535 просмотр</td>\n      <td>Российская Федерация, Московская область, Один...</td>\n      <td>15 ноября 2022</td>\n      <td>Контактный Центр Банка</td>\n      <td>...</td>\n      <td>NaN</td>\n      <td>[55.6711507, 37.2727963]</td>\n      <td>NaN</td>\n      <td>Московская область</td>\n      <td>56.0</td>\n      <td>44329.0</td>\n      <td>8542257.0</td>\n      <td>Москва</td>\n      <td>4201.8</td>\n      <td>72.9</td>\n    </tr>\n    <tr>\n      <th>2</th>\n      <td>https://portal-da.ru/objects/641505-zemlya-pod...</td>\n      <td>641505.0</td>\n      <td>{\"name\":\"Гаас Александра Георгиевна\",\"email\":\"...</td>\n      <td>{\"name\":\"Физическое лицо\",\"assets_count\":0}</td>\n      <td>[{\"name\":\"Площадь\",\"value\":\"251.11 сот.\",\"fiel...</td>\n      <td>\"145,5 млн ₽\"</td>\n      <td>2311 просмотр</td>\n      <td>Российская Федерация, Алтайский край, г Белоку...</td>\n      <td>31 марта 2022</td>\n      <td>Гаас Александра Георгиевна</td>\n      <td>...</td>\n      <td>[51.94720028246027, 84.88831594503662]</td>\n      <td>[51.9931851, 84.9819571]</td>\n      <td>25111.0</td>\n      <td>Алтайский край</td>\n      <td>25.0</td>\n      <td>167996.0</td>\n      <td>2154932.0</td>\n      <td>Барнаул</td>\n      <td>550.0</td>\n      <td>130.8</td>\n    </tr>\n    <tr>\n      <th>3</th>\n      <td>https://portal-da.ru/objects/169347-zemelnyy-u...</td>\n      <td>169347.0</td>\n      <td>{\"name\":\"Брюнель Ева Жисленовна\",\"email\":\"bryu...</td>\n      <td>{\"name\":\"Физическое лицо\",\"assets_count\":0}</td>\n      <td>[{\"name\":\"Площадь\",\"value\":\"505.74 сот.\",\"fiel...</td>\n      <td>\"4,5 млн ₽\"</td>\n      <td>466 просмотр</td>\n      <td>Российская Федерация, Ярославская область, Пер...</td>\n      <td>18 апреля 2022</td>\n      <td>Брюнель Ева Жисленовна</td>\n      <td>...</td>\n      <td>[56.77190698765615, 38.88962726762723]</td>\n      <td>[56.80208355, 38.64899133747492]</td>\n      <td>50574.0</td>\n      <td>Ярославская область</td>\n      <td>81.0</td>\n      <td>36177.0</td>\n      <td>1205637.0</td>\n      <td>Ярославль</td>\n      <td>560.6</td>\n      <td>105.1</td>\n    </tr>\n    <tr>\n      <th>4</th>\n      <td>https://portal-da.ru/objects/899895-zemlya-pod...</td>\n      <td>899895.0</td>\n      <td>{\"name\":\"Плесняев Александр Александрович\",\"em...</td>\n      <td>{\"name\":\"Плесняев Александр Александрович\",\"as...</td>\n      <td>[{\"name\":\"Площадь\",\"value\":\"5045 сот.\",\"field\"...</td>\n      <td>\"23,45 млн ₽\"</td>\n      <td>1286 просмотр</td>\n      <td>Российская Федерация, Московская область, г Мо...</td>\n      <td>25 июня 2022</td>\n      <td>Плесняев Александр Александрович</td>\n      <td>...</td>\n      <td>[55.73199800626753, 35.340751735565306]</td>\n      <td>[55.506478, 36.0213092]</td>\n      <td>504500.0</td>\n      <td>Московская область</td>\n      <td>56.0</td>\n      <td>44329.0</td>\n      <td>8542257.0</td>\n      <td>Москва</td>\n      <td>4201.8</td>\n      <td>72.9</td>\n    </tr>\n    <tr>\n      <th>...</th>\n      <td>...</td>\n      <td>...</td>\n      <td>...</td>\n      <td>...</td>\n      <td>...</td>\n      <td>...</td>\n      <td>...</td>\n      <td>...</td>\n      <td>...</td>\n      <td>...</td>\n      <td>...</td>\n      <td>...</td>\n      <td>...</td>\n      <td>...</td>\n      <td>...</td>\n      <td>...</td>\n      <td>...</td>\n      <td>...</td>\n      <td>...</td>\n      <td>...</td>\n      <td>...</td>\n    </tr>\n    <tr>\n      <th>844</th>\n      <td>https://portal-da.ru/objects/691104-zemlya-pod...</td>\n      <td>691104.0</td>\n      <td>{\"name\":\"Коваленко Александр Ан\",\"email\":\"kova...</td>\n      <td>{\"name\":\"АО \\\"Россельхозбанк\\\"\",\"assets_count\"...</td>\n      <td>[{\"name\":\"Площадь\",\"value\":\"15.27 сот.\",\"field...</td>\n      <td>\"107 099,63 ₽\"</td>\n      <td>269 просмотр</td>\n      <td>Российская Федерация, Владимирская область, Ки...</td>\n      <td>20 мая 2021</td>\n      <td>Коваленко Александр Ан</td>\n      <td>...</td>\n      <td>[56.21913602478085, 38.82900562858026]</td>\n      <td>[56.1345574, 38.85192758087219]</td>\n      <td>1527.0</td>\n      <td>Владимирская область</td>\n      <td>39.0</td>\n      <td>29084.0</td>\n      <td>1342235.0</td>\n      <td>Владимир</td>\n      <td>440.5</td>\n      <td>91.1</td>\n    </tr>\n    <tr>\n      <th>845</th>\n      <td>https://portal-da.ru/objects/630263-zemlya-pod...</td>\n      <td>630263.0</td>\n      <td>{\"name\":\"Коваленко Александр Ан\",\"email\":\"kova...</td>\n      <td>{\"name\":\"АО \\\"Россельхозбанк\\\"\",\"assets_count\"...</td>\n      <td>[{\"name\":\"Площадь\",\"value\":\"13.21 сот.\",\"field...</td>\n      <td>\"92 651,36 ₽\"</td>\n      <td>279 просмотр</td>\n      <td>Российская Федерация, Владимирская область, Ки...</td>\n      <td>20 мая 2021</td>\n      <td>Коваленко Александр Ан</td>\n      <td>...</td>\n      <td>[56.220926330893064, 38.83048310378695]</td>\n      <td>[56.1345574, 38.85192758087219]</td>\n      <td>1321.0</td>\n      <td>Владимирская область</td>\n      <td>39.0</td>\n      <td>29084.0</td>\n      <td>1342235.0</td>\n      <td>Владимир</td>\n      <td>440.5</td>\n      <td>91.1</td>\n    </tr>\n    <tr>\n      <th>846</th>\n      <td>https://portal-da.ru/objects/177552-zemlya-pod...</td>\n      <td>177552.0</td>\n      <td>{\"name\":\"Коваленко Александр Ан\",\"email\":\"kova...</td>\n      <td>{\"name\":\"АО \\\"Россельхозбанк\\\"\",\"assets_count\"...</td>\n      <td>[{\"name\":\"Площадь\",\"value\":\"16.76 сот.\",\"field...</td>\n      <td>\"117 550,32 ₽\"</td>\n      <td>281 просмотр</td>\n      <td>Российская Федерация, Владимирская область, Ки...</td>\n      <td>20 мая 2021</td>\n      <td>Коваленко Александр Ан</td>\n      <td>...</td>\n      <td>[56.21983629294916, 38.8300820194728]</td>\n      <td>[56.1345574, 38.85192758087219]</td>\n      <td>1676.0</td>\n      <td>Владимирская область</td>\n      <td>39.0</td>\n      <td>29084.0</td>\n      <td>1342235.0</td>\n      <td>Владимир</td>\n      <td>440.5</td>\n      <td>91.1</td>\n    </tr>\n    <tr>\n      <th>847</th>\n      <td>https://portal-da.ru/objects/841885-zemlya-pod...</td>\n      <td>841885.0</td>\n      <td>{\"name\":\"Нуриев Эдуард Рамзилович\",\"email\":\"ln...</td>\n      <td>{\"name\":\"АО \\\"Россельхозбанк\\\"\",\"assets_count\"...</td>\n      <td>[{\"name\":\"Площадь\",\"value\":\"1501 сот.\",\"field\"...</td>\n      <td>\"226 651 ₽\"</td>\n      <td>610 просмотр</td>\n      <td>Российская Федерация, Татарстан, Тукаевский</td>\n      <td>11 мая 2021</td>\n      <td>Нуриев Эдуард Рамзилович</td>\n      <td>...</td>\n      <td>[55.822853130025955, 52.73092958759532]</td>\n      <td>[55.682141200000004, 52.09069161386946]</td>\n      <td>150100.0</td>\n      <td>Татарстан</td>\n      <td>19.0</td>\n      <td>67847.0</td>\n      <td>4000084.0</td>\n      <td>Казань</td>\n      <td>2469.2</td>\n      <td>102.1</td>\n    </tr>\n    <tr>\n      <th>848</th>\n      <td>https://portal-da.ru/objects/419254-zemelnyy-u...</td>\n      <td>419254.0</td>\n      <td>{\"name\":\"Самойленко Денис Сергеевич\",\"email\":\"...</td>\n      <td>{\"name\":\"ПАО Сбербанк\",\"assets_count\":3244}</td>\n      <td>[{\"name\":\"Площадь\",\"value\":\"100 сот.\",\"field\":...</td>\n      <td>\"8,27 млн ₽\"</td>\n      <td>461 просмотр</td>\n      <td>Российская Федерация, Тверская область, г Оста...</td>\n      <td>22 апреля 2021</td>\n      <td>Самойленко Денис Сергеевич</td>\n      <td>...</td>\n      <td>[57.14073651577907, 33.14393000643601]</td>\n      <td>[57.1557583, 33.1013213]</td>\n      <td>10000.0</td>\n      <td>Тверская область</td>\n      <td>74.0</td>\n      <td>84201.0</td>\n      <td>1226038.0</td>\n      <td>Тверь</td>\n      <td>441.7</td>\n      <td>130.5</td>\n    </tr>\n  </tbody>\n</table>\n<p>849 rows × 25 columns</p>\n</div>"
     },
     "execution_count": 71,
     "metadata": {},
     "output_type": "execute_result"
    }
   ],
   "source": [
    "wide_df"
   ],
   "metadata": {
    "collapsed": false,
    "pycharm": {
     "name": "#%%\n"
    }
   }
  },
  {
   "cell_type": "code",
   "execution_count": null,
   "outputs": [],
   "source": [],
   "metadata": {
    "collapsed": false,
    "pycharm": {
     "name": "#%%\n",
     "is_executing": true
    }
   }
  },
  {
   "cell_type": "code",
   "execution_count": 72,
   "outputs": [],
   "source": [
    "lien_df = lien_df.merge(wide_df[['asset_id', 'region_square', 'population', 'region_capital', 'grp', 'criminality']],\n",
    "                        on='asset_id', how='left')"
   ],
   "metadata": {
    "collapsed": false,
    "pycharm": {
     "name": "#%%\n"
    }
   }
  },
  {
   "cell_type": "code",
   "execution_count": 74,
   "outputs": [],
   "source": [
    "lien_df.to_csv(r'data\\lien_df.csv', sep=';', index=False)"
   ],
   "metadata": {
    "collapsed": false,
    "pycharm": {
     "name": "#%%\n"
    }
   }
  },
  {
   "cell_type": "code",
   "execution_count": 75,
   "outputs": [
    {
     "data": {
      "text/plain": "      asset_id   views publication_date                contact_name  \\\n0     814114.0  1535.0   15 ноября 2022      Контактный Центр Банка   \n1     814114.0  1535.0   15 ноября 2022      Контактный Центр Банка   \n2     814114.0  1535.0   15 ноября 2022      Контактный Центр Банка   \n3     814114.0  1535.0   15 ноября 2022      Контактный Центр Банка   \n4     641505.0  2311.0    31 марта 2022  Гаас Александра Георгиевна   \n...        ...     ...              ...                         ...   \n1118  691104.0   269.0      20 мая 2021      Коваленко Александр Ан   \n1119  630263.0   279.0      20 мая 2021      Коваленко Александр Ан   \n1120  177552.0   281.0      20 мая 2021      Коваленко Александр Ан   \n1121  841885.0   610.0      11 мая 2021    Нуриев Эдуард Рамзилович   \n1122  419254.0   461.0   22 апреля 2021  Самойленко Денис Сергеевич   \n\n              seller_name    square  price_value  \\\n0          Банк ВТБ (ПАО)       NaN   48700000.0   \n1          Банк ВТБ (ПАО)       NaN   48700000.0   \n2          Банк ВТБ (ПАО)       NaN   48700000.0   \n3          Банк ВТБ (ПАО)       NaN   48700000.0   \n4         Физическое лицо   25111.0  145500000.0   \n...                   ...       ...          ...   \n1118  АО \"Россельхозбанк\"    1527.0   10709963.0   \n1119  АО \"Россельхозбанк\"    1321.0    9265136.0   \n1120  АО \"Россельхозбанк\"    1676.0   11755032.0   \n1121  АО \"Россельхозбанк\"  150100.0     226651.0   \n1122         ПАО Сбербанк   10000.0    8270000.0   \n\n                            cadastral_geocode  \\\n0                                         NaN   \n1                                         NaN   \n2                                         NaN   \n3                                         NaN   \n4      [51.94720028246027, 84.88831594503662]   \n...                                       ...   \n1118   [56.21913602478085, 38.82900562858026]   \n1119  [56.220926330893064, 38.83048310378695]   \n1120    [56.21983629294916, 38.8300820194728]   \n1121  [55.822853130025955, 52.73092958759532]   \n1122   [57.14073651577907, 33.14393000643601]   \n\n                               region_geocode  shown_by_days   distance  \\\n0                    [55.6711507, 37.2727963]      64.884407        NaN   \n1                    [55.6711507, 37.2727963]      64.884407        NaN   \n2                    [55.6711507, 37.2727963]      64.884407        NaN   \n3                    [55.6711507, 37.2727963]      64.884407        NaN   \n4                    [51.9931851, 84.9819571]     293.884407   8.221511   \n...                                       ...            ...        ...   \n1118          [56.1345574, 38.85192758087219]     608.884408   9.524407   \n1119          [56.1345574, 38.85192758087219]     608.884408   9.708539   \n1120          [56.1345574, 38.85192758087219]     608.884408   9.591824   \n1121  [55.682141200000004, 52.09069161386946]     617.884408  43.145711   \n1122                 [57.1557583, 33.1013213]     636.884408   3.074139   \n\n      region_square  population region_capital     grp  criminality  \n0           44329.0   8542257.0         Москва  4201.8         72.9  \n1           44329.0   8542257.0         Москва  4201.8         72.9  \n2           44329.0   8542257.0         Москва  4201.8         72.9  \n3           44329.0   8542257.0         Москва  4201.8         72.9  \n4          167996.0   2154932.0        Барнаул   550.0        130.8  \n...             ...         ...            ...     ...          ...  \n1118        29084.0   1342235.0       Владимир   440.5         91.1  \n1119        29084.0   1342235.0       Владимир   440.5         91.1  \n1120        29084.0   1342235.0       Владимир   440.5         91.1  \n1121        67847.0   4000084.0         Казань  2469.2        102.1  \n1122        84201.0   1226038.0          Тверь   441.7        130.5  \n\n[1123 rows x 16 columns]",
      "text/html": "<div>\n<style scoped>\n    .dataframe tbody tr th:only-of-type {\n        vertical-align: middle;\n    }\n\n    .dataframe tbody tr th {\n        vertical-align: top;\n    }\n\n    .dataframe thead th {\n        text-align: right;\n    }\n</style>\n<table border=\"1\" class=\"dataframe\">\n  <thead>\n    <tr style=\"text-align: right;\">\n      <th></th>\n      <th>asset_id</th>\n      <th>views</th>\n      <th>publication_date</th>\n      <th>contact_name</th>\n      <th>seller_name</th>\n      <th>square</th>\n      <th>price_value</th>\n      <th>cadastral_geocode</th>\n      <th>region_geocode</th>\n      <th>shown_by_days</th>\n      <th>distance</th>\n      <th>region_square</th>\n      <th>population</th>\n      <th>region_capital</th>\n      <th>grp</th>\n      <th>criminality</th>\n    </tr>\n  </thead>\n  <tbody>\n    <tr>\n      <th>0</th>\n      <td>814114.0</td>\n      <td>1535.0</td>\n      <td>15 ноября 2022</td>\n      <td>Контактный Центр Банка</td>\n      <td>Банк ВТБ (ПАО)</td>\n      <td>NaN</td>\n      <td>48700000.0</td>\n      <td>NaN</td>\n      <td>[55.6711507, 37.2727963]</td>\n      <td>64.884407</td>\n      <td>NaN</td>\n      <td>44329.0</td>\n      <td>8542257.0</td>\n      <td>Москва</td>\n      <td>4201.8</td>\n      <td>72.9</td>\n    </tr>\n    <tr>\n      <th>1</th>\n      <td>814114.0</td>\n      <td>1535.0</td>\n      <td>15 ноября 2022</td>\n      <td>Контактный Центр Банка</td>\n      <td>Банк ВТБ (ПАО)</td>\n      <td>NaN</td>\n      <td>48700000.0</td>\n      <td>NaN</td>\n      <td>[55.6711507, 37.2727963]</td>\n      <td>64.884407</td>\n      <td>NaN</td>\n      <td>44329.0</td>\n      <td>8542257.0</td>\n      <td>Москва</td>\n      <td>4201.8</td>\n      <td>72.9</td>\n    </tr>\n    <tr>\n      <th>2</th>\n      <td>814114.0</td>\n      <td>1535.0</td>\n      <td>15 ноября 2022</td>\n      <td>Контактный Центр Банка</td>\n      <td>Банк ВТБ (ПАО)</td>\n      <td>NaN</td>\n      <td>48700000.0</td>\n      <td>NaN</td>\n      <td>[55.6711507, 37.2727963]</td>\n      <td>64.884407</td>\n      <td>NaN</td>\n      <td>44329.0</td>\n      <td>8542257.0</td>\n      <td>Москва</td>\n      <td>4201.8</td>\n      <td>72.9</td>\n    </tr>\n    <tr>\n      <th>3</th>\n      <td>814114.0</td>\n      <td>1535.0</td>\n      <td>15 ноября 2022</td>\n      <td>Контактный Центр Банка</td>\n      <td>Банк ВТБ (ПАО)</td>\n      <td>NaN</td>\n      <td>48700000.0</td>\n      <td>NaN</td>\n      <td>[55.6711507, 37.2727963]</td>\n      <td>64.884407</td>\n      <td>NaN</td>\n      <td>44329.0</td>\n      <td>8542257.0</td>\n      <td>Москва</td>\n      <td>4201.8</td>\n      <td>72.9</td>\n    </tr>\n    <tr>\n      <th>4</th>\n      <td>641505.0</td>\n      <td>2311.0</td>\n      <td>31 марта 2022</td>\n      <td>Гаас Александра Георгиевна</td>\n      <td>Физическое лицо</td>\n      <td>25111.0</td>\n      <td>145500000.0</td>\n      <td>[51.94720028246027, 84.88831594503662]</td>\n      <td>[51.9931851, 84.9819571]</td>\n      <td>293.884407</td>\n      <td>8.221511</td>\n      <td>167996.0</td>\n      <td>2154932.0</td>\n      <td>Барнаул</td>\n      <td>550.0</td>\n      <td>130.8</td>\n    </tr>\n    <tr>\n      <th>...</th>\n      <td>...</td>\n      <td>...</td>\n      <td>...</td>\n      <td>...</td>\n      <td>...</td>\n      <td>...</td>\n      <td>...</td>\n      <td>...</td>\n      <td>...</td>\n      <td>...</td>\n      <td>...</td>\n      <td>...</td>\n      <td>...</td>\n      <td>...</td>\n      <td>...</td>\n      <td>...</td>\n    </tr>\n    <tr>\n      <th>1118</th>\n      <td>691104.0</td>\n      <td>269.0</td>\n      <td>20 мая 2021</td>\n      <td>Коваленко Александр Ан</td>\n      <td>АО \"Россельхозбанк\"</td>\n      <td>1527.0</td>\n      <td>10709963.0</td>\n      <td>[56.21913602478085, 38.82900562858026]</td>\n      <td>[56.1345574, 38.85192758087219]</td>\n      <td>608.884408</td>\n      <td>9.524407</td>\n      <td>29084.0</td>\n      <td>1342235.0</td>\n      <td>Владимир</td>\n      <td>440.5</td>\n      <td>91.1</td>\n    </tr>\n    <tr>\n      <th>1119</th>\n      <td>630263.0</td>\n      <td>279.0</td>\n      <td>20 мая 2021</td>\n      <td>Коваленко Александр Ан</td>\n      <td>АО \"Россельхозбанк\"</td>\n      <td>1321.0</td>\n      <td>9265136.0</td>\n      <td>[56.220926330893064, 38.83048310378695]</td>\n      <td>[56.1345574, 38.85192758087219]</td>\n      <td>608.884408</td>\n      <td>9.708539</td>\n      <td>29084.0</td>\n      <td>1342235.0</td>\n      <td>Владимир</td>\n      <td>440.5</td>\n      <td>91.1</td>\n    </tr>\n    <tr>\n      <th>1120</th>\n      <td>177552.0</td>\n      <td>281.0</td>\n      <td>20 мая 2021</td>\n      <td>Коваленко Александр Ан</td>\n      <td>АО \"Россельхозбанк\"</td>\n      <td>1676.0</td>\n      <td>11755032.0</td>\n      <td>[56.21983629294916, 38.8300820194728]</td>\n      <td>[56.1345574, 38.85192758087219]</td>\n      <td>608.884408</td>\n      <td>9.591824</td>\n      <td>29084.0</td>\n      <td>1342235.0</td>\n      <td>Владимир</td>\n      <td>440.5</td>\n      <td>91.1</td>\n    </tr>\n    <tr>\n      <th>1121</th>\n      <td>841885.0</td>\n      <td>610.0</td>\n      <td>11 мая 2021</td>\n      <td>Нуриев Эдуард Рамзилович</td>\n      <td>АО \"Россельхозбанк\"</td>\n      <td>150100.0</td>\n      <td>226651.0</td>\n      <td>[55.822853130025955, 52.73092958759532]</td>\n      <td>[55.682141200000004, 52.09069161386946]</td>\n      <td>617.884408</td>\n      <td>43.145711</td>\n      <td>67847.0</td>\n      <td>4000084.0</td>\n      <td>Казань</td>\n      <td>2469.2</td>\n      <td>102.1</td>\n    </tr>\n    <tr>\n      <th>1122</th>\n      <td>419254.0</td>\n      <td>461.0</td>\n      <td>22 апреля 2021</td>\n      <td>Самойленко Денис Сергеевич</td>\n      <td>ПАО Сбербанк</td>\n      <td>10000.0</td>\n      <td>8270000.0</td>\n      <td>[57.14073651577907, 33.14393000643601]</td>\n      <td>[57.1557583, 33.1013213]</td>\n      <td>636.884408</td>\n      <td>3.074139</td>\n      <td>84201.0</td>\n      <td>1226038.0</td>\n      <td>Тверь</td>\n      <td>441.7</td>\n      <td>130.5</td>\n    </tr>\n  </tbody>\n</table>\n<p>1123 rows × 16 columns</p>\n</div>"
     },
     "execution_count": 75,
     "metadata": {},
     "output_type": "execute_result"
    }
   ],
   "source": [
    "lien_df"
   ],
   "metadata": {
    "collapsed": false,
    "pycharm": {
     "name": "#%%\n"
    }
   }
  },
  {
   "cell_type": "code",
   "execution_count": null,
   "outputs": [],
   "source": [],
   "metadata": {
    "collapsed": false,
    "pycharm": {
     "name": "#%%\n",
     "is_executing": true
    }
   }
  },
  {
   "cell_type": "code",
   "execution_count": 76,
   "outputs": [],
   "source": [
    "# посчитаем дистанцию до Москвы"
   ],
   "metadata": {
    "collapsed": false,
    "pycharm": {
     "name": "#%%\n"
    }
   }
  },
  {
   "cell_type": "code",
   "execution_count": null,
   "outputs": [],
   "source": [
    "buf_df = lien_df[['asset_id', 'cadastral_geocode', 'region_geocode']].copy()\n",
    "buf_df = buf_df.dropna()\n",
    "buf_df = buf_df.loc[\n",
    "    (~buf_df['cadastral_geocode'].str.contains('bool')) & (~buf_df['region_geocode'].str.contains('bool'))]\n",
    "buf_df['cadastral_geocode'] = buf_df['cadastral_geocode'].apply(ast.literal_eval)\n",
    "buf_df['region_geocode'] = buf_df['region_geocode'].apply(ast.literal_eval)\n",
    "buf_df['distance'] = buf_df.apply(lambda x: geopy.distance.geodesic(x['cadastral_geocode'], x['region_geocode']).km,\n",
    "                                  axis=1)\n",
    "buf_df\n",
    "lien_df = lien_df.merge(buf_df[['asset_id', 'distance']], on='asset_id', how='left')"
   ],
   "metadata": {
    "collapsed": false,
    "pycharm": {
     "name": "#%%\n",
     "is_executing": true
    }
   }
  },
  {
   "cell_type": "code",
   "execution_count": null,
   "outputs": [],
   "source": [],
   "metadata": {
    "collapsed": false,
    "pycharm": {
     "name": "#%%\n",
     "is_executing": true
    }
   }
  },
  {
   "cell_type": "code",
   "execution_count": null,
   "outputs": [],
   "source": [
    "lien_df['geo_distance'] = ''\n",
    "for index, row in tqdm(lien_df.iterrows()):\n",
    "    if ('[' in str(row['cadastral_geocode'])) and ('[' in str(row['region_geocode'])):\n",
    "        cadastral_list = ast.literal_eval(row['cadastral_geocode'])  # какая-то здесь проблема - решить\n",
    "        region_list = ast.literal_eval(row['region_geocode'])\n",
    "        coords_1 = (cadastral_list[0], cadastral_list[1])\n",
    "        coords_2 = (region_list[0], region_list[1])\n",
    "        geo_distance = geopy.distance.geodesic(coords_1, coords_2).km\n",
    "        row['geo_distance'] = geo_distance"
   ],
   "metadata": {
    "collapsed": false,
    "pycharm": {
     "name": "#%%\n",
     "is_executing": true
    }
   }
  },
  {
   "cell_type": "code",
   "execution_count": null,
   "outputs": [],
   "source": [],
   "metadata": {
    "collapsed": false,
    "pycharm": {
     "name": "#%%\n",
     "is_executing": true
    }
   }
  },
  {
   "cell_type": "code",
   "execution_count": null,
   "outputs": [],
   "source": [
    "# локация москвы - 55.762322, 37.615069"
   ],
   "metadata": {
    "collapsed": false,
    "pycharm": {
     "name": "#%%\n"
    }
   }
  },
  {
   "cell_type": "code",
   "execution_count": null,
   "outputs": [],
   "source": [],
   "metadata": {
    "collapsed": false,
    "pycharm": {
     "name": "#%%\n"
    }
   }
  },
  {
   "cell_type": "code",
   "execution_count": 77,
   "outputs": [],
   "source": [
    "def get_distance_to_moscow(row):\n",
    "    \"\"\"\n",
    "    Function to get distance from point to Moscow\n",
    "    :param row:\n",
    "    :return:\n",
    "    \"\"\"\n",
    "    if '[' in str(row['cadastral_geocode']):\n",
    "        return geopy.distance.geodesic([55.762322, 37.615069], ast.literal_eval(row['cadastral_geocode'])).km\n",
    "\n",
    "    if '[' in str(row['region_geocode']):\n",
    "        return geopy.distance.geodesic([55.762322, 37.615069], ast.literal_eval(row['region_geocode'])).km\n",
    "\n",
    "    return np.NaN"
   ],
   "metadata": {
    "collapsed": false,
    "pycharm": {
     "name": "#%%\n"
    }
   }
  },
  {
   "cell_type": "code",
   "execution_count": 79,
   "outputs": [],
   "source": [
    "lien_df['km_to_msk'] = lien_df.apply(get_distance_to_moscow, axis=1)"
   ],
   "metadata": {
    "collapsed": false,
    "pycharm": {
     "name": "#%%\n"
    }
   }
  },
  {
   "cell_type": "code",
   "execution_count": 80,
   "outputs": [
    {
     "data": {
      "text/plain": "      asset_id   views publication_date                contact_name  \\\n0     814114.0  1535.0   15 ноября 2022      Контактный Центр Банка   \n1     814114.0  1535.0   15 ноября 2022      Контактный Центр Банка   \n2     814114.0  1535.0   15 ноября 2022      Контактный Центр Банка   \n3     814114.0  1535.0   15 ноября 2022      Контактный Центр Банка   \n4     641505.0  2311.0    31 марта 2022  Гаас Александра Георгиевна   \n...        ...     ...              ...                         ...   \n1118  691104.0   269.0      20 мая 2021      Коваленко Александр Ан   \n1119  630263.0   279.0      20 мая 2021      Коваленко Александр Ан   \n1120  177552.0   281.0      20 мая 2021      Коваленко Александр Ан   \n1121  841885.0   610.0      11 мая 2021    Нуриев Эдуард Рамзилович   \n1122  419254.0   461.0   22 апреля 2021  Самойленко Денис Сергеевич   \n\n              seller_name    square  price_value  \\\n0          Банк ВТБ (ПАО)       NaN   48700000.0   \n1          Банк ВТБ (ПАО)       NaN   48700000.0   \n2          Банк ВТБ (ПАО)       NaN   48700000.0   \n3          Банк ВТБ (ПАО)       NaN   48700000.0   \n4         Физическое лицо   25111.0  145500000.0   \n...                   ...       ...          ...   \n1118  АО \"Россельхозбанк\"    1527.0   10709963.0   \n1119  АО \"Россельхозбанк\"    1321.0    9265136.0   \n1120  АО \"Россельхозбанк\"    1676.0   11755032.0   \n1121  АО \"Россельхозбанк\"  150100.0     226651.0   \n1122         ПАО Сбербанк   10000.0    8270000.0   \n\n                            cadastral_geocode  \\\n0                                         NaN   \n1                                         NaN   \n2                                         NaN   \n3                                         NaN   \n4      [51.94720028246027, 84.88831594503662]   \n...                                       ...   \n1118   [56.21913602478085, 38.82900562858026]   \n1119  [56.220926330893064, 38.83048310378695]   \n1120    [56.21983629294916, 38.8300820194728]   \n1121  [55.822853130025955, 52.73092958759532]   \n1122   [57.14073651577907, 33.14393000643601]   \n\n                               region_geocode  shown_by_days   distance  \\\n0                    [55.6711507, 37.2727963]      64.884407        NaN   \n1                    [55.6711507, 37.2727963]      64.884407        NaN   \n2                    [55.6711507, 37.2727963]      64.884407        NaN   \n3                    [55.6711507, 37.2727963]      64.884407        NaN   \n4                    [51.9931851, 84.9819571]     293.884407   8.221511   \n...                                       ...            ...        ...   \n1118          [56.1345574, 38.85192758087219]     608.884408   9.524407   \n1119          [56.1345574, 38.85192758087219]     608.884408   9.708539   \n1120          [56.1345574, 38.85192758087219]     608.884408   9.591824   \n1121  [55.682141200000004, 52.09069161386946]     617.884408  43.145711   \n1122                 [57.1557583, 33.1013213]     636.884408   3.074139   \n\n      region_square  population region_capital     grp  criminality  \\\n0           44329.0   8542257.0         Москва  4201.8         72.9   \n1           44329.0   8542257.0         Москва  4201.8         72.9   \n2           44329.0   8542257.0         Москва  4201.8         72.9   \n3           44329.0   8542257.0         Москва  4201.8         72.9   \n4          167996.0   2154932.0        Барнаул   550.0        130.8   \n...             ...         ...            ...     ...          ...   \n1118        29084.0   1342235.0       Владимир   440.5         91.1   \n1119        29084.0   1342235.0       Владимир   440.5         91.1   \n1120        29084.0   1342235.0       Владимир   440.5         91.1   \n1121        67847.0   4000084.0         Казань  2469.2        102.1   \n1122        84201.0   1226038.0          Тверь   441.7        130.5   \n\n        km_to_msk  \n0       23.785924  \n1       23.785924  \n2       23.785924  \n3       23.785924  \n4     3077.808288  \n...           ...  \n1118    91.247107  \n1119    91.433379  \n1120    91.345769  \n1121   946.305150  \n1122   315.461761  \n\n[1123 rows x 17 columns]",
      "text/html": "<div>\n<style scoped>\n    .dataframe tbody tr th:only-of-type {\n        vertical-align: middle;\n    }\n\n    .dataframe tbody tr th {\n        vertical-align: top;\n    }\n\n    .dataframe thead th {\n        text-align: right;\n    }\n</style>\n<table border=\"1\" class=\"dataframe\">\n  <thead>\n    <tr style=\"text-align: right;\">\n      <th></th>\n      <th>asset_id</th>\n      <th>views</th>\n      <th>publication_date</th>\n      <th>contact_name</th>\n      <th>seller_name</th>\n      <th>square</th>\n      <th>price_value</th>\n      <th>cadastral_geocode</th>\n      <th>region_geocode</th>\n      <th>shown_by_days</th>\n      <th>distance</th>\n      <th>region_square</th>\n      <th>population</th>\n      <th>region_capital</th>\n      <th>grp</th>\n      <th>criminality</th>\n      <th>km_to_msk</th>\n    </tr>\n  </thead>\n  <tbody>\n    <tr>\n      <th>0</th>\n      <td>814114.0</td>\n      <td>1535.0</td>\n      <td>15 ноября 2022</td>\n      <td>Контактный Центр Банка</td>\n      <td>Банк ВТБ (ПАО)</td>\n      <td>NaN</td>\n      <td>48700000.0</td>\n      <td>NaN</td>\n      <td>[55.6711507, 37.2727963]</td>\n      <td>64.884407</td>\n      <td>NaN</td>\n      <td>44329.0</td>\n      <td>8542257.0</td>\n      <td>Москва</td>\n      <td>4201.8</td>\n      <td>72.9</td>\n      <td>23.785924</td>\n    </tr>\n    <tr>\n      <th>1</th>\n      <td>814114.0</td>\n      <td>1535.0</td>\n      <td>15 ноября 2022</td>\n      <td>Контактный Центр Банка</td>\n      <td>Банк ВТБ (ПАО)</td>\n      <td>NaN</td>\n      <td>48700000.0</td>\n      <td>NaN</td>\n      <td>[55.6711507, 37.2727963]</td>\n      <td>64.884407</td>\n      <td>NaN</td>\n      <td>44329.0</td>\n      <td>8542257.0</td>\n      <td>Москва</td>\n      <td>4201.8</td>\n      <td>72.9</td>\n      <td>23.785924</td>\n    </tr>\n    <tr>\n      <th>2</th>\n      <td>814114.0</td>\n      <td>1535.0</td>\n      <td>15 ноября 2022</td>\n      <td>Контактный Центр Банка</td>\n      <td>Банк ВТБ (ПАО)</td>\n      <td>NaN</td>\n      <td>48700000.0</td>\n      <td>NaN</td>\n      <td>[55.6711507, 37.2727963]</td>\n      <td>64.884407</td>\n      <td>NaN</td>\n      <td>44329.0</td>\n      <td>8542257.0</td>\n      <td>Москва</td>\n      <td>4201.8</td>\n      <td>72.9</td>\n      <td>23.785924</td>\n    </tr>\n    <tr>\n      <th>3</th>\n      <td>814114.0</td>\n      <td>1535.0</td>\n      <td>15 ноября 2022</td>\n      <td>Контактный Центр Банка</td>\n      <td>Банк ВТБ (ПАО)</td>\n      <td>NaN</td>\n      <td>48700000.0</td>\n      <td>NaN</td>\n      <td>[55.6711507, 37.2727963]</td>\n      <td>64.884407</td>\n      <td>NaN</td>\n      <td>44329.0</td>\n      <td>8542257.0</td>\n      <td>Москва</td>\n      <td>4201.8</td>\n      <td>72.9</td>\n      <td>23.785924</td>\n    </tr>\n    <tr>\n      <th>4</th>\n      <td>641505.0</td>\n      <td>2311.0</td>\n      <td>31 марта 2022</td>\n      <td>Гаас Александра Георгиевна</td>\n      <td>Физическое лицо</td>\n      <td>25111.0</td>\n      <td>145500000.0</td>\n      <td>[51.94720028246027, 84.88831594503662]</td>\n      <td>[51.9931851, 84.9819571]</td>\n      <td>293.884407</td>\n      <td>8.221511</td>\n      <td>167996.0</td>\n      <td>2154932.0</td>\n      <td>Барнаул</td>\n      <td>550.0</td>\n      <td>130.8</td>\n      <td>3077.808288</td>\n    </tr>\n    <tr>\n      <th>...</th>\n      <td>...</td>\n      <td>...</td>\n      <td>...</td>\n      <td>...</td>\n      <td>...</td>\n      <td>...</td>\n      <td>...</td>\n      <td>...</td>\n      <td>...</td>\n      <td>...</td>\n      <td>...</td>\n      <td>...</td>\n      <td>...</td>\n      <td>...</td>\n      <td>...</td>\n      <td>...</td>\n      <td>...</td>\n    </tr>\n    <tr>\n      <th>1118</th>\n      <td>691104.0</td>\n      <td>269.0</td>\n      <td>20 мая 2021</td>\n      <td>Коваленко Александр Ан</td>\n      <td>АО \"Россельхозбанк\"</td>\n      <td>1527.0</td>\n      <td>10709963.0</td>\n      <td>[56.21913602478085, 38.82900562858026]</td>\n      <td>[56.1345574, 38.85192758087219]</td>\n      <td>608.884408</td>\n      <td>9.524407</td>\n      <td>29084.0</td>\n      <td>1342235.0</td>\n      <td>Владимир</td>\n      <td>440.5</td>\n      <td>91.1</td>\n      <td>91.247107</td>\n    </tr>\n    <tr>\n      <th>1119</th>\n      <td>630263.0</td>\n      <td>279.0</td>\n      <td>20 мая 2021</td>\n      <td>Коваленко Александр Ан</td>\n      <td>АО \"Россельхозбанк\"</td>\n      <td>1321.0</td>\n      <td>9265136.0</td>\n      <td>[56.220926330893064, 38.83048310378695]</td>\n      <td>[56.1345574, 38.85192758087219]</td>\n      <td>608.884408</td>\n      <td>9.708539</td>\n      <td>29084.0</td>\n      <td>1342235.0</td>\n      <td>Владимир</td>\n      <td>440.5</td>\n      <td>91.1</td>\n      <td>91.433379</td>\n    </tr>\n    <tr>\n      <th>1120</th>\n      <td>177552.0</td>\n      <td>281.0</td>\n      <td>20 мая 2021</td>\n      <td>Коваленко Александр Ан</td>\n      <td>АО \"Россельхозбанк\"</td>\n      <td>1676.0</td>\n      <td>11755032.0</td>\n      <td>[56.21983629294916, 38.8300820194728]</td>\n      <td>[56.1345574, 38.85192758087219]</td>\n      <td>608.884408</td>\n      <td>9.591824</td>\n      <td>29084.0</td>\n      <td>1342235.0</td>\n      <td>Владимир</td>\n      <td>440.5</td>\n      <td>91.1</td>\n      <td>91.345769</td>\n    </tr>\n    <tr>\n      <th>1121</th>\n      <td>841885.0</td>\n      <td>610.0</td>\n      <td>11 мая 2021</td>\n      <td>Нуриев Эдуард Рамзилович</td>\n      <td>АО \"Россельхозбанк\"</td>\n      <td>150100.0</td>\n      <td>226651.0</td>\n      <td>[55.822853130025955, 52.73092958759532]</td>\n      <td>[55.682141200000004, 52.09069161386946]</td>\n      <td>617.884408</td>\n      <td>43.145711</td>\n      <td>67847.0</td>\n      <td>4000084.0</td>\n      <td>Казань</td>\n      <td>2469.2</td>\n      <td>102.1</td>\n      <td>946.305150</td>\n    </tr>\n    <tr>\n      <th>1122</th>\n      <td>419254.0</td>\n      <td>461.0</td>\n      <td>22 апреля 2021</td>\n      <td>Самойленко Денис Сергеевич</td>\n      <td>ПАО Сбербанк</td>\n      <td>10000.0</td>\n      <td>8270000.0</td>\n      <td>[57.14073651577907, 33.14393000643601]</td>\n      <td>[57.1557583, 33.1013213]</td>\n      <td>636.884408</td>\n      <td>3.074139</td>\n      <td>84201.0</td>\n      <td>1226038.0</td>\n      <td>Тверь</td>\n      <td>441.7</td>\n      <td>130.5</td>\n      <td>315.461761</td>\n    </tr>\n  </tbody>\n</table>\n<p>1123 rows × 17 columns</p>\n</div>"
     },
     "execution_count": 80,
     "metadata": {},
     "output_type": "execute_result"
    }
   ],
   "source": [
    "lien_df"
   ],
   "metadata": {
    "collapsed": false,
    "pycharm": {
     "name": "#%%\n"
    }
   }
  },
  {
   "cell_type": "code",
   "execution_count": 81,
   "outputs": [],
   "source": [
    "# теперь получим геопозицию столицы региона и посчитаем километраж до столицы региона"
   ],
   "metadata": {
    "collapsed": false,
    "pycharm": {
     "name": "#%%\n"
    }
   }
  },
  {
   "cell_type": "code",
   "execution_count": 82,
   "outputs": [],
   "source": [
    "from geopy.geocoders import Nominatim\n",
    "geolocator = Nominatim(user_agent=\"my app\")"
   ],
   "metadata": {
    "collapsed": false,
    "pycharm": {
     "name": "#%%\n"
    }
   }
  },
  {
   "cell_type": "code",
   "execution_count": 87,
   "outputs": [
    {
     "data": {
      "text/plain": "[55.7504461, 37.6174943]"
     },
     "execution_count": 87,
     "metadata": {},
     "output_type": "execute_result"
    }
   ],
   "source": [
    "list(geolocator.geocode(\"Москва\").point[:2])"
   ],
   "metadata": {
    "collapsed": false,
    "pycharm": {
     "name": "#%%\n"
    }
   }
  },
  {
   "cell_type": "code",
   "execution_count": 88,
   "outputs": [],
   "source": [
    "def get_city_geocode(row):\n",
    "    \"\"\"\n",
    "    Function to apply to get city geocode\n",
    "    :param row:\n",
    "    :return:\n",
    "    \"\"\"\n",
    "    if pd.isnull(row):\n",
    "        return np.NaN\n",
    "    return list(geolocator.geocode(str(row)).point[:2])"
   ],
   "metadata": {
    "collapsed": false,
    "pycharm": {
     "name": "#%%\n"
    }
   }
  },
  {
   "cell_type": "code",
   "execution_count": 92,
   "outputs": [
    {
     "data": {
      "text/plain": "  0%|          | 0/1123 [00:00<?, ?it/s]",
      "application/vnd.jupyter.widget-view+json": {
       "version_major": 2,
       "version_minor": 0,
       "model_id": "cccd2d4e2e6242f7b2582e42bb79a7ae"
      }
     },
     "metadata": {},
     "output_type": "display_data"
    },
    {
     "ename": "KeyboardInterrupt",
     "evalue": "",
     "output_type": "error",
     "traceback": [
      "\u001B[0;31m---------------------------------------------------------------------------\u001B[0m",
      "\u001B[0;31mKeyboardInterrupt\u001B[0m                         Traceback (most recent call last)",
      "Input \u001B[0;32mIn [92]\u001B[0m, in \u001B[0;36m<cell line: 1>\u001B[0;34m()\u001B[0m\n\u001B[0;32m----> 1\u001B[0m lien_df[\u001B[38;5;124m'\u001B[39m\u001B[38;5;124mregion_capital_geocode\u001B[39m\u001B[38;5;124m'\u001B[39m] \u001B[38;5;241m=\u001B[39m \u001B[43mlien_df\u001B[49m\u001B[43m[\u001B[49m\u001B[38;5;124;43m'\u001B[39;49m\u001B[38;5;124;43mregion_capital\u001B[39;49m\u001B[38;5;124;43m'\u001B[39;49m\u001B[43m]\u001B[49m\u001B[38;5;241;43m.\u001B[39;49m\u001B[43mprogress_apply\u001B[49m\u001B[43m(\u001B[49m\u001B[38;5;28;43;01mlambda\u001B[39;49;00m\u001B[43m \u001B[49m\u001B[43mx\u001B[49m\u001B[43m:\u001B[49m\u001B[43m \u001B[49m\u001B[43mget_city_geocode\u001B[49m\u001B[43m(\u001B[49m\u001B[43mx\u001B[49m\u001B[43m)\u001B[49m\u001B[43m)\u001B[49m\n",
      "File \u001B[0;32m~/PycharmProjects/portal_da/venv/lib/python3.8/site-packages/tqdm/std.py:814\u001B[0m, in \u001B[0;36mtqdm.pandas.<locals>.inner_generator.<locals>.inner\u001B[0;34m(df, func, *args, **kwargs)\u001B[0m\n\u001B[1;32m    811\u001B[0m \u001B[38;5;66;03m# Apply the provided function (in **kwargs)\u001B[39;00m\n\u001B[1;32m    812\u001B[0m \u001B[38;5;66;03m# on the df using our wrapper (which provides bar updating)\u001B[39;00m\n\u001B[1;32m    813\u001B[0m \u001B[38;5;28;01mtry\u001B[39;00m:\n\u001B[0;32m--> 814\u001B[0m     \u001B[38;5;28;01mreturn\u001B[39;00m \u001B[38;5;28;43mgetattr\u001B[39;49m\u001B[43m(\u001B[49m\u001B[43mdf\u001B[49m\u001B[43m,\u001B[49m\u001B[43m \u001B[49m\u001B[43mdf_function\u001B[49m\u001B[43m)\u001B[49m\u001B[43m(\u001B[49m\u001B[43mwrapper\u001B[49m\u001B[43m,\u001B[49m\u001B[43m \u001B[49m\u001B[38;5;241;43m*\u001B[39;49m\u001B[38;5;241;43m*\u001B[39;49m\u001B[43mkwargs\u001B[49m\u001B[43m)\u001B[49m\n\u001B[1;32m    815\u001B[0m \u001B[38;5;28;01mfinally\u001B[39;00m:\n\u001B[1;32m    816\u001B[0m     t\u001B[38;5;241m.\u001B[39mclose()\n",
      "File \u001B[0;32m~/Library/Python/3.8/lib/python/site-packages/pandas/core/series.py:4433\u001B[0m, in \u001B[0;36mSeries.apply\u001B[0;34m(self, func, convert_dtype, args, **kwargs)\u001B[0m\n\u001B[1;32m   4323\u001B[0m \u001B[38;5;28;01mdef\u001B[39;00m \u001B[38;5;21mapply\u001B[39m(\n\u001B[1;32m   4324\u001B[0m     \u001B[38;5;28mself\u001B[39m,\n\u001B[1;32m   4325\u001B[0m     func: AggFuncType,\n\u001B[0;32m   (...)\u001B[0m\n\u001B[1;32m   4328\u001B[0m     \u001B[38;5;241m*\u001B[39m\u001B[38;5;241m*\u001B[39mkwargs,\n\u001B[1;32m   4329\u001B[0m ) \u001B[38;5;241m-\u001B[39m\u001B[38;5;241m>\u001B[39m DataFrame \u001B[38;5;241m|\u001B[39m Series:\n\u001B[1;32m   4330\u001B[0m     \u001B[38;5;124;03m\"\"\"\u001B[39;00m\n\u001B[1;32m   4331\u001B[0m \u001B[38;5;124;03m    Invoke function on values of Series.\u001B[39;00m\n\u001B[1;32m   4332\u001B[0m \n\u001B[0;32m   (...)\u001B[0m\n\u001B[1;32m   4431\u001B[0m \u001B[38;5;124;03m    dtype: float64\u001B[39;00m\n\u001B[1;32m   4432\u001B[0m \u001B[38;5;124;03m    \"\"\"\u001B[39;00m\n\u001B[0;32m-> 4433\u001B[0m     \u001B[38;5;28;01mreturn\u001B[39;00m \u001B[43mSeriesApply\u001B[49m\u001B[43m(\u001B[49m\u001B[38;5;28;43mself\u001B[39;49m\u001B[43m,\u001B[49m\u001B[43m \u001B[49m\u001B[43mfunc\u001B[49m\u001B[43m,\u001B[49m\u001B[43m \u001B[49m\u001B[43mconvert_dtype\u001B[49m\u001B[43m,\u001B[49m\u001B[43m \u001B[49m\u001B[43margs\u001B[49m\u001B[43m,\u001B[49m\u001B[43m \u001B[49m\u001B[43mkwargs\u001B[49m\u001B[43m)\u001B[49m\u001B[38;5;241;43m.\u001B[39;49m\u001B[43mapply\u001B[49m\u001B[43m(\u001B[49m\u001B[43m)\u001B[49m\n",
      "File \u001B[0;32m~/Library/Python/3.8/lib/python/site-packages/pandas/core/apply.py:1088\u001B[0m, in \u001B[0;36mSeriesApply.apply\u001B[0;34m(self)\u001B[0m\n\u001B[1;32m   1084\u001B[0m \u001B[38;5;28;01mif\u001B[39;00m \u001B[38;5;28misinstance\u001B[39m(\u001B[38;5;28mself\u001B[39m\u001B[38;5;241m.\u001B[39mf, \u001B[38;5;28mstr\u001B[39m):\n\u001B[1;32m   1085\u001B[0m     \u001B[38;5;66;03m# if we are a string, try to dispatch\u001B[39;00m\n\u001B[1;32m   1086\u001B[0m     \u001B[38;5;28;01mreturn\u001B[39;00m \u001B[38;5;28mself\u001B[39m\u001B[38;5;241m.\u001B[39mapply_str()\n\u001B[0;32m-> 1088\u001B[0m \u001B[38;5;28;01mreturn\u001B[39;00m \u001B[38;5;28;43mself\u001B[39;49m\u001B[38;5;241;43m.\u001B[39;49m\u001B[43mapply_standard\u001B[49m\u001B[43m(\u001B[49m\u001B[43m)\u001B[49m\n",
      "File \u001B[0;32m~/Library/Python/3.8/lib/python/site-packages/pandas/core/apply.py:1143\u001B[0m, in \u001B[0;36mSeriesApply.apply_standard\u001B[0;34m(self)\u001B[0m\n\u001B[1;32m   1137\u001B[0m         values \u001B[38;5;241m=\u001B[39m obj\u001B[38;5;241m.\u001B[39mastype(\u001B[38;5;28mobject\u001B[39m)\u001B[38;5;241m.\u001B[39m_values\n\u001B[1;32m   1138\u001B[0m         \u001B[38;5;66;03m# error: Argument 2 to \"map_infer\" has incompatible type\u001B[39;00m\n\u001B[1;32m   1139\u001B[0m         \u001B[38;5;66;03m# \"Union[Callable[..., Any], str, List[Union[Callable[..., Any], str]],\u001B[39;00m\n\u001B[1;32m   1140\u001B[0m         \u001B[38;5;66;03m# Dict[Hashable, Union[Union[Callable[..., Any], str],\u001B[39;00m\n\u001B[1;32m   1141\u001B[0m         \u001B[38;5;66;03m# List[Union[Callable[..., Any], str]]]]]\"; expected\u001B[39;00m\n\u001B[1;32m   1142\u001B[0m         \u001B[38;5;66;03m# \"Callable[[Any], Any]\"\u001B[39;00m\n\u001B[0;32m-> 1143\u001B[0m         mapped \u001B[38;5;241m=\u001B[39m \u001B[43mlib\u001B[49m\u001B[38;5;241;43m.\u001B[39;49m\u001B[43mmap_infer\u001B[49m\u001B[43m(\u001B[49m\n\u001B[1;32m   1144\u001B[0m \u001B[43m            \u001B[49m\u001B[43mvalues\u001B[49m\u001B[43m,\u001B[49m\n\u001B[1;32m   1145\u001B[0m \u001B[43m            \u001B[49m\u001B[43mf\u001B[49m\u001B[43m,\u001B[49m\u001B[43m  \u001B[49m\u001B[38;5;66;43;03m# type: ignore[arg-type]\u001B[39;49;00m\n\u001B[1;32m   1146\u001B[0m \u001B[43m            \u001B[49m\u001B[43mconvert\u001B[49m\u001B[38;5;241;43m=\u001B[39;49m\u001B[38;5;28;43mself\u001B[39;49m\u001B[38;5;241;43m.\u001B[39;49m\u001B[43mconvert_dtype\u001B[49m\u001B[43m,\u001B[49m\n\u001B[1;32m   1147\u001B[0m \u001B[43m        \u001B[49m\u001B[43m)\u001B[49m\n\u001B[1;32m   1149\u001B[0m \u001B[38;5;28;01mif\u001B[39;00m \u001B[38;5;28mlen\u001B[39m(mapped) \u001B[38;5;129;01mand\u001B[39;00m \u001B[38;5;28misinstance\u001B[39m(mapped[\u001B[38;5;241m0\u001B[39m], ABCSeries):\n\u001B[1;32m   1150\u001B[0m     \u001B[38;5;66;03m# GH#43986 Need to do list(mapped) in order to get treated as nested\u001B[39;00m\n\u001B[1;32m   1151\u001B[0m     \u001B[38;5;66;03m#  See also GH#25959 regarding EA support\u001B[39;00m\n\u001B[1;32m   1152\u001B[0m     \u001B[38;5;28;01mreturn\u001B[39;00m obj\u001B[38;5;241m.\u001B[39m_constructor_expanddim(\u001B[38;5;28mlist\u001B[39m(mapped), index\u001B[38;5;241m=\u001B[39mobj\u001B[38;5;241m.\u001B[39mindex)\n",
      "File \u001B[0;32m~/Library/Python/3.8/lib/python/site-packages/pandas/_libs/lib.pyx:2870\u001B[0m, in \u001B[0;36mpandas._libs.lib.map_infer\u001B[0;34m()\u001B[0m\n",
      "File \u001B[0;32m~/PycharmProjects/portal_da/venv/lib/python3.8/site-packages/tqdm/std.py:809\u001B[0m, in \u001B[0;36mtqdm.pandas.<locals>.inner_generator.<locals>.inner.<locals>.wrapper\u001B[0;34m(*args, **kwargs)\u001B[0m\n\u001B[1;32m    803\u001B[0m \u001B[38;5;28;01mdef\u001B[39;00m \u001B[38;5;21mwrapper\u001B[39m(\u001B[38;5;241m*\u001B[39margs, \u001B[38;5;241m*\u001B[39m\u001B[38;5;241m*\u001B[39mkwargs):\n\u001B[1;32m    804\u001B[0m     \u001B[38;5;66;03m# update tbar correctly\u001B[39;00m\n\u001B[1;32m    805\u001B[0m     \u001B[38;5;66;03m# it seems `pandas apply` calls `func` twice\u001B[39;00m\n\u001B[1;32m    806\u001B[0m     \u001B[38;5;66;03m# on the first column/row to decide whether it can\u001B[39;00m\n\u001B[1;32m    807\u001B[0m     \u001B[38;5;66;03m# take a fast or slow code path; so stop when t.total==t.n\u001B[39;00m\n\u001B[1;32m    808\u001B[0m     t\u001B[38;5;241m.\u001B[39mupdate(n\u001B[38;5;241m=\u001B[39m\u001B[38;5;241m1\u001B[39m \u001B[38;5;28;01mif\u001B[39;00m \u001B[38;5;129;01mnot\u001B[39;00m t\u001B[38;5;241m.\u001B[39mtotal \u001B[38;5;129;01mor\u001B[39;00m t\u001B[38;5;241m.\u001B[39mn \u001B[38;5;241m<\u001B[39m t\u001B[38;5;241m.\u001B[39mtotal \u001B[38;5;28;01melse\u001B[39;00m \u001B[38;5;241m0\u001B[39m)\n\u001B[0;32m--> 809\u001B[0m     \u001B[38;5;28;01mreturn\u001B[39;00m \u001B[43mfunc\u001B[49m\u001B[43m(\u001B[49m\u001B[38;5;241;43m*\u001B[39;49m\u001B[43margs\u001B[49m\u001B[43m,\u001B[49m\u001B[43m \u001B[49m\u001B[38;5;241;43m*\u001B[39;49m\u001B[38;5;241;43m*\u001B[39;49m\u001B[43mkwargs\u001B[49m\u001B[43m)\u001B[49m\n",
      "Input \u001B[0;32mIn [92]\u001B[0m, in \u001B[0;36m<lambda>\u001B[0;34m(x)\u001B[0m\n\u001B[0;32m----> 1\u001B[0m lien_df[\u001B[38;5;124m'\u001B[39m\u001B[38;5;124mregion_capital_geocode\u001B[39m\u001B[38;5;124m'\u001B[39m] \u001B[38;5;241m=\u001B[39m lien_df[\u001B[38;5;124m'\u001B[39m\u001B[38;5;124mregion_capital\u001B[39m\u001B[38;5;124m'\u001B[39m]\u001B[38;5;241m.\u001B[39mprogress_apply(\u001B[38;5;28;01mlambda\u001B[39;00m x: \u001B[43mget_city_geocode\u001B[49m\u001B[43m(\u001B[49m\u001B[43mx\u001B[49m\u001B[43m)\u001B[49m)\n",
      "Input \u001B[0;32mIn [88]\u001B[0m, in \u001B[0;36mget_city_geocode\u001B[0;34m(row)\u001B[0m\n\u001B[1;32m      7\u001B[0m \u001B[38;5;28;01mif\u001B[39;00m pd\u001B[38;5;241m.\u001B[39misnull(row):\n\u001B[1;32m      8\u001B[0m     \u001B[38;5;28;01mreturn\u001B[39;00m np\u001B[38;5;241m.\u001B[39mNaN\n\u001B[0;32m----> 9\u001B[0m \u001B[38;5;28;01mreturn\u001B[39;00m \u001B[38;5;28mlist\u001B[39m(\u001B[43mgeolocator\u001B[49m\u001B[38;5;241;43m.\u001B[39;49m\u001B[43mgeocode\u001B[49m\u001B[43m(\u001B[49m\u001B[38;5;28;43mstr\u001B[39;49m\u001B[43m(\u001B[49m\u001B[43mrow\u001B[49m\u001B[43m)\u001B[49m\u001B[43m)\u001B[49m\u001B[38;5;241m.\u001B[39mpoint[:\u001B[38;5;241m2\u001B[39m])\n",
      "File \u001B[0;32m~/PycharmProjects/portal_da/venv/lib/python3.8/site-packages/geopy/geocoders/nominatim.py:297\u001B[0m, in \u001B[0;36mNominatim.geocode\u001B[0;34m(self, query, exactly_one, timeout, limit, addressdetails, language, geometry, extratags, country_codes, viewbox, bounded, featuretype, namedetails)\u001B[0m\n\u001B[1;32m    295\u001B[0m logger\u001B[38;5;241m.\u001B[39mdebug(\u001B[38;5;124m\"\u001B[39m\u001B[38;5;132;01m%s\u001B[39;00m\u001B[38;5;124m.geocode: \u001B[39m\u001B[38;5;132;01m%s\u001B[39;00m\u001B[38;5;124m\"\u001B[39m, \u001B[38;5;28mself\u001B[39m\u001B[38;5;241m.\u001B[39m\u001B[38;5;18m__class__\u001B[39m\u001B[38;5;241m.\u001B[39m\u001B[38;5;18m__name__\u001B[39m, url)\n\u001B[1;32m    296\u001B[0m callback \u001B[38;5;241m=\u001B[39m partial(\u001B[38;5;28mself\u001B[39m\u001B[38;5;241m.\u001B[39m_parse_json, exactly_one\u001B[38;5;241m=\u001B[39mexactly_one)\n\u001B[0;32m--> 297\u001B[0m \u001B[38;5;28;01mreturn\u001B[39;00m \u001B[38;5;28;43mself\u001B[39;49m\u001B[38;5;241;43m.\u001B[39;49m\u001B[43m_call_geocoder\u001B[49m\u001B[43m(\u001B[49m\u001B[43murl\u001B[49m\u001B[43m,\u001B[49m\u001B[43m \u001B[49m\u001B[43mcallback\u001B[49m\u001B[43m,\u001B[49m\u001B[43m \u001B[49m\u001B[43mtimeout\u001B[49m\u001B[38;5;241;43m=\u001B[39;49m\u001B[43mtimeout\u001B[49m\u001B[43m)\u001B[49m\n",
      "File \u001B[0;32m~/PycharmProjects/portal_da/venv/lib/python3.8/site-packages/geopy/geocoders/base.py:368\u001B[0m, in \u001B[0;36mGeocoder._call_geocoder\u001B[0;34m(self, url, callback, timeout, is_json, headers)\u001B[0m\n\u001B[1;32m    366\u001B[0m \u001B[38;5;28;01mtry\u001B[39;00m:\n\u001B[1;32m    367\u001B[0m     \u001B[38;5;28;01mif\u001B[39;00m is_json:\n\u001B[0;32m--> 368\u001B[0m         result \u001B[38;5;241m=\u001B[39m \u001B[38;5;28;43mself\u001B[39;49m\u001B[38;5;241;43m.\u001B[39;49m\u001B[43madapter\u001B[49m\u001B[38;5;241;43m.\u001B[39;49m\u001B[43mget_json\u001B[49m\u001B[43m(\u001B[49m\u001B[43murl\u001B[49m\u001B[43m,\u001B[49m\u001B[43m \u001B[49m\u001B[43mtimeout\u001B[49m\u001B[38;5;241;43m=\u001B[39;49m\u001B[43mtimeout\u001B[49m\u001B[43m,\u001B[49m\u001B[43m \u001B[49m\u001B[43mheaders\u001B[49m\u001B[38;5;241;43m=\u001B[39;49m\u001B[43mreq_headers\u001B[49m\u001B[43m)\u001B[49m\n\u001B[1;32m    369\u001B[0m     \u001B[38;5;28;01melse\u001B[39;00m:\n\u001B[1;32m    370\u001B[0m         result \u001B[38;5;241m=\u001B[39m \u001B[38;5;28mself\u001B[39m\u001B[38;5;241m.\u001B[39madapter\u001B[38;5;241m.\u001B[39mget_text(url, timeout\u001B[38;5;241m=\u001B[39mtimeout, headers\u001B[38;5;241m=\u001B[39mreq_headers)\n",
      "File \u001B[0;32m~/PycharmProjects/portal_da/venv/lib/python3.8/site-packages/geopy/adapters.py:447\u001B[0m, in \u001B[0;36mRequestsAdapter.get_json\u001B[0;34m(self, url, timeout, headers)\u001B[0m\n\u001B[1;32m    446\u001B[0m \u001B[38;5;28;01mdef\u001B[39;00m \u001B[38;5;21mget_json\u001B[39m(\u001B[38;5;28mself\u001B[39m, url, \u001B[38;5;241m*\u001B[39m, timeout, headers):\n\u001B[0;32m--> 447\u001B[0m     resp \u001B[38;5;241m=\u001B[39m \u001B[38;5;28;43mself\u001B[39;49m\u001B[38;5;241;43m.\u001B[39;49m\u001B[43m_request\u001B[49m\u001B[43m(\u001B[49m\u001B[43murl\u001B[49m\u001B[43m,\u001B[49m\u001B[43m \u001B[49m\u001B[43mtimeout\u001B[49m\u001B[38;5;241;43m=\u001B[39;49m\u001B[43mtimeout\u001B[49m\u001B[43m,\u001B[49m\u001B[43m \u001B[49m\u001B[43mheaders\u001B[49m\u001B[38;5;241;43m=\u001B[39;49m\u001B[43mheaders\u001B[49m\u001B[43m)\u001B[49m\n\u001B[1;32m    448\u001B[0m     \u001B[38;5;28;01mtry\u001B[39;00m:\n\u001B[1;32m    449\u001B[0m         \u001B[38;5;28;01mreturn\u001B[39;00m resp\u001B[38;5;241m.\u001B[39mjson()\n",
      "File \u001B[0;32m~/PycharmProjects/portal_da/venv/lib/python3.8/site-packages/geopy/adapters.py:457\u001B[0m, in \u001B[0;36mRequestsAdapter._request\u001B[0;34m(self, url, timeout, headers)\u001B[0m\n\u001B[1;32m    455\u001B[0m \u001B[38;5;28;01mdef\u001B[39;00m \u001B[38;5;21m_request\u001B[39m(\u001B[38;5;28mself\u001B[39m, url, \u001B[38;5;241m*\u001B[39m, timeout, headers):\n\u001B[1;32m    456\u001B[0m     \u001B[38;5;28;01mtry\u001B[39;00m:\n\u001B[0;32m--> 457\u001B[0m         resp \u001B[38;5;241m=\u001B[39m \u001B[38;5;28;43mself\u001B[39;49m\u001B[38;5;241;43m.\u001B[39;49m\u001B[43msession\u001B[49m\u001B[38;5;241;43m.\u001B[39;49m\u001B[43mget\u001B[49m\u001B[43m(\u001B[49m\u001B[43murl\u001B[49m\u001B[43m,\u001B[49m\u001B[43m \u001B[49m\u001B[43mtimeout\u001B[49m\u001B[38;5;241;43m=\u001B[39;49m\u001B[43mtimeout\u001B[49m\u001B[43m,\u001B[49m\u001B[43m \u001B[49m\u001B[43mheaders\u001B[49m\u001B[38;5;241;43m=\u001B[39;49m\u001B[43mheaders\u001B[49m\u001B[43m)\u001B[49m\n\u001B[1;32m    458\u001B[0m     \u001B[38;5;28;01mexcept\u001B[39;00m \u001B[38;5;167;01mException\u001B[39;00m \u001B[38;5;28;01mas\u001B[39;00m error:\n\u001B[1;32m    459\u001B[0m         message \u001B[38;5;241m=\u001B[39m \u001B[38;5;28mstr\u001B[39m(error)\n",
      "File \u001B[0;32m~/Library/Python/3.8/lib/python/site-packages/requests/sessions.py:600\u001B[0m, in \u001B[0;36mSession.get\u001B[0;34m(self, url, **kwargs)\u001B[0m\n\u001B[1;32m    592\u001B[0m \u001B[38;5;124mr\u001B[39m\u001B[38;5;124;03m\"\"\"Sends a GET request. Returns :class:`Response` object.\u001B[39;00m\n\u001B[1;32m    593\u001B[0m \n\u001B[1;32m    594\u001B[0m \u001B[38;5;124;03m:param url: URL for the new :class:`Request` object.\u001B[39;00m\n\u001B[1;32m    595\u001B[0m \u001B[38;5;124;03m:param \\*\\*kwargs: Optional arguments that ``request`` takes.\u001B[39;00m\n\u001B[1;32m    596\u001B[0m \u001B[38;5;124;03m:rtype: requests.Response\u001B[39;00m\n\u001B[1;32m    597\u001B[0m \u001B[38;5;124;03m\"\"\"\u001B[39;00m\n\u001B[1;32m    599\u001B[0m kwargs\u001B[38;5;241m.\u001B[39msetdefault(\u001B[38;5;124m\"\u001B[39m\u001B[38;5;124mallow_redirects\u001B[39m\u001B[38;5;124m\"\u001B[39m, \u001B[38;5;28;01mTrue\u001B[39;00m)\n\u001B[0;32m--> 600\u001B[0m \u001B[38;5;28;01mreturn\u001B[39;00m \u001B[38;5;28;43mself\u001B[39;49m\u001B[38;5;241;43m.\u001B[39;49m\u001B[43mrequest\u001B[49m\u001B[43m(\u001B[49m\u001B[38;5;124;43m\"\u001B[39;49m\u001B[38;5;124;43mGET\u001B[39;49m\u001B[38;5;124;43m\"\u001B[39;49m\u001B[43m,\u001B[49m\u001B[43m \u001B[49m\u001B[43murl\u001B[49m\u001B[43m,\u001B[49m\u001B[43m \u001B[49m\u001B[38;5;241;43m*\u001B[39;49m\u001B[38;5;241;43m*\u001B[39;49m\u001B[43mkwargs\u001B[49m\u001B[43m)\u001B[49m\n",
      "File \u001B[0;32m~/Library/Python/3.8/lib/python/site-packages/requests/sessions.py:587\u001B[0m, in \u001B[0;36mSession.request\u001B[0;34m(self, method, url, params, data, headers, cookies, files, auth, timeout, allow_redirects, proxies, hooks, stream, verify, cert, json)\u001B[0m\n\u001B[1;32m    582\u001B[0m send_kwargs \u001B[38;5;241m=\u001B[39m {\n\u001B[1;32m    583\u001B[0m     \u001B[38;5;124m\"\u001B[39m\u001B[38;5;124mtimeout\u001B[39m\u001B[38;5;124m\"\u001B[39m: timeout,\n\u001B[1;32m    584\u001B[0m     \u001B[38;5;124m\"\u001B[39m\u001B[38;5;124mallow_redirects\u001B[39m\u001B[38;5;124m\"\u001B[39m: allow_redirects,\n\u001B[1;32m    585\u001B[0m }\n\u001B[1;32m    586\u001B[0m send_kwargs\u001B[38;5;241m.\u001B[39mupdate(settings)\n\u001B[0;32m--> 587\u001B[0m resp \u001B[38;5;241m=\u001B[39m \u001B[38;5;28;43mself\u001B[39;49m\u001B[38;5;241;43m.\u001B[39;49m\u001B[43msend\u001B[49m\u001B[43m(\u001B[49m\u001B[43mprep\u001B[49m\u001B[43m,\u001B[49m\u001B[43m \u001B[49m\u001B[38;5;241;43m*\u001B[39;49m\u001B[38;5;241;43m*\u001B[39;49m\u001B[43msend_kwargs\u001B[49m\u001B[43m)\u001B[49m\n\u001B[1;32m    589\u001B[0m \u001B[38;5;28;01mreturn\u001B[39;00m resp\n",
      "File \u001B[0;32m~/Library/Python/3.8/lib/python/site-packages/requests/sessions.py:701\u001B[0m, in \u001B[0;36mSession.send\u001B[0;34m(self, request, **kwargs)\u001B[0m\n\u001B[1;32m    698\u001B[0m start \u001B[38;5;241m=\u001B[39m preferred_clock()\n\u001B[1;32m    700\u001B[0m \u001B[38;5;66;03m# Send the request\u001B[39;00m\n\u001B[0;32m--> 701\u001B[0m r \u001B[38;5;241m=\u001B[39m \u001B[43madapter\u001B[49m\u001B[38;5;241;43m.\u001B[39;49m\u001B[43msend\u001B[49m\u001B[43m(\u001B[49m\u001B[43mrequest\u001B[49m\u001B[43m,\u001B[49m\u001B[43m \u001B[49m\u001B[38;5;241;43m*\u001B[39;49m\u001B[38;5;241;43m*\u001B[39;49m\u001B[43mkwargs\u001B[49m\u001B[43m)\u001B[49m\n\u001B[1;32m    703\u001B[0m \u001B[38;5;66;03m# Total elapsed time of the request (approximately)\u001B[39;00m\n\u001B[1;32m    704\u001B[0m elapsed \u001B[38;5;241m=\u001B[39m preferred_clock() \u001B[38;5;241m-\u001B[39m start\n",
      "File \u001B[0;32m~/Library/Python/3.8/lib/python/site-packages/requests/adapters.py:489\u001B[0m, in \u001B[0;36mHTTPAdapter.send\u001B[0;34m(self, request, stream, timeout, verify, cert, proxies)\u001B[0m\n\u001B[1;32m    487\u001B[0m \u001B[38;5;28;01mtry\u001B[39;00m:\n\u001B[1;32m    488\u001B[0m     \u001B[38;5;28;01mif\u001B[39;00m \u001B[38;5;129;01mnot\u001B[39;00m chunked:\n\u001B[0;32m--> 489\u001B[0m         resp \u001B[38;5;241m=\u001B[39m \u001B[43mconn\u001B[49m\u001B[38;5;241;43m.\u001B[39;49m\u001B[43murlopen\u001B[49m\u001B[43m(\u001B[49m\n\u001B[1;32m    490\u001B[0m \u001B[43m            \u001B[49m\u001B[43mmethod\u001B[49m\u001B[38;5;241;43m=\u001B[39;49m\u001B[43mrequest\u001B[49m\u001B[38;5;241;43m.\u001B[39;49m\u001B[43mmethod\u001B[49m\u001B[43m,\u001B[49m\n\u001B[1;32m    491\u001B[0m \u001B[43m            \u001B[49m\u001B[43murl\u001B[49m\u001B[38;5;241;43m=\u001B[39;49m\u001B[43murl\u001B[49m\u001B[43m,\u001B[49m\n\u001B[1;32m    492\u001B[0m \u001B[43m            \u001B[49m\u001B[43mbody\u001B[49m\u001B[38;5;241;43m=\u001B[39;49m\u001B[43mrequest\u001B[49m\u001B[38;5;241;43m.\u001B[39;49m\u001B[43mbody\u001B[49m\u001B[43m,\u001B[49m\n\u001B[1;32m    493\u001B[0m \u001B[43m            \u001B[49m\u001B[43mheaders\u001B[49m\u001B[38;5;241;43m=\u001B[39;49m\u001B[43mrequest\u001B[49m\u001B[38;5;241;43m.\u001B[39;49m\u001B[43mheaders\u001B[49m\u001B[43m,\u001B[49m\n\u001B[1;32m    494\u001B[0m \u001B[43m            \u001B[49m\u001B[43mredirect\u001B[49m\u001B[38;5;241;43m=\u001B[39;49m\u001B[38;5;28;43;01mFalse\u001B[39;49;00m\u001B[43m,\u001B[49m\n\u001B[1;32m    495\u001B[0m \u001B[43m            \u001B[49m\u001B[43massert_same_host\u001B[49m\u001B[38;5;241;43m=\u001B[39;49m\u001B[38;5;28;43;01mFalse\u001B[39;49;00m\u001B[43m,\u001B[49m\n\u001B[1;32m    496\u001B[0m \u001B[43m            \u001B[49m\u001B[43mpreload_content\u001B[49m\u001B[38;5;241;43m=\u001B[39;49m\u001B[38;5;28;43;01mFalse\u001B[39;49;00m\u001B[43m,\u001B[49m\n\u001B[1;32m    497\u001B[0m \u001B[43m            \u001B[49m\u001B[43mdecode_content\u001B[49m\u001B[38;5;241;43m=\u001B[39;49m\u001B[38;5;28;43;01mFalse\u001B[39;49;00m\u001B[43m,\u001B[49m\n\u001B[1;32m    498\u001B[0m \u001B[43m            \u001B[49m\u001B[43mretries\u001B[49m\u001B[38;5;241;43m=\u001B[39;49m\u001B[38;5;28;43mself\u001B[39;49m\u001B[38;5;241;43m.\u001B[39;49m\u001B[43mmax_retries\u001B[49m\u001B[43m,\u001B[49m\n\u001B[1;32m    499\u001B[0m \u001B[43m            \u001B[49m\u001B[43mtimeout\u001B[49m\u001B[38;5;241;43m=\u001B[39;49m\u001B[43mtimeout\u001B[49m\u001B[43m,\u001B[49m\n\u001B[1;32m    500\u001B[0m \u001B[43m        \u001B[49m\u001B[43m)\u001B[49m\n\u001B[1;32m    502\u001B[0m     \u001B[38;5;66;03m# Send the request.\u001B[39;00m\n\u001B[1;32m    503\u001B[0m     \u001B[38;5;28;01melse\u001B[39;00m:\n\u001B[1;32m    504\u001B[0m         \u001B[38;5;28;01mif\u001B[39;00m \u001B[38;5;28mhasattr\u001B[39m(conn, \u001B[38;5;124m\"\u001B[39m\u001B[38;5;124mproxy_pool\u001B[39m\u001B[38;5;124m\"\u001B[39m):\n",
      "File \u001B[0;32m~/Library/Python/3.8/lib/python/site-packages/urllib3/connectionpool.py:703\u001B[0m, in \u001B[0;36mHTTPConnectionPool.urlopen\u001B[0;34m(self, method, url, body, headers, retries, redirect, assert_same_host, timeout, pool_timeout, release_conn, chunked, body_pos, **response_kw)\u001B[0m\n\u001B[1;32m    700\u001B[0m     \u001B[38;5;28mself\u001B[39m\u001B[38;5;241m.\u001B[39m_prepare_proxy(conn)\n\u001B[1;32m    702\u001B[0m \u001B[38;5;66;03m# Make the request on the httplib connection object.\u001B[39;00m\n\u001B[0;32m--> 703\u001B[0m httplib_response \u001B[38;5;241m=\u001B[39m \u001B[38;5;28;43mself\u001B[39;49m\u001B[38;5;241;43m.\u001B[39;49m\u001B[43m_make_request\u001B[49m\u001B[43m(\u001B[49m\n\u001B[1;32m    704\u001B[0m \u001B[43m    \u001B[49m\u001B[43mconn\u001B[49m\u001B[43m,\u001B[49m\n\u001B[1;32m    705\u001B[0m \u001B[43m    \u001B[49m\u001B[43mmethod\u001B[49m\u001B[43m,\u001B[49m\n\u001B[1;32m    706\u001B[0m \u001B[43m    \u001B[49m\u001B[43murl\u001B[49m\u001B[43m,\u001B[49m\n\u001B[1;32m    707\u001B[0m \u001B[43m    \u001B[49m\u001B[43mtimeout\u001B[49m\u001B[38;5;241;43m=\u001B[39;49m\u001B[43mtimeout_obj\u001B[49m\u001B[43m,\u001B[49m\n\u001B[1;32m    708\u001B[0m \u001B[43m    \u001B[49m\u001B[43mbody\u001B[49m\u001B[38;5;241;43m=\u001B[39;49m\u001B[43mbody\u001B[49m\u001B[43m,\u001B[49m\n\u001B[1;32m    709\u001B[0m \u001B[43m    \u001B[49m\u001B[43mheaders\u001B[49m\u001B[38;5;241;43m=\u001B[39;49m\u001B[43mheaders\u001B[49m\u001B[43m,\u001B[49m\n\u001B[1;32m    710\u001B[0m \u001B[43m    \u001B[49m\u001B[43mchunked\u001B[49m\u001B[38;5;241;43m=\u001B[39;49m\u001B[43mchunked\u001B[49m\u001B[43m,\u001B[49m\n\u001B[1;32m    711\u001B[0m \u001B[43m\u001B[49m\u001B[43m)\u001B[49m\n\u001B[1;32m    713\u001B[0m \u001B[38;5;66;03m# If we're going to release the connection in ``finally:``, then\u001B[39;00m\n\u001B[1;32m    714\u001B[0m \u001B[38;5;66;03m# the response doesn't need to know about the connection. Otherwise\u001B[39;00m\n\u001B[1;32m    715\u001B[0m \u001B[38;5;66;03m# it will also try to release it and we'll have a double-release\u001B[39;00m\n\u001B[1;32m    716\u001B[0m \u001B[38;5;66;03m# mess.\u001B[39;00m\n\u001B[1;32m    717\u001B[0m response_conn \u001B[38;5;241m=\u001B[39m conn \u001B[38;5;28;01mif\u001B[39;00m \u001B[38;5;129;01mnot\u001B[39;00m release_conn \u001B[38;5;28;01melse\u001B[39;00m \u001B[38;5;28;01mNone\u001B[39;00m\n",
      "File \u001B[0;32m~/Library/Python/3.8/lib/python/site-packages/urllib3/connectionpool.py:449\u001B[0m, in \u001B[0;36mHTTPConnectionPool._make_request\u001B[0;34m(self, conn, method, url, timeout, chunked, **httplib_request_kw)\u001B[0m\n\u001B[1;32m    444\u001B[0m             httplib_response \u001B[38;5;241m=\u001B[39m conn\u001B[38;5;241m.\u001B[39mgetresponse()\n\u001B[1;32m    445\u001B[0m         \u001B[38;5;28;01mexcept\u001B[39;00m \u001B[38;5;167;01mBaseException\u001B[39;00m \u001B[38;5;28;01mas\u001B[39;00m e:\n\u001B[1;32m    446\u001B[0m             \u001B[38;5;66;03m# Remove the TypeError from the exception chain in\u001B[39;00m\n\u001B[1;32m    447\u001B[0m             \u001B[38;5;66;03m# Python 3 (including for exceptions like SystemExit).\u001B[39;00m\n\u001B[1;32m    448\u001B[0m             \u001B[38;5;66;03m# Otherwise it looks like a bug in the code.\u001B[39;00m\n\u001B[0;32m--> 449\u001B[0m             \u001B[43msix\u001B[49m\u001B[38;5;241;43m.\u001B[39;49m\u001B[43mraise_from\u001B[49m\u001B[43m(\u001B[49m\u001B[43me\u001B[49m\u001B[43m,\u001B[49m\u001B[43m \u001B[49m\u001B[38;5;28;43;01mNone\u001B[39;49;00m\u001B[43m)\u001B[49m\n\u001B[1;32m    450\u001B[0m \u001B[38;5;28;01mexcept\u001B[39;00m (SocketTimeout, BaseSSLError, SocketError) \u001B[38;5;28;01mas\u001B[39;00m e:\n\u001B[1;32m    451\u001B[0m     \u001B[38;5;28mself\u001B[39m\u001B[38;5;241m.\u001B[39m_raise_timeout(err\u001B[38;5;241m=\u001B[39me, url\u001B[38;5;241m=\u001B[39murl, timeout_value\u001B[38;5;241m=\u001B[39mread_timeout)\n",
      "File \u001B[0;32m<string>:3\u001B[0m, in \u001B[0;36mraise_from\u001B[0;34m(value, from_value)\u001B[0m\n",
      "File \u001B[0;32m~/Library/Python/3.8/lib/python/site-packages/urllib3/connectionpool.py:444\u001B[0m, in \u001B[0;36mHTTPConnectionPool._make_request\u001B[0;34m(self, conn, method, url, timeout, chunked, **httplib_request_kw)\u001B[0m\n\u001B[1;32m    441\u001B[0m \u001B[38;5;28;01mexcept\u001B[39;00m \u001B[38;5;167;01mTypeError\u001B[39;00m:\n\u001B[1;32m    442\u001B[0m     \u001B[38;5;66;03m# Python 3\u001B[39;00m\n\u001B[1;32m    443\u001B[0m     \u001B[38;5;28;01mtry\u001B[39;00m:\n\u001B[0;32m--> 444\u001B[0m         httplib_response \u001B[38;5;241m=\u001B[39m \u001B[43mconn\u001B[49m\u001B[38;5;241;43m.\u001B[39;49m\u001B[43mgetresponse\u001B[49m\u001B[43m(\u001B[49m\u001B[43m)\u001B[49m\n\u001B[1;32m    445\u001B[0m     \u001B[38;5;28;01mexcept\u001B[39;00m \u001B[38;5;167;01mBaseException\u001B[39;00m \u001B[38;5;28;01mas\u001B[39;00m e:\n\u001B[1;32m    446\u001B[0m         \u001B[38;5;66;03m# Remove the TypeError from the exception chain in\u001B[39;00m\n\u001B[1;32m    447\u001B[0m         \u001B[38;5;66;03m# Python 3 (including for exceptions like SystemExit).\u001B[39;00m\n\u001B[1;32m    448\u001B[0m         \u001B[38;5;66;03m# Otherwise it looks like a bug in the code.\u001B[39;00m\n\u001B[1;32m    449\u001B[0m         six\u001B[38;5;241m.\u001B[39mraise_from(e, \u001B[38;5;28;01mNone\u001B[39;00m)\n",
      "File \u001B[0;32m/Library/Developer/CommandLineTools/Library/Frameworks/Python3.framework/Versions/3.8/lib/python3.8/http/client.py:1344\u001B[0m, in \u001B[0;36mHTTPConnection.getresponse\u001B[0;34m(self)\u001B[0m\n\u001B[1;32m   1342\u001B[0m \u001B[38;5;28;01mtry\u001B[39;00m:\n\u001B[1;32m   1343\u001B[0m     \u001B[38;5;28;01mtry\u001B[39;00m:\n\u001B[0;32m-> 1344\u001B[0m         \u001B[43mresponse\u001B[49m\u001B[38;5;241;43m.\u001B[39;49m\u001B[43mbegin\u001B[49m\u001B[43m(\u001B[49m\u001B[43m)\u001B[49m\n\u001B[1;32m   1345\u001B[0m     \u001B[38;5;28;01mexcept\u001B[39;00m \u001B[38;5;167;01mConnectionError\u001B[39;00m:\n\u001B[1;32m   1346\u001B[0m         \u001B[38;5;28mself\u001B[39m\u001B[38;5;241m.\u001B[39mclose()\n",
      "File \u001B[0;32m/Library/Developer/CommandLineTools/Library/Frameworks/Python3.framework/Versions/3.8/lib/python3.8/http/client.py:307\u001B[0m, in \u001B[0;36mHTTPResponse.begin\u001B[0;34m(self)\u001B[0m\n\u001B[1;32m    305\u001B[0m \u001B[38;5;66;03m# read until we get a non-100 response\u001B[39;00m\n\u001B[1;32m    306\u001B[0m \u001B[38;5;28;01mwhile\u001B[39;00m \u001B[38;5;28;01mTrue\u001B[39;00m:\n\u001B[0;32m--> 307\u001B[0m     version, status, reason \u001B[38;5;241m=\u001B[39m \u001B[38;5;28;43mself\u001B[39;49m\u001B[38;5;241;43m.\u001B[39;49m\u001B[43m_read_status\u001B[49m\u001B[43m(\u001B[49m\u001B[43m)\u001B[49m\n\u001B[1;32m    308\u001B[0m     \u001B[38;5;28;01mif\u001B[39;00m status \u001B[38;5;241m!=\u001B[39m CONTINUE:\n\u001B[1;32m    309\u001B[0m         \u001B[38;5;28;01mbreak\u001B[39;00m\n",
      "File \u001B[0;32m/Library/Developer/CommandLineTools/Library/Frameworks/Python3.framework/Versions/3.8/lib/python3.8/http/client.py:268\u001B[0m, in \u001B[0;36mHTTPResponse._read_status\u001B[0;34m(self)\u001B[0m\n\u001B[1;32m    267\u001B[0m \u001B[38;5;28;01mdef\u001B[39;00m \u001B[38;5;21m_read_status\u001B[39m(\u001B[38;5;28mself\u001B[39m):\n\u001B[0;32m--> 268\u001B[0m     line \u001B[38;5;241m=\u001B[39m \u001B[38;5;28mstr\u001B[39m(\u001B[38;5;28;43mself\u001B[39;49m\u001B[38;5;241;43m.\u001B[39;49m\u001B[43mfp\u001B[49m\u001B[38;5;241;43m.\u001B[39;49m\u001B[43mreadline\u001B[49m\u001B[43m(\u001B[49m\u001B[43m_MAXLINE\u001B[49m\u001B[43m \u001B[49m\u001B[38;5;241;43m+\u001B[39;49m\u001B[43m \u001B[49m\u001B[38;5;241;43m1\u001B[39;49m\u001B[43m)\u001B[49m, \u001B[38;5;124m\"\u001B[39m\u001B[38;5;124miso-8859-1\u001B[39m\u001B[38;5;124m\"\u001B[39m)\n\u001B[1;32m    269\u001B[0m     \u001B[38;5;28;01mif\u001B[39;00m \u001B[38;5;28mlen\u001B[39m(line) \u001B[38;5;241m>\u001B[39m _MAXLINE:\n\u001B[1;32m    270\u001B[0m         \u001B[38;5;28;01mraise\u001B[39;00m LineTooLong(\u001B[38;5;124m\"\u001B[39m\u001B[38;5;124mstatus line\u001B[39m\u001B[38;5;124m\"\u001B[39m)\n",
      "File \u001B[0;32m/Library/Developer/CommandLineTools/Library/Frameworks/Python3.framework/Versions/3.8/lib/python3.8/socket.py:669\u001B[0m, in \u001B[0;36mSocketIO.readinto\u001B[0;34m(self, b)\u001B[0m\n\u001B[1;32m    667\u001B[0m \u001B[38;5;28;01mwhile\u001B[39;00m \u001B[38;5;28;01mTrue\u001B[39;00m:\n\u001B[1;32m    668\u001B[0m     \u001B[38;5;28;01mtry\u001B[39;00m:\n\u001B[0;32m--> 669\u001B[0m         \u001B[38;5;28;01mreturn\u001B[39;00m \u001B[38;5;28;43mself\u001B[39;49m\u001B[38;5;241;43m.\u001B[39;49m\u001B[43m_sock\u001B[49m\u001B[38;5;241;43m.\u001B[39;49m\u001B[43mrecv_into\u001B[49m\u001B[43m(\u001B[49m\u001B[43mb\u001B[49m\u001B[43m)\u001B[49m\n\u001B[1;32m    670\u001B[0m     \u001B[38;5;28;01mexcept\u001B[39;00m timeout:\n\u001B[1;32m    671\u001B[0m         \u001B[38;5;28mself\u001B[39m\u001B[38;5;241m.\u001B[39m_timeout_occurred \u001B[38;5;241m=\u001B[39m \u001B[38;5;28;01mTrue\u001B[39;00m\n",
      "File \u001B[0;32m/Library/Developer/CommandLineTools/Library/Frameworks/Python3.framework/Versions/3.8/lib/python3.8/ssl.py:1241\u001B[0m, in \u001B[0;36mSSLSocket.recv_into\u001B[0;34m(self, buffer, nbytes, flags)\u001B[0m\n\u001B[1;32m   1237\u001B[0m     \u001B[38;5;28;01mif\u001B[39;00m flags \u001B[38;5;241m!=\u001B[39m \u001B[38;5;241m0\u001B[39m:\n\u001B[1;32m   1238\u001B[0m         \u001B[38;5;28;01mraise\u001B[39;00m \u001B[38;5;167;01mValueError\u001B[39;00m(\n\u001B[1;32m   1239\u001B[0m           \u001B[38;5;124m\"\u001B[39m\u001B[38;5;124mnon-zero flags not allowed in calls to recv_into() on \u001B[39m\u001B[38;5;132;01m%s\u001B[39;00m\u001B[38;5;124m\"\u001B[39m \u001B[38;5;241m%\u001B[39m\n\u001B[1;32m   1240\u001B[0m           \u001B[38;5;28mself\u001B[39m\u001B[38;5;241m.\u001B[39m\u001B[38;5;18m__class__\u001B[39m)\n\u001B[0;32m-> 1241\u001B[0m     \u001B[38;5;28;01mreturn\u001B[39;00m \u001B[38;5;28;43mself\u001B[39;49m\u001B[38;5;241;43m.\u001B[39;49m\u001B[43mread\u001B[49m\u001B[43m(\u001B[49m\u001B[43mnbytes\u001B[49m\u001B[43m,\u001B[49m\u001B[43m \u001B[49m\u001B[43mbuffer\u001B[49m\u001B[43m)\u001B[49m\n\u001B[1;32m   1242\u001B[0m \u001B[38;5;28;01melse\u001B[39;00m:\n\u001B[1;32m   1243\u001B[0m     \u001B[38;5;28;01mreturn\u001B[39;00m \u001B[38;5;28msuper\u001B[39m()\u001B[38;5;241m.\u001B[39mrecv_into(buffer, nbytes, flags)\n",
      "File \u001B[0;32m/Library/Developer/CommandLineTools/Library/Frameworks/Python3.framework/Versions/3.8/lib/python3.8/ssl.py:1099\u001B[0m, in \u001B[0;36mSSLSocket.read\u001B[0;34m(self, len, buffer)\u001B[0m\n\u001B[1;32m   1097\u001B[0m \u001B[38;5;28;01mtry\u001B[39;00m:\n\u001B[1;32m   1098\u001B[0m     \u001B[38;5;28;01mif\u001B[39;00m buffer \u001B[38;5;129;01mis\u001B[39;00m \u001B[38;5;129;01mnot\u001B[39;00m \u001B[38;5;28;01mNone\u001B[39;00m:\n\u001B[0;32m-> 1099\u001B[0m         \u001B[38;5;28;01mreturn\u001B[39;00m \u001B[38;5;28;43mself\u001B[39;49m\u001B[38;5;241;43m.\u001B[39;49m\u001B[43m_sslobj\u001B[49m\u001B[38;5;241;43m.\u001B[39;49m\u001B[43mread\u001B[49m\u001B[43m(\u001B[49m\u001B[38;5;28;43mlen\u001B[39;49m\u001B[43m,\u001B[49m\u001B[43m \u001B[49m\u001B[43mbuffer\u001B[49m\u001B[43m)\u001B[49m\n\u001B[1;32m   1100\u001B[0m     \u001B[38;5;28;01melse\u001B[39;00m:\n\u001B[1;32m   1101\u001B[0m         \u001B[38;5;28;01mreturn\u001B[39;00m \u001B[38;5;28mself\u001B[39m\u001B[38;5;241m.\u001B[39m_sslobj\u001B[38;5;241m.\u001B[39mread(\u001B[38;5;28mlen\u001B[39m)\n",
      "\u001B[0;31mKeyboardInterrupt\u001B[0m: "
     ]
    }
   ],
   "source": [],
   "metadata": {
    "collapsed": false,
    "pycharm": {
     "name": "#%%\n"
    }
   }
  },
  {
   "cell_type": "code",
   "execution_count": 96,
   "outputs": [],
   "source": [
    "buf_df = lien_df['region_capital'].drop_duplicates()"
   ],
   "metadata": {
    "collapsed": false,
    "pycharm": {
     "name": "#%%\n"
    }
   }
  },
  {
   "cell_type": "code",
   "execution_count": 103,
   "outputs": [
    {
     "data": {
      "text/plain": "  0%|          | 0/65 [00:00<?, ?it/s]",
      "application/vnd.jupyter.widget-view+json": {
       "version_major": 2,
       "version_minor": 0,
       "model_id": "7a3aafe44941430f9c6b36c4c81a01be"
      }
     },
     "metadata": {},
     "output_type": "display_data"
    }
   ],
   "source": [
    "buf_df['region_capital_geocode'] = buf_df['region_capital'].progress_apply(lambda x: get_city_geocode(x))"
   ],
   "metadata": {
    "collapsed": false,
    "pycharm": {
     "name": "#%%\n"
    }
   }
  },
  {
   "cell_type": "code",
   "execution_count": 105,
   "outputs": [],
   "source": [
    "lien_df = lien_df.merge(buf_df, on='region_capital', how='left')"
   ],
   "metadata": {
    "collapsed": false,
    "pycharm": {
     "name": "#%%\n"
    }
   }
  },
  {
   "cell_type": "code",
   "execution_count": 107,
   "outputs": [
    {
     "data": {
      "text/plain": "      asset_id   views publication_date                contact_name  \\\n0     814114.0  1535.0   15 ноября 2022      Контактный Центр Банка   \n1     814114.0  1535.0   15 ноября 2022      Контактный Центр Банка   \n2     814114.0  1535.0   15 ноября 2022      Контактный Центр Банка   \n3     814114.0  1535.0   15 ноября 2022      Контактный Центр Банка   \n4     641505.0  2311.0    31 марта 2022  Гаас Александра Георгиевна   \n...        ...     ...              ...                         ...   \n1118  691104.0   269.0      20 мая 2021      Коваленко Александр Ан   \n1119  630263.0   279.0      20 мая 2021      Коваленко Александр Ан   \n1120  177552.0   281.0      20 мая 2021      Коваленко Александр Ан   \n1121  841885.0   610.0      11 мая 2021    Нуриев Эдуард Рамзилович   \n1122  419254.0   461.0   22 апреля 2021  Самойленко Денис Сергеевич   \n\n              seller_name    square  price_value  \\\n0          Банк ВТБ (ПАО)       NaN   48700000.0   \n1          Банк ВТБ (ПАО)       NaN   48700000.0   \n2          Банк ВТБ (ПАО)       NaN   48700000.0   \n3          Банк ВТБ (ПАО)       NaN   48700000.0   \n4         Физическое лицо   25111.0  145500000.0   \n...                   ...       ...          ...   \n1118  АО \"Россельхозбанк\"    1527.0   10709963.0   \n1119  АО \"Россельхозбанк\"    1321.0    9265136.0   \n1120  АО \"Россельхозбанк\"    1676.0   11755032.0   \n1121  АО \"Россельхозбанк\"  150100.0     226651.0   \n1122         ПАО Сбербанк   10000.0    8270000.0   \n\n                            cadastral_geocode  \\\n0                                         NaN   \n1                                         NaN   \n2                                         NaN   \n3                                         NaN   \n4      [51.94720028246027, 84.88831594503662]   \n...                                       ...   \n1118   [56.21913602478085, 38.82900562858026]   \n1119  [56.220926330893064, 38.83048310378695]   \n1120    [56.21983629294916, 38.8300820194728]   \n1121  [55.822853130025955, 52.73092958759532]   \n1122   [57.14073651577907, 33.14393000643601]   \n\n                               region_geocode  shown_by_days   distance  \\\n0                    [55.6711507, 37.2727963]      64.884407        NaN   \n1                    [55.6711507, 37.2727963]      64.884407        NaN   \n2                    [55.6711507, 37.2727963]      64.884407        NaN   \n3                    [55.6711507, 37.2727963]      64.884407        NaN   \n4                    [51.9931851, 84.9819571]     293.884407   8.221511   \n...                                       ...            ...        ...   \n1118          [56.1345574, 38.85192758087219]     608.884408   9.524407   \n1119          [56.1345574, 38.85192758087219]     608.884408   9.708539   \n1120          [56.1345574, 38.85192758087219]     608.884408   9.591824   \n1121  [55.682141200000004, 52.09069161386946]     617.884408  43.145711   \n1122                 [57.1557583, 33.1013213]     636.884408   3.074139   \n\n      region_square  population region_capital     grp  criminality  \\\n0           44329.0   8542257.0         Москва  4201.8         72.9   \n1           44329.0   8542257.0         Москва  4201.8         72.9   \n2           44329.0   8542257.0         Москва  4201.8         72.9   \n3           44329.0   8542257.0         Москва  4201.8         72.9   \n4          167996.0   2154932.0        Барнаул   550.0        130.8   \n...             ...         ...            ...     ...          ...   \n1118        29084.0   1342235.0       Владимир   440.5         91.1   \n1119        29084.0   1342235.0       Владимир   440.5         91.1   \n1120        29084.0   1342235.0       Владимир   440.5         91.1   \n1121        67847.0   4000084.0         Казань  2469.2        102.1   \n1122        84201.0   1226038.0          Тверь   441.7        130.5   \n\n        km_to_msk           region_capital_geocode  \n0       23.785924         [55.7504461, 37.6174943]  \n1       23.785924         [55.7504461, 37.6174943]  \n2       23.785924         [55.7504461, 37.6174943]  \n3       23.785924         [55.7504461, 37.6174943]  \n4     3077.808288          [53.347402, 83.7784496]  \n...           ...                              ...  \n1118    91.247107         [56.1288899, 40.4075203]  \n1119    91.433379         [56.1288899, 40.4075203]  \n1120    91.345769         [56.1288899, 40.4075203]  \n1121   946.305150         [55.7823547, 49.1242266]  \n1122   315.461761  [56.8596713, 35.89524161906262]  \n\n[1123 rows x 18 columns]",
      "text/html": "<div>\n<style scoped>\n    .dataframe tbody tr th:only-of-type {\n        vertical-align: middle;\n    }\n\n    .dataframe tbody tr th {\n        vertical-align: top;\n    }\n\n    .dataframe thead th {\n        text-align: right;\n    }\n</style>\n<table border=\"1\" class=\"dataframe\">\n  <thead>\n    <tr style=\"text-align: right;\">\n      <th></th>\n      <th>asset_id</th>\n      <th>views</th>\n      <th>publication_date</th>\n      <th>contact_name</th>\n      <th>seller_name</th>\n      <th>square</th>\n      <th>price_value</th>\n      <th>cadastral_geocode</th>\n      <th>region_geocode</th>\n      <th>shown_by_days</th>\n      <th>distance</th>\n      <th>region_square</th>\n      <th>population</th>\n      <th>region_capital</th>\n      <th>grp</th>\n      <th>criminality</th>\n      <th>km_to_msk</th>\n      <th>region_capital_geocode</th>\n    </tr>\n  </thead>\n  <tbody>\n    <tr>\n      <th>0</th>\n      <td>814114.0</td>\n      <td>1535.0</td>\n      <td>15 ноября 2022</td>\n      <td>Контактный Центр Банка</td>\n      <td>Банк ВТБ (ПАО)</td>\n      <td>NaN</td>\n      <td>48700000.0</td>\n      <td>NaN</td>\n      <td>[55.6711507, 37.2727963]</td>\n      <td>64.884407</td>\n      <td>NaN</td>\n      <td>44329.0</td>\n      <td>8542257.0</td>\n      <td>Москва</td>\n      <td>4201.8</td>\n      <td>72.9</td>\n      <td>23.785924</td>\n      <td>[55.7504461, 37.6174943]</td>\n    </tr>\n    <tr>\n      <th>1</th>\n      <td>814114.0</td>\n      <td>1535.0</td>\n      <td>15 ноября 2022</td>\n      <td>Контактный Центр Банка</td>\n      <td>Банк ВТБ (ПАО)</td>\n      <td>NaN</td>\n      <td>48700000.0</td>\n      <td>NaN</td>\n      <td>[55.6711507, 37.2727963]</td>\n      <td>64.884407</td>\n      <td>NaN</td>\n      <td>44329.0</td>\n      <td>8542257.0</td>\n      <td>Москва</td>\n      <td>4201.8</td>\n      <td>72.9</td>\n      <td>23.785924</td>\n      <td>[55.7504461, 37.6174943]</td>\n    </tr>\n    <tr>\n      <th>2</th>\n      <td>814114.0</td>\n      <td>1535.0</td>\n      <td>15 ноября 2022</td>\n      <td>Контактный Центр Банка</td>\n      <td>Банк ВТБ (ПАО)</td>\n      <td>NaN</td>\n      <td>48700000.0</td>\n      <td>NaN</td>\n      <td>[55.6711507, 37.2727963]</td>\n      <td>64.884407</td>\n      <td>NaN</td>\n      <td>44329.0</td>\n      <td>8542257.0</td>\n      <td>Москва</td>\n      <td>4201.8</td>\n      <td>72.9</td>\n      <td>23.785924</td>\n      <td>[55.7504461, 37.6174943]</td>\n    </tr>\n    <tr>\n      <th>3</th>\n      <td>814114.0</td>\n      <td>1535.0</td>\n      <td>15 ноября 2022</td>\n      <td>Контактный Центр Банка</td>\n      <td>Банк ВТБ (ПАО)</td>\n      <td>NaN</td>\n      <td>48700000.0</td>\n      <td>NaN</td>\n      <td>[55.6711507, 37.2727963]</td>\n      <td>64.884407</td>\n      <td>NaN</td>\n      <td>44329.0</td>\n      <td>8542257.0</td>\n      <td>Москва</td>\n      <td>4201.8</td>\n      <td>72.9</td>\n      <td>23.785924</td>\n      <td>[55.7504461, 37.6174943]</td>\n    </tr>\n    <tr>\n      <th>4</th>\n      <td>641505.0</td>\n      <td>2311.0</td>\n      <td>31 марта 2022</td>\n      <td>Гаас Александра Георгиевна</td>\n      <td>Физическое лицо</td>\n      <td>25111.0</td>\n      <td>145500000.0</td>\n      <td>[51.94720028246027, 84.88831594503662]</td>\n      <td>[51.9931851, 84.9819571]</td>\n      <td>293.884407</td>\n      <td>8.221511</td>\n      <td>167996.0</td>\n      <td>2154932.0</td>\n      <td>Барнаул</td>\n      <td>550.0</td>\n      <td>130.8</td>\n      <td>3077.808288</td>\n      <td>[53.347402, 83.7784496]</td>\n    </tr>\n    <tr>\n      <th>...</th>\n      <td>...</td>\n      <td>...</td>\n      <td>...</td>\n      <td>...</td>\n      <td>...</td>\n      <td>...</td>\n      <td>...</td>\n      <td>...</td>\n      <td>...</td>\n      <td>...</td>\n      <td>...</td>\n      <td>...</td>\n      <td>...</td>\n      <td>...</td>\n      <td>...</td>\n      <td>...</td>\n      <td>...</td>\n      <td>...</td>\n    </tr>\n    <tr>\n      <th>1118</th>\n      <td>691104.0</td>\n      <td>269.0</td>\n      <td>20 мая 2021</td>\n      <td>Коваленко Александр Ан</td>\n      <td>АО \"Россельхозбанк\"</td>\n      <td>1527.0</td>\n      <td>10709963.0</td>\n      <td>[56.21913602478085, 38.82900562858026]</td>\n      <td>[56.1345574, 38.85192758087219]</td>\n      <td>608.884408</td>\n      <td>9.524407</td>\n      <td>29084.0</td>\n      <td>1342235.0</td>\n      <td>Владимир</td>\n      <td>440.5</td>\n      <td>91.1</td>\n      <td>91.247107</td>\n      <td>[56.1288899, 40.4075203]</td>\n    </tr>\n    <tr>\n      <th>1119</th>\n      <td>630263.0</td>\n      <td>279.0</td>\n      <td>20 мая 2021</td>\n      <td>Коваленко Александр Ан</td>\n      <td>АО \"Россельхозбанк\"</td>\n      <td>1321.0</td>\n      <td>9265136.0</td>\n      <td>[56.220926330893064, 38.83048310378695]</td>\n      <td>[56.1345574, 38.85192758087219]</td>\n      <td>608.884408</td>\n      <td>9.708539</td>\n      <td>29084.0</td>\n      <td>1342235.0</td>\n      <td>Владимир</td>\n      <td>440.5</td>\n      <td>91.1</td>\n      <td>91.433379</td>\n      <td>[56.1288899, 40.4075203]</td>\n    </tr>\n    <tr>\n      <th>1120</th>\n      <td>177552.0</td>\n      <td>281.0</td>\n      <td>20 мая 2021</td>\n      <td>Коваленко Александр Ан</td>\n      <td>АО \"Россельхозбанк\"</td>\n      <td>1676.0</td>\n      <td>11755032.0</td>\n      <td>[56.21983629294916, 38.8300820194728]</td>\n      <td>[56.1345574, 38.85192758087219]</td>\n      <td>608.884408</td>\n      <td>9.591824</td>\n      <td>29084.0</td>\n      <td>1342235.0</td>\n      <td>Владимир</td>\n      <td>440.5</td>\n      <td>91.1</td>\n      <td>91.345769</td>\n      <td>[56.1288899, 40.4075203]</td>\n    </tr>\n    <tr>\n      <th>1121</th>\n      <td>841885.0</td>\n      <td>610.0</td>\n      <td>11 мая 2021</td>\n      <td>Нуриев Эдуард Рамзилович</td>\n      <td>АО \"Россельхозбанк\"</td>\n      <td>150100.0</td>\n      <td>226651.0</td>\n      <td>[55.822853130025955, 52.73092958759532]</td>\n      <td>[55.682141200000004, 52.09069161386946]</td>\n      <td>617.884408</td>\n      <td>43.145711</td>\n      <td>67847.0</td>\n      <td>4000084.0</td>\n      <td>Казань</td>\n      <td>2469.2</td>\n      <td>102.1</td>\n      <td>946.305150</td>\n      <td>[55.7823547, 49.1242266]</td>\n    </tr>\n    <tr>\n      <th>1122</th>\n      <td>419254.0</td>\n      <td>461.0</td>\n      <td>22 апреля 2021</td>\n      <td>Самойленко Денис Сергеевич</td>\n      <td>ПАО Сбербанк</td>\n      <td>10000.0</td>\n      <td>8270000.0</td>\n      <td>[57.14073651577907, 33.14393000643601]</td>\n      <td>[57.1557583, 33.1013213]</td>\n      <td>636.884408</td>\n      <td>3.074139</td>\n      <td>84201.0</td>\n      <td>1226038.0</td>\n      <td>Тверь</td>\n      <td>441.7</td>\n      <td>130.5</td>\n      <td>315.461761</td>\n      <td>[56.8596713, 35.89524161906262]</td>\n    </tr>\n  </tbody>\n</table>\n<p>1123 rows × 18 columns</p>\n</div>"
     },
     "execution_count": 107,
     "metadata": {},
     "output_type": "execute_result"
    }
   ],
   "source": [
    "lien_df"
   ],
   "metadata": {
    "collapsed": false,
    "pycharm": {
     "name": "#%%\n"
    }
   }
  },
  {
   "cell_type": "code",
   "execution_count": 108,
   "outputs": [
    {
     "data": {
      "text/plain": "831"
     },
     "execution_count": 108,
     "metadata": {},
     "output_type": "execute_result"
    }
   ],
   "source": [
    "lien_df['asset_id'].nunique()"
   ],
   "metadata": {
    "collapsed": false,
    "pycharm": {
     "name": "#%%\n"
    }
   }
  },
  {
   "cell_type": "code",
   "execution_count": 109,
   "outputs": [],
   "source": [
    "lien_df1 = lien_df.drop_duplicates(subset=['asset_id'])"
   ],
   "metadata": {
    "collapsed": false,
    "pycharm": {
     "name": "#%%\n"
    }
   }
  },
  {
   "cell_type": "code",
   "execution_count": 117,
   "outputs": [
    {
     "data": {
      "text/plain": "      asset_id   views publication_date                      contact_name  \\\n0     814114.0  1535.0   15 ноября 2022            Контактный Центр Банка   \n4     641505.0  2311.0    31 марта 2022        Гаас Александра Георгиевна   \n5     169347.0   466.0   18 апреля 2022            Брюнель Ева Жисленовна   \n6     899895.0  1286.0     25 июня 2022  Плесняев Александр Александрович   \n7     269183.0  1057.0     17 июня 2022         Беликин Иван Владимирович   \n...        ...     ...              ...                               ...   \n1118  691104.0   269.0      20 мая 2021            Коваленко Александр Ан   \n1119  630263.0   279.0      20 мая 2021            Коваленко Александр Ан   \n1120  177552.0   281.0      20 мая 2021            Коваленко Александр Ан   \n1121  841885.0   610.0      11 мая 2021          Нуриев Эдуард Рамзилович   \n1122  419254.0   461.0   22 апреля 2021        Самойленко Денис Сергеевич   \n\n                           seller_name    square  price_value  \\\n0                       Банк ВТБ (ПАО)       NaN   48700000.0   \n4                      Физическое лицо   25111.0  145500000.0   \n5                      Физическое лицо   50574.0    4500000.0   \n6     Плесняев Александр Александрович  504500.0   23450000.0   \n7            Беликин Иван Владимирович   10000.0  320000000.0   \n...                                ...       ...          ...   \n1118               АО \"Россельхозбанк\"    1527.0   10709963.0   \n1119               АО \"Россельхозбанк\"    1321.0    9265136.0   \n1120               АО \"Россельхозбанк\"    1676.0   11755032.0   \n1121               АО \"Россельхозбанк\"  150100.0     226651.0   \n1122                      ПАО Сбербанк   10000.0    8270000.0   \n\n                            cadastral_geocode  \\\n0                                         NaN   \n4      [51.94720028246027, 84.88831594503662]   \n5      [56.77190698765615, 38.88962726762723]   \n6     [55.73199800626753, 35.340751735565306]   \n7       [55.7008175028533, 37.02131098410721]   \n...                                       ...   \n1118   [56.21913602478085, 38.82900562858026]   \n1119  [56.220926330893064, 38.83048310378695]   \n1120    [56.21983629294916, 38.8300820194728]   \n1121  [55.822853130025955, 52.73092958759532]   \n1122   [57.14073651577907, 33.14393000643601]   \n\n                               region_geocode  shown_by_days   distance  \\\n0                    [55.6711507, 37.2727963]      64.884407        NaN   \n4                    [51.9931851, 84.9819571]     293.884407   8.221511   \n5            [56.80208355, 38.64899133747492]     275.884407  15.086412   \n6                     [55.506478, 36.0213092]     207.884407  49.688507   \n7                    [55.6711507, 37.2727963]     215.884407  16.159018   \n...                                       ...            ...        ...   \n1118          [56.1345574, 38.85192758087219]     608.884408   9.524407   \n1119          [56.1345574, 38.85192758087219]     608.884408   9.708539   \n1120          [56.1345574, 38.85192758087219]     608.884408   9.591824   \n1121  [55.682141200000004, 52.09069161386946]     617.884408  43.145711   \n1122                 [57.1557583, 33.1013213]     636.884408   3.074139   \n\n      region_square  population region_capital     grp  criminality  \\\n0           44329.0   8542257.0         Москва  4201.8         72.9   \n4          167996.0   2154932.0        Барнаул   550.0        130.8   \n5           36177.0   1205637.0      Ярославль   560.6        105.1   \n6           44329.0   8542257.0         Москва  4201.8         72.9   \n7           44329.0   8542257.0         Москва  4201.8         72.9   \n...             ...         ...            ...     ...          ...   \n1118        29084.0   1342235.0       Владимир   440.5         91.1   \n1119        29084.0   1342235.0       Владимир   440.5         91.1   \n1120        29084.0   1342235.0       Владимир   440.5         91.1   \n1121        67847.0   4000084.0         Казань  2469.2        102.1   \n1122        84201.0   1226038.0          Тверь   441.7        130.5   \n\n        km_to_msk           region_capital_geocode  \n0       23.785924         [55.7504461, 37.6174943]  \n4     3077.808288          [53.347402, 83.7784496]  \n5      137.376612         [57.6263877, 39.8933705]  \n6      142.859455         [55.7504461, 37.6174943]  \n7       37.925763         [55.7504461, 37.6174943]  \n...           ...                              ...  \n1118    91.247107         [56.1288899, 40.4075203]  \n1119    91.433379         [56.1288899, 40.4075203]  \n1120    91.345769         [56.1288899, 40.4075203]  \n1121   946.305150         [55.7823547, 49.1242266]  \n1122   315.461761  [56.8596713, 35.89524161906262]  \n\n[832 rows x 18 columns]",
      "text/html": "<div>\n<style scoped>\n    .dataframe tbody tr th:only-of-type {\n        vertical-align: middle;\n    }\n\n    .dataframe tbody tr th {\n        vertical-align: top;\n    }\n\n    .dataframe thead th {\n        text-align: right;\n    }\n</style>\n<table border=\"1\" class=\"dataframe\">\n  <thead>\n    <tr style=\"text-align: right;\">\n      <th></th>\n      <th>asset_id</th>\n      <th>views</th>\n      <th>publication_date</th>\n      <th>contact_name</th>\n      <th>seller_name</th>\n      <th>square</th>\n      <th>price_value</th>\n      <th>cadastral_geocode</th>\n      <th>region_geocode</th>\n      <th>shown_by_days</th>\n      <th>distance</th>\n      <th>region_square</th>\n      <th>population</th>\n      <th>region_capital</th>\n      <th>grp</th>\n      <th>criminality</th>\n      <th>km_to_msk</th>\n      <th>region_capital_geocode</th>\n    </tr>\n  </thead>\n  <tbody>\n    <tr>\n      <th>0</th>\n      <td>814114.0</td>\n      <td>1535.0</td>\n      <td>15 ноября 2022</td>\n      <td>Контактный Центр Банка</td>\n      <td>Банк ВТБ (ПАО)</td>\n      <td>NaN</td>\n      <td>48700000.0</td>\n      <td>NaN</td>\n      <td>[55.6711507, 37.2727963]</td>\n      <td>64.884407</td>\n      <td>NaN</td>\n      <td>44329.0</td>\n      <td>8542257.0</td>\n      <td>Москва</td>\n      <td>4201.8</td>\n      <td>72.9</td>\n      <td>23.785924</td>\n      <td>[55.7504461, 37.6174943]</td>\n    </tr>\n    <tr>\n      <th>4</th>\n      <td>641505.0</td>\n      <td>2311.0</td>\n      <td>31 марта 2022</td>\n      <td>Гаас Александра Георгиевна</td>\n      <td>Физическое лицо</td>\n      <td>25111.0</td>\n      <td>145500000.0</td>\n      <td>[51.94720028246027, 84.88831594503662]</td>\n      <td>[51.9931851, 84.9819571]</td>\n      <td>293.884407</td>\n      <td>8.221511</td>\n      <td>167996.0</td>\n      <td>2154932.0</td>\n      <td>Барнаул</td>\n      <td>550.0</td>\n      <td>130.8</td>\n      <td>3077.808288</td>\n      <td>[53.347402, 83.7784496]</td>\n    </tr>\n    <tr>\n      <th>5</th>\n      <td>169347.0</td>\n      <td>466.0</td>\n      <td>18 апреля 2022</td>\n      <td>Брюнель Ева Жисленовна</td>\n      <td>Физическое лицо</td>\n      <td>50574.0</td>\n      <td>4500000.0</td>\n      <td>[56.77190698765615, 38.88962726762723]</td>\n      <td>[56.80208355, 38.64899133747492]</td>\n      <td>275.884407</td>\n      <td>15.086412</td>\n      <td>36177.0</td>\n      <td>1205637.0</td>\n      <td>Ярославль</td>\n      <td>560.6</td>\n      <td>105.1</td>\n      <td>137.376612</td>\n      <td>[57.6263877, 39.8933705]</td>\n    </tr>\n    <tr>\n      <th>6</th>\n      <td>899895.0</td>\n      <td>1286.0</td>\n      <td>25 июня 2022</td>\n      <td>Плесняев Александр Александрович</td>\n      <td>Плесняев Александр Александрович</td>\n      <td>504500.0</td>\n      <td>23450000.0</td>\n      <td>[55.73199800626753, 35.340751735565306]</td>\n      <td>[55.506478, 36.0213092]</td>\n      <td>207.884407</td>\n      <td>49.688507</td>\n      <td>44329.0</td>\n      <td>8542257.0</td>\n      <td>Москва</td>\n      <td>4201.8</td>\n      <td>72.9</td>\n      <td>142.859455</td>\n      <td>[55.7504461, 37.6174943]</td>\n    </tr>\n    <tr>\n      <th>7</th>\n      <td>269183.0</td>\n      <td>1057.0</td>\n      <td>17 июня 2022</td>\n      <td>Беликин Иван Владимирович</td>\n      <td>Беликин Иван Владимирович</td>\n      <td>10000.0</td>\n      <td>320000000.0</td>\n      <td>[55.7008175028533, 37.02131098410721]</td>\n      <td>[55.6711507, 37.2727963]</td>\n      <td>215.884407</td>\n      <td>16.159018</td>\n      <td>44329.0</td>\n      <td>8542257.0</td>\n      <td>Москва</td>\n      <td>4201.8</td>\n      <td>72.9</td>\n      <td>37.925763</td>\n      <td>[55.7504461, 37.6174943]</td>\n    </tr>\n    <tr>\n      <th>...</th>\n      <td>...</td>\n      <td>...</td>\n      <td>...</td>\n      <td>...</td>\n      <td>...</td>\n      <td>...</td>\n      <td>...</td>\n      <td>...</td>\n      <td>...</td>\n      <td>...</td>\n      <td>...</td>\n      <td>...</td>\n      <td>...</td>\n      <td>...</td>\n      <td>...</td>\n      <td>...</td>\n      <td>...</td>\n      <td>...</td>\n    </tr>\n    <tr>\n      <th>1118</th>\n      <td>691104.0</td>\n      <td>269.0</td>\n      <td>20 мая 2021</td>\n      <td>Коваленко Александр Ан</td>\n      <td>АО \"Россельхозбанк\"</td>\n      <td>1527.0</td>\n      <td>10709963.0</td>\n      <td>[56.21913602478085, 38.82900562858026]</td>\n      <td>[56.1345574, 38.85192758087219]</td>\n      <td>608.884408</td>\n      <td>9.524407</td>\n      <td>29084.0</td>\n      <td>1342235.0</td>\n      <td>Владимир</td>\n      <td>440.5</td>\n      <td>91.1</td>\n      <td>91.247107</td>\n      <td>[56.1288899, 40.4075203]</td>\n    </tr>\n    <tr>\n      <th>1119</th>\n      <td>630263.0</td>\n      <td>279.0</td>\n      <td>20 мая 2021</td>\n      <td>Коваленко Александр Ан</td>\n      <td>АО \"Россельхозбанк\"</td>\n      <td>1321.0</td>\n      <td>9265136.0</td>\n      <td>[56.220926330893064, 38.83048310378695]</td>\n      <td>[56.1345574, 38.85192758087219]</td>\n      <td>608.884408</td>\n      <td>9.708539</td>\n      <td>29084.0</td>\n      <td>1342235.0</td>\n      <td>Владимир</td>\n      <td>440.5</td>\n      <td>91.1</td>\n      <td>91.433379</td>\n      <td>[56.1288899, 40.4075203]</td>\n    </tr>\n    <tr>\n      <th>1120</th>\n      <td>177552.0</td>\n      <td>281.0</td>\n      <td>20 мая 2021</td>\n      <td>Коваленко Александр Ан</td>\n      <td>АО \"Россельхозбанк\"</td>\n      <td>1676.0</td>\n      <td>11755032.0</td>\n      <td>[56.21983629294916, 38.8300820194728]</td>\n      <td>[56.1345574, 38.85192758087219]</td>\n      <td>608.884408</td>\n      <td>9.591824</td>\n      <td>29084.0</td>\n      <td>1342235.0</td>\n      <td>Владимир</td>\n      <td>440.5</td>\n      <td>91.1</td>\n      <td>91.345769</td>\n      <td>[56.1288899, 40.4075203]</td>\n    </tr>\n    <tr>\n      <th>1121</th>\n      <td>841885.0</td>\n      <td>610.0</td>\n      <td>11 мая 2021</td>\n      <td>Нуриев Эдуард Рамзилович</td>\n      <td>АО \"Россельхозбанк\"</td>\n      <td>150100.0</td>\n      <td>226651.0</td>\n      <td>[55.822853130025955, 52.73092958759532]</td>\n      <td>[55.682141200000004, 52.09069161386946]</td>\n      <td>617.884408</td>\n      <td>43.145711</td>\n      <td>67847.0</td>\n      <td>4000084.0</td>\n      <td>Казань</td>\n      <td>2469.2</td>\n      <td>102.1</td>\n      <td>946.305150</td>\n      <td>[55.7823547, 49.1242266]</td>\n    </tr>\n    <tr>\n      <th>1122</th>\n      <td>419254.0</td>\n      <td>461.0</td>\n      <td>22 апреля 2021</td>\n      <td>Самойленко Денис Сергеевич</td>\n      <td>ПАО Сбербанк</td>\n      <td>10000.0</td>\n      <td>8270000.0</td>\n      <td>[57.14073651577907, 33.14393000643601]</td>\n      <td>[57.1557583, 33.1013213]</td>\n      <td>636.884408</td>\n      <td>3.074139</td>\n      <td>84201.0</td>\n      <td>1226038.0</td>\n      <td>Тверь</td>\n      <td>441.7</td>\n      <td>130.5</td>\n      <td>315.461761</td>\n      <td>[56.8596713, 35.89524161906262]</td>\n    </tr>\n  </tbody>\n</table>\n<p>832 rows × 18 columns</p>\n</div>"
     },
     "execution_count": 117,
     "metadata": {},
     "output_type": "execute_result"
    }
   ],
   "source": [
    "lien_df1"
   ],
   "metadata": {
    "collapsed": false,
    "pycharm": {
     "name": "#%%\n"
    }
   }
  },
  {
   "cell_type": "code",
   "execution_count": 141,
   "outputs": [],
   "source": [
    "def get_distance_to_region_capital(row):\n",
    "    \"\"\"\n",
    "    Function to get distance from point to Moscow\n",
    "    :param row:\n",
    "    :return:\n",
    "    \"\"\"\n",
    "    if len(str(row['region_capital_geocode'])) < 5:\n",
    "        return np.NaN\n",
    "\n",
    "    if '[' in str(row['cadastral_geocode']):\n",
    "        return geopy.distance.geodesic(ast.literal_eval(row['cadastral_geocode']), row['region_capital_geocode']).km\n",
    "    return np.NaN"
   ],
   "metadata": {
    "collapsed": false,
    "pycharm": {
     "name": "#%%\n"
    }
   }
  },
  {
   "cell_type": "code",
   "execution_count": 142,
   "outputs": [
    {
     "name": "stderr",
     "output_type": "stream",
     "text": [
      "/var/folders/0d/nn90v_dn4y56s_xnhsv23lf00000gn/T/ipykernel_1418/956665234.py:1: SettingWithCopyWarning: \n",
      "A value is trying to be set on a copy of a slice from a DataFrame.\n",
      "Try using .loc[row_indexer,col_indexer] = value instead\n",
      "\n",
      "See the caveats in the documentation: https://pandas.pydata.org/pandas-docs/stable/user_guide/indexing.html#returning-a-view-versus-a-copy\n",
      "  lien_df1['km_to_region_capital'] = lien_df1.apply(get_distance_to_region_capital, axis=1)\n"
     ]
    }
   ],
   "source": [
    "lien_df1['km_to_region_capital'] = lien_df1.apply(get_distance_to_region_capital, axis=1)"
   ],
   "metadata": {
    "collapsed": false,
    "pycharm": {
     "name": "#%%\n"
    }
   }
  },
  {
   "cell_type": "code",
   "execution_count": 132,
   "outputs": [
    {
     "data": {
      "text/plain": "      asset_id   views publication_date                      contact_name  \\\n0     814114.0  1535.0   15 ноября 2022            Контактный Центр Банка   \n4     641505.0  2311.0    31 марта 2022        Гаас Александра Георгиевна   \n5     169347.0   466.0   18 апреля 2022            Брюнель Ева Жисленовна   \n6     899895.0  1286.0     25 июня 2022  Плесняев Александр Александрович   \n7     269183.0  1057.0     17 июня 2022         Беликин Иван Владимирович   \n...        ...     ...              ...                               ...   \n1118  691104.0   269.0      20 мая 2021            Коваленко Александр Ан   \n1119  630263.0   279.0      20 мая 2021            Коваленко Александр Ан   \n1120  177552.0   281.0      20 мая 2021            Коваленко Александр Ан   \n1121  841885.0   610.0      11 мая 2021          Нуриев Эдуард Рамзилович   \n1122  419254.0   461.0   22 апреля 2021        Самойленко Денис Сергеевич   \n\n                           seller_name    square  price_value  \\\n0                       Банк ВТБ (ПАО)       NaN   48700000.0   \n4                      Физическое лицо   25111.0  145500000.0   \n5                      Физическое лицо   50574.0    4500000.0   \n6     Плесняев Александр Александрович  504500.0   23450000.0   \n7            Беликин Иван Владимирович   10000.0  320000000.0   \n...                                ...       ...          ...   \n1118               АО \"Россельхозбанк\"    1527.0   10709963.0   \n1119               АО \"Россельхозбанк\"    1321.0    9265136.0   \n1120               АО \"Россельхозбанк\"    1676.0   11755032.0   \n1121               АО \"Россельхозбанк\"  150100.0     226651.0   \n1122                      ПАО Сбербанк   10000.0    8270000.0   \n\n                            cadastral_geocode  \\\n0                                         NaN   \n4      [51.94720028246027, 84.88831594503662]   \n5      [56.77190698765615, 38.88962726762723]   \n6     [55.73199800626753, 35.340751735565306]   \n7       [55.7008175028533, 37.02131098410721]   \n...                                       ...   \n1118   [56.21913602478085, 38.82900562858026]   \n1119  [56.220926330893064, 38.83048310378695]   \n1120    [56.21983629294916, 38.8300820194728]   \n1121  [55.822853130025955, 52.73092958759532]   \n1122   [57.14073651577907, 33.14393000643601]   \n\n                               region_geocode  shown_by_days   distance  \\\n0                    [55.6711507, 37.2727963]      64.884407        NaN   \n4                    [51.9931851, 84.9819571]     293.884407   8.221511   \n5            [56.80208355, 38.64899133747492]     275.884407  15.086412   \n6                     [55.506478, 36.0213092]     207.884407  49.688507   \n7                    [55.6711507, 37.2727963]     215.884407  16.159018   \n...                                       ...            ...        ...   \n1118          [56.1345574, 38.85192758087219]     608.884408   9.524407   \n1119          [56.1345574, 38.85192758087219]     608.884408   9.708539   \n1120          [56.1345574, 38.85192758087219]     608.884408   9.591824   \n1121  [55.682141200000004, 52.09069161386946]     617.884408  43.145711   \n1122                 [57.1557583, 33.1013213]     636.884408   3.074139   \n\n      region_square  population region_capital     grp  criminality  \\\n0           44329.0   8542257.0         Москва  4201.8         72.9   \n4          167996.0   2154932.0        Барнаул   550.0        130.8   \n5           36177.0   1205637.0      Ярославль   560.6        105.1   \n6           44329.0   8542257.0         Москва  4201.8         72.9   \n7           44329.0   8542257.0         Москва  4201.8         72.9   \n...             ...         ...            ...     ...          ...   \n1118        29084.0   1342235.0       Владимир   440.5         91.1   \n1119        29084.0   1342235.0       Владимир   440.5         91.1   \n1120        29084.0   1342235.0       Владимир   440.5         91.1   \n1121        67847.0   4000084.0         Казань  2469.2        102.1   \n1122        84201.0   1226038.0          Тверь   441.7        130.5   \n\n        km_to_msk           region_capital_geocode  km_to_region_capital  \n0       23.785924         [55.7504461, 37.6174943]                   NaN  \n4     3077.808288          [53.347402, 83.7784496]           2943.078921  \n5      137.376612         [57.6263877, 39.8933705]            250.112125  \n6      142.859455         [55.7504461, 37.6174943]              1.330971  \n7       37.925763         [55.7504461, 37.6174943]              1.330971  \n...           ...                              ...                   ...  \n1118    91.247107         [56.1288899, 40.4075203]            179.169825  \n1119    91.433379         [56.1288899, 40.4075203]            179.169825  \n1120    91.345769         [56.1288899, 40.4075203]            179.169825  \n1121   946.305150         [55.7823547, 49.1242266]            721.476252  \n1122   315.461761  [56.8596713, 35.89524161906262]            162.037632  \n\n[832 rows x 19 columns]",
      "text/html": "<div>\n<style scoped>\n    .dataframe tbody tr th:only-of-type {\n        vertical-align: middle;\n    }\n\n    .dataframe tbody tr th {\n        vertical-align: top;\n    }\n\n    .dataframe thead th {\n        text-align: right;\n    }\n</style>\n<table border=\"1\" class=\"dataframe\">\n  <thead>\n    <tr style=\"text-align: right;\">\n      <th></th>\n      <th>asset_id</th>\n      <th>views</th>\n      <th>publication_date</th>\n      <th>contact_name</th>\n      <th>seller_name</th>\n      <th>square</th>\n      <th>price_value</th>\n      <th>cadastral_geocode</th>\n      <th>region_geocode</th>\n      <th>shown_by_days</th>\n      <th>distance</th>\n      <th>region_square</th>\n      <th>population</th>\n      <th>region_capital</th>\n      <th>grp</th>\n      <th>criminality</th>\n      <th>km_to_msk</th>\n      <th>region_capital_geocode</th>\n      <th>km_to_region_capital</th>\n    </tr>\n  </thead>\n  <tbody>\n    <tr>\n      <th>0</th>\n      <td>814114.0</td>\n      <td>1535.0</td>\n      <td>15 ноября 2022</td>\n      <td>Контактный Центр Банка</td>\n      <td>Банк ВТБ (ПАО)</td>\n      <td>NaN</td>\n      <td>48700000.0</td>\n      <td>NaN</td>\n      <td>[55.6711507, 37.2727963]</td>\n      <td>64.884407</td>\n      <td>NaN</td>\n      <td>44329.0</td>\n      <td>8542257.0</td>\n      <td>Москва</td>\n      <td>4201.8</td>\n      <td>72.9</td>\n      <td>23.785924</td>\n      <td>[55.7504461, 37.6174943]</td>\n      <td>NaN</td>\n    </tr>\n    <tr>\n      <th>4</th>\n      <td>641505.0</td>\n      <td>2311.0</td>\n      <td>31 марта 2022</td>\n      <td>Гаас Александра Георгиевна</td>\n      <td>Физическое лицо</td>\n      <td>25111.0</td>\n      <td>145500000.0</td>\n      <td>[51.94720028246027, 84.88831594503662]</td>\n      <td>[51.9931851, 84.9819571]</td>\n      <td>293.884407</td>\n      <td>8.221511</td>\n      <td>167996.0</td>\n      <td>2154932.0</td>\n      <td>Барнаул</td>\n      <td>550.0</td>\n      <td>130.8</td>\n      <td>3077.808288</td>\n      <td>[53.347402, 83.7784496]</td>\n      <td>2943.078921</td>\n    </tr>\n    <tr>\n      <th>5</th>\n      <td>169347.0</td>\n      <td>466.0</td>\n      <td>18 апреля 2022</td>\n      <td>Брюнель Ева Жисленовна</td>\n      <td>Физическое лицо</td>\n      <td>50574.0</td>\n      <td>4500000.0</td>\n      <td>[56.77190698765615, 38.88962726762723]</td>\n      <td>[56.80208355, 38.64899133747492]</td>\n      <td>275.884407</td>\n      <td>15.086412</td>\n      <td>36177.0</td>\n      <td>1205637.0</td>\n      <td>Ярославль</td>\n      <td>560.6</td>\n      <td>105.1</td>\n      <td>137.376612</td>\n      <td>[57.6263877, 39.8933705]</td>\n      <td>250.112125</td>\n    </tr>\n    <tr>\n      <th>6</th>\n      <td>899895.0</td>\n      <td>1286.0</td>\n      <td>25 июня 2022</td>\n      <td>Плесняев Александр Александрович</td>\n      <td>Плесняев Александр Александрович</td>\n      <td>504500.0</td>\n      <td>23450000.0</td>\n      <td>[55.73199800626753, 35.340751735565306]</td>\n      <td>[55.506478, 36.0213092]</td>\n      <td>207.884407</td>\n      <td>49.688507</td>\n      <td>44329.0</td>\n      <td>8542257.0</td>\n      <td>Москва</td>\n      <td>4201.8</td>\n      <td>72.9</td>\n      <td>142.859455</td>\n      <td>[55.7504461, 37.6174943]</td>\n      <td>1.330971</td>\n    </tr>\n    <tr>\n      <th>7</th>\n      <td>269183.0</td>\n      <td>1057.0</td>\n      <td>17 июня 2022</td>\n      <td>Беликин Иван Владимирович</td>\n      <td>Беликин Иван Владимирович</td>\n      <td>10000.0</td>\n      <td>320000000.0</td>\n      <td>[55.7008175028533, 37.02131098410721]</td>\n      <td>[55.6711507, 37.2727963]</td>\n      <td>215.884407</td>\n      <td>16.159018</td>\n      <td>44329.0</td>\n      <td>8542257.0</td>\n      <td>Москва</td>\n      <td>4201.8</td>\n      <td>72.9</td>\n      <td>37.925763</td>\n      <td>[55.7504461, 37.6174943]</td>\n      <td>1.330971</td>\n    </tr>\n    <tr>\n      <th>...</th>\n      <td>...</td>\n      <td>...</td>\n      <td>...</td>\n      <td>...</td>\n      <td>...</td>\n      <td>...</td>\n      <td>...</td>\n      <td>...</td>\n      <td>...</td>\n      <td>...</td>\n      <td>...</td>\n      <td>...</td>\n      <td>...</td>\n      <td>...</td>\n      <td>...</td>\n      <td>...</td>\n      <td>...</td>\n      <td>...</td>\n      <td>...</td>\n    </tr>\n    <tr>\n      <th>1118</th>\n      <td>691104.0</td>\n      <td>269.0</td>\n      <td>20 мая 2021</td>\n      <td>Коваленко Александр Ан</td>\n      <td>АО \"Россельхозбанк\"</td>\n      <td>1527.0</td>\n      <td>10709963.0</td>\n      <td>[56.21913602478085, 38.82900562858026]</td>\n      <td>[56.1345574, 38.85192758087219]</td>\n      <td>608.884408</td>\n      <td>9.524407</td>\n      <td>29084.0</td>\n      <td>1342235.0</td>\n      <td>Владимир</td>\n      <td>440.5</td>\n      <td>91.1</td>\n      <td>91.247107</td>\n      <td>[56.1288899, 40.4075203]</td>\n      <td>179.169825</td>\n    </tr>\n    <tr>\n      <th>1119</th>\n      <td>630263.0</td>\n      <td>279.0</td>\n      <td>20 мая 2021</td>\n      <td>Коваленко Александр Ан</td>\n      <td>АО \"Россельхозбанк\"</td>\n      <td>1321.0</td>\n      <td>9265136.0</td>\n      <td>[56.220926330893064, 38.83048310378695]</td>\n      <td>[56.1345574, 38.85192758087219]</td>\n      <td>608.884408</td>\n      <td>9.708539</td>\n      <td>29084.0</td>\n      <td>1342235.0</td>\n      <td>Владимир</td>\n      <td>440.5</td>\n      <td>91.1</td>\n      <td>91.433379</td>\n      <td>[56.1288899, 40.4075203]</td>\n      <td>179.169825</td>\n    </tr>\n    <tr>\n      <th>1120</th>\n      <td>177552.0</td>\n      <td>281.0</td>\n      <td>20 мая 2021</td>\n      <td>Коваленко Александр Ан</td>\n      <td>АО \"Россельхозбанк\"</td>\n      <td>1676.0</td>\n      <td>11755032.0</td>\n      <td>[56.21983629294916, 38.8300820194728]</td>\n      <td>[56.1345574, 38.85192758087219]</td>\n      <td>608.884408</td>\n      <td>9.591824</td>\n      <td>29084.0</td>\n      <td>1342235.0</td>\n      <td>Владимир</td>\n      <td>440.5</td>\n      <td>91.1</td>\n      <td>91.345769</td>\n      <td>[56.1288899, 40.4075203]</td>\n      <td>179.169825</td>\n    </tr>\n    <tr>\n      <th>1121</th>\n      <td>841885.0</td>\n      <td>610.0</td>\n      <td>11 мая 2021</td>\n      <td>Нуриев Эдуард Рамзилович</td>\n      <td>АО \"Россельхозбанк\"</td>\n      <td>150100.0</td>\n      <td>226651.0</td>\n      <td>[55.822853130025955, 52.73092958759532]</td>\n      <td>[55.682141200000004, 52.09069161386946]</td>\n      <td>617.884408</td>\n      <td>43.145711</td>\n      <td>67847.0</td>\n      <td>4000084.0</td>\n      <td>Казань</td>\n      <td>2469.2</td>\n      <td>102.1</td>\n      <td>946.305150</td>\n      <td>[55.7823547, 49.1242266]</td>\n      <td>721.476252</td>\n    </tr>\n    <tr>\n      <th>1122</th>\n      <td>419254.0</td>\n      <td>461.0</td>\n      <td>22 апреля 2021</td>\n      <td>Самойленко Денис Сергеевич</td>\n      <td>ПАО Сбербанк</td>\n      <td>10000.0</td>\n      <td>8270000.0</td>\n      <td>[57.14073651577907, 33.14393000643601]</td>\n      <td>[57.1557583, 33.1013213]</td>\n      <td>636.884408</td>\n      <td>3.074139</td>\n      <td>84201.0</td>\n      <td>1226038.0</td>\n      <td>Тверь</td>\n      <td>441.7</td>\n      <td>130.5</td>\n      <td>315.461761</td>\n      <td>[56.8596713, 35.89524161906262]</td>\n      <td>162.037632</td>\n    </tr>\n  </tbody>\n</table>\n<p>832 rows × 19 columns</p>\n</div>"
     },
     "execution_count": 132,
     "metadata": {},
     "output_type": "execute_result"
    }
   ],
   "source": [
    "lien_df1"
   ],
   "metadata": {
    "collapsed": false,
    "pycharm": {
     "name": "#%%\n"
    }
   }
  },
  {
   "cell_type": "code",
   "execution_count": 143,
   "outputs": [
    {
     "data": {
      "text/plain": "      asset_id                         cadastral_geocode  \\\n6     899895.0   [55.73199800626753, 35.340751735565306]   \n108   543991.0    [56.08306882573244, 36.81858482729557]   \n119   484284.0    [55.84184913265256, 38.46389777524832]   \n130   674765.0    [55.84347928441566, 35.88639295899129]   \n497   529058.0   [55.89845776376646, 38.031180852657684]   \n545   337063.0    [55.84337674507257, 38.28233178567327]   \n959   327953.0    [56.11970816803614, 37.21179291804338]   \n960   850293.0   [56.049440997440925, 37.13994254983194]   \n1019  689124.0   [55.81811410328601, 38.164000072378016]   \n1022  414251.0    [55.77403442835274, 37.18864931881151]   \n1023  193794.0    [55.77423283341192, 37.18785469565617]   \n1024  965164.0  [55.774781765706344, 37.192168635511905]   \n1025  228584.0   [55.774113309585516, 37.19166740191666]   \n1026  485292.0    [55.77287168900434, 37.19116598610442]   \n1028  911898.0   [55.861327088680035, 37.96546614068932]   \n1029  358602.0   [55.86030758561121, 37.965662708111054]   \n1059  375547.0     [56.2204777372775, 38.82982818408087]   \n1071  558271.0  [56.330418993441626, 43.999636975386885]   \n1088  832865.0  [56.220702230946934, 38.830173334455964]   \n1089  685427.0     [56.22025317869223, 38.8294833045054]   \n1090  912862.0  [56.220028795860095, 38.829138473265814]   \n1091  414888.0    [56.21980402879613, 38.82879190878167]   \n1092  243082.0   [56.219568800619335, 38.82842759456799]   \n1093  455192.0   [56.22133628867946, 38.830116815941096]   \n1094  769564.0    [56.22109231429189, 38.82974797542839]   \n1095  145258.0     [56.2208520914455, 38.82937029995805]   \n1096  552228.0   [56.220614509852176, 38.82901055740047]   \n1097  818038.0   [56.220384020574755, 38.82865446546947]   \n1098  425522.0    [56.22015304269483, 38.82830372567661]   \n1099  914932.0    [56.21991590278193, 38.82794323451037]   \n1100  415250.0    [56.21925783875095, 38.83014414818987]   \n1101  215023.0   [56.21903376317143, 38.829798725939064]   \n1102  550544.0    [56.21880835321254, 38.82944607539866]   \n1103  478901.0   [56.22035292638327, 38.830869072848735]   \n1104  852872.0   [56.220096981216166, 38.83048021468055]   \n1105  264512.0   [56.219429521581475, 38.83162556534035]   \n1107  434559.0   [56.219003761871406, 38.83097397346558]   \n1108  440090.0    [56.21879252298791, 38.83065883693948]   \n1110  630865.0   [56.219959404318956, 38.83121414873892]   \n1112  979932.0   [56.21904254319914, 38.831961664324474]   \n1116  893392.0   [56.219598046418646, 38.82971559603704]   \n1117  595554.0   [56.21937001369826, 38.829364808205405]   \n1118  691104.0    [56.21913602478085, 38.82900562858026]   \n1119  630263.0   [56.220926330893064, 38.83048310378695]   \n1120  177552.0     [56.21983629294916, 38.8300820194728]   \n\n                               region_geocode   region_capital   km_to_msk  \\\n6                     [55.506478, 36.0213092]           Москва  142.859455   \n108                  [56.1853501, 36.9781536]           Москва   61.275767   \n119                  [55.8553511, 38.4411898]           Москва   53.962141   \n130                  [56.0353443, 35.9567781]           Москва  108.778225   \n497   [56.132591399999995, 38.43552736326269]           Москва   30.161092   \n545                  [55.8553511, 38.4411898]           Москва   42.805971   \n959                  [56.1853501, 36.9781536]           Москва   47.099773   \n960                  [56.1853501, 36.9781536]           Москва   43.646245   \n1019                 [55.8070323, 38.1774172]           Москва   34.990319   \n1022                 [55.8245645, 37.3200658]           Москва   26.796250   \n1023                 [55.8245645, 37.3200658]           Москва   26.847079   \n1024                 [55.8245645, 37.3200658]           Москва   26.579581   \n1025                 [55.8245645, 37.3200658]           Москва   26.607449   \n1026                 [55.8245645, 37.3200658]           Москва   26.632850   \n1028  [56.132591399999995, 38.43552736326269]           Москва   24.578746   \n1029  [56.132591399999995, 38.43552736326269]           Москва   24.539345   \n1059          [56.1345574, 38.85192758087219]         Владимир   91.371951   \n1071                   [59.938732, 30.316229]  Санкт-Петербург  402.718199   \n1088          [56.1345574, 38.85192758087219]         Владимир   91.403592   \n1089          [56.1345574, 38.85192758087219]         Владимир   91.340320   \n1090          [56.1345574, 38.85192758087219]         Владимир   91.308704   \n1091          [56.1345574, 38.85192758087219]         Владимир   91.276975   \n1092          [56.1345574, 38.85192758087219]         Владимир   91.243686   \n1093          [56.1345574, 38.85192758087219]         Владимир   91.439589   \n1094          [56.1345574, 38.85192758087219]         Владимир   91.405520   \n1095          [56.1345574, 38.85192758087219]         Владимир   91.371224   \n1096          [56.1345574, 38.85192758087219]         Владимир   91.338020   \n1097          [56.1345574, 38.85192758087219]         Владимир   91.305441   \n1098          [56.1345574, 38.85192758087219]         Владимир   91.273110   \n1099          [56.1345574, 38.85192758087219]         Владимир   91.239897   \n1100          [56.1345574, 38.85192758087219]         Владимир   91.313559   \n1101          [56.1345574, 38.85192758087219]         Владимир   91.281941   \n1102          [56.1345574, 38.85192758087219]         Владимир   91.249869   \n1103          [56.1345574, 38.85192758087219]         Владимир   91.418196   \n1104          [56.1345574, 38.85192758087219]         Владимир   91.382369   \n1105          [56.1345574, 38.85192758087219]         Владимир   91.400844   \n1107          [56.1345574, 38.85192758087219]         Владимир   91.341022   \n1108          [56.1345574, 38.85192758087219]         Владимир   91.311765   \n1110          [56.1345574, 38.85192758087219]         Владимир   91.411960   \n1112          [56.1345574, 38.85192758087219]         Владимир   91.394602   \n1116          [56.1345574, 38.85192758087219]         Владимир   91.312190   \n1117          [56.1345574, 38.85192758087219]         Владимир   91.280048   \n1118          [56.1345574, 38.85192758087219]         Владимир   91.247107   \n1119          [56.1345574, 38.85192758087219]         Владимир   91.433379   \n1120          [56.1345574, 38.85192758087219]         Владимир   91.345769   \n\n      km_to_region_capital  \n6               143.008314  \n108              62.183507  \n119              54.053344  \n130             109.063846  \n497              30.721713  \n545              42.962635  \n959              48.303426  \n960              44.727960  \n1019             35.105559  \n1022             27.048615  \n1023             27.100344  \n1024             26.836761  \n1025             26.860890  \n1026             26.879444  \n1028             25.069906  \n1029             25.025206  \n1059             98.519121  \n1071            898.447501  \n1088             98.500106  \n1089             98.538125  \n1090             98.557137  \n1091             98.576259  \n1092             98.596379  \n1093             98.510145  \n1094             98.530402  \n1095             98.551253  \n1096             98.571031  \n1097             98.590666  \n1098             98.609972  \n1099             98.629826  \n1100             98.487180  \n1101             98.506260  \n1102             98.525781  \n1103             98.453541  \n1104             98.474944  \n1105             98.397393  \n1107             98.433345  \n1108             98.450689  \n1110             98.428200  \n1112             98.372713  \n1116             98.517102  \n1117             98.536464  \n1118             98.556292  \n1119             98.483280  \n1120             98.496885  ",
      "text/html": "<div>\n<style scoped>\n    .dataframe tbody tr th:only-of-type {\n        vertical-align: middle;\n    }\n\n    .dataframe tbody tr th {\n        vertical-align: top;\n    }\n\n    .dataframe thead th {\n        text-align: right;\n    }\n</style>\n<table border=\"1\" class=\"dataframe\">\n  <thead>\n    <tr style=\"text-align: right;\">\n      <th></th>\n      <th>asset_id</th>\n      <th>cadastral_geocode</th>\n      <th>region_geocode</th>\n      <th>region_capital</th>\n      <th>km_to_msk</th>\n      <th>km_to_region_capital</th>\n    </tr>\n  </thead>\n  <tbody>\n    <tr>\n      <th>6</th>\n      <td>899895.0</td>\n      <td>[55.73199800626753, 35.340751735565306]</td>\n      <td>[55.506478, 36.0213092]</td>\n      <td>Москва</td>\n      <td>142.859455</td>\n      <td>143.008314</td>\n    </tr>\n    <tr>\n      <th>108</th>\n      <td>543991.0</td>\n      <td>[56.08306882573244, 36.81858482729557]</td>\n      <td>[56.1853501, 36.9781536]</td>\n      <td>Москва</td>\n      <td>61.275767</td>\n      <td>62.183507</td>\n    </tr>\n    <tr>\n      <th>119</th>\n      <td>484284.0</td>\n      <td>[55.84184913265256, 38.46389777524832]</td>\n      <td>[55.8553511, 38.4411898]</td>\n      <td>Москва</td>\n      <td>53.962141</td>\n      <td>54.053344</td>\n    </tr>\n    <tr>\n      <th>130</th>\n      <td>674765.0</td>\n      <td>[55.84347928441566, 35.88639295899129]</td>\n      <td>[56.0353443, 35.9567781]</td>\n      <td>Москва</td>\n      <td>108.778225</td>\n      <td>109.063846</td>\n    </tr>\n    <tr>\n      <th>497</th>\n      <td>529058.0</td>\n      <td>[55.89845776376646, 38.031180852657684]</td>\n      <td>[56.132591399999995, 38.43552736326269]</td>\n      <td>Москва</td>\n      <td>30.161092</td>\n      <td>30.721713</td>\n    </tr>\n    <tr>\n      <th>545</th>\n      <td>337063.0</td>\n      <td>[55.84337674507257, 38.28233178567327]</td>\n      <td>[55.8553511, 38.4411898]</td>\n      <td>Москва</td>\n      <td>42.805971</td>\n      <td>42.962635</td>\n    </tr>\n    <tr>\n      <th>959</th>\n      <td>327953.0</td>\n      <td>[56.11970816803614, 37.21179291804338]</td>\n      <td>[56.1853501, 36.9781536]</td>\n      <td>Москва</td>\n      <td>47.099773</td>\n      <td>48.303426</td>\n    </tr>\n    <tr>\n      <th>960</th>\n      <td>850293.0</td>\n      <td>[56.049440997440925, 37.13994254983194]</td>\n      <td>[56.1853501, 36.9781536]</td>\n      <td>Москва</td>\n      <td>43.646245</td>\n      <td>44.727960</td>\n    </tr>\n    <tr>\n      <th>1019</th>\n      <td>689124.0</td>\n      <td>[55.81811410328601, 38.164000072378016]</td>\n      <td>[55.8070323, 38.1774172]</td>\n      <td>Москва</td>\n      <td>34.990319</td>\n      <td>35.105559</td>\n    </tr>\n    <tr>\n      <th>1022</th>\n      <td>414251.0</td>\n      <td>[55.77403442835274, 37.18864931881151]</td>\n      <td>[55.8245645, 37.3200658]</td>\n      <td>Москва</td>\n      <td>26.796250</td>\n      <td>27.048615</td>\n    </tr>\n    <tr>\n      <th>1023</th>\n      <td>193794.0</td>\n      <td>[55.77423283341192, 37.18785469565617]</td>\n      <td>[55.8245645, 37.3200658]</td>\n      <td>Москва</td>\n      <td>26.847079</td>\n      <td>27.100344</td>\n    </tr>\n    <tr>\n      <th>1024</th>\n      <td>965164.0</td>\n      <td>[55.774781765706344, 37.192168635511905]</td>\n      <td>[55.8245645, 37.3200658]</td>\n      <td>Москва</td>\n      <td>26.579581</td>\n      <td>26.836761</td>\n    </tr>\n    <tr>\n      <th>1025</th>\n      <td>228584.0</td>\n      <td>[55.774113309585516, 37.19166740191666]</td>\n      <td>[55.8245645, 37.3200658]</td>\n      <td>Москва</td>\n      <td>26.607449</td>\n      <td>26.860890</td>\n    </tr>\n    <tr>\n      <th>1026</th>\n      <td>485292.0</td>\n      <td>[55.77287168900434, 37.19116598610442]</td>\n      <td>[55.8245645, 37.3200658]</td>\n      <td>Москва</td>\n      <td>26.632850</td>\n      <td>26.879444</td>\n    </tr>\n    <tr>\n      <th>1028</th>\n      <td>911898.0</td>\n      <td>[55.861327088680035, 37.96546614068932]</td>\n      <td>[56.132591399999995, 38.43552736326269]</td>\n      <td>Москва</td>\n      <td>24.578746</td>\n      <td>25.069906</td>\n    </tr>\n    <tr>\n      <th>1029</th>\n      <td>358602.0</td>\n      <td>[55.86030758561121, 37.965662708111054]</td>\n      <td>[56.132591399999995, 38.43552736326269]</td>\n      <td>Москва</td>\n      <td>24.539345</td>\n      <td>25.025206</td>\n    </tr>\n    <tr>\n      <th>1059</th>\n      <td>375547.0</td>\n      <td>[56.2204777372775, 38.82982818408087]</td>\n      <td>[56.1345574, 38.85192758087219]</td>\n      <td>Владимир</td>\n      <td>91.371951</td>\n      <td>98.519121</td>\n    </tr>\n    <tr>\n      <th>1071</th>\n      <td>558271.0</td>\n      <td>[56.330418993441626, 43.999636975386885]</td>\n      <td>[59.938732, 30.316229]</td>\n      <td>Санкт-Петербург</td>\n      <td>402.718199</td>\n      <td>898.447501</td>\n    </tr>\n    <tr>\n      <th>1088</th>\n      <td>832865.0</td>\n      <td>[56.220702230946934, 38.830173334455964]</td>\n      <td>[56.1345574, 38.85192758087219]</td>\n      <td>Владимир</td>\n      <td>91.403592</td>\n      <td>98.500106</td>\n    </tr>\n    <tr>\n      <th>1089</th>\n      <td>685427.0</td>\n      <td>[56.22025317869223, 38.8294833045054]</td>\n      <td>[56.1345574, 38.85192758087219]</td>\n      <td>Владимир</td>\n      <td>91.340320</td>\n      <td>98.538125</td>\n    </tr>\n    <tr>\n      <th>1090</th>\n      <td>912862.0</td>\n      <td>[56.220028795860095, 38.829138473265814]</td>\n      <td>[56.1345574, 38.85192758087219]</td>\n      <td>Владимир</td>\n      <td>91.308704</td>\n      <td>98.557137</td>\n    </tr>\n    <tr>\n      <th>1091</th>\n      <td>414888.0</td>\n      <td>[56.21980402879613, 38.82879190878167]</td>\n      <td>[56.1345574, 38.85192758087219]</td>\n      <td>Владимир</td>\n      <td>91.276975</td>\n      <td>98.576259</td>\n    </tr>\n    <tr>\n      <th>1092</th>\n      <td>243082.0</td>\n      <td>[56.219568800619335, 38.82842759456799]</td>\n      <td>[56.1345574, 38.85192758087219]</td>\n      <td>Владимир</td>\n      <td>91.243686</td>\n      <td>98.596379</td>\n    </tr>\n    <tr>\n      <th>1093</th>\n      <td>455192.0</td>\n      <td>[56.22133628867946, 38.830116815941096]</td>\n      <td>[56.1345574, 38.85192758087219]</td>\n      <td>Владимир</td>\n      <td>91.439589</td>\n      <td>98.510145</td>\n    </tr>\n    <tr>\n      <th>1094</th>\n      <td>769564.0</td>\n      <td>[56.22109231429189, 38.82974797542839]</td>\n      <td>[56.1345574, 38.85192758087219]</td>\n      <td>Владимир</td>\n      <td>91.405520</td>\n      <td>98.530402</td>\n    </tr>\n    <tr>\n      <th>1095</th>\n      <td>145258.0</td>\n      <td>[56.2208520914455, 38.82937029995805]</td>\n      <td>[56.1345574, 38.85192758087219]</td>\n      <td>Владимир</td>\n      <td>91.371224</td>\n      <td>98.551253</td>\n    </tr>\n    <tr>\n      <th>1096</th>\n      <td>552228.0</td>\n      <td>[56.220614509852176, 38.82901055740047]</td>\n      <td>[56.1345574, 38.85192758087219]</td>\n      <td>Владимир</td>\n      <td>91.338020</td>\n      <td>98.571031</td>\n    </tr>\n    <tr>\n      <th>1097</th>\n      <td>818038.0</td>\n      <td>[56.220384020574755, 38.82865446546947]</td>\n      <td>[56.1345574, 38.85192758087219]</td>\n      <td>Владимир</td>\n      <td>91.305441</td>\n      <td>98.590666</td>\n    </tr>\n    <tr>\n      <th>1098</th>\n      <td>425522.0</td>\n      <td>[56.22015304269483, 38.82830372567661]</td>\n      <td>[56.1345574, 38.85192758087219]</td>\n      <td>Владимир</td>\n      <td>91.273110</td>\n      <td>98.609972</td>\n    </tr>\n    <tr>\n      <th>1099</th>\n      <td>914932.0</td>\n      <td>[56.21991590278193, 38.82794323451037]</td>\n      <td>[56.1345574, 38.85192758087219]</td>\n      <td>Владимир</td>\n      <td>91.239897</td>\n      <td>98.629826</td>\n    </tr>\n    <tr>\n      <th>1100</th>\n      <td>415250.0</td>\n      <td>[56.21925783875095, 38.83014414818987]</td>\n      <td>[56.1345574, 38.85192758087219]</td>\n      <td>Владимир</td>\n      <td>91.313559</td>\n      <td>98.487180</td>\n    </tr>\n    <tr>\n      <th>1101</th>\n      <td>215023.0</td>\n      <td>[56.21903376317143, 38.829798725939064]</td>\n      <td>[56.1345574, 38.85192758087219]</td>\n      <td>Владимир</td>\n      <td>91.281941</td>\n      <td>98.506260</td>\n    </tr>\n    <tr>\n      <th>1102</th>\n      <td>550544.0</td>\n      <td>[56.21880835321254, 38.82944607539866]</td>\n      <td>[56.1345574, 38.85192758087219]</td>\n      <td>Владимир</td>\n      <td>91.249869</td>\n      <td>98.525781</td>\n    </tr>\n    <tr>\n      <th>1103</th>\n      <td>478901.0</td>\n      <td>[56.22035292638327, 38.830869072848735]</td>\n      <td>[56.1345574, 38.85192758087219]</td>\n      <td>Владимир</td>\n      <td>91.418196</td>\n      <td>98.453541</td>\n    </tr>\n    <tr>\n      <th>1104</th>\n      <td>852872.0</td>\n      <td>[56.220096981216166, 38.83048021468055]</td>\n      <td>[56.1345574, 38.85192758087219]</td>\n      <td>Владимир</td>\n      <td>91.382369</td>\n      <td>98.474944</td>\n    </tr>\n    <tr>\n      <th>1105</th>\n      <td>264512.0</td>\n      <td>[56.219429521581475, 38.83162556534035]</td>\n      <td>[56.1345574, 38.85192758087219]</td>\n      <td>Владимир</td>\n      <td>91.400844</td>\n      <td>98.397393</td>\n    </tr>\n    <tr>\n      <th>1107</th>\n      <td>434559.0</td>\n      <td>[56.219003761871406, 38.83097397346558]</td>\n      <td>[56.1345574, 38.85192758087219]</td>\n      <td>Владимир</td>\n      <td>91.341022</td>\n      <td>98.433345</td>\n    </tr>\n    <tr>\n      <th>1108</th>\n      <td>440090.0</td>\n      <td>[56.21879252298791, 38.83065883693948]</td>\n      <td>[56.1345574, 38.85192758087219]</td>\n      <td>Владимир</td>\n      <td>91.311765</td>\n      <td>98.450689</td>\n    </tr>\n    <tr>\n      <th>1110</th>\n      <td>630865.0</td>\n      <td>[56.219959404318956, 38.83121414873892]</td>\n      <td>[56.1345574, 38.85192758087219]</td>\n      <td>Владимир</td>\n      <td>91.411960</td>\n      <td>98.428200</td>\n    </tr>\n    <tr>\n      <th>1112</th>\n      <td>979932.0</td>\n      <td>[56.21904254319914, 38.831961664324474]</td>\n      <td>[56.1345574, 38.85192758087219]</td>\n      <td>Владимир</td>\n      <td>91.394602</td>\n      <td>98.372713</td>\n    </tr>\n    <tr>\n      <th>1116</th>\n      <td>893392.0</td>\n      <td>[56.219598046418646, 38.82971559603704]</td>\n      <td>[56.1345574, 38.85192758087219]</td>\n      <td>Владимир</td>\n      <td>91.312190</td>\n      <td>98.517102</td>\n    </tr>\n    <tr>\n      <th>1117</th>\n      <td>595554.0</td>\n      <td>[56.21937001369826, 38.829364808205405]</td>\n      <td>[56.1345574, 38.85192758087219]</td>\n      <td>Владимир</td>\n      <td>91.280048</td>\n      <td>98.536464</td>\n    </tr>\n    <tr>\n      <th>1118</th>\n      <td>691104.0</td>\n      <td>[56.21913602478085, 38.82900562858026]</td>\n      <td>[56.1345574, 38.85192758087219]</td>\n      <td>Владимир</td>\n      <td>91.247107</td>\n      <td>98.556292</td>\n    </tr>\n    <tr>\n      <th>1119</th>\n      <td>630263.0</td>\n      <td>[56.220926330893064, 38.83048310378695]</td>\n      <td>[56.1345574, 38.85192758087219]</td>\n      <td>Владимир</td>\n      <td>91.433379</td>\n      <td>98.483280</td>\n    </tr>\n    <tr>\n      <th>1120</th>\n      <td>177552.0</td>\n      <td>[56.21983629294916, 38.8300820194728]</td>\n      <td>[56.1345574, 38.85192758087219]</td>\n      <td>Владимир</td>\n      <td>91.345769</td>\n      <td>98.496885</td>\n    </tr>\n  </tbody>\n</table>\n</div>"
     },
     "execution_count": 143,
     "metadata": {},
     "output_type": "execute_result"
    }
   ],
   "source": [
    "lien_df1.loc[lien_df1['km_to_region_capital']>lien_df1['km_to_msk'],\n",
    "             ['asset_id', 'cadastral_geocode', 'region_geocode', 'region_capital', 'km_to_msk', 'km_to_region_capital']]"
   ],
   "metadata": {
    "collapsed": false,
    "pycharm": {
     "name": "#%%\n"
    }
   }
  },
  {
   "cell_type": "code",
   "execution_count": 149,
   "outputs": [],
   "source": [
    "lien_df1.to_csv('lien_df1_18_01_23.csv', sep=';', index=False)"
   ],
   "metadata": {
    "collapsed": false,
    "pycharm": {
     "name": "#%%\n"
    }
   }
  },
  {
   "cell_type": "code",
   "execution_count": 161,
   "outputs": [
    {
     "ename": "ValueError",
     "evalue": "The truth value of a Series is ambiguous. Use a.empty, a.bool(), a.item(), a.any() or a.all().",
     "output_type": "error",
     "traceback": [
      "\u001B[0;31m---------------------------------------------------------------------------\u001B[0m",
      "\u001B[0;31mValueError\u001B[0m                                Traceback (most recent call last)",
      "Input \u001B[0;32mIn [161]\u001B[0m, in \u001B[0;36m<cell line: 1>\u001B[0;34m()\u001B[0m\n\u001B[0;32m----> 1\u001B[0m lien_df1[\u001B[38;5;124m'\u001B[39m\u001B[38;5;124mprice_by_square\u001B[39m\u001B[38;5;124m'\u001B[39m] \u001B[38;5;241m=\u001B[39m lien_df1[\u001B[38;5;124m'\u001B[39m\u001B[38;5;124mprice_value\u001B[39m\u001B[38;5;124m'\u001B[39m] \u001B[38;5;241m/\u001B[39m lien_df1[\u001B[38;5;124m'\u001B[39m\u001B[38;5;124msquare\u001B[39m\u001B[38;5;124m'\u001B[39m] \u001B[38;5;28;01mif\u001B[39;00m pd\u001B[38;5;241m.\u001B[39mnotnull(lien_df1[\u001B[38;5;124m'\u001B[39m\u001B[38;5;124msquare\u001B[39m\u001B[38;5;124m'\u001B[39m]) \u001B[38;5;28;01melse\u001B[39;00m np\u001B[38;5;241m.\u001B[39mNaN\n",
      "File \u001B[0;32m~/Library/Python/3.8/lib/python/site-packages/pandas/core/generic.py:1527\u001B[0m, in \u001B[0;36mNDFrame.__nonzero__\u001B[0;34m(self)\u001B[0m\n\u001B[1;32m   1525\u001B[0m \u001B[38;5;129m@final\u001B[39m\n\u001B[1;32m   1526\u001B[0m \u001B[38;5;28;01mdef\u001B[39;00m \u001B[38;5;21m__nonzero__\u001B[39m(\u001B[38;5;28mself\u001B[39m):\n\u001B[0;32m-> 1527\u001B[0m     \u001B[38;5;28;01mraise\u001B[39;00m \u001B[38;5;167;01mValueError\u001B[39;00m(\n\u001B[1;32m   1528\u001B[0m         \u001B[38;5;124mf\u001B[39m\u001B[38;5;124m\"\u001B[39m\u001B[38;5;124mThe truth value of a \u001B[39m\u001B[38;5;132;01m{\u001B[39;00m\u001B[38;5;28mtype\u001B[39m(\u001B[38;5;28mself\u001B[39m)\u001B[38;5;241m.\u001B[39m\u001B[38;5;18m__name__\u001B[39m\u001B[38;5;132;01m}\u001B[39;00m\u001B[38;5;124m is ambiguous. \u001B[39m\u001B[38;5;124m\"\u001B[39m\n\u001B[1;32m   1529\u001B[0m         \u001B[38;5;124m\"\u001B[39m\u001B[38;5;124mUse a.empty, a.bool(), a.item(), a.any() or a.all().\u001B[39m\u001B[38;5;124m\"\u001B[39m\n\u001B[1;32m   1530\u001B[0m     )\n",
      "\u001B[0;31mValueError\u001B[0m: The truth value of a Series is ambiguous. Use a.empty, a.bool(), a.item(), a.any() or a.all()."
     ]
    }
   ],
   "source": [
    "lien_df1['price_by_square'] = lien_df1['price_value'] / lien_df1['square'] if pd.notnull(lien_df1['square']) else np.NaN"
   ],
   "metadata": {
    "collapsed": false,
    "pycharm": {
     "name": "#%%\n"
    }
   }
  },
  {
   "cell_type": "code",
   "execution_count": 162,
   "outputs": [
    {
     "name": "stderr",
     "output_type": "stream",
     "text": [
      "/var/folders/0d/nn90v_dn4y56s_xnhsv23lf00000gn/T/ipykernel_1418/4177139387.py:1: SettingWithCopyWarning: \n",
      "A value is trying to be set on a copy of a slice from a DataFrame.\n",
      "Try using .loc[row_indexer,col_indexer] = value instead\n",
      "\n",
      "See the caveats in the documentation: https://pandas.pydata.org/pandas-docs/stable/user_guide/indexing.html#returning-a-view-versus-a-copy\n",
      "  lien_df1['price_by_square'] = lien_df1.apply(lambda x: x.price_value/x.square if x.square>0 else np.NaN, axis=1)\n"
     ]
    }
   ],
   "source": [
    "lien_df1['price_by_square'] = lien_df1.apply(lambda x: x.price_value/x.square if x.square>0 else np.NaN, axis=1)"
   ],
   "metadata": {
    "collapsed": false,
    "pycharm": {
     "name": "#%%\n"
    }
   }
  },
  {
   "cell_type": "code",
   "execution_count": null,
   "outputs": [],
   "source": [],
   "metadata": {
    "collapsed": false,
    "pycharm": {
     "name": "#%%\n"
    }
   }
  },
  {
   "cell_type": "code",
   "execution_count": 163,
   "outputs": [
    {
     "data": {
      "text/plain": "      asset_id   views publication_date                      contact_name  \\\n0     814114.0  1535.0   15 ноября 2022            Контактный Центр Банка   \n4     641505.0  2311.0    31 марта 2022        Гаас Александра Георгиевна   \n5     169347.0   466.0   18 апреля 2022            Брюнель Ева Жисленовна   \n6     899895.0  1286.0     25 июня 2022  Плесняев Александр Александрович   \n7     269183.0  1057.0     17 июня 2022         Беликин Иван Владимирович   \n...        ...     ...              ...                               ...   \n1118  691104.0   269.0      20 мая 2021            Коваленко Александр Ан   \n1119  630263.0   279.0      20 мая 2021            Коваленко Александр Ан   \n1120  177552.0   281.0      20 мая 2021            Коваленко Александр Ан   \n1121  841885.0   610.0      11 мая 2021          Нуриев Эдуард Рамзилович   \n1122  419254.0   461.0   22 апреля 2021        Самойленко Денис Сергеевич   \n\n                           seller_name    square  price_value  \\\n0                       Банк ВТБ (ПАО)       NaN   48700000.0   \n4                      Физическое лицо   25111.0  145500000.0   \n5                      Физическое лицо   50574.0    4500000.0   \n6     Плесняев Александр Александрович  504500.0   23450000.0   \n7            Беликин Иван Владимирович   10000.0  320000000.0   \n...                                ...       ...          ...   \n1118               АО \"Россельхозбанк\"    1527.0   10709963.0   \n1119               АО \"Россельхозбанк\"    1321.0    9265136.0   \n1120               АО \"Россельхозбанк\"    1676.0   11755032.0   \n1121               АО \"Россельхозбанк\"  150100.0     226651.0   \n1122                      ПАО Сбербанк   10000.0    8270000.0   \n\n                            cadastral_geocode  \\\n0                                         NaN   \n4      [51.94720028246027, 84.88831594503662]   \n5      [56.77190698765615, 38.88962726762723]   \n6     [55.73199800626753, 35.340751735565306]   \n7       [55.7008175028533, 37.02131098410721]   \n...                                       ...   \n1118   [56.21913602478085, 38.82900562858026]   \n1119  [56.220926330893064, 38.83048310378695]   \n1120    [56.21983629294916, 38.8300820194728]   \n1121  [55.822853130025955, 52.73092958759532]   \n1122   [57.14073651577907, 33.14393000643601]   \n\n                               region_geocode  shown_by_days   distance  \\\n0                    [55.6711507, 37.2727963]      64.884407        NaN   \n4                    [51.9931851, 84.9819571]     293.884407   8.221511   \n5            [56.80208355, 38.64899133747492]     275.884407  15.086412   \n6                     [55.506478, 36.0213092]     207.884407  49.688507   \n7                    [55.6711507, 37.2727963]     215.884407  16.159018   \n...                                       ...            ...        ...   \n1118          [56.1345574, 38.85192758087219]     608.884408   9.524407   \n1119          [56.1345574, 38.85192758087219]     608.884408   9.708539   \n1120          [56.1345574, 38.85192758087219]     608.884408   9.591824   \n1121  [55.682141200000004, 52.09069161386946]     617.884408  43.145711   \n1122                 [57.1557583, 33.1013213]     636.884408   3.074139   \n\n      region_square  population region_capital     grp  criminality  \\\n0           44329.0   8542257.0         Москва  4201.8         72.9   \n4          167996.0   2154932.0        Барнаул   550.0        130.8   \n5           36177.0   1205637.0      Ярославль   560.6        105.1   \n6           44329.0   8542257.0         Москва  4201.8         72.9   \n7           44329.0   8542257.0         Москва  4201.8         72.9   \n...             ...         ...            ...     ...          ...   \n1118        29084.0   1342235.0       Владимир   440.5         91.1   \n1119        29084.0   1342235.0       Владимир   440.5         91.1   \n1120        29084.0   1342235.0       Владимир   440.5         91.1   \n1121        67847.0   4000084.0         Казань  2469.2        102.1   \n1122        84201.0   1226038.0          Тверь   441.7        130.5   \n\n        km_to_msk           region_capital_geocode  km_to_region_capital  \\\n0       23.785924         [55.7504461, 37.6174943]                   NaN   \n4     3077.808288          [53.347402, 83.7784496]            172.971129   \n5      137.376612         [57.6263877, 39.8933705]            112.852414   \n6      142.859455         [55.7504461, 37.6174943]            143.008314   \n7       37.925763         [55.7504461, 37.6174943]             37.865816   \n...           ...                              ...                   ...   \n1118    91.247107         [56.1288899, 40.4075203]             98.556292   \n1119    91.433379         [56.1288899, 40.4075203]             98.483280   \n1120    91.345769         [56.1288899, 40.4075203]             98.496885   \n1121   946.305150         [55.7823547, 49.1242266]            226.197191   \n1122   315.461761  [56.8596713, 35.89524161906262]            170.094175   \n\n      price_by_square  \n0                 NaN  \n4         5794.273426  \n5           88.978527  \n6           46.481665  \n7        32000.000000  \n...               ...  \n1118      7013.728225  \n1119      7013.728993  \n1120      7013.742243  \n1121         1.510000  \n1122       827.000000  \n\n[832 rows x 20 columns]",
      "text/html": "<div>\n<style scoped>\n    .dataframe tbody tr th:only-of-type {\n        vertical-align: middle;\n    }\n\n    .dataframe tbody tr th {\n        vertical-align: top;\n    }\n\n    .dataframe thead th {\n        text-align: right;\n    }\n</style>\n<table border=\"1\" class=\"dataframe\">\n  <thead>\n    <tr style=\"text-align: right;\">\n      <th></th>\n      <th>asset_id</th>\n      <th>views</th>\n      <th>publication_date</th>\n      <th>contact_name</th>\n      <th>seller_name</th>\n      <th>square</th>\n      <th>price_value</th>\n      <th>cadastral_geocode</th>\n      <th>region_geocode</th>\n      <th>shown_by_days</th>\n      <th>distance</th>\n      <th>region_square</th>\n      <th>population</th>\n      <th>region_capital</th>\n      <th>grp</th>\n      <th>criminality</th>\n      <th>km_to_msk</th>\n      <th>region_capital_geocode</th>\n      <th>km_to_region_capital</th>\n      <th>price_by_square</th>\n    </tr>\n  </thead>\n  <tbody>\n    <tr>\n      <th>0</th>\n      <td>814114.0</td>\n      <td>1535.0</td>\n      <td>15 ноября 2022</td>\n      <td>Контактный Центр Банка</td>\n      <td>Банк ВТБ (ПАО)</td>\n      <td>NaN</td>\n      <td>48700000.0</td>\n      <td>NaN</td>\n      <td>[55.6711507, 37.2727963]</td>\n      <td>64.884407</td>\n      <td>NaN</td>\n      <td>44329.0</td>\n      <td>8542257.0</td>\n      <td>Москва</td>\n      <td>4201.8</td>\n      <td>72.9</td>\n      <td>23.785924</td>\n      <td>[55.7504461, 37.6174943]</td>\n      <td>NaN</td>\n      <td>NaN</td>\n    </tr>\n    <tr>\n      <th>4</th>\n      <td>641505.0</td>\n      <td>2311.0</td>\n      <td>31 марта 2022</td>\n      <td>Гаас Александра Георгиевна</td>\n      <td>Физическое лицо</td>\n      <td>25111.0</td>\n      <td>145500000.0</td>\n      <td>[51.94720028246027, 84.88831594503662]</td>\n      <td>[51.9931851, 84.9819571]</td>\n      <td>293.884407</td>\n      <td>8.221511</td>\n      <td>167996.0</td>\n      <td>2154932.0</td>\n      <td>Барнаул</td>\n      <td>550.0</td>\n      <td>130.8</td>\n      <td>3077.808288</td>\n      <td>[53.347402, 83.7784496]</td>\n      <td>172.971129</td>\n      <td>5794.273426</td>\n    </tr>\n    <tr>\n      <th>5</th>\n      <td>169347.0</td>\n      <td>466.0</td>\n      <td>18 апреля 2022</td>\n      <td>Брюнель Ева Жисленовна</td>\n      <td>Физическое лицо</td>\n      <td>50574.0</td>\n      <td>4500000.0</td>\n      <td>[56.77190698765615, 38.88962726762723]</td>\n      <td>[56.80208355, 38.64899133747492]</td>\n      <td>275.884407</td>\n      <td>15.086412</td>\n      <td>36177.0</td>\n      <td>1205637.0</td>\n      <td>Ярославль</td>\n      <td>560.6</td>\n      <td>105.1</td>\n      <td>137.376612</td>\n      <td>[57.6263877, 39.8933705]</td>\n      <td>112.852414</td>\n      <td>88.978527</td>\n    </tr>\n    <tr>\n      <th>6</th>\n      <td>899895.0</td>\n      <td>1286.0</td>\n      <td>25 июня 2022</td>\n      <td>Плесняев Александр Александрович</td>\n      <td>Плесняев Александр Александрович</td>\n      <td>504500.0</td>\n      <td>23450000.0</td>\n      <td>[55.73199800626753, 35.340751735565306]</td>\n      <td>[55.506478, 36.0213092]</td>\n      <td>207.884407</td>\n      <td>49.688507</td>\n      <td>44329.0</td>\n      <td>8542257.0</td>\n      <td>Москва</td>\n      <td>4201.8</td>\n      <td>72.9</td>\n      <td>142.859455</td>\n      <td>[55.7504461, 37.6174943]</td>\n      <td>143.008314</td>\n      <td>46.481665</td>\n    </tr>\n    <tr>\n      <th>7</th>\n      <td>269183.0</td>\n      <td>1057.0</td>\n      <td>17 июня 2022</td>\n      <td>Беликин Иван Владимирович</td>\n      <td>Беликин Иван Владимирович</td>\n      <td>10000.0</td>\n      <td>320000000.0</td>\n      <td>[55.7008175028533, 37.02131098410721]</td>\n      <td>[55.6711507, 37.2727963]</td>\n      <td>215.884407</td>\n      <td>16.159018</td>\n      <td>44329.0</td>\n      <td>8542257.0</td>\n      <td>Москва</td>\n      <td>4201.8</td>\n      <td>72.9</td>\n      <td>37.925763</td>\n      <td>[55.7504461, 37.6174943]</td>\n      <td>37.865816</td>\n      <td>32000.000000</td>\n    </tr>\n    <tr>\n      <th>...</th>\n      <td>...</td>\n      <td>...</td>\n      <td>...</td>\n      <td>...</td>\n      <td>...</td>\n      <td>...</td>\n      <td>...</td>\n      <td>...</td>\n      <td>...</td>\n      <td>...</td>\n      <td>...</td>\n      <td>...</td>\n      <td>...</td>\n      <td>...</td>\n      <td>...</td>\n      <td>...</td>\n      <td>...</td>\n      <td>...</td>\n      <td>...</td>\n      <td>...</td>\n    </tr>\n    <tr>\n      <th>1118</th>\n      <td>691104.0</td>\n      <td>269.0</td>\n      <td>20 мая 2021</td>\n      <td>Коваленко Александр Ан</td>\n      <td>АО \"Россельхозбанк\"</td>\n      <td>1527.0</td>\n      <td>10709963.0</td>\n      <td>[56.21913602478085, 38.82900562858026]</td>\n      <td>[56.1345574, 38.85192758087219]</td>\n      <td>608.884408</td>\n      <td>9.524407</td>\n      <td>29084.0</td>\n      <td>1342235.0</td>\n      <td>Владимир</td>\n      <td>440.5</td>\n      <td>91.1</td>\n      <td>91.247107</td>\n      <td>[56.1288899, 40.4075203]</td>\n      <td>98.556292</td>\n      <td>7013.728225</td>\n    </tr>\n    <tr>\n      <th>1119</th>\n      <td>630263.0</td>\n      <td>279.0</td>\n      <td>20 мая 2021</td>\n      <td>Коваленко Александр Ан</td>\n      <td>АО \"Россельхозбанк\"</td>\n      <td>1321.0</td>\n      <td>9265136.0</td>\n      <td>[56.220926330893064, 38.83048310378695]</td>\n      <td>[56.1345574, 38.85192758087219]</td>\n      <td>608.884408</td>\n      <td>9.708539</td>\n      <td>29084.0</td>\n      <td>1342235.0</td>\n      <td>Владимир</td>\n      <td>440.5</td>\n      <td>91.1</td>\n      <td>91.433379</td>\n      <td>[56.1288899, 40.4075203]</td>\n      <td>98.483280</td>\n      <td>7013.728993</td>\n    </tr>\n    <tr>\n      <th>1120</th>\n      <td>177552.0</td>\n      <td>281.0</td>\n      <td>20 мая 2021</td>\n      <td>Коваленко Александр Ан</td>\n      <td>АО \"Россельхозбанк\"</td>\n      <td>1676.0</td>\n      <td>11755032.0</td>\n      <td>[56.21983629294916, 38.8300820194728]</td>\n      <td>[56.1345574, 38.85192758087219]</td>\n      <td>608.884408</td>\n      <td>9.591824</td>\n      <td>29084.0</td>\n      <td>1342235.0</td>\n      <td>Владимир</td>\n      <td>440.5</td>\n      <td>91.1</td>\n      <td>91.345769</td>\n      <td>[56.1288899, 40.4075203]</td>\n      <td>98.496885</td>\n      <td>7013.742243</td>\n    </tr>\n    <tr>\n      <th>1121</th>\n      <td>841885.0</td>\n      <td>610.0</td>\n      <td>11 мая 2021</td>\n      <td>Нуриев Эдуард Рамзилович</td>\n      <td>АО \"Россельхозбанк\"</td>\n      <td>150100.0</td>\n      <td>226651.0</td>\n      <td>[55.822853130025955, 52.73092958759532]</td>\n      <td>[55.682141200000004, 52.09069161386946]</td>\n      <td>617.884408</td>\n      <td>43.145711</td>\n      <td>67847.0</td>\n      <td>4000084.0</td>\n      <td>Казань</td>\n      <td>2469.2</td>\n      <td>102.1</td>\n      <td>946.305150</td>\n      <td>[55.7823547, 49.1242266]</td>\n      <td>226.197191</td>\n      <td>1.510000</td>\n    </tr>\n    <tr>\n      <th>1122</th>\n      <td>419254.0</td>\n      <td>461.0</td>\n      <td>22 апреля 2021</td>\n      <td>Самойленко Денис Сергеевич</td>\n      <td>ПАО Сбербанк</td>\n      <td>10000.0</td>\n      <td>8270000.0</td>\n      <td>[57.14073651577907, 33.14393000643601]</td>\n      <td>[57.1557583, 33.1013213]</td>\n      <td>636.884408</td>\n      <td>3.074139</td>\n      <td>84201.0</td>\n      <td>1226038.0</td>\n      <td>Тверь</td>\n      <td>441.7</td>\n      <td>130.5</td>\n      <td>315.461761</td>\n      <td>[56.8596713, 35.89524161906262]</td>\n      <td>170.094175</td>\n      <td>827.000000</td>\n    </tr>\n  </tbody>\n</table>\n<p>832 rows × 20 columns</p>\n</div>"
     },
     "execution_count": 163,
     "metadata": {},
     "output_type": "execute_result"
    }
   ],
   "source": [
    "lien_df1"
   ],
   "metadata": {
    "collapsed": false,
    "pycharm": {
     "name": "#%%\n"
    }
   }
  },
  {
   "cell_type": "code",
   "execution_count": 157,
   "outputs": [
    {
     "name": "stderr",
     "output_type": "stream",
     "text": [
      "/var/folders/0d/nn90v_dn4y56s_xnhsv23lf00000gn/T/ipykernel_1418/2655567796.py:1: SettingWithCopyWarning: \n",
      "A value is trying to be set on a copy of a slice from a DataFrame\n",
      "\n",
      "See the caveats in the documentation: https://pandas.pydata.org/pandas-docs/stable/user_guide/indexing.html#returning-a-view-versus-a-copy\n",
      "  lien_df1['price_by_square'] = lien_df1['price_by_square'].replace([np.inf, -np.inf], np.nan, inplace=True)\n",
      "/var/folders/0d/nn90v_dn4y56s_xnhsv23lf00000gn/T/ipykernel_1418/2655567796.py:1: SettingWithCopyWarning: \n",
      "A value is trying to be set on a copy of a slice from a DataFrame.\n",
      "Try using .loc[row_indexer,col_indexer] = value instead\n",
      "\n",
      "See the caveats in the documentation: https://pandas.pydata.org/pandas-docs/stable/user_guide/indexing.html#returning-a-view-versus-a-copy\n",
      "  lien_df1['price_by_square'] = lien_df1['price_by_square'].replace([np.inf, -np.inf], np.nan, inplace=True)\n"
     ]
    }
   ],
   "source": [
    "lien_df1['price_by_square'] = lien_df1['price_by_square'].replace([np.inf, -np.inf], np.nan, inplace=True)"
   ],
   "metadata": {
    "collapsed": false,
    "pycharm": {
     "name": "#%%\n"
    }
   }
  },
  {
   "cell_type": "code",
   "execution_count": 167,
   "outputs": [
    {
     "data": {
      "text/plain": "                 price_value  price_by_square\nprice_value         1.000000         0.105196\nprice_by_square     0.105196         1.000000",
      "text/html": "<div>\n<style scoped>\n    .dataframe tbody tr th:only-of-type {\n        vertical-align: middle;\n    }\n\n    .dataframe tbody tr th {\n        vertical-align: top;\n    }\n\n    .dataframe thead th {\n        text-align: right;\n    }\n</style>\n<table border=\"1\" class=\"dataframe\">\n  <thead>\n    <tr style=\"text-align: right;\">\n      <th></th>\n      <th>price_value</th>\n      <th>price_by_square</th>\n    </tr>\n  </thead>\n  <tbody>\n    <tr>\n      <th>price_value</th>\n      <td>1.000000</td>\n      <td>0.105196</td>\n    </tr>\n    <tr>\n      <th>price_by_square</th>\n      <td>0.105196</td>\n      <td>1.000000</td>\n    </tr>\n  </tbody>\n</table>\n</div>"
     },
     "execution_count": 167,
     "metadata": {},
     "output_type": "execute_result"
    }
   ],
   "source": [
    "lien_df1[['price_value', 'price_by_square']].corr()"
   ],
   "metadata": {
    "collapsed": false,
    "pycharm": {
     "name": "#%%\n"
    }
   }
  },
  {
   "cell_type": "code",
   "execution_count": 172,
   "outputs": [
    {
     "data": {
      "text/plain": "asset_id                1.112347\nviews                   1.990867\nsquare                  0.832188\nprice_value             1.467554\nshown_by_days           1.568494\ndistance                1.769401\nregion_square           1.940297\npopulation              1.460943\ngrp                     1.510352\ncriminality             1.467535\nkm_to_msk               1.840240\nkm_to_region_capital    2.085543\nprice_by_square         1.013515\ndtype: float64"
     },
     "execution_count": 172,
     "metadata": {},
     "output_type": "execute_result"
    }
   ],
   "source": [
    "lien_df1.corr().sum()"
   ],
   "metadata": {
    "collapsed": false,
    "pycharm": {
     "name": "#%%\n"
    }
   }
  },
  {
   "cell_type": "code",
   "execution_count": 173,
   "outputs": [
    {
     "data": {
      "text/plain": "                      asset_id     views    square  price_value  \\\nasset_id              1.000000  0.004226 -0.049093     0.011247   \nviews                 0.004226  1.000000 -0.019296     0.087105   \nsquare               -0.049093 -0.019296  1.000000     0.029293   \nprice_value           0.011247  0.087105  0.029293     1.000000   \nshown_by_days        -0.000304  0.705182  0.026018     0.068225   \ndistance             -0.030379  0.057045  0.034024    -0.009730   \nregion_square         0.030433 -0.000620 -0.032269    -0.012435   \npopulation           -0.040674  0.091619  0.009796     0.118409   \ngrp                  -0.013788  0.006804 -0.007253     0.143439   \ncriminality           0.062616 -0.001343 -0.035771    -0.002577   \nkm_to_msk             0.099384 -0.009950 -0.057335    -0.016012   \nkm_to_region_capital  0.076034  0.092870 -0.049485    -0.054605   \nprice_by_square      -0.037356 -0.022775 -0.016440     0.105196   \n\n                      shown_by_days  distance  region_square  population  \\\nasset_id                  -0.000304 -0.030379       0.030433   -0.040674   \nviews                      0.705182  0.057045      -0.000620    0.091619   \nsquare                     0.026018  0.034024      -0.032269    0.009796   \nprice_value                0.068225 -0.009730      -0.012435    0.118409   \nshown_by_days              1.000000  0.002683      -0.034238   -0.073581   \ndistance                   0.002683  1.000000       0.081639    0.030724   \nregion_square             -0.034238  0.081639       1.000000   -0.059868   \npopulation                -0.073581  0.030724      -0.059868    1.000000   \ngrp                       -0.123775  0.034579      -0.008375    0.880440   \ncriminality                0.016776  0.034548       0.273880   -0.288302   \nkm_to_msk                 -0.079704  0.048060       0.556451   -0.209187   \nkm_to_region_capital       0.098236  0.466565       0.162738   -0.038736   \nprice_by_square           -0.037025  0.019641      -0.017040    0.040304   \n\n                           grp  criminality  km_to_msk  km_to_region_capital  \\\nasset_id             -0.013788     0.062616   0.099384              0.076034   \nviews                 0.006804    -0.001343  -0.009950              0.092870   \nsquare               -0.007253    -0.035771  -0.057335             -0.049485   \nprice_value           0.143439    -0.002577  -0.016012             -0.054605   \nshown_by_days        -0.123775     0.016776  -0.079704              0.098236   \ndistance              0.034579     0.034548   0.048060              0.466565   \nregion_square        -0.008375     0.273880   0.556451              0.162738   \npopulation            0.880440    -0.288302  -0.209187             -0.038736   \ngrp                   1.000000    -0.219183  -0.182928             -0.016482   \ncriminality          -0.219183     1.000000   0.497338              0.144942   \nkm_to_msk            -0.182928     0.497338   1.000000              0.210032   \nkm_to_region_capital -0.016482     0.144942   0.210032              1.000000   \nprice_by_square       0.016873    -0.015388  -0.015909             -0.006567   \n\n                      price_by_square  \nasset_id                    -0.037356  \nviews                       -0.022775  \nsquare                      -0.016440  \nprice_value                  0.105196  \nshown_by_days               -0.037025  \ndistance                     0.019641  \nregion_square               -0.017040  \npopulation                   0.040304  \ngrp                          0.016873  \ncriminality                 -0.015388  \nkm_to_msk                   -0.015909  \nkm_to_region_capital        -0.006567  \nprice_by_square              1.000000  ",
      "text/html": "<div>\n<style scoped>\n    .dataframe tbody tr th:only-of-type {\n        vertical-align: middle;\n    }\n\n    .dataframe tbody tr th {\n        vertical-align: top;\n    }\n\n    .dataframe thead th {\n        text-align: right;\n    }\n</style>\n<table border=\"1\" class=\"dataframe\">\n  <thead>\n    <tr style=\"text-align: right;\">\n      <th></th>\n      <th>asset_id</th>\n      <th>views</th>\n      <th>square</th>\n      <th>price_value</th>\n      <th>shown_by_days</th>\n      <th>distance</th>\n      <th>region_square</th>\n      <th>population</th>\n      <th>grp</th>\n      <th>criminality</th>\n      <th>km_to_msk</th>\n      <th>km_to_region_capital</th>\n      <th>price_by_square</th>\n    </tr>\n  </thead>\n  <tbody>\n    <tr>\n      <th>asset_id</th>\n      <td>1.000000</td>\n      <td>0.004226</td>\n      <td>-0.049093</td>\n      <td>0.011247</td>\n      <td>-0.000304</td>\n      <td>-0.030379</td>\n      <td>0.030433</td>\n      <td>-0.040674</td>\n      <td>-0.013788</td>\n      <td>0.062616</td>\n      <td>0.099384</td>\n      <td>0.076034</td>\n      <td>-0.037356</td>\n    </tr>\n    <tr>\n      <th>views</th>\n      <td>0.004226</td>\n      <td>1.000000</td>\n      <td>-0.019296</td>\n      <td>0.087105</td>\n      <td>0.705182</td>\n      <td>0.057045</td>\n      <td>-0.000620</td>\n      <td>0.091619</td>\n      <td>0.006804</td>\n      <td>-0.001343</td>\n      <td>-0.009950</td>\n      <td>0.092870</td>\n      <td>-0.022775</td>\n    </tr>\n    <tr>\n      <th>square</th>\n      <td>-0.049093</td>\n      <td>-0.019296</td>\n      <td>1.000000</td>\n      <td>0.029293</td>\n      <td>0.026018</td>\n      <td>0.034024</td>\n      <td>-0.032269</td>\n      <td>0.009796</td>\n      <td>-0.007253</td>\n      <td>-0.035771</td>\n      <td>-0.057335</td>\n      <td>-0.049485</td>\n      <td>-0.016440</td>\n    </tr>\n    <tr>\n      <th>price_value</th>\n      <td>0.011247</td>\n      <td>0.087105</td>\n      <td>0.029293</td>\n      <td>1.000000</td>\n      <td>0.068225</td>\n      <td>-0.009730</td>\n      <td>-0.012435</td>\n      <td>0.118409</td>\n      <td>0.143439</td>\n      <td>-0.002577</td>\n      <td>-0.016012</td>\n      <td>-0.054605</td>\n      <td>0.105196</td>\n    </tr>\n    <tr>\n      <th>shown_by_days</th>\n      <td>-0.000304</td>\n      <td>0.705182</td>\n      <td>0.026018</td>\n      <td>0.068225</td>\n      <td>1.000000</td>\n      <td>0.002683</td>\n      <td>-0.034238</td>\n      <td>-0.073581</td>\n      <td>-0.123775</td>\n      <td>0.016776</td>\n      <td>-0.079704</td>\n      <td>0.098236</td>\n      <td>-0.037025</td>\n    </tr>\n    <tr>\n      <th>distance</th>\n      <td>-0.030379</td>\n      <td>0.057045</td>\n      <td>0.034024</td>\n      <td>-0.009730</td>\n      <td>0.002683</td>\n      <td>1.000000</td>\n      <td>0.081639</td>\n      <td>0.030724</td>\n      <td>0.034579</td>\n      <td>0.034548</td>\n      <td>0.048060</td>\n      <td>0.466565</td>\n      <td>0.019641</td>\n    </tr>\n    <tr>\n      <th>region_square</th>\n      <td>0.030433</td>\n      <td>-0.000620</td>\n      <td>-0.032269</td>\n      <td>-0.012435</td>\n      <td>-0.034238</td>\n      <td>0.081639</td>\n      <td>1.000000</td>\n      <td>-0.059868</td>\n      <td>-0.008375</td>\n      <td>0.273880</td>\n      <td>0.556451</td>\n      <td>0.162738</td>\n      <td>-0.017040</td>\n    </tr>\n    <tr>\n      <th>population</th>\n      <td>-0.040674</td>\n      <td>0.091619</td>\n      <td>0.009796</td>\n      <td>0.118409</td>\n      <td>-0.073581</td>\n      <td>0.030724</td>\n      <td>-0.059868</td>\n      <td>1.000000</td>\n      <td>0.880440</td>\n      <td>-0.288302</td>\n      <td>-0.209187</td>\n      <td>-0.038736</td>\n      <td>0.040304</td>\n    </tr>\n    <tr>\n      <th>grp</th>\n      <td>-0.013788</td>\n      <td>0.006804</td>\n      <td>-0.007253</td>\n      <td>0.143439</td>\n      <td>-0.123775</td>\n      <td>0.034579</td>\n      <td>-0.008375</td>\n      <td>0.880440</td>\n      <td>1.000000</td>\n      <td>-0.219183</td>\n      <td>-0.182928</td>\n      <td>-0.016482</td>\n      <td>0.016873</td>\n    </tr>\n    <tr>\n      <th>criminality</th>\n      <td>0.062616</td>\n      <td>-0.001343</td>\n      <td>-0.035771</td>\n      <td>-0.002577</td>\n      <td>0.016776</td>\n      <td>0.034548</td>\n      <td>0.273880</td>\n      <td>-0.288302</td>\n      <td>-0.219183</td>\n      <td>1.000000</td>\n      <td>0.497338</td>\n      <td>0.144942</td>\n      <td>-0.015388</td>\n    </tr>\n    <tr>\n      <th>km_to_msk</th>\n      <td>0.099384</td>\n      <td>-0.009950</td>\n      <td>-0.057335</td>\n      <td>-0.016012</td>\n      <td>-0.079704</td>\n      <td>0.048060</td>\n      <td>0.556451</td>\n      <td>-0.209187</td>\n      <td>-0.182928</td>\n      <td>0.497338</td>\n      <td>1.000000</td>\n      <td>0.210032</td>\n      <td>-0.015909</td>\n    </tr>\n    <tr>\n      <th>km_to_region_capital</th>\n      <td>0.076034</td>\n      <td>0.092870</td>\n      <td>-0.049485</td>\n      <td>-0.054605</td>\n      <td>0.098236</td>\n      <td>0.466565</td>\n      <td>0.162738</td>\n      <td>-0.038736</td>\n      <td>-0.016482</td>\n      <td>0.144942</td>\n      <td>0.210032</td>\n      <td>1.000000</td>\n      <td>-0.006567</td>\n    </tr>\n    <tr>\n      <th>price_by_square</th>\n      <td>-0.037356</td>\n      <td>-0.022775</td>\n      <td>-0.016440</td>\n      <td>0.105196</td>\n      <td>-0.037025</td>\n      <td>0.019641</td>\n      <td>-0.017040</td>\n      <td>0.040304</td>\n      <td>0.016873</td>\n      <td>-0.015388</td>\n      <td>-0.015909</td>\n      <td>-0.006567</td>\n      <td>1.000000</td>\n    </tr>\n  </tbody>\n</table>\n</div>"
     },
     "execution_count": 173,
     "metadata": {},
     "output_type": "execute_result"
    }
   ],
   "source": [
    "lien_df1.corr()"
   ],
   "metadata": {
    "collapsed": false,
    "pycharm": {
     "name": "#%%\n"
    }
   }
  },
  {
   "cell_type": "code",
   "execution_count": 174,
   "outputs": [],
   "source": [
    "### новые переменные роли не сыграли :("
   ],
   "metadata": {
    "collapsed": false,
    "pycharm": {
     "name": "#%%\n"
    }
   }
  },
  {
   "cell_type": "code",
   "execution_count": null,
   "outputs": [],
   "source": [
    "# todo начать работать с моделированием"
   ],
   "metadata": {
    "collapsed": false,
    "pycharm": {
     "name": "#%%\n",
     "is_executing": true
    }
   }
  },
  {
   "cell_type": "code",
   "execution_count": null,
   "outputs": [],
   "source": [],
   "metadata": {
    "collapsed": false,
    "pycharm": {
     "name": "#%%\n",
     "is_executing": true
    }
   }
  },
  {
   "cell_type": "code",
   "execution_count": null,
   "outputs": [],
   "source": [],
   "metadata": {
    "collapsed": false,
    "pycharm": {
     "name": "#%%\n",
     "is_executing": true
    }
   }
  },
  {
   "cell_type": "code",
   "execution_count": 174,
   "outputs": [],
   "source": [],
   "metadata": {
    "collapsed": false,
    "pycharm": {
     "name": "#%%\n"
    }
   }
  }
 ],
 "metadata": {
  "kernelspec": {
   "name": "portal_da",
   "language": "python",
   "display_name": "portal_da"
  },
  "language_info": {
   "codemirror_mode": {
    "name": "ipython",
    "version": 2
   },
   "file_extension": ".py",
   "mimetype": "text/x-python",
   "name": "python",
   "nbconvert_exporter": "python",
   "pygments_lexer": "ipython2",
   "version": "2.7.6"
  }
 },
 "nbformat": 4,
 "nbformat_minor": 0
}