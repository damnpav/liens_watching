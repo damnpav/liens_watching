{
 "cells": [
  {
   "cell_type": "code",
   "execution_count": 3,
   "metadata": {
    "collapsed": true,
    "pycharm": {
     "name": "#%%\n"
    }
   },
   "outputs": [],
   "source": [
    "import re\n",
    "from playwright.sync_api import Page, expect\n",
    "import requests\n",
    "import pandas as pd"
   ]
  },
  {
   "cell_type": "code",
   "execution_count": 3,
   "outputs": [],
   "source": [],
   "metadata": {
    "collapsed": false,
    "pycharm": {
     "name": "#%%\n"
    }
   }
  },
  {
   "cell_type": "code",
   "execution_count": 4,
   "outputs": [
    {
     "ename": "TypeError",
     "evalue": "goto() missing 1 required positional argument: 'url'",
     "output_type": "error",
     "traceback": [
      "\u001B[0;31m---------------------------------------------------------------------------\u001B[0m",
      "\u001B[0;31mTypeError\u001B[0m                                 Traceback (most recent call last)",
      "Input \u001B[0;32mIn [4]\u001B[0m, in \u001B[0;36m<cell line: 2>\u001B[0;34m()\u001B[0m\n\u001B[1;32m      1\u001B[0m page \u001B[38;5;241m=\u001B[39m Page\n\u001B[0;32m----> 2\u001B[0m \u001B[43mpage\u001B[49m\u001B[38;5;241;43m.\u001B[39;49m\u001B[43mgoto\u001B[49m\u001B[43m(\u001B[49m\u001B[38;5;124;43m\"\u001B[39;49m\u001B[38;5;124;43mhttps://www.demoqa.com/browser-windows\u001B[39;49m\u001B[38;5;124;43m\"\u001B[39;49m\u001B[43m)\u001B[49m\n",
      "\u001B[0;31mTypeError\u001B[0m: goto() missing 1 required positional argument: 'url'"
     ]
    }
   ],
   "source": [
    "page = Page\n",
    "page.goto(\"https://www.demoqa.com/browser-windows\")"
   ],
   "metadata": {
    "collapsed": false,
    "pycharm": {
     "name": "#%%\n"
    }
   }
  },
  {
   "cell_type": "code",
   "execution_count": null,
   "outputs": [],
   "source": [],
   "metadata": {
    "collapsed": false,
    "pycharm": {
     "name": "#%%\n",
     "is_executing": true
    }
   }
  },
  {
   "cell_type": "code",
   "execution_count": 5,
   "outputs": [],
   "source": [
    "from playwright.sync_api import sync_playwright"
   ],
   "metadata": {
    "collapsed": false,
    "pycharm": {
     "name": "#%%\n"
    }
   }
  },
  {
   "cell_type": "code",
   "execution_count": 6,
   "outputs": [
    {
     "ename": "Error",
     "evalue": "It looks like you are using Playwright Sync API inside the asyncio loop.\nPlease use the Async API instead.",
     "output_type": "error",
     "traceback": [
      "\u001B[0;31m---------------------------------------------------------------------------\u001B[0m",
      "\u001B[0;31mError\u001B[0m                                     Traceback (most recent call last)",
      "Input \u001B[0;32mIn [6]\u001B[0m, in \u001B[0;36m<cell line: 1>\u001B[0;34m()\u001B[0m\n\u001B[0;32m----> 1\u001B[0m \u001B[38;5;28;01mwith\u001B[39;00m sync_playwright() \u001B[38;5;28;01mas\u001B[39;00m p:\n\u001B[1;32m      2\u001B[0m     \u001B[38;5;28;01mfor\u001B[39;00m browser_type \u001B[38;5;129;01min\u001B[39;00m [p\u001B[38;5;241m.\u001B[39mchromium, p\u001B[38;5;241m.\u001B[39mfirefox, p\u001B[38;5;241m.\u001B[39mwebkit]:\n\u001B[1;32m      3\u001B[0m         browser \u001B[38;5;241m=\u001B[39m browser_type\u001B[38;5;241m.\u001B[39mlaunch()\n",
      "File \u001B[0;32m~/PycharmProjects/portal_da/venv/lib/python3.8/site-packages/playwright/sync_api/_context_manager.py:44\u001B[0m, in \u001B[0;36mPlaywrightContextManager.__enter__\u001B[0;34m(self)\u001B[0m\n\u001B[1;32m     42\u001B[0m             \u001B[38;5;28mself\u001B[39m\u001B[38;5;241m.\u001B[39m_own_loop \u001B[38;5;241m=\u001B[39m \u001B[38;5;28;01mTrue\u001B[39;00m\n\u001B[1;32m     43\u001B[0m         \u001B[38;5;28;01mif\u001B[39;00m \u001B[38;5;28mself\u001B[39m\u001B[38;5;241m.\u001B[39m_loop\u001B[38;5;241m.\u001B[39mis_running():\n\u001B[0;32m---> 44\u001B[0m             \u001B[38;5;28;01mraise\u001B[39;00m Error(\n\u001B[1;32m     45\u001B[0m                 \u001B[38;5;124;03m\"\"\"It looks like you are using Playwright Sync API inside the asyncio loop.\u001B[39;00m\n\u001B[1;32m     46\u001B[0m \u001B[38;5;124;03mPlease use the Async API instead.\"\"\"\u001B[39;00m\n\u001B[1;32m     47\u001B[0m             )\n\u001B[1;32m     49\u001B[0m         \u001B[38;5;66;03m# In Python 3.7, asyncio.Process.wait() hangs because it does not use ThreadedChildWatcher\u001B[39;00m\n\u001B[1;32m     50\u001B[0m         \u001B[38;5;66;03m# which is used in Python 3.8+. This is unix specific and also takes care about\u001B[39;00m\n\u001B[1;32m     51\u001B[0m         \u001B[38;5;66;03m# cleaning up zombie processes. See https://bugs.python.org/issue35621\u001B[39;00m\n\u001B[1;32m     52\u001B[0m         \u001B[38;5;28;01mif\u001B[39;00m (\n\u001B[1;32m     53\u001B[0m             sys\u001B[38;5;241m.\u001B[39mversion_info[\u001B[38;5;241m0\u001B[39m] \u001B[38;5;241m==\u001B[39m \u001B[38;5;241m3\u001B[39m\n\u001B[1;32m     54\u001B[0m             \u001B[38;5;129;01mand\u001B[39;00m sys\u001B[38;5;241m.\u001B[39mversion_info[\u001B[38;5;241m1\u001B[39m] \u001B[38;5;241m==\u001B[39m \u001B[38;5;241m7\u001B[39m\n\u001B[1;32m     55\u001B[0m             \u001B[38;5;129;01mand\u001B[39;00m sys\u001B[38;5;241m.\u001B[39mplatform \u001B[38;5;241m!=\u001B[39m \u001B[38;5;124m\"\u001B[39m\u001B[38;5;124mwin32\u001B[39m\u001B[38;5;124m\"\u001B[39m\n\u001B[1;32m     56\u001B[0m             \u001B[38;5;129;01mand\u001B[39;00m \u001B[38;5;28misinstance\u001B[39m(asyncio\u001B[38;5;241m.\u001B[39mget_child_watcher(), asyncio\u001B[38;5;241m.\u001B[39mSafeChildWatcher)\n\u001B[1;32m     57\u001B[0m         ):\n",
      "\u001B[0;31mError\u001B[0m: It looks like you are using Playwright Sync API inside the asyncio loop.\nPlease use the Async API instead."
     ]
    }
   ],
   "source": [
    "with sync_playwright() as p:\n",
    "    for browser_type in [p.chromium, p.firefox, p.webkit]:\n",
    "        browser = browser_type.launch()\n",
    "        page = browser.new_page()\n",
    "        page.goto('http://whatsmyuseragent.org/')\n",
    "        page.screenshot(path=f'example-{browser_type.name}.png')\n",
    "        browser.close()"
   ],
   "metadata": {
    "collapsed": false,
    "pycharm": {
     "name": "#%%\n"
    }
   }
  },
  {
   "cell_type": "code",
   "execution_count": null,
   "outputs": [],
   "source": [],
   "metadata": {
    "collapsed": false,
    "pycharm": {
     "name": "#%%\n",
     "is_executing": true
    }
   }
  },
  {
   "cell_type": "code",
   "execution_count": 4,
   "outputs": [],
   "source": [],
   "metadata": {
    "collapsed": false,
    "pycharm": {
     "name": "#%%\n"
    }
   }
  }
 ],
 "metadata": {
  "kernelspec": {
   "name": "portal_da",
   "language": "python",
   "display_name": "portal_da"
  },
  "language_info": {
   "codemirror_mode": {
    "name": "ipython",
    "version": 2
   },
   "file_extension": ".py",
   "mimetype": "text/x-python",
   "name": "python",
   "nbconvert_exporter": "python",
   "pygments_lexer": "ipython2",
   "version": "2.7.6"
  }
 },
 "nbformat": 4,
 "nbformat_minor": 0
}